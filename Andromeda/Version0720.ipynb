{
 "cells": [
  {
   "cell_type": "markdown",
   "metadata": {},
   "source": [
    "# Andromeda in Jupyter\n",
    "\n",
    "### Interactive Inverse Dimension Reduction \n",
    "\n",
    "This notebook implements interactive dimension reduction (DR) for exploratory analysis of high-dimensional data.\n",
    "It uses a Multi-Dimensional Scaling (MDS) algorithm with a weighted distance metric. It enables both forward and inverse DR interaction. \n",
    "\n",
    "**MDS** projects high-dimensional data to a 2D scatterplot. A **weighted distance function** with user-specified weights on each dimension enables alternative projections that emphasize different dimensions. An **Inverse-DR** algorithm learns distance function weights for  user-constructed layouts of the data points.\n",
    "\n",
    "### Instructions:\n",
    "\n",
    "1. Run All\n",
    "1. Proceed to the interactive plots near the bottom\n",
    "1. There are three kinds of interactions:\n",
    "    1. Select points in the DR plot and click Details to see data values.\n",
    "    1. **Parametric interaction:** Adjust the weight sliders and click Apply to alter the projection plot.\n",
    "    1. **Projection interaction:** Drag points in the projection plot, then click Learn to see learned weights, and click Copy to see the updated projection plot.\n",
    "1. Be patient, its interactive matplotlib in python and Jupyter!\n",
    "\n",
    "### Credits:\n",
    "\n",
    "Authors: Han Liu and Chris North, Dept of Computer Science, Virginia Tech.\n",
    "\n",
    "Based on: *Self JZ, Dowling M, Wenskovitch J, Crandell I, Wang M, House L, Leman S, North C. Observation-Level and Parametric Interaction for High-Dimensional Data Analysis. ACM Transactions on Interactive Intelligent Systems.  8(2), 2018.* https://infovis.cs.vt.edu/sites/default/files/observation-level-parametric_first_look_version.pdf\n"
   ]
  },
  {
   "cell_type": "code",
   "execution_count": 1,
   "metadata": {},
   "outputs": [],
   "source": [
    "%matplotlib notebook\n",
    "\n",
    "# interactive notebook format is required for the interactive plot\n",
    "\n",
    "import numpy as np\n",
    "import pandas as pd\n",
    "import math\n",
    "import random\n",
    "import os\n",
    "import cv2\n",
    "import csv\n",
    "\n",
    "from os import listdir\n",
    "from os.path import isfile, join\n",
    "from math import isnan\n",
    "\n",
    "from sklearn.decomposition import PCA\n",
    "from sklearn.manifold import MDS\n",
    "import sklearn.metrics.pairwise\n",
    "\n",
    "import matplotlib\n",
    "import matplotlib.pyplot as plt\n",
    "from matplotlib.offsetbox import OffsetImage, AnnotationBbox\n",
    "from matplotlib.patches import FancyBboxPatch\n",
    "from functools import partial\n",
    "import ipywidgets as widgets\n",
    "from ipywidgets import interact\n",
    "from IPython.display import display, display\n",
    "from IPython.display import Image\n",
    "from ipywidgets import interact\n",
    "# import ipyplot"
   ]
  },
  {
   "cell_type": "markdown",
   "metadata": {},
   "source": [
    "# Load and Pre-process Data\n",
    "\n",
    "Change the **filename** to load a dataset.  CSV data file is expected to have a first column 'Name' that is used as the index, and header row of column names.  Numeric columns are used for projection."
   ]
  },
  {
   "cell_type": "code",
   "execution_count": 2,
   "metadata": {
    "scrolled": true
   },
   "outputs": [],
   "source": [
    "# #Retrieve Images\n",
    "# BatchNumber = 4\n",
    "# dirName = \"./Crop_batch{Batch}_labeled\".format(Batch=BatchNumber)\n",
    "# listOfFiles = list()\n",
    "# numDir = -1  #Change this to 0 if using google drive\n",
    "# directoryCounter = {}\n",
    "# maxNumberData = 20\n",
    "# for (dirpath, dirnames, filenames) in os.walk(dirName):\n",
    "#     listOfFiles += [os.path.join(dirpath, file) for file in filenames]\n",
    "\n",
    "# for f in os.listdir(dirName):\n",
    "#         if os.path.isfile(os.path.join(dirName, f)) == False:\n",
    "#             numDir += 1\n",
    "#             directoryCounter[f] = 0\n",
    "# if '.DS_Store' in directoryCounter:\n",
    "#     del directoryCounter['.DS_Store']\n",
    "    \n",
    "# newpath = r'./dataPointMonitor' \n",
    "# if not os.path.exists(newpath):\n",
    "#     os.makedirs(newpath)\n",
    "    \n",
    "# paths = [ x for x in listOfFiles if \".DS_Store\" not in x ]\n",
    "\n",
    "# #Check for quality of data\n",
    "# activeDir = None\n",
    "# finalDir = []\n",
    "# for image in paths:\n",
    "#     currentDir = image.split('/')[-2]\n",
    "#     #Handle Images from a singular directory\n",
    "#     if directoryCounter[currentDir] <= maxNumberData:\n",
    "#         img = cv2.imread(image)\n",
    "#         fsrc = np.array(img, dtype=np.float32) / 255.0\n",
    "#         (b,g,r) = cv2.split(fsrc)\n",
    "#         gray = 2 * g - b - r + 0.8 * (1.4 * r - b)\n",
    "#         (minVal, maxVal, minLoc, maxLoc) = cv2.minMaxLoc(gray)\n",
    "#         gray_u8 = np.array((gray - minVal) / (maxVal - minVal) * 255, dtype=np.uint8)\n",
    "#         (_, thresh) = cv2.threshold(gray_u8, 0, 255, cv2.THRESH_BINARY+cv2.THRESH_OTSU)\n",
    "#         size = 90\n",
    "#         kernel = cv2.getStructuringElement(cv2.MORPH_RECT, (size, size))\n",
    "#         closed = cv2.morphologyEx(thresh, cv2.MORPH_CLOSE, kernel)\n",
    "#         closed = cv2.erode(closed, None, iterations=4)\n",
    "#         closed = cv2.dilate(closed, None, iterations=4)    \n",
    "#         size = 30\n",
    "#         open_kernel = cv2.getStructuringElement(cv2.MORPH_RECT, (size, size))\n",
    "#         opening = cv2.morphologyEx(closed, cv2.MORPH_OPEN, open_kernel)\n",
    "#         (b8, g8, r8) = cv2.split(img)\n",
    "#         color_img = cv2.merge([b8 & closed, g8 & closed, r8 & closed])\n",
    "#         contours, hierarchy = cv2.findContours(opening.copy(),cv2.RETR_EXTERNAL,cv2.CHAIN_APPROX_SIMPLE)        \n",
    "#         if len(contours[0]) > 300 and contours!=None and contours[0][0][0][0] < 2000:\n",
    "#             finalDir.append(image)\n",
    "#             directoryCounter[currentDir] += 1\n",
    "#             cv2.imwrite(\"./dataPointMonitor/\" + os.path.basename(os.path.normpath(image)), color_img)\n",
    "#         else:\n",
    "#             continue\n",
    "#     else:\n",
    "#         continue"
   ]
  },
  {
   "cell_type": "code",
   "execution_count": 3,
   "metadata": {},
   "outputs": [],
   "source": [
    "imageNames = []\n",
    "for path in finalDir:\n",
    "    imageNames.append(os.path.basename(os.path.normpath(path)))"
   ]
  },
  {
   "cell_type": "code",
   "execution_count": 4,
   "metadata": {},
   "outputs": [],
   "source": [
    "filename = '../csvFiles/ColorHistFeatures_batch5.csv'\n",
    "df = pd.read_csv(filename)\n",
    "paths =  df[\"Image\"].tolist()\n",
    "paths[:] = map(lambda x: \"../testTrainingData_batch5/\" + x + \".jpg\", paths) "
   ]
  },
  {
   "cell_type": "code",
   "execution_count": 5,
   "metadata": {},
   "outputs": [
    {
     "data": {
      "text/plain": [
       "(60, 65)"
      ]
     },
     "metadata": {},
     "output_type": "display_data"
    },
    {
     "data": {
      "text/html": [
       "<div>\n",
       "<style scoped>\n",
       "    .dataframe tbody tr th:only-of-type {\n",
       "        vertical-align: middle;\n",
       "    }\n",
       "\n",
       "    .dataframe tbody tr th {\n",
       "        vertical-align: top;\n",
       "    }\n",
       "\n",
       "    .dataframe thead th {\n",
       "        text-align: right;\n",
       "    }\n",
       "</style>\n",
       "<table border=\"1\" class=\"dataframe\">\n",
       "  <thead>\n",
       "    <tr style=\"text-align: right;\">\n",
       "      <th></th>\n",
       "      <th>Image</th>\n",
       "      <th>(1, 'R=000-063', 'G=000-063', 'B=000-063')</th>\n",
       "      <th>(2, 'R=064-127', 'G=000-063', 'B=000-063')</th>\n",
       "      <th>(3, 'R=128-191', 'G=000-063', 'B=000-063')</th>\n",
       "      <th>(4, 'R=192-255', 'G=000-063', 'B=000-063')</th>\n",
       "      <th>(5, 'R=000-063', 'G=064-127', 'B=000-063')</th>\n",
       "      <th>(6, 'R=064-127', 'G=064-127', 'B=000-063')</th>\n",
       "      <th>(7, 'R=128-191', 'G=064-127', 'B=000-063')</th>\n",
       "      <th>(8, 'R=192-255', 'G=064-127', 'B=000-063')</th>\n",
       "      <th>(9, 'R=000-063', 'G=128-191', 'B=000-063')</th>\n",
       "      <th>...</th>\n",
       "      <th>(55, 'R=128-191', 'G=064-127', 'B=192-255')</th>\n",
       "      <th>(56, 'R=192-255', 'G=064-127', 'B=192-255')</th>\n",
       "      <th>(57, 'R=000-063', 'G=128-191', 'B=192-255')</th>\n",
       "      <th>(58, 'R=064-127', 'G=128-191', 'B=192-255')</th>\n",
       "      <th>(59, 'R=128-191', 'G=128-191', 'B=192-255')</th>\n",
       "      <th>(60, 'R=192-255', 'G=128-191', 'B=192-255')</th>\n",
       "      <th>(61, 'R=000-063', 'G=192-255', 'B=192-255')</th>\n",
       "      <th>(62, 'R=064-127', 'G=192-255', 'B=192-255')</th>\n",
       "      <th>(63, 'R=128-191', 'G=192-255', 'B=192-255')</th>\n",
       "      <th>(64, 'R=192-255', 'G=192-255', 'B=192-255')</th>\n",
       "    </tr>\n",
       "  </thead>\n",
       "  <tbody>\n",
       "    <tr>\n",
       "      <th>0</th>\n",
       "      <td>2098late4</td>\n",
       "      <td>0.154079</td>\n",
       "      <td>0.134543</td>\n",
       "      <td>0.0</td>\n",
       "      <td>0.0</td>\n",
       "      <td>0.000251</td>\n",
       "      <td>0.843422</td>\n",
       "      <td>0.018978</td>\n",
       "      <td>0.0</td>\n",
       "      <td>0.0</td>\n",
       "      <td>...</td>\n",
       "      <td>0.0</td>\n",
       "      <td>0.0</td>\n",
       "      <td>0.0</td>\n",
       "      <td>0.0</td>\n",
       "      <td>0.000000</td>\n",
       "      <td>0.000000</td>\n",
       "      <td>0.0</td>\n",
       "      <td>0.0</td>\n",
       "      <td>0.0</td>\n",
       "      <td>0.000000</td>\n",
       "    </tr>\n",
       "    <tr>\n",
       "      <th>1</th>\n",
       "      <td>2076late6</td>\n",
       "      <td>0.124970</td>\n",
       "      <td>0.091787</td>\n",
       "      <td>0.0</td>\n",
       "      <td>0.0</td>\n",
       "      <td>0.001123</td>\n",
       "      <td>0.589854</td>\n",
       "      <td>0.001193</td>\n",
       "      <td>0.0</td>\n",
       "      <td>0.0</td>\n",
       "      <td>...</td>\n",
       "      <td>0.0</td>\n",
       "      <td>0.0</td>\n",
       "      <td>0.0</td>\n",
       "      <td>0.0</td>\n",
       "      <td>0.000000</td>\n",
       "      <td>0.000000</td>\n",
       "      <td>0.0</td>\n",
       "      <td>0.0</td>\n",
       "      <td>0.0</td>\n",
       "      <td>0.000023</td>\n",
       "    </tr>\n",
       "    <tr>\n",
       "      <th>2</th>\n",
       "      <td>2144disease7</td>\n",
       "      <td>0.023643</td>\n",
       "      <td>0.001976</td>\n",
       "      <td>0.0</td>\n",
       "      <td>0.0</td>\n",
       "      <td>0.000013</td>\n",
       "      <td>0.122168</td>\n",
       "      <td>0.010598</td>\n",
       "      <td>0.0</td>\n",
       "      <td>0.0</td>\n",
       "      <td>...</td>\n",
       "      <td>0.0</td>\n",
       "      <td>0.0</td>\n",
       "      <td>0.0</td>\n",
       "      <td>0.0</td>\n",
       "      <td>0.000000</td>\n",
       "      <td>0.000000</td>\n",
       "      <td>0.0</td>\n",
       "      <td>0.0</td>\n",
       "      <td>0.0</td>\n",
       "      <td>0.000975</td>\n",
       "    </tr>\n",
       "    <tr>\n",
       "      <th>3</th>\n",
       "      <td>2076late5</td>\n",
       "      <td>0.115481</td>\n",
       "      <td>0.020120</td>\n",
       "      <td>0.0</td>\n",
       "      <td>0.0</td>\n",
       "      <td>0.000264</td>\n",
       "      <td>0.397107</td>\n",
       "      <td>0.031032</td>\n",
       "      <td>0.0</td>\n",
       "      <td>0.0</td>\n",
       "      <td>...</td>\n",
       "      <td>0.0</td>\n",
       "      <td>0.0</td>\n",
       "      <td>0.0</td>\n",
       "      <td>0.0</td>\n",
       "      <td>0.000027</td>\n",
       "      <td>0.000007</td>\n",
       "      <td>0.0</td>\n",
       "      <td>0.0</td>\n",
       "      <td>0.0</td>\n",
       "      <td>0.001390</td>\n",
       "    </tr>\n",
       "    <tr>\n",
       "      <th>4</th>\n",
       "      <td>2044ready5</td>\n",
       "      <td>0.035803</td>\n",
       "      <td>0.000950</td>\n",
       "      <td>0.0</td>\n",
       "      <td>0.0</td>\n",
       "      <td>0.004218</td>\n",
       "      <td>0.069289</td>\n",
       "      <td>0.000000</td>\n",
       "      <td>0.0</td>\n",
       "      <td>0.0</td>\n",
       "      <td>...</td>\n",
       "      <td>0.0</td>\n",
       "      <td>0.0</td>\n",
       "      <td>0.0</td>\n",
       "      <td>0.0</td>\n",
       "      <td>0.000000</td>\n",
       "      <td>0.000000</td>\n",
       "      <td>0.0</td>\n",
       "      <td>0.0</td>\n",
       "      <td>0.0</td>\n",
       "      <td>0.000274</td>\n",
       "    </tr>\n",
       "  </tbody>\n",
       "</table>\n",
       "<p>5 rows × 65 columns</p>\n",
       "</div>"
      ],
      "text/plain": [
       "          Image  (1, 'R=000-063', 'G=000-063', 'B=000-063')  \\\n",
       "0     2098late4                                    0.154079   \n",
       "1     2076late6                                    0.124970   \n",
       "2  2144disease7                                    0.023643   \n",
       "3     2076late5                                    0.115481   \n",
       "4    2044ready5                                    0.035803   \n",
       "\n",
       "   (2, 'R=064-127', 'G=000-063', 'B=000-063')  \\\n",
       "0                                    0.134543   \n",
       "1                                    0.091787   \n",
       "2                                    0.001976   \n",
       "3                                    0.020120   \n",
       "4                                    0.000950   \n",
       "\n",
       "   (3, 'R=128-191', 'G=000-063', 'B=000-063')  \\\n",
       "0                                         0.0   \n",
       "1                                         0.0   \n",
       "2                                         0.0   \n",
       "3                                         0.0   \n",
       "4                                         0.0   \n",
       "\n",
       "   (4, 'R=192-255', 'G=000-063', 'B=000-063')  \\\n",
       "0                                         0.0   \n",
       "1                                         0.0   \n",
       "2                                         0.0   \n",
       "3                                         0.0   \n",
       "4                                         0.0   \n",
       "\n",
       "   (5, 'R=000-063', 'G=064-127', 'B=000-063')  \\\n",
       "0                                    0.000251   \n",
       "1                                    0.001123   \n",
       "2                                    0.000013   \n",
       "3                                    0.000264   \n",
       "4                                    0.004218   \n",
       "\n",
       "   (6, 'R=064-127', 'G=064-127', 'B=000-063')  \\\n",
       "0                                    0.843422   \n",
       "1                                    0.589854   \n",
       "2                                    0.122168   \n",
       "3                                    0.397107   \n",
       "4                                    0.069289   \n",
       "\n",
       "   (7, 'R=128-191', 'G=064-127', 'B=000-063')  \\\n",
       "0                                    0.018978   \n",
       "1                                    0.001193   \n",
       "2                                    0.010598   \n",
       "3                                    0.031032   \n",
       "4                                    0.000000   \n",
       "\n",
       "   (8, 'R=192-255', 'G=064-127', 'B=000-063')  \\\n",
       "0                                         0.0   \n",
       "1                                         0.0   \n",
       "2                                         0.0   \n",
       "3                                         0.0   \n",
       "4                                         0.0   \n",
       "\n",
       "   (9, 'R=000-063', 'G=128-191', 'B=000-063')  ...  \\\n",
       "0                                         0.0  ...   \n",
       "1                                         0.0  ...   \n",
       "2                                         0.0  ...   \n",
       "3                                         0.0  ...   \n",
       "4                                         0.0  ...   \n",
       "\n",
       "   (55, 'R=128-191', 'G=064-127', 'B=192-255')  \\\n",
       "0                                          0.0   \n",
       "1                                          0.0   \n",
       "2                                          0.0   \n",
       "3                                          0.0   \n",
       "4                                          0.0   \n",
       "\n",
       "   (56, 'R=192-255', 'G=064-127', 'B=192-255')  \\\n",
       "0                                          0.0   \n",
       "1                                          0.0   \n",
       "2                                          0.0   \n",
       "3                                          0.0   \n",
       "4                                          0.0   \n",
       "\n",
       "   (57, 'R=000-063', 'G=128-191', 'B=192-255')  \\\n",
       "0                                          0.0   \n",
       "1                                          0.0   \n",
       "2                                          0.0   \n",
       "3                                          0.0   \n",
       "4                                          0.0   \n",
       "\n",
       "   (58, 'R=064-127', 'G=128-191', 'B=192-255')  \\\n",
       "0                                          0.0   \n",
       "1                                          0.0   \n",
       "2                                          0.0   \n",
       "3                                          0.0   \n",
       "4                                          0.0   \n",
       "\n",
       "   (59, 'R=128-191', 'G=128-191', 'B=192-255')  \\\n",
       "0                                     0.000000   \n",
       "1                                     0.000000   \n",
       "2                                     0.000000   \n",
       "3                                     0.000027   \n",
       "4                                     0.000000   \n",
       "\n",
       "   (60, 'R=192-255', 'G=128-191', 'B=192-255')  \\\n",
       "0                                     0.000000   \n",
       "1                                     0.000000   \n",
       "2                                     0.000000   \n",
       "3                                     0.000007   \n",
       "4                                     0.000000   \n",
       "\n",
       "   (61, 'R=000-063', 'G=192-255', 'B=192-255')  \\\n",
       "0                                          0.0   \n",
       "1                                          0.0   \n",
       "2                                          0.0   \n",
       "3                                          0.0   \n",
       "4                                          0.0   \n",
       "\n",
       "   (62, 'R=064-127', 'G=192-255', 'B=192-255')  \\\n",
       "0                                          0.0   \n",
       "1                                          0.0   \n",
       "2                                          0.0   \n",
       "3                                          0.0   \n",
       "4                                          0.0   \n",
       "\n",
       "   (63, 'R=128-191', 'G=192-255', 'B=192-255')  \\\n",
       "0                                          0.0   \n",
       "1                                          0.0   \n",
       "2                                          0.0   \n",
       "3                                          0.0   \n",
       "4                                          0.0   \n",
       "\n",
       "   (64, 'R=192-255', 'G=192-255', 'B=192-255')  \n",
       "0                                     0.000000  \n",
       "1                                     0.000023  \n",
       "2                                     0.000975  \n",
       "3                                     0.001390  \n",
       "4                                     0.000274  \n",
       "\n",
       "[5 rows x 65 columns]"
      ]
     },
     "execution_count": 5,
     "metadata": {},
     "output_type": "execute_result"
    }
   ],
   "source": [
    "display(df.shape)\n",
    "df.head()"
   ]
  },
  {
   "cell_type": "code",
   "execution_count": 6,
   "metadata": {},
   "outputs": [
    {
     "name": "stdout",
     "output_type": "stream",
     "text": [
      "Data size (r,c) = (60, 64)\n"
     ]
    },
    {
     "data": {
      "text/html": [
       "<div>\n",
       "<style scoped>\n",
       "    .dataframe tbody tr th:only-of-type {\n",
       "        vertical-align: middle;\n",
       "    }\n",
       "\n",
       "    .dataframe tbody tr th {\n",
       "        vertical-align: top;\n",
       "    }\n",
       "\n",
       "    .dataframe thead th {\n",
       "        text-align: right;\n",
       "    }\n",
       "</style>\n",
       "<table border=\"1\" class=\"dataframe\">\n",
       "  <thead>\n",
       "    <tr style=\"text-align: right;\">\n",
       "      <th></th>\n",
       "      <th>(1, 'R=000-063', 'G=000-063', 'B=000-063')</th>\n",
       "      <th>(2, 'R=064-127', 'G=000-063', 'B=000-063')</th>\n",
       "      <th>(3, 'R=128-191', 'G=000-063', 'B=000-063')</th>\n",
       "      <th>(4, 'R=192-255', 'G=000-063', 'B=000-063')</th>\n",
       "      <th>(5, 'R=000-063', 'G=064-127', 'B=000-063')</th>\n",
       "      <th>(6, 'R=064-127', 'G=064-127', 'B=000-063')</th>\n",
       "      <th>(7, 'R=128-191', 'G=064-127', 'B=000-063')</th>\n",
       "      <th>(8, 'R=192-255', 'G=064-127', 'B=000-063')</th>\n",
       "      <th>(9, 'R=000-063', 'G=128-191', 'B=000-063')</th>\n",
       "      <th>(10, 'R=064-127', 'G=128-191', 'B=000-063')</th>\n",
       "      <th>...</th>\n",
       "      <th>(55, 'R=128-191', 'G=064-127', 'B=192-255')</th>\n",
       "      <th>(56, 'R=192-255', 'G=064-127', 'B=192-255')</th>\n",
       "      <th>(57, 'R=000-063', 'G=128-191', 'B=192-255')</th>\n",
       "      <th>(58, 'R=064-127', 'G=128-191', 'B=192-255')</th>\n",
       "      <th>(59, 'R=128-191', 'G=128-191', 'B=192-255')</th>\n",
       "      <th>(60, 'R=192-255', 'G=128-191', 'B=192-255')</th>\n",
       "      <th>(61, 'R=000-063', 'G=192-255', 'B=192-255')</th>\n",
       "      <th>(62, 'R=064-127', 'G=192-255', 'B=192-255')</th>\n",
       "      <th>(63, 'R=128-191', 'G=192-255', 'B=192-255')</th>\n",
       "      <th>(64, 'R=192-255', 'G=192-255', 'B=192-255')</th>\n",
       "    </tr>\n",
       "    <tr>\n",
       "      <th>Image</th>\n",
       "      <th></th>\n",
       "      <th></th>\n",
       "      <th></th>\n",
       "      <th></th>\n",
       "      <th></th>\n",
       "      <th></th>\n",
       "      <th></th>\n",
       "      <th></th>\n",
       "      <th></th>\n",
       "      <th></th>\n",
       "      <th></th>\n",
       "      <th></th>\n",
       "      <th></th>\n",
       "      <th></th>\n",
       "      <th></th>\n",
       "      <th></th>\n",
       "      <th></th>\n",
       "      <th></th>\n",
       "      <th></th>\n",
       "      <th></th>\n",
       "      <th></th>\n",
       "    </tr>\n",
       "  </thead>\n",
       "  <tbody>\n",
       "    <tr>\n",
       "      <th>2024ready2</th>\n",
       "      <td>0.066384</td>\n",
       "      <td>0.000314</td>\n",
       "      <td>0.0</td>\n",
       "      <td>0.0</td>\n",
       "      <td>0.045520</td>\n",
       "      <td>0.482147</td>\n",
       "      <td>0.000000</td>\n",
       "      <td>0.0</td>\n",
       "      <td>0.0</td>\n",
       "      <td>0.389463</td>\n",
       "      <td>...</td>\n",
       "      <td>0.0</td>\n",
       "      <td>0.0</td>\n",
       "      <td>0.0</td>\n",
       "      <td>0.0</td>\n",
       "      <td>0.0</td>\n",
       "      <td>0.0</td>\n",
       "      <td>0.0</td>\n",
       "      <td>0.0</td>\n",
       "      <td>0.0</td>\n",
       "      <td>0.000299</td>\n",
       "    </tr>\n",
       "    <tr>\n",
       "      <th>2028ready4</th>\n",
       "      <td>0.062463</td>\n",
       "      <td>0.004796</td>\n",
       "      <td>0.0</td>\n",
       "      <td>0.0</td>\n",
       "      <td>0.014316</td>\n",
       "      <td>0.501240</td>\n",
       "      <td>0.001251</td>\n",
       "      <td>0.0</td>\n",
       "      <td>0.0</td>\n",
       "      <td>0.204122</td>\n",
       "      <td>...</td>\n",
       "      <td>0.0</td>\n",
       "      <td>0.0</td>\n",
       "      <td>0.0</td>\n",
       "      <td>0.0</td>\n",
       "      <td>0.0</td>\n",
       "      <td>0.0</td>\n",
       "      <td>0.0</td>\n",
       "      <td>0.0</td>\n",
       "      <td>0.0</td>\n",
       "      <td>0.003680</td>\n",
       "    </tr>\n",
       "    <tr>\n",
       "      <th>2029ready20</th>\n",
       "      <td>0.101462</td>\n",
       "      <td>0.002716</td>\n",
       "      <td>0.0</td>\n",
       "      <td>0.0</td>\n",
       "      <td>0.022101</td>\n",
       "      <td>0.507171</td>\n",
       "      <td>0.000055</td>\n",
       "      <td>0.0</td>\n",
       "      <td>0.0</td>\n",
       "      <td>0.317649</td>\n",
       "      <td>...</td>\n",
       "      <td>0.0</td>\n",
       "      <td>0.0</td>\n",
       "      <td>0.0</td>\n",
       "      <td>0.0</td>\n",
       "      <td>0.0</td>\n",
       "      <td>0.0</td>\n",
       "      <td>0.0</td>\n",
       "      <td>0.0</td>\n",
       "      <td>0.0</td>\n",
       "      <td>0.000358</td>\n",
       "    </tr>\n",
       "    <tr>\n",
       "      <th>2031ready1</th>\n",
       "      <td>0.060517</td>\n",
       "      <td>0.005343</td>\n",
       "      <td>0.0</td>\n",
       "      <td>0.0</td>\n",
       "      <td>0.012882</td>\n",
       "      <td>0.318996</td>\n",
       "      <td>0.000043</td>\n",
       "      <td>0.0</td>\n",
       "      <td>0.0</td>\n",
       "      <td>0.114058</td>\n",
       "      <td>...</td>\n",
       "      <td>0.0</td>\n",
       "      <td>0.0</td>\n",
       "      <td>0.0</td>\n",
       "      <td>0.0</td>\n",
       "      <td>0.0</td>\n",
       "      <td>0.0</td>\n",
       "      <td>0.0</td>\n",
       "      <td>0.0</td>\n",
       "      <td>0.0</td>\n",
       "      <td>0.000454</td>\n",
       "    </tr>\n",
       "    <tr>\n",
       "      <th>2033ready9</th>\n",
       "      <td>0.052733</td>\n",
       "      <td>0.000097</td>\n",
       "      <td>0.0</td>\n",
       "      <td>0.0</td>\n",
       "      <td>0.003913</td>\n",
       "      <td>0.091264</td>\n",
       "      <td>0.000000</td>\n",
       "      <td>0.0</td>\n",
       "      <td>0.0</td>\n",
       "      <td>0.048161</td>\n",
       "      <td>...</td>\n",
       "      <td>0.0</td>\n",
       "      <td>0.0</td>\n",
       "      <td>0.0</td>\n",
       "      <td>0.0</td>\n",
       "      <td>0.0</td>\n",
       "      <td>0.0</td>\n",
       "      <td>0.0</td>\n",
       "      <td>0.0</td>\n",
       "      <td>0.0</td>\n",
       "      <td>0.000032</td>\n",
       "    </tr>\n",
       "  </tbody>\n",
       "</table>\n",
       "<p>5 rows × 64 columns</p>\n",
       "</div>"
      ],
      "text/plain": [
       "             (1, 'R=000-063', 'G=000-063', 'B=000-063')  \\\n",
       "Image                                                     \n",
       "2024ready2                                     0.066384   \n",
       "2028ready4                                     0.062463   \n",
       "2029ready20                                    0.101462   \n",
       "2031ready1                                     0.060517   \n",
       "2033ready9                                     0.052733   \n",
       "\n",
       "             (2, 'R=064-127', 'G=000-063', 'B=000-063')  \\\n",
       "Image                                                     \n",
       "2024ready2                                     0.000314   \n",
       "2028ready4                                     0.004796   \n",
       "2029ready20                                    0.002716   \n",
       "2031ready1                                     0.005343   \n",
       "2033ready9                                     0.000097   \n",
       "\n",
       "             (3, 'R=128-191', 'G=000-063', 'B=000-063')  \\\n",
       "Image                                                     \n",
       "2024ready2                                          0.0   \n",
       "2028ready4                                          0.0   \n",
       "2029ready20                                         0.0   \n",
       "2031ready1                                          0.0   \n",
       "2033ready9                                          0.0   \n",
       "\n",
       "             (4, 'R=192-255', 'G=000-063', 'B=000-063')  \\\n",
       "Image                                                     \n",
       "2024ready2                                          0.0   \n",
       "2028ready4                                          0.0   \n",
       "2029ready20                                         0.0   \n",
       "2031ready1                                          0.0   \n",
       "2033ready9                                          0.0   \n",
       "\n",
       "             (5, 'R=000-063', 'G=064-127', 'B=000-063')  \\\n",
       "Image                                                     \n",
       "2024ready2                                     0.045520   \n",
       "2028ready4                                     0.014316   \n",
       "2029ready20                                    0.022101   \n",
       "2031ready1                                     0.012882   \n",
       "2033ready9                                     0.003913   \n",
       "\n",
       "             (6, 'R=064-127', 'G=064-127', 'B=000-063')  \\\n",
       "Image                                                     \n",
       "2024ready2                                     0.482147   \n",
       "2028ready4                                     0.501240   \n",
       "2029ready20                                    0.507171   \n",
       "2031ready1                                     0.318996   \n",
       "2033ready9                                     0.091264   \n",
       "\n",
       "             (7, 'R=128-191', 'G=064-127', 'B=000-063')  \\\n",
       "Image                                                     \n",
       "2024ready2                                     0.000000   \n",
       "2028ready4                                     0.001251   \n",
       "2029ready20                                    0.000055   \n",
       "2031ready1                                     0.000043   \n",
       "2033ready9                                     0.000000   \n",
       "\n",
       "             (8, 'R=192-255', 'G=064-127', 'B=000-063')  \\\n",
       "Image                                                     \n",
       "2024ready2                                          0.0   \n",
       "2028ready4                                          0.0   \n",
       "2029ready20                                         0.0   \n",
       "2031ready1                                          0.0   \n",
       "2033ready9                                          0.0   \n",
       "\n",
       "             (9, 'R=000-063', 'G=128-191', 'B=000-063')  \\\n",
       "Image                                                     \n",
       "2024ready2                                          0.0   \n",
       "2028ready4                                          0.0   \n",
       "2029ready20                                         0.0   \n",
       "2031ready1                                          0.0   \n",
       "2033ready9                                          0.0   \n",
       "\n",
       "             (10, 'R=064-127', 'G=128-191', 'B=000-063')  ...  \\\n",
       "Image                                                     ...   \n",
       "2024ready2                                      0.389463  ...   \n",
       "2028ready4                                      0.204122  ...   \n",
       "2029ready20                                     0.317649  ...   \n",
       "2031ready1                                      0.114058  ...   \n",
       "2033ready9                                      0.048161  ...   \n",
       "\n",
       "             (55, 'R=128-191', 'G=064-127', 'B=192-255')  \\\n",
       "Image                                                      \n",
       "2024ready2                                           0.0   \n",
       "2028ready4                                           0.0   \n",
       "2029ready20                                          0.0   \n",
       "2031ready1                                           0.0   \n",
       "2033ready9                                           0.0   \n",
       "\n",
       "             (56, 'R=192-255', 'G=064-127', 'B=192-255')  \\\n",
       "Image                                                      \n",
       "2024ready2                                           0.0   \n",
       "2028ready4                                           0.0   \n",
       "2029ready20                                          0.0   \n",
       "2031ready1                                           0.0   \n",
       "2033ready9                                           0.0   \n",
       "\n",
       "             (57, 'R=000-063', 'G=128-191', 'B=192-255')  \\\n",
       "Image                                                      \n",
       "2024ready2                                           0.0   \n",
       "2028ready4                                           0.0   \n",
       "2029ready20                                          0.0   \n",
       "2031ready1                                           0.0   \n",
       "2033ready9                                           0.0   \n",
       "\n",
       "             (58, 'R=064-127', 'G=128-191', 'B=192-255')  \\\n",
       "Image                                                      \n",
       "2024ready2                                           0.0   \n",
       "2028ready4                                           0.0   \n",
       "2029ready20                                          0.0   \n",
       "2031ready1                                           0.0   \n",
       "2033ready9                                           0.0   \n",
       "\n",
       "             (59, 'R=128-191', 'G=128-191', 'B=192-255')  \\\n",
       "Image                                                      \n",
       "2024ready2                                           0.0   \n",
       "2028ready4                                           0.0   \n",
       "2029ready20                                          0.0   \n",
       "2031ready1                                           0.0   \n",
       "2033ready9                                           0.0   \n",
       "\n",
       "             (60, 'R=192-255', 'G=128-191', 'B=192-255')  \\\n",
       "Image                                                      \n",
       "2024ready2                                           0.0   \n",
       "2028ready4                                           0.0   \n",
       "2029ready20                                          0.0   \n",
       "2031ready1                                           0.0   \n",
       "2033ready9                                           0.0   \n",
       "\n",
       "             (61, 'R=000-063', 'G=192-255', 'B=192-255')  \\\n",
       "Image                                                      \n",
       "2024ready2                                           0.0   \n",
       "2028ready4                                           0.0   \n",
       "2029ready20                                          0.0   \n",
       "2031ready1                                           0.0   \n",
       "2033ready9                                           0.0   \n",
       "\n",
       "             (62, 'R=064-127', 'G=192-255', 'B=192-255')  \\\n",
       "Image                                                      \n",
       "2024ready2                                           0.0   \n",
       "2028ready4                                           0.0   \n",
       "2029ready20                                          0.0   \n",
       "2031ready1                                           0.0   \n",
       "2033ready9                                           0.0   \n",
       "\n",
       "             (63, 'R=128-191', 'G=192-255', 'B=192-255')  \\\n",
       "Image                                                      \n",
       "2024ready2                                           0.0   \n",
       "2028ready4                                           0.0   \n",
       "2029ready20                                          0.0   \n",
       "2031ready1                                           0.0   \n",
       "2033ready9                                           0.0   \n",
       "\n",
       "             (64, 'R=192-255', 'G=192-255', 'B=192-255')  \n",
       "Image                                                     \n",
       "2024ready2                                      0.000299  \n",
       "2028ready4                                      0.003680  \n",
       "2029ready20                                     0.000358  \n",
       "2031ready1                                      0.000454  \n",
       "2033ready9                                      0.000032  \n",
       "\n",
       "[5 rows x 64 columns]"
      ]
     },
     "execution_count": 6,
     "metadata": {},
     "output_type": "execute_result"
    }
   ],
   "source": [
    "# Use 'Name' column as index\n",
    "#df.rename(columns={df.columns[0]:'Name'}, inplace=True)\n",
    "df.set_index('Image', inplace=True)\n",
    "\n",
    "# Sort rows and columns\n",
    "# df.sort_index(axis=1, inplace=True)\n",
    "df.sort_index(inplace=True)\n",
    "\n",
    "df_numeric = df.select_dtypes(include='number')  #'int32' or 'int64' or 'float32' or 'float64'\n",
    "df_category = df.select_dtypes(exclude='number') #'object'\n",
    "\n",
    "# Z-score normalization\n",
    "#normalized_df = (df_numeric - df_numeric.mean()) / df_numeric.std()\n",
    "normalized_df = df_numeric  # do not normalize animal dataset, all columns are 0-100 scale\n",
    "\n",
    "print('Data size (r,c) =', df_numeric.shape)\n",
    "df_numeric.head()"
   ]
  },
  {
   "cell_type": "markdown",
   "metadata": {},
   "source": [
    "#  Dimension Reduction Model:  Weighted MDS\n",
    "\n",
    "For DR, we use the Multi-Dimensional Scaling (MDS) algorithm on a weighted data space. **Dimension weights** are applied to the high-dimensional (HD) data.  Weights are normalized to sum to 1, so as to normalize the HD distances to roughly constant size space independent of p.\n",
    "\n",
    "The **distance function for the high-dimensional (HD) data** is L1 manhattan distance. L1 is good for general purpose use with multi-dimensional quantitative datasets. \n",
    "\n",
    "The **distance function for the 2D projected points** is L2 Euclidean distance, which makes sense for human percpetion in the plot."
   ]
  },
  {
   "cell_type": "code",
   "execution_count": 7,
   "metadata": {},
   "outputs": [],
   "source": [
    "# Compute the distance matrix for the weighted high-dimensional data using L1 distance function.\n",
    "#  Input HD data should already be weighted.\n",
    "def distance_matrix_HD(dataHDw):  # dataHDw (pandas or numpy) -> distance matrix (numpy)\n",
    "    dist_matrix = sklearn.metrics.pairwise.manhattan_distances(dataHDw)\n",
    "    #m = pd.DataFrame(m, columns=dataHD.index, index=dataHD.index)  # keep as np array for performance\n",
    "    return dist_matrix\n",
    "\n",
    "# Compute the distance matrix for 2D projected data using L2 distance function.\n",
    "def distance_matrix_2D(data2D):  # data2d (pandas or numpy) -> distance matrix (numpy)\n",
    "    dist_matrix = sklearn.metrics.pairwise.euclidean_distances(data2D) \n",
    "    #m = pd.DataFrame(m, columns=data2D.index, index=data2D.index) # keep as np array for performance\n",
    "    return dist_matrix\n",
    "\n",
    "#def dist(x,y):\n",
    "#    return np.linalg.norm(x-y, ord=2)"
   ]
  },
  {
   "cell_type": "markdown",
   "metadata": {},
   "source": [
    "**MDS** projects the weighted high-dimensional data to 2D. Tune the algorithm's parameters for performance."
   ]
  },
  {
   "cell_type": "code",
   "execution_count": 8,
   "metadata": {},
   "outputs": [],
   "source": [
    "# Calculate the MDS stress metric between HD and 2D distances.  Uses numpy for efficiency.\n",
    "def stress(distHD, dist2D):  #  distHD, dist2D (numpy) -> stress (float)\n",
    "    #s = np.sqrt((distHD-dist2D).pow(2).sum().sum() / distHD.pow(2).sum().sum())  # pandas\n",
    "    #s = np.sqrt(((distHD-dist2D)**2).sum() / (distHD**2).sum())   # numpy\n",
    "    s = ((distHD-dist2D)**2).sum() / (distHD**2).sum()   # numpy, eliminate sqrt for efficiency\n",
    "    return s\n",
    "\n",
    "def compute_mds(dataHDw):  # dataHDw -> data2D (pandas)\n",
    "    distHD = distance_matrix_HD(dataHDw)\n",
    "    # Adjust these parameters for performance/accuracy tradeoff\n",
    "    mds = sklearn.manifold.MDS(n_components=2, dissimilarity='precomputed', n_init=10, max_iter=1000)\n",
    "    # Reduction algorithm happens here:  data2D is nx2 matrix\n",
    "    data2D = mds.fit_transform(distHD)\n",
    "    \n",
    "    # Rotate the resulting 2D projection to make it more consistent across multiple runs.\n",
    "    # Set the 1st PC to the y axis, plot looks better to spread data vertically with horizontal text labels\n",
    "    pca = sklearn.decomposition.PCA(n_components=2)\n",
    "    data2D = pca.fit_transform(data2D)\n",
    "    data2D = pd.DataFrame(data2D, columns=['y','x'], index=dataHDw.index)\n",
    "    \n",
    "    data2D.stress_value = stress(distHD, distance_matrix_2D(data2D))\n",
    "    return data2D\n",
    "\n",
    "def dimension_reduction(dataHD, wts): # dataHD, wts -> data2D (pandas)\n",
    "    # Normalize the weights to sum to 1\n",
    "    wts = wts/wts.sum()\n",
    "    \n",
    "    # Apply weights to the HD data \n",
    "    dataHDw = dataHD * wts\n",
    "    \n",
    "    # DR algorithm\n",
    "    data2D = compute_mds(dataHDw)\n",
    "\n",
    "    # Compute row relevances as:  data dot weights\n",
    "    # High relevance means large values in upweighted dimensions\n",
    "    data2D['relevance'] = dataHDw.sum(axis=1)\n",
    "    return data2D\n",
    "\n",
    "\n",
    "min_weight, max_weight = 0.00001, 0.9999\n",
    "init_weight = min_weight  # 1.0/len(normalized_df.columns) # initialize to min to make the sliders easier to use.\n",
    "weights = pd.Series(init_weight, index=normalized_df.columns, name=\"Weight\")  # the current weight list\n",
    "\n",
    "df_2D = dimension_reduction(normalized_df, weights)   # the current projected data"
   ]
  },
  {
   "cell_type": "code",
   "execution_count": 9,
   "metadata": {},
   "outputs": [
    {
     "data": {
      "text/plain": [
       "(1, 'R=000-063', 'G=000-063', 'B=000-063')    0.00001\n",
       "(2, 'R=064-127', 'G=000-063', 'B=000-063')    0.00001\n",
       "Name: Weight, dtype: float64"
      ]
     },
     "execution_count": 9,
     "metadata": {},
     "output_type": "execute_result"
    }
   ],
   "source": [
    "weights.head(2)"
   ]
  },
  {
   "cell_type": "code",
   "execution_count": 10,
   "metadata": {},
   "outputs": [
    {
     "data": {
      "text/html": [
       "<div>\n",
       "<style scoped>\n",
       "    .dataframe tbody tr th:only-of-type {\n",
       "        vertical-align: middle;\n",
       "    }\n",
       "\n",
       "    .dataframe tbody tr th {\n",
       "        vertical-align: top;\n",
       "    }\n",
       "\n",
       "    .dataframe thead th {\n",
       "        text-align: right;\n",
       "    }\n",
       "</style>\n",
       "<table border=\"1\" class=\"dataframe\">\n",
       "  <thead>\n",
       "    <tr style=\"text-align: right;\">\n",
       "      <th>Image</th>\n",
       "      <th>2024ready2</th>\n",
       "      <th>2028ready4</th>\n",
       "      <th>2029ready20</th>\n",
       "      <th>2031ready1</th>\n",
       "      <th>2033ready9</th>\n",
       "      <th>2034ready5</th>\n",
       "      <th>2036ready18</th>\n",
       "      <th>2038ready15</th>\n",
       "      <th>2038ready3</th>\n",
       "      <th>2039ready12</th>\n",
       "      <th>...</th>\n",
       "      <th>2147disease15</th>\n",
       "      <th>2147disease2</th>\n",
       "      <th>2147disease4</th>\n",
       "      <th>2147disease5</th>\n",
       "      <th>2147disease6</th>\n",
       "      <th>2147disease7</th>\n",
       "      <th>2148disease11</th>\n",
       "      <th>2148disease12</th>\n",
       "      <th>2148disease13</th>\n",
       "      <th>2148disease17</th>\n",
       "    </tr>\n",
       "    <tr>\n",
       "      <th>Image</th>\n",
       "      <th></th>\n",
       "      <th></th>\n",
       "      <th></th>\n",
       "      <th></th>\n",
       "      <th></th>\n",
       "      <th></th>\n",
       "      <th></th>\n",
       "      <th></th>\n",
       "      <th></th>\n",
       "      <th></th>\n",
       "      <th></th>\n",
       "      <th></th>\n",
       "      <th></th>\n",
       "      <th></th>\n",
       "      <th></th>\n",
       "      <th></th>\n",
       "      <th></th>\n",
       "      <th></th>\n",
       "      <th></th>\n",
       "      <th></th>\n",
       "      <th></th>\n",
       "    </tr>\n",
       "  </thead>\n",
       "  <tbody>\n",
       "    <tr>\n",
       "      <th>2024ready2</th>\n",
       "      <td>0.000000</td>\n",
       "      <td>0.013266</td>\n",
       "      <td>0.004420</td>\n",
       "      <td>0.013407</td>\n",
       "      <td>0.018945</td>\n",
       "      <td>0.020138</td>\n",
       "      <td>0.028648</td>\n",
       "      <td>0.026214</td>\n",
       "      <td>0.034378</td>\n",
       "      <td>0.023662</td>\n",
       "      <td>...</td>\n",
       "      <td>0.018501</td>\n",
       "      <td>0.039315</td>\n",
       "      <td>0.030771</td>\n",
       "      <td>0.027960</td>\n",
       "      <td>0.027645</td>\n",
       "      <td>0.036596</td>\n",
       "      <td>0.027091</td>\n",
       "      <td>0.032667</td>\n",
       "      <td>0.026776</td>\n",
       "      <td>0.033625</td>\n",
       "    </tr>\n",
       "    <tr>\n",
       "      <th>2028ready4</th>\n",
       "      <td>0.013266</td>\n",
       "      <td>0.000000</td>\n",
       "      <td>0.010587</td>\n",
       "      <td>0.017827</td>\n",
       "      <td>0.020752</td>\n",
       "      <td>0.019850</td>\n",
       "      <td>0.034301</td>\n",
       "      <td>0.026414</td>\n",
       "      <td>0.034206</td>\n",
       "      <td>0.029417</td>\n",
       "      <td>...</td>\n",
       "      <td>0.021356</td>\n",
       "      <td>0.038849</td>\n",
       "      <td>0.028809</td>\n",
       "      <td>0.025455</td>\n",
       "      <td>0.024768</td>\n",
       "      <td>0.036168</td>\n",
       "      <td>0.026494</td>\n",
       "      <td>0.029739</td>\n",
       "      <td>0.025019</td>\n",
       "      <td>0.031694</td>\n",
       "    </tr>\n",
       "  </tbody>\n",
       "</table>\n",
       "<p>2 rows × 60 columns</p>\n",
       "</div>"
      ],
      "text/plain": [
       "Image       2024ready2  2028ready4  2029ready20  2031ready1  2033ready9  \\\n",
       "Image                                                                     \n",
       "2024ready2    0.000000    0.013266     0.004420    0.013407    0.018945   \n",
       "2028ready4    0.013266    0.000000     0.010587    0.017827    0.020752   \n",
       "\n",
       "Image       2034ready5  2036ready18  2038ready15  2038ready3  2039ready12  \\\n",
       "Image                                                                       \n",
       "2024ready2    0.020138     0.028648     0.026214    0.034378     0.023662   \n",
       "2028ready4    0.019850     0.034301     0.026414    0.034206     0.029417   \n",
       "\n",
       "Image       ...  2147disease15  2147disease2  2147disease4  2147disease5  \\\n",
       "Image       ...                                                            \n",
       "2024ready2  ...       0.018501      0.039315      0.030771      0.027960   \n",
       "2028ready4  ...       0.021356      0.038849      0.028809      0.025455   \n",
       "\n",
       "Image       2147disease6  2147disease7  2148disease11  2148disease12  \\\n",
       "Image                                                                  \n",
       "2024ready2      0.027645      0.036596       0.027091       0.032667   \n",
       "2028ready4      0.024768      0.036168       0.026494       0.029739   \n",
       "\n",
       "Image       2148disease13  2148disease17  \n",
       "Image                                     \n",
       "2024ready2       0.026776       0.033625  \n",
       "2028ready4       0.025019       0.031694  \n",
       "\n",
       "[2 rows x 60 columns]"
      ]
     },
     "execution_count": 10,
     "metadata": {},
     "output_type": "execute_result"
    }
   ],
   "source": [
    "pd.DataFrame(distance_matrix_HD(normalized_df * (weights/weights.sum())), \n",
    "             columns=normalized_df.index, index=normalized_df.index).head(2)"
   ]
  },
  {
   "cell_type": "code",
   "execution_count": 11,
   "metadata": {},
   "outputs": [
    {
     "name": "stdout",
     "output_type": "stream",
     "text": [
      "0.02303284489679571\n"
     ]
    },
    {
     "data": {
      "text/html": [
       "<div>\n",
       "<style scoped>\n",
       "    .dataframe tbody tr th:only-of-type {\n",
       "        vertical-align: middle;\n",
       "    }\n",
       "\n",
       "    .dataframe tbody tr th {\n",
       "        vertical-align: top;\n",
       "    }\n",
       "\n",
       "    .dataframe thead th {\n",
       "        text-align: right;\n",
       "    }\n",
       "</style>\n",
       "<table border=\"1\" class=\"dataframe\">\n",
       "  <thead>\n",
       "    <tr style=\"text-align: right;\">\n",
       "      <th></th>\n",
       "      <th>y</th>\n",
       "      <th>x</th>\n",
       "      <th>relevance</th>\n",
       "    </tr>\n",
       "    <tr>\n",
       "      <th>Image</th>\n",
       "      <th></th>\n",
       "      <th></th>\n",
       "      <th></th>\n",
       "    </tr>\n",
       "  </thead>\n",
       "  <tbody>\n",
       "    <tr>\n",
       "      <th>2024ready2</th>\n",
       "      <td>-0.012007</td>\n",
       "      <td>0.019482</td>\n",
       "      <td>0.032902</td>\n",
       "    </tr>\n",
       "    <tr>\n",
       "      <th>2028ready4</th>\n",
       "      <td>-0.017201</td>\n",
       "      <td>0.015349</td>\n",
       "      <td>0.033723</td>\n",
       "    </tr>\n",
       "  </tbody>\n",
       "</table>\n",
       "</div>"
      ],
      "text/plain": [
       "                   y         x  relevance\n",
       "Image                                    \n",
       "2024ready2 -0.012007  0.019482   0.032902\n",
       "2028ready4 -0.017201  0.015349   0.033723"
      ]
     },
     "execution_count": 11,
     "metadata": {},
     "output_type": "execute_result"
    }
   ],
   "source": [
    "print(df_2D.stress_value)\n",
    "df_2D.head(2)"
   ]
  },
  {
   "cell_type": "markdown",
   "metadata": {},
   "source": [
    "# Inverse Dimension-Reduction Learning Algorithm\n",
    "\n",
    "Computes the inverse-Dimension-Reduction: given input 2D points, compute new weights.\n",
    "Optimizes the MDS stress function that compares 2D pairwise distances (||$x_i-x_j||$) to weighted HD pairwise distances ($d_{ij}$):\n",
    "![Stress](https://wikimedia.org/api/rest_v1/media/math/render/svg/7989b3afc0d8795a78c1631c7e807f260d9cfe68)\n",
    "\n",
    "Technically, we compute the inverse weighted distance function. We shortcut the optimization by eliminating MDS from the process, and assume that the user input 2D distances are actually the desired HD distances, not the 2D distances after re-projection. Thus, given the input (HD) distances, we find weights that would produce these distances in the HD space."
   ]
  },
  {
   "cell_type": "code",
   "execution_count": 12,
   "metadata": {},
   "outputs": [],
   "source": [
    "# This method is used to propose a new weight for current column in a smart fashion\n",
    "def new_proposal(current, step, direction):\n",
    "    return np.clip(current + direction*step*random.random(), 0.00001, 0.9999)\n",
    "\n",
    "# Repeatedly tries to modify each dim weight to see if it improves the stress, thus\n",
    "# getting the weighted high-dim distances to more closely match the input 2D distances.\n",
    "#   dataHD = high-dim data, as pandas\n",
    "#   data2D = 2D data input, as pandas\n",
    "#   weights = as pandas series, or None for weights[i]=1/p\n",
    "def inverse_DR(dataHD, data2D, curWeights=None):  # -> new weights, as Series\n",
    "    dist2D = distance_matrix_2D(data2D)  # compute 2D distances only once\n",
    "    col_names = dataHD.columns\n",
    "    dataHD = dataHD.to_numpy()  # use numpy for efficiency\n",
    "    row, col = dataHD.shape\n",
    "    \n",
    "    if curWeights==None:\n",
    "        curWeights = np.array([1.0/col]*col)  # default weights = 1/p\n",
    "    else:\n",
    "        curWeights = curWeights.to_numpy()\n",
    "        curWeights = curWeights / curWeights.sum()  # Normalize weights to sum to 1\n",
    "    newWeights = curWeights.copy()  # re-use this array for efficiency\n",
    "    \n",
    "    # Initialize state\n",
    "    flag = [0]*col         # degree of success of a weight change\n",
    "    direction = [1]*col  # direction to move a weight, pos or neg\n",
    "    step = [1.0/col]*col   # how much to change each weight\n",
    "    \n",
    "    dataHDw = dataHD * curWeights   # weighted space, re-use this array for efficiency\n",
    "    distHD = distance_matrix_HD(dataHDw)\n",
    "    curStress = stress(distHD, dist2D)\n",
    "    print('Starting stress =', curStress, 'Processing...')\n",
    "\n",
    "    MAX = 500   # default setting of the number of iterations\n",
    "\n",
    "    # Try to minorly adjust each weight to see if it reduces stress\n",
    "    for i in range(MAX):\n",
    "        for dim in range(col):            \n",
    "            # Get a new weight for current column\n",
    "            nw = new_proposal(curWeights[dim], step[dim], direction[dim])\n",
    "            \n",
    "            # Scale the weight list such that it sums to 1\n",
    "            #newWeights = curWeights.copy()  # avoid extra copy op using math below\n",
    "            #newWeights[dim] = nw\n",
    "            #newWeights = newWeights / s\n",
    "            s = 1.0  + nw - curWeights[dim]   # 1.0 == curWeights.sum()\n",
    "            np.true_divide(curWeights, s, out=newWeights)  # transfers to other array, while doing /\n",
    "            newWeights[dim] = nw / s\n",
    "            \n",
    "            # Apply new weights to HD data\n",
    "            np.multiply(dataHD, newWeights, out=dataHDw)  # dataHDw = dataHD * newWeights; efficiently reuses dataHDw array\n",
    "            distHD = distance_matrix_HD(dataHDw)\n",
    "\n",
    "            # Get the new stress\n",
    "            newStress = stress(distHD, dist2D)\n",
    "            \n",
    "            # If new stress is lower, then update weights and flag this success\n",
    "            if newStress < curStress:\n",
    "                temp = curWeights\n",
    "                curWeights = newWeights\n",
    "                newWeights = temp   # reuse the old array next iteration\n",
    "                curStress = newStress\n",
    "                flag[dim] = flag[dim] + 1\n",
    "            else:\n",
    "                flag[dim] = flag[dim] - 1\n",
    "                direction[dim] = -direction[dim]  # Reverse course\n",
    "    \n",
    "            # If recent success, then speed up the step rate\n",
    "            if flag[dim] >= 5:\n",
    "                step[dim] = step[dim] * 2\n",
    "                flag[dim] = 0\n",
    "            elif flag[dim] <= -5:\n",
    "                step[dim] = step[dim] / 2\n",
    "                flag[dim] = 0\n",
    "                \n",
    "    print('Solution stress =', curStress, 'Done.')\n",
    "    #print(\"weight\", curWeights)\n",
    "    #print(\"flag\", flag)\n",
    "    #print(\"dir\", direction)\n",
    "    #print(\"step\", step)\n",
    "    return pd.Series(curWeights, index=col_names, name=\"Weight\")\n"
   ]
  },
  {
   "cell_type": "markdown",
   "metadata": {},
   "source": [
    "# Visualization and UI code\n",
    "\n",
    "Use these functions to create the GUI components in any cell."
   ]
  },
  {
   "cell_type": "markdown",
   "metadata": {},
   "source": [
    "## Sliders"
   ]
  },
  {
   "cell_type": "code",
   "execution_count": 13,
   "metadata": {},
   "outputs": [],
   "source": [
    "def create_sliders(wts):\n",
    "    # Create sliders, one for each dimension weight\n",
    "    sliders = [widgets.FloatSlider(min=min_weight, max=max_weight, step=0.01, value=value, \n",
    "                                       description=label, continuous_update=False, readout_format='.5f')\n",
    "                   for (label, value) in wts.iteritems()]\n",
    "    # Display sliders\n",
    "    for s in sliders:\n",
    "        display(s)\n",
    "    return sliders\n",
    "\n",
    "def create_slider_buttons(sliders, thresh=20, version=None): \n",
    "    create_slider_buttons.thresh = thresh\n",
    "    apply_button = widgets.Button(description='Apply Slider Weights')\n",
    "    reset_button = widgets.Button(description='Reset Plot')\n",
    "    download_impbutton = widgets.Button(description='Save Important Weights')\n",
    "    download_allbutton = widgets.Button(description='Save Weights')\n",
    "    load_button = widgets.Button(description='Load Weights')\n",
    "    \n",
    "\n",
    "\n",
    "    # Callback functions\n",
    "    def apply_button_clicked(change):\n",
    "        # Use the slider values to re compute the DR and redraw the plot\n",
    "        global weights, df_2D, paths   # Update weights and df_2D globals\n",
    "        weights = pd.Series([s.value for s in sliders], index=normalized_df.columns, name='Weight')\n",
    "        df_2D = dimension_reduction(normalized_df, weights)   \n",
    "        \n",
    "        # Re-draw the plot\n",
    "        draw_plot(plot_ax, df_2D, paths, toggle_title.value)\n",
    "    apply_button.on_click(apply_button_clicked)\n",
    "\n",
    "    def reset_button_clicked(change):\n",
    "        # Reset all sliders to initial value and re-compute DR and re-draw the plot\n",
    "        for s in sliders:\n",
    "            s.value = init_weight\n",
    "        apply_button_clicked(change)\n",
    "    reset_button.on_click(reset_button_clicked)\n",
    "    \n",
    "    def download_impbutton_clicked(change):\n",
    "        # Download .csv file with reletively important weights\n",
    "        thresh = create_slider_buttons.thresh\n",
    "        csv_columns = ['Index','Weight']\n",
    "        csv_file = \"SliderWeights.csv\"\n",
    "        slider_dict = {}\n",
    "        final_slider_dict = {}\n",
    "        for s in sliders:\n",
    "            slider_dict[s.description] = s.value\n",
    "            \n",
    "        for key in slider_dict.keys():\n",
    "            if slider_dict[key] > (thresh/100)*max(slider_dict.values()):\n",
    "                final_slider_dict[key] = slider_dict[key]\n",
    "        (pd.DataFrame.from_dict(data=final_slider_dict, orient='index')\n",
    "         .to_csv(csv_file, header=True))     \n",
    "    download_impbutton.on_click(download_impbutton_clicked)\n",
    "    \n",
    "    def download_allbutton_clicked(change):\n",
    "        newpath = r'./WeightsDirectory' \n",
    "        if not os.path.exists(newpath):\n",
    "            os.makedirs(newpath)\n",
    "        \n",
    "        list_of_files = sorted( filter( lambda x: os.path.isfile(os.path.join(newpath, x)),\n",
    "                        os.listdir(newpath)))\n",
    "        if list_of_files[-1][-5].isnumeric() == False:\n",
    "            version_number = 0\n",
    "        else:\n",
    "            version_number = int(list_of_files[-1][-5]) + 1\n",
    "\n",
    "        # Download .csv file with reletively important weights\n",
    "        thresh = create_slider_buttons.thresh\n",
    "        csv_columns = ['Index','Weight']\n",
    "        csv_file = \"./WeightsDirectory/AllSliderWeights_Version_{version}.csv\".format(version = str(version_number))\n",
    "        slider_dict = {}\n",
    "        for s in sliders:\n",
    "            slider_dict[s.description] = s.value\n",
    "        (pd.DataFrame.from_dict(data=slider_dict, orient='index')\n",
    "          .to_csv(csv_file, header=True))     \n",
    "    download_allbutton.on_click(download_allbutton_clicked)\n",
    "    \n",
    "    def load_button_clicked(change):   \n",
    "        newpath = r'./WeightsDirectory' \n",
    "        list_of_files = sorted( filter( lambda x: os.path.isfile(os.path.join(newpath, x)),\n",
    "                        os.listdir(newpath)))\n",
    "        file_exists = False\n",
    "        for file in list_of_files:\n",
    "            if file[-5] != 'S' and int(file[-5]) == version:\n",
    "                file_exists = True\n",
    "                break\n",
    "        if file_exists == False:\n",
    "            print(\"Version not found\")\n",
    "            return\n",
    "        \n",
    "        filename = \"./WeightsDirectory/AllSliderWeights_Version_{versionNum}.csv\".format(versionNum = str(version)) \n",
    "        dict_from_csv_un = pd.read_csv(filename, header=None, index_col=0, squeeze=True).to_dict()\n",
    "        dict_from_csv = {k: dict_from_csv_un[k] for k in dict_from_csv_un if not isnan(k)}\n",
    "        \n",
    "        for s in sliders:\n",
    "            s.value = dict_from_csv[float(s.description)]\n",
    "    load_button.on_click(load_button_clicked)\n",
    "    \n",
    "    \n",
    "    # Display buttons\n",
    "    display(apply_button)\n",
    "    display(reset_button)\n",
    "    display(download_impbutton)\n",
    "    display(download_allbutton)\n",
    "    display(load_button)\n",
    "\n",
    "def create_checkbox():\n",
    "    title_checkbox = widgets.Checkbox(False, description='Toggle Titles')\n",
    "    \n",
    "    def title_check_clicked(x):   \n",
    "        global imageNames\n",
    "        global paths\n",
    "        draw_plot(plot_ax, df_2D, paths, x)\n",
    "    interact(title_check_clicked, x=title_checkbox)\n",
    "    return title_checkbox\n",
    "\n"
   ]
  },
  {
   "cell_type": "markdown",
   "metadata": {},
   "source": [
    "## Print Details Button"
   ]
  },
  {
   "cell_type": "code",
   "execution_count": 14,
   "metadata": {},
   "outputs": [],
   "source": [
    "def create_detail_display():\n",
    "    # Print selected points\n",
    "    print_button = widgets.Button(description='Print selected points')\n",
    "    print_output = widgets.Output()\n",
    "\n",
    "    def print_button_clicked(change):\n",
    "        print_output.clear_output()\n",
    "\n",
    "        # Get list of selected points and print their source data values\n",
    "        selset = [c.index for c in plot_ax.ellipse if c.selected]\n",
    "        with print_output:\n",
    "            if len(selset) > 0:\n",
    "                #print(df.iloc[selset, :].transpose())\n",
    "                path_list = df.iloc[selset, :].transpose().columns.tolist()\n",
    "                path_list_mod = []\n",
    "                for image in path_list:\n",
    "                    path_list_mod.append(\"./imagePreProcessing/\" + image + \".png\")\n",
    "                ipyplot.plot_images(path_list_mod, labels = path_list)\n",
    "                    \n",
    "            else:\n",
    "                print('Select points in the plot to see details here')\n",
    "    print_button.on_click(print_button_clicked)\n",
    "\n",
    "    display(print_button)\n",
    "    display(print_output)\n",
    "    return print_button, print_output\n"
   ]
  },
  {
   "cell_type": "markdown",
   "metadata": {},
   "source": [
    "## Inverse DR Button and Plot"
   ]
  },
  {
   "cell_type": "code",
   "execution_count": 15,
   "metadata": {},
   "outputs": [],
   "source": [
    "def create_inverse_button():\n",
    "    inverse_button = widgets.Button(description='Learn New Weights')\n",
    "    copy_button = widgets.Button(description='Copy to Sliders')\n",
    "\n",
    "    def inverse_button_clicked(change):\n",
    "        ax.clear()\n",
    "\n",
    "        # Check minimum number of points moved\n",
    "        n = len([1 for c in plot_ax.ellipse if c.selected])\n",
    "        if n < 2:\n",
    "            print('Need to select or move at least 2 points in the plot first.')\n",
    "            return\n",
    "\n",
    "        # Get selected data points\n",
    "        data2Dnew = pd.DataFrame([c.center for c in plot_ax.ellipse if c.selected], columns=['x','y'], \n",
    "                                index=[c.label for c in plot_ax.ellipse if c.selected])\n",
    "        dataHDpart = normalized_df.loc[data2Dnew.index]\n",
    "\n",
    "        # Learn new weights\n",
    "        global weights\n",
    "        weights = inverse_DR(dataHDpart, data2Dnew)\n",
    "        \n",
    "        # Display new weights as a bar chart\n",
    "        weights.sort_index(ascending=False).plot.barh(ax=ax)\n",
    "        ax.set_xlabel(\"Weight\")\n",
    "        fig.tight_layout()\n",
    "    inverse_button.on_click(inverse_button_clicked)\n",
    "\n",
    "    def copy_button_clicked(change):\n",
    "        # Set sliders to reflect the learned weights and update the DR and plot accordingly\n",
    "        global df_2D\n",
    "        global paths\n",
    "        for i,s in enumerate(sliders):\n",
    "            s.value = weights[i]\n",
    "        df_2D = dimension_reduction(normalized_df, weights)   \n",
    "        draw_plot(plot_ax, df_2D, paths)\n",
    "    copy_button.on_click(copy_button_clicked)\n",
    "    display(inverse_button)\n",
    "    display(copy_button)\n",
    "    fig, ax = plt.subplots(figsize=(5,7))   # reserve a fig for the weights bar chart\n",
    "    return inverse_button, copy_button, ax\n"
   ]
  },
  {
   "cell_type": "markdown",
   "metadata": {},
   "source": [
    "## Draggable Dimension-Reduction 2D Plot"
   ]
  },
  {
   "cell_type": "code",
   "execution_count": 16,
   "metadata": {},
   "outputs": [],
   "source": [
    "# Handles mouse drag interaction events in the plot, users can select and drag points.\n",
    "class DraggablePoints(object):\n",
    "    def __init__(self, ax, artists):\n",
    "        self.ax = ax\n",
    "        self.artists = artists\n",
    "        self.current_artist = None\n",
    "        self.last_selected = None\n",
    "        ax.selected_text.set_text('Selected: none')\n",
    "        self.offset = (0, 0)\n",
    "        # Set up mouse listeners\n",
    "        ax.figure.canvas.mpl_connect('pick_event', self.on_pick)\n",
    "        ax.figure.canvas.mpl_connect('motion_notify_event', self.on_motion)\n",
    "        ax.figure.canvas.mpl_connect('button_release_event', self.on_release)\n",
    "\n",
    "    def on_pick(self, event):\n",
    "        # When point is clicked on (mouse down), select it and start the drag\n",
    "        if self.current_artist is None:  # clicking on overlapped points sends multiple events\n",
    "            self.last_selected = event.artist.index  # event.ind\n",
    "            self.current_artist = event.artist\n",
    "            event.artist.selected = True\n",
    "            event.artist.set_facecolor('green')\n",
    "            self.ax.selected_text.set_text(\"Selected: \" + event.artist.label)\n",
    "            x0, y0 = event.artist.center\n",
    "            self.offset = (x0 - event.mouseevent.xdata), (y0 - event.mouseevent.ydata)            \n",
    "\n",
    "\n",
    "    def on_motion(self, event):\n",
    "        # When dragging, check if point is selected and valid mouse coordinates\n",
    "        if (self.current_artist is not None) and (event.xdata is not None) and (event.ydata is not None):\n",
    "            # Drag the point and its text label\n",
    "            dx, dy = self.offset\n",
    "            self.current_artist.center = x0, y0 = event.xdata + dx, event.ydata + dy\n",
    "            self.current_artist.text.set_position((x0 - 0.0003/2, \n",
    "                                                   y0 + 0.0005))\n",
    "            self.current_artist.ab.xybox = (x0,y0)\n",
    "\n",
    "             \n",
    "            \n",
    "            #self.ax.figure.canvas.draw()  # slow\n",
    "        \n",
    "    def on_release(self, event):\n",
    "        # When mouse is released, stop the drag\n",
    "        self.current_artist = None"
   ]
  },
  {
   "cell_type": "code",
   "execution_count": 17,
   "metadata": {
    "scrolled": false
   },
   "outputs": [],
   "source": [
    "def create_plot(data2D, title=False):    \n",
    "    # Initialize DR plot figure   \n",
    "    fig, ax = plt.subplots(figsize= (10,10), dpi=80)\n",
    "#     ax.set_xlim([0, 1])\n",
    "#     ax.set_ylim([0, 1])\n",
    "#     ax.set_xlim([-0.00858, 0.00887])\n",
    "#     ax.set_ylim([-0.00699, 0.00816])\n",
    "\n",
    "    ax.selected_text = ax.figure.text(0,0.005, 'Selected: none', wrap=True, color='green')\n",
    "    ax.set_xticks([])\n",
    "    ax.set_yticks([])\n",
    "    ax.figure.tight_layout()\n",
    "    global imageNames\n",
    "    \n",
    "    \n",
    "    # Store state data:\n",
    "    ax.ellipse = None\n",
    "    ax.dragpoint = None\n",
    "    draw_plot(ax, data2D, imageNames, title)\n",
    "    return ax\n",
    "\n",
    "\n",
    "def image_preprocessing(paths):\n",
    "    global finalDir\n",
    "    newpath = r'./imagePreProcessing' \n",
    "    if not os.path.exists(newpath):\n",
    "        os.makedirs(newpath)\n",
    "    path = [i for i in finalDir if paths in i][0]\n",
    "    src = cv2.imread(path, 1)\n",
    "    tmp = cv2.cvtColor(src, cv2.COLOR_BGR2GRAY)        \n",
    "    _,alpha = cv2.threshold(tmp,0,255,cv2.THRESH_BINARY)\n",
    "    b, g, r = cv2.split(src)\n",
    "    rgba = [b,g,r, alpha]\n",
    "    dst = cv2.merge(rgba,4)\n",
    "    cv2.imwrite(\"./imagePreProcessing/\" + paths + \".png\", dst)\n",
    "    return \"./imagePreProcessing/\" + paths + \".png\"\n",
    "\n",
    "def getImage(path):\n",
    "    return OffsetImage(plt.imread(path), zoom = .04)\n",
    "        \n",
    "def draw_plot(ax, data2D, paths, title=False):  \n",
    "    ax.clear()\n",
    "    wid = max(data2D.x.max() - data2D.x.min(), data2D.y.max() - data2D.y.min())  # max range of x,y axes\n",
    "    i = 0\n",
    "    ax.ellipse = []\n",
    "    for x0, y0, path in zip(data2D.x, data2D.y, data2D.index):\n",
    "        ax.ellipse.append(matplotlib.patches.Ellipse(xy=(x0, y0), width = 0.0005, height = 0.000869, alpha=0.5, \n",
    "                                  color = 'none', picker=True))\n",
    "        c = ax.ellipse[-1]\n",
    "        c.index, c.label, c.selected = i, data2D.index[i], False\n",
    "        ax.add_patch(c)\n",
    "        \n",
    "        if title:\n",
    "            c.text = ax.text(c.center[0]-0.0003/2, c.center[1]+0.0005, c.label, color = 'black')\n",
    "        else:\n",
    "            c.text = ax.text(c.center[0]-0.0003/2, c.center[1]+0.0005, \"\", color = 'none')\n",
    "        path = image_preprocessing(path)\n",
    "        img = getImage(path)\n",
    "#         h, w, _ = cv2.imread(path).shape\n",
    "        c.ab = AnnotationBbox(img, (x0, y0), frameon=False)\n",
    "        ax.add_artist(c.ab)\n",
    "        ax.dragpoint = DraggablePoints(ax, ax.ellipse)\n",
    "        i += 1        \n",
    "    \n",
    "    # Clean up the plot\n",
    "    \n",
    "    ax.set_xticks([])\n",
    "    ax.set_yticks([])\n",
    "\n",
    "    ax.axis('equal')\n"
   ]
  },
  {
   "cell_type": "markdown",
   "metadata": {},
   "source": [
    "# Interactive Visualization"
   ]
  },
  {
   "cell_type": "markdown",
   "metadata": {},
   "source": [
    "## Sliders\n",
    "Use the sliders to control the **dimension weights** for the input HD data. The weights indicate which dimensions are given more emphasis in the DR plot distances.  For computational reasons, weights cannot go to absolute zero. When used in DR, the weights are first normalized such that they sum to 1.\n",
    "\n",
    "After adjusting the sliders, click the **Apply** button to show the results in the DR plot.\n",
    "\n",
    "To reset the sliders to their default values, click the **Reset** button."
   ]
  },
  {
   "cell_type": "code",
   "execution_count": 18,
   "metadata": {
    "scrolled": true
   },
   "outputs": [
    {
     "data": {
      "application/vnd.jupyter.widget-view+json": {
       "model_id": "6995048e602b45658f74362acdec6bfa",
       "version_major": 2,
       "version_minor": 0
      },
      "text/plain": [
       "FloatSlider(value=1e-05, continuous_update=False, description=\"(1, 'R=000-063', 'G=000-063', 'B=000-063')\", ma…"
      ]
     },
     "metadata": {},
     "output_type": "display_data"
    },
    {
     "data": {
      "application/vnd.jupyter.widget-view+json": {
       "model_id": "2a29765e97014f7aa980f87827103ecf",
       "version_major": 2,
       "version_minor": 0
      },
      "text/plain": [
       "FloatSlider(value=1e-05, continuous_update=False, description=\"(2, 'R=064-127', 'G=000-063', 'B=000-063')\", ma…"
      ]
     },
     "metadata": {},
     "output_type": "display_data"
    },
    {
     "data": {
      "application/vnd.jupyter.widget-view+json": {
       "model_id": "c83cd0a8a63c4d62962fd2a63444bc34",
       "version_major": 2,
       "version_minor": 0
      },
      "text/plain": [
       "FloatSlider(value=1e-05, continuous_update=False, description=\"(3, 'R=128-191', 'G=000-063', 'B=000-063')\", ma…"
      ]
     },
     "metadata": {},
     "output_type": "display_data"
    },
    {
     "data": {
      "application/vnd.jupyter.widget-view+json": {
       "model_id": "4593ec96f40b40b084d65ccec495768f",
       "version_major": 2,
       "version_minor": 0
      },
      "text/plain": [
       "FloatSlider(value=1e-05, continuous_update=False, description=\"(4, 'R=192-255', 'G=000-063', 'B=000-063')\", ma…"
      ]
     },
     "metadata": {},
     "output_type": "display_data"
    },
    {
     "data": {
      "application/vnd.jupyter.widget-view+json": {
       "model_id": "55e1cb9e48164f649c2243beff91c53f",
       "version_major": 2,
       "version_minor": 0
      },
      "text/plain": [
       "FloatSlider(value=1e-05, continuous_update=False, description=\"(5, 'R=000-063', 'G=064-127', 'B=000-063')\", ma…"
      ]
     },
     "metadata": {},
     "output_type": "display_data"
    },
    {
     "data": {
      "application/vnd.jupyter.widget-view+json": {
       "model_id": "4aafc405d87748d7ae48ba75ac854aa8",
       "version_major": 2,
       "version_minor": 0
      },
      "text/plain": [
       "FloatSlider(value=1e-05, continuous_update=False, description=\"(6, 'R=064-127', 'G=064-127', 'B=000-063')\", ma…"
      ]
     },
     "metadata": {},
     "output_type": "display_data"
    },
    {
     "data": {
      "application/vnd.jupyter.widget-view+json": {
       "model_id": "c2ecf18766d84175b00e4d547859a371",
       "version_major": 2,
       "version_minor": 0
      },
      "text/plain": [
       "FloatSlider(value=1e-05, continuous_update=False, description=\"(7, 'R=128-191', 'G=064-127', 'B=000-063')\", ma…"
      ]
     },
     "metadata": {},
     "output_type": "display_data"
    },
    {
     "data": {
      "application/vnd.jupyter.widget-view+json": {
       "model_id": "38c64173651f438690821019f49bf5a0",
       "version_major": 2,
       "version_minor": 0
      },
      "text/plain": [
       "FloatSlider(value=1e-05, continuous_update=False, description=\"(8, 'R=192-255', 'G=064-127', 'B=000-063')\", ma…"
      ]
     },
     "metadata": {},
     "output_type": "display_data"
    },
    {
     "data": {
      "application/vnd.jupyter.widget-view+json": {
       "model_id": "702e320add3f431fbc31afb1db166fbc",
       "version_major": 2,
       "version_minor": 0
      },
      "text/plain": [
       "FloatSlider(value=1e-05, continuous_update=False, description=\"(9, 'R=000-063', 'G=128-191', 'B=000-063')\", ma…"
      ]
     },
     "metadata": {},
     "output_type": "display_data"
    },
    {
     "data": {
      "application/vnd.jupyter.widget-view+json": {
       "model_id": "0eab057721474260a491c14b4e9e3205",
       "version_major": 2,
       "version_minor": 0
      },
      "text/plain": [
       "FloatSlider(value=1e-05, continuous_update=False, description=\"(10, 'R=064-127', 'G=128-191', 'B=000-063')\", m…"
      ]
     },
     "metadata": {},
     "output_type": "display_data"
    },
    {
     "data": {
      "application/vnd.jupyter.widget-view+json": {
       "model_id": "a9bfac0f99e548edb213ac7ff0ba6e7a",
       "version_major": 2,
       "version_minor": 0
      },
      "text/plain": [
       "FloatSlider(value=1e-05, continuous_update=False, description=\"(11, 'R=128-191', 'G=128-191', 'B=000-063')\", m…"
      ]
     },
     "metadata": {},
     "output_type": "display_data"
    },
    {
     "data": {
      "application/vnd.jupyter.widget-view+json": {
       "model_id": "5d147cf58fff472bb72a9d73ba38a8f5",
       "version_major": 2,
       "version_minor": 0
      },
      "text/plain": [
       "FloatSlider(value=1e-05, continuous_update=False, description=\"(12, 'R=192-255', 'G=128-191', 'B=000-063')\", m…"
      ]
     },
     "metadata": {},
     "output_type": "display_data"
    },
    {
     "data": {
      "application/vnd.jupyter.widget-view+json": {
       "model_id": "a0df4bdbb5564cc1a91502d0408fe46b",
       "version_major": 2,
       "version_minor": 0
      },
      "text/plain": [
       "FloatSlider(value=1e-05, continuous_update=False, description=\"(13, 'R=000-063', 'G=192-255', 'B=000-063')\", m…"
      ]
     },
     "metadata": {},
     "output_type": "display_data"
    },
    {
     "data": {
      "application/vnd.jupyter.widget-view+json": {
       "model_id": "5e04442e6e88474ea7c8979f84e67a6a",
       "version_major": 2,
       "version_minor": 0
      },
      "text/plain": [
       "FloatSlider(value=1e-05, continuous_update=False, description=\"(14, 'R=064-127', 'G=192-255', 'B=000-063')\", m…"
      ]
     },
     "metadata": {},
     "output_type": "display_data"
    },
    {
     "data": {
      "application/vnd.jupyter.widget-view+json": {
       "model_id": "98137411876e4197a94867a4e6ae9082",
       "version_major": 2,
       "version_minor": 0
      },
      "text/plain": [
       "FloatSlider(value=1e-05, continuous_update=False, description=\"(15, 'R=128-191', 'G=192-255', 'B=000-063')\", m…"
      ]
     },
     "metadata": {},
     "output_type": "display_data"
    },
    {
     "data": {
      "application/vnd.jupyter.widget-view+json": {
       "model_id": "23d7036a476643a5a10d79d1ccd342a6",
       "version_major": 2,
       "version_minor": 0
      },
      "text/plain": [
       "FloatSlider(value=1e-05, continuous_update=False, description=\"(16, 'R=192-255', 'G=192-255', 'B=000-063')\", m…"
      ]
     },
     "metadata": {},
     "output_type": "display_data"
    },
    {
     "data": {
      "application/vnd.jupyter.widget-view+json": {
       "model_id": "beea7a017a734611b8143b3b52f6f812",
       "version_major": 2,
       "version_minor": 0
      },
      "text/plain": [
       "FloatSlider(value=1e-05, continuous_update=False, description=\"(17, 'R=000-063', 'G=000-063', 'B=064-127')\", m…"
      ]
     },
     "metadata": {},
     "output_type": "display_data"
    },
    {
     "data": {
      "application/vnd.jupyter.widget-view+json": {
       "model_id": "b589f00e7dec43ab8b63e8e4fa419e94",
       "version_major": 2,
       "version_minor": 0
      },
      "text/plain": [
       "FloatSlider(value=1e-05, continuous_update=False, description=\"(18, 'R=064-127', 'G=000-063', 'B=064-127')\", m…"
      ]
     },
     "metadata": {},
     "output_type": "display_data"
    },
    {
     "data": {
      "application/vnd.jupyter.widget-view+json": {
       "model_id": "c225f729af174a43948a198063bc8bdb",
       "version_major": 2,
       "version_minor": 0
      },
      "text/plain": [
       "FloatSlider(value=1e-05, continuous_update=False, description=\"(19, 'R=128-191', 'G=000-063', 'B=064-127')\", m…"
      ]
     },
     "metadata": {},
     "output_type": "display_data"
    },
    {
     "data": {
      "application/vnd.jupyter.widget-view+json": {
       "model_id": "dc6b61a2e1514d42b502120ba0b1b4f7",
       "version_major": 2,
       "version_minor": 0
      },
      "text/plain": [
       "FloatSlider(value=1e-05, continuous_update=False, description=\"(20, 'R=192-255', 'G=000-063', 'B=064-127')\", m…"
      ]
     },
     "metadata": {},
     "output_type": "display_data"
    },
    {
     "data": {
      "application/vnd.jupyter.widget-view+json": {
       "model_id": "af2bb7c5de5544b3a3508d277ddd3f7c",
       "version_major": 2,
       "version_minor": 0
      },
      "text/plain": [
       "FloatSlider(value=1e-05, continuous_update=False, description=\"(21, 'R=000-063', 'G=064-127', 'B=064-127')\", m…"
      ]
     },
     "metadata": {},
     "output_type": "display_data"
    },
    {
     "data": {
      "application/vnd.jupyter.widget-view+json": {
       "model_id": "f082039abba94de3ba3ec8b51ce9cd06",
       "version_major": 2,
       "version_minor": 0
      },
      "text/plain": [
       "FloatSlider(value=1e-05, continuous_update=False, description=\"(22, 'R=064-127', 'G=064-127', 'B=064-127')\", m…"
      ]
     },
     "metadata": {},
     "output_type": "display_data"
    },
    {
     "data": {
      "application/vnd.jupyter.widget-view+json": {
       "model_id": "aa36508e3bdb470ba75827b18f9b90b9",
       "version_major": 2,
       "version_minor": 0
      },
      "text/plain": [
       "FloatSlider(value=1e-05, continuous_update=False, description=\"(23, 'R=128-191', 'G=064-127', 'B=064-127')\", m…"
      ]
     },
     "metadata": {},
     "output_type": "display_data"
    },
    {
     "data": {
      "application/vnd.jupyter.widget-view+json": {
       "model_id": "c6bcac88a0cd487aba8373e506e9e4ad",
       "version_major": 2,
       "version_minor": 0
      },
      "text/plain": [
       "FloatSlider(value=1e-05, continuous_update=False, description=\"(24, 'R=192-255', 'G=064-127', 'B=064-127')\", m…"
      ]
     },
     "metadata": {},
     "output_type": "display_data"
    },
    {
     "data": {
      "application/vnd.jupyter.widget-view+json": {
       "model_id": "2ab6f2b12fc9470595b17a9e4b49efd3",
       "version_major": 2,
       "version_minor": 0
      },
      "text/plain": [
       "FloatSlider(value=1e-05, continuous_update=False, description=\"(25, 'R=000-063', 'G=128-191', 'B=064-127')\", m…"
      ]
     },
     "metadata": {},
     "output_type": "display_data"
    },
    {
     "data": {
      "application/vnd.jupyter.widget-view+json": {
       "model_id": "94d217b42d084102a7bf898a6989e49b",
       "version_major": 2,
       "version_minor": 0
      },
      "text/plain": [
       "FloatSlider(value=1e-05, continuous_update=False, description=\"(26, 'R=064-127', 'G=128-191', 'B=064-127')\", m…"
      ]
     },
     "metadata": {},
     "output_type": "display_data"
    },
    {
     "data": {
      "application/vnd.jupyter.widget-view+json": {
       "model_id": "1e00a01cd1fc4b05ab1d7edae64e7cab",
       "version_major": 2,
       "version_minor": 0
      },
      "text/plain": [
       "FloatSlider(value=1e-05, continuous_update=False, description=\"(27, 'R=128-191', 'G=128-191', 'B=064-127')\", m…"
      ]
     },
     "metadata": {},
     "output_type": "display_data"
    },
    {
     "data": {
      "application/vnd.jupyter.widget-view+json": {
       "model_id": "ccabc9ec91204268b4c64e4b74c3c915",
       "version_major": 2,
       "version_minor": 0
      },
      "text/plain": [
       "FloatSlider(value=1e-05, continuous_update=False, description=\"(28, 'R=192-255', 'G=128-191', 'B=064-127')\", m…"
      ]
     },
     "metadata": {},
     "output_type": "display_data"
    },
    {
     "data": {
      "application/vnd.jupyter.widget-view+json": {
       "model_id": "12177b9b37c5417fb9e5c0f15b3c576b",
       "version_major": 2,
       "version_minor": 0
      },
      "text/plain": [
       "FloatSlider(value=1e-05, continuous_update=False, description=\"(29, 'R=000-063', 'G=192-255', 'B=064-127')\", m…"
      ]
     },
     "metadata": {},
     "output_type": "display_data"
    },
    {
     "data": {
      "application/vnd.jupyter.widget-view+json": {
       "model_id": "24a94fd9400347d89c4826586a8ee3ae",
       "version_major": 2,
       "version_minor": 0
      },
      "text/plain": [
       "FloatSlider(value=1e-05, continuous_update=False, description=\"(30, 'R=064-127', 'G=192-255', 'B=064-127')\", m…"
      ]
     },
     "metadata": {},
     "output_type": "display_data"
    },
    {
     "data": {
      "application/vnd.jupyter.widget-view+json": {
       "model_id": "f9c3ce8acf464def8bffacbc8a810f33",
       "version_major": 2,
       "version_minor": 0
      },
      "text/plain": [
       "FloatSlider(value=1e-05, continuous_update=False, description=\"(31, 'R=128-191', 'G=192-255', 'B=064-127')\", m…"
      ]
     },
     "metadata": {},
     "output_type": "display_data"
    },
    {
     "data": {
      "application/vnd.jupyter.widget-view+json": {
       "model_id": "2376024979ec4546a05a423e82fbac8f",
       "version_major": 2,
       "version_minor": 0
      },
      "text/plain": [
       "FloatSlider(value=1e-05, continuous_update=False, description=\"(32, 'R=192-255', 'G=192-255', 'B=064-127')\", m…"
      ]
     },
     "metadata": {},
     "output_type": "display_data"
    },
    {
     "data": {
      "application/vnd.jupyter.widget-view+json": {
       "model_id": "cc414a65a029471c87140cfb0b77457f",
       "version_major": 2,
       "version_minor": 0
      },
      "text/plain": [
       "FloatSlider(value=1e-05, continuous_update=False, description=\"(33, 'R=000-063', 'G=000-063', 'B=128-191')\", m…"
      ]
     },
     "metadata": {},
     "output_type": "display_data"
    },
    {
     "data": {
      "application/vnd.jupyter.widget-view+json": {
       "model_id": "3e5a34ffcb6c4edcb865fcec621ff129",
       "version_major": 2,
       "version_minor": 0
      },
      "text/plain": [
       "FloatSlider(value=1e-05, continuous_update=False, description=\"(34, 'R=064-127', 'G=000-063', 'B=128-191')\", m…"
      ]
     },
     "metadata": {},
     "output_type": "display_data"
    },
    {
     "data": {
      "application/vnd.jupyter.widget-view+json": {
       "model_id": "e47c34d39afd4bd6aa263f6b7da6e83a",
       "version_major": 2,
       "version_minor": 0
      },
      "text/plain": [
       "FloatSlider(value=1e-05, continuous_update=False, description=\"(35, 'R=128-191', 'G=000-063', 'B=128-191')\", m…"
      ]
     },
     "metadata": {},
     "output_type": "display_data"
    },
    {
     "data": {
      "application/vnd.jupyter.widget-view+json": {
       "model_id": "42c9fc2a235e4488b459f9e3f7f65524",
       "version_major": 2,
       "version_minor": 0
      },
      "text/plain": [
       "FloatSlider(value=1e-05, continuous_update=False, description=\"(36, 'R=192-255', 'G=000-063', 'B=128-191')\", m…"
      ]
     },
     "metadata": {},
     "output_type": "display_data"
    },
    {
     "data": {
      "application/vnd.jupyter.widget-view+json": {
       "model_id": "d44dae6ae98a4e5eac8963c27ee6a287",
       "version_major": 2,
       "version_minor": 0
      },
      "text/plain": [
       "FloatSlider(value=1e-05, continuous_update=False, description=\"(37, 'R=000-063', 'G=064-127', 'B=128-191')\", m…"
      ]
     },
     "metadata": {},
     "output_type": "display_data"
    },
    {
     "data": {
      "application/vnd.jupyter.widget-view+json": {
       "model_id": "9f9ad5cf125544b79542c825c3e3b9e9",
       "version_major": 2,
       "version_minor": 0
      },
      "text/plain": [
       "FloatSlider(value=1e-05, continuous_update=False, description=\"(38, 'R=064-127', 'G=064-127', 'B=128-191')\", m…"
      ]
     },
     "metadata": {},
     "output_type": "display_data"
    },
    {
     "data": {
      "application/vnd.jupyter.widget-view+json": {
       "model_id": "e6dfa31fa6304dbd9e003cfd31eb51b0",
       "version_major": 2,
       "version_minor": 0
      },
      "text/plain": [
       "FloatSlider(value=1e-05, continuous_update=False, description=\"(39, 'R=128-191', 'G=064-127', 'B=128-191')\", m…"
      ]
     },
     "metadata": {},
     "output_type": "display_data"
    },
    {
     "data": {
      "application/vnd.jupyter.widget-view+json": {
       "model_id": "823278ceb28b43a2a28d454e45de7015",
       "version_major": 2,
       "version_minor": 0
      },
      "text/plain": [
       "FloatSlider(value=1e-05, continuous_update=False, description=\"(40, 'R=192-255', 'G=064-127', 'B=128-191')\", m…"
      ]
     },
     "metadata": {},
     "output_type": "display_data"
    },
    {
     "data": {
      "application/vnd.jupyter.widget-view+json": {
       "model_id": "033018f2cdb64eadaf7cac4fafc7167e",
       "version_major": 2,
       "version_minor": 0
      },
      "text/plain": [
       "FloatSlider(value=1e-05, continuous_update=False, description=\"(41, 'R=000-063', 'G=128-191', 'B=128-191')\", m…"
      ]
     },
     "metadata": {},
     "output_type": "display_data"
    },
    {
     "data": {
      "application/vnd.jupyter.widget-view+json": {
       "model_id": "4659657ff7854f30bbc4a74c7e417925",
       "version_major": 2,
       "version_minor": 0
      },
      "text/plain": [
       "FloatSlider(value=1e-05, continuous_update=False, description=\"(42, 'R=064-127', 'G=128-191', 'B=128-191')\", m…"
      ]
     },
     "metadata": {},
     "output_type": "display_data"
    },
    {
     "data": {
      "application/vnd.jupyter.widget-view+json": {
       "model_id": "5b27d07a0e8140048492059d91d419e0",
       "version_major": 2,
       "version_minor": 0
      },
      "text/plain": [
       "FloatSlider(value=1e-05, continuous_update=False, description=\"(43, 'R=128-191', 'G=128-191', 'B=128-191')\", m…"
      ]
     },
     "metadata": {},
     "output_type": "display_data"
    },
    {
     "data": {
      "application/vnd.jupyter.widget-view+json": {
       "model_id": "31e6f926541140f6871115025987b60b",
       "version_major": 2,
       "version_minor": 0
      },
      "text/plain": [
       "FloatSlider(value=1e-05, continuous_update=False, description=\"(44, 'R=192-255', 'G=128-191', 'B=128-191')\", m…"
      ]
     },
     "metadata": {},
     "output_type": "display_data"
    },
    {
     "data": {
      "application/vnd.jupyter.widget-view+json": {
       "model_id": "689a5fdd268c48c99158c4e9e9743f32",
       "version_major": 2,
       "version_minor": 0
      },
      "text/plain": [
       "FloatSlider(value=1e-05, continuous_update=False, description=\"(45, 'R=000-063', 'G=192-255', 'B=128-191')\", m…"
      ]
     },
     "metadata": {},
     "output_type": "display_data"
    },
    {
     "data": {
      "application/vnd.jupyter.widget-view+json": {
       "model_id": "590c25a1d2f643e691b3ad7e27320d05",
       "version_major": 2,
       "version_minor": 0
      },
      "text/plain": [
       "FloatSlider(value=1e-05, continuous_update=False, description=\"(46, 'R=064-127', 'G=192-255', 'B=128-191')\", m…"
      ]
     },
     "metadata": {},
     "output_type": "display_data"
    },
    {
     "data": {
      "application/vnd.jupyter.widget-view+json": {
       "model_id": "fec4d18ebbe64ab9bac50ff39547684e",
       "version_major": 2,
       "version_minor": 0
      },
      "text/plain": [
       "FloatSlider(value=1e-05, continuous_update=False, description=\"(47, 'R=128-191', 'G=192-255', 'B=128-191')\", m…"
      ]
     },
     "metadata": {},
     "output_type": "display_data"
    },
    {
     "data": {
      "application/vnd.jupyter.widget-view+json": {
       "model_id": "16b9221defbd4ec0bddabe4905a1219b",
       "version_major": 2,
       "version_minor": 0
      },
      "text/plain": [
       "FloatSlider(value=1e-05, continuous_update=False, description=\"(48, 'R=192-255', 'G=192-255', 'B=128-191')\", m…"
      ]
     },
     "metadata": {},
     "output_type": "display_data"
    },
    {
     "data": {
      "application/vnd.jupyter.widget-view+json": {
       "model_id": "a510430155884282b0db03ef7c0bd44d",
       "version_major": 2,
       "version_minor": 0
      },
      "text/plain": [
       "FloatSlider(value=1e-05, continuous_update=False, description=\"(49, 'R=000-063', 'G=000-063', 'B=192-255')\", m…"
      ]
     },
     "metadata": {},
     "output_type": "display_data"
    },
    {
     "data": {
      "application/vnd.jupyter.widget-view+json": {
       "model_id": "20f1c7cc849547058ddc83b31de68c12",
       "version_major": 2,
       "version_minor": 0
      },
      "text/plain": [
       "FloatSlider(value=1e-05, continuous_update=False, description=\"(50, 'R=064-127', 'G=000-063', 'B=192-255')\", m…"
      ]
     },
     "metadata": {},
     "output_type": "display_data"
    },
    {
     "data": {
      "application/vnd.jupyter.widget-view+json": {
       "model_id": "5df9c33a87bd434a8584ea1015cff692",
       "version_major": 2,
       "version_minor": 0
      },
      "text/plain": [
       "FloatSlider(value=1e-05, continuous_update=False, description=\"(51, 'R=128-191', 'G=000-063', 'B=192-255')\", m…"
      ]
     },
     "metadata": {},
     "output_type": "display_data"
    },
    {
     "data": {
      "application/vnd.jupyter.widget-view+json": {
       "model_id": "c57483f1898044b7b3b80dede1b0fefa",
       "version_major": 2,
       "version_minor": 0
      },
      "text/plain": [
       "FloatSlider(value=1e-05, continuous_update=False, description=\"(52, 'R=192-255', 'G=000-063', 'B=192-255')\", m…"
      ]
     },
     "metadata": {},
     "output_type": "display_data"
    },
    {
     "data": {
      "application/vnd.jupyter.widget-view+json": {
       "model_id": "08baae3991bd4935af3139c88695a279",
       "version_major": 2,
       "version_minor": 0
      },
      "text/plain": [
       "FloatSlider(value=1e-05, continuous_update=False, description=\"(53, 'R=000-063', 'G=064-127', 'B=192-255')\", m…"
      ]
     },
     "metadata": {},
     "output_type": "display_data"
    },
    {
     "data": {
      "application/vnd.jupyter.widget-view+json": {
       "model_id": "f2f7fec657454754ab503af6d84360ef",
       "version_major": 2,
       "version_minor": 0
      },
      "text/plain": [
       "FloatSlider(value=1e-05, continuous_update=False, description=\"(54, 'R=064-127', 'G=064-127', 'B=192-255')\", m…"
      ]
     },
     "metadata": {},
     "output_type": "display_data"
    },
    {
     "data": {
      "application/vnd.jupyter.widget-view+json": {
       "model_id": "517bb79521be4c7ba58679935650cab0",
       "version_major": 2,
       "version_minor": 0
      },
      "text/plain": [
       "FloatSlider(value=1e-05, continuous_update=False, description=\"(55, 'R=128-191', 'G=064-127', 'B=192-255')\", m…"
      ]
     },
     "metadata": {},
     "output_type": "display_data"
    },
    {
     "data": {
      "application/vnd.jupyter.widget-view+json": {
       "model_id": "b0eb4b543a7343f69631ba6c04868149",
       "version_major": 2,
       "version_minor": 0
      },
      "text/plain": [
       "FloatSlider(value=1e-05, continuous_update=False, description=\"(56, 'R=192-255', 'G=064-127', 'B=192-255')\", m…"
      ]
     },
     "metadata": {},
     "output_type": "display_data"
    },
    {
     "data": {
      "application/vnd.jupyter.widget-view+json": {
       "model_id": "b4b733e8aa474857ac28dab84b76efec",
       "version_major": 2,
       "version_minor": 0
      },
      "text/plain": [
       "FloatSlider(value=1e-05, continuous_update=False, description=\"(57, 'R=000-063', 'G=128-191', 'B=192-255')\", m…"
      ]
     },
     "metadata": {},
     "output_type": "display_data"
    },
    {
     "data": {
      "application/vnd.jupyter.widget-view+json": {
       "model_id": "968eba6da49e47d79937dce905b71e4a",
       "version_major": 2,
       "version_minor": 0
      },
      "text/plain": [
       "FloatSlider(value=1e-05, continuous_update=False, description=\"(58, 'R=064-127', 'G=128-191', 'B=192-255')\", m…"
      ]
     },
     "metadata": {},
     "output_type": "display_data"
    },
    {
     "data": {
      "application/vnd.jupyter.widget-view+json": {
       "model_id": "cbf84631dc18409186ef296307497304",
       "version_major": 2,
       "version_minor": 0
      },
      "text/plain": [
       "FloatSlider(value=1e-05, continuous_update=False, description=\"(59, 'R=128-191', 'G=128-191', 'B=192-255')\", m…"
      ]
     },
     "metadata": {},
     "output_type": "display_data"
    },
    {
     "data": {
      "application/vnd.jupyter.widget-view+json": {
       "model_id": "f5b99a5d68154cb9b061aa0d8cd295f6",
       "version_major": 2,
       "version_minor": 0
      },
      "text/plain": [
       "FloatSlider(value=1e-05, continuous_update=False, description=\"(60, 'R=192-255', 'G=128-191', 'B=192-255')\", m…"
      ]
     },
     "metadata": {},
     "output_type": "display_data"
    },
    {
     "data": {
      "application/vnd.jupyter.widget-view+json": {
       "model_id": "b5a750739855420ebe966f3018cc9e23",
       "version_major": 2,
       "version_minor": 0
      },
      "text/plain": [
       "FloatSlider(value=1e-05, continuous_update=False, description=\"(61, 'R=000-063', 'G=192-255', 'B=192-255')\", m…"
      ]
     },
     "metadata": {},
     "output_type": "display_data"
    },
    {
     "data": {
      "application/vnd.jupyter.widget-view+json": {
       "model_id": "33ea414993714b3b9fd52e5748a85b11",
       "version_major": 2,
       "version_minor": 0
      },
      "text/plain": [
       "FloatSlider(value=1e-05, continuous_update=False, description=\"(62, 'R=064-127', 'G=192-255', 'B=192-255')\", m…"
      ]
     },
     "metadata": {},
     "output_type": "display_data"
    },
    {
     "data": {
      "application/vnd.jupyter.widget-view+json": {
       "model_id": "22c4d8f3a59b4d97b0b7c8379aa9fd2c",
       "version_major": 2,
       "version_minor": 0
      },
      "text/plain": [
       "FloatSlider(value=1e-05, continuous_update=False, description=\"(63, 'R=128-191', 'G=192-255', 'B=192-255')\", m…"
      ]
     },
     "metadata": {},
     "output_type": "display_data"
    },
    {
     "data": {
      "application/vnd.jupyter.widget-view+json": {
       "model_id": "413263a9dee24693bda2a2b60bc3eb0e",
       "version_major": 2,
       "version_minor": 0
      },
      "text/plain": [
       "FloatSlider(value=1e-05, continuous_update=False, description=\"(64, 'R=192-255', 'G=192-255', 'B=192-255')\", m…"
      ]
     },
     "metadata": {},
     "output_type": "display_data"
    }
   ],
   "source": [
    "sliders = create_sliders(weights)"
   ]
  },
  {
   "cell_type": "code",
   "execution_count": 19,
   "metadata": {},
   "outputs": [
    {
     "data": {
      "application/vnd.jupyter.widget-view+json": {
       "model_id": "5038c7af199d4c1cad30bc10580f1523",
       "version_major": 2,
       "version_minor": 0
      },
      "text/plain": [
       "Button(description='Apply Slider Weights', style=ButtonStyle())"
      ]
     },
     "metadata": {},
     "output_type": "display_data"
    },
    {
     "data": {
      "application/vnd.jupyter.widget-view+json": {
       "model_id": "86b7d53b9f5f49459682c3763807f367",
       "version_major": 2,
       "version_minor": 0
      },
      "text/plain": [
       "Button(description='Reset Plot', style=ButtonStyle())"
      ]
     },
     "metadata": {},
     "output_type": "display_data"
    },
    {
     "data": {
      "application/vnd.jupyter.widget-view+json": {
       "model_id": "093a7cf02da6476183f118eb4de9ebb2",
       "version_major": 2,
       "version_minor": 0
      },
      "text/plain": [
       "Button(description='Save Important Weights', style=ButtonStyle())"
      ]
     },
     "metadata": {},
     "output_type": "display_data"
    },
    {
     "data": {
      "application/vnd.jupyter.widget-view+json": {
       "model_id": "002ee4a5b711469e8e98ef9a1c253b39",
       "version_major": 2,
       "version_minor": 0
      },
      "text/plain": [
       "Button(description='Save Weights', style=ButtonStyle())"
      ]
     },
     "metadata": {},
     "output_type": "display_data"
    },
    {
     "data": {
      "application/vnd.jupyter.widget-view+json": {
       "model_id": "70d5741c62434cac9fcb0b37a6220fd8",
       "version_major": 2,
       "version_minor": 0
      },
      "text/plain": [
       "Button(description='Load Weights', style=ButtonStyle())"
      ]
     },
     "metadata": {},
     "output_type": "display_data"
    }
   ],
   "source": [
    "create_slider_buttons(sliders, version=0)"
   ]
  },
  {
   "cell_type": "markdown",
   "metadata": {},
   "source": [
    "## Dimension Reduction Plot\n",
    "This shows the HD data in 2D form, such that **proximity == similarity**, based on the current slider weights.  Distances between points in the plot approximately reflect their distances in the weighted HD data.  Thus points near each other have similar HD data values in the up-weighted dimensions, and points far away have very different HD data values in those dimensions.\n",
    "\n",
    "The color represents the **relevance** of each point to the current slider weights. Yellower points have larger values in up-weighted dimensions.\n",
    "\n",
    "Points can be **selected** to highlight in Green and view their details below.  Points can be **dragged** to specify a new projection for learning weights, see below. To reset the plot and clear the selections, click the **Reset** button above."
   ]
  },
  {
   "cell_type": "code",
   "execution_count": 20,
   "metadata": {
    "scrolled": false
   },
   "outputs": [
    {
     "data": {
      "application/javascript": [
       "/* Put everything inside the global mpl namespace */\n",
       "/* global mpl */\n",
       "window.mpl = {};\n",
       "\n",
       "mpl.get_websocket_type = function () {\n",
       "    if (typeof WebSocket !== 'undefined') {\n",
       "        return WebSocket;\n",
       "    } else if (typeof MozWebSocket !== 'undefined') {\n",
       "        return MozWebSocket;\n",
       "    } else {\n",
       "        alert(\n",
       "            'Your browser does not have WebSocket support. ' +\n",
       "                'Please try Chrome, Safari or Firefox ≥ 6. ' +\n",
       "                'Firefox 4 and 5 are also supported but you ' +\n",
       "                'have to enable WebSockets in about:config.'\n",
       "        );\n",
       "    }\n",
       "};\n",
       "\n",
       "mpl.figure = function (figure_id, websocket, ondownload, parent_element) {\n",
       "    this.id = figure_id;\n",
       "\n",
       "    this.ws = websocket;\n",
       "\n",
       "    this.supports_binary = this.ws.binaryType !== undefined;\n",
       "\n",
       "    if (!this.supports_binary) {\n",
       "        var warnings = document.getElementById('mpl-warnings');\n",
       "        if (warnings) {\n",
       "            warnings.style.display = 'block';\n",
       "            warnings.textContent =\n",
       "                'This browser does not support binary websocket messages. ' +\n",
       "                'Performance may be slow.';\n",
       "        }\n",
       "    }\n",
       "\n",
       "    this.imageObj = new Image();\n",
       "\n",
       "    this.context = undefined;\n",
       "    this.message = undefined;\n",
       "    this.canvas = undefined;\n",
       "    this.rubberband_canvas = undefined;\n",
       "    this.rubberband_context = undefined;\n",
       "    this.format_dropdown = undefined;\n",
       "\n",
       "    this.image_mode = 'full';\n",
       "\n",
       "    this.root = document.createElement('div');\n",
       "    this.root.setAttribute('style', 'display: inline-block');\n",
       "    this._root_extra_style(this.root);\n",
       "\n",
       "    parent_element.appendChild(this.root);\n",
       "\n",
       "    this._init_header(this);\n",
       "    this._init_canvas(this);\n",
       "    this._init_toolbar(this);\n",
       "\n",
       "    var fig = this;\n",
       "\n",
       "    this.waiting = false;\n",
       "\n",
       "    this.ws.onopen = function () {\n",
       "        fig.send_message('supports_binary', { value: fig.supports_binary });\n",
       "        fig.send_message('send_image_mode', {});\n",
       "        if (fig.ratio !== 1) {\n",
       "            fig.send_message('set_dpi_ratio', { dpi_ratio: fig.ratio });\n",
       "        }\n",
       "        fig.send_message('refresh', {});\n",
       "    };\n",
       "\n",
       "    this.imageObj.onload = function () {\n",
       "        if (fig.image_mode === 'full') {\n",
       "            // Full images could contain transparency (where diff images\n",
       "            // almost always do), so we need to clear the canvas so that\n",
       "            // there is no ghosting.\n",
       "            fig.context.clearRect(0, 0, fig.canvas.width, fig.canvas.height);\n",
       "        }\n",
       "        fig.context.drawImage(fig.imageObj, 0, 0);\n",
       "    };\n",
       "\n",
       "    this.imageObj.onunload = function () {\n",
       "        fig.ws.close();\n",
       "    };\n",
       "\n",
       "    this.ws.onmessage = this._make_on_message_function(this);\n",
       "\n",
       "    this.ondownload = ondownload;\n",
       "};\n",
       "\n",
       "mpl.figure.prototype._init_header = function () {\n",
       "    var titlebar = document.createElement('div');\n",
       "    titlebar.classList =\n",
       "        'ui-dialog-titlebar ui-widget-header ui-corner-all ui-helper-clearfix';\n",
       "    var titletext = document.createElement('div');\n",
       "    titletext.classList = 'ui-dialog-title';\n",
       "    titletext.setAttribute(\n",
       "        'style',\n",
       "        'width: 100%; text-align: center; padding: 3px;'\n",
       "    );\n",
       "    titlebar.appendChild(titletext);\n",
       "    this.root.appendChild(titlebar);\n",
       "    this.header = titletext;\n",
       "};\n",
       "\n",
       "mpl.figure.prototype._canvas_extra_style = function (_canvas_div) {};\n",
       "\n",
       "mpl.figure.prototype._root_extra_style = function (_canvas_div) {};\n",
       "\n",
       "mpl.figure.prototype._init_canvas = function () {\n",
       "    var fig = this;\n",
       "\n",
       "    var canvas_div = (this.canvas_div = document.createElement('div'));\n",
       "    canvas_div.setAttribute(\n",
       "        'style',\n",
       "        'border: 1px solid #ddd;' +\n",
       "            'box-sizing: content-box;' +\n",
       "            'clear: both;' +\n",
       "            'min-height: 1px;' +\n",
       "            'min-width: 1px;' +\n",
       "            'outline: 0;' +\n",
       "            'overflow: hidden;' +\n",
       "            'position: relative;' +\n",
       "            'resize: both;'\n",
       "    );\n",
       "\n",
       "    function on_keyboard_event_closure(name) {\n",
       "        return function (event) {\n",
       "            return fig.key_event(event, name);\n",
       "        };\n",
       "    }\n",
       "\n",
       "    canvas_div.addEventListener(\n",
       "        'keydown',\n",
       "        on_keyboard_event_closure('key_press')\n",
       "    );\n",
       "    canvas_div.addEventListener(\n",
       "        'keyup',\n",
       "        on_keyboard_event_closure('key_release')\n",
       "    );\n",
       "\n",
       "    this._canvas_extra_style(canvas_div);\n",
       "    this.root.appendChild(canvas_div);\n",
       "\n",
       "    var canvas = (this.canvas = document.createElement('canvas'));\n",
       "    canvas.classList.add('mpl-canvas');\n",
       "    canvas.setAttribute('style', 'box-sizing: content-box;');\n",
       "\n",
       "    this.context = canvas.getContext('2d');\n",
       "\n",
       "    var backingStore =\n",
       "        this.context.backingStorePixelRatio ||\n",
       "        this.context.webkitBackingStorePixelRatio ||\n",
       "        this.context.mozBackingStorePixelRatio ||\n",
       "        this.context.msBackingStorePixelRatio ||\n",
       "        this.context.oBackingStorePixelRatio ||\n",
       "        this.context.backingStorePixelRatio ||\n",
       "        1;\n",
       "\n",
       "    this.ratio = (window.devicePixelRatio || 1) / backingStore;\n",
       "    if (this.ratio !== 1) {\n",
       "        fig.send_message('set_dpi_ratio', { dpi_ratio: this.ratio });\n",
       "    }\n",
       "\n",
       "    var rubberband_canvas = (this.rubberband_canvas = document.createElement(\n",
       "        'canvas'\n",
       "    ));\n",
       "    rubberband_canvas.setAttribute(\n",
       "        'style',\n",
       "        'box-sizing: content-box; position: absolute; left: 0; top: 0; z-index: 1;'\n",
       "    );\n",
       "\n",
       "    var resizeObserver = new ResizeObserver(function (entries) {\n",
       "        var nentries = entries.length;\n",
       "        for (var i = 0; i < nentries; i++) {\n",
       "            var entry = entries[i];\n",
       "            var width, height;\n",
       "            if (entry.contentBoxSize) {\n",
       "                if (entry.contentBoxSize instanceof Array) {\n",
       "                    // Chrome 84 implements new version of spec.\n",
       "                    width = entry.contentBoxSize[0].inlineSize;\n",
       "                    height = entry.contentBoxSize[0].blockSize;\n",
       "                } else {\n",
       "                    // Firefox implements old version of spec.\n",
       "                    width = entry.contentBoxSize.inlineSize;\n",
       "                    height = entry.contentBoxSize.blockSize;\n",
       "                }\n",
       "            } else {\n",
       "                // Chrome <84 implements even older version of spec.\n",
       "                width = entry.contentRect.width;\n",
       "                height = entry.contentRect.height;\n",
       "            }\n",
       "\n",
       "            // Keep the size of the canvas and rubber band canvas in sync with\n",
       "            // the canvas container.\n",
       "            if (entry.devicePixelContentBoxSize) {\n",
       "                // Chrome 84 implements new version of spec.\n",
       "                canvas.setAttribute(\n",
       "                    'width',\n",
       "                    entry.devicePixelContentBoxSize[0].inlineSize\n",
       "                );\n",
       "                canvas.setAttribute(\n",
       "                    'height',\n",
       "                    entry.devicePixelContentBoxSize[0].blockSize\n",
       "                );\n",
       "            } else {\n",
       "                canvas.setAttribute('width', width * fig.ratio);\n",
       "                canvas.setAttribute('height', height * fig.ratio);\n",
       "            }\n",
       "            canvas.setAttribute(\n",
       "                'style',\n",
       "                'width: ' + width + 'px; height: ' + height + 'px;'\n",
       "            );\n",
       "\n",
       "            rubberband_canvas.setAttribute('width', width);\n",
       "            rubberband_canvas.setAttribute('height', height);\n",
       "\n",
       "            // And update the size in Python. We ignore the initial 0/0 size\n",
       "            // that occurs as the element is placed into the DOM, which should\n",
       "            // otherwise not happen due to the minimum size styling.\n",
       "            if (width != 0 && height != 0) {\n",
       "                fig.request_resize(width, height);\n",
       "            }\n",
       "        }\n",
       "    });\n",
       "    resizeObserver.observe(canvas_div);\n",
       "\n",
       "    function on_mouse_event_closure(name) {\n",
       "        return function (event) {\n",
       "            return fig.mouse_event(event, name);\n",
       "        };\n",
       "    }\n",
       "\n",
       "    rubberband_canvas.addEventListener(\n",
       "        'mousedown',\n",
       "        on_mouse_event_closure('button_press')\n",
       "    );\n",
       "    rubberband_canvas.addEventListener(\n",
       "        'mouseup',\n",
       "        on_mouse_event_closure('button_release')\n",
       "    );\n",
       "    // Throttle sequential mouse events to 1 every 20ms.\n",
       "    rubberband_canvas.addEventListener(\n",
       "        'mousemove',\n",
       "        on_mouse_event_closure('motion_notify')\n",
       "    );\n",
       "\n",
       "    rubberband_canvas.addEventListener(\n",
       "        'mouseenter',\n",
       "        on_mouse_event_closure('figure_enter')\n",
       "    );\n",
       "    rubberband_canvas.addEventListener(\n",
       "        'mouseleave',\n",
       "        on_mouse_event_closure('figure_leave')\n",
       "    );\n",
       "\n",
       "    canvas_div.addEventListener('wheel', function (event) {\n",
       "        if (event.deltaY < 0) {\n",
       "            event.step = 1;\n",
       "        } else {\n",
       "            event.step = -1;\n",
       "        }\n",
       "        on_mouse_event_closure('scroll')(event);\n",
       "    });\n",
       "\n",
       "    canvas_div.appendChild(canvas);\n",
       "    canvas_div.appendChild(rubberband_canvas);\n",
       "\n",
       "    this.rubberband_context = rubberband_canvas.getContext('2d');\n",
       "    this.rubberband_context.strokeStyle = '#000000';\n",
       "\n",
       "    this._resize_canvas = function (width, height, forward) {\n",
       "        if (forward) {\n",
       "            canvas_div.style.width = width + 'px';\n",
       "            canvas_div.style.height = height + 'px';\n",
       "        }\n",
       "    };\n",
       "\n",
       "    // Disable right mouse context menu.\n",
       "    this.rubberband_canvas.addEventListener('contextmenu', function (_e) {\n",
       "        event.preventDefault();\n",
       "        return false;\n",
       "    });\n",
       "\n",
       "    function set_focus() {\n",
       "        canvas.focus();\n",
       "        canvas_div.focus();\n",
       "    }\n",
       "\n",
       "    window.setTimeout(set_focus, 100);\n",
       "};\n",
       "\n",
       "mpl.figure.prototype._init_toolbar = function () {\n",
       "    var fig = this;\n",
       "\n",
       "    var toolbar = document.createElement('div');\n",
       "    toolbar.classList = 'mpl-toolbar';\n",
       "    this.root.appendChild(toolbar);\n",
       "\n",
       "    function on_click_closure(name) {\n",
       "        return function (_event) {\n",
       "            return fig.toolbar_button_onclick(name);\n",
       "        };\n",
       "    }\n",
       "\n",
       "    function on_mouseover_closure(tooltip) {\n",
       "        return function (event) {\n",
       "            if (!event.currentTarget.disabled) {\n",
       "                return fig.toolbar_button_onmouseover(tooltip);\n",
       "            }\n",
       "        };\n",
       "    }\n",
       "\n",
       "    fig.buttons = {};\n",
       "    var buttonGroup = document.createElement('div');\n",
       "    buttonGroup.classList = 'mpl-button-group';\n",
       "    for (var toolbar_ind in mpl.toolbar_items) {\n",
       "        var name = mpl.toolbar_items[toolbar_ind][0];\n",
       "        var tooltip = mpl.toolbar_items[toolbar_ind][1];\n",
       "        var image = mpl.toolbar_items[toolbar_ind][2];\n",
       "        var method_name = mpl.toolbar_items[toolbar_ind][3];\n",
       "\n",
       "        if (!name) {\n",
       "            /* Instead of a spacer, we start a new button group. */\n",
       "            if (buttonGroup.hasChildNodes()) {\n",
       "                toolbar.appendChild(buttonGroup);\n",
       "            }\n",
       "            buttonGroup = document.createElement('div');\n",
       "            buttonGroup.classList = 'mpl-button-group';\n",
       "            continue;\n",
       "        }\n",
       "\n",
       "        var button = (fig.buttons[name] = document.createElement('button'));\n",
       "        button.classList = 'mpl-widget';\n",
       "        button.setAttribute('role', 'button');\n",
       "        button.setAttribute('aria-disabled', 'false');\n",
       "        button.addEventListener('click', on_click_closure(method_name));\n",
       "        button.addEventListener('mouseover', on_mouseover_closure(tooltip));\n",
       "\n",
       "        var icon_img = document.createElement('img');\n",
       "        icon_img.src = '_images/' + image + '.png';\n",
       "        icon_img.srcset = '_images/' + image + '_large.png 2x';\n",
       "        icon_img.alt = tooltip;\n",
       "        button.appendChild(icon_img);\n",
       "\n",
       "        buttonGroup.appendChild(button);\n",
       "    }\n",
       "\n",
       "    if (buttonGroup.hasChildNodes()) {\n",
       "        toolbar.appendChild(buttonGroup);\n",
       "    }\n",
       "\n",
       "    var fmt_picker = document.createElement('select');\n",
       "    fmt_picker.classList = 'mpl-widget';\n",
       "    toolbar.appendChild(fmt_picker);\n",
       "    this.format_dropdown = fmt_picker;\n",
       "\n",
       "    for (var ind in mpl.extensions) {\n",
       "        var fmt = mpl.extensions[ind];\n",
       "        var option = document.createElement('option');\n",
       "        option.selected = fmt === mpl.default_extension;\n",
       "        option.innerHTML = fmt;\n",
       "        fmt_picker.appendChild(option);\n",
       "    }\n",
       "\n",
       "    var status_bar = document.createElement('span');\n",
       "    status_bar.classList = 'mpl-message';\n",
       "    toolbar.appendChild(status_bar);\n",
       "    this.message = status_bar;\n",
       "};\n",
       "\n",
       "mpl.figure.prototype.request_resize = function (x_pixels, y_pixels) {\n",
       "    // Request matplotlib to resize the figure. Matplotlib will then trigger a resize in the client,\n",
       "    // which will in turn request a refresh of the image.\n",
       "    this.send_message('resize', { width: x_pixels, height: y_pixels });\n",
       "};\n",
       "\n",
       "mpl.figure.prototype.send_message = function (type, properties) {\n",
       "    properties['type'] = type;\n",
       "    properties['figure_id'] = this.id;\n",
       "    this.ws.send(JSON.stringify(properties));\n",
       "};\n",
       "\n",
       "mpl.figure.prototype.send_draw_message = function () {\n",
       "    if (!this.waiting) {\n",
       "        this.waiting = true;\n",
       "        this.ws.send(JSON.stringify({ type: 'draw', figure_id: this.id }));\n",
       "    }\n",
       "};\n",
       "\n",
       "mpl.figure.prototype.handle_save = function (fig, _msg) {\n",
       "    var format_dropdown = fig.format_dropdown;\n",
       "    var format = format_dropdown.options[format_dropdown.selectedIndex].value;\n",
       "    fig.ondownload(fig, format);\n",
       "};\n",
       "\n",
       "mpl.figure.prototype.handle_resize = function (fig, msg) {\n",
       "    var size = msg['size'];\n",
       "    if (size[0] !== fig.canvas.width || size[1] !== fig.canvas.height) {\n",
       "        fig._resize_canvas(size[0], size[1], msg['forward']);\n",
       "        fig.send_message('refresh', {});\n",
       "    }\n",
       "};\n",
       "\n",
       "mpl.figure.prototype.handle_rubberband = function (fig, msg) {\n",
       "    var x0 = msg['x0'] / fig.ratio;\n",
       "    var y0 = (fig.canvas.height - msg['y0']) / fig.ratio;\n",
       "    var x1 = msg['x1'] / fig.ratio;\n",
       "    var y1 = (fig.canvas.height - msg['y1']) / fig.ratio;\n",
       "    x0 = Math.floor(x0) + 0.5;\n",
       "    y0 = Math.floor(y0) + 0.5;\n",
       "    x1 = Math.floor(x1) + 0.5;\n",
       "    y1 = Math.floor(y1) + 0.5;\n",
       "    var min_x = Math.min(x0, x1);\n",
       "    var min_y = Math.min(y0, y1);\n",
       "    var width = Math.abs(x1 - x0);\n",
       "    var height = Math.abs(y1 - y0);\n",
       "\n",
       "    fig.rubberband_context.clearRect(\n",
       "        0,\n",
       "        0,\n",
       "        fig.canvas.width / fig.ratio,\n",
       "        fig.canvas.height / fig.ratio\n",
       "    );\n",
       "\n",
       "    fig.rubberband_context.strokeRect(min_x, min_y, width, height);\n",
       "};\n",
       "\n",
       "mpl.figure.prototype.handle_figure_label = function (fig, msg) {\n",
       "    // Updates the figure title.\n",
       "    fig.header.textContent = msg['label'];\n",
       "};\n",
       "\n",
       "mpl.figure.prototype.handle_cursor = function (fig, msg) {\n",
       "    var cursor = msg['cursor'];\n",
       "    switch (cursor) {\n",
       "        case 0:\n",
       "            cursor = 'pointer';\n",
       "            break;\n",
       "        case 1:\n",
       "            cursor = 'default';\n",
       "            break;\n",
       "        case 2:\n",
       "            cursor = 'crosshair';\n",
       "            break;\n",
       "        case 3:\n",
       "            cursor = 'move';\n",
       "            break;\n",
       "    }\n",
       "    fig.rubberband_canvas.style.cursor = cursor;\n",
       "};\n",
       "\n",
       "mpl.figure.prototype.handle_message = function (fig, msg) {\n",
       "    fig.message.textContent = msg['message'];\n",
       "};\n",
       "\n",
       "mpl.figure.prototype.handle_draw = function (fig, _msg) {\n",
       "    // Request the server to send over a new figure.\n",
       "    fig.send_draw_message();\n",
       "};\n",
       "\n",
       "mpl.figure.prototype.handle_image_mode = function (fig, msg) {\n",
       "    fig.image_mode = msg['mode'];\n",
       "};\n",
       "\n",
       "mpl.figure.prototype.handle_history_buttons = function (fig, msg) {\n",
       "    for (var key in msg) {\n",
       "        if (!(key in fig.buttons)) {\n",
       "            continue;\n",
       "        }\n",
       "        fig.buttons[key].disabled = !msg[key];\n",
       "        fig.buttons[key].setAttribute('aria-disabled', !msg[key]);\n",
       "    }\n",
       "};\n",
       "\n",
       "mpl.figure.prototype.handle_navigate_mode = function (fig, msg) {\n",
       "    if (msg['mode'] === 'PAN') {\n",
       "        fig.buttons['Pan'].classList.add('active');\n",
       "        fig.buttons['Zoom'].classList.remove('active');\n",
       "    } else if (msg['mode'] === 'ZOOM') {\n",
       "        fig.buttons['Pan'].classList.remove('active');\n",
       "        fig.buttons['Zoom'].classList.add('active');\n",
       "    } else {\n",
       "        fig.buttons['Pan'].classList.remove('active');\n",
       "        fig.buttons['Zoom'].classList.remove('active');\n",
       "    }\n",
       "};\n",
       "\n",
       "mpl.figure.prototype.updated_canvas_event = function () {\n",
       "    // Called whenever the canvas gets updated.\n",
       "    this.send_message('ack', {});\n",
       "};\n",
       "\n",
       "// A function to construct a web socket function for onmessage handling.\n",
       "// Called in the figure constructor.\n",
       "mpl.figure.prototype._make_on_message_function = function (fig) {\n",
       "    return function socket_on_message(evt) {\n",
       "        if (evt.data instanceof Blob) {\n",
       "            /* FIXME: We get \"Resource interpreted as Image but\n",
       "             * transferred with MIME type text/plain:\" errors on\n",
       "             * Chrome.  But how to set the MIME type?  It doesn't seem\n",
       "             * to be part of the websocket stream */\n",
       "            evt.data.type = 'image/png';\n",
       "\n",
       "            /* Free the memory for the previous frames */\n",
       "            if (fig.imageObj.src) {\n",
       "                (window.URL || window.webkitURL).revokeObjectURL(\n",
       "                    fig.imageObj.src\n",
       "                );\n",
       "            }\n",
       "\n",
       "            fig.imageObj.src = (window.URL || window.webkitURL).createObjectURL(\n",
       "                evt.data\n",
       "            );\n",
       "            fig.updated_canvas_event();\n",
       "            fig.waiting = false;\n",
       "            return;\n",
       "        } else if (\n",
       "            typeof evt.data === 'string' &&\n",
       "            evt.data.slice(0, 21) === 'data:image/png;base64'\n",
       "        ) {\n",
       "            fig.imageObj.src = evt.data;\n",
       "            fig.updated_canvas_event();\n",
       "            fig.waiting = false;\n",
       "            return;\n",
       "        }\n",
       "\n",
       "        var msg = JSON.parse(evt.data);\n",
       "        var msg_type = msg['type'];\n",
       "\n",
       "        // Call the  \"handle_{type}\" callback, which takes\n",
       "        // the figure and JSON message as its only arguments.\n",
       "        try {\n",
       "            var callback = fig['handle_' + msg_type];\n",
       "        } catch (e) {\n",
       "            console.log(\n",
       "                \"No handler for the '\" + msg_type + \"' message type: \",\n",
       "                msg\n",
       "            );\n",
       "            return;\n",
       "        }\n",
       "\n",
       "        if (callback) {\n",
       "            try {\n",
       "                // console.log(\"Handling '\" + msg_type + \"' message: \", msg);\n",
       "                callback(fig, msg);\n",
       "            } catch (e) {\n",
       "                console.log(\n",
       "                    \"Exception inside the 'handler_\" + msg_type + \"' callback:\",\n",
       "                    e,\n",
       "                    e.stack,\n",
       "                    msg\n",
       "                );\n",
       "            }\n",
       "        }\n",
       "    };\n",
       "};\n",
       "\n",
       "// from http://stackoverflow.com/questions/1114465/getting-mouse-location-in-canvas\n",
       "mpl.findpos = function (e) {\n",
       "    //this section is from http://www.quirksmode.org/js/events_properties.html\n",
       "    var targ;\n",
       "    if (!e) {\n",
       "        e = window.event;\n",
       "    }\n",
       "    if (e.target) {\n",
       "        targ = e.target;\n",
       "    } else if (e.srcElement) {\n",
       "        targ = e.srcElement;\n",
       "    }\n",
       "    if (targ.nodeType === 3) {\n",
       "        // defeat Safari bug\n",
       "        targ = targ.parentNode;\n",
       "    }\n",
       "\n",
       "    // pageX,Y are the mouse positions relative to the document\n",
       "    var boundingRect = targ.getBoundingClientRect();\n",
       "    var x = e.pageX - (boundingRect.left + document.body.scrollLeft);\n",
       "    var y = e.pageY - (boundingRect.top + document.body.scrollTop);\n",
       "\n",
       "    return { x: x, y: y };\n",
       "};\n",
       "\n",
       "/*\n",
       " * return a copy of an object with only non-object keys\n",
       " * we need this to avoid circular references\n",
       " * http://stackoverflow.com/a/24161582/3208463\n",
       " */\n",
       "function simpleKeys(original) {\n",
       "    return Object.keys(original).reduce(function (obj, key) {\n",
       "        if (typeof original[key] !== 'object') {\n",
       "            obj[key] = original[key];\n",
       "        }\n",
       "        return obj;\n",
       "    }, {});\n",
       "}\n",
       "\n",
       "mpl.figure.prototype.mouse_event = function (event, name) {\n",
       "    var canvas_pos = mpl.findpos(event);\n",
       "\n",
       "    if (name === 'button_press') {\n",
       "        this.canvas.focus();\n",
       "        this.canvas_div.focus();\n",
       "    }\n",
       "\n",
       "    var x = canvas_pos.x * this.ratio;\n",
       "    var y = canvas_pos.y * this.ratio;\n",
       "\n",
       "    this.send_message(name, {\n",
       "        x: x,\n",
       "        y: y,\n",
       "        button: event.button,\n",
       "        step: event.step,\n",
       "        guiEvent: simpleKeys(event),\n",
       "    });\n",
       "\n",
       "    /* This prevents the web browser from automatically changing to\n",
       "     * the text insertion cursor when the button is pressed.  We want\n",
       "     * to control all of the cursor setting manually through the\n",
       "     * 'cursor' event from matplotlib */\n",
       "    event.preventDefault();\n",
       "    return false;\n",
       "};\n",
       "\n",
       "mpl.figure.prototype._key_event_extra = function (_event, _name) {\n",
       "    // Handle any extra behaviour associated with a key event\n",
       "};\n",
       "\n",
       "mpl.figure.prototype.key_event = function (event, name) {\n",
       "    // Prevent repeat events\n",
       "    if (name === 'key_press') {\n",
       "        if (event.which === this._key) {\n",
       "            return;\n",
       "        } else {\n",
       "            this._key = event.which;\n",
       "        }\n",
       "    }\n",
       "    if (name === 'key_release') {\n",
       "        this._key = null;\n",
       "    }\n",
       "\n",
       "    var value = '';\n",
       "    if (event.ctrlKey && event.which !== 17) {\n",
       "        value += 'ctrl+';\n",
       "    }\n",
       "    if (event.altKey && event.which !== 18) {\n",
       "        value += 'alt+';\n",
       "    }\n",
       "    if (event.shiftKey && event.which !== 16) {\n",
       "        value += 'shift+';\n",
       "    }\n",
       "\n",
       "    value += 'k';\n",
       "    value += event.which.toString();\n",
       "\n",
       "    this._key_event_extra(event, name);\n",
       "\n",
       "    this.send_message(name, { key: value, guiEvent: simpleKeys(event) });\n",
       "    return false;\n",
       "};\n",
       "\n",
       "mpl.figure.prototype.toolbar_button_onclick = function (name) {\n",
       "    if (name === 'download') {\n",
       "        this.handle_save(this, null);\n",
       "    } else {\n",
       "        this.send_message('toolbar_button', { name: name });\n",
       "    }\n",
       "};\n",
       "\n",
       "mpl.figure.prototype.toolbar_button_onmouseover = function (tooltip) {\n",
       "    this.message.textContent = tooltip;\n",
       "};\n",
       "mpl.toolbar_items = [[\"Home\", \"Reset original view\", \"fa fa-home icon-home\", \"home\"], [\"Back\", \"Back to previous view\", \"fa fa-arrow-left icon-arrow-left\", \"back\"], [\"Forward\", \"Forward to next view\", \"fa fa-arrow-right icon-arrow-right\", \"forward\"], [\"\", \"\", \"\", \"\"], [\"Pan\", \"Left button pans, Right button zooms\\nx/y fixes axis, CTRL fixes aspect\", \"fa fa-arrows icon-move\", \"pan\"], [\"Zoom\", \"Zoom to rectangle\\nx/y fixes axis, CTRL fixes aspect\", \"fa fa-square-o icon-check-empty\", \"zoom\"], [\"\", \"\", \"\", \"\"], [\"Download\", \"Download plot\", \"fa fa-floppy-o icon-save\", \"download\"]];\n",
       "\n",
       "mpl.extensions = [\"eps\", \"jpeg\", \"pdf\", \"png\", \"ps\", \"raw\", \"svg\", \"tif\"];\n",
       "\n",
       "mpl.default_extension = \"png\";/* global mpl */\n",
       "\n",
       "var comm_websocket_adapter = function (comm) {\n",
       "    // Create a \"websocket\"-like object which calls the given IPython comm\n",
       "    // object with the appropriate methods. Currently this is a non binary\n",
       "    // socket, so there is still some room for performance tuning.\n",
       "    var ws = {};\n",
       "\n",
       "    ws.close = function () {\n",
       "        comm.close();\n",
       "    };\n",
       "    ws.send = function (m) {\n",
       "        //console.log('sending', m);\n",
       "        comm.send(m);\n",
       "    };\n",
       "    // Register the callback with on_msg.\n",
       "    comm.on_msg(function (msg) {\n",
       "        //console.log('receiving', msg['content']['data'], msg);\n",
       "        // Pass the mpl event to the overridden (by mpl) onmessage function.\n",
       "        ws.onmessage(msg['content']['data']);\n",
       "    });\n",
       "    return ws;\n",
       "};\n",
       "\n",
       "mpl.mpl_figure_comm = function (comm, msg) {\n",
       "    // This is the function which gets called when the mpl process\n",
       "    // starts-up an IPython Comm through the \"matplotlib\" channel.\n",
       "\n",
       "    var id = msg.content.data.id;\n",
       "    // Get hold of the div created by the display call when the Comm\n",
       "    // socket was opened in Python.\n",
       "    var element = document.getElementById(id);\n",
       "    var ws_proxy = comm_websocket_adapter(comm);\n",
       "\n",
       "    function ondownload(figure, _format) {\n",
       "        window.open(figure.canvas.toDataURL());\n",
       "    }\n",
       "\n",
       "    var fig = new mpl.figure(id, ws_proxy, ondownload, element);\n",
       "\n",
       "    // Call onopen now - mpl needs it, as it is assuming we've passed it a real\n",
       "    // web socket which is closed, not our websocket->open comm proxy.\n",
       "    ws_proxy.onopen();\n",
       "\n",
       "    fig.parent_element = element;\n",
       "    fig.cell_info = mpl.find_output_cell(\"<div id='\" + id + \"'></div>\");\n",
       "    if (!fig.cell_info) {\n",
       "        console.error('Failed to find cell for figure', id, fig);\n",
       "        return;\n",
       "    }\n",
       "    fig.cell_info[0].output_area.element.one(\n",
       "        'cleared',\n",
       "        { fig: fig },\n",
       "        fig._remove_fig_handler\n",
       "    );\n",
       "};\n",
       "\n",
       "mpl.figure.prototype.handle_close = function (fig, msg) {\n",
       "    var width = fig.canvas.width / fig.ratio;\n",
       "    fig.cell_info[0].output_area.element.off(\n",
       "        'cleared',\n",
       "        fig._remove_fig_handler\n",
       "    );\n",
       "\n",
       "    // Update the output cell to use the data from the current canvas.\n",
       "    fig.push_to_output();\n",
       "    var dataURL = fig.canvas.toDataURL();\n",
       "    // Re-enable the keyboard manager in IPython - without this line, in FF,\n",
       "    // the notebook keyboard shortcuts fail.\n",
       "    IPython.keyboard_manager.enable();\n",
       "    fig.parent_element.innerHTML =\n",
       "        '<img src=\"' + dataURL + '\" width=\"' + width + '\">';\n",
       "    fig.close_ws(fig, msg);\n",
       "};\n",
       "\n",
       "mpl.figure.prototype.close_ws = function (fig, msg) {\n",
       "    fig.send_message('closing', msg);\n",
       "    // fig.ws.close()\n",
       "};\n",
       "\n",
       "mpl.figure.prototype.push_to_output = function (_remove_interactive) {\n",
       "    // Turn the data on the canvas into data in the output cell.\n",
       "    var width = this.canvas.width / this.ratio;\n",
       "    var dataURL = this.canvas.toDataURL();\n",
       "    this.cell_info[1]['text/html'] =\n",
       "        '<img src=\"' + dataURL + '\" width=\"' + width + '\">';\n",
       "};\n",
       "\n",
       "mpl.figure.prototype.updated_canvas_event = function () {\n",
       "    // Tell IPython that the notebook contents must change.\n",
       "    IPython.notebook.set_dirty(true);\n",
       "    this.send_message('ack', {});\n",
       "    var fig = this;\n",
       "    // Wait a second, then push the new image to the DOM so\n",
       "    // that it is saved nicely (might be nice to debounce this).\n",
       "    setTimeout(function () {\n",
       "        fig.push_to_output();\n",
       "    }, 1000);\n",
       "};\n",
       "\n",
       "mpl.figure.prototype._init_toolbar = function () {\n",
       "    var fig = this;\n",
       "\n",
       "    var toolbar = document.createElement('div');\n",
       "    toolbar.classList = 'btn-toolbar';\n",
       "    this.root.appendChild(toolbar);\n",
       "\n",
       "    function on_click_closure(name) {\n",
       "        return function (_event) {\n",
       "            return fig.toolbar_button_onclick(name);\n",
       "        };\n",
       "    }\n",
       "\n",
       "    function on_mouseover_closure(tooltip) {\n",
       "        return function (event) {\n",
       "            if (!event.currentTarget.disabled) {\n",
       "                return fig.toolbar_button_onmouseover(tooltip);\n",
       "            }\n",
       "        };\n",
       "    }\n",
       "\n",
       "    fig.buttons = {};\n",
       "    var buttonGroup = document.createElement('div');\n",
       "    buttonGroup.classList = 'btn-group';\n",
       "    var button;\n",
       "    for (var toolbar_ind in mpl.toolbar_items) {\n",
       "        var name = mpl.toolbar_items[toolbar_ind][0];\n",
       "        var tooltip = mpl.toolbar_items[toolbar_ind][1];\n",
       "        var image = mpl.toolbar_items[toolbar_ind][2];\n",
       "        var method_name = mpl.toolbar_items[toolbar_ind][3];\n",
       "\n",
       "        if (!name) {\n",
       "            /* Instead of a spacer, we start a new button group. */\n",
       "            if (buttonGroup.hasChildNodes()) {\n",
       "                toolbar.appendChild(buttonGroup);\n",
       "            }\n",
       "            buttonGroup = document.createElement('div');\n",
       "            buttonGroup.classList = 'btn-group';\n",
       "            continue;\n",
       "        }\n",
       "\n",
       "        button = fig.buttons[name] = document.createElement('button');\n",
       "        button.classList = 'btn btn-default';\n",
       "        button.href = '#';\n",
       "        button.title = name;\n",
       "        button.innerHTML = '<i class=\"fa ' + image + ' fa-lg\"></i>';\n",
       "        button.addEventListener('click', on_click_closure(method_name));\n",
       "        button.addEventListener('mouseover', on_mouseover_closure(tooltip));\n",
       "        buttonGroup.appendChild(button);\n",
       "    }\n",
       "\n",
       "    if (buttonGroup.hasChildNodes()) {\n",
       "        toolbar.appendChild(buttonGroup);\n",
       "    }\n",
       "\n",
       "    // Add the status bar.\n",
       "    var status_bar = document.createElement('span');\n",
       "    status_bar.classList = 'mpl-message pull-right';\n",
       "    toolbar.appendChild(status_bar);\n",
       "    this.message = status_bar;\n",
       "\n",
       "    // Add the close button to the window.\n",
       "    var buttongrp = document.createElement('div');\n",
       "    buttongrp.classList = 'btn-group inline pull-right';\n",
       "    button = document.createElement('button');\n",
       "    button.classList = 'btn btn-mini btn-primary';\n",
       "    button.href = '#';\n",
       "    button.title = 'Stop Interaction';\n",
       "    button.innerHTML = '<i class=\"fa fa-power-off icon-remove icon-large\"></i>';\n",
       "    button.addEventListener('click', function (_evt) {\n",
       "        fig.handle_close(fig, {});\n",
       "    });\n",
       "    button.addEventListener(\n",
       "        'mouseover',\n",
       "        on_mouseover_closure('Stop Interaction')\n",
       "    );\n",
       "    buttongrp.appendChild(button);\n",
       "    var titlebar = this.root.querySelector('.ui-dialog-titlebar');\n",
       "    titlebar.insertBefore(buttongrp, titlebar.firstChild);\n",
       "};\n",
       "\n",
       "mpl.figure.prototype._remove_fig_handler = function (event) {\n",
       "    var fig = event.data.fig;\n",
       "    fig.close_ws(fig, {});\n",
       "};\n",
       "\n",
       "mpl.figure.prototype._root_extra_style = function (el) {\n",
       "    el.style.boxSizing = 'content-box'; // override notebook setting of border-box.\n",
       "};\n",
       "\n",
       "mpl.figure.prototype._canvas_extra_style = function (el) {\n",
       "    // this is important to make the div 'focusable\n",
       "    el.setAttribute('tabindex', 0);\n",
       "    // reach out to IPython and tell the keyboard manager to turn it's self\n",
       "    // off when our div gets focus\n",
       "\n",
       "    // location in version 3\n",
       "    if (IPython.notebook.keyboard_manager) {\n",
       "        IPython.notebook.keyboard_manager.register_events(el);\n",
       "    } else {\n",
       "        // location in version 2\n",
       "        IPython.keyboard_manager.register_events(el);\n",
       "    }\n",
       "};\n",
       "\n",
       "mpl.figure.prototype._key_event_extra = function (event, _name) {\n",
       "    var manager = IPython.notebook.keyboard_manager;\n",
       "    if (!manager) {\n",
       "        manager = IPython.keyboard_manager;\n",
       "    }\n",
       "\n",
       "    // Check for shift+enter\n",
       "    if (event.shiftKey && event.which === 13) {\n",
       "        this.canvas_div.blur();\n",
       "        // select the cell after this one\n",
       "        var index = IPython.notebook.find_cell_index(this.cell_info[0]);\n",
       "        IPython.notebook.select(index + 1);\n",
       "    }\n",
       "};\n",
       "\n",
       "mpl.figure.prototype.handle_save = function (fig, _msg) {\n",
       "    fig.ondownload(fig, null);\n",
       "};\n",
       "\n",
       "mpl.find_output_cell = function (html_output) {\n",
       "    // Return the cell and output element which can be found *uniquely* in the notebook.\n",
       "    // Note - this is a bit hacky, but it is done because the \"notebook_saving.Notebook\"\n",
       "    // IPython event is triggered only after the cells have been serialised, which for\n",
       "    // our purposes (turning an active figure into a static one), is too late.\n",
       "    var cells = IPython.notebook.get_cells();\n",
       "    var ncells = cells.length;\n",
       "    for (var i = 0; i < ncells; i++) {\n",
       "        var cell = cells[i];\n",
       "        if (cell.cell_type === 'code') {\n",
       "            for (var j = 0; j < cell.output_area.outputs.length; j++) {\n",
       "                var data = cell.output_area.outputs[j];\n",
       "                if (data.data) {\n",
       "                    // IPython >= 3 moved mimebundle to data attribute of output\n",
       "                    data = data.data;\n",
       "                }\n",
       "                if (data['text/html'] === html_output) {\n",
       "                    return [cell, data, j];\n",
       "                }\n",
       "            }\n",
       "        }\n",
       "    }\n",
       "};\n",
       "\n",
       "// Register the function which deals with the matplotlib target/channel.\n",
       "// The kernel may be null if the page has been refreshed.\n",
       "if (IPython.notebook.kernel !== null) {\n",
       "    IPython.notebook.kernel.comm_manager.register_target(\n",
       "        'matplotlib',\n",
       "        mpl.mpl_figure_comm\n",
       "    );\n",
       "}\n"
      ],
      "text/plain": [
       "<IPython.core.display.Javascript object>"
      ]
     },
     "metadata": {},
     "output_type": "display_data"
    },
    {
     "data": {
      "text/html": [
       "<img src=\"data:image/png;base64,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\" width=\"800\">"
      ],
      "text/plain": [
       "<IPython.core.display.HTML object>"
      ]
     },
     "metadata": {},
     "output_type": "display_data"
    },
    {
     "ename": "NameError",
     "evalue": "name 'imageNames' is not defined",
     "output_type": "error",
     "traceback": [
      "\u001b[0;31m---------------------------------------------------------------------------\u001b[0m",
      "\u001b[0;31mNameError\u001b[0m                                 Traceback (most recent call last)",
      "\u001b[0;32m<ipython-input-20-9cb6e6db0a3b>\u001b[0m in \u001b[0;36m<module>\u001b[0;34m\u001b[0m\n\u001b[0;32m----> 1\u001b[0;31m \u001b[0mplot_ax\u001b[0m \u001b[0;34m=\u001b[0m \u001b[0mcreate_plot\u001b[0m\u001b[0;34m(\u001b[0m\u001b[0mdf_2D\u001b[0m\u001b[0;34m)\u001b[0m\u001b[0;34m\u001b[0m\u001b[0;34m\u001b[0m\u001b[0m\n\u001b[0m",
      "\u001b[0;32m<ipython-input-17-0ec5829908b8>\u001b[0m in \u001b[0;36mcreate_plot\u001b[0;34m(data2D, title)\u001b[0m\n\u001b[1;32m     17\u001b[0m     \u001b[0max\u001b[0m\u001b[0;34m.\u001b[0m\u001b[0mellipse\u001b[0m \u001b[0;34m=\u001b[0m \u001b[0;32mNone\u001b[0m\u001b[0;34m\u001b[0m\u001b[0;34m\u001b[0m\u001b[0m\n\u001b[1;32m     18\u001b[0m     \u001b[0max\u001b[0m\u001b[0;34m.\u001b[0m\u001b[0mdragpoint\u001b[0m \u001b[0;34m=\u001b[0m \u001b[0;32mNone\u001b[0m\u001b[0;34m\u001b[0m\u001b[0;34m\u001b[0m\u001b[0m\n\u001b[0;32m---> 19\u001b[0;31m     \u001b[0mdraw_plot\u001b[0m\u001b[0;34m(\u001b[0m\u001b[0max\u001b[0m\u001b[0;34m,\u001b[0m \u001b[0mdata2D\u001b[0m\u001b[0;34m,\u001b[0m \u001b[0mimageNames\u001b[0m\u001b[0;34m,\u001b[0m \u001b[0mtitle\u001b[0m\u001b[0;34m)\u001b[0m\u001b[0;34m\u001b[0m\u001b[0;34m\u001b[0m\u001b[0m\n\u001b[0m\u001b[1;32m     20\u001b[0m     \u001b[0;32mreturn\u001b[0m \u001b[0max\u001b[0m\u001b[0;34m\u001b[0m\u001b[0;34m\u001b[0m\u001b[0m\n\u001b[1;32m     21\u001b[0m \u001b[0;34m\u001b[0m\u001b[0m\n",
      "\u001b[0;31mNameError\u001b[0m: name 'imageNames' is not defined"
     ]
    }
   ],
   "source": [
    "plot_ax = create_plot(df_2D)"
   ]
  },
  {
   "cell_type": "code",
   "execution_count": null,
   "metadata": {},
   "outputs": [],
   "source": [
    "toggle_title = create_checkbox()"
   ]
  },
  {
   "cell_type": "markdown",
   "metadata": {},
   "source": [
    "##  Selected Points Details\n",
    "Click the **Print** button below to display detailed data values of the points selected in the DR plot.  The selected points are Green."
   ]
  },
  {
   "cell_type": "code",
   "execution_count": null,
   "metadata": {
    "scrolled": false
   },
   "outputs": [],
   "source": [
    "dod = create_detail_display()"
   ]
  },
  {
   "cell_type": "markdown",
   "metadata": {},
   "source": [
    "## Inverse Dimension Reduction\n",
    "After selecting and/or dragging some points in the DR plot, click the **Learn** button to machine learn new dimension weights that would produce a plot with similar pairwise distances as your plot.  **Only the Green selected points** in the plot are considered when learning new weights. You must select or move at least two points to specify new desired distances. Use this to create your own clusters, and find out what makes some data points similar to or different from others.  The **learned weights** are shown in a bar chart below.\n",
    "\n",
    "To see the effects of the learned weights, click the **Copy** button to apply the learned weights to the sliders and  make a new DR plot above."
   ]
  },
  {
   "cell_type": "code",
   "execution_count": null,
   "metadata": {
    "scrolled": false
   },
   "outputs": [],
   "source": [
    "inverse = create_inverse_button()"
   ]
  }
 ],
 "metadata": {
  "kernelspec": {
   "display_name": "Python 3",
   "language": "python",
   "name": "python3"
  },
  "language_info": {
   "codemirror_mode": {
    "name": "ipython",
    "version": 3
   },
   "file_extension": ".py",
   "mimetype": "text/x-python",
   "name": "python",
   "nbconvert_exporter": "python",
   "pygments_lexer": "ipython3",
   "version": "3.7.9"
  }
 },
 "nbformat": 4,
 "nbformat_minor": 1
}
