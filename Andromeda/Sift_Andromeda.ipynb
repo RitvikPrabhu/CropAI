{
 "cells": [
  {
   "cell_type": "markdown",
   "metadata": {},
   "source": [
    "# Andromeda in Jupyter\n",
    "\n",
    "### Interactive Inverse Dimension Reduction \n",
    "\n",
    "This notebook implements interactive dimension reduction (DR) for exploratory analysis of high-dimensional data.\n",
    "It uses a Multi-Dimensional Scaling (MDS) algorithm with a weighted distance metric. It enables both forward and inverse DR interaction. \n",
    "\n",
    "**MDS** projects high-dimensional data to a 2D scatterplot. A **weighted distance function** with user-specified weights on each dimension enables alternative projections that emphasize different dimensions. An **Inverse-DR** algorithm learns distance function weights for  user-constructed layouts of the data points.\n",
    "\n",
    "### Instructions:\n",
    "\n",
    "1. Run All\n",
    "1. Proceed to the interactive plots near the bottom\n",
    "1. There are three kinds of interactions:\n",
    "    1. Select points in the DR plot and click Details to see data values.\n",
    "    1. **Parametric interaction:** Adjust the weight sliders and click Apply to alter the projection plot.\n",
    "    1. **Projection interaction:** Drag points in the projection plot, then click Learn to see learned weights, and click Copy to see the updated projection plot.\n",
    "1. Be patient, its interactive matplotlib in python and Jupyter!\n",
    "\n",
    "### Credits:\n",
    "\n",
    "Authors: Han Liu and Chris North, Dept of Computer Science, Virginia Tech.\n",
    "\n",
    "Based on: *Self JZ, Dowling M, Wenskovitch J, Crandell I, Wang M, House L, Leman S, North C. Observation-Level and Parametric Interaction for High-Dimensional Data Analysis. ACM Transactions on Interactive Intelligent Systems.  8(2), 2018.* https://infovis.cs.vt.edu/sites/default/files/observation-level-parametric_first_look_version.pdf\n"
   ]
  },
  {
   "cell_type": "code",
   "execution_count": 1,
   "metadata": {},
   "outputs": [],
   "source": [
    "%matplotlib notebook\n",
    "# interactive notebook format is required for the interactive plot\n",
    "\n",
    "import numpy as np\n",
    "import pandas as pd\n",
    "import math\n",
    "import random\n",
    "\n",
    "from sklearn.decomposition import PCA\n",
    "from sklearn.manifold import MDS\n",
    "import sklearn.metrics.pairwise\n",
    "\n",
    "import matplotlib\n",
    "import matplotlib.pyplot as plt\n",
    "import ipywidgets as widgets\n",
    "from IPython.display import display"
   ]
  },
  {
   "cell_type": "markdown",
   "metadata": {},
   "source": [
    "# Load and Pre-process Data\n",
    "\n",
    "Change the **filename** to load a dataset.  CSV data file is expected to have a first column 'Name' that is used as the index, and header row of column names.  Numeric columns are used for projection."
   ]
  },
  {
   "cell_type": "code",
   "execution_count": 2,
   "metadata": {},
   "outputs": [
    {
     "name": "stdout",
     "output_type": "stream",
     "text": [
      "ColorHist.ipynb            SampleImgData.ipynb\r\n",
      "ColorHist_Andromeda.ipynb  Sift_Andromeda.ipynb\r\n",
      "ColorHist_Andromeda2.ipynb cropTest_1.ipynb\r\n",
      "Crop.ipynb                 \u001b[1m\u001b[36mcsvFiles\u001b[m\u001b[m\r\n",
      "Crop.py                    grabcut.py\r\n",
      "\u001b[1m\u001b[36mCrop_batch1\u001b[m\u001b[m                \u001b[1m\u001b[36msampleData\u001b[m\u001b[m\r\n",
      "\u001b[1m\u001b[36mCrop_batch2\u001b[m\u001b[m                \u001b[1m\u001b[36mtestIMG\u001b[m\u001b[m\r\n",
      "\u001b[1m\u001b[36mCrops\u001b[m\u001b[m                      \u001b[1m\u001b[36mtestTrainingData\u001b[m\u001b[m\r\n",
      "OpponentSIFT.ipynb         \u001b[1m\u001b[36mtestTrainingData2\u001b[m\u001b[m\r\n",
      "Pre-trainedResNet.ipynb    \u001b[1m\u001b[36mtestTrainingDataMix\u001b[m\u001b[m\r\n",
      "\u001b[1m\u001b[36mRawData\u001b[m\u001b[m                    \u001b[1m\u001b[36mtestTrainingLate\u001b[m\u001b[m\r\n",
      "SIFT.ipynb                 \u001b[1m\u001b[36mtestTrainingReady\u001b[m\u001b[m\r\n"
     ]
    }
   ],
   "source": [
    "! ls "
   ]
  },
  {
   "cell_type": "code",
   "execution_count": 3,
   "metadata": {},
   "outputs": [],
   "source": [
    "# filename = 'Animal_Data_Andromeda.csv'\n",
    "#filename = 'InfoVis_Fall_2015_Survey.csv'\n",
    "filename = '../csvFiles/gray_SiftFeatures.csv'\n",
    "df = pd.read_csv(filename)\n",
    "df['Image'] = df['Image'].apply(lambda x: x.split('_')[2]+ x.split('_')[-2]+x.split('_')[-1])"
   ]
  },
  {
   "cell_type": "code",
   "execution_count": 4,
   "metadata": {},
   "outputs": [
    {
     "data": {
      "text/plain": [
       "(40, 513)"
      ]
     },
     "metadata": {},
     "output_type": "display_data"
    },
    {
     "data": {
      "text/html": [
       "<div>\n",
       "<style scoped>\n",
       "    .dataframe tbody tr th:only-of-type {\n",
       "        vertical-align: middle;\n",
       "    }\n",
       "\n",
       "    .dataframe tbody tr th {\n",
       "        vertical-align: top;\n",
       "    }\n",
       "\n",
       "    .dataframe thead th {\n",
       "        text-align: right;\n",
       "    }\n",
       "</style>\n",
       "<table border=\"1\" class=\"dataframe\">\n",
       "  <thead>\n",
       "    <tr style=\"text-align: right;\">\n",
       "      <th></th>\n",
       "      <th>Image</th>\n",
       "      <th>1</th>\n",
       "      <th>2</th>\n",
       "      <th>3</th>\n",
       "      <th>4</th>\n",
       "      <th>5</th>\n",
       "      <th>6</th>\n",
       "      <th>7</th>\n",
       "      <th>8</th>\n",
       "      <th>9</th>\n",
       "      <th>...</th>\n",
       "      <th>503</th>\n",
       "      <th>504</th>\n",
       "      <th>505</th>\n",
       "      <th>506</th>\n",
       "      <th>507</th>\n",
       "      <th>508</th>\n",
       "      <th>509</th>\n",
       "      <th>510</th>\n",
       "      <th>511</th>\n",
       "      <th>512</th>\n",
       "    </tr>\n",
       "  </thead>\n",
       "  <tbody>\n",
       "    <tr>\n",
       "      <th>0</th>\n",
       "      <td>1793ready73</td>\n",
       "      <td>0.002994</td>\n",
       "      <td>0.0</td>\n",
       "      <td>0.000000</td>\n",
       "      <td>0.014970</td>\n",
       "      <td>0.000000</td>\n",
       "      <td>0.017964</td>\n",
       "      <td>0.000000</td>\n",
       "      <td>0.000000</td>\n",
       "      <td>0.000000</td>\n",
       "      <td>...</td>\n",
       "      <td>0.000000</td>\n",
       "      <td>0.002994</td>\n",
       "      <td>0.002994</td>\n",
       "      <td>0.000000</td>\n",
       "      <td>0.000000</td>\n",
       "      <td>0.002994</td>\n",
       "      <td>0.002994</td>\n",
       "      <td>0.000000</td>\n",
       "      <td>0.005988</td>\n",
       "      <td>0.002994</td>\n",
       "    </tr>\n",
       "    <tr>\n",
       "      <th>1</th>\n",
       "      <td>1793ready77</td>\n",
       "      <td>0.007663</td>\n",
       "      <td>0.0</td>\n",
       "      <td>0.000000</td>\n",
       "      <td>0.000000</td>\n",
       "      <td>0.007663</td>\n",
       "      <td>0.000000</td>\n",
       "      <td>0.003831</td>\n",
       "      <td>0.000000</td>\n",
       "      <td>0.007663</td>\n",
       "      <td>...</td>\n",
       "      <td>0.000000</td>\n",
       "      <td>0.003831</td>\n",
       "      <td>0.000000</td>\n",
       "      <td>0.000000</td>\n",
       "      <td>0.007663</td>\n",
       "      <td>0.000000</td>\n",
       "      <td>0.003831</td>\n",
       "      <td>0.000000</td>\n",
       "      <td>0.003831</td>\n",
       "      <td>0.003831</td>\n",
       "    </tr>\n",
       "    <tr>\n",
       "      <th>2</th>\n",
       "      <td>1793ready88</td>\n",
       "      <td>0.005420</td>\n",
       "      <td>0.0</td>\n",
       "      <td>0.005420</td>\n",
       "      <td>0.005420</td>\n",
       "      <td>0.000000</td>\n",
       "      <td>0.002710</td>\n",
       "      <td>0.000000</td>\n",
       "      <td>0.000000</td>\n",
       "      <td>0.000000</td>\n",
       "      <td>...</td>\n",
       "      <td>0.000000</td>\n",
       "      <td>0.000000</td>\n",
       "      <td>0.002710</td>\n",
       "      <td>0.008130</td>\n",
       "      <td>0.000000</td>\n",
       "      <td>0.002710</td>\n",
       "      <td>0.008130</td>\n",
       "      <td>0.010840</td>\n",
       "      <td>0.000000</td>\n",
       "      <td>0.002710</td>\n",
       "    </tr>\n",
       "    <tr>\n",
       "      <th>3</th>\n",
       "      <td>1793ready89</td>\n",
       "      <td>0.002398</td>\n",
       "      <td>0.0</td>\n",
       "      <td>0.000000</td>\n",
       "      <td>0.004796</td>\n",
       "      <td>0.000000</td>\n",
       "      <td>0.009592</td>\n",
       "      <td>0.000000</td>\n",
       "      <td>0.002398</td>\n",
       "      <td>0.004796</td>\n",
       "      <td>...</td>\n",
       "      <td>0.002398</td>\n",
       "      <td>0.002398</td>\n",
       "      <td>0.000000</td>\n",
       "      <td>0.004796</td>\n",
       "      <td>0.000000</td>\n",
       "      <td>0.000000</td>\n",
       "      <td>0.002398</td>\n",
       "      <td>0.002398</td>\n",
       "      <td>0.000000</td>\n",
       "      <td>0.002398</td>\n",
       "    </tr>\n",
       "    <tr>\n",
       "      <th>4</th>\n",
       "      <td>1793ready76</td>\n",
       "      <td>0.002141</td>\n",
       "      <td>0.0</td>\n",
       "      <td>0.002141</td>\n",
       "      <td>0.006424</td>\n",
       "      <td>0.000000</td>\n",
       "      <td>0.000000</td>\n",
       "      <td>0.002141</td>\n",
       "      <td>0.002141</td>\n",
       "      <td>0.000000</td>\n",
       "      <td>...</td>\n",
       "      <td>0.000000</td>\n",
       "      <td>0.000000</td>\n",
       "      <td>0.002141</td>\n",
       "      <td>0.000000</td>\n",
       "      <td>0.000000</td>\n",
       "      <td>0.000000</td>\n",
       "      <td>0.002141</td>\n",
       "      <td>0.008565</td>\n",
       "      <td>0.006424</td>\n",
       "      <td>0.002141</td>\n",
       "    </tr>\n",
       "  </tbody>\n",
       "</table>\n",
       "<p>5 rows × 513 columns</p>\n",
       "</div>"
      ],
      "text/plain": [
       "         Image         1    2         3         4         5         6  \\\n",
       "0  1793ready73  0.002994  0.0  0.000000  0.014970  0.000000  0.017964   \n",
       "1  1793ready77  0.007663  0.0  0.000000  0.000000  0.007663  0.000000   \n",
       "2  1793ready88  0.005420  0.0  0.005420  0.005420  0.000000  0.002710   \n",
       "3  1793ready89  0.002398  0.0  0.000000  0.004796  0.000000  0.009592   \n",
       "4  1793ready76  0.002141  0.0  0.002141  0.006424  0.000000  0.000000   \n",
       "\n",
       "          7         8         9  ...       503       504       505       506  \\\n",
       "0  0.000000  0.000000  0.000000  ...  0.000000  0.002994  0.002994  0.000000   \n",
       "1  0.003831  0.000000  0.007663  ...  0.000000  0.003831  0.000000  0.000000   \n",
       "2  0.000000  0.000000  0.000000  ...  0.000000  0.000000  0.002710  0.008130   \n",
       "3  0.000000  0.002398  0.004796  ...  0.002398  0.002398  0.000000  0.004796   \n",
       "4  0.002141  0.002141  0.000000  ...  0.000000  0.000000  0.002141  0.000000   \n",
       "\n",
       "        507       508       509       510       511       512  \n",
       "0  0.000000  0.002994  0.002994  0.000000  0.005988  0.002994  \n",
       "1  0.007663  0.000000  0.003831  0.000000  0.003831  0.003831  \n",
       "2  0.000000  0.002710  0.008130  0.010840  0.000000  0.002710  \n",
       "3  0.000000  0.000000  0.002398  0.002398  0.000000  0.002398  \n",
       "4  0.000000  0.000000  0.002141  0.008565  0.006424  0.002141  \n",
       "\n",
       "[5 rows x 513 columns]"
      ]
     },
     "execution_count": 4,
     "metadata": {},
     "output_type": "execute_result"
    }
   ],
   "source": [
    "display(df.shape)\n",
    "df.head(5)"
   ]
  },
  {
   "cell_type": "code",
   "execution_count": 5,
   "metadata": {},
   "outputs": [
    {
     "name": "stdout",
     "output_type": "stream",
     "text": [
      "Data size (r,c) = (40, 512)\n"
     ]
    },
    {
     "data": {
      "text/html": [
       "<div>\n",
       "<style scoped>\n",
       "    .dataframe tbody tr th:only-of-type {\n",
       "        vertical-align: middle;\n",
       "    }\n",
       "\n",
       "    .dataframe tbody tr th {\n",
       "        vertical-align: top;\n",
       "    }\n",
       "\n",
       "    .dataframe thead th {\n",
       "        text-align: right;\n",
       "    }\n",
       "</style>\n",
       "<table border=\"1\" class=\"dataframe\">\n",
       "  <thead>\n",
       "    <tr style=\"text-align: right;\">\n",
       "      <th></th>\n",
       "      <th>1</th>\n",
       "      <th>2</th>\n",
       "      <th>3</th>\n",
       "      <th>4</th>\n",
       "      <th>5</th>\n",
       "      <th>6</th>\n",
       "      <th>7</th>\n",
       "      <th>8</th>\n",
       "      <th>9</th>\n",
       "      <th>10</th>\n",
       "      <th>...</th>\n",
       "      <th>503</th>\n",
       "      <th>504</th>\n",
       "      <th>505</th>\n",
       "      <th>506</th>\n",
       "      <th>507</th>\n",
       "      <th>508</th>\n",
       "      <th>509</th>\n",
       "      <th>510</th>\n",
       "      <th>511</th>\n",
       "      <th>512</th>\n",
       "    </tr>\n",
       "    <tr>\n",
       "      <th>Image</th>\n",
       "      <th></th>\n",
       "      <th></th>\n",
       "      <th></th>\n",
       "      <th></th>\n",
       "      <th></th>\n",
       "      <th></th>\n",
       "      <th></th>\n",
       "      <th></th>\n",
       "      <th></th>\n",
       "      <th></th>\n",
       "      <th></th>\n",
       "      <th></th>\n",
       "      <th></th>\n",
       "      <th></th>\n",
       "      <th></th>\n",
       "      <th></th>\n",
       "      <th></th>\n",
       "      <th></th>\n",
       "      <th></th>\n",
       "      <th></th>\n",
       "      <th></th>\n",
       "    </tr>\n",
       "  </thead>\n",
       "  <tbody>\n",
       "    <tr>\n",
       "      <th>1793ready73</th>\n",
       "      <td>0.002994</td>\n",
       "      <td>0.000000</td>\n",
       "      <td>0.000000</td>\n",
       "      <td>0.014970</td>\n",
       "      <td>0.000000</td>\n",
       "      <td>0.017964</td>\n",
       "      <td>0.000000</td>\n",
       "      <td>0.000000</td>\n",
       "      <td>0.000000</td>\n",
       "      <td>0.000000</td>\n",
       "      <td>...</td>\n",
       "      <td>0.000000</td>\n",
       "      <td>0.002994</td>\n",
       "      <td>0.002994</td>\n",
       "      <td>0.000000</td>\n",
       "      <td>0.000000</td>\n",
       "      <td>0.002994</td>\n",
       "      <td>0.002994</td>\n",
       "      <td>0.000000</td>\n",
       "      <td>0.005988</td>\n",
       "      <td>0.002994</td>\n",
       "    </tr>\n",
       "    <tr>\n",
       "      <th>1793ready74</th>\n",
       "      <td>0.006593</td>\n",
       "      <td>0.000000</td>\n",
       "      <td>0.002198</td>\n",
       "      <td>0.000000</td>\n",
       "      <td>0.002198</td>\n",
       "      <td>0.006593</td>\n",
       "      <td>0.000000</td>\n",
       "      <td>0.000000</td>\n",
       "      <td>0.006593</td>\n",
       "      <td>0.004396</td>\n",
       "      <td>...</td>\n",
       "      <td>0.002198</td>\n",
       "      <td>0.000000</td>\n",
       "      <td>0.002198</td>\n",
       "      <td>0.000000</td>\n",
       "      <td>0.000000</td>\n",
       "      <td>0.000000</td>\n",
       "      <td>0.002198</td>\n",
       "      <td>0.004396</td>\n",
       "      <td>0.002198</td>\n",
       "      <td>0.002198</td>\n",
       "    </tr>\n",
       "    <tr>\n",
       "      <th>1793ready75</th>\n",
       "      <td>0.003145</td>\n",
       "      <td>0.006289</td>\n",
       "      <td>0.000000</td>\n",
       "      <td>0.006289</td>\n",
       "      <td>0.009434</td>\n",
       "      <td>0.003145</td>\n",
       "      <td>0.006289</td>\n",
       "      <td>0.000000</td>\n",
       "      <td>0.000000</td>\n",
       "      <td>0.003145</td>\n",
       "      <td>...</td>\n",
       "      <td>0.000000</td>\n",
       "      <td>0.000000</td>\n",
       "      <td>0.000000</td>\n",
       "      <td>0.009434</td>\n",
       "      <td>0.000000</td>\n",
       "      <td>0.000000</td>\n",
       "      <td>0.000000</td>\n",
       "      <td>0.003145</td>\n",
       "      <td>0.000000</td>\n",
       "      <td>0.003145</td>\n",
       "    </tr>\n",
       "    <tr>\n",
       "      <th>1793ready76</th>\n",
       "      <td>0.002141</td>\n",
       "      <td>0.000000</td>\n",
       "      <td>0.002141</td>\n",
       "      <td>0.006424</td>\n",
       "      <td>0.000000</td>\n",
       "      <td>0.000000</td>\n",
       "      <td>0.002141</td>\n",
       "      <td>0.002141</td>\n",
       "      <td>0.000000</td>\n",
       "      <td>0.002141</td>\n",
       "      <td>...</td>\n",
       "      <td>0.000000</td>\n",
       "      <td>0.000000</td>\n",
       "      <td>0.002141</td>\n",
       "      <td>0.000000</td>\n",
       "      <td>0.000000</td>\n",
       "      <td>0.000000</td>\n",
       "      <td>0.002141</td>\n",
       "      <td>0.008565</td>\n",
       "      <td>0.006424</td>\n",
       "      <td>0.002141</td>\n",
       "    </tr>\n",
       "    <tr>\n",
       "      <th>1793ready77</th>\n",
       "      <td>0.007663</td>\n",
       "      <td>0.000000</td>\n",
       "      <td>0.000000</td>\n",
       "      <td>0.000000</td>\n",
       "      <td>0.007663</td>\n",
       "      <td>0.000000</td>\n",
       "      <td>0.003831</td>\n",
       "      <td>0.000000</td>\n",
       "      <td>0.007663</td>\n",
       "      <td>0.000000</td>\n",
       "      <td>...</td>\n",
       "      <td>0.000000</td>\n",
       "      <td>0.003831</td>\n",
       "      <td>0.000000</td>\n",
       "      <td>0.000000</td>\n",
       "      <td>0.007663</td>\n",
       "      <td>0.000000</td>\n",
       "      <td>0.003831</td>\n",
       "      <td>0.000000</td>\n",
       "      <td>0.003831</td>\n",
       "      <td>0.003831</td>\n",
       "    </tr>\n",
       "  </tbody>\n",
       "</table>\n",
       "<p>5 rows × 512 columns</p>\n",
       "</div>"
      ],
      "text/plain": [
       "                    1         2         3         4         5         6  \\\n",
       "Image                                                                     \n",
       "1793ready73  0.002994  0.000000  0.000000  0.014970  0.000000  0.017964   \n",
       "1793ready74  0.006593  0.000000  0.002198  0.000000  0.002198  0.006593   \n",
       "1793ready75  0.003145  0.006289  0.000000  0.006289  0.009434  0.003145   \n",
       "1793ready76  0.002141  0.000000  0.002141  0.006424  0.000000  0.000000   \n",
       "1793ready77  0.007663  0.000000  0.000000  0.000000  0.007663  0.000000   \n",
       "\n",
       "                    7         8         9        10  ...       503       504  \\\n",
       "Image                                                ...                       \n",
       "1793ready73  0.000000  0.000000  0.000000  0.000000  ...  0.000000  0.002994   \n",
       "1793ready74  0.000000  0.000000  0.006593  0.004396  ...  0.002198  0.000000   \n",
       "1793ready75  0.006289  0.000000  0.000000  0.003145  ...  0.000000  0.000000   \n",
       "1793ready76  0.002141  0.002141  0.000000  0.002141  ...  0.000000  0.000000   \n",
       "1793ready77  0.003831  0.000000  0.007663  0.000000  ...  0.000000  0.003831   \n",
       "\n",
       "                  505       506       507       508       509       510  \\\n",
       "Image                                                                     \n",
       "1793ready73  0.002994  0.000000  0.000000  0.002994  0.002994  0.000000   \n",
       "1793ready74  0.002198  0.000000  0.000000  0.000000  0.002198  0.004396   \n",
       "1793ready75  0.000000  0.009434  0.000000  0.000000  0.000000  0.003145   \n",
       "1793ready76  0.002141  0.000000  0.000000  0.000000  0.002141  0.008565   \n",
       "1793ready77  0.000000  0.000000  0.007663  0.000000  0.003831  0.000000   \n",
       "\n",
       "                  511       512  \n",
       "Image                            \n",
       "1793ready73  0.005988  0.002994  \n",
       "1793ready74  0.002198  0.002198  \n",
       "1793ready75  0.000000  0.003145  \n",
       "1793ready76  0.006424  0.002141  \n",
       "1793ready77  0.003831  0.003831  \n",
       "\n",
       "[5 rows x 512 columns]"
      ]
     },
     "execution_count": 5,
     "metadata": {},
     "output_type": "execute_result"
    }
   ],
   "source": [
    "# Use 'Name' column as index\n",
    "#df.rename(columns={df.columns[0]:'Name'}, inplace=True)\n",
    "df.set_index('Image', inplace=True)\n",
    "\n",
    "# Sort rows and columns\n",
    "# df.sort_index(axis=1, inplace=True)\n",
    "df.sort_index(inplace=True)\n",
    "\n",
    "df_numeric = df.select_dtypes(include='number')  #'int32' or 'int64' or 'float32' or 'float64'\n",
    "df_category = df.select_dtypes(exclude='number') #'object'\n",
    "\n",
    "# Z-score normalization\n",
    "# normalized_df = (df_numeric - df_numeric.mean()) / df_numeric.std()\n",
    "normalized_df = df_numeric  # do not normalize animal dataset, all columns are 0-100 scale\n",
    "\n",
    "print('Data size (r,c) =', df_numeric.shape)\n",
    "df_numeric.head(5)"
   ]
  },
  {
   "cell_type": "markdown",
   "metadata": {},
   "source": [
    "#  Dimension Reduction Model:  Weighted MDS\n",
    "\n",
    "For DR, we use the Multi-Dimensional Scaling (MDS) algorithm on a weighted data space. **Dimension weights** are applied to the high-dimensional (HD) data.  Weights are normalized to sum to 1, so as to normalize the HD distances to roughly constant size space independent of p.\n",
    "\n",
    "The **distance function for the high-dimensional (HD) data** is L1 manhattan distance. L1 is good for general purpose use with multi-dimensional quantitative datasets. \n",
    "\n",
    "The **distance function for the 2D projected points** is L2 Euclidean distance, which makes sense for human percpetion in the plot."
   ]
  },
  {
   "cell_type": "code",
   "execution_count": 6,
   "metadata": {},
   "outputs": [],
   "source": [
    "# Compute the distance matrix for the weighted high-dimensional data using L1 distance function.\n",
    "#  Input HD data should already be weighted.\n",
    "def distance_matrix_HD(dataHDw):  # dataHDw (pandas or numpy) -> distance matrix (numpy)\n",
    "    dist_matrix = sklearn.metrics.pairwise.manhattan_distances(dataHDw)\n",
    "    #m = pd.DataFrame(m, columns=dataHD.index, index=dataHD.index)  # keep as np array for performance\n",
    "    return dist_matrix\n",
    "\n",
    "# Compute the distance matrix for 2D projected data using L2 distance function.\n",
    "def distance_matrix_2D(data2D):  # data2d (pandas or numpy) -> distance matrix (numpy)\n",
    "    dist_matrix = sklearn.metrics.pairwise.euclidean_distances(data2D) \n",
    "    #m = pd.DataFrame(m, columns=data2D.index, index=data2D.index) # keep as np array for performance\n",
    "    return dist_matrix\n",
    "\n",
    "#def dist(x,y):\n",
    "#    return np.linalg.norm(x-y, ord=2)"
   ]
  },
  {
   "cell_type": "markdown",
   "metadata": {},
   "source": [
    "**MDS** projects the weighted high-dimensional data to 2D. Tune the algorithm's parameters for performance."
   ]
  },
  {
   "cell_type": "code",
   "execution_count": 7,
   "metadata": {},
   "outputs": [],
   "source": [
    "# Calculate the MDS stress metric between HD and 2D distances.  Uses numpy for efficiency.\n",
    "def stress(distHD, dist2D):  #  distHD, dist2D (numpy) -> stress (float)\n",
    "    #s = np.sqrt((distHD-dist2D).pow(2).sum().sum() / distHD.pow(2).sum().sum())  # pandas\n",
    "    #s = np.sqrt(((distHD-dist2D)**2).sum() / (distHD**2).sum())   # numpy\n",
    "    s = ((distHD-dist2D)**2).sum() / (distHD**2).sum()   # numpy, eliminate sqrt for efficiency\n",
    "    return s\n",
    "\n",
    "def compute_mds(dataHDw):  # dataHDw -> data2D (pandas)\n",
    "    distHD = distance_matrix_HD(dataHDw)\n",
    "    # Adjust these parameters for performance/accuracy tradeoff\n",
    "    mds = sklearn.manifold.MDS(n_components=2, dissimilarity='precomputed', n_init=10, max_iter=1000)\n",
    "    # Reduction algorithm happens here:  data2D is nx2 matrix\n",
    "    data2D = mds.fit_transform(distHD)\n",
    "    \n",
    "    # Rotate the resulting 2D projection to make it more consistent across multiple runs.\n",
    "    # Set the 1st PC to the y axis, plot looks better to spread data vertically with horizontal text labels\n",
    "    pca = sklearn.decomposition.PCA(n_components=2)\n",
    "    data2D = pca.fit_transform(data2D)\n",
    "    data2D = pd.DataFrame(data2D, columns=['y','x'], index=dataHDw.index)\n",
    "    \n",
    "    data2D.stress_value = stress(distHD, distance_matrix_2D(data2D))\n",
    "    return data2D\n",
    "\n",
    "def dimension_reduction(dataHD, wts): # dataHD, wts -> data2D (pandas)\n",
    "    # Normalize the weights to sum to 1\n",
    "    wts = wts/wts.sum()\n",
    "    \n",
    "    # Apply weights to the HD data \n",
    "    dataHDw = dataHD * wts\n",
    "    \n",
    "    # DR algorithm\n",
    "    data2D = compute_mds(dataHDw)\n",
    "\n",
    "    # Compute row relevances as:  data dot weights\n",
    "    # High relevance means large values in upweighted dimensions\n",
    "    data2D['relevance'] = dataHDw.sum(axis=1)\n",
    "    return data2D\n",
    "\n",
    "\n",
    "min_weight, max_weight = 0.00001, 0.9999\n",
    "init_weight = min_weight  # 1.0/len(normalized_df.columns) # initialize to min to make the sliders easier to use.\n",
    "weights = pd.Series(init_weight, index=normalized_df.columns, name=\"Weight\")  # the current weight list\n",
    "\n",
    "df_2D = dimension_reduction(normalized_df, weights)   # the current projected data"
   ]
  },
  {
   "cell_type": "code",
   "execution_count": 8,
   "metadata": {},
   "outputs": [
    {
     "data": {
      "text/plain": [
       "1    0.00001\n",
       "2    0.00001\n",
       "Name: Weight, dtype: float64"
      ]
     },
     "execution_count": 8,
     "metadata": {},
     "output_type": "execute_result"
    }
   ],
   "source": [
    "weights.head(2)"
   ]
  },
  {
   "cell_type": "code",
   "execution_count": 9,
   "metadata": {},
   "outputs": [
    {
     "data": {
      "text/html": [
       "<div>\n",
       "<style scoped>\n",
       "    .dataframe tbody tr th:only-of-type {\n",
       "        vertical-align: middle;\n",
       "    }\n",
       "\n",
       "    .dataframe tbody tr th {\n",
       "        vertical-align: top;\n",
       "    }\n",
       "\n",
       "    .dataframe thead th {\n",
       "        text-align: right;\n",
       "    }\n",
       "</style>\n",
       "<table border=\"1\" class=\"dataframe\">\n",
       "  <thead>\n",
       "    <tr style=\"text-align: right;\">\n",
       "      <th>Image</th>\n",
       "      <th>1793ready73</th>\n",
       "      <th>1793ready74</th>\n",
       "      <th>1793ready75</th>\n",
       "      <th>1793ready76</th>\n",
       "      <th>1793ready77</th>\n",
       "      <th>1793ready78</th>\n",
       "      <th>1793ready80</th>\n",
       "      <th>1793ready81</th>\n",
       "      <th>1793ready82</th>\n",
       "      <th>1793ready83</th>\n",
       "      <th>...</th>\n",
       "      <th>1802late89</th>\n",
       "      <th>1802late90</th>\n",
       "      <th>1802late91</th>\n",
       "      <th>1802late92</th>\n",
       "      <th>1802late93</th>\n",
       "      <th>1802late94</th>\n",
       "      <th>1802late95</th>\n",
       "      <th>1802late96</th>\n",
       "      <th>1802late97</th>\n",
       "      <th>1802late98</th>\n",
       "    </tr>\n",
       "    <tr>\n",
       "      <th>Image</th>\n",
       "      <th></th>\n",
       "      <th></th>\n",
       "      <th></th>\n",
       "      <th></th>\n",
       "      <th></th>\n",
       "      <th></th>\n",
       "      <th></th>\n",
       "      <th></th>\n",
       "      <th></th>\n",
       "      <th></th>\n",
       "      <th></th>\n",
       "      <th></th>\n",
       "      <th></th>\n",
       "      <th></th>\n",
       "      <th></th>\n",
       "      <th></th>\n",
       "      <th></th>\n",
       "      <th></th>\n",
       "      <th></th>\n",
       "      <th></th>\n",
       "      <th></th>\n",
       "    </tr>\n",
       "  </thead>\n",
       "  <tbody>\n",
       "    <tr>\n",
       "      <th>1793ready73</th>\n",
       "      <td>0.000000</td>\n",
       "      <td>0.002521</td>\n",
       "      <td>0.002756</td>\n",
       "      <td>0.001951</td>\n",
       "      <td>0.002766</td>\n",
       "      <td>0.002003</td>\n",
       "      <td>0.001879</td>\n",
       "      <td>0.002813</td>\n",
       "      <td>0.002791</td>\n",
       "      <td>0.002524</td>\n",
       "      <td>...</td>\n",
       "      <td>0.002931</td>\n",
       "      <td>0.002935</td>\n",
       "      <td>0.002541</td>\n",
       "      <td>0.002977</td>\n",
       "      <td>0.002820</td>\n",
       "      <td>0.002957</td>\n",
       "      <td>0.002295</td>\n",
       "      <td>0.003106</td>\n",
       "      <td>0.002192</td>\n",
       "      <td>0.00295</td>\n",
       "    </tr>\n",
       "    <tr>\n",
       "      <th>1793ready74</th>\n",
       "      <td>0.002521</td>\n",
       "      <td>0.000000</td>\n",
       "      <td>0.002636</td>\n",
       "      <td>0.002283</td>\n",
       "      <td>0.002846</td>\n",
       "      <td>0.002495</td>\n",
       "      <td>0.002347</td>\n",
       "      <td>0.002943</td>\n",
       "      <td>0.002676</td>\n",
       "      <td>0.002638</td>\n",
       "      <td>...</td>\n",
       "      <td>0.002940</td>\n",
       "      <td>0.002762</td>\n",
       "      <td>0.002547</td>\n",
       "      <td>0.002872</td>\n",
       "      <td>0.002617</td>\n",
       "      <td>0.002871</td>\n",
       "      <td>0.002479</td>\n",
       "      <td>0.002646</td>\n",
       "      <td>0.002433</td>\n",
       "      <td>0.00263</td>\n",
       "    </tr>\n",
       "  </tbody>\n",
       "</table>\n",
       "<p>2 rows × 40 columns</p>\n",
       "</div>"
      ],
      "text/plain": [
       "Image        1793ready73  1793ready74  1793ready75  1793ready76  1793ready77  \\\n",
       "Image                                                                          \n",
       "1793ready73     0.000000     0.002521     0.002756     0.001951     0.002766   \n",
       "1793ready74     0.002521     0.000000     0.002636     0.002283     0.002846   \n",
       "\n",
       "Image        1793ready78  1793ready80  1793ready81  1793ready82  1793ready83  \\\n",
       "Image                                                                          \n",
       "1793ready73     0.002003     0.001879     0.002813     0.002791     0.002524   \n",
       "1793ready74     0.002495     0.002347     0.002943     0.002676     0.002638   \n",
       "\n",
       "Image        ...  1802late89  1802late90  1802late91  1802late92  1802late93  \\\n",
       "Image        ...                                                               \n",
       "1793ready73  ...    0.002931    0.002935    0.002541    0.002977    0.002820   \n",
       "1793ready74  ...    0.002940    0.002762    0.002547    0.002872    0.002617   \n",
       "\n",
       "Image        1802late94  1802late95  1802late96  1802late97  1802late98  \n",
       "Image                                                                    \n",
       "1793ready73    0.002957    0.002295    0.003106    0.002192     0.00295  \n",
       "1793ready74    0.002871    0.002479    0.002646    0.002433     0.00263  \n",
       "\n",
       "[2 rows x 40 columns]"
      ]
     },
     "execution_count": 9,
     "metadata": {},
     "output_type": "execute_result"
    }
   ],
   "source": [
    "pd.DataFrame(distance_matrix_HD(normalized_df * (weights/weights.sum())), \n",
    "             columns=normalized_df.index, index=normalized_df.index).head(2)"
   ]
  },
  {
   "cell_type": "code",
   "execution_count": 10,
   "metadata": {},
   "outputs": [
    {
     "name": "stdout",
     "output_type": "stream",
     "text": [
      "0.15710404996388735\n"
     ]
    },
    {
     "data": {
      "text/html": [
       "<div>\n",
       "<style scoped>\n",
       "    .dataframe tbody tr th:only-of-type {\n",
       "        vertical-align: middle;\n",
       "    }\n",
       "\n",
       "    .dataframe tbody tr th {\n",
       "        vertical-align: top;\n",
       "    }\n",
       "\n",
       "    .dataframe thead th {\n",
       "        text-align: right;\n",
       "    }\n",
       "</style>\n",
       "<table border=\"1\" class=\"dataframe\">\n",
       "  <thead>\n",
       "    <tr style=\"text-align: right;\">\n",
       "      <th></th>\n",
       "      <th>y</th>\n",
       "      <th>x</th>\n",
       "      <th>relevance</th>\n",
       "    </tr>\n",
       "    <tr>\n",
       "      <th>Image</th>\n",
       "      <th></th>\n",
       "      <th></th>\n",
       "      <th></th>\n",
       "    </tr>\n",
       "  </thead>\n",
       "  <tbody>\n",
       "    <tr>\n",
       "      <th>1793ready73</th>\n",
       "      <td>-0.000122</td>\n",
       "      <td>-0.001918</td>\n",
       "      <td>0.001953</td>\n",
       "    </tr>\n",
       "    <tr>\n",
       "      <th>1793ready74</th>\n",
       "      <td>0.000943</td>\n",
       "      <td>-0.000105</td>\n",
       "      <td>0.001953</td>\n",
       "    </tr>\n",
       "  </tbody>\n",
       "</table>\n",
       "</div>"
      ],
      "text/plain": [
       "                    y         x  relevance\n",
       "Image                                     \n",
       "1793ready73 -0.000122 -0.001918   0.001953\n",
       "1793ready74  0.000943 -0.000105   0.001953"
      ]
     },
     "execution_count": 10,
     "metadata": {},
     "output_type": "execute_result"
    }
   ],
   "source": [
    "print(df_2D.stress_value)\n",
    "df_2D.head(2)"
   ]
  },
  {
   "cell_type": "markdown",
   "metadata": {},
   "source": [
    "# Inverse Dimension-Reduction Learning Algorithm\n",
    "\n",
    "Computes the inverse-Dimension-Reduction: given input 2D points, compute new weights.\n",
    "Optimizes the MDS stress function that compares 2D pairwise distances (||$x_i-x_j||$) to weighted HD pairwise distances ($d_{ij}$):\n",
    "![Stress](https://wikimedia.org/api/rest_v1/media/math/render/svg/7989b3afc0d8795a78c1631c7e807f260d9cfe68)\n",
    "\n",
    "Technically, we compute the inverse weighted distance function. We shortcut the optimization by eliminating MDS from the process, and assume that the user input 2D distances are actually the desired HD distances, not the 2D distances after re-projection. Thus, given the input (HD) distances, we find weights that would produce these distances in the HD space."
   ]
  },
  {
   "cell_type": "code",
   "execution_count": 11,
   "metadata": {},
   "outputs": [],
   "source": [
    "# This method is used to propose a new weight for current column in a smart fashion\n",
    "def new_proposal(current, step, direction):\n",
    "    return np.clip(current + direction*step*random.random(), 0.00001, 0.9999)\n",
    "\n",
    "# Repeatedly tries to modify each dim weight to see if it improves the stress, thus\n",
    "# getting the weighted high-dim distances to more closely match the input 2D distances.\n",
    "#   dataHD = high-dim data, as pandas\n",
    "#   data2D = 2D data input, as pandas\n",
    "#   weights = as pandas series, or None for weights[i]=1/p\n",
    "def inverse_DR(dataHD, data2D, curWeights=None):  # -> new weights, as Series\n",
    "    dist2D = distance_matrix_2D(data2D)  # compute 2D distances only once\n",
    "    col_names = dataHD.columns\n",
    "    dataHD = dataHD.to_numpy()  # use numpy for efficiency\n",
    "    row, col = dataHD.shape\n",
    "    \n",
    "    if curWeights==None:\n",
    "        curWeights = np.array([1.0/col]*col)  # default weights = 1/p\n",
    "    else:\n",
    "        curWeights = curWeights.to_numpy()\n",
    "        curWeights = curWeights / curWeights.sum()  # Normalize weights to sum to 1\n",
    "    newWeights = curWeights.copy()  # re-use this array for efficiency\n",
    "    \n",
    "    # Initialize state\n",
    "    flag = [0]*col         # degree of success of a weight change\n",
    "    direction = [1]*col  # direction to move a weight, pos or neg\n",
    "    step = [1.0/col]*col   # how much to change each weight\n",
    "    \n",
    "    dataHDw = dataHD * curWeights   # weighted space, re-use this array for efficiency\n",
    "    distHD = distance_matrix_HD(dataHDw)\n",
    "    curStress = stress(distHD, dist2D)\n",
    "    print('Starting stress =', curStress, 'Processing...')\n",
    "\n",
    "    MAX = 500   # default setting of the number of iterations\n",
    "\n",
    "    # Try to minorly adjust each weight to see if it reduces stress\n",
    "    for i in range(MAX):\n",
    "        for dim in range(col):            \n",
    "            # Get a new weight for current column\n",
    "            nw = new_proposal(curWeights[dim], step[dim], direction[dim])\n",
    "            \n",
    "            # Scale the weight list such that it sums to 1\n",
    "            #newWeights = curWeights.copy()  # avoid extra copy op using math below\n",
    "            #newWeights[dim] = nw\n",
    "            #newWeights = newWeights / s\n",
    "            s = 1.0  + nw - curWeights[dim]   # 1.0 == curWeights.sum()\n",
    "            np.true_divide(curWeights, s, out=newWeights)  # transfers to other array, while doing /\n",
    "            newWeights[dim] = nw / s\n",
    "            \n",
    "            # Apply new weights to HD data\n",
    "            np.multiply(dataHD, newWeights, out=dataHDw)  # dataHDw = dataHD * newWeights; efficiently reuses dataHDw array\n",
    "            distHD = distance_matrix_HD(dataHDw)\n",
    "\n",
    "            # Get the new stress\n",
    "            newStress = stress(distHD, dist2D)\n",
    "            \n",
    "            # If new stress is lower, then update weights and flag this success\n",
    "            if newStress < curStress:\n",
    "                temp = curWeights\n",
    "                curWeights = newWeights\n",
    "                newWeights = temp   # reuse the old array next iteration\n",
    "                curStress = newStress\n",
    "                flag[dim] = flag[dim] + 1\n",
    "            else:\n",
    "                flag[dim] = flag[dim] - 1\n",
    "                direction[dim] = -direction[dim]  # Reverse course\n",
    "    \n",
    "            # If recent success, then speed up the step rate\n",
    "            if flag[dim] >= 5:\n",
    "                step[dim] = step[dim] * 2\n",
    "                flag[dim] = 0\n",
    "            elif flag[dim] <= -5:\n",
    "                step[dim] = step[dim] / 2\n",
    "                flag[dim] = 0\n",
    "                \n",
    "    print('Solution stress =', curStress, 'Done.')\n",
    "    #print(\"weight\", curWeights)\n",
    "    #print(\"flag\", flag)\n",
    "    #print(\"dir\", direction)\n",
    "    #print(\"step\", step)\n",
    "    return pd.Series(curWeights, index=col_names, name=\"Weight\")\n"
   ]
  },
  {
   "cell_type": "markdown",
   "metadata": {},
   "source": [
    "# Visualization and UI code\n",
    "\n",
    "Use these functions to create the GUI components in any cell."
   ]
  },
  {
   "cell_type": "markdown",
   "metadata": {},
   "source": [
    "## Sliders"
   ]
  },
  {
   "cell_type": "code",
   "execution_count": 12,
   "metadata": {},
   "outputs": [],
   "source": [
    "def create_sliders(wts):\n",
    "    # Create sliders, one for each dimension weight\n",
    "    sliders = [widgets.FloatSlider(min=min_weight, max=max_weight, step=0.01, value=value, \n",
    "                                       description=label, continuous_update=False, readout_format='.5f')\n",
    "                   for (label, value) in wts.iteritems()]\n",
    "    # Display sliders\n",
    "    for s in sliders:\n",
    "        #s.observe(sliderchange, names='value')\n",
    "        display(s)\n",
    "        \n",
    "    create_slider_buttons(sliders)\n",
    "    return sliders\n",
    "\n",
    "def create_slider_buttons(sliders):    \n",
    "    apply_button = widgets.Button(description='Apply Slider Weights')\n",
    "    reset_button = widgets.Button(description='Reset Plot')\n",
    "\n",
    "    # Callback functions\n",
    "    def apply_button_clicked(change):\n",
    "        # Use the slider values to re compute the DR and redraw the plot\n",
    "        global weights, df_2D   # Update weights and df_2D globals\n",
    "        weights = pd.Series([s.value for s in sliders], index=normalized_df.columns, name='Weight')\n",
    "        df_2D = dimension_reduction(normalized_df, weights)   \n",
    "        \n",
    "        # Re-draw the plot\n",
    "        draw_plot(plot_ax, df_2D)\n",
    "    apply_button.on_click(apply_button_clicked)\n",
    "\n",
    "    def reset_button_clicked(change):\n",
    "        # Reset all sliders to initial value and re-compute DR and re-draw the plot\n",
    "        for s in sliders:\n",
    "            s.value = init_weight\n",
    "        apply_button_clicked(change)\n",
    "    reset_button.on_click(reset_button_clicked)\n",
    "    \n",
    "    # Display buttons\n",
    "    display(apply_button)\n",
    "    display(reset_button)\n",
    "    return apply_button, reset_button\n"
   ]
  },
  {
   "cell_type": "markdown",
   "metadata": {},
   "source": [
    "## Print Details Button"
   ]
  },
  {
   "cell_type": "code",
   "execution_count": 13,
   "metadata": {},
   "outputs": [],
   "source": [
    "def create_detail_display():\n",
    "    # Print selected points\n",
    "    print_button = widgets.Button(description='Print selected points')\n",
    "    print_output = widgets.Output()\n",
    "\n",
    "    def print_button_clicked(change):\n",
    "        print_output.clear_output()\n",
    "        # Get list of selected points and print their source data values\n",
    "        selset = [c.index for c in plot_ax.circles if c.selected]\n",
    "        with print_output:\n",
    "            if len(selset) > 0:\n",
    "                print(df.iloc[selset, :].transpose())\n",
    "            else:\n",
    "                print('Select points in the plot to see details here')\n",
    "    print_button.on_click(print_button_clicked)\n",
    "\n",
    "    display(print_button)\n",
    "    display(print_output)\n",
    "    return print_button, print_output\n"
   ]
  },
  {
   "cell_type": "markdown",
   "metadata": {},
   "source": [
    "## Inverse DR Button and Plot"
   ]
  },
  {
   "cell_type": "code",
   "execution_count": 14,
   "metadata": {},
   "outputs": [],
   "source": [
    "def create_inverse_button():\n",
    "    inverse_button = widgets.Button(description='Learn New Weights')\n",
    "    copy_button = widgets.Button(description='Copy to Sliders')\n",
    "\n",
    "    def inverse_button_clicked(change):\n",
    "        ax.clear()\n",
    "\n",
    "        # Check minimum number of points moved\n",
    "        n = len([1 for c in plot_ax.circles if c.selected])\n",
    "        if n < 2:\n",
    "            print('Need to select or move at least 2 points in the plot first.')\n",
    "            return\n",
    "\n",
    "        # Get selected data points\n",
    "        data2Dnew = pd.DataFrame([c.center for c in plot_ax.circles if c.selected], columns=['x','y'], \n",
    "                                index=[c.label for c in plot_ax.circles if c.selected])\n",
    "        dataHDpart = normalized_df.loc[data2Dnew.index]\n",
    "\n",
    "        # Learn new weights\n",
    "        global weights\n",
    "        weights = inverse_DR(dataHDpart, data2Dnew)\n",
    "        \n",
    "        # Display new weights as a bar chart\n",
    "        weights.sort_index(ascending=False).plot.barh(ax=ax)\n",
    "        ax.set_xlabel(\"Weight\")\n",
    "        fig.tight_layout()\n",
    "    inverse_button.on_click(inverse_button_clicked)\n",
    "\n",
    "    def copy_button_clicked(change):\n",
    "        # Set sliders to reflect the learned weights and update the DR and plot accordingly\n",
    "        global df_2D\n",
    "        for i,s in enumerate(sliders):\n",
    "            s.value = weights[i]\n",
    "        df_2D = dimension_reduction(normalized_df, weights)   \n",
    "        draw_plot(plot_ax, df_2D)\n",
    "    copy_button.on_click(copy_button_clicked)\n",
    "    display(inverse_button)\n",
    "    display(copy_button)\n",
    "    fig, ax = plt.subplots(figsize=(5,7))   # reserve a fig for the weights bar chart\n",
    "    return inverse_button, copy_button, ax\n"
   ]
  },
  {
   "cell_type": "markdown",
   "metadata": {},
   "source": [
    "## Draggable Dimension-Reduction 2D Plot"
   ]
  },
  {
   "cell_type": "code",
   "execution_count": 15,
   "metadata": {},
   "outputs": [],
   "source": [
    "# Handles mouse drag interaction events in the plot, users can select and drag points.\n",
    "class DraggablePoints(object):\n",
    "    def __init__(self, ax, artists):\n",
    "        self.ax = ax\n",
    "        self.artists = artists\n",
    "        self.current_artist = None\n",
    "        self.last_selected = None\n",
    "        ax.selected_text.set_text('Selected: none')\n",
    "        self.offset = (0, 0)\n",
    "        # Set up mouse listeners\n",
    "        ax.figure.canvas.mpl_connect('pick_event', self.on_pick)\n",
    "        ax.figure.canvas.mpl_connect('motion_notify_event', self.on_motion)\n",
    "        ax.figure.canvas.mpl_connect('button_release_event', self.on_release)\n",
    "\n",
    "    def on_pick(self, event):\n",
    "        # When point is clicked on (mouse down), select it and start the drag\n",
    "        if self.current_artist is None:  # clicking on overlapped points sends multiple events\n",
    "            self.last_selected = event.artist.index  # event.ind\n",
    "            self.current_artist = event.artist\n",
    "            event.artist.selected = True\n",
    "            event.artist.savecolor = event.artist.get_facecolor()\n",
    "            event.artist.set_facecolor('green')\n",
    "            #event.artist.set_alpha(1.0)\n",
    "            self.ax.selected_text.set_text(\"Selected: \" + event.artist.label)\n",
    "            x0, y0 = event.artist.center\n",
    "            self.offset = (x0 - event.mouseevent.xdata), (y0 - event.mouseevent.ydata)\n",
    "\n",
    "    def on_motion(self, event):\n",
    "        # When dragging, check if point is selected and valid mouse coordinates\n",
    "        if (self.current_artist is not None) and (event.xdata is not None) and (event.ydata is not None):\n",
    "            # Drag the point and its text label\n",
    "            dx, dy = self.offset\n",
    "            self.current_artist.center = x0, y0 = event.xdata + dx, event.ydata + dy\n",
    "            self.current_artist.text.set_position((x0 - self.current_artist.radius/2, \n",
    "                                                   y0 - self.current_artist.radius/2))\n",
    "            #self.ax.figure.canvas.draw()  # slow\n",
    "        \n",
    "    def on_release(self, event):\n",
    "        # When mouse is released, stop the drag\n",
    "        self.current_artist = None\n",
    "        #self.ax.figure.canvas.draw()"
   ]
  },
  {
   "cell_type": "code",
   "execution_count": 16,
   "metadata": {
    "scrolled": false
   },
   "outputs": [],
   "source": [
    "def create_plot(data2D):\n",
    "    # Initialize DR plot figure\n",
    "    fig, ax = plt.subplots(figsize= (8,7))\n",
    "    ax.selected_text = ax.figure.text(0,0.005, 'Selected: none', wrap=True, color='green')\n",
    "    fig.colorbar(plt.cm.ScalarMappable(norm=matplotlib.colors.Normalize(), cmap=plt.cm.plasma), ax=ax, label=\"Relevance\", ticks=[], shrink=0.5, aspect=40, fraction=0.05)\n",
    "    # ax = data2D.plot.scatter(x=\"x\", y=\"y\", alpha=0.5, c=\"relevance\", s=75, ax=ax\n",
    "    #                   colormap=plt.cm.plasma, sharex=False, figsize=(8, 6), picker=True)\n",
    "    # ax.collections[0].get_offsets());   set_offsets(data2D[['y','x']]);   .get_facecolors()\n",
    "    \n",
    "    # Clean up the plot\n",
    "    ax.set_xticks([])\n",
    "    ax.set_yticks([])\n",
    "    ax.figure.tight_layout()\n",
    "    #plt.show()\n",
    "    \n",
    "    # Store state data:\n",
    "    ax.circles = None\n",
    "    ax.dragpoint = None\n",
    "    \n",
    "    draw_plot(ax, data2D)\n",
    "    return ax\n",
    "\n",
    "def draw_plot(ax, data2D):\n",
    "    # Re-draws the DR plot in the axes with the updated data2D\n",
    "    ax.clear()\n",
    "    # Map data to circles, with x, y, and relevance->color\n",
    "    wid = max(data2D.x.max() - data2D.x.min(), data2D.y.max() - data2D.y.min())  # max range of x,y axes\n",
    "    cnorm = matplotlib.colors.Normalize(vmin=data2D.relevance.min(), vmax=data2D.relevance.max())\n",
    "    ax.circles = data2D.apply(axis=1, func=lambda row: \n",
    "        matplotlib.patches.Circle(xy=(row.x, row.y), radius=wid/70, alpha=0.5, \n",
    "                                  color=plt.cm.plasma(cnorm(row.relevance)), picker=True))\n",
    "    for i,c in enumerate(ax.circles):\n",
    "        # Store state data:\n",
    "        c.index, c.label, c.selected = i, data2D.index[i], False\n",
    "        # Draw circles and text labels in plot\n",
    "        ax.add_patch(c)\n",
    "        c.text = ax.text(c.center[0]-c.radius/2, c.center[1]-c.radius/2, c.label)\n",
    "    # Make plot circles draggable\n",
    "    ax.dragpoint = DraggablePoints(ax, ax.circles)\n",
    "    \n",
    "    # Clean up the plot\n",
    "    ax.set_xticks([])\n",
    "    ax.set_yticks([])\n",
    "    ax.axis('equal')\n",
    "    #plt.show()\n"
   ]
  },
  {
   "cell_type": "markdown",
   "metadata": {},
   "source": [
    "# Interactive Visualization"
   ]
  },
  {
   "cell_type": "markdown",
   "metadata": {},
   "source": [
    "## Sliders\n",
    "Use the sliders to control the **dimension weights** for the input HD data. The weights indicate which dimensions are given more emphasis in the DR plot distances.  For computational reasons, weights cannot go to absolute zero. When used in DR, the weights are first normalized such that they sum to 1.\n",
    "\n",
    "After adjusting the sliders, click the **Apply** button to show the results in the DR plot.\n",
    "\n",
    "To reset the sliders to their default values, click the **Reset** button."
   ]
  },
  {
   "cell_type": "code",
   "execution_count": 17,
   "metadata": {
    "scrolled": true
   },
   "outputs": [
    {
     "data": {
      "application/vnd.jupyter.widget-view+json": {
       "model_id": "b68543ce728c4cf3a284cfe2d116d930",
       "version_major": 2,
       "version_minor": 0
      },
      "text/plain": [
       "FloatSlider(value=1e-05, continuous_update=False, description='1', max=0.9999, min=1e-05, readout_format='.5f'…"
      ]
     },
     "metadata": {},
     "output_type": "display_data"
    },
    {
     "data": {
      "application/vnd.jupyter.widget-view+json": {
       "model_id": "61810321734f42cbbad0236ff1875b42",
       "version_major": 2,
       "version_minor": 0
      },
      "text/plain": [
       "FloatSlider(value=1e-05, continuous_update=False, description='2', max=0.9999, min=1e-05, readout_format='.5f'…"
      ]
     },
     "metadata": {},
     "output_type": "display_data"
    },
    {
     "data": {
      "application/vnd.jupyter.widget-view+json": {
       "model_id": "4002a7512f494d62a529cb7c5c3aaffd",
       "version_major": 2,
       "version_minor": 0
      },
      "text/plain": [
       "FloatSlider(value=1e-05, continuous_update=False, description='3', max=0.9999, min=1e-05, readout_format='.5f'…"
      ]
     },
     "metadata": {},
     "output_type": "display_data"
    },
    {
     "data": {
      "application/vnd.jupyter.widget-view+json": {
       "model_id": "15a24925ffc14d0299517d80de1eb74c",
       "version_major": 2,
       "version_minor": 0
      },
      "text/plain": [
       "FloatSlider(value=1e-05, continuous_update=False, description='4', max=0.9999, min=1e-05, readout_format='.5f'…"
      ]
     },
     "metadata": {},
     "output_type": "display_data"
    },
    {
     "data": {
      "application/vnd.jupyter.widget-view+json": {
       "model_id": "029d053660ac4165bf2733f54484401f",
       "version_major": 2,
       "version_minor": 0
      },
      "text/plain": [
       "FloatSlider(value=1e-05, continuous_update=False, description='5', max=0.9999, min=1e-05, readout_format='.5f'…"
      ]
     },
     "metadata": {},
     "output_type": "display_data"
    },
    {
     "data": {
      "application/vnd.jupyter.widget-view+json": {
       "model_id": "872f0ebb9b774b1f849c68d37fef4a2e",
       "version_major": 2,
       "version_minor": 0
      },
      "text/plain": [
       "FloatSlider(value=1e-05, continuous_update=False, description='6', max=0.9999, min=1e-05, readout_format='.5f'…"
      ]
     },
     "metadata": {},
     "output_type": "display_data"
    },
    {
     "data": {
      "application/vnd.jupyter.widget-view+json": {
       "model_id": "a4d7688460e2455a91cfe88eb7fe62b2",
       "version_major": 2,
       "version_minor": 0
      },
      "text/plain": [
       "FloatSlider(value=1e-05, continuous_update=False, description='7', max=0.9999, min=1e-05, readout_format='.5f'…"
      ]
     },
     "metadata": {},
     "output_type": "display_data"
    },
    {
     "data": {
      "application/vnd.jupyter.widget-view+json": {
       "model_id": "242a133fafdf46d3aa58a46c0125e7c1",
       "version_major": 2,
       "version_minor": 0
      },
      "text/plain": [
       "FloatSlider(value=1e-05, continuous_update=False, description='8', max=0.9999, min=1e-05, readout_format='.5f'…"
      ]
     },
     "metadata": {},
     "output_type": "display_data"
    },
    {
     "data": {
      "application/vnd.jupyter.widget-view+json": {
       "model_id": "5adbfa42a0bf437ea412ff126d327a83",
       "version_major": 2,
       "version_minor": 0
      },
      "text/plain": [
       "FloatSlider(value=1e-05, continuous_update=False, description='9', max=0.9999, min=1e-05, readout_format='.5f'…"
      ]
     },
     "metadata": {},
     "output_type": "display_data"
    },
    {
     "data": {
      "application/vnd.jupyter.widget-view+json": {
       "model_id": "538058dcbd45450e8145c2b74d846755",
       "version_major": 2,
       "version_minor": 0
      },
      "text/plain": [
       "FloatSlider(value=1e-05, continuous_update=False, description='10', max=0.9999, min=1e-05, readout_format='.5f…"
      ]
     },
     "metadata": {},
     "output_type": "display_data"
    },
    {
     "data": {
      "application/vnd.jupyter.widget-view+json": {
       "model_id": "54f68a0a64004d4b8738c796a3b4021f",
       "version_major": 2,
       "version_minor": 0
      },
      "text/plain": [
       "FloatSlider(value=1e-05, continuous_update=False, description='11', max=0.9999, min=1e-05, readout_format='.5f…"
      ]
     },
     "metadata": {},
     "output_type": "display_data"
    },
    {
     "data": {
      "application/vnd.jupyter.widget-view+json": {
       "model_id": "f38d5670d365457ab9349a36cd8cf921",
       "version_major": 2,
       "version_minor": 0
      },
      "text/plain": [
       "FloatSlider(value=1e-05, continuous_update=False, description='12', max=0.9999, min=1e-05, readout_format='.5f…"
      ]
     },
     "metadata": {},
     "output_type": "display_data"
    },
    {
     "data": {
      "application/vnd.jupyter.widget-view+json": {
       "model_id": "d6c22e3f7e7a44b2bc7b18b51c17aa22",
       "version_major": 2,
       "version_minor": 0
      },
      "text/plain": [
       "FloatSlider(value=1e-05, continuous_update=False, description='13', max=0.9999, min=1e-05, readout_format='.5f…"
      ]
     },
     "metadata": {},
     "output_type": "display_data"
    },
    {
     "data": {
      "application/vnd.jupyter.widget-view+json": {
       "model_id": "df6837669816412c8516844d0cd71b75",
       "version_major": 2,
       "version_minor": 0
      },
      "text/plain": [
       "FloatSlider(value=1e-05, continuous_update=False, description='14', max=0.9999, min=1e-05, readout_format='.5f…"
      ]
     },
     "metadata": {},
     "output_type": "display_data"
    },
    {
     "data": {
      "application/vnd.jupyter.widget-view+json": {
       "model_id": "651c948f1c524ddfb4a3c3ef2706b1f8",
       "version_major": 2,
       "version_minor": 0
      },
      "text/plain": [
       "FloatSlider(value=1e-05, continuous_update=False, description='15', max=0.9999, min=1e-05, readout_format='.5f…"
      ]
     },
     "metadata": {},
     "output_type": "display_data"
    },
    {
     "data": {
      "application/vnd.jupyter.widget-view+json": {
       "model_id": "aa970decb7e8477c8a0ef8a0391e6f4b",
       "version_major": 2,
       "version_minor": 0
      },
      "text/plain": [
       "FloatSlider(value=1e-05, continuous_update=False, description='16', max=0.9999, min=1e-05, readout_format='.5f…"
      ]
     },
     "metadata": {},
     "output_type": "display_data"
    },
    {
     "data": {
      "application/vnd.jupyter.widget-view+json": {
       "model_id": "e87781072b854a58819277e548dc9447",
       "version_major": 2,
       "version_minor": 0
      },
      "text/plain": [
       "FloatSlider(value=1e-05, continuous_update=False, description='17', max=0.9999, min=1e-05, readout_format='.5f…"
      ]
     },
     "metadata": {},
     "output_type": "display_data"
    },
    {
     "data": {
      "application/vnd.jupyter.widget-view+json": {
       "model_id": "ac86ec6175ae492aa6c9cc7a450edb6a",
       "version_major": 2,
       "version_minor": 0
      },
      "text/plain": [
       "FloatSlider(value=1e-05, continuous_update=False, description='18', max=0.9999, min=1e-05, readout_format='.5f…"
      ]
     },
     "metadata": {},
     "output_type": "display_data"
    },
    {
     "data": {
      "application/vnd.jupyter.widget-view+json": {
       "model_id": "66ebac9b77ec430fa26e07fb8152503d",
       "version_major": 2,
       "version_minor": 0
      },
      "text/plain": [
       "FloatSlider(value=1e-05, continuous_update=False, description='19', max=0.9999, min=1e-05, readout_format='.5f…"
      ]
     },
     "metadata": {},
     "output_type": "display_data"
    },
    {
     "data": {
      "application/vnd.jupyter.widget-view+json": {
       "model_id": "a2d736e792394bf8973d244022166013",
       "version_major": 2,
       "version_minor": 0
      },
      "text/plain": [
       "FloatSlider(value=1e-05, continuous_update=False, description='20', max=0.9999, min=1e-05, readout_format='.5f…"
      ]
     },
     "metadata": {},
     "output_type": "display_data"
    },
    {
     "data": {
      "application/vnd.jupyter.widget-view+json": {
       "model_id": "32a909b6089048bcae86ce8b25da4a55",
       "version_major": 2,
       "version_minor": 0
      },
      "text/plain": [
       "FloatSlider(value=1e-05, continuous_update=False, description='21', max=0.9999, min=1e-05, readout_format='.5f…"
      ]
     },
     "metadata": {},
     "output_type": "display_data"
    },
    {
     "data": {
      "application/vnd.jupyter.widget-view+json": {
       "model_id": "57da571a442f40e1a05da36a779932ec",
       "version_major": 2,
       "version_minor": 0
      },
      "text/plain": [
       "FloatSlider(value=1e-05, continuous_update=False, description='22', max=0.9999, min=1e-05, readout_format='.5f…"
      ]
     },
     "metadata": {},
     "output_type": "display_data"
    },
    {
     "data": {
      "application/vnd.jupyter.widget-view+json": {
       "model_id": "3f21a8143b224a34af8f6302b1dc865c",
       "version_major": 2,
       "version_minor": 0
      },
      "text/plain": [
       "FloatSlider(value=1e-05, continuous_update=False, description='23', max=0.9999, min=1e-05, readout_format='.5f…"
      ]
     },
     "metadata": {},
     "output_type": "display_data"
    },
    {
     "data": {
      "application/vnd.jupyter.widget-view+json": {
       "model_id": "72b4d4df4d0c4348901e84396190fd33",
       "version_major": 2,
       "version_minor": 0
      },
      "text/plain": [
       "FloatSlider(value=1e-05, continuous_update=False, description='24', max=0.9999, min=1e-05, readout_format='.5f…"
      ]
     },
     "metadata": {},
     "output_type": "display_data"
    },
    {
     "data": {
      "application/vnd.jupyter.widget-view+json": {
       "model_id": "ef55f43c9fd9416f8826c364f020234b",
       "version_major": 2,
       "version_minor": 0
      },
      "text/plain": [
       "FloatSlider(value=1e-05, continuous_update=False, description='25', max=0.9999, min=1e-05, readout_format='.5f…"
      ]
     },
     "metadata": {},
     "output_type": "display_data"
    },
    {
     "data": {
      "application/vnd.jupyter.widget-view+json": {
       "model_id": "b62f8ee2aa7645e59ce0c98b71380b2d",
       "version_major": 2,
       "version_minor": 0
      },
      "text/plain": [
       "FloatSlider(value=1e-05, continuous_update=False, description='26', max=0.9999, min=1e-05, readout_format='.5f…"
      ]
     },
     "metadata": {},
     "output_type": "display_data"
    },
    {
     "data": {
      "application/vnd.jupyter.widget-view+json": {
       "model_id": "d3b63b21366d4ffbbcc4995be08b5fdb",
       "version_major": 2,
       "version_minor": 0
      },
      "text/plain": [
       "FloatSlider(value=1e-05, continuous_update=False, description='27', max=0.9999, min=1e-05, readout_format='.5f…"
      ]
     },
     "metadata": {},
     "output_type": "display_data"
    },
    {
     "data": {
      "application/vnd.jupyter.widget-view+json": {
       "model_id": "78a36e3f2f8e42c1bc3aedbcdc7ae11e",
       "version_major": 2,
       "version_minor": 0
      },
      "text/plain": [
       "FloatSlider(value=1e-05, continuous_update=False, description='28', max=0.9999, min=1e-05, readout_format='.5f…"
      ]
     },
     "metadata": {},
     "output_type": "display_data"
    },
    {
     "data": {
      "application/vnd.jupyter.widget-view+json": {
       "model_id": "f563d75c8af24e4089358f5b5cbf3515",
       "version_major": 2,
       "version_minor": 0
      },
      "text/plain": [
       "FloatSlider(value=1e-05, continuous_update=False, description='29', max=0.9999, min=1e-05, readout_format='.5f…"
      ]
     },
     "metadata": {},
     "output_type": "display_data"
    },
    {
     "data": {
      "application/vnd.jupyter.widget-view+json": {
       "model_id": "9610fa7b648949cb8ecb5599257037a4",
       "version_major": 2,
       "version_minor": 0
      },
      "text/plain": [
       "FloatSlider(value=1e-05, continuous_update=False, description='30', max=0.9999, min=1e-05, readout_format='.5f…"
      ]
     },
     "metadata": {},
     "output_type": "display_data"
    },
    {
     "data": {
      "application/vnd.jupyter.widget-view+json": {
       "model_id": "36907aa5e61e4e25a70ed763e01accf7",
       "version_major": 2,
       "version_minor": 0
      },
      "text/plain": [
       "FloatSlider(value=1e-05, continuous_update=False, description='31', max=0.9999, min=1e-05, readout_format='.5f…"
      ]
     },
     "metadata": {},
     "output_type": "display_data"
    },
    {
     "data": {
      "application/vnd.jupyter.widget-view+json": {
       "model_id": "3012124bb5cc46bea32e7022f3e9500c",
       "version_major": 2,
       "version_minor": 0
      },
      "text/plain": [
       "FloatSlider(value=1e-05, continuous_update=False, description='32', max=0.9999, min=1e-05, readout_format='.5f…"
      ]
     },
     "metadata": {},
     "output_type": "display_data"
    },
    {
     "data": {
      "application/vnd.jupyter.widget-view+json": {
       "model_id": "2b76e81fe9b24902aae1dcd342e86a5c",
       "version_major": 2,
       "version_minor": 0
      },
      "text/plain": [
       "FloatSlider(value=1e-05, continuous_update=False, description='33', max=0.9999, min=1e-05, readout_format='.5f…"
      ]
     },
     "metadata": {},
     "output_type": "display_data"
    },
    {
     "data": {
      "application/vnd.jupyter.widget-view+json": {
       "model_id": "a9e5febf4bc44f48acf1584cbcf93e53",
       "version_major": 2,
       "version_minor": 0
      },
      "text/plain": [
       "FloatSlider(value=1e-05, continuous_update=False, description='34', max=0.9999, min=1e-05, readout_format='.5f…"
      ]
     },
     "metadata": {},
     "output_type": "display_data"
    },
    {
     "data": {
      "application/vnd.jupyter.widget-view+json": {
       "model_id": "6cf3bc78174f44a38f1689f686eed527",
       "version_major": 2,
       "version_minor": 0
      },
      "text/plain": [
       "FloatSlider(value=1e-05, continuous_update=False, description='35', max=0.9999, min=1e-05, readout_format='.5f…"
      ]
     },
     "metadata": {},
     "output_type": "display_data"
    },
    {
     "data": {
      "application/vnd.jupyter.widget-view+json": {
       "model_id": "15707c5530c34c719af7995f1f939d10",
       "version_major": 2,
       "version_minor": 0
      },
      "text/plain": [
       "FloatSlider(value=1e-05, continuous_update=False, description='36', max=0.9999, min=1e-05, readout_format='.5f…"
      ]
     },
     "metadata": {},
     "output_type": "display_data"
    },
    {
     "data": {
      "application/vnd.jupyter.widget-view+json": {
       "model_id": "dc0893ac32f044fbb0e08c4318ae0535",
       "version_major": 2,
       "version_minor": 0
      },
      "text/plain": [
       "FloatSlider(value=1e-05, continuous_update=False, description='37', max=0.9999, min=1e-05, readout_format='.5f…"
      ]
     },
     "metadata": {},
     "output_type": "display_data"
    },
    {
     "data": {
      "application/vnd.jupyter.widget-view+json": {
       "model_id": "976cf4107a3a4dad9f5ab60a1450fb34",
       "version_major": 2,
       "version_minor": 0
      },
      "text/plain": [
       "FloatSlider(value=1e-05, continuous_update=False, description='38', max=0.9999, min=1e-05, readout_format='.5f…"
      ]
     },
     "metadata": {},
     "output_type": "display_data"
    },
    {
     "data": {
      "application/vnd.jupyter.widget-view+json": {
       "model_id": "ca00cfed2fbb4d12b610e1dc2da1464d",
       "version_major": 2,
       "version_minor": 0
      },
      "text/plain": [
       "FloatSlider(value=1e-05, continuous_update=False, description='39', max=0.9999, min=1e-05, readout_format='.5f…"
      ]
     },
     "metadata": {},
     "output_type": "display_data"
    },
    {
     "data": {
      "application/vnd.jupyter.widget-view+json": {
       "model_id": "3cbc95925c2142dd8159c6371ca932b6",
       "version_major": 2,
       "version_minor": 0
      },
      "text/plain": [
       "FloatSlider(value=1e-05, continuous_update=False, description='40', max=0.9999, min=1e-05, readout_format='.5f…"
      ]
     },
     "metadata": {},
     "output_type": "display_data"
    },
    {
     "data": {
      "application/vnd.jupyter.widget-view+json": {
       "model_id": "a44e43ba7a8b436e9a6ea1319e8506aa",
       "version_major": 2,
       "version_minor": 0
      },
      "text/plain": [
       "FloatSlider(value=1e-05, continuous_update=False, description='41', max=0.9999, min=1e-05, readout_format='.5f…"
      ]
     },
     "metadata": {},
     "output_type": "display_data"
    },
    {
     "data": {
      "application/vnd.jupyter.widget-view+json": {
       "model_id": "90bc33bb46404befb5ee1001175a1e4e",
       "version_major": 2,
       "version_minor": 0
      },
      "text/plain": [
       "FloatSlider(value=1e-05, continuous_update=False, description='42', max=0.9999, min=1e-05, readout_format='.5f…"
      ]
     },
     "metadata": {},
     "output_type": "display_data"
    },
    {
     "data": {
      "application/vnd.jupyter.widget-view+json": {
       "model_id": "65509e897a084348a551a4ef1acfecd2",
       "version_major": 2,
       "version_minor": 0
      },
      "text/plain": [
       "FloatSlider(value=1e-05, continuous_update=False, description='43', max=0.9999, min=1e-05, readout_format='.5f…"
      ]
     },
     "metadata": {},
     "output_type": "display_data"
    },
    {
     "data": {
      "application/vnd.jupyter.widget-view+json": {
       "model_id": "31232e67b1694086b7be115fa0bf5a53",
       "version_major": 2,
       "version_minor": 0
      },
      "text/plain": [
       "FloatSlider(value=1e-05, continuous_update=False, description='44', max=0.9999, min=1e-05, readout_format='.5f…"
      ]
     },
     "metadata": {},
     "output_type": "display_data"
    },
    {
     "data": {
      "application/vnd.jupyter.widget-view+json": {
       "model_id": "a038db2114ee40a2a8d8ec328b1f5157",
       "version_major": 2,
       "version_minor": 0
      },
      "text/plain": [
       "FloatSlider(value=1e-05, continuous_update=False, description='45', max=0.9999, min=1e-05, readout_format='.5f…"
      ]
     },
     "metadata": {},
     "output_type": "display_data"
    },
    {
     "data": {
      "application/vnd.jupyter.widget-view+json": {
       "model_id": "56525f174c1c4b8cb9b891753238aa57",
       "version_major": 2,
       "version_minor": 0
      },
      "text/plain": [
       "FloatSlider(value=1e-05, continuous_update=False, description='46', max=0.9999, min=1e-05, readout_format='.5f…"
      ]
     },
     "metadata": {},
     "output_type": "display_data"
    },
    {
     "data": {
      "application/vnd.jupyter.widget-view+json": {
       "model_id": "9745f82773fb4305ba7e54239b3a3d6d",
       "version_major": 2,
       "version_minor": 0
      },
      "text/plain": [
       "FloatSlider(value=1e-05, continuous_update=False, description='47', max=0.9999, min=1e-05, readout_format='.5f…"
      ]
     },
     "metadata": {},
     "output_type": "display_data"
    },
    {
     "data": {
      "application/vnd.jupyter.widget-view+json": {
       "model_id": "dd9c60b406b64093a5e0f87ef2c0c9bd",
       "version_major": 2,
       "version_minor": 0
      },
      "text/plain": [
       "FloatSlider(value=1e-05, continuous_update=False, description='48', max=0.9999, min=1e-05, readout_format='.5f…"
      ]
     },
     "metadata": {},
     "output_type": "display_data"
    },
    {
     "data": {
      "application/vnd.jupyter.widget-view+json": {
       "model_id": "c1b208289ee345339292cfd446c48dc3",
       "version_major": 2,
       "version_minor": 0
      },
      "text/plain": [
       "FloatSlider(value=1e-05, continuous_update=False, description='49', max=0.9999, min=1e-05, readout_format='.5f…"
      ]
     },
     "metadata": {},
     "output_type": "display_data"
    },
    {
     "data": {
      "application/vnd.jupyter.widget-view+json": {
       "model_id": "c0a4488233344e619fa84e84ad0893d4",
       "version_major": 2,
       "version_minor": 0
      },
      "text/plain": [
       "FloatSlider(value=1e-05, continuous_update=False, description='50', max=0.9999, min=1e-05, readout_format='.5f…"
      ]
     },
     "metadata": {},
     "output_type": "display_data"
    },
    {
     "data": {
      "application/vnd.jupyter.widget-view+json": {
       "model_id": "31e4f5ec04e1445f9765ffe49f7fd772",
       "version_major": 2,
       "version_minor": 0
      },
      "text/plain": [
       "FloatSlider(value=1e-05, continuous_update=False, description='51', max=0.9999, min=1e-05, readout_format='.5f…"
      ]
     },
     "metadata": {},
     "output_type": "display_data"
    },
    {
     "data": {
      "application/vnd.jupyter.widget-view+json": {
       "model_id": "26667f589c91478c98f42a0040b050d4",
       "version_major": 2,
       "version_minor": 0
      },
      "text/plain": [
       "FloatSlider(value=1e-05, continuous_update=False, description='52', max=0.9999, min=1e-05, readout_format='.5f…"
      ]
     },
     "metadata": {},
     "output_type": "display_data"
    },
    {
     "data": {
      "application/vnd.jupyter.widget-view+json": {
       "model_id": "ad971e31e69b45ddbb8cef598e4dd170",
       "version_major": 2,
       "version_minor": 0
      },
      "text/plain": [
       "FloatSlider(value=1e-05, continuous_update=False, description='53', max=0.9999, min=1e-05, readout_format='.5f…"
      ]
     },
     "metadata": {},
     "output_type": "display_data"
    },
    {
     "data": {
      "application/vnd.jupyter.widget-view+json": {
       "model_id": "cec6a39eebbb4510ae163544ec8c39ae",
       "version_major": 2,
       "version_minor": 0
      },
      "text/plain": [
       "FloatSlider(value=1e-05, continuous_update=False, description='54', max=0.9999, min=1e-05, readout_format='.5f…"
      ]
     },
     "metadata": {},
     "output_type": "display_data"
    },
    {
     "data": {
      "application/vnd.jupyter.widget-view+json": {
       "model_id": "236857a79d024cdb9d20c1cedf4bd905",
       "version_major": 2,
       "version_minor": 0
      },
      "text/plain": [
       "FloatSlider(value=1e-05, continuous_update=False, description='55', max=0.9999, min=1e-05, readout_format='.5f…"
      ]
     },
     "metadata": {},
     "output_type": "display_data"
    },
    {
     "data": {
      "application/vnd.jupyter.widget-view+json": {
       "model_id": "44f626d7fbc040db92fe89df1235fec2",
       "version_major": 2,
       "version_minor": 0
      },
      "text/plain": [
       "FloatSlider(value=1e-05, continuous_update=False, description='56', max=0.9999, min=1e-05, readout_format='.5f…"
      ]
     },
     "metadata": {},
     "output_type": "display_data"
    },
    {
     "data": {
      "application/vnd.jupyter.widget-view+json": {
       "model_id": "4c6460cf350d4e28ac593bd1d810d855",
       "version_major": 2,
       "version_minor": 0
      },
      "text/plain": [
       "FloatSlider(value=1e-05, continuous_update=False, description='57', max=0.9999, min=1e-05, readout_format='.5f…"
      ]
     },
     "metadata": {},
     "output_type": "display_data"
    },
    {
     "data": {
      "application/vnd.jupyter.widget-view+json": {
       "model_id": "03f4a39b5c6e4f20ad93ad4f9d9e7a46",
       "version_major": 2,
       "version_minor": 0
      },
      "text/plain": [
       "FloatSlider(value=1e-05, continuous_update=False, description='58', max=0.9999, min=1e-05, readout_format='.5f…"
      ]
     },
     "metadata": {},
     "output_type": "display_data"
    },
    {
     "data": {
      "application/vnd.jupyter.widget-view+json": {
       "model_id": "98fb8856eeef48718b007ade2716f4eb",
       "version_major": 2,
       "version_minor": 0
      },
      "text/plain": [
       "FloatSlider(value=1e-05, continuous_update=False, description='59', max=0.9999, min=1e-05, readout_format='.5f…"
      ]
     },
     "metadata": {},
     "output_type": "display_data"
    },
    {
     "data": {
      "application/vnd.jupyter.widget-view+json": {
       "model_id": "7cd8960403e34f77951fd4d1839e37b7",
       "version_major": 2,
       "version_minor": 0
      },
      "text/plain": [
       "FloatSlider(value=1e-05, continuous_update=False, description='60', max=0.9999, min=1e-05, readout_format='.5f…"
      ]
     },
     "metadata": {},
     "output_type": "display_data"
    },
    {
     "data": {
      "application/vnd.jupyter.widget-view+json": {
       "model_id": "ec8cbab03dc14de799d09dacda142641",
       "version_major": 2,
       "version_minor": 0
      },
      "text/plain": [
       "FloatSlider(value=1e-05, continuous_update=False, description='61', max=0.9999, min=1e-05, readout_format='.5f…"
      ]
     },
     "metadata": {},
     "output_type": "display_data"
    },
    {
     "data": {
      "application/vnd.jupyter.widget-view+json": {
       "model_id": "837c7a5af0904f4b83a49a372d17ead0",
       "version_major": 2,
       "version_minor": 0
      },
      "text/plain": [
       "FloatSlider(value=1e-05, continuous_update=False, description='62', max=0.9999, min=1e-05, readout_format='.5f…"
      ]
     },
     "metadata": {},
     "output_type": "display_data"
    },
    {
     "data": {
      "application/vnd.jupyter.widget-view+json": {
       "model_id": "41d934b004dd42ce82f0780694b2a237",
       "version_major": 2,
       "version_minor": 0
      },
      "text/plain": [
       "FloatSlider(value=1e-05, continuous_update=False, description='63', max=0.9999, min=1e-05, readout_format='.5f…"
      ]
     },
     "metadata": {},
     "output_type": "display_data"
    },
    {
     "data": {
      "application/vnd.jupyter.widget-view+json": {
       "model_id": "0539901be03849378de094979d717cc6",
       "version_major": 2,
       "version_minor": 0
      },
      "text/plain": [
       "FloatSlider(value=1e-05, continuous_update=False, description='64', max=0.9999, min=1e-05, readout_format='.5f…"
      ]
     },
     "metadata": {},
     "output_type": "display_data"
    },
    {
     "data": {
      "application/vnd.jupyter.widget-view+json": {
       "model_id": "2d01373b0ac14d1faa01fe09c708aa75",
       "version_major": 2,
       "version_minor": 0
      },
      "text/plain": [
       "FloatSlider(value=1e-05, continuous_update=False, description='65', max=0.9999, min=1e-05, readout_format='.5f…"
      ]
     },
     "metadata": {},
     "output_type": "display_data"
    },
    {
     "data": {
      "application/vnd.jupyter.widget-view+json": {
       "model_id": "8f51ff6f1bae4e319766afefcefa74c3",
       "version_major": 2,
       "version_minor": 0
      },
      "text/plain": [
       "FloatSlider(value=1e-05, continuous_update=False, description='66', max=0.9999, min=1e-05, readout_format='.5f…"
      ]
     },
     "metadata": {},
     "output_type": "display_data"
    },
    {
     "data": {
      "application/vnd.jupyter.widget-view+json": {
       "model_id": "40518cafa39d48118ba93e1691951f20",
       "version_major": 2,
       "version_minor": 0
      },
      "text/plain": [
       "FloatSlider(value=1e-05, continuous_update=False, description='67', max=0.9999, min=1e-05, readout_format='.5f…"
      ]
     },
     "metadata": {},
     "output_type": "display_data"
    },
    {
     "data": {
      "application/vnd.jupyter.widget-view+json": {
       "model_id": "57a9a95fdd2349f8a7d1ba4c25d49228",
       "version_major": 2,
       "version_minor": 0
      },
      "text/plain": [
       "FloatSlider(value=1e-05, continuous_update=False, description='68', max=0.9999, min=1e-05, readout_format='.5f…"
      ]
     },
     "metadata": {},
     "output_type": "display_data"
    },
    {
     "data": {
      "application/vnd.jupyter.widget-view+json": {
       "model_id": "ccb9f272e766406aa77b6b3d60132c6a",
       "version_major": 2,
       "version_minor": 0
      },
      "text/plain": [
       "FloatSlider(value=1e-05, continuous_update=False, description='69', max=0.9999, min=1e-05, readout_format='.5f…"
      ]
     },
     "metadata": {},
     "output_type": "display_data"
    },
    {
     "data": {
      "application/vnd.jupyter.widget-view+json": {
       "model_id": "9e435337a9e944f19f6df5160dce68e1",
       "version_major": 2,
       "version_minor": 0
      },
      "text/plain": [
       "FloatSlider(value=1e-05, continuous_update=False, description='70', max=0.9999, min=1e-05, readout_format='.5f…"
      ]
     },
     "metadata": {},
     "output_type": "display_data"
    },
    {
     "data": {
      "application/vnd.jupyter.widget-view+json": {
       "model_id": "61018477b6f246cea22d5b4b013811b6",
       "version_major": 2,
       "version_minor": 0
      },
      "text/plain": [
       "FloatSlider(value=1e-05, continuous_update=False, description='71', max=0.9999, min=1e-05, readout_format='.5f…"
      ]
     },
     "metadata": {},
     "output_type": "display_data"
    },
    {
     "data": {
      "application/vnd.jupyter.widget-view+json": {
       "model_id": "7b31c7d8460b4b7f95f1b102d75f252e",
       "version_major": 2,
       "version_minor": 0
      },
      "text/plain": [
       "FloatSlider(value=1e-05, continuous_update=False, description='72', max=0.9999, min=1e-05, readout_format='.5f…"
      ]
     },
     "metadata": {},
     "output_type": "display_data"
    },
    {
     "data": {
      "application/vnd.jupyter.widget-view+json": {
       "model_id": "b9bc7cdad64540038f7bc22e40f5b369",
       "version_major": 2,
       "version_minor": 0
      },
      "text/plain": [
       "FloatSlider(value=1e-05, continuous_update=False, description='73', max=0.9999, min=1e-05, readout_format='.5f…"
      ]
     },
     "metadata": {},
     "output_type": "display_data"
    },
    {
     "data": {
      "application/vnd.jupyter.widget-view+json": {
       "model_id": "99a9cbcca91843c99506925feef909ad",
       "version_major": 2,
       "version_minor": 0
      },
      "text/plain": [
       "FloatSlider(value=1e-05, continuous_update=False, description='74', max=0.9999, min=1e-05, readout_format='.5f…"
      ]
     },
     "metadata": {},
     "output_type": "display_data"
    },
    {
     "data": {
      "application/vnd.jupyter.widget-view+json": {
       "model_id": "7515baf8b81e4389935c2d5ca71f5fcc",
       "version_major": 2,
       "version_minor": 0
      },
      "text/plain": [
       "FloatSlider(value=1e-05, continuous_update=False, description='75', max=0.9999, min=1e-05, readout_format='.5f…"
      ]
     },
     "metadata": {},
     "output_type": "display_data"
    },
    {
     "data": {
      "application/vnd.jupyter.widget-view+json": {
       "model_id": "b2cb1e9af14c481c98c09b3de3c84ea5",
       "version_major": 2,
       "version_minor": 0
      },
      "text/plain": [
       "FloatSlider(value=1e-05, continuous_update=False, description='76', max=0.9999, min=1e-05, readout_format='.5f…"
      ]
     },
     "metadata": {},
     "output_type": "display_data"
    },
    {
     "data": {
      "application/vnd.jupyter.widget-view+json": {
       "model_id": "856becb57ec3401eb025eb500c49d995",
       "version_major": 2,
       "version_minor": 0
      },
      "text/plain": [
       "FloatSlider(value=1e-05, continuous_update=False, description='77', max=0.9999, min=1e-05, readout_format='.5f…"
      ]
     },
     "metadata": {},
     "output_type": "display_data"
    },
    {
     "data": {
      "application/vnd.jupyter.widget-view+json": {
       "model_id": "7813d3663d6b4cba999e8641d046a23b",
       "version_major": 2,
       "version_minor": 0
      },
      "text/plain": [
       "FloatSlider(value=1e-05, continuous_update=False, description='78', max=0.9999, min=1e-05, readout_format='.5f…"
      ]
     },
     "metadata": {},
     "output_type": "display_data"
    },
    {
     "data": {
      "application/vnd.jupyter.widget-view+json": {
       "model_id": "1c0155b52fb84beb8c048d431745654c",
       "version_major": 2,
       "version_minor": 0
      },
      "text/plain": [
       "FloatSlider(value=1e-05, continuous_update=False, description='79', max=0.9999, min=1e-05, readout_format='.5f…"
      ]
     },
     "metadata": {},
     "output_type": "display_data"
    },
    {
     "data": {
      "application/vnd.jupyter.widget-view+json": {
       "model_id": "fcfbd0ee5a024f33ae055a85affc7baa",
       "version_major": 2,
       "version_minor": 0
      },
      "text/plain": [
       "FloatSlider(value=1e-05, continuous_update=False, description='80', max=0.9999, min=1e-05, readout_format='.5f…"
      ]
     },
     "metadata": {},
     "output_type": "display_data"
    },
    {
     "data": {
      "application/vnd.jupyter.widget-view+json": {
       "model_id": "277e961bf3334934a93f5a962eae7952",
       "version_major": 2,
       "version_minor": 0
      },
      "text/plain": [
       "FloatSlider(value=1e-05, continuous_update=False, description='81', max=0.9999, min=1e-05, readout_format='.5f…"
      ]
     },
     "metadata": {},
     "output_type": "display_data"
    },
    {
     "data": {
      "application/vnd.jupyter.widget-view+json": {
       "model_id": "7b511bd23a584493b24300f9f2a1b4bc",
       "version_major": 2,
       "version_minor": 0
      },
      "text/plain": [
       "FloatSlider(value=1e-05, continuous_update=False, description='82', max=0.9999, min=1e-05, readout_format='.5f…"
      ]
     },
     "metadata": {},
     "output_type": "display_data"
    },
    {
     "data": {
      "application/vnd.jupyter.widget-view+json": {
       "model_id": "6e8dab63f6974f2cae40273df23751b1",
       "version_major": 2,
       "version_minor": 0
      },
      "text/plain": [
       "FloatSlider(value=1e-05, continuous_update=False, description='83', max=0.9999, min=1e-05, readout_format='.5f…"
      ]
     },
     "metadata": {},
     "output_type": "display_data"
    },
    {
     "data": {
      "application/vnd.jupyter.widget-view+json": {
       "model_id": "9132c5d7fa2e46ee89c98b27e12af208",
       "version_major": 2,
       "version_minor": 0
      },
      "text/plain": [
       "FloatSlider(value=1e-05, continuous_update=False, description='84', max=0.9999, min=1e-05, readout_format='.5f…"
      ]
     },
     "metadata": {},
     "output_type": "display_data"
    },
    {
     "data": {
      "application/vnd.jupyter.widget-view+json": {
       "model_id": "9cd36c3212184d61a2900fdd12231df0",
       "version_major": 2,
       "version_minor": 0
      },
      "text/plain": [
       "FloatSlider(value=1e-05, continuous_update=False, description='85', max=0.9999, min=1e-05, readout_format='.5f…"
      ]
     },
     "metadata": {},
     "output_type": "display_data"
    },
    {
     "data": {
      "application/vnd.jupyter.widget-view+json": {
       "model_id": "8e45b9cc420e4cb9806b97a3bbdfd644",
       "version_major": 2,
       "version_minor": 0
      },
      "text/plain": [
       "FloatSlider(value=1e-05, continuous_update=False, description='86', max=0.9999, min=1e-05, readout_format='.5f…"
      ]
     },
     "metadata": {},
     "output_type": "display_data"
    },
    {
     "data": {
      "application/vnd.jupyter.widget-view+json": {
       "model_id": "439829c17b1f49ba846d7689a5c2f94a",
       "version_major": 2,
       "version_minor": 0
      },
      "text/plain": [
       "FloatSlider(value=1e-05, continuous_update=False, description='87', max=0.9999, min=1e-05, readout_format='.5f…"
      ]
     },
     "metadata": {},
     "output_type": "display_data"
    },
    {
     "data": {
      "application/vnd.jupyter.widget-view+json": {
       "model_id": "c4a371f7476c46dba838697ca2216dfa",
       "version_major": 2,
       "version_minor": 0
      },
      "text/plain": [
       "FloatSlider(value=1e-05, continuous_update=False, description='88', max=0.9999, min=1e-05, readout_format='.5f…"
      ]
     },
     "metadata": {},
     "output_type": "display_data"
    },
    {
     "data": {
      "application/vnd.jupyter.widget-view+json": {
       "model_id": "b13c4c97b94e4035af73a29c790a6148",
       "version_major": 2,
       "version_minor": 0
      },
      "text/plain": [
       "FloatSlider(value=1e-05, continuous_update=False, description='89', max=0.9999, min=1e-05, readout_format='.5f…"
      ]
     },
     "metadata": {},
     "output_type": "display_data"
    },
    {
     "data": {
      "application/vnd.jupyter.widget-view+json": {
       "model_id": "e80846e877da45b7bfc490faf69d9cbe",
       "version_major": 2,
       "version_minor": 0
      },
      "text/plain": [
       "FloatSlider(value=1e-05, continuous_update=False, description='90', max=0.9999, min=1e-05, readout_format='.5f…"
      ]
     },
     "metadata": {},
     "output_type": "display_data"
    },
    {
     "data": {
      "application/vnd.jupyter.widget-view+json": {
       "model_id": "b8feefa62eb247699349f47e689fbdf2",
       "version_major": 2,
       "version_minor": 0
      },
      "text/plain": [
       "FloatSlider(value=1e-05, continuous_update=False, description='91', max=0.9999, min=1e-05, readout_format='.5f…"
      ]
     },
     "metadata": {},
     "output_type": "display_data"
    },
    {
     "data": {
      "application/vnd.jupyter.widget-view+json": {
       "model_id": "cd4ee713bbac4cdb8b5cef49e235167d",
       "version_major": 2,
       "version_minor": 0
      },
      "text/plain": [
       "FloatSlider(value=1e-05, continuous_update=False, description='92', max=0.9999, min=1e-05, readout_format='.5f…"
      ]
     },
     "metadata": {},
     "output_type": "display_data"
    },
    {
     "data": {
      "application/vnd.jupyter.widget-view+json": {
       "model_id": "c9a731bd5cc640fdad29979c10d98318",
       "version_major": 2,
       "version_minor": 0
      },
      "text/plain": [
       "FloatSlider(value=1e-05, continuous_update=False, description='93', max=0.9999, min=1e-05, readout_format='.5f…"
      ]
     },
     "metadata": {},
     "output_type": "display_data"
    },
    {
     "data": {
      "application/vnd.jupyter.widget-view+json": {
       "model_id": "ab9b7181664c4c7b943962b46f9dd256",
       "version_major": 2,
       "version_minor": 0
      },
      "text/plain": [
       "FloatSlider(value=1e-05, continuous_update=False, description='94', max=0.9999, min=1e-05, readout_format='.5f…"
      ]
     },
     "metadata": {},
     "output_type": "display_data"
    },
    {
     "data": {
      "application/vnd.jupyter.widget-view+json": {
       "model_id": "081821e89b854e8081e1d69c58aba70d",
       "version_major": 2,
       "version_minor": 0
      },
      "text/plain": [
       "FloatSlider(value=1e-05, continuous_update=False, description='95', max=0.9999, min=1e-05, readout_format='.5f…"
      ]
     },
     "metadata": {},
     "output_type": "display_data"
    },
    {
     "data": {
      "application/vnd.jupyter.widget-view+json": {
       "model_id": "85f02acf11b24f35ae56c7af3025d94d",
       "version_major": 2,
       "version_minor": 0
      },
      "text/plain": [
       "FloatSlider(value=1e-05, continuous_update=False, description='96', max=0.9999, min=1e-05, readout_format='.5f…"
      ]
     },
     "metadata": {},
     "output_type": "display_data"
    },
    {
     "data": {
      "application/vnd.jupyter.widget-view+json": {
       "model_id": "f02fd999c48d417bb5f3cf1d9633adeb",
       "version_major": 2,
       "version_minor": 0
      },
      "text/plain": [
       "FloatSlider(value=1e-05, continuous_update=False, description='97', max=0.9999, min=1e-05, readout_format='.5f…"
      ]
     },
     "metadata": {},
     "output_type": "display_data"
    },
    {
     "data": {
      "application/vnd.jupyter.widget-view+json": {
       "model_id": "02fb252a6f054bb9ac2d6a96909f0a44",
       "version_major": 2,
       "version_minor": 0
      },
      "text/plain": [
       "FloatSlider(value=1e-05, continuous_update=False, description='98', max=0.9999, min=1e-05, readout_format='.5f…"
      ]
     },
     "metadata": {},
     "output_type": "display_data"
    },
    {
     "data": {
      "application/vnd.jupyter.widget-view+json": {
       "model_id": "7aebf4a497cb4f88a5e9537dbf6da94d",
       "version_major": 2,
       "version_minor": 0
      },
      "text/plain": [
       "FloatSlider(value=1e-05, continuous_update=False, description='99', max=0.9999, min=1e-05, readout_format='.5f…"
      ]
     },
     "metadata": {},
     "output_type": "display_data"
    },
    {
     "data": {
      "application/vnd.jupyter.widget-view+json": {
       "model_id": "83c74fd04d664dccad45f025c732763b",
       "version_major": 2,
       "version_minor": 0
      },
      "text/plain": [
       "FloatSlider(value=1e-05, continuous_update=False, description='100', max=0.9999, min=1e-05, readout_format='.5…"
      ]
     },
     "metadata": {},
     "output_type": "display_data"
    },
    {
     "data": {
      "application/vnd.jupyter.widget-view+json": {
       "model_id": "68ced6ddb1c5407fa044685fd232a267",
       "version_major": 2,
       "version_minor": 0
      },
      "text/plain": [
       "FloatSlider(value=1e-05, continuous_update=False, description='101', max=0.9999, min=1e-05, readout_format='.5…"
      ]
     },
     "metadata": {},
     "output_type": "display_data"
    },
    {
     "data": {
      "application/vnd.jupyter.widget-view+json": {
       "model_id": "4cbee4c1a5e9426b84f002da7b10abab",
       "version_major": 2,
       "version_minor": 0
      },
      "text/plain": [
       "FloatSlider(value=1e-05, continuous_update=False, description='102', max=0.9999, min=1e-05, readout_format='.5…"
      ]
     },
     "metadata": {},
     "output_type": "display_data"
    },
    {
     "data": {
      "application/vnd.jupyter.widget-view+json": {
       "model_id": "fff3a734b9554f4c85607f0fcc4f6658",
       "version_major": 2,
       "version_minor": 0
      },
      "text/plain": [
       "FloatSlider(value=1e-05, continuous_update=False, description='103', max=0.9999, min=1e-05, readout_format='.5…"
      ]
     },
     "metadata": {},
     "output_type": "display_data"
    },
    {
     "data": {
      "application/vnd.jupyter.widget-view+json": {
       "model_id": "2d5a57c3a2974096bd0af3d9a3d6d008",
       "version_major": 2,
       "version_minor": 0
      },
      "text/plain": [
       "FloatSlider(value=1e-05, continuous_update=False, description='104', max=0.9999, min=1e-05, readout_format='.5…"
      ]
     },
     "metadata": {},
     "output_type": "display_data"
    },
    {
     "data": {
      "application/vnd.jupyter.widget-view+json": {
       "model_id": "c4efff9b559d47a5ae35477aababbe73",
       "version_major": 2,
       "version_minor": 0
      },
      "text/plain": [
       "FloatSlider(value=1e-05, continuous_update=False, description='105', max=0.9999, min=1e-05, readout_format='.5…"
      ]
     },
     "metadata": {},
     "output_type": "display_data"
    },
    {
     "data": {
      "application/vnd.jupyter.widget-view+json": {
       "model_id": "9649996facab4b89bc66b482a221db99",
       "version_major": 2,
       "version_minor": 0
      },
      "text/plain": [
       "FloatSlider(value=1e-05, continuous_update=False, description='106', max=0.9999, min=1e-05, readout_format='.5…"
      ]
     },
     "metadata": {},
     "output_type": "display_data"
    },
    {
     "data": {
      "application/vnd.jupyter.widget-view+json": {
       "model_id": "42ccf8bcddb94c39b89ad7e5ec881fb5",
       "version_major": 2,
       "version_minor": 0
      },
      "text/plain": [
       "FloatSlider(value=1e-05, continuous_update=False, description='107', max=0.9999, min=1e-05, readout_format='.5…"
      ]
     },
     "metadata": {},
     "output_type": "display_data"
    },
    {
     "data": {
      "application/vnd.jupyter.widget-view+json": {
       "model_id": "0780de143ba046a9a0eeea7f81a0eab5",
       "version_major": 2,
       "version_minor": 0
      },
      "text/plain": [
       "FloatSlider(value=1e-05, continuous_update=False, description='108', max=0.9999, min=1e-05, readout_format='.5…"
      ]
     },
     "metadata": {},
     "output_type": "display_data"
    },
    {
     "data": {
      "application/vnd.jupyter.widget-view+json": {
       "model_id": "a5f840908188484cbdfeb3fe6e89ed20",
       "version_major": 2,
       "version_minor": 0
      },
      "text/plain": [
       "FloatSlider(value=1e-05, continuous_update=False, description='109', max=0.9999, min=1e-05, readout_format='.5…"
      ]
     },
     "metadata": {},
     "output_type": "display_data"
    },
    {
     "data": {
      "application/vnd.jupyter.widget-view+json": {
       "model_id": "a304a7a23d16457c8b9f057365755951",
       "version_major": 2,
       "version_minor": 0
      },
      "text/plain": [
       "FloatSlider(value=1e-05, continuous_update=False, description='110', max=0.9999, min=1e-05, readout_format='.5…"
      ]
     },
     "metadata": {},
     "output_type": "display_data"
    },
    {
     "data": {
      "application/vnd.jupyter.widget-view+json": {
       "model_id": "af99ff35ae594e4a9f9d7c0f8425394d",
       "version_major": 2,
       "version_minor": 0
      },
      "text/plain": [
       "FloatSlider(value=1e-05, continuous_update=False, description='111', max=0.9999, min=1e-05, readout_format='.5…"
      ]
     },
     "metadata": {},
     "output_type": "display_data"
    },
    {
     "data": {
      "application/vnd.jupyter.widget-view+json": {
       "model_id": "ae1e8340013e426f90476d0a7fb2a4c3",
       "version_major": 2,
       "version_minor": 0
      },
      "text/plain": [
       "FloatSlider(value=1e-05, continuous_update=False, description='112', max=0.9999, min=1e-05, readout_format='.5…"
      ]
     },
     "metadata": {},
     "output_type": "display_data"
    },
    {
     "data": {
      "application/vnd.jupyter.widget-view+json": {
       "model_id": "903cd6bb801743ed99cc22887b94d5e1",
       "version_major": 2,
       "version_minor": 0
      },
      "text/plain": [
       "FloatSlider(value=1e-05, continuous_update=False, description='113', max=0.9999, min=1e-05, readout_format='.5…"
      ]
     },
     "metadata": {},
     "output_type": "display_data"
    },
    {
     "data": {
      "application/vnd.jupyter.widget-view+json": {
       "model_id": "6a91616dcafb450db9cf977cfad725e9",
       "version_major": 2,
       "version_minor": 0
      },
      "text/plain": [
       "FloatSlider(value=1e-05, continuous_update=False, description='114', max=0.9999, min=1e-05, readout_format='.5…"
      ]
     },
     "metadata": {},
     "output_type": "display_data"
    },
    {
     "data": {
      "application/vnd.jupyter.widget-view+json": {
       "model_id": "845b58a7fc94433a998ed09f050a8b7d",
       "version_major": 2,
       "version_minor": 0
      },
      "text/plain": [
       "FloatSlider(value=1e-05, continuous_update=False, description='115', max=0.9999, min=1e-05, readout_format='.5…"
      ]
     },
     "metadata": {},
     "output_type": "display_data"
    },
    {
     "data": {
      "application/vnd.jupyter.widget-view+json": {
       "model_id": "8742597d30ed4aca83e8916285d1548f",
       "version_major": 2,
       "version_minor": 0
      },
      "text/plain": [
       "FloatSlider(value=1e-05, continuous_update=False, description='116', max=0.9999, min=1e-05, readout_format='.5…"
      ]
     },
     "metadata": {},
     "output_type": "display_data"
    },
    {
     "data": {
      "application/vnd.jupyter.widget-view+json": {
       "model_id": "fb7f3f1cbf5a412eb47c10c831181541",
       "version_major": 2,
       "version_minor": 0
      },
      "text/plain": [
       "FloatSlider(value=1e-05, continuous_update=False, description='117', max=0.9999, min=1e-05, readout_format='.5…"
      ]
     },
     "metadata": {},
     "output_type": "display_data"
    },
    {
     "data": {
      "application/vnd.jupyter.widget-view+json": {
       "model_id": "153317c768f74e7ea30584c2fcfd0e60",
       "version_major": 2,
       "version_minor": 0
      },
      "text/plain": [
       "FloatSlider(value=1e-05, continuous_update=False, description='118', max=0.9999, min=1e-05, readout_format='.5…"
      ]
     },
     "metadata": {},
     "output_type": "display_data"
    },
    {
     "data": {
      "application/vnd.jupyter.widget-view+json": {
       "model_id": "a39c3f578409400b9734136cc8d92f7f",
       "version_major": 2,
       "version_minor": 0
      },
      "text/plain": [
       "FloatSlider(value=1e-05, continuous_update=False, description='119', max=0.9999, min=1e-05, readout_format='.5…"
      ]
     },
     "metadata": {},
     "output_type": "display_data"
    },
    {
     "data": {
      "application/vnd.jupyter.widget-view+json": {
       "model_id": "653b4192ee944101be68a460e32e4239",
       "version_major": 2,
       "version_minor": 0
      },
      "text/plain": [
       "FloatSlider(value=1e-05, continuous_update=False, description='120', max=0.9999, min=1e-05, readout_format='.5…"
      ]
     },
     "metadata": {},
     "output_type": "display_data"
    },
    {
     "data": {
      "application/vnd.jupyter.widget-view+json": {
       "model_id": "9bee05c681224a26a867e28466fe8e03",
       "version_major": 2,
       "version_minor": 0
      },
      "text/plain": [
       "FloatSlider(value=1e-05, continuous_update=False, description='121', max=0.9999, min=1e-05, readout_format='.5…"
      ]
     },
     "metadata": {},
     "output_type": "display_data"
    },
    {
     "data": {
      "application/vnd.jupyter.widget-view+json": {
       "model_id": "058bac5e5b8f4f9c8d66b138d35908e4",
       "version_major": 2,
       "version_minor": 0
      },
      "text/plain": [
       "FloatSlider(value=1e-05, continuous_update=False, description='122', max=0.9999, min=1e-05, readout_format='.5…"
      ]
     },
     "metadata": {},
     "output_type": "display_data"
    },
    {
     "data": {
      "application/vnd.jupyter.widget-view+json": {
       "model_id": "d0bf18a760d54b96a374fa6af95b9405",
       "version_major": 2,
       "version_minor": 0
      },
      "text/plain": [
       "FloatSlider(value=1e-05, continuous_update=False, description='123', max=0.9999, min=1e-05, readout_format='.5…"
      ]
     },
     "metadata": {},
     "output_type": "display_data"
    },
    {
     "data": {
      "application/vnd.jupyter.widget-view+json": {
       "model_id": "1127a101fc744d7ba3528dfa2bdac72c",
       "version_major": 2,
       "version_minor": 0
      },
      "text/plain": [
       "FloatSlider(value=1e-05, continuous_update=False, description='124', max=0.9999, min=1e-05, readout_format='.5…"
      ]
     },
     "metadata": {},
     "output_type": "display_data"
    },
    {
     "data": {
      "application/vnd.jupyter.widget-view+json": {
       "model_id": "e3cdd642868840e78af32eed5041d52d",
       "version_major": 2,
       "version_minor": 0
      },
      "text/plain": [
       "FloatSlider(value=1e-05, continuous_update=False, description='125', max=0.9999, min=1e-05, readout_format='.5…"
      ]
     },
     "metadata": {},
     "output_type": "display_data"
    },
    {
     "data": {
      "application/vnd.jupyter.widget-view+json": {
       "model_id": "cb372ba6182b4627b27b5e6eccef353a",
       "version_major": 2,
       "version_minor": 0
      },
      "text/plain": [
       "FloatSlider(value=1e-05, continuous_update=False, description='126', max=0.9999, min=1e-05, readout_format='.5…"
      ]
     },
     "metadata": {},
     "output_type": "display_data"
    },
    {
     "data": {
      "application/vnd.jupyter.widget-view+json": {
       "model_id": "8c51eecd27464a91bee3499e94b7e71e",
       "version_major": 2,
       "version_minor": 0
      },
      "text/plain": [
       "FloatSlider(value=1e-05, continuous_update=False, description='127', max=0.9999, min=1e-05, readout_format='.5…"
      ]
     },
     "metadata": {},
     "output_type": "display_data"
    },
    {
     "data": {
      "application/vnd.jupyter.widget-view+json": {
       "model_id": "b432f130cd734198b8439e6b40cb35e3",
       "version_major": 2,
       "version_minor": 0
      },
      "text/plain": [
       "FloatSlider(value=1e-05, continuous_update=False, description='128', max=0.9999, min=1e-05, readout_format='.5…"
      ]
     },
     "metadata": {},
     "output_type": "display_data"
    },
    {
     "data": {
      "application/vnd.jupyter.widget-view+json": {
       "model_id": "17c4cfcbf9be44b9b849a294380a84d2",
       "version_major": 2,
       "version_minor": 0
      },
      "text/plain": [
       "FloatSlider(value=1e-05, continuous_update=False, description='129', max=0.9999, min=1e-05, readout_format='.5…"
      ]
     },
     "metadata": {},
     "output_type": "display_data"
    },
    {
     "data": {
      "application/vnd.jupyter.widget-view+json": {
       "model_id": "3be930923e96482598475e827118a3ec",
       "version_major": 2,
       "version_minor": 0
      },
      "text/plain": [
       "FloatSlider(value=1e-05, continuous_update=False, description='130', max=0.9999, min=1e-05, readout_format='.5…"
      ]
     },
     "metadata": {},
     "output_type": "display_data"
    },
    {
     "data": {
      "application/vnd.jupyter.widget-view+json": {
       "model_id": "b9d118a92d0743c1aae43c736682ec3e",
       "version_major": 2,
       "version_minor": 0
      },
      "text/plain": [
       "FloatSlider(value=1e-05, continuous_update=False, description='131', max=0.9999, min=1e-05, readout_format='.5…"
      ]
     },
     "metadata": {},
     "output_type": "display_data"
    },
    {
     "data": {
      "application/vnd.jupyter.widget-view+json": {
       "model_id": "b3d3d8047a22424a8acfc719ddbb4ace",
       "version_major": 2,
       "version_minor": 0
      },
      "text/plain": [
       "FloatSlider(value=1e-05, continuous_update=False, description='132', max=0.9999, min=1e-05, readout_format='.5…"
      ]
     },
     "metadata": {},
     "output_type": "display_data"
    },
    {
     "data": {
      "application/vnd.jupyter.widget-view+json": {
       "model_id": "3dac84b48c8842b894de18407518183b",
       "version_major": 2,
       "version_minor": 0
      },
      "text/plain": [
       "FloatSlider(value=1e-05, continuous_update=False, description='133', max=0.9999, min=1e-05, readout_format='.5…"
      ]
     },
     "metadata": {},
     "output_type": "display_data"
    },
    {
     "data": {
      "application/vnd.jupyter.widget-view+json": {
       "model_id": "aa73b955bf614262b9e31fc679791788",
       "version_major": 2,
       "version_minor": 0
      },
      "text/plain": [
       "FloatSlider(value=1e-05, continuous_update=False, description='134', max=0.9999, min=1e-05, readout_format='.5…"
      ]
     },
     "metadata": {},
     "output_type": "display_data"
    },
    {
     "data": {
      "application/vnd.jupyter.widget-view+json": {
       "model_id": "1a9041a235784b87bcaaaecec244550f",
       "version_major": 2,
       "version_minor": 0
      },
      "text/plain": [
       "FloatSlider(value=1e-05, continuous_update=False, description='135', max=0.9999, min=1e-05, readout_format='.5…"
      ]
     },
     "metadata": {},
     "output_type": "display_data"
    },
    {
     "data": {
      "application/vnd.jupyter.widget-view+json": {
       "model_id": "f02c622fc11a4003a31071be40e3d0c5",
       "version_major": 2,
       "version_minor": 0
      },
      "text/plain": [
       "FloatSlider(value=1e-05, continuous_update=False, description='136', max=0.9999, min=1e-05, readout_format='.5…"
      ]
     },
     "metadata": {},
     "output_type": "display_data"
    },
    {
     "data": {
      "application/vnd.jupyter.widget-view+json": {
       "model_id": "624ba368dada4f5bada357c2ac8afc88",
       "version_major": 2,
       "version_minor": 0
      },
      "text/plain": [
       "FloatSlider(value=1e-05, continuous_update=False, description='137', max=0.9999, min=1e-05, readout_format='.5…"
      ]
     },
     "metadata": {},
     "output_type": "display_data"
    },
    {
     "data": {
      "application/vnd.jupyter.widget-view+json": {
       "model_id": "8086781e32984f0f955b2aada593f5df",
       "version_major": 2,
       "version_minor": 0
      },
      "text/plain": [
       "FloatSlider(value=1e-05, continuous_update=False, description='138', max=0.9999, min=1e-05, readout_format='.5…"
      ]
     },
     "metadata": {},
     "output_type": "display_data"
    },
    {
     "data": {
      "application/vnd.jupyter.widget-view+json": {
       "model_id": "7e3f5fa42fce4a69b9644c38f889086c",
       "version_major": 2,
       "version_minor": 0
      },
      "text/plain": [
       "FloatSlider(value=1e-05, continuous_update=False, description='139', max=0.9999, min=1e-05, readout_format='.5…"
      ]
     },
     "metadata": {},
     "output_type": "display_data"
    },
    {
     "data": {
      "application/vnd.jupyter.widget-view+json": {
       "model_id": "7662b1a036f6444698287177b7f32cfa",
       "version_major": 2,
       "version_minor": 0
      },
      "text/plain": [
       "FloatSlider(value=1e-05, continuous_update=False, description='140', max=0.9999, min=1e-05, readout_format='.5…"
      ]
     },
     "metadata": {},
     "output_type": "display_data"
    },
    {
     "data": {
      "application/vnd.jupyter.widget-view+json": {
       "model_id": "5b77056b09944c969b21d8dc1d3b474f",
       "version_major": 2,
       "version_minor": 0
      },
      "text/plain": [
       "FloatSlider(value=1e-05, continuous_update=False, description='141', max=0.9999, min=1e-05, readout_format='.5…"
      ]
     },
     "metadata": {},
     "output_type": "display_data"
    },
    {
     "data": {
      "application/vnd.jupyter.widget-view+json": {
       "model_id": "7a4f687f878e424da95b2d2461a5e862",
       "version_major": 2,
       "version_minor": 0
      },
      "text/plain": [
       "FloatSlider(value=1e-05, continuous_update=False, description='142', max=0.9999, min=1e-05, readout_format='.5…"
      ]
     },
     "metadata": {},
     "output_type": "display_data"
    },
    {
     "data": {
      "application/vnd.jupyter.widget-view+json": {
       "model_id": "9d6d08f6a91548a0b5c7098a4851d206",
       "version_major": 2,
       "version_minor": 0
      },
      "text/plain": [
       "FloatSlider(value=1e-05, continuous_update=False, description='143', max=0.9999, min=1e-05, readout_format='.5…"
      ]
     },
     "metadata": {},
     "output_type": "display_data"
    },
    {
     "data": {
      "application/vnd.jupyter.widget-view+json": {
       "model_id": "88c7dec00553470b8949b3f334a667cc",
       "version_major": 2,
       "version_minor": 0
      },
      "text/plain": [
       "FloatSlider(value=1e-05, continuous_update=False, description='144', max=0.9999, min=1e-05, readout_format='.5…"
      ]
     },
     "metadata": {},
     "output_type": "display_data"
    },
    {
     "data": {
      "application/vnd.jupyter.widget-view+json": {
       "model_id": "c74475828fde4faab3c3003948019099",
       "version_major": 2,
       "version_minor": 0
      },
      "text/plain": [
       "FloatSlider(value=1e-05, continuous_update=False, description='145', max=0.9999, min=1e-05, readout_format='.5…"
      ]
     },
     "metadata": {},
     "output_type": "display_data"
    },
    {
     "data": {
      "application/vnd.jupyter.widget-view+json": {
       "model_id": "0ce503ecabab437eb01171a36398296c",
       "version_major": 2,
       "version_minor": 0
      },
      "text/plain": [
       "FloatSlider(value=1e-05, continuous_update=False, description='146', max=0.9999, min=1e-05, readout_format='.5…"
      ]
     },
     "metadata": {},
     "output_type": "display_data"
    },
    {
     "data": {
      "application/vnd.jupyter.widget-view+json": {
       "model_id": "de390236541d4a0c8849c89be97c0c52",
       "version_major": 2,
       "version_minor": 0
      },
      "text/plain": [
       "FloatSlider(value=1e-05, continuous_update=False, description='147', max=0.9999, min=1e-05, readout_format='.5…"
      ]
     },
     "metadata": {},
     "output_type": "display_data"
    },
    {
     "data": {
      "application/vnd.jupyter.widget-view+json": {
       "model_id": "6171db1eba7245a788c2c852a872e57a",
       "version_major": 2,
       "version_minor": 0
      },
      "text/plain": [
       "FloatSlider(value=1e-05, continuous_update=False, description='148', max=0.9999, min=1e-05, readout_format='.5…"
      ]
     },
     "metadata": {},
     "output_type": "display_data"
    },
    {
     "data": {
      "application/vnd.jupyter.widget-view+json": {
       "model_id": "89c73c03009c4ddbbd1f7a8f565aa6c5",
       "version_major": 2,
       "version_minor": 0
      },
      "text/plain": [
       "FloatSlider(value=1e-05, continuous_update=False, description='149', max=0.9999, min=1e-05, readout_format='.5…"
      ]
     },
     "metadata": {},
     "output_type": "display_data"
    },
    {
     "data": {
      "application/vnd.jupyter.widget-view+json": {
       "model_id": "a52c8d2f51a84653a7b0db9bf3749d48",
       "version_major": 2,
       "version_minor": 0
      },
      "text/plain": [
       "FloatSlider(value=1e-05, continuous_update=False, description='150', max=0.9999, min=1e-05, readout_format='.5…"
      ]
     },
     "metadata": {},
     "output_type": "display_data"
    },
    {
     "data": {
      "application/vnd.jupyter.widget-view+json": {
       "model_id": "1e8a8138057041d2ae82da8e291f97ec",
       "version_major": 2,
       "version_minor": 0
      },
      "text/plain": [
       "FloatSlider(value=1e-05, continuous_update=False, description='151', max=0.9999, min=1e-05, readout_format='.5…"
      ]
     },
     "metadata": {},
     "output_type": "display_data"
    },
    {
     "data": {
      "application/vnd.jupyter.widget-view+json": {
       "model_id": "40974b9b0c3a4e8ca624f953165bd0e6",
       "version_major": 2,
       "version_minor": 0
      },
      "text/plain": [
       "FloatSlider(value=1e-05, continuous_update=False, description='152', max=0.9999, min=1e-05, readout_format='.5…"
      ]
     },
     "metadata": {},
     "output_type": "display_data"
    },
    {
     "data": {
      "application/vnd.jupyter.widget-view+json": {
       "model_id": "d645a712b668435faabaf52511ff17bd",
       "version_major": 2,
       "version_minor": 0
      },
      "text/plain": [
       "FloatSlider(value=1e-05, continuous_update=False, description='153', max=0.9999, min=1e-05, readout_format='.5…"
      ]
     },
     "metadata": {},
     "output_type": "display_data"
    },
    {
     "data": {
      "application/vnd.jupyter.widget-view+json": {
       "model_id": "f405da83c06f498089c7e1ba27ee11c8",
       "version_major": 2,
       "version_minor": 0
      },
      "text/plain": [
       "FloatSlider(value=1e-05, continuous_update=False, description='154', max=0.9999, min=1e-05, readout_format='.5…"
      ]
     },
     "metadata": {},
     "output_type": "display_data"
    },
    {
     "data": {
      "application/vnd.jupyter.widget-view+json": {
       "model_id": "b9b3e36dfd3843ae932469e179d5feab",
       "version_major": 2,
       "version_minor": 0
      },
      "text/plain": [
       "FloatSlider(value=1e-05, continuous_update=False, description='155', max=0.9999, min=1e-05, readout_format='.5…"
      ]
     },
     "metadata": {},
     "output_type": "display_data"
    },
    {
     "data": {
      "application/vnd.jupyter.widget-view+json": {
       "model_id": "80e87cefef364269b45fc433be621fd2",
       "version_major": 2,
       "version_minor": 0
      },
      "text/plain": [
       "FloatSlider(value=1e-05, continuous_update=False, description='156', max=0.9999, min=1e-05, readout_format='.5…"
      ]
     },
     "metadata": {},
     "output_type": "display_data"
    },
    {
     "data": {
      "application/vnd.jupyter.widget-view+json": {
       "model_id": "34529d7afa1a410b9ebf8c0e8c0fc7f9",
       "version_major": 2,
       "version_minor": 0
      },
      "text/plain": [
       "FloatSlider(value=1e-05, continuous_update=False, description='157', max=0.9999, min=1e-05, readout_format='.5…"
      ]
     },
     "metadata": {},
     "output_type": "display_data"
    },
    {
     "data": {
      "application/vnd.jupyter.widget-view+json": {
       "model_id": "9dcb9595fa16420fabbd120a994d0a58",
       "version_major": 2,
       "version_minor": 0
      },
      "text/plain": [
       "FloatSlider(value=1e-05, continuous_update=False, description='158', max=0.9999, min=1e-05, readout_format='.5…"
      ]
     },
     "metadata": {},
     "output_type": "display_data"
    },
    {
     "data": {
      "application/vnd.jupyter.widget-view+json": {
       "model_id": "a6230ee7f1e1447d9205ee817798efa4",
       "version_major": 2,
       "version_minor": 0
      },
      "text/plain": [
       "FloatSlider(value=1e-05, continuous_update=False, description='159', max=0.9999, min=1e-05, readout_format='.5…"
      ]
     },
     "metadata": {},
     "output_type": "display_data"
    },
    {
     "data": {
      "application/vnd.jupyter.widget-view+json": {
       "model_id": "8a67aca2b3534895aa7fddf8bae05d12",
       "version_major": 2,
       "version_minor": 0
      },
      "text/plain": [
       "FloatSlider(value=1e-05, continuous_update=False, description='160', max=0.9999, min=1e-05, readout_format='.5…"
      ]
     },
     "metadata": {},
     "output_type": "display_data"
    },
    {
     "data": {
      "application/vnd.jupyter.widget-view+json": {
       "model_id": "2e038a8e7f3f474494df97cc2f9419ac",
       "version_major": 2,
       "version_minor": 0
      },
      "text/plain": [
       "FloatSlider(value=1e-05, continuous_update=False, description='161', max=0.9999, min=1e-05, readout_format='.5…"
      ]
     },
     "metadata": {},
     "output_type": "display_data"
    },
    {
     "data": {
      "application/vnd.jupyter.widget-view+json": {
       "model_id": "204e9fb5fbc34170953f343f9a6282f7",
       "version_major": 2,
       "version_minor": 0
      },
      "text/plain": [
       "FloatSlider(value=1e-05, continuous_update=False, description='162', max=0.9999, min=1e-05, readout_format='.5…"
      ]
     },
     "metadata": {},
     "output_type": "display_data"
    },
    {
     "data": {
      "application/vnd.jupyter.widget-view+json": {
       "model_id": "552313fabb6d42c5a3d5e2964e40af03",
       "version_major": 2,
       "version_minor": 0
      },
      "text/plain": [
       "FloatSlider(value=1e-05, continuous_update=False, description='163', max=0.9999, min=1e-05, readout_format='.5…"
      ]
     },
     "metadata": {},
     "output_type": "display_data"
    },
    {
     "data": {
      "application/vnd.jupyter.widget-view+json": {
       "model_id": "f53921004d7e465d8374e493919a7361",
       "version_major": 2,
       "version_minor": 0
      },
      "text/plain": [
       "FloatSlider(value=1e-05, continuous_update=False, description='164', max=0.9999, min=1e-05, readout_format='.5…"
      ]
     },
     "metadata": {},
     "output_type": "display_data"
    },
    {
     "data": {
      "application/vnd.jupyter.widget-view+json": {
       "model_id": "39e085f87cc14534bd5d703b4b2d4b36",
       "version_major": 2,
       "version_minor": 0
      },
      "text/plain": [
       "FloatSlider(value=1e-05, continuous_update=False, description='165', max=0.9999, min=1e-05, readout_format='.5…"
      ]
     },
     "metadata": {},
     "output_type": "display_data"
    },
    {
     "data": {
      "application/vnd.jupyter.widget-view+json": {
       "model_id": "a2507c3cf74a432592586e0f48b98fd7",
       "version_major": 2,
       "version_minor": 0
      },
      "text/plain": [
       "FloatSlider(value=1e-05, continuous_update=False, description='166', max=0.9999, min=1e-05, readout_format='.5…"
      ]
     },
     "metadata": {},
     "output_type": "display_data"
    },
    {
     "data": {
      "application/vnd.jupyter.widget-view+json": {
       "model_id": "64bef2b5566a4728b7807a5dcf0670db",
       "version_major": 2,
       "version_minor": 0
      },
      "text/plain": [
       "FloatSlider(value=1e-05, continuous_update=False, description='167', max=0.9999, min=1e-05, readout_format='.5…"
      ]
     },
     "metadata": {},
     "output_type": "display_data"
    },
    {
     "data": {
      "application/vnd.jupyter.widget-view+json": {
       "model_id": "16d5841658c243398673ca324fcd6e26",
       "version_major": 2,
       "version_minor": 0
      },
      "text/plain": [
       "FloatSlider(value=1e-05, continuous_update=False, description='168', max=0.9999, min=1e-05, readout_format='.5…"
      ]
     },
     "metadata": {},
     "output_type": "display_data"
    },
    {
     "data": {
      "application/vnd.jupyter.widget-view+json": {
       "model_id": "749f07717f5c4d84b925abceadbb7226",
       "version_major": 2,
       "version_minor": 0
      },
      "text/plain": [
       "FloatSlider(value=1e-05, continuous_update=False, description='169', max=0.9999, min=1e-05, readout_format='.5…"
      ]
     },
     "metadata": {},
     "output_type": "display_data"
    },
    {
     "data": {
      "application/vnd.jupyter.widget-view+json": {
       "model_id": "121d65a6694042e6b7b8d4488e3c80d4",
       "version_major": 2,
       "version_minor": 0
      },
      "text/plain": [
       "FloatSlider(value=1e-05, continuous_update=False, description='170', max=0.9999, min=1e-05, readout_format='.5…"
      ]
     },
     "metadata": {},
     "output_type": "display_data"
    },
    {
     "data": {
      "application/vnd.jupyter.widget-view+json": {
       "model_id": "5151bdec458746639d1e7e4490dfbdbb",
       "version_major": 2,
       "version_minor": 0
      },
      "text/plain": [
       "FloatSlider(value=1e-05, continuous_update=False, description='171', max=0.9999, min=1e-05, readout_format='.5…"
      ]
     },
     "metadata": {},
     "output_type": "display_data"
    },
    {
     "data": {
      "application/vnd.jupyter.widget-view+json": {
       "model_id": "f339f98c03154413a8d8bc096c96e5ef",
       "version_major": 2,
       "version_minor": 0
      },
      "text/plain": [
       "FloatSlider(value=1e-05, continuous_update=False, description='172', max=0.9999, min=1e-05, readout_format='.5…"
      ]
     },
     "metadata": {},
     "output_type": "display_data"
    },
    {
     "data": {
      "application/vnd.jupyter.widget-view+json": {
       "model_id": "75ff43e41ef14554b52f0827d33639c2",
       "version_major": 2,
       "version_minor": 0
      },
      "text/plain": [
       "FloatSlider(value=1e-05, continuous_update=False, description='173', max=0.9999, min=1e-05, readout_format='.5…"
      ]
     },
     "metadata": {},
     "output_type": "display_data"
    },
    {
     "data": {
      "application/vnd.jupyter.widget-view+json": {
       "model_id": "bf689d1a1e7d49b99548aea19061f057",
       "version_major": 2,
       "version_minor": 0
      },
      "text/plain": [
       "FloatSlider(value=1e-05, continuous_update=False, description='174', max=0.9999, min=1e-05, readout_format='.5…"
      ]
     },
     "metadata": {},
     "output_type": "display_data"
    },
    {
     "data": {
      "application/vnd.jupyter.widget-view+json": {
       "model_id": "e2881240b4924deea1cf3642f23656af",
       "version_major": 2,
       "version_minor": 0
      },
      "text/plain": [
       "FloatSlider(value=1e-05, continuous_update=False, description='175', max=0.9999, min=1e-05, readout_format='.5…"
      ]
     },
     "metadata": {},
     "output_type": "display_data"
    },
    {
     "data": {
      "application/vnd.jupyter.widget-view+json": {
       "model_id": "e53bc00f89ca4ec6aae0ca6e22701fbe",
       "version_major": 2,
       "version_minor": 0
      },
      "text/plain": [
       "FloatSlider(value=1e-05, continuous_update=False, description='176', max=0.9999, min=1e-05, readout_format='.5…"
      ]
     },
     "metadata": {},
     "output_type": "display_data"
    },
    {
     "data": {
      "application/vnd.jupyter.widget-view+json": {
       "model_id": "6c7d2513133c4ee0948f691e7577473a",
       "version_major": 2,
       "version_minor": 0
      },
      "text/plain": [
       "FloatSlider(value=1e-05, continuous_update=False, description='177', max=0.9999, min=1e-05, readout_format='.5…"
      ]
     },
     "metadata": {},
     "output_type": "display_data"
    },
    {
     "data": {
      "application/vnd.jupyter.widget-view+json": {
       "model_id": "b1b6ebfe87ca4aa0904d5caf7fcc9429",
       "version_major": 2,
       "version_minor": 0
      },
      "text/plain": [
       "FloatSlider(value=1e-05, continuous_update=False, description='178', max=0.9999, min=1e-05, readout_format='.5…"
      ]
     },
     "metadata": {},
     "output_type": "display_data"
    },
    {
     "data": {
      "application/vnd.jupyter.widget-view+json": {
       "model_id": "9216eeef40e14b6783fe74ffb30e7676",
       "version_major": 2,
       "version_minor": 0
      },
      "text/plain": [
       "FloatSlider(value=1e-05, continuous_update=False, description='179', max=0.9999, min=1e-05, readout_format='.5…"
      ]
     },
     "metadata": {},
     "output_type": "display_data"
    },
    {
     "data": {
      "application/vnd.jupyter.widget-view+json": {
       "model_id": "696da8112f4c4d6e969bffd751922590",
       "version_major": 2,
       "version_minor": 0
      },
      "text/plain": [
       "FloatSlider(value=1e-05, continuous_update=False, description='180', max=0.9999, min=1e-05, readout_format='.5…"
      ]
     },
     "metadata": {},
     "output_type": "display_data"
    },
    {
     "data": {
      "application/vnd.jupyter.widget-view+json": {
       "model_id": "45626f2eed194debb76c27737c8ce59f",
       "version_major": 2,
       "version_minor": 0
      },
      "text/plain": [
       "FloatSlider(value=1e-05, continuous_update=False, description='181', max=0.9999, min=1e-05, readout_format='.5…"
      ]
     },
     "metadata": {},
     "output_type": "display_data"
    },
    {
     "data": {
      "application/vnd.jupyter.widget-view+json": {
       "model_id": "2d23fc0ffc6245058450cf9f9c8b64de",
       "version_major": 2,
       "version_minor": 0
      },
      "text/plain": [
       "FloatSlider(value=1e-05, continuous_update=False, description='182', max=0.9999, min=1e-05, readout_format='.5…"
      ]
     },
     "metadata": {},
     "output_type": "display_data"
    },
    {
     "data": {
      "application/vnd.jupyter.widget-view+json": {
       "model_id": "fee77c82941749eaa87cf0823b39fa26",
       "version_major": 2,
       "version_minor": 0
      },
      "text/plain": [
       "FloatSlider(value=1e-05, continuous_update=False, description='183', max=0.9999, min=1e-05, readout_format='.5…"
      ]
     },
     "metadata": {},
     "output_type": "display_data"
    },
    {
     "data": {
      "application/vnd.jupyter.widget-view+json": {
       "model_id": "c3868173ef0e4e3f87b57a29da007f25",
       "version_major": 2,
       "version_minor": 0
      },
      "text/plain": [
       "FloatSlider(value=1e-05, continuous_update=False, description='184', max=0.9999, min=1e-05, readout_format='.5…"
      ]
     },
     "metadata": {},
     "output_type": "display_data"
    },
    {
     "data": {
      "application/vnd.jupyter.widget-view+json": {
       "model_id": "71e241831e904d08a1bcaf88cb4e5ab5",
       "version_major": 2,
       "version_minor": 0
      },
      "text/plain": [
       "FloatSlider(value=1e-05, continuous_update=False, description='185', max=0.9999, min=1e-05, readout_format='.5…"
      ]
     },
     "metadata": {},
     "output_type": "display_data"
    },
    {
     "data": {
      "application/vnd.jupyter.widget-view+json": {
       "model_id": "231bdc95c35c49a6ad094fcec264d69c",
       "version_major": 2,
       "version_minor": 0
      },
      "text/plain": [
       "FloatSlider(value=1e-05, continuous_update=False, description='186', max=0.9999, min=1e-05, readout_format='.5…"
      ]
     },
     "metadata": {},
     "output_type": "display_data"
    },
    {
     "data": {
      "application/vnd.jupyter.widget-view+json": {
       "model_id": "cd25b076a07c43fc8c23427edf7361f8",
       "version_major": 2,
       "version_minor": 0
      },
      "text/plain": [
       "FloatSlider(value=1e-05, continuous_update=False, description='187', max=0.9999, min=1e-05, readout_format='.5…"
      ]
     },
     "metadata": {},
     "output_type": "display_data"
    },
    {
     "data": {
      "application/vnd.jupyter.widget-view+json": {
       "model_id": "f9ef61b61db84d26b1587be4d86a6f2a",
       "version_major": 2,
       "version_minor": 0
      },
      "text/plain": [
       "FloatSlider(value=1e-05, continuous_update=False, description='188', max=0.9999, min=1e-05, readout_format='.5…"
      ]
     },
     "metadata": {},
     "output_type": "display_data"
    },
    {
     "data": {
      "application/vnd.jupyter.widget-view+json": {
       "model_id": "102edb2a8afb4a9f85965a43809270a3",
       "version_major": 2,
       "version_minor": 0
      },
      "text/plain": [
       "FloatSlider(value=1e-05, continuous_update=False, description='189', max=0.9999, min=1e-05, readout_format='.5…"
      ]
     },
     "metadata": {},
     "output_type": "display_data"
    },
    {
     "data": {
      "application/vnd.jupyter.widget-view+json": {
       "model_id": "8b3afda597ad493798eee5299c395d88",
       "version_major": 2,
       "version_minor": 0
      },
      "text/plain": [
       "FloatSlider(value=1e-05, continuous_update=False, description='190', max=0.9999, min=1e-05, readout_format='.5…"
      ]
     },
     "metadata": {},
     "output_type": "display_data"
    },
    {
     "data": {
      "application/vnd.jupyter.widget-view+json": {
       "model_id": "bf5bfac6a1624e5fbb3cbbdec730901c",
       "version_major": 2,
       "version_minor": 0
      },
      "text/plain": [
       "FloatSlider(value=1e-05, continuous_update=False, description='191', max=0.9999, min=1e-05, readout_format='.5…"
      ]
     },
     "metadata": {},
     "output_type": "display_data"
    },
    {
     "data": {
      "application/vnd.jupyter.widget-view+json": {
       "model_id": "32cf83790aa9493b881114bb4a7bf1de",
       "version_major": 2,
       "version_minor": 0
      },
      "text/plain": [
       "FloatSlider(value=1e-05, continuous_update=False, description='192', max=0.9999, min=1e-05, readout_format='.5…"
      ]
     },
     "metadata": {},
     "output_type": "display_data"
    },
    {
     "data": {
      "application/vnd.jupyter.widget-view+json": {
       "model_id": "4a2ea269ffcf4bb089b8ffba23fdb26b",
       "version_major": 2,
       "version_minor": 0
      },
      "text/plain": [
       "FloatSlider(value=1e-05, continuous_update=False, description='193', max=0.9999, min=1e-05, readout_format='.5…"
      ]
     },
     "metadata": {},
     "output_type": "display_data"
    },
    {
     "data": {
      "application/vnd.jupyter.widget-view+json": {
       "model_id": "1dc5c1d0ba3848feb74de593863fb323",
       "version_major": 2,
       "version_minor": 0
      },
      "text/plain": [
       "FloatSlider(value=1e-05, continuous_update=False, description='194', max=0.9999, min=1e-05, readout_format='.5…"
      ]
     },
     "metadata": {},
     "output_type": "display_data"
    },
    {
     "data": {
      "application/vnd.jupyter.widget-view+json": {
       "model_id": "bf02ba9ddb3a477da0c27182414cfe4a",
       "version_major": 2,
       "version_minor": 0
      },
      "text/plain": [
       "FloatSlider(value=1e-05, continuous_update=False, description='195', max=0.9999, min=1e-05, readout_format='.5…"
      ]
     },
     "metadata": {},
     "output_type": "display_data"
    },
    {
     "data": {
      "application/vnd.jupyter.widget-view+json": {
       "model_id": "720b8f6ad56543a9bb37fba0a849f842",
       "version_major": 2,
       "version_minor": 0
      },
      "text/plain": [
       "FloatSlider(value=1e-05, continuous_update=False, description='196', max=0.9999, min=1e-05, readout_format='.5…"
      ]
     },
     "metadata": {},
     "output_type": "display_data"
    },
    {
     "data": {
      "application/vnd.jupyter.widget-view+json": {
       "model_id": "3cb263cdc1c24f68b91fcfb10957e20c",
       "version_major": 2,
       "version_minor": 0
      },
      "text/plain": [
       "FloatSlider(value=1e-05, continuous_update=False, description='197', max=0.9999, min=1e-05, readout_format='.5…"
      ]
     },
     "metadata": {},
     "output_type": "display_data"
    },
    {
     "data": {
      "application/vnd.jupyter.widget-view+json": {
       "model_id": "434e4e45a8f94d37835c8402448a04a8",
       "version_major": 2,
       "version_minor": 0
      },
      "text/plain": [
       "FloatSlider(value=1e-05, continuous_update=False, description='198', max=0.9999, min=1e-05, readout_format='.5…"
      ]
     },
     "metadata": {},
     "output_type": "display_data"
    },
    {
     "data": {
      "application/vnd.jupyter.widget-view+json": {
       "model_id": "2ac9210ed9374b8fb7bb9fbb8111e7a3",
       "version_major": 2,
       "version_minor": 0
      },
      "text/plain": [
       "FloatSlider(value=1e-05, continuous_update=False, description='199', max=0.9999, min=1e-05, readout_format='.5…"
      ]
     },
     "metadata": {},
     "output_type": "display_data"
    },
    {
     "data": {
      "application/vnd.jupyter.widget-view+json": {
       "model_id": "b0690d7d7b3c40e1b960b5788d9b1ea3",
       "version_major": 2,
       "version_minor": 0
      },
      "text/plain": [
       "FloatSlider(value=1e-05, continuous_update=False, description='200', max=0.9999, min=1e-05, readout_format='.5…"
      ]
     },
     "metadata": {},
     "output_type": "display_data"
    },
    {
     "data": {
      "application/vnd.jupyter.widget-view+json": {
       "model_id": "11999664943347e8824dd85f2cda54a3",
       "version_major": 2,
       "version_minor": 0
      },
      "text/plain": [
       "FloatSlider(value=1e-05, continuous_update=False, description='201', max=0.9999, min=1e-05, readout_format='.5…"
      ]
     },
     "metadata": {},
     "output_type": "display_data"
    },
    {
     "data": {
      "application/vnd.jupyter.widget-view+json": {
       "model_id": "72d5ee4716c3453db74ba9886ea2a83f",
       "version_major": 2,
       "version_minor": 0
      },
      "text/plain": [
       "FloatSlider(value=1e-05, continuous_update=False, description='202', max=0.9999, min=1e-05, readout_format='.5…"
      ]
     },
     "metadata": {},
     "output_type": "display_data"
    },
    {
     "data": {
      "application/vnd.jupyter.widget-view+json": {
       "model_id": "cc13f431e0ed4d0abee73314ffa249ba",
       "version_major": 2,
       "version_minor": 0
      },
      "text/plain": [
       "FloatSlider(value=1e-05, continuous_update=False, description='203', max=0.9999, min=1e-05, readout_format='.5…"
      ]
     },
     "metadata": {},
     "output_type": "display_data"
    },
    {
     "data": {
      "application/vnd.jupyter.widget-view+json": {
       "model_id": "dfba254afbb34bd9b711c9fcae577653",
       "version_major": 2,
       "version_minor": 0
      },
      "text/plain": [
       "FloatSlider(value=1e-05, continuous_update=False, description='204', max=0.9999, min=1e-05, readout_format='.5…"
      ]
     },
     "metadata": {},
     "output_type": "display_data"
    },
    {
     "data": {
      "application/vnd.jupyter.widget-view+json": {
       "model_id": "98d4c278916e46d3b0687b7f0e5faaa3",
       "version_major": 2,
       "version_minor": 0
      },
      "text/plain": [
       "FloatSlider(value=1e-05, continuous_update=False, description='205', max=0.9999, min=1e-05, readout_format='.5…"
      ]
     },
     "metadata": {},
     "output_type": "display_data"
    },
    {
     "data": {
      "application/vnd.jupyter.widget-view+json": {
       "model_id": "5fa640d9c89d4f73b4687015656afa0a",
       "version_major": 2,
       "version_minor": 0
      },
      "text/plain": [
       "FloatSlider(value=1e-05, continuous_update=False, description='206', max=0.9999, min=1e-05, readout_format='.5…"
      ]
     },
     "metadata": {},
     "output_type": "display_data"
    },
    {
     "data": {
      "application/vnd.jupyter.widget-view+json": {
       "model_id": "60b28231ddb54890bd8868b7766b5a25",
       "version_major": 2,
       "version_minor": 0
      },
      "text/plain": [
       "FloatSlider(value=1e-05, continuous_update=False, description='207', max=0.9999, min=1e-05, readout_format='.5…"
      ]
     },
     "metadata": {},
     "output_type": "display_data"
    },
    {
     "data": {
      "application/vnd.jupyter.widget-view+json": {
       "model_id": "8e1ed9eee6324ac69946f72025013174",
       "version_major": 2,
       "version_minor": 0
      },
      "text/plain": [
       "FloatSlider(value=1e-05, continuous_update=False, description='208', max=0.9999, min=1e-05, readout_format='.5…"
      ]
     },
     "metadata": {},
     "output_type": "display_data"
    },
    {
     "data": {
      "application/vnd.jupyter.widget-view+json": {
       "model_id": "11f7c652a4f342e689435d921b2e231a",
       "version_major": 2,
       "version_minor": 0
      },
      "text/plain": [
       "FloatSlider(value=1e-05, continuous_update=False, description='209', max=0.9999, min=1e-05, readout_format='.5…"
      ]
     },
     "metadata": {},
     "output_type": "display_data"
    },
    {
     "data": {
      "application/vnd.jupyter.widget-view+json": {
       "model_id": "38cbffb62f2044e580344f315c5aed19",
       "version_major": 2,
       "version_minor": 0
      },
      "text/plain": [
       "FloatSlider(value=1e-05, continuous_update=False, description='210', max=0.9999, min=1e-05, readout_format='.5…"
      ]
     },
     "metadata": {},
     "output_type": "display_data"
    },
    {
     "data": {
      "application/vnd.jupyter.widget-view+json": {
       "model_id": "f2ba797454b24f0fba130c1eaf3a0287",
       "version_major": 2,
       "version_minor": 0
      },
      "text/plain": [
       "FloatSlider(value=1e-05, continuous_update=False, description='211', max=0.9999, min=1e-05, readout_format='.5…"
      ]
     },
     "metadata": {},
     "output_type": "display_data"
    },
    {
     "data": {
      "application/vnd.jupyter.widget-view+json": {
       "model_id": "cc5967b85dfb4dd4bd7408baca18aa91",
       "version_major": 2,
       "version_minor": 0
      },
      "text/plain": [
       "FloatSlider(value=1e-05, continuous_update=False, description='212', max=0.9999, min=1e-05, readout_format='.5…"
      ]
     },
     "metadata": {},
     "output_type": "display_data"
    },
    {
     "data": {
      "application/vnd.jupyter.widget-view+json": {
       "model_id": "3389d479fe754c3a87e502bd10dd783c",
       "version_major": 2,
       "version_minor": 0
      },
      "text/plain": [
       "FloatSlider(value=1e-05, continuous_update=False, description='213', max=0.9999, min=1e-05, readout_format='.5…"
      ]
     },
     "metadata": {},
     "output_type": "display_data"
    },
    {
     "data": {
      "application/vnd.jupyter.widget-view+json": {
       "model_id": "93c2468740724b4eb980b7ca9da572b0",
       "version_major": 2,
       "version_minor": 0
      },
      "text/plain": [
       "FloatSlider(value=1e-05, continuous_update=False, description='214', max=0.9999, min=1e-05, readout_format='.5…"
      ]
     },
     "metadata": {},
     "output_type": "display_data"
    },
    {
     "data": {
      "application/vnd.jupyter.widget-view+json": {
       "model_id": "f722f124acab4a01ac032aa2f166f03f",
       "version_major": 2,
       "version_minor": 0
      },
      "text/plain": [
       "FloatSlider(value=1e-05, continuous_update=False, description='215', max=0.9999, min=1e-05, readout_format='.5…"
      ]
     },
     "metadata": {},
     "output_type": "display_data"
    },
    {
     "data": {
      "application/vnd.jupyter.widget-view+json": {
       "model_id": "b8a768052c034e10b8e2966f39096c1c",
       "version_major": 2,
       "version_minor": 0
      },
      "text/plain": [
       "FloatSlider(value=1e-05, continuous_update=False, description='216', max=0.9999, min=1e-05, readout_format='.5…"
      ]
     },
     "metadata": {},
     "output_type": "display_data"
    },
    {
     "data": {
      "application/vnd.jupyter.widget-view+json": {
       "model_id": "a236ff6c695044f0888cca3ce5039ed1",
       "version_major": 2,
       "version_minor": 0
      },
      "text/plain": [
       "FloatSlider(value=1e-05, continuous_update=False, description='217', max=0.9999, min=1e-05, readout_format='.5…"
      ]
     },
     "metadata": {},
     "output_type": "display_data"
    },
    {
     "data": {
      "application/vnd.jupyter.widget-view+json": {
       "model_id": "02732de2c7e444488160a39ab02d7a64",
       "version_major": 2,
       "version_minor": 0
      },
      "text/plain": [
       "FloatSlider(value=1e-05, continuous_update=False, description='218', max=0.9999, min=1e-05, readout_format='.5…"
      ]
     },
     "metadata": {},
     "output_type": "display_data"
    },
    {
     "data": {
      "application/vnd.jupyter.widget-view+json": {
       "model_id": "d3ee2465fedf45a29e6675685c7c645a",
       "version_major": 2,
       "version_minor": 0
      },
      "text/plain": [
       "FloatSlider(value=1e-05, continuous_update=False, description='219', max=0.9999, min=1e-05, readout_format='.5…"
      ]
     },
     "metadata": {},
     "output_type": "display_data"
    },
    {
     "data": {
      "application/vnd.jupyter.widget-view+json": {
       "model_id": "eeec1b688e834737af71c24f31e0a7ef",
       "version_major": 2,
       "version_minor": 0
      },
      "text/plain": [
       "FloatSlider(value=1e-05, continuous_update=False, description='220', max=0.9999, min=1e-05, readout_format='.5…"
      ]
     },
     "metadata": {},
     "output_type": "display_data"
    },
    {
     "data": {
      "application/vnd.jupyter.widget-view+json": {
       "model_id": "913508d6d1b146daa6ad688f38ac5306",
       "version_major": 2,
       "version_minor": 0
      },
      "text/plain": [
       "FloatSlider(value=1e-05, continuous_update=False, description='221', max=0.9999, min=1e-05, readout_format='.5…"
      ]
     },
     "metadata": {},
     "output_type": "display_data"
    },
    {
     "data": {
      "application/vnd.jupyter.widget-view+json": {
       "model_id": "d605400e63064427a051b3835d74f5ae",
       "version_major": 2,
       "version_minor": 0
      },
      "text/plain": [
       "FloatSlider(value=1e-05, continuous_update=False, description='222', max=0.9999, min=1e-05, readout_format='.5…"
      ]
     },
     "metadata": {},
     "output_type": "display_data"
    },
    {
     "data": {
      "application/vnd.jupyter.widget-view+json": {
       "model_id": "179d643d28c34e53a0a1074979e0e1bc",
       "version_major": 2,
       "version_minor": 0
      },
      "text/plain": [
       "FloatSlider(value=1e-05, continuous_update=False, description='223', max=0.9999, min=1e-05, readout_format='.5…"
      ]
     },
     "metadata": {},
     "output_type": "display_data"
    },
    {
     "data": {
      "application/vnd.jupyter.widget-view+json": {
       "model_id": "6a9ebe904ccf439bac83d4a5c791f093",
       "version_major": 2,
       "version_minor": 0
      },
      "text/plain": [
       "FloatSlider(value=1e-05, continuous_update=False, description='224', max=0.9999, min=1e-05, readout_format='.5…"
      ]
     },
     "metadata": {},
     "output_type": "display_data"
    },
    {
     "data": {
      "application/vnd.jupyter.widget-view+json": {
       "model_id": "4c67ed9330f648559d7dc05fb1d5551c",
       "version_major": 2,
       "version_minor": 0
      },
      "text/plain": [
       "FloatSlider(value=1e-05, continuous_update=False, description='225', max=0.9999, min=1e-05, readout_format='.5…"
      ]
     },
     "metadata": {},
     "output_type": "display_data"
    },
    {
     "data": {
      "application/vnd.jupyter.widget-view+json": {
       "model_id": "5885116c7da54a0489e9eff09abafbac",
       "version_major": 2,
       "version_minor": 0
      },
      "text/plain": [
       "FloatSlider(value=1e-05, continuous_update=False, description='226', max=0.9999, min=1e-05, readout_format='.5…"
      ]
     },
     "metadata": {},
     "output_type": "display_data"
    },
    {
     "data": {
      "application/vnd.jupyter.widget-view+json": {
       "model_id": "1c05d900f32d4f9c8f9898b8b484f65c",
       "version_major": 2,
       "version_minor": 0
      },
      "text/plain": [
       "FloatSlider(value=1e-05, continuous_update=False, description='227', max=0.9999, min=1e-05, readout_format='.5…"
      ]
     },
     "metadata": {},
     "output_type": "display_data"
    },
    {
     "data": {
      "application/vnd.jupyter.widget-view+json": {
       "model_id": "0aa8f5684bf44a5b81d7b6312952e802",
       "version_major": 2,
       "version_minor": 0
      },
      "text/plain": [
       "FloatSlider(value=1e-05, continuous_update=False, description='228', max=0.9999, min=1e-05, readout_format='.5…"
      ]
     },
     "metadata": {},
     "output_type": "display_data"
    },
    {
     "data": {
      "application/vnd.jupyter.widget-view+json": {
       "model_id": "2ee432cf1a1c480880b46f4ccb69b250",
       "version_major": 2,
       "version_minor": 0
      },
      "text/plain": [
       "FloatSlider(value=1e-05, continuous_update=False, description='229', max=0.9999, min=1e-05, readout_format='.5…"
      ]
     },
     "metadata": {},
     "output_type": "display_data"
    },
    {
     "data": {
      "application/vnd.jupyter.widget-view+json": {
       "model_id": "601a607ba02543a89ecea1e899129a71",
       "version_major": 2,
       "version_minor": 0
      },
      "text/plain": [
       "FloatSlider(value=1e-05, continuous_update=False, description='230', max=0.9999, min=1e-05, readout_format='.5…"
      ]
     },
     "metadata": {},
     "output_type": "display_data"
    },
    {
     "data": {
      "application/vnd.jupyter.widget-view+json": {
       "model_id": "12057bb7d81f479aa605fe62b5284c61",
       "version_major": 2,
       "version_minor": 0
      },
      "text/plain": [
       "FloatSlider(value=1e-05, continuous_update=False, description='231', max=0.9999, min=1e-05, readout_format='.5…"
      ]
     },
     "metadata": {},
     "output_type": "display_data"
    },
    {
     "data": {
      "application/vnd.jupyter.widget-view+json": {
       "model_id": "b85a406382064f4882005d542a89e53d",
       "version_major": 2,
       "version_minor": 0
      },
      "text/plain": [
       "FloatSlider(value=1e-05, continuous_update=False, description='232', max=0.9999, min=1e-05, readout_format='.5…"
      ]
     },
     "metadata": {},
     "output_type": "display_data"
    },
    {
     "data": {
      "application/vnd.jupyter.widget-view+json": {
       "model_id": "e5875a7985f14df68c4ad2679117a2d2",
       "version_major": 2,
       "version_minor": 0
      },
      "text/plain": [
       "FloatSlider(value=1e-05, continuous_update=False, description='233', max=0.9999, min=1e-05, readout_format='.5…"
      ]
     },
     "metadata": {},
     "output_type": "display_data"
    },
    {
     "data": {
      "application/vnd.jupyter.widget-view+json": {
       "model_id": "5478e097e3384385bf68f09f701e3e14",
       "version_major": 2,
       "version_minor": 0
      },
      "text/plain": [
       "FloatSlider(value=1e-05, continuous_update=False, description='234', max=0.9999, min=1e-05, readout_format='.5…"
      ]
     },
     "metadata": {},
     "output_type": "display_data"
    },
    {
     "data": {
      "application/vnd.jupyter.widget-view+json": {
       "model_id": "58dd1cdda85247ff88ca2cce12837b48",
       "version_major": 2,
       "version_minor": 0
      },
      "text/plain": [
       "FloatSlider(value=1e-05, continuous_update=False, description='235', max=0.9999, min=1e-05, readout_format='.5…"
      ]
     },
     "metadata": {},
     "output_type": "display_data"
    },
    {
     "data": {
      "application/vnd.jupyter.widget-view+json": {
       "model_id": "83198d0d0c274de79d4da6c5ce0736e9",
       "version_major": 2,
       "version_minor": 0
      },
      "text/plain": [
       "FloatSlider(value=1e-05, continuous_update=False, description='236', max=0.9999, min=1e-05, readout_format='.5…"
      ]
     },
     "metadata": {},
     "output_type": "display_data"
    },
    {
     "data": {
      "application/vnd.jupyter.widget-view+json": {
       "model_id": "7732d1169dcd431ea9cb40c578b91700",
       "version_major": 2,
       "version_minor": 0
      },
      "text/plain": [
       "FloatSlider(value=1e-05, continuous_update=False, description='237', max=0.9999, min=1e-05, readout_format='.5…"
      ]
     },
     "metadata": {},
     "output_type": "display_data"
    },
    {
     "data": {
      "application/vnd.jupyter.widget-view+json": {
       "model_id": "3db6dac97f0b43108575665f94e726b7",
       "version_major": 2,
       "version_minor": 0
      },
      "text/plain": [
       "FloatSlider(value=1e-05, continuous_update=False, description='238', max=0.9999, min=1e-05, readout_format='.5…"
      ]
     },
     "metadata": {},
     "output_type": "display_data"
    },
    {
     "data": {
      "application/vnd.jupyter.widget-view+json": {
       "model_id": "5bb065502c8a4f4ca885662596df325b",
       "version_major": 2,
       "version_minor": 0
      },
      "text/plain": [
       "FloatSlider(value=1e-05, continuous_update=False, description='239', max=0.9999, min=1e-05, readout_format='.5…"
      ]
     },
     "metadata": {},
     "output_type": "display_data"
    },
    {
     "data": {
      "application/vnd.jupyter.widget-view+json": {
       "model_id": "a45009b87b1b474e93d4d1c46c3f47b5",
       "version_major": 2,
       "version_minor": 0
      },
      "text/plain": [
       "FloatSlider(value=1e-05, continuous_update=False, description='240', max=0.9999, min=1e-05, readout_format='.5…"
      ]
     },
     "metadata": {},
     "output_type": "display_data"
    },
    {
     "data": {
      "application/vnd.jupyter.widget-view+json": {
       "model_id": "ec39f361e14f45fdb405e9b81910b9f6",
       "version_major": 2,
       "version_minor": 0
      },
      "text/plain": [
       "FloatSlider(value=1e-05, continuous_update=False, description='241', max=0.9999, min=1e-05, readout_format='.5…"
      ]
     },
     "metadata": {},
     "output_type": "display_data"
    },
    {
     "data": {
      "application/vnd.jupyter.widget-view+json": {
       "model_id": "61606d63890b4f21a793c7ca16b15e7f",
       "version_major": 2,
       "version_minor": 0
      },
      "text/plain": [
       "FloatSlider(value=1e-05, continuous_update=False, description='242', max=0.9999, min=1e-05, readout_format='.5…"
      ]
     },
     "metadata": {},
     "output_type": "display_data"
    },
    {
     "data": {
      "application/vnd.jupyter.widget-view+json": {
       "model_id": "7f79c6633d144f4284aae9d317a5168b",
       "version_major": 2,
       "version_minor": 0
      },
      "text/plain": [
       "FloatSlider(value=1e-05, continuous_update=False, description='243', max=0.9999, min=1e-05, readout_format='.5…"
      ]
     },
     "metadata": {},
     "output_type": "display_data"
    },
    {
     "data": {
      "application/vnd.jupyter.widget-view+json": {
       "model_id": "ab45ddab4cf54dcd8ee34aab52a9b45c",
       "version_major": 2,
       "version_minor": 0
      },
      "text/plain": [
       "FloatSlider(value=1e-05, continuous_update=False, description='244', max=0.9999, min=1e-05, readout_format='.5…"
      ]
     },
     "metadata": {},
     "output_type": "display_data"
    },
    {
     "data": {
      "application/vnd.jupyter.widget-view+json": {
       "model_id": "7d3ed1fe54944f55981b147c1b26b1dc",
       "version_major": 2,
       "version_minor": 0
      },
      "text/plain": [
       "FloatSlider(value=1e-05, continuous_update=False, description='245', max=0.9999, min=1e-05, readout_format='.5…"
      ]
     },
     "metadata": {},
     "output_type": "display_data"
    },
    {
     "data": {
      "application/vnd.jupyter.widget-view+json": {
       "model_id": "25ae20d4e82e4c9eb2936d4f2261ea2c",
       "version_major": 2,
       "version_minor": 0
      },
      "text/plain": [
       "FloatSlider(value=1e-05, continuous_update=False, description='246', max=0.9999, min=1e-05, readout_format='.5…"
      ]
     },
     "metadata": {},
     "output_type": "display_data"
    },
    {
     "data": {
      "application/vnd.jupyter.widget-view+json": {
       "model_id": "eb98fbd544f84f9cbb35c2b5946ec796",
       "version_major": 2,
       "version_minor": 0
      },
      "text/plain": [
       "FloatSlider(value=1e-05, continuous_update=False, description='247', max=0.9999, min=1e-05, readout_format='.5…"
      ]
     },
     "metadata": {},
     "output_type": "display_data"
    },
    {
     "data": {
      "application/vnd.jupyter.widget-view+json": {
       "model_id": "5cde102c50174355a028fd3feba843b0",
       "version_major": 2,
       "version_minor": 0
      },
      "text/plain": [
       "FloatSlider(value=1e-05, continuous_update=False, description='248', max=0.9999, min=1e-05, readout_format='.5…"
      ]
     },
     "metadata": {},
     "output_type": "display_data"
    },
    {
     "data": {
      "application/vnd.jupyter.widget-view+json": {
       "model_id": "a21e989c05e64b789f64d2d0d81c1136",
       "version_major": 2,
       "version_minor": 0
      },
      "text/plain": [
       "FloatSlider(value=1e-05, continuous_update=False, description='249', max=0.9999, min=1e-05, readout_format='.5…"
      ]
     },
     "metadata": {},
     "output_type": "display_data"
    },
    {
     "data": {
      "application/vnd.jupyter.widget-view+json": {
       "model_id": "45fb320f83ba47fcad95514e4b30c521",
       "version_major": 2,
       "version_minor": 0
      },
      "text/plain": [
       "FloatSlider(value=1e-05, continuous_update=False, description='250', max=0.9999, min=1e-05, readout_format='.5…"
      ]
     },
     "metadata": {},
     "output_type": "display_data"
    },
    {
     "data": {
      "application/vnd.jupyter.widget-view+json": {
       "model_id": "40e66b3b908a4df182ffc6ff2fff1e80",
       "version_major": 2,
       "version_minor": 0
      },
      "text/plain": [
       "FloatSlider(value=1e-05, continuous_update=False, description='251', max=0.9999, min=1e-05, readout_format='.5…"
      ]
     },
     "metadata": {},
     "output_type": "display_data"
    },
    {
     "data": {
      "application/vnd.jupyter.widget-view+json": {
       "model_id": "f4fa44341b5c4b248dc2680e8dbb39be",
       "version_major": 2,
       "version_minor": 0
      },
      "text/plain": [
       "FloatSlider(value=1e-05, continuous_update=False, description='252', max=0.9999, min=1e-05, readout_format='.5…"
      ]
     },
     "metadata": {},
     "output_type": "display_data"
    },
    {
     "data": {
      "application/vnd.jupyter.widget-view+json": {
       "model_id": "bb092ef92e6d4a818fbf22fc152b6be8",
       "version_major": 2,
       "version_minor": 0
      },
      "text/plain": [
       "FloatSlider(value=1e-05, continuous_update=False, description='253', max=0.9999, min=1e-05, readout_format='.5…"
      ]
     },
     "metadata": {},
     "output_type": "display_data"
    },
    {
     "data": {
      "application/vnd.jupyter.widget-view+json": {
       "model_id": "bc73b57b526046b3853780b3b416dc33",
       "version_major": 2,
       "version_minor": 0
      },
      "text/plain": [
       "FloatSlider(value=1e-05, continuous_update=False, description='254', max=0.9999, min=1e-05, readout_format='.5…"
      ]
     },
     "metadata": {},
     "output_type": "display_data"
    },
    {
     "data": {
      "application/vnd.jupyter.widget-view+json": {
       "model_id": "3868637f26584ef28578eb6b0a0b4b05",
       "version_major": 2,
       "version_minor": 0
      },
      "text/plain": [
       "FloatSlider(value=1e-05, continuous_update=False, description='255', max=0.9999, min=1e-05, readout_format='.5…"
      ]
     },
     "metadata": {},
     "output_type": "display_data"
    },
    {
     "data": {
      "application/vnd.jupyter.widget-view+json": {
       "model_id": "a11916c53af04589857f032e1e9aa642",
       "version_major": 2,
       "version_minor": 0
      },
      "text/plain": [
       "FloatSlider(value=1e-05, continuous_update=False, description='256', max=0.9999, min=1e-05, readout_format='.5…"
      ]
     },
     "metadata": {},
     "output_type": "display_data"
    },
    {
     "data": {
      "application/vnd.jupyter.widget-view+json": {
       "model_id": "e3020b16e849420898f55c93933e3f5f",
       "version_major": 2,
       "version_minor": 0
      },
      "text/plain": [
       "FloatSlider(value=1e-05, continuous_update=False, description='257', max=0.9999, min=1e-05, readout_format='.5…"
      ]
     },
     "metadata": {},
     "output_type": "display_data"
    },
    {
     "data": {
      "application/vnd.jupyter.widget-view+json": {
       "model_id": "22c8732ff588403cabffa5d5289ca214",
       "version_major": 2,
       "version_minor": 0
      },
      "text/plain": [
       "FloatSlider(value=1e-05, continuous_update=False, description='258', max=0.9999, min=1e-05, readout_format='.5…"
      ]
     },
     "metadata": {},
     "output_type": "display_data"
    },
    {
     "data": {
      "application/vnd.jupyter.widget-view+json": {
       "model_id": "8dccd9432d93427cb9db1414742fc02a",
       "version_major": 2,
       "version_minor": 0
      },
      "text/plain": [
       "FloatSlider(value=1e-05, continuous_update=False, description='259', max=0.9999, min=1e-05, readout_format='.5…"
      ]
     },
     "metadata": {},
     "output_type": "display_data"
    },
    {
     "data": {
      "application/vnd.jupyter.widget-view+json": {
       "model_id": "49ced2c5af0a48d29c2bac07b49d90a2",
       "version_major": 2,
       "version_minor": 0
      },
      "text/plain": [
       "FloatSlider(value=1e-05, continuous_update=False, description='260', max=0.9999, min=1e-05, readout_format='.5…"
      ]
     },
     "metadata": {},
     "output_type": "display_data"
    },
    {
     "data": {
      "application/vnd.jupyter.widget-view+json": {
       "model_id": "2915fd1aad2544c28018c2b7677c814f",
       "version_major": 2,
       "version_minor": 0
      },
      "text/plain": [
       "FloatSlider(value=1e-05, continuous_update=False, description='261', max=0.9999, min=1e-05, readout_format='.5…"
      ]
     },
     "metadata": {},
     "output_type": "display_data"
    },
    {
     "data": {
      "application/vnd.jupyter.widget-view+json": {
       "model_id": "73851b67aa8f4016aacd4a9d88cd407c",
       "version_major": 2,
       "version_minor": 0
      },
      "text/plain": [
       "FloatSlider(value=1e-05, continuous_update=False, description='262', max=0.9999, min=1e-05, readout_format='.5…"
      ]
     },
     "metadata": {},
     "output_type": "display_data"
    },
    {
     "data": {
      "application/vnd.jupyter.widget-view+json": {
       "model_id": "6dc4a196d5e1466496c9fc7762782a5b",
       "version_major": 2,
       "version_minor": 0
      },
      "text/plain": [
       "FloatSlider(value=1e-05, continuous_update=False, description='263', max=0.9999, min=1e-05, readout_format='.5…"
      ]
     },
     "metadata": {},
     "output_type": "display_data"
    },
    {
     "data": {
      "application/vnd.jupyter.widget-view+json": {
       "model_id": "2d41724f1f0949c4a4ed6f6b534db02d",
       "version_major": 2,
       "version_minor": 0
      },
      "text/plain": [
       "FloatSlider(value=1e-05, continuous_update=False, description='264', max=0.9999, min=1e-05, readout_format='.5…"
      ]
     },
     "metadata": {},
     "output_type": "display_data"
    },
    {
     "data": {
      "application/vnd.jupyter.widget-view+json": {
       "model_id": "db5414beed484b2199128859b372fc10",
       "version_major": 2,
       "version_minor": 0
      },
      "text/plain": [
       "FloatSlider(value=1e-05, continuous_update=False, description='265', max=0.9999, min=1e-05, readout_format='.5…"
      ]
     },
     "metadata": {},
     "output_type": "display_data"
    },
    {
     "data": {
      "application/vnd.jupyter.widget-view+json": {
       "model_id": "349070323ecd47f09d4a38dfddf7d43c",
       "version_major": 2,
       "version_minor": 0
      },
      "text/plain": [
       "FloatSlider(value=1e-05, continuous_update=False, description='266', max=0.9999, min=1e-05, readout_format='.5…"
      ]
     },
     "metadata": {},
     "output_type": "display_data"
    },
    {
     "data": {
      "application/vnd.jupyter.widget-view+json": {
       "model_id": "9d8553798377439f9d256ae12757a606",
       "version_major": 2,
       "version_minor": 0
      },
      "text/plain": [
       "FloatSlider(value=1e-05, continuous_update=False, description='267', max=0.9999, min=1e-05, readout_format='.5…"
      ]
     },
     "metadata": {},
     "output_type": "display_data"
    },
    {
     "data": {
      "application/vnd.jupyter.widget-view+json": {
       "model_id": "a9dea7d74a4041a58c9cf45b09c5aa36",
       "version_major": 2,
       "version_minor": 0
      },
      "text/plain": [
       "FloatSlider(value=1e-05, continuous_update=False, description='268', max=0.9999, min=1e-05, readout_format='.5…"
      ]
     },
     "metadata": {},
     "output_type": "display_data"
    },
    {
     "data": {
      "application/vnd.jupyter.widget-view+json": {
       "model_id": "65665d8b84174176be81ec3c6f8024a1",
       "version_major": 2,
       "version_minor": 0
      },
      "text/plain": [
       "FloatSlider(value=1e-05, continuous_update=False, description='269', max=0.9999, min=1e-05, readout_format='.5…"
      ]
     },
     "metadata": {},
     "output_type": "display_data"
    },
    {
     "data": {
      "application/vnd.jupyter.widget-view+json": {
       "model_id": "d69a6c45d4044fd5829645735455aa1a",
       "version_major": 2,
       "version_minor": 0
      },
      "text/plain": [
       "FloatSlider(value=1e-05, continuous_update=False, description='270', max=0.9999, min=1e-05, readout_format='.5…"
      ]
     },
     "metadata": {},
     "output_type": "display_data"
    },
    {
     "data": {
      "application/vnd.jupyter.widget-view+json": {
       "model_id": "9e90787effb74dcc9bfcd7adaa69d6f3",
       "version_major": 2,
       "version_minor": 0
      },
      "text/plain": [
       "FloatSlider(value=1e-05, continuous_update=False, description='271', max=0.9999, min=1e-05, readout_format='.5…"
      ]
     },
     "metadata": {},
     "output_type": "display_data"
    },
    {
     "data": {
      "application/vnd.jupyter.widget-view+json": {
       "model_id": "47a2a78db06e4251ac5a39d6a6aa9775",
       "version_major": 2,
       "version_minor": 0
      },
      "text/plain": [
       "FloatSlider(value=1e-05, continuous_update=False, description='272', max=0.9999, min=1e-05, readout_format='.5…"
      ]
     },
     "metadata": {},
     "output_type": "display_data"
    },
    {
     "data": {
      "application/vnd.jupyter.widget-view+json": {
       "model_id": "9fd399e10038442391f641159389d2b5",
       "version_major": 2,
       "version_minor": 0
      },
      "text/plain": [
       "FloatSlider(value=1e-05, continuous_update=False, description='273', max=0.9999, min=1e-05, readout_format='.5…"
      ]
     },
     "metadata": {},
     "output_type": "display_data"
    },
    {
     "data": {
      "application/vnd.jupyter.widget-view+json": {
       "model_id": "f7b79a21bdc7456896f68f8e1c4d0168",
       "version_major": 2,
       "version_minor": 0
      },
      "text/plain": [
       "FloatSlider(value=1e-05, continuous_update=False, description='274', max=0.9999, min=1e-05, readout_format='.5…"
      ]
     },
     "metadata": {},
     "output_type": "display_data"
    },
    {
     "data": {
      "application/vnd.jupyter.widget-view+json": {
       "model_id": "968e865eb40e47fb8d35754d1f231646",
       "version_major": 2,
       "version_minor": 0
      },
      "text/plain": [
       "FloatSlider(value=1e-05, continuous_update=False, description='275', max=0.9999, min=1e-05, readout_format='.5…"
      ]
     },
     "metadata": {},
     "output_type": "display_data"
    },
    {
     "data": {
      "application/vnd.jupyter.widget-view+json": {
       "model_id": "c5c8ff83f1af4a46be68be162b9675f9",
       "version_major": 2,
       "version_minor": 0
      },
      "text/plain": [
       "FloatSlider(value=1e-05, continuous_update=False, description='276', max=0.9999, min=1e-05, readout_format='.5…"
      ]
     },
     "metadata": {},
     "output_type": "display_data"
    },
    {
     "data": {
      "application/vnd.jupyter.widget-view+json": {
       "model_id": "091de33deed043a984602b6e14d6200f",
       "version_major": 2,
       "version_minor": 0
      },
      "text/plain": [
       "FloatSlider(value=1e-05, continuous_update=False, description='277', max=0.9999, min=1e-05, readout_format='.5…"
      ]
     },
     "metadata": {},
     "output_type": "display_data"
    },
    {
     "data": {
      "application/vnd.jupyter.widget-view+json": {
       "model_id": "7864709b35224c7aac5f03b093a2ccb9",
       "version_major": 2,
       "version_minor": 0
      },
      "text/plain": [
       "FloatSlider(value=1e-05, continuous_update=False, description='278', max=0.9999, min=1e-05, readout_format='.5…"
      ]
     },
     "metadata": {},
     "output_type": "display_data"
    },
    {
     "data": {
      "application/vnd.jupyter.widget-view+json": {
       "model_id": "b392f4ada83f4e1cbfb0bee434e159e7",
       "version_major": 2,
       "version_minor": 0
      },
      "text/plain": [
       "FloatSlider(value=1e-05, continuous_update=False, description='279', max=0.9999, min=1e-05, readout_format='.5…"
      ]
     },
     "metadata": {},
     "output_type": "display_data"
    },
    {
     "data": {
      "application/vnd.jupyter.widget-view+json": {
       "model_id": "84d0e6ff13874e398d34f38eab56998f",
       "version_major": 2,
       "version_minor": 0
      },
      "text/plain": [
       "FloatSlider(value=1e-05, continuous_update=False, description='280', max=0.9999, min=1e-05, readout_format='.5…"
      ]
     },
     "metadata": {},
     "output_type": "display_data"
    },
    {
     "data": {
      "application/vnd.jupyter.widget-view+json": {
       "model_id": "95ffa784b4c741a9a3182cc7012c5d00",
       "version_major": 2,
       "version_minor": 0
      },
      "text/plain": [
       "FloatSlider(value=1e-05, continuous_update=False, description='281', max=0.9999, min=1e-05, readout_format='.5…"
      ]
     },
     "metadata": {},
     "output_type": "display_data"
    },
    {
     "data": {
      "application/vnd.jupyter.widget-view+json": {
       "model_id": "02bfa84667b6445e99e4b4411436adfd",
       "version_major": 2,
       "version_minor": 0
      },
      "text/plain": [
       "FloatSlider(value=1e-05, continuous_update=False, description='282', max=0.9999, min=1e-05, readout_format='.5…"
      ]
     },
     "metadata": {},
     "output_type": "display_data"
    },
    {
     "data": {
      "application/vnd.jupyter.widget-view+json": {
       "model_id": "afe10621a98a4f5fa64aff1760807ae4",
       "version_major": 2,
       "version_minor": 0
      },
      "text/plain": [
       "FloatSlider(value=1e-05, continuous_update=False, description='283', max=0.9999, min=1e-05, readout_format='.5…"
      ]
     },
     "metadata": {},
     "output_type": "display_data"
    },
    {
     "data": {
      "application/vnd.jupyter.widget-view+json": {
       "model_id": "b207f57dec15418e908fcc924c53331a",
       "version_major": 2,
       "version_minor": 0
      },
      "text/plain": [
       "FloatSlider(value=1e-05, continuous_update=False, description='284', max=0.9999, min=1e-05, readout_format='.5…"
      ]
     },
     "metadata": {},
     "output_type": "display_data"
    },
    {
     "data": {
      "application/vnd.jupyter.widget-view+json": {
       "model_id": "83eda8cff01e4595abdf7ecf46cf5a58",
       "version_major": 2,
       "version_minor": 0
      },
      "text/plain": [
       "FloatSlider(value=1e-05, continuous_update=False, description='285', max=0.9999, min=1e-05, readout_format='.5…"
      ]
     },
     "metadata": {},
     "output_type": "display_data"
    },
    {
     "data": {
      "application/vnd.jupyter.widget-view+json": {
       "model_id": "765aa6436aa4450a9c0bbe6d15a54532",
       "version_major": 2,
       "version_minor": 0
      },
      "text/plain": [
       "FloatSlider(value=1e-05, continuous_update=False, description='286', max=0.9999, min=1e-05, readout_format='.5…"
      ]
     },
     "metadata": {},
     "output_type": "display_data"
    },
    {
     "data": {
      "application/vnd.jupyter.widget-view+json": {
       "model_id": "2f6ad1d69f8e4397934650d423ba32ee",
       "version_major": 2,
       "version_minor": 0
      },
      "text/plain": [
       "FloatSlider(value=1e-05, continuous_update=False, description='287', max=0.9999, min=1e-05, readout_format='.5…"
      ]
     },
     "metadata": {},
     "output_type": "display_data"
    },
    {
     "data": {
      "application/vnd.jupyter.widget-view+json": {
       "model_id": "48a04f93d7634358b3e792879ebf8f8b",
       "version_major": 2,
       "version_minor": 0
      },
      "text/plain": [
       "FloatSlider(value=1e-05, continuous_update=False, description='288', max=0.9999, min=1e-05, readout_format='.5…"
      ]
     },
     "metadata": {},
     "output_type": "display_data"
    },
    {
     "data": {
      "application/vnd.jupyter.widget-view+json": {
       "model_id": "ee865407f8474a3aae6f4b0bfce4f180",
       "version_major": 2,
       "version_minor": 0
      },
      "text/plain": [
       "FloatSlider(value=1e-05, continuous_update=False, description='289', max=0.9999, min=1e-05, readout_format='.5…"
      ]
     },
     "metadata": {},
     "output_type": "display_data"
    },
    {
     "data": {
      "application/vnd.jupyter.widget-view+json": {
       "model_id": "3f961cc854c146bea8bfbf7da1793175",
       "version_major": 2,
       "version_minor": 0
      },
      "text/plain": [
       "FloatSlider(value=1e-05, continuous_update=False, description='290', max=0.9999, min=1e-05, readout_format='.5…"
      ]
     },
     "metadata": {},
     "output_type": "display_data"
    },
    {
     "data": {
      "application/vnd.jupyter.widget-view+json": {
       "model_id": "add32337e1344f789f6e2425cfacc0f9",
       "version_major": 2,
       "version_minor": 0
      },
      "text/plain": [
       "FloatSlider(value=1e-05, continuous_update=False, description='291', max=0.9999, min=1e-05, readout_format='.5…"
      ]
     },
     "metadata": {},
     "output_type": "display_data"
    },
    {
     "data": {
      "application/vnd.jupyter.widget-view+json": {
       "model_id": "25773f060b9a48c19db826497f2f236d",
       "version_major": 2,
       "version_minor": 0
      },
      "text/plain": [
       "FloatSlider(value=1e-05, continuous_update=False, description='292', max=0.9999, min=1e-05, readout_format='.5…"
      ]
     },
     "metadata": {},
     "output_type": "display_data"
    },
    {
     "data": {
      "application/vnd.jupyter.widget-view+json": {
       "model_id": "c5647dddbc4b4b6cbc930ea311f14ac0",
       "version_major": 2,
       "version_minor": 0
      },
      "text/plain": [
       "FloatSlider(value=1e-05, continuous_update=False, description='293', max=0.9999, min=1e-05, readout_format='.5…"
      ]
     },
     "metadata": {},
     "output_type": "display_data"
    },
    {
     "data": {
      "application/vnd.jupyter.widget-view+json": {
       "model_id": "3929a59a2d5d40acabec95e2e66f199c",
       "version_major": 2,
       "version_minor": 0
      },
      "text/plain": [
       "FloatSlider(value=1e-05, continuous_update=False, description='294', max=0.9999, min=1e-05, readout_format='.5…"
      ]
     },
     "metadata": {},
     "output_type": "display_data"
    },
    {
     "data": {
      "application/vnd.jupyter.widget-view+json": {
       "model_id": "aa36f5084cec4336ac1d8df17cc6c082",
       "version_major": 2,
       "version_minor": 0
      },
      "text/plain": [
       "FloatSlider(value=1e-05, continuous_update=False, description='295', max=0.9999, min=1e-05, readout_format='.5…"
      ]
     },
     "metadata": {},
     "output_type": "display_data"
    },
    {
     "data": {
      "application/vnd.jupyter.widget-view+json": {
       "model_id": "e6969a23193d47ceb4d4ec7bc602dde7",
       "version_major": 2,
       "version_minor": 0
      },
      "text/plain": [
       "FloatSlider(value=1e-05, continuous_update=False, description='296', max=0.9999, min=1e-05, readout_format='.5…"
      ]
     },
     "metadata": {},
     "output_type": "display_data"
    },
    {
     "data": {
      "application/vnd.jupyter.widget-view+json": {
       "model_id": "287e0b100de548479abcb0fafc6e2d2e",
       "version_major": 2,
       "version_minor": 0
      },
      "text/plain": [
       "FloatSlider(value=1e-05, continuous_update=False, description='297', max=0.9999, min=1e-05, readout_format='.5…"
      ]
     },
     "metadata": {},
     "output_type": "display_data"
    },
    {
     "data": {
      "application/vnd.jupyter.widget-view+json": {
       "model_id": "c9f7a36079114bf68b3e9539d63b9541",
       "version_major": 2,
       "version_minor": 0
      },
      "text/plain": [
       "FloatSlider(value=1e-05, continuous_update=False, description='298', max=0.9999, min=1e-05, readout_format='.5…"
      ]
     },
     "metadata": {},
     "output_type": "display_data"
    },
    {
     "data": {
      "application/vnd.jupyter.widget-view+json": {
       "model_id": "10a7e974b74a40c39b15fedf4a1def81",
       "version_major": 2,
       "version_minor": 0
      },
      "text/plain": [
       "FloatSlider(value=1e-05, continuous_update=False, description='299', max=0.9999, min=1e-05, readout_format='.5…"
      ]
     },
     "metadata": {},
     "output_type": "display_data"
    },
    {
     "data": {
      "application/vnd.jupyter.widget-view+json": {
       "model_id": "cc85397f729f486c826884f38b11c8d4",
       "version_major": 2,
       "version_minor": 0
      },
      "text/plain": [
       "FloatSlider(value=1e-05, continuous_update=False, description='300', max=0.9999, min=1e-05, readout_format='.5…"
      ]
     },
     "metadata": {},
     "output_type": "display_data"
    },
    {
     "data": {
      "application/vnd.jupyter.widget-view+json": {
       "model_id": "b9d01154d23243be9f4ebbcc8950db92",
       "version_major": 2,
       "version_minor": 0
      },
      "text/plain": [
       "FloatSlider(value=1e-05, continuous_update=False, description='301', max=0.9999, min=1e-05, readout_format='.5…"
      ]
     },
     "metadata": {},
     "output_type": "display_data"
    },
    {
     "data": {
      "application/vnd.jupyter.widget-view+json": {
       "model_id": "7161aa0e4da84f06a4b77c87e0e4923f",
       "version_major": 2,
       "version_minor": 0
      },
      "text/plain": [
       "FloatSlider(value=1e-05, continuous_update=False, description='302', max=0.9999, min=1e-05, readout_format='.5…"
      ]
     },
     "metadata": {},
     "output_type": "display_data"
    },
    {
     "data": {
      "application/vnd.jupyter.widget-view+json": {
       "model_id": "6d82964152954f7eab98f9e6a240c332",
       "version_major": 2,
       "version_minor": 0
      },
      "text/plain": [
       "FloatSlider(value=1e-05, continuous_update=False, description='303', max=0.9999, min=1e-05, readout_format='.5…"
      ]
     },
     "metadata": {},
     "output_type": "display_data"
    },
    {
     "data": {
      "application/vnd.jupyter.widget-view+json": {
       "model_id": "4963b9d16fe24894b7a621df21849075",
       "version_major": 2,
       "version_minor": 0
      },
      "text/plain": [
       "FloatSlider(value=1e-05, continuous_update=False, description='304', max=0.9999, min=1e-05, readout_format='.5…"
      ]
     },
     "metadata": {},
     "output_type": "display_data"
    },
    {
     "data": {
      "application/vnd.jupyter.widget-view+json": {
       "model_id": "4d839dc0968141d3936226fd768181af",
       "version_major": 2,
       "version_minor": 0
      },
      "text/plain": [
       "FloatSlider(value=1e-05, continuous_update=False, description='305', max=0.9999, min=1e-05, readout_format='.5…"
      ]
     },
     "metadata": {},
     "output_type": "display_data"
    },
    {
     "data": {
      "application/vnd.jupyter.widget-view+json": {
       "model_id": "a106db274e0d4c8aa2fa09b8e2b2d3c5",
       "version_major": 2,
       "version_minor": 0
      },
      "text/plain": [
       "FloatSlider(value=1e-05, continuous_update=False, description='306', max=0.9999, min=1e-05, readout_format='.5…"
      ]
     },
     "metadata": {},
     "output_type": "display_data"
    },
    {
     "data": {
      "application/vnd.jupyter.widget-view+json": {
       "model_id": "5bde6c30daec4ac08fa8f18c42cefc3b",
       "version_major": 2,
       "version_minor": 0
      },
      "text/plain": [
       "FloatSlider(value=1e-05, continuous_update=False, description='307', max=0.9999, min=1e-05, readout_format='.5…"
      ]
     },
     "metadata": {},
     "output_type": "display_data"
    },
    {
     "data": {
      "application/vnd.jupyter.widget-view+json": {
       "model_id": "3a494dce16fb484caef3414bc3d86b0b",
       "version_major": 2,
       "version_minor": 0
      },
      "text/plain": [
       "FloatSlider(value=1e-05, continuous_update=False, description='308', max=0.9999, min=1e-05, readout_format='.5…"
      ]
     },
     "metadata": {},
     "output_type": "display_data"
    },
    {
     "data": {
      "application/vnd.jupyter.widget-view+json": {
       "model_id": "d3775cbaf76a4c2b929e46d89ce75b57",
       "version_major": 2,
       "version_minor": 0
      },
      "text/plain": [
       "FloatSlider(value=1e-05, continuous_update=False, description='309', max=0.9999, min=1e-05, readout_format='.5…"
      ]
     },
     "metadata": {},
     "output_type": "display_data"
    },
    {
     "data": {
      "application/vnd.jupyter.widget-view+json": {
       "model_id": "844330d31e424f71823aac5efa63f217",
       "version_major": 2,
       "version_minor": 0
      },
      "text/plain": [
       "FloatSlider(value=1e-05, continuous_update=False, description='310', max=0.9999, min=1e-05, readout_format='.5…"
      ]
     },
     "metadata": {},
     "output_type": "display_data"
    },
    {
     "data": {
      "application/vnd.jupyter.widget-view+json": {
       "model_id": "21b72c673d7b435aba58d6d336e0dfc8",
       "version_major": 2,
       "version_minor": 0
      },
      "text/plain": [
       "FloatSlider(value=1e-05, continuous_update=False, description='311', max=0.9999, min=1e-05, readout_format='.5…"
      ]
     },
     "metadata": {},
     "output_type": "display_data"
    },
    {
     "data": {
      "application/vnd.jupyter.widget-view+json": {
       "model_id": "98de7565cc4643ad90b451384ffd1537",
       "version_major": 2,
       "version_minor": 0
      },
      "text/plain": [
       "FloatSlider(value=1e-05, continuous_update=False, description='312', max=0.9999, min=1e-05, readout_format='.5…"
      ]
     },
     "metadata": {},
     "output_type": "display_data"
    },
    {
     "data": {
      "application/vnd.jupyter.widget-view+json": {
       "model_id": "175d88e2746347e2bc0f26473f0435f8",
       "version_major": 2,
       "version_minor": 0
      },
      "text/plain": [
       "FloatSlider(value=1e-05, continuous_update=False, description='313', max=0.9999, min=1e-05, readout_format='.5…"
      ]
     },
     "metadata": {},
     "output_type": "display_data"
    },
    {
     "data": {
      "application/vnd.jupyter.widget-view+json": {
       "model_id": "013ab65912b24128b1beaf66c82f4471",
       "version_major": 2,
       "version_minor": 0
      },
      "text/plain": [
       "FloatSlider(value=1e-05, continuous_update=False, description='314', max=0.9999, min=1e-05, readout_format='.5…"
      ]
     },
     "metadata": {},
     "output_type": "display_data"
    },
    {
     "data": {
      "application/vnd.jupyter.widget-view+json": {
       "model_id": "de0bf092d9af45bc9f1ed16d0f7219ad",
       "version_major": 2,
       "version_minor": 0
      },
      "text/plain": [
       "FloatSlider(value=1e-05, continuous_update=False, description='315', max=0.9999, min=1e-05, readout_format='.5…"
      ]
     },
     "metadata": {},
     "output_type": "display_data"
    },
    {
     "data": {
      "application/vnd.jupyter.widget-view+json": {
       "model_id": "33a59d0a37a246ce883f18014513209a",
       "version_major": 2,
       "version_minor": 0
      },
      "text/plain": [
       "FloatSlider(value=1e-05, continuous_update=False, description='316', max=0.9999, min=1e-05, readout_format='.5…"
      ]
     },
     "metadata": {},
     "output_type": "display_data"
    },
    {
     "data": {
      "application/vnd.jupyter.widget-view+json": {
       "model_id": "4e07a2d505db42a6b60e20761d33ba7a",
       "version_major": 2,
       "version_minor": 0
      },
      "text/plain": [
       "FloatSlider(value=1e-05, continuous_update=False, description='317', max=0.9999, min=1e-05, readout_format='.5…"
      ]
     },
     "metadata": {},
     "output_type": "display_data"
    },
    {
     "data": {
      "application/vnd.jupyter.widget-view+json": {
       "model_id": "a9eb60c8f9614a7db9df05286a86947d",
       "version_major": 2,
       "version_minor": 0
      },
      "text/plain": [
       "FloatSlider(value=1e-05, continuous_update=False, description='318', max=0.9999, min=1e-05, readout_format='.5…"
      ]
     },
     "metadata": {},
     "output_type": "display_data"
    },
    {
     "data": {
      "application/vnd.jupyter.widget-view+json": {
       "model_id": "28d2174a9aa44b44a1c79695477dea34",
       "version_major": 2,
       "version_minor": 0
      },
      "text/plain": [
       "FloatSlider(value=1e-05, continuous_update=False, description='319', max=0.9999, min=1e-05, readout_format='.5…"
      ]
     },
     "metadata": {},
     "output_type": "display_data"
    },
    {
     "data": {
      "application/vnd.jupyter.widget-view+json": {
       "model_id": "3456fb85d1074896b481df2479beece3",
       "version_major": 2,
       "version_minor": 0
      },
      "text/plain": [
       "FloatSlider(value=1e-05, continuous_update=False, description='320', max=0.9999, min=1e-05, readout_format='.5…"
      ]
     },
     "metadata": {},
     "output_type": "display_data"
    },
    {
     "data": {
      "application/vnd.jupyter.widget-view+json": {
       "model_id": "0b098c23c42340baa6445ffc39aa2861",
       "version_major": 2,
       "version_minor": 0
      },
      "text/plain": [
       "FloatSlider(value=1e-05, continuous_update=False, description='321', max=0.9999, min=1e-05, readout_format='.5…"
      ]
     },
     "metadata": {},
     "output_type": "display_data"
    },
    {
     "data": {
      "application/vnd.jupyter.widget-view+json": {
       "model_id": "4689c3b6fe9e415289c87bf99d06ce63",
       "version_major": 2,
       "version_minor": 0
      },
      "text/plain": [
       "FloatSlider(value=1e-05, continuous_update=False, description='322', max=0.9999, min=1e-05, readout_format='.5…"
      ]
     },
     "metadata": {},
     "output_type": "display_data"
    },
    {
     "data": {
      "application/vnd.jupyter.widget-view+json": {
       "model_id": "8ddeebc21cb34bd4aebe1877fcb5b21d",
       "version_major": 2,
       "version_minor": 0
      },
      "text/plain": [
       "FloatSlider(value=1e-05, continuous_update=False, description='323', max=0.9999, min=1e-05, readout_format='.5…"
      ]
     },
     "metadata": {},
     "output_type": "display_data"
    },
    {
     "data": {
      "application/vnd.jupyter.widget-view+json": {
       "model_id": "19be1a8f26494318b692400b1bfc9f94",
       "version_major": 2,
       "version_minor": 0
      },
      "text/plain": [
       "FloatSlider(value=1e-05, continuous_update=False, description='324', max=0.9999, min=1e-05, readout_format='.5…"
      ]
     },
     "metadata": {},
     "output_type": "display_data"
    },
    {
     "data": {
      "application/vnd.jupyter.widget-view+json": {
       "model_id": "1701df0dc0f14944b363350550ed2d6d",
       "version_major": 2,
       "version_minor": 0
      },
      "text/plain": [
       "FloatSlider(value=1e-05, continuous_update=False, description='325', max=0.9999, min=1e-05, readout_format='.5…"
      ]
     },
     "metadata": {},
     "output_type": "display_data"
    },
    {
     "data": {
      "application/vnd.jupyter.widget-view+json": {
       "model_id": "aa949991c12949feab5b395434d20865",
       "version_major": 2,
       "version_minor": 0
      },
      "text/plain": [
       "FloatSlider(value=1e-05, continuous_update=False, description='326', max=0.9999, min=1e-05, readout_format='.5…"
      ]
     },
     "metadata": {},
     "output_type": "display_data"
    },
    {
     "data": {
      "application/vnd.jupyter.widget-view+json": {
       "model_id": "d3349247b9c549168585e247db036a95",
       "version_major": 2,
       "version_minor": 0
      },
      "text/plain": [
       "FloatSlider(value=1e-05, continuous_update=False, description='327', max=0.9999, min=1e-05, readout_format='.5…"
      ]
     },
     "metadata": {},
     "output_type": "display_data"
    },
    {
     "data": {
      "application/vnd.jupyter.widget-view+json": {
       "model_id": "b9d06b021edb43b8a8f4c2b4f28098b5",
       "version_major": 2,
       "version_minor": 0
      },
      "text/plain": [
       "FloatSlider(value=1e-05, continuous_update=False, description='328', max=0.9999, min=1e-05, readout_format='.5…"
      ]
     },
     "metadata": {},
     "output_type": "display_data"
    },
    {
     "data": {
      "application/vnd.jupyter.widget-view+json": {
       "model_id": "44333a877b304591be978e802822716a",
       "version_major": 2,
       "version_minor": 0
      },
      "text/plain": [
       "FloatSlider(value=1e-05, continuous_update=False, description='329', max=0.9999, min=1e-05, readout_format='.5…"
      ]
     },
     "metadata": {},
     "output_type": "display_data"
    },
    {
     "data": {
      "application/vnd.jupyter.widget-view+json": {
       "model_id": "8ef8f4683f5343a8a910a8aaa83971a6",
       "version_major": 2,
       "version_minor": 0
      },
      "text/plain": [
       "FloatSlider(value=1e-05, continuous_update=False, description='330', max=0.9999, min=1e-05, readout_format='.5…"
      ]
     },
     "metadata": {},
     "output_type": "display_data"
    },
    {
     "data": {
      "application/vnd.jupyter.widget-view+json": {
       "model_id": "9037d57d4d874a1591d170fd7aafd799",
       "version_major": 2,
       "version_minor": 0
      },
      "text/plain": [
       "FloatSlider(value=1e-05, continuous_update=False, description='331', max=0.9999, min=1e-05, readout_format='.5…"
      ]
     },
     "metadata": {},
     "output_type": "display_data"
    },
    {
     "data": {
      "application/vnd.jupyter.widget-view+json": {
       "model_id": "8b245c49435b4f09888a6bf586fe1894",
       "version_major": 2,
       "version_minor": 0
      },
      "text/plain": [
       "FloatSlider(value=1e-05, continuous_update=False, description='332', max=0.9999, min=1e-05, readout_format='.5…"
      ]
     },
     "metadata": {},
     "output_type": "display_data"
    },
    {
     "data": {
      "application/vnd.jupyter.widget-view+json": {
       "model_id": "22e61d13f6304a9492350e52a0a5d38e",
       "version_major": 2,
       "version_minor": 0
      },
      "text/plain": [
       "FloatSlider(value=1e-05, continuous_update=False, description='333', max=0.9999, min=1e-05, readout_format='.5…"
      ]
     },
     "metadata": {},
     "output_type": "display_data"
    },
    {
     "data": {
      "application/vnd.jupyter.widget-view+json": {
       "model_id": "25c6e4d09d3a41ca9b5467cd3812c069",
       "version_major": 2,
       "version_minor": 0
      },
      "text/plain": [
       "FloatSlider(value=1e-05, continuous_update=False, description='334', max=0.9999, min=1e-05, readout_format='.5…"
      ]
     },
     "metadata": {},
     "output_type": "display_data"
    },
    {
     "data": {
      "application/vnd.jupyter.widget-view+json": {
       "model_id": "34b36732dd8247598301c209adfc32a3",
       "version_major": 2,
       "version_minor": 0
      },
      "text/plain": [
       "FloatSlider(value=1e-05, continuous_update=False, description='335', max=0.9999, min=1e-05, readout_format='.5…"
      ]
     },
     "metadata": {},
     "output_type": "display_data"
    },
    {
     "data": {
      "application/vnd.jupyter.widget-view+json": {
       "model_id": "58ac559adaac427da1b3644e84037dae",
       "version_major": 2,
       "version_minor": 0
      },
      "text/plain": [
       "FloatSlider(value=1e-05, continuous_update=False, description='336', max=0.9999, min=1e-05, readout_format='.5…"
      ]
     },
     "metadata": {},
     "output_type": "display_data"
    },
    {
     "data": {
      "application/vnd.jupyter.widget-view+json": {
       "model_id": "9789ca714cba4d6b91d2fa0129cf6ea4",
       "version_major": 2,
       "version_minor": 0
      },
      "text/plain": [
       "FloatSlider(value=1e-05, continuous_update=False, description='337', max=0.9999, min=1e-05, readout_format='.5…"
      ]
     },
     "metadata": {},
     "output_type": "display_data"
    },
    {
     "data": {
      "application/vnd.jupyter.widget-view+json": {
       "model_id": "a82145a1d2e74447bef55b623efbe564",
       "version_major": 2,
       "version_minor": 0
      },
      "text/plain": [
       "FloatSlider(value=1e-05, continuous_update=False, description='338', max=0.9999, min=1e-05, readout_format='.5…"
      ]
     },
     "metadata": {},
     "output_type": "display_data"
    },
    {
     "data": {
      "application/vnd.jupyter.widget-view+json": {
       "model_id": "b3d6e96d06714d26b184557679f197c7",
       "version_major": 2,
       "version_minor": 0
      },
      "text/plain": [
       "FloatSlider(value=1e-05, continuous_update=False, description='339', max=0.9999, min=1e-05, readout_format='.5…"
      ]
     },
     "metadata": {},
     "output_type": "display_data"
    },
    {
     "data": {
      "application/vnd.jupyter.widget-view+json": {
       "model_id": "1e60166c3b374579812636158827a66f",
       "version_major": 2,
       "version_minor": 0
      },
      "text/plain": [
       "FloatSlider(value=1e-05, continuous_update=False, description='340', max=0.9999, min=1e-05, readout_format='.5…"
      ]
     },
     "metadata": {},
     "output_type": "display_data"
    },
    {
     "data": {
      "application/vnd.jupyter.widget-view+json": {
       "model_id": "381f5c9d8b654798afb0687171ee21d5",
       "version_major": 2,
       "version_minor": 0
      },
      "text/plain": [
       "FloatSlider(value=1e-05, continuous_update=False, description='341', max=0.9999, min=1e-05, readout_format='.5…"
      ]
     },
     "metadata": {},
     "output_type": "display_data"
    },
    {
     "data": {
      "application/vnd.jupyter.widget-view+json": {
       "model_id": "9f154322d92241e2846cbf015e7fb491",
       "version_major": 2,
       "version_minor": 0
      },
      "text/plain": [
       "FloatSlider(value=1e-05, continuous_update=False, description='342', max=0.9999, min=1e-05, readout_format='.5…"
      ]
     },
     "metadata": {},
     "output_type": "display_data"
    },
    {
     "data": {
      "application/vnd.jupyter.widget-view+json": {
       "model_id": "f5d973bf395043b592ac9368cabe8837",
       "version_major": 2,
       "version_minor": 0
      },
      "text/plain": [
       "FloatSlider(value=1e-05, continuous_update=False, description='343', max=0.9999, min=1e-05, readout_format='.5…"
      ]
     },
     "metadata": {},
     "output_type": "display_data"
    },
    {
     "data": {
      "application/vnd.jupyter.widget-view+json": {
       "model_id": "41b4ad9e597e45da92b50d6453927c6a",
       "version_major": 2,
       "version_minor": 0
      },
      "text/plain": [
       "FloatSlider(value=1e-05, continuous_update=False, description='344', max=0.9999, min=1e-05, readout_format='.5…"
      ]
     },
     "metadata": {},
     "output_type": "display_data"
    },
    {
     "data": {
      "application/vnd.jupyter.widget-view+json": {
       "model_id": "f9d480b31acb4587a20a576f8a8600c5",
       "version_major": 2,
       "version_minor": 0
      },
      "text/plain": [
       "FloatSlider(value=1e-05, continuous_update=False, description='345', max=0.9999, min=1e-05, readout_format='.5…"
      ]
     },
     "metadata": {},
     "output_type": "display_data"
    },
    {
     "data": {
      "application/vnd.jupyter.widget-view+json": {
       "model_id": "86c3e9e7e4d44cb9aef8ce633d79bb30",
       "version_major": 2,
       "version_minor": 0
      },
      "text/plain": [
       "FloatSlider(value=1e-05, continuous_update=False, description='346', max=0.9999, min=1e-05, readout_format='.5…"
      ]
     },
     "metadata": {},
     "output_type": "display_data"
    },
    {
     "data": {
      "application/vnd.jupyter.widget-view+json": {
       "model_id": "1a1aa599d0764b28b2ac06dc84288862",
       "version_major": 2,
       "version_minor": 0
      },
      "text/plain": [
       "FloatSlider(value=1e-05, continuous_update=False, description='347', max=0.9999, min=1e-05, readout_format='.5…"
      ]
     },
     "metadata": {},
     "output_type": "display_data"
    },
    {
     "data": {
      "application/vnd.jupyter.widget-view+json": {
       "model_id": "b387460790b54465b3af294603522903",
       "version_major": 2,
       "version_minor": 0
      },
      "text/plain": [
       "FloatSlider(value=1e-05, continuous_update=False, description='348', max=0.9999, min=1e-05, readout_format='.5…"
      ]
     },
     "metadata": {},
     "output_type": "display_data"
    },
    {
     "data": {
      "application/vnd.jupyter.widget-view+json": {
       "model_id": "47f7ed6c633f4c6ebee2d4b73c283b23",
       "version_major": 2,
       "version_minor": 0
      },
      "text/plain": [
       "FloatSlider(value=1e-05, continuous_update=False, description='349', max=0.9999, min=1e-05, readout_format='.5…"
      ]
     },
     "metadata": {},
     "output_type": "display_data"
    },
    {
     "data": {
      "application/vnd.jupyter.widget-view+json": {
       "model_id": "e67a7f1de18842c0b7581afc24a777e5",
       "version_major": 2,
       "version_minor": 0
      },
      "text/plain": [
       "FloatSlider(value=1e-05, continuous_update=False, description='350', max=0.9999, min=1e-05, readout_format='.5…"
      ]
     },
     "metadata": {},
     "output_type": "display_data"
    },
    {
     "data": {
      "application/vnd.jupyter.widget-view+json": {
       "model_id": "2969d4be5a0a46458d1f6b0246c7eece",
       "version_major": 2,
       "version_minor": 0
      },
      "text/plain": [
       "FloatSlider(value=1e-05, continuous_update=False, description='351', max=0.9999, min=1e-05, readout_format='.5…"
      ]
     },
     "metadata": {},
     "output_type": "display_data"
    },
    {
     "data": {
      "application/vnd.jupyter.widget-view+json": {
       "model_id": "6de49eb97f69433383bcdfc79b4de19e",
       "version_major": 2,
       "version_minor": 0
      },
      "text/plain": [
       "FloatSlider(value=1e-05, continuous_update=False, description='352', max=0.9999, min=1e-05, readout_format='.5…"
      ]
     },
     "metadata": {},
     "output_type": "display_data"
    },
    {
     "data": {
      "application/vnd.jupyter.widget-view+json": {
       "model_id": "a7e26367725741489fe9295e59f76fd6",
       "version_major": 2,
       "version_minor": 0
      },
      "text/plain": [
       "FloatSlider(value=1e-05, continuous_update=False, description='353', max=0.9999, min=1e-05, readout_format='.5…"
      ]
     },
     "metadata": {},
     "output_type": "display_data"
    },
    {
     "data": {
      "application/vnd.jupyter.widget-view+json": {
       "model_id": "2b11e9efe6e94a1e96ec0683039b55b2",
       "version_major": 2,
       "version_minor": 0
      },
      "text/plain": [
       "FloatSlider(value=1e-05, continuous_update=False, description='354', max=0.9999, min=1e-05, readout_format='.5…"
      ]
     },
     "metadata": {},
     "output_type": "display_data"
    },
    {
     "data": {
      "application/vnd.jupyter.widget-view+json": {
       "model_id": "c29ebaecc8ad4bbf9a0e0a2bb969e2c9",
       "version_major": 2,
       "version_minor": 0
      },
      "text/plain": [
       "FloatSlider(value=1e-05, continuous_update=False, description='355', max=0.9999, min=1e-05, readout_format='.5…"
      ]
     },
     "metadata": {},
     "output_type": "display_data"
    },
    {
     "data": {
      "application/vnd.jupyter.widget-view+json": {
       "model_id": "66c86250ad3d41908b88f5b501a825ce",
       "version_major": 2,
       "version_minor": 0
      },
      "text/plain": [
       "FloatSlider(value=1e-05, continuous_update=False, description='356', max=0.9999, min=1e-05, readout_format='.5…"
      ]
     },
     "metadata": {},
     "output_type": "display_data"
    },
    {
     "data": {
      "application/vnd.jupyter.widget-view+json": {
       "model_id": "88d69d1dd05a41099568beb50de8fc18",
       "version_major": 2,
       "version_minor": 0
      },
      "text/plain": [
       "FloatSlider(value=1e-05, continuous_update=False, description='357', max=0.9999, min=1e-05, readout_format='.5…"
      ]
     },
     "metadata": {},
     "output_type": "display_data"
    },
    {
     "data": {
      "application/vnd.jupyter.widget-view+json": {
       "model_id": "73836ca9c43943d58d6d9e734077b83b",
       "version_major": 2,
       "version_minor": 0
      },
      "text/plain": [
       "FloatSlider(value=1e-05, continuous_update=False, description='358', max=0.9999, min=1e-05, readout_format='.5…"
      ]
     },
     "metadata": {},
     "output_type": "display_data"
    },
    {
     "data": {
      "application/vnd.jupyter.widget-view+json": {
       "model_id": "72208325d6974201b98d61fd0f1db7d2",
       "version_major": 2,
       "version_minor": 0
      },
      "text/plain": [
       "FloatSlider(value=1e-05, continuous_update=False, description='359', max=0.9999, min=1e-05, readout_format='.5…"
      ]
     },
     "metadata": {},
     "output_type": "display_data"
    },
    {
     "data": {
      "application/vnd.jupyter.widget-view+json": {
       "model_id": "ca0d2c778c52479f8ef8ae72477f1e66",
       "version_major": 2,
       "version_minor": 0
      },
      "text/plain": [
       "FloatSlider(value=1e-05, continuous_update=False, description='360', max=0.9999, min=1e-05, readout_format='.5…"
      ]
     },
     "metadata": {},
     "output_type": "display_data"
    },
    {
     "data": {
      "application/vnd.jupyter.widget-view+json": {
       "model_id": "4400cc60bf79452fa5a312bc79903de0",
       "version_major": 2,
       "version_minor": 0
      },
      "text/plain": [
       "FloatSlider(value=1e-05, continuous_update=False, description='361', max=0.9999, min=1e-05, readout_format='.5…"
      ]
     },
     "metadata": {},
     "output_type": "display_data"
    },
    {
     "data": {
      "application/vnd.jupyter.widget-view+json": {
       "model_id": "2700cd5019904ad190f06a6b09b884e0",
       "version_major": 2,
       "version_minor": 0
      },
      "text/plain": [
       "FloatSlider(value=1e-05, continuous_update=False, description='362', max=0.9999, min=1e-05, readout_format='.5…"
      ]
     },
     "metadata": {},
     "output_type": "display_data"
    },
    {
     "data": {
      "application/vnd.jupyter.widget-view+json": {
       "model_id": "9ea5228db1654133908359cc752f70f0",
       "version_major": 2,
       "version_minor": 0
      },
      "text/plain": [
       "FloatSlider(value=1e-05, continuous_update=False, description='363', max=0.9999, min=1e-05, readout_format='.5…"
      ]
     },
     "metadata": {},
     "output_type": "display_data"
    },
    {
     "data": {
      "application/vnd.jupyter.widget-view+json": {
       "model_id": "c9d19096c9fe4d9eb44304b64786d594",
       "version_major": 2,
       "version_minor": 0
      },
      "text/plain": [
       "FloatSlider(value=1e-05, continuous_update=False, description='364', max=0.9999, min=1e-05, readout_format='.5…"
      ]
     },
     "metadata": {},
     "output_type": "display_data"
    },
    {
     "data": {
      "application/vnd.jupyter.widget-view+json": {
       "model_id": "62013bfd45c24c0e9d701ef59050aafd",
       "version_major": 2,
       "version_minor": 0
      },
      "text/plain": [
       "FloatSlider(value=1e-05, continuous_update=False, description='365', max=0.9999, min=1e-05, readout_format='.5…"
      ]
     },
     "metadata": {},
     "output_type": "display_data"
    },
    {
     "data": {
      "application/vnd.jupyter.widget-view+json": {
       "model_id": "31925525f95d432c8fa134861435bf70",
       "version_major": 2,
       "version_minor": 0
      },
      "text/plain": [
       "FloatSlider(value=1e-05, continuous_update=False, description='366', max=0.9999, min=1e-05, readout_format='.5…"
      ]
     },
     "metadata": {},
     "output_type": "display_data"
    },
    {
     "data": {
      "application/vnd.jupyter.widget-view+json": {
       "model_id": "27e847941bd04469a3cd8286fbae24c7",
       "version_major": 2,
       "version_minor": 0
      },
      "text/plain": [
       "FloatSlider(value=1e-05, continuous_update=False, description='367', max=0.9999, min=1e-05, readout_format='.5…"
      ]
     },
     "metadata": {},
     "output_type": "display_data"
    },
    {
     "data": {
      "application/vnd.jupyter.widget-view+json": {
       "model_id": "257c4fca28a044d78cbc5daab68712fc",
       "version_major": 2,
       "version_minor": 0
      },
      "text/plain": [
       "FloatSlider(value=1e-05, continuous_update=False, description='368', max=0.9999, min=1e-05, readout_format='.5…"
      ]
     },
     "metadata": {},
     "output_type": "display_data"
    },
    {
     "data": {
      "application/vnd.jupyter.widget-view+json": {
       "model_id": "dc69044af2e74577831ca25a6c36ef73",
       "version_major": 2,
       "version_minor": 0
      },
      "text/plain": [
       "FloatSlider(value=1e-05, continuous_update=False, description='369', max=0.9999, min=1e-05, readout_format='.5…"
      ]
     },
     "metadata": {},
     "output_type": "display_data"
    },
    {
     "data": {
      "application/vnd.jupyter.widget-view+json": {
       "model_id": "6267f9514d42432b8e5beba953d1d37a",
       "version_major": 2,
       "version_minor": 0
      },
      "text/plain": [
       "FloatSlider(value=1e-05, continuous_update=False, description='370', max=0.9999, min=1e-05, readout_format='.5…"
      ]
     },
     "metadata": {},
     "output_type": "display_data"
    },
    {
     "data": {
      "application/vnd.jupyter.widget-view+json": {
       "model_id": "a39ce44d8c6343d096d9b031e9dd318c",
       "version_major": 2,
       "version_minor": 0
      },
      "text/plain": [
       "FloatSlider(value=1e-05, continuous_update=False, description='371', max=0.9999, min=1e-05, readout_format='.5…"
      ]
     },
     "metadata": {},
     "output_type": "display_data"
    },
    {
     "data": {
      "application/vnd.jupyter.widget-view+json": {
       "model_id": "4298c77001324991b8c7e96591aaa867",
       "version_major": 2,
       "version_minor": 0
      },
      "text/plain": [
       "FloatSlider(value=1e-05, continuous_update=False, description='372', max=0.9999, min=1e-05, readout_format='.5…"
      ]
     },
     "metadata": {},
     "output_type": "display_data"
    },
    {
     "data": {
      "application/vnd.jupyter.widget-view+json": {
       "model_id": "25a78085e6a541bc9473f0a7d1e329db",
       "version_major": 2,
       "version_minor": 0
      },
      "text/plain": [
       "FloatSlider(value=1e-05, continuous_update=False, description='373', max=0.9999, min=1e-05, readout_format='.5…"
      ]
     },
     "metadata": {},
     "output_type": "display_data"
    },
    {
     "data": {
      "application/vnd.jupyter.widget-view+json": {
       "model_id": "b432dbd0c29b4af6b0ea164de2a484d8",
       "version_major": 2,
       "version_minor": 0
      },
      "text/plain": [
       "FloatSlider(value=1e-05, continuous_update=False, description='374', max=0.9999, min=1e-05, readout_format='.5…"
      ]
     },
     "metadata": {},
     "output_type": "display_data"
    },
    {
     "data": {
      "application/vnd.jupyter.widget-view+json": {
       "model_id": "492ada824f9a407db2905e8e802061e6",
       "version_major": 2,
       "version_minor": 0
      },
      "text/plain": [
       "FloatSlider(value=1e-05, continuous_update=False, description='375', max=0.9999, min=1e-05, readout_format='.5…"
      ]
     },
     "metadata": {},
     "output_type": "display_data"
    },
    {
     "data": {
      "application/vnd.jupyter.widget-view+json": {
       "model_id": "918d0eb20f0d4f9d84bba86311231174",
       "version_major": 2,
       "version_minor": 0
      },
      "text/plain": [
       "FloatSlider(value=1e-05, continuous_update=False, description='376', max=0.9999, min=1e-05, readout_format='.5…"
      ]
     },
     "metadata": {},
     "output_type": "display_data"
    },
    {
     "data": {
      "application/vnd.jupyter.widget-view+json": {
       "model_id": "8ac8577decae41378041b4e646158b44",
       "version_major": 2,
       "version_minor": 0
      },
      "text/plain": [
       "FloatSlider(value=1e-05, continuous_update=False, description='377', max=0.9999, min=1e-05, readout_format='.5…"
      ]
     },
     "metadata": {},
     "output_type": "display_data"
    },
    {
     "data": {
      "application/vnd.jupyter.widget-view+json": {
       "model_id": "dc998b5290de41248d3750d59a4c3b7f",
       "version_major": 2,
       "version_minor": 0
      },
      "text/plain": [
       "FloatSlider(value=1e-05, continuous_update=False, description='378', max=0.9999, min=1e-05, readout_format='.5…"
      ]
     },
     "metadata": {},
     "output_type": "display_data"
    },
    {
     "data": {
      "application/vnd.jupyter.widget-view+json": {
       "model_id": "5130aef280594a08b189ad27f4cc5742",
       "version_major": 2,
       "version_minor": 0
      },
      "text/plain": [
       "FloatSlider(value=1e-05, continuous_update=False, description='379', max=0.9999, min=1e-05, readout_format='.5…"
      ]
     },
     "metadata": {},
     "output_type": "display_data"
    },
    {
     "data": {
      "application/vnd.jupyter.widget-view+json": {
       "model_id": "d100ff7b2f05448196e72ff330e3c13f",
       "version_major": 2,
       "version_minor": 0
      },
      "text/plain": [
       "FloatSlider(value=1e-05, continuous_update=False, description='380', max=0.9999, min=1e-05, readout_format='.5…"
      ]
     },
     "metadata": {},
     "output_type": "display_data"
    },
    {
     "data": {
      "application/vnd.jupyter.widget-view+json": {
       "model_id": "fdfaa29e278b45ddb1542db88ccbc601",
       "version_major": 2,
       "version_minor": 0
      },
      "text/plain": [
       "FloatSlider(value=1e-05, continuous_update=False, description='381', max=0.9999, min=1e-05, readout_format='.5…"
      ]
     },
     "metadata": {},
     "output_type": "display_data"
    },
    {
     "data": {
      "application/vnd.jupyter.widget-view+json": {
       "model_id": "96bc6c8961f44c22bfdcfa852f578717",
       "version_major": 2,
       "version_minor": 0
      },
      "text/plain": [
       "FloatSlider(value=1e-05, continuous_update=False, description='382', max=0.9999, min=1e-05, readout_format='.5…"
      ]
     },
     "metadata": {},
     "output_type": "display_data"
    },
    {
     "data": {
      "application/vnd.jupyter.widget-view+json": {
       "model_id": "7fb8f2205c684934918406c7f92d20cf",
       "version_major": 2,
       "version_minor": 0
      },
      "text/plain": [
       "FloatSlider(value=1e-05, continuous_update=False, description='383', max=0.9999, min=1e-05, readout_format='.5…"
      ]
     },
     "metadata": {},
     "output_type": "display_data"
    },
    {
     "data": {
      "application/vnd.jupyter.widget-view+json": {
       "model_id": "5ac5cdb676354e2abfa62e238ae9a833",
       "version_major": 2,
       "version_minor": 0
      },
      "text/plain": [
       "FloatSlider(value=1e-05, continuous_update=False, description='384', max=0.9999, min=1e-05, readout_format='.5…"
      ]
     },
     "metadata": {},
     "output_type": "display_data"
    },
    {
     "data": {
      "application/vnd.jupyter.widget-view+json": {
       "model_id": "fa896acb95b042ce8daa300f28e5646a",
       "version_major": 2,
       "version_minor": 0
      },
      "text/plain": [
       "FloatSlider(value=1e-05, continuous_update=False, description='385', max=0.9999, min=1e-05, readout_format='.5…"
      ]
     },
     "metadata": {},
     "output_type": "display_data"
    },
    {
     "data": {
      "application/vnd.jupyter.widget-view+json": {
       "model_id": "c2b666c896ea403eb1941af5c379ec2b",
       "version_major": 2,
       "version_minor": 0
      },
      "text/plain": [
       "FloatSlider(value=1e-05, continuous_update=False, description='386', max=0.9999, min=1e-05, readout_format='.5…"
      ]
     },
     "metadata": {},
     "output_type": "display_data"
    },
    {
     "data": {
      "application/vnd.jupyter.widget-view+json": {
       "model_id": "c79662606d4d44c992ea15948153727d",
       "version_major": 2,
       "version_minor": 0
      },
      "text/plain": [
       "FloatSlider(value=1e-05, continuous_update=False, description='387', max=0.9999, min=1e-05, readout_format='.5…"
      ]
     },
     "metadata": {},
     "output_type": "display_data"
    },
    {
     "data": {
      "application/vnd.jupyter.widget-view+json": {
       "model_id": "cf3e85a8de044e66ac2a135d1b7b2e6c",
       "version_major": 2,
       "version_minor": 0
      },
      "text/plain": [
       "FloatSlider(value=1e-05, continuous_update=False, description='388', max=0.9999, min=1e-05, readout_format='.5…"
      ]
     },
     "metadata": {},
     "output_type": "display_data"
    },
    {
     "data": {
      "application/vnd.jupyter.widget-view+json": {
       "model_id": "826553d1226144d1be191a629457a2ce",
       "version_major": 2,
       "version_minor": 0
      },
      "text/plain": [
       "FloatSlider(value=1e-05, continuous_update=False, description='389', max=0.9999, min=1e-05, readout_format='.5…"
      ]
     },
     "metadata": {},
     "output_type": "display_data"
    },
    {
     "data": {
      "application/vnd.jupyter.widget-view+json": {
       "model_id": "7f3dd3aa6ef94880a56f67a1e8ad85bd",
       "version_major": 2,
       "version_minor": 0
      },
      "text/plain": [
       "FloatSlider(value=1e-05, continuous_update=False, description='390', max=0.9999, min=1e-05, readout_format='.5…"
      ]
     },
     "metadata": {},
     "output_type": "display_data"
    },
    {
     "data": {
      "application/vnd.jupyter.widget-view+json": {
       "model_id": "f62e17b8c76340808b3f723de5c38242",
       "version_major": 2,
       "version_minor": 0
      },
      "text/plain": [
       "FloatSlider(value=1e-05, continuous_update=False, description='391', max=0.9999, min=1e-05, readout_format='.5…"
      ]
     },
     "metadata": {},
     "output_type": "display_data"
    },
    {
     "data": {
      "application/vnd.jupyter.widget-view+json": {
       "model_id": "dda6b474077041eca5fc786d966f0df4",
       "version_major": 2,
       "version_minor": 0
      },
      "text/plain": [
       "FloatSlider(value=1e-05, continuous_update=False, description='392', max=0.9999, min=1e-05, readout_format='.5…"
      ]
     },
     "metadata": {},
     "output_type": "display_data"
    },
    {
     "data": {
      "application/vnd.jupyter.widget-view+json": {
       "model_id": "970107503a4c4695a4bbae5782dcc9e1",
       "version_major": 2,
       "version_minor": 0
      },
      "text/plain": [
       "FloatSlider(value=1e-05, continuous_update=False, description='393', max=0.9999, min=1e-05, readout_format='.5…"
      ]
     },
     "metadata": {},
     "output_type": "display_data"
    },
    {
     "data": {
      "application/vnd.jupyter.widget-view+json": {
       "model_id": "eaca4d6f65bb4acabf43c352154ea7d1",
       "version_major": 2,
       "version_minor": 0
      },
      "text/plain": [
       "FloatSlider(value=1e-05, continuous_update=False, description='394', max=0.9999, min=1e-05, readout_format='.5…"
      ]
     },
     "metadata": {},
     "output_type": "display_data"
    },
    {
     "data": {
      "application/vnd.jupyter.widget-view+json": {
       "model_id": "601b5083064941cabf45dc079c72704b",
       "version_major": 2,
       "version_minor": 0
      },
      "text/plain": [
       "FloatSlider(value=1e-05, continuous_update=False, description='395', max=0.9999, min=1e-05, readout_format='.5…"
      ]
     },
     "metadata": {},
     "output_type": "display_data"
    },
    {
     "data": {
      "application/vnd.jupyter.widget-view+json": {
       "model_id": "7107b7067077491298072df761fb830e",
       "version_major": 2,
       "version_minor": 0
      },
      "text/plain": [
       "FloatSlider(value=1e-05, continuous_update=False, description='396', max=0.9999, min=1e-05, readout_format='.5…"
      ]
     },
     "metadata": {},
     "output_type": "display_data"
    },
    {
     "data": {
      "application/vnd.jupyter.widget-view+json": {
       "model_id": "b6a888fe649e4a87a6824030b0dd8307",
       "version_major": 2,
       "version_minor": 0
      },
      "text/plain": [
       "FloatSlider(value=1e-05, continuous_update=False, description='397', max=0.9999, min=1e-05, readout_format='.5…"
      ]
     },
     "metadata": {},
     "output_type": "display_data"
    },
    {
     "data": {
      "application/vnd.jupyter.widget-view+json": {
       "model_id": "a878eca6d5b7444c9994b58400115e1c",
       "version_major": 2,
       "version_minor": 0
      },
      "text/plain": [
       "FloatSlider(value=1e-05, continuous_update=False, description='398', max=0.9999, min=1e-05, readout_format='.5…"
      ]
     },
     "metadata": {},
     "output_type": "display_data"
    },
    {
     "data": {
      "application/vnd.jupyter.widget-view+json": {
       "model_id": "515266be9aac4faca4c29dfd2cfa0a11",
       "version_major": 2,
       "version_minor": 0
      },
      "text/plain": [
       "FloatSlider(value=1e-05, continuous_update=False, description='399', max=0.9999, min=1e-05, readout_format='.5…"
      ]
     },
     "metadata": {},
     "output_type": "display_data"
    },
    {
     "data": {
      "application/vnd.jupyter.widget-view+json": {
       "model_id": "d88f739ee34b40779f42ba3731b13a97",
       "version_major": 2,
       "version_minor": 0
      },
      "text/plain": [
       "FloatSlider(value=1e-05, continuous_update=False, description='400', max=0.9999, min=1e-05, readout_format='.5…"
      ]
     },
     "metadata": {},
     "output_type": "display_data"
    },
    {
     "data": {
      "application/vnd.jupyter.widget-view+json": {
       "model_id": "243909daf7de481194009e9fe570bfc4",
       "version_major": 2,
       "version_minor": 0
      },
      "text/plain": [
       "FloatSlider(value=1e-05, continuous_update=False, description='401', max=0.9999, min=1e-05, readout_format='.5…"
      ]
     },
     "metadata": {},
     "output_type": "display_data"
    },
    {
     "data": {
      "application/vnd.jupyter.widget-view+json": {
       "model_id": "88acf3b590014018b99a77fd329d31f8",
       "version_major": 2,
       "version_minor": 0
      },
      "text/plain": [
       "FloatSlider(value=1e-05, continuous_update=False, description='402', max=0.9999, min=1e-05, readout_format='.5…"
      ]
     },
     "metadata": {},
     "output_type": "display_data"
    },
    {
     "data": {
      "application/vnd.jupyter.widget-view+json": {
       "model_id": "ca5550b1c1c743d28c003552c8a25ee9",
       "version_major": 2,
       "version_minor": 0
      },
      "text/plain": [
       "FloatSlider(value=1e-05, continuous_update=False, description='403', max=0.9999, min=1e-05, readout_format='.5…"
      ]
     },
     "metadata": {},
     "output_type": "display_data"
    },
    {
     "data": {
      "application/vnd.jupyter.widget-view+json": {
       "model_id": "d2bf28c1f2fc4143ae0c4df4b1f5cab9",
       "version_major": 2,
       "version_minor": 0
      },
      "text/plain": [
       "FloatSlider(value=1e-05, continuous_update=False, description='404', max=0.9999, min=1e-05, readout_format='.5…"
      ]
     },
     "metadata": {},
     "output_type": "display_data"
    },
    {
     "data": {
      "application/vnd.jupyter.widget-view+json": {
       "model_id": "efa849d9f5c44fd2a0c48cc8704bb9b9",
       "version_major": 2,
       "version_minor": 0
      },
      "text/plain": [
       "FloatSlider(value=1e-05, continuous_update=False, description='405', max=0.9999, min=1e-05, readout_format='.5…"
      ]
     },
     "metadata": {},
     "output_type": "display_data"
    },
    {
     "data": {
      "application/vnd.jupyter.widget-view+json": {
       "model_id": "2687ef54c1984fee8d6d12cbdff3c3ca",
       "version_major": 2,
       "version_minor": 0
      },
      "text/plain": [
       "FloatSlider(value=1e-05, continuous_update=False, description='406', max=0.9999, min=1e-05, readout_format='.5…"
      ]
     },
     "metadata": {},
     "output_type": "display_data"
    },
    {
     "data": {
      "application/vnd.jupyter.widget-view+json": {
       "model_id": "171baa650eba413289475a2eec0665f1",
       "version_major": 2,
       "version_minor": 0
      },
      "text/plain": [
       "FloatSlider(value=1e-05, continuous_update=False, description='407', max=0.9999, min=1e-05, readout_format='.5…"
      ]
     },
     "metadata": {},
     "output_type": "display_data"
    },
    {
     "data": {
      "application/vnd.jupyter.widget-view+json": {
       "model_id": "123ceb554dc34854bca6cdbe22786679",
       "version_major": 2,
       "version_minor": 0
      },
      "text/plain": [
       "FloatSlider(value=1e-05, continuous_update=False, description='408', max=0.9999, min=1e-05, readout_format='.5…"
      ]
     },
     "metadata": {},
     "output_type": "display_data"
    },
    {
     "data": {
      "application/vnd.jupyter.widget-view+json": {
       "model_id": "3194c72be145468fa27d14766501f360",
       "version_major": 2,
       "version_minor": 0
      },
      "text/plain": [
       "FloatSlider(value=1e-05, continuous_update=False, description='409', max=0.9999, min=1e-05, readout_format='.5…"
      ]
     },
     "metadata": {},
     "output_type": "display_data"
    },
    {
     "data": {
      "application/vnd.jupyter.widget-view+json": {
       "model_id": "0ed90b6cf24942568dde9c03cb3739d3",
       "version_major": 2,
       "version_minor": 0
      },
      "text/plain": [
       "FloatSlider(value=1e-05, continuous_update=False, description='410', max=0.9999, min=1e-05, readout_format='.5…"
      ]
     },
     "metadata": {},
     "output_type": "display_data"
    },
    {
     "data": {
      "application/vnd.jupyter.widget-view+json": {
       "model_id": "bb5c50e12cc641b5b64a37dbb961612d",
       "version_major": 2,
       "version_minor": 0
      },
      "text/plain": [
       "FloatSlider(value=1e-05, continuous_update=False, description='411', max=0.9999, min=1e-05, readout_format='.5…"
      ]
     },
     "metadata": {},
     "output_type": "display_data"
    },
    {
     "data": {
      "application/vnd.jupyter.widget-view+json": {
       "model_id": "32843715b6ae49dbadf87ace3ad76242",
       "version_major": 2,
       "version_minor": 0
      },
      "text/plain": [
       "FloatSlider(value=1e-05, continuous_update=False, description='412', max=0.9999, min=1e-05, readout_format='.5…"
      ]
     },
     "metadata": {},
     "output_type": "display_data"
    },
    {
     "data": {
      "application/vnd.jupyter.widget-view+json": {
       "model_id": "11465bf76fa14b5186b7bb4e2f670f15",
       "version_major": 2,
       "version_minor": 0
      },
      "text/plain": [
       "FloatSlider(value=1e-05, continuous_update=False, description='413', max=0.9999, min=1e-05, readout_format='.5…"
      ]
     },
     "metadata": {},
     "output_type": "display_data"
    },
    {
     "data": {
      "application/vnd.jupyter.widget-view+json": {
       "model_id": "65eede6e68564bdf8b4a8cfb2a556de7",
       "version_major": 2,
       "version_minor": 0
      },
      "text/plain": [
       "FloatSlider(value=1e-05, continuous_update=False, description='414', max=0.9999, min=1e-05, readout_format='.5…"
      ]
     },
     "metadata": {},
     "output_type": "display_data"
    },
    {
     "data": {
      "application/vnd.jupyter.widget-view+json": {
       "model_id": "4d0aee5ef48549ed8fb0f45697d316c2",
       "version_major": 2,
       "version_minor": 0
      },
      "text/plain": [
       "FloatSlider(value=1e-05, continuous_update=False, description='415', max=0.9999, min=1e-05, readout_format='.5…"
      ]
     },
     "metadata": {},
     "output_type": "display_data"
    },
    {
     "data": {
      "application/vnd.jupyter.widget-view+json": {
       "model_id": "93853114ee6545099621a4283b08123c",
       "version_major": 2,
       "version_minor": 0
      },
      "text/plain": [
       "FloatSlider(value=1e-05, continuous_update=False, description='416', max=0.9999, min=1e-05, readout_format='.5…"
      ]
     },
     "metadata": {},
     "output_type": "display_data"
    },
    {
     "data": {
      "application/vnd.jupyter.widget-view+json": {
       "model_id": "e37c771119c947bb873c8788ff117a95",
       "version_major": 2,
       "version_minor": 0
      },
      "text/plain": [
       "FloatSlider(value=1e-05, continuous_update=False, description='417', max=0.9999, min=1e-05, readout_format='.5…"
      ]
     },
     "metadata": {},
     "output_type": "display_data"
    },
    {
     "data": {
      "application/vnd.jupyter.widget-view+json": {
       "model_id": "effcb65d9757481cb177819b53fc339a",
       "version_major": 2,
       "version_minor": 0
      },
      "text/plain": [
       "FloatSlider(value=1e-05, continuous_update=False, description='418', max=0.9999, min=1e-05, readout_format='.5…"
      ]
     },
     "metadata": {},
     "output_type": "display_data"
    },
    {
     "data": {
      "application/vnd.jupyter.widget-view+json": {
       "model_id": "ffcc9a3c41484d10b7c3fcd078e181d5",
       "version_major": 2,
       "version_minor": 0
      },
      "text/plain": [
       "FloatSlider(value=1e-05, continuous_update=False, description='419', max=0.9999, min=1e-05, readout_format='.5…"
      ]
     },
     "metadata": {},
     "output_type": "display_data"
    },
    {
     "data": {
      "application/vnd.jupyter.widget-view+json": {
       "model_id": "5257e818b60e490f877835b33a27ada8",
       "version_major": 2,
       "version_minor": 0
      },
      "text/plain": [
       "FloatSlider(value=1e-05, continuous_update=False, description='420', max=0.9999, min=1e-05, readout_format='.5…"
      ]
     },
     "metadata": {},
     "output_type": "display_data"
    },
    {
     "data": {
      "application/vnd.jupyter.widget-view+json": {
       "model_id": "e0d6576b4f7f465a8cdecfa0de90bd8d",
       "version_major": 2,
       "version_minor": 0
      },
      "text/plain": [
       "FloatSlider(value=1e-05, continuous_update=False, description='421', max=0.9999, min=1e-05, readout_format='.5…"
      ]
     },
     "metadata": {},
     "output_type": "display_data"
    },
    {
     "data": {
      "application/vnd.jupyter.widget-view+json": {
       "model_id": "32f52b6a725e4dc6af6ca9cd2515d41c",
       "version_major": 2,
       "version_minor": 0
      },
      "text/plain": [
       "FloatSlider(value=1e-05, continuous_update=False, description='422', max=0.9999, min=1e-05, readout_format='.5…"
      ]
     },
     "metadata": {},
     "output_type": "display_data"
    },
    {
     "data": {
      "application/vnd.jupyter.widget-view+json": {
       "model_id": "0ac38f7920ea4d38b0ac2d68c8d17198",
       "version_major": 2,
       "version_minor": 0
      },
      "text/plain": [
       "FloatSlider(value=1e-05, continuous_update=False, description='423', max=0.9999, min=1e-05, readout_format='.5…"
      ]
     },
     "metadata": {},
     "output_type": "display_data"
    },
    {
     "data": {
      "application/vnd.jupyter.widget-view+json": {
       "model_id": "b4d8c55d1a1c4398950ecc09fea7ae0c",
       "version_major": 2,
       "version_minor": 0
      },
      "text/plain": [
       "FloatSlider(value=1e-05, continuous_update=False, description='424', max=0.9999, min=1e-05, readout_format='.5…"
      ]
     },
     "metadata": {},
     "output_type": "display_data"
    },
    {
     "data": {
      "application/vnd.jupyter.widget-view+json": {
       "model_id": "77117d5d41144082aef4106d2d978007",
       "version_major": 2,
       "version_minor": 0
      },
      "text/plain": [
       "FloatSlider(value=1e-05, continuous_update=False, description='425', max=0.9999, min=1e-05, readout_format='.5…"
      ]
     },
     "metadata": {},
     "output_type": "display_data"
    },
    {
     "data": {
      "application/vnd.jupyter.widget-view+json": {
       "model_id": "4ab4c27dd80d4e3c84f76cc054bf1b98",
       "version_major": 2,
       "version_minor": 0
      },
      "text/plain": [
       "FloatSlider(value=1e-05, continuous_update=False, description='426', max=0.9999, min=1e-05, readout_format='.5…"
      ]
     },
     "metadata": {},
     "output_type": "display_data"
    },
    {
     "data": {
      "application/vnd.jupyter.widget-view+json": {
       "model_id": "b5b5c01998a844a7b1722cd8c2a040b1",
       "version_major": 2,
       "version_minor": 0
      },
      "text/plain": [
       "FloatSlider(value=1e-05, continuous_update=False, description='427', max=0.9999, min=1e-05, readout_format='.5…"
      ]
     },
     "metadata": {},
     "output_type": "display_data"
    },
    {
     "data": {
      "application/vnd.jupyter.widget-view+json": {
       "model_id": "d6006398c75f4eb0a2ff7e233870fdd3",
       "version_major": 2,
       "version_minor": 0
      },
      "text/plain": [
       "FloatSlider(value=1e-05, continuous_update=False, description='428', max=0.9999, min=1e-05, readout_format='.5…"
      ]
     },
     "metadata": {},
     "output_type": "display_data"
    },
    {
     "data": {
      "application/vnd.jupyter.widget-view+json": {
       "model_id": "bedf05fa150f4147bf811a039e6c8952",
       "version_major": 2,
       "version_minor": 0
      },
      "text/plain": [
       "FloatSlider(value=1e-05, continuous_update=False, description='429', max=0.9999, min=1e-05, readout_format='.5…"
      ]
     },
     "metadata": {},
     "output_type": "display_data"
    },
    {
     "data": {
      "application/vnd.jupyter.widget-view+json": {
       "model_id": "3ba1dcaa5bda44c7a7a2a81a32ae5472",
       "version_major": 2,
       "version_minor": 0
      },
      "text/plain": [
       "FloatSlider(value=1e-05, continuous_update=False, description='430', max=0.9999, min=1e-05, readout_format='.5…"
      ]
     },
     "metadata": {},
     "output_type": "display_data"
    },
    {
     "data": {
      "application/vnd.jupyter.widget-view+json": {
       "model_id": "dad95182044b4c9a9f7945145e49a4aa",
       "version_major": 2,
       "version_minor": 0
      },
      "text/plain": [
       "FloatSlider(value=1e-05, continuous_update=False, description='431', max=0.9999, min=1e-05, readout_format='.5…"
      ]
     },
     "metadata": {},
     "output_type": "display_data"
    },
    {
     "data": {
      "application/vnd.jupyter.widget-view+json": {
       "model_id": "eba803928ee546779da6ea90bb72e769",
       "version_major": 2,
       "version_minor": 0
      },
      "text/plain": [
       "FloatSlider(value=1e-05, continuous_update=False, description='432', max=0.9999, min=1e-05, readout_format='.5…"
      ]
     },
     "metadata": {},
     "output_type": "display_data"
    },
    {
     "data": {
      "application/vnd.jupyter.widget-view+json": {
       "model_id": "a6a5a77417694c3d86230331bc879d8b",
       "version_major": 2,
       "version_minor": 0
      },
      "text/plain": [
       "FloatSlider(value=1e-05, continuous_update=False, description='433', max=0.9999, min=1e-05, readout_format='.5…"
      ]
     },
     "metadata": {},
     "output_type": "display_data"
    },
    {
     "data": {
      "application/vnd.jupyter.widget-view+json": {
       "model_id": "c8817318b56a4289b1f0a9407018ae48",
       "version_major": 2,
       "version_minor": 0
      },
      "text/plain": [
       "FloatSlider(value=1e-05, continuous_update=False, description='434', max=0.9999, min=1e-05, readout_format='.5…"
      ]
     },
     "metadata": {},
     "output_type": "display_data"
    },
    {
     "data": {
      "application/vnd.jupyter.widget-view+json": {
       "model_id": "26a698bb5f424f96b5d181473847b5b9",
       "version_major": 2,
       "version_minor": 0
      },
      "text/plain": [
       "FloatSlider(value=1e-05, continuous_update=False, description='435', max=0.9999, min=1e-05, readout_format='.5…"
      ]
     },
     "metadata": {},
     "output_type": "display_data"
    },
    {
     "data": {
      "application/vnd.jupyter.widget-view+json": {
       "model_id": "5ec34e9600d44453a80e272f409e9339",
       "version_major": 2,
       "version_minor": 0
      },
      "text/plain": [
       "FloatSlider(value=1e-05, continuous_update=False, description='436', max=0.9999, min=1e-05, readout_format='.5…"
      ]
     },
     "metadata": {},
     "output_type": "display_data"
    },
    {
     "data": {
      "application/vnd.jupyter.widget-view+json": {
       "model_id": "c84d3021a4f044aeb7327f610301b459",
       "version_major": 2,
       "version_minor": 0
      },
      "text/plain": [
       "FloatSlider(value=1e-05, continuous_update=False, description='437', max=0.9999, min=1e-05, readout_format='.5…"
      ]
     },
     "metadata": {},
     "output_type": "display_data"
    },
    {
     "data": {
      "application/vnd.jupyter.widget-view+json": {
       "model_id": "0e5f9439b94e45759f777f1b78e78c97",
       "version_major": 2,
       "version_minor": 0
      },
      "text/plain": [
       "FloatSlider(value=1e-05, continuous_update=False, description='438', max=0.9999, min=1e-05, readout_format='.5…"
      ]
     },
     "metadata": {},
     "output_type": "display_data"
    },
    {
     "data": {
      "application/vnd.jupyter.widget-view+json": {
       "model_id": "40b289634ab44cfdab13f9b242b0fd5e",
       "version_major": 2,
       "version_minor": 0
      },
      "text/plain": [
       "FloatSlider(value=1e-05, continuous_update=False, description='439', max=0.9999, min=1e-05, readout_format='.5…"
      ]
     },
     "metadata": {},
     "output_type": "display_data"
    },
    {
     "data": {
      "application/vnd.jupyter.widget-view+json": {
       "model_id": "81d81e188b2e4286b05d0618a73ba86e",
       "version_major": 2,
       "version_minor": 0
      },
      "text/plain": [
       "FloatSlider(value=1e-05, continuous_update=False, description='440', max=0.9999, min=1e-05, readout_format='.5…"
      ]
     },
     "metadata": {},
     "output_type": "display_data"
    },
    {
     "data": {
      "application/vnd.jupyter.widget-view+json": {
       "model_id": "952b3c43df8e430999baf296c6d702c3",
       "version_major": 2,
       "version_minor": 0
      },
      "text/plain": [
       "FloatSlider(value=1e-05, continuous_update=False, description='441', max=0.9999, min=1e-05, readout_format='.5…"
      ]
     },
     "metadata": {},
     "output_type": "display_data"
    },
    {
     "data": {
      "application/vnd.jupyter.widget-view+json": {
       "model_id": "36109baf79924f72a5961f540008231b",
       "version_major": 2,
       "version_minor": 0
      },
      "text/plain": [
       "FloatSlider(value=1e-05, continuous_update=False, description='442', max=0.9999, min=1e-05, readout_format='.5…"
      ]
     },
     "metadata": {},
     "output_type": "display_data"
    },
    {
     "data": {
      "application/vnd.jupyter.widget-view+json": {
       "model_id": "991fd4ac544648c9a5b9ea25662c46b0",
       "version_major": 2,
       "version_minor": 0
      },
      "text/plain": [
       "FloatSlider(value=1e-05, continuous_update=False, description='443', max=0.9999, min=1e-05, readout_format='.5…"
      ]
     },
     "metadata": {},
     "output_type": "display_data"
    },
    {
     "data": {
      "application/vnd.jupyter.widget-view+json": {
       "model_id": "679152528c404fe592941b245587aa5d",
       "version_major": 2,
       "version_minor": 0
      },
      "text/plain": [
       "FloatSlider(value=1e-05, continuous_update=False, description='444', max=0.9999, min=1e-05, readout_format='.5…"
      ]
     },
     "metadata": {},
     "output_type": "display_data"
    },
    {
     "data": {
      "application/vnd.jupyter.widget-view+json": {
       "model_id": "ca39fe18f61847f19e883733c9a86e29",
       "version_major": 2,
       "version_minor": 0
      },
      "text/plain": [
       "FloatSlider(value=1e-05, continuous_update=False, description='445', max=0.9999, min=1e-05, readout_format='.5…"
      ]
     },
     "metadata": {},
     "output_type": "display_data"
    },
    {
     "data": {
      "application/vnd.jupyter.widget-view+json": {
       "model_id": "b50e8abcdb654be1b93b4cbaf8a2374b",
       "version_major": 2,
       "version_minor": 0
      },
      "text/plain": [
       "FloatSlider(value=1e-05, continuous_update=False, description='446', max=0.9999, min=1e-05, readout_format='.5…"
      ]
     },
     "metadata": {},
     "output_type": "display_data"
    },
    {
     "data": {
      "application/vnd.jupyter.widget-view+json": {
       "model_id": "6ef1dc7c3d2b439e9d1043821ce23589",
       "version_major": 2,
       "version_minor": 0
      },
      "text/plain": [
       "FloatSlider(value=1e-05, continuous_update=False, description='447', max=0.9999, min=1e-05, readout_format='.5…"
      ]
     },
     "metadata": {},
     "output_type": "display_data"
    },
    {
     "data": {
      "application/vnd.jupyter.widget-view+json": {
       "model_id": "8bef3e0207c247a784e03097c5c6eaaa",
       "version_major": 2,
       "version_minor": 0
      },
      "text/plain": [
       "FloatSlider(value=1e-05, continuous_update=False, description='448', max=0.9999, min=1e-05, readout_format='.5…"
      ]
     },
     "metadata": {},
     "output_type": "display_data"
    },
    {
     "data": {
      "application/vnd.jupyter.widget-view+json": {
       "model_id": "78ce215d8ea94afa8012bb4fc2fdf4af",
       "version_major": 2,
       "version_minor": 0
      },
      "text/plain": [
       "FloatSlider(value=1e-05, continuous_update=False, description='449', max=0.9999, min=1e-05, readout_format='.5…"
      ]
     },
     "metadata": {},
     "output_type": "display_data"
    },
    {
     "data": {
      "application/vnd.jupyter.widget-view+json": {
       "model_id": "8f927d1fe3ab4ff9ba578687a7777a64",
       "version_major": 2,
       "version_minor": 0
      },
      "text/plain": [
       "FloatSlider(value=1e-05, continuous_update=False, description='450', max=0.9999, min=1e-05, readout_format='.5…"
      ]
     },
     "metadata": {},
     "output_type": "display_data"
    },
    {
     "data": {
      "application/vnd.jupyter.widget-view+json": {
       "model_id": "165975dd686e476c9c592de685d66a8e",
       "version_major": 2,
       "version_minor": 0
      },
      "text/plain": [
       "FloatSlider(value=1e-05, continuous_update=False, description='451', max=0.9999, min=1e-05, readout_format='.5…"
      ]
     },
     "metadata": {},
     "output_type": "display_data"
    },
    {
     "data": {
      "application/vnd.jupyter.widget-view+json": {
       "model_id": "e3fb9cf185834adf98986995c16e2e75",
       "version_major": 2,
       "version_minor": 0
      },
      "text/plain": [
       "FloatSlider(value=1e-05, continuous_update=False, description='452', max=0.9999, min=1e-05, readout_format='.5…"
      ]
     },
     "metadata": {},
     "output_type": "display_data"
    },
    {
     "data": {
      "application/vnd.jupyter.widget-view+json": {
       "model_id": "23529c7f719348b68e1fe1e185595094",
       "version_major": 2,
       "version_minor": 0
      },
      "text/plain": [
       "FloatSlider(value=1e-05, continuous_update=False, description='453', max=0.9999, min=1e-05, readout_format='.5…"
      ]
     },
     "metadata": {},
     "output_type": "display_data"
    },
    {
     "data": {
      "application/vnd.jupyter.widget-view+json": {
       "model_id": "303614073c36471b81246bee5d4f434e",
       "version_major": 2,
       "version_minor": 0
      },
      "text/plain": [
       "FloatSlider(value=1e-05, continuous_update=False, description='454', max=0.9999, min=1e-05, readout_format='.5…"
      ]
     },
     "metadata": {},
     "output_type": "display_data"
    },
    {
     "data": {
      "application/vnd.jupyter.widget-view+json": {
       "model_id": "d101c80d5a104a449bef79bd06dcf3fd",
       "version_major": 2,
       "version_minor": 0
      },
      "text/plain": [
       "FloatSlider(value=1e-05, continuous_update=False, description='455', max=0.9999, min=1e-05, readout_format='.5…"
      ]
     },
     "metadata": {},
     "output_type": "display_data"
    },
    {
     "data": {
      "application/vnd.jupyter.widget-view+json": {
       "model_id": "1d5f56a64f1841349cefd8a244a611bc",
       "version_major": 2,
       "version_minor": 0
      },
      "text/plain": [
       "FloatSlider(value=1e-05, continuous_update=False, description='456', max=0.9999, min=1e-05, readout_format='.5…"
      ]
     },
     "metadata": {},
     "output_type": "display_data"
    },
    {
     "data": {
      "application/vnd.jupyter.widget-view+json": {
       "model_id": "a2ec0279912b4e699378805824cc8ce5",
       "version_major": 2,
       "version_minor": 0
      },
      "text/plain": [
       "FloatSlider(value=1e-05, continuous_update=False, description='457', max=0.9999, min=1e-05, readout_format='.5…"
      ]
     },
     "metadata": {},
     "output_type": "display_data"
    },
    {
     "data": {
      "application/vnd.jupyter.widget-view+json": {
       "model_id": "1a0b32c9368e42ac921ed1d8ab63650e",
       "version_major": 2,
       "version_minor": 0
      },
      "text/plain": [
       "FloatSlider(value=1e-05, continuous_update=False, description='458', max=0.9999, min=1e-05, readout_format='.5…"
      ]
     },
     "metadata": {},
     "output_type": "display_data"
    },
    {
     "data": {
      "application/vnd.jupyter.widget-view+json": {
       "model_id": "53bc1912c94c44229f91a2cd41076ec1",
       "version_major": 2,
       "version_minor": 0
      },
      "text/plain": [
       "FloatSlider(value=1e-05, continuous_update=False, description='459', max=0.9999, min=1e-05, readout_format='.5…"
      ]
     },
     "metadata": {},
     "output_type": "display_data"
    },
    {
     "data": {
      "application/vnd.jupyter.widget-view+json": {
       "model_id": "408ffa5f86594d8a997423eb19487433",
       "version_major": 2,
       "version_minor": 0
      },
      "text/plain": [
       "FloatSlider(value=1e-05, continuous_update=False, description='460', max=0.9999, min=1e-05, readout_format='.5…"
      ]
     },
     "metadata": {},
     "output_type": "display_data"
    },
    {
     "data": {
      "application/vnd.jupyter.widget-view+json": {
       "model_id": "868feed31d8543c0b5cf4752900fbf17",
       "version_major": 2,
       "version_minor": 0
      },
      "text/plain": [
       "FloatSlider(value=1e-05, continuous_update=False, description='461', max=0.9999, min=1e-05, readout_format='.5…"
      ]
     },
     "metadata": {},
     "output_type": "display_data"
    },
    {
     "data": {
      "application/vnd.jupyter.widget-view+json": {
       "model_id": "b0024d23d69046f6bcd5fdb0b5018c28",
       "version_major": 2,
       "version_minor": 0
      },
      "text/plain": [
       "FloatSlider(value=1e-05, continuous_update=False, description='462', max=0.9999, min=1e-05, readout_format='.5…"
      ]
     },
     "metadata": {},
     "output_type": "display_data"
    },
    {
     "data": {
      "application/vnd.jupyter.widget-view+json": {
       "model_id": "35f1472d7e2e465dbfa21acc5af7a84f",
       "version_major": 2,
       "version_minor": 0
      },
      "text/plain": [
       "FloatSlider(value=1e-05, continuous_update=False, description='463', max=0.9999, min=1e-05, readout_format='.5…"
      ]
     },
     "metadata": {},
     "output_type": "display_data"
    },
    {
     "data": {
      "application/vnd.jupyter.widget-view+json": {
       "model_id": "baf8832cf3534d838962470761e29dd9",
       "version_major": 2,
       "version_minor": 0
      },
      "text/plain": [
       "FloatSlider(value=1e-05, continuous_update=False, description='464', max=0.9999, min=1e-05, readout_format='.5…"
      ]
     },
     "metadata": {},
     "output_type": "display_data"
    },
    {
     "data": {
      "application/vnd.jupyter.widget-view+json": {
       "model_id": "4c75fa0ab6b9408d9e3b2d745f046bea",
       "version_major": 2,
       "version_minor": 0
      },
      "text/plain": [
       "FloatSlider(value=1e-05, continuous_update=False, description='465', max=0.9999, min=1e-05, readout_format='.5…"
      ]
     },
     "metadata": {},
     "output_type": "display_data"
    },
    {
     "data": {
      "application/vnd.jupyter.widget-view+json": {
       "model_id": "befb417dcb7a4d199a6c0ab16848c729",
       "version_major": 2,
       "version_minor": 0
      },
      "text/plain": [
       "FloatSlider(value=1e-05, continuous_update=False, description='466', max=0.9999, min=1e-05, readout_format='.5…"
      ]
     },
     "metadata": {},
     "output_type": "display_data"
    },
    {
     "data": {
      "application/vnd.jupyter.widget-view+json": {
       "model_id": "d3d7920b9bd7450493ace99065555e82",
       "version_major": 2,
       "version_minor": 0
      },
      "text/plain": [
       "FloatSlider(value=1e-05, continuous_update=False, description='467', max=0.9999, min=1e-05, readout_format='.5…"
      ]
     },
     "metadata": {},
     "output_type": "display_data"
    },
    {
     "data": {
      "application/vnd.jupyter.widget-view+json": {
       "model_id": "b17e61542e8d49849a9321d4f48e11a5",
       "version_major": 2,
       "version_minor": 0
      },
      "text/plain": [
       "FloatSlider(value=1e-05, continuous_update=False, description='468', max=0.9999, min=1e-05, readout_format='.5…"
      ]
     },
     "metadata": {},
     "output_type": "display_data"
    },
    {
     "data": {
      "application/vnd.jupyter.widget-view+json": {
       "model_id": "f4c881049b6446968e2f7733815f0a2c",
       "version_major": 2,
       "version_minor": 0
      },
      "text/plain": [
       "FloatSlider(value=1e-05, continuous_update=False, description='469', max=0.9999, min=1e-05, readout_format='.5…"
      ]
     },
     "metadata": {},
     "output_type": "display_data"
    },
    {
     "data": {
      "application/vnd.jupyter.widget-view+json": {
       "model_id": "c8b3387b29b04874a736c91425649023",
       "version_major": 2,
       "version_minor": 0
      },
      "text/plain": [
       "FloatSlider(value=1e-05, continuous_update=False, description='470', max=0.9999, min=1e-05, readout_format='.5…"
      ]
     },
     "metadata": {},
     "output_type": "display_data"
    },
    {
     "data": {
      "application/vnd.jupyter.widget-view+json": {
       "model_id": "d256fa7d2afa459d999029ce74abeb40",
       "version_major": 2,
       "version_minor": 0
      },
      "text/plain": [
       "FloatSlider(value=1e-05, continuous_update=False, description='471', max=0.9999, min=1e-05, readout_format='.5…"
      ]
     },
     "metadata": {},
     "output_type": "display_data"
    },
    {
     "data": {
      "application/vnd.jupyter.widget-view+json": {
       "model_id": "002c99f9ca8340ee88406c0cbd9eb286",
       "version_major": 2,
       "version_minor": 0
      },
      "text/plain": [
       "FloatSlider(value=1e-05, continuous_update=False, description='472', max=0.9999, min=1e-05, readout_format='.5…"
      ]
     },
     "metadata": {},
     "output_type": "display_data"
    },
    {
     "data": {
      "application/vnd.jupyter.widget-view+json": {
       "model_id": "bd3406b5ad4c4aee8df1d908cdd45fb2",
       "version_major": 2,
       "version_minor": 0
      },
      "text/plain": [
       "FloatSlider(value=1e-05, continuous_update=False, description='473', max=0.9999, min=1e-05, readout_format='.5…"
      ]
     },
     "metadata": {},
     "output_type": "display_data"
    },
    {
     "data": {
      "application/vnd.jupyter.widget-view+json": {
       "model_id": "67bea7f6b33047059d4cbfce18232b34",
       "version_major": 2,
       "version_minor": 0
      },
      "text/plain": [
       "FloatSlider(value=1e-05, continuous_update=False, description='474', max=0.9999, min=1e-05, readout_format='.5…"
      ]
     },
     "metadata": {},
     "output_type": "display_data"
    },
    {
     "data": {
      "application/vnd.jupyter.widget-view+json": {
       "model_id": "4a5d661f7503441cb924c4b30b82f167",
       "version_major": 2,
       "version_minor": 0
      },
      "text/plain": [
       "FloatSlider(value=1e-05, continuous_update=False, description='475', max=0.9999, min=1e-05, readout_format='.5…"
      ]
     },
     "metadata": {},
     "output_type": "display_data"
    },
    {
     "data": {
      "application/vnd.jupyter.widget-view+json": {
       "model_id": "c7fade40606f4195b4776cb41ec9c61d",
       "version_major": 2,
       "version_minor": 0
      },
      "text/plain": [
       "FloatSlider(value=1e-05, continuous_update=False, description='476', max=0.9999, min=1e-05, readout_format='.5…"
      ]
     },
     "metadata": {},
     "output_type": "display_data"
    },
    {
     "data": {
      "application/vnd.jupyter.widget-view+json": {
       "model_id": "ae1009458e50480385a99058a7c4b21f",
       "version_major": 2,
       "version_minor": 0
      },
      "text/plain": [
       "FloatSlider(value=1e-05, continuous_update=False, description='477', max=0.9999, min=1e-05, readout_format='.5…"
      ]
     },
     "metadata": {},
     "output_type": "display_data"
    },
    {
     "data": {
      "application/vnd.jupyter.widget-view+json": {
       "model_id": "ff214e6df74e4ca3a0e00d43c5a152d0",
       "version_major": 2,
       "version_minor": 0
      },
      "text/plain": [
       "FloatSlider(value=1e-05, continuous_update=False, description='478', max=0.9999, min=1e-05, readout_format='.5…"
      ]
     },
     "metadata": {},
     "output_type": "display_data"
    },
    {
     "data": {
      "application/vnd.jupyter.widget-view+json": {
       "model_id": "6cf4bd65edda4e68a6b928df099efafc",
       "version_major": 2,
       "version_minor": 0
      },
      "text/plain": [
       "FloatSlider(value=1e-05, continuous_update=False, description='479', max=0.9999, min=1e-05, readout_format='.5…"
      ]
     },
     "metadata": {},
     "output_type": "display_data"
    },
    {
     "data": {
      "application/vnd.jupyter.widget-view+json": {
       "model_id": "5efdd7e8269e48079011dd8768cbb20e",
       "version_major": 2,
       "version_minor": 0
      },
      "text/plain": [
       "FloatSlider(value=1e-05, continuous_update=False, description='480', max=0.9999, min=1e-05, readout_format='.5…"
      ]
     },
     "metadata": {},
     "output_type": "display_data"
    },
    {
     "data": {
      "application/vnd.jupyter.widget-view+json": {
       "model_id": "2fb4141551d948cf84db7c1471f5cc46",
       "version_major": 2,
       "version_minor": 0
      },
      "text/plain": [
       "FloatSlider(value=1e-05, continuous_update=False, description='481', max=0.9999, min=1e-05, readout_format='.5…"
      ]
     },
     "metadata": {},
     "output_type": "display_data"
    },
    {
     "data": {
      "application/vnd.jupyter.widget-view+json": {
       "model_id": "7f4b8422bb844ff39226f1fa1b62cfe8",
       "version_major": 2,
       "version_minor": 0
      },
      "text/plain": [
       "FloatSlider(value=1e-05, continuous_update=False, description='482', max=0.9999, min=1e-05, readout_format='.5…"
      ]
     },
     "metadata": {},
     "output_type": "display_data"
    },
    {
     "data": {
      "application/vnd.jupyter.widget-view+json": {
       "model_id": "eb0b5f722abe4f158a78e434bb5b73d6",
       "version_major": 2,
       "version_minor": 0
      },
      "text/plain": [
       "FloatSlider(value=1e-05, continuous_update=False, description='483', max=0.9999, min=1e-05, readout_format='.5…"
      ]
     },
     "metadata": {},
     "output_type": "display_data"
    },
    {
     "data": {
      "application/vnd.jupyter.widget-view+json": {
       "model_id": "7bd35ca3aead428980bbf64dc371f1a7",
       "version_major": 2,
       "version_minor": 0
      },
      "text/plain": [
       "FloatSlider(value=1e-05, continuous_update=False, description='484', max=0.9999, min=1e-05, readout_format='.5…"
      ]
     },
     "metadata": {},
     "output_type": "display_data"
    },
    {
     "data": {
      "application/vnd.jupyter.widget-view+json": {
       "model_id": "f711159c79ba4e0f846bd2fb9dd1f2f8",
       "version_major": 2,
       "version_minor": 0
      },
      "text/plain": [
       "FloatSlider(value=1e-05, continuous_update=False, description='485', max=0.9999, min=1e-05, readout_format='.5…"
      ]
     },
     "metadata": {},
     "output_type": "display_data"
    },
    {
     "data": {
      "application/vnd.jupyter.widget-view+json": {
       "model_id": "67e03074cc4f47e48f918b8d7f0a7e49",
       "version_major": 2,
       "version_minor": 0
      },
      "text/plain": [
       "FloatSlider(value=1e-05, continuous_update=False, description='486', max=0.9999, min=1e-05, readout_format='.5…"
      ]
     },
     "metadata": {},
     "output_type": "display_data"
    },
    {
     "data": {
      "application/vnd.jupyter.widget-view+json": {
       "model_id": "3ed8f68edf1f4a5b981a5ec00751624e",
       "version_major": 2,
       "version_minor": 0
      },
      "text/plain": [
       "FloatSlider(value=1e-05, continuous_update=False, description='487', max=0.9999, min=1e-05, readout_format='.5…"
      ]
     },
     "metadata": {},
     "output_type": "display_data"
    },
    {
     "data": {
      "application/vnd.jupyter.widget-view+json": {
       "model_id": "fdb435fa246a487c89d92e4c236cf633",
       "version_major": 2,
       "version_minor": 0
      },
      "text/plain": [
       "FloatSlider(value=1e-05, continuous_update=False, description='488', max=0.9999, min=1e-05, readout_format='.5…"
      ]
     },
     "metadata": {},
     "output_type": "display_data"
    },
    {
     "data": {
      "application/vnd.jupyter.widget-view+json": {
       "model_id": "8287fb4535334646babb1f81837a0d03",
       "version_major": 2,
       "version_minor": 0
      },
      "text/plain": [
       "FloatSlider(value=1e-05, continuous_update=False, description='489', max=0.9999, min=1e-05, readout_format='.5…"
      ]
     },
     "metadata": {},
     "output_type": "display_data"
    },
    {
     "data": {
      "application/vnd.jupyter.widget-view+json": {
       "model_id": "001b4829fe6b4b0e833b10370df40a99",
       "version_major": 2,
       "version_minor": 0
      },
      "text/plain": [
       "FloatSlider(value=1e-05, continuous_update=False, description='490', max=0.9999, min=1e-05, readout_format='.5…"
      ]
     },
     "metadata": {},
     "output_type": "display_data"
    },
    {
     "data": {
      "application/vnd.jupyter.widget-view+json": {
       "model_id": "87abcd029c114fec9bba8ab69bdc44c5",
       "version_major": 2,
       "version_minor": 0
      },
      "text/plain": [
       "FloatSlider(value=1e-05, continuous_update=False, description='491', max=0.9999, min=1e-05, readout_format='.5…"
      ]
     },
     "metadata": {},
     "output_type": "display_data"
    },
    {
     "data": {
      "application/vnd.jupyter.widget-view+json": {
       "model_id": "b77e1ec6f7014c01b747905e23381d3c",
       "version_major": 2,
       "version_minor": 0
      },
      "text/plain": [
       "FloatSlider(value=1e-05, continuous_update=False, description='492', max=0.9999, min=1e-05, readout_format='.5…"
      ]
     },
     "metadata": {},
     "output_type": "display_data"
    },
    {
     "data": {
      "application/vnd.jupyter.widget-view+json": {
       "model_id": "96a60214771d413583a0715a1f5bcce0",
       "version_major": 2,
       "version_minor": 0
      },
      "text/plain": [
       "FloatSlider(value=1e-05, continuous_update=False, description='493', max=0.9999, min=1e-05, readout_format='.5…"
      ]
     },
     "metadata": {},
     "output_type": "display_data"
    },
    {
     "data": {
      "application/vnd.jupyter.widget-view+json": {
       "model_id": "2caac6076de541398e4c5c2d73a87689",
       "version_major": 2,
       "version_minor": 0
      },
      "text/plain": [
       "FloatSlider(value=1e-05, continuous_update=False, description='494', max=0.9999, min=1e-05, readout_format='.5…"
      ]
     },
     "metadata": {},
     "output_type": "display_data"
    },
    {
     "data": {
      "application/vnd.jupyter.widget-view+json": {
       "model_id": "c1c5496f45c04aa2aebfd74685b3cc47",
       "version_major": 2,
       "version_minor": 0
      },
      "text/plain": [
       "FloatSlider(value=1e-05, continuous_update=False, description='495', max=0.9999, min=1e-05, readout_format='.5…"
      ]
     },
     "metadata": {},
     "output_type": "display_data"
    },
    {
     "data": {
      "application/vnd.jupyter.widget-view+json": {
       "model_id": "328e54d44d8040fcaf509033f6ac3197",
       "version_major": 2,
       "version_minor": 0
      },
      "text/plain": [
       "FloatSlider(value=1e-05, continuous_update=False, description='496', max=0.9999, min=1e-05, readout_format='.5…"
      ]
     },
     "metadata": {},
     "output_type": "display_data"
    },
    {
     "data": {
      "application/vnd.jupyter.widget-view+json": {
       "model_id": "29c5de124fb64e11a40967e1fba5a1bd",
       "version_major": 2,
       "version_minor": 0
      },
      "text/plain": [
       "FloatSlider(value=1e-05, continuous_update=False, description='497', max=0.9999, min=1e-05, readout_format='.5…"
      ]
     },
     "metadata": {},
     "output_type": "display_data"
    },
    {
     "data": {
      "application/vnd.jupyter.widget-view+json": {
       "model_id": "1bf86e0b392f4b8bb128ee4d99958372",
       "version_major": 2,
       "version_minor": 0
      },
      "text/plain": [
       "FloatSlider(value=1e-05, continuous_update=False, description='498', max=0.9999, min=1e-05, readout_format='.5…"
      ]
     },
     "metadata": {},
     "output_type": "display_data"
    },
    {
     "data": {
      "application/vnd.jupyter.widget-view+json": {
       "model_id": "bd9887aa394e4ff3b8f934110ef78465",
       "version_major": 2,
       "version_minor": 0
      },
      "text/plain": [
       "FloatSlider(value=1e-05, continuous_update=False, description='499', max=0.9999, min=1e-05, readout_format='.5…"
      ]
     },
     "metadata": {},
     "output_type": "display_data"
    },
    {
     "data": {
      "application/vnd.jupyter.widget-view+json": {
       "model_id": "47c47f6d9b834d8da85dcc552bec22db",
       "version_major": 2,
       "version_minor": 0
      },
      "text/plain": [
       "FloatSlider(value=1e-05, continuous_update=False, description='500', max=0.9999, min=1e-05, readout_format='.5…"
      ]
     },
     "metadata": {},
     "output_type": "display_data"
    },
    {
     "data": {
      "application/vnd.jupyter.widget-view+json": {
       "model_id": "5505021eafd84e54a1369cf31e5e2241",
       "version_major": 2,
       "version_minor": 0
      },
      "text/plain": [
       "FloatSlider(value=1e-05, continuous_update=False, description='501', max=0.9999, min=1e-05, readout_format='.5…"
      ]
     },
     "metadata": {},
     "output_type": "display_data"
    },
    {
     "data": {
      "application/vnd.jupyter.widget-view+json": {
       "model_id": "a082025934d14a03bcef29d4596d3554",
       "version_major": 2,
       "version_minor": 0
      },
      "text/plain": [
       "FloatSlider(value=1e-05, continuous_update=False, description='502', max=0.9999, min=1e-05, readout_format='.5…"
      ]
     },
     "metadata": {},
     "output_type": "display_data"
    },
    {
     "data": {
      "application/vnd.jupyter.widget-view+json": {
       "model_id": "d698470a865d446988c7ddd767d6e147",
       "version_major": 2,
       "version_minor": 0
      },
      "text/plain": [
       "FloatSlider(value=1e-05, continuous_update=False, description='503', max=0.9999, min=1e-05, readout_format='.5…"
      ]
     },
     "metadata": {},
     "output_type": "display_data"
    },
    {
     "data": {
      "application/vnd.jupyter.widget-view+json": {
       "model_id": "dc90a5b84db143e5943c08bf950e2614",
       "version_major": 2,
       "version_minor": 0
      },
      "text/plain": [
       "FloatSlider(value=1e-05, continuous_update=False, description='504', max=0.9999, min=1e-05, readout_format='.5…"
      ]
     },
     "metadata": {},
     "output_type": "display_data"
    },
    {
     "data": {
      "application/vnd.jupyter.widget-view+json": {
       "model_id": "b0f1af1e19a443e9bc5b9b1219b02bc6",
       "version_major": 2,
       "version_minor": 0
      },
      "text/plain": [
       "FloatSlider(value=1e-05, continuous_update=False, description='505', max=0.9999, min=1e-05, readout_format='.5…"
      ]
     },
     "metadata": {},
     "output_type": "display_data"
    },
    {
     "data": {
      "application/vnd.jupyter.widget-view+json": {
       "model_id": "6641c6462ca7479ebc6ae0d52f4526a9",
       "version_major": 2,
       "version_minor": 0
      },
      "text/plain": [
       "FloatSlider(value=1e-05, continuous_update=False, description='506', max=0.9999, min=1e-05, readout_format='.5…"
      ]
     },
     "metadata": {},
     "output_type": "display_data"
    },
    {
     "data": {
      "application/vnd.jupyter.widget-view+json": {
       "model_id": "cedcb2e83ac240df8ff7cd92b754264e",
       "version_major": 2,
       "version_minor": 0
      },
      "text/plain": [
       "FloatSlider(value=1e-05, continuous_update=False, description='507', max=0.9999, min=1e-05, readout_format='.5…"
      ]
     },
     "metadata": {},
     "output_type": "display_data"
    },
    {
     "data": {
      "application/vnd.jupyter.widget-view+json": {
       "model_id": "fffa8bec6448427ea3534096bf093470",
       "version_major": 2,
       "version_minor": 0
      },
      "text/plain": [
       "FloatSlider(value=1e-05, continuous_update=False, description='508', max=0.9999, min=1e-05, readout_format='.5…"
      ]
     },
     "metadata": {},
     "output_type": "display_data"
    },
    {
     "data": {
      "application/vnd.jupyter.widget-view+json": {
       "model_id": "8daafe5f3bac4f68aa8ba72eae2f0ea2",
       "version_major": 2,
       "version_minor": 0
      },
      "text/plain": [
       "FloatSlider(value=1e-05, continuous_update=False, description='509', max=0.9999, min=1e-05, readout_format='.5…"
      ]
     },
     "metadata": {},
     "output_type": "display_data"
    },
    {
     "data": {
      "application/vnd.jupyter.widget-view+json": {
       "model_id": "f781a5c45d8247c69bc4b23f420479e3",
       "version_major": 2,
       "version_minor": 0
      },
      "text/plain": [
       "FloatSlider(value=1e-05, continuous_update=False, description='510', max=0.9999, min=1e-05, readout_format='.5…"
      ]
     },
     "metadata": {},
     "output_type": "display_data"
    },
    {
     "data": {
      "application/vnd.jupyter.widget-view+json": {
       "model_id": "6975de2a4225435e99ff40b9154caeee",
       "version_major": 2,
       "version_minor": 0
      },
      "text/plain": [
       "FloatSlider(value=1e-05, continuous_update=False, description='511', max=0.9999, min=1e-05, readout_format='.5…"
      ]
     },
     "metadata": {},
     "output_type": "display_data"
    },
    {
     "data": {
      "application/vnd.jupyter.widget-view+json": {
       "model_id": "7d89b47938df42c9996f004ba1a0b043",
       "version_major": 2,
       "version_minor": 0
      },
      "text/plain": [
       "FloatSlider(value=1e-05, continuous_update=False, description='512', max=0.9999, min=1e-05, readout_format='.5…"
      ]
     },
     "metadata": {},
     "output_type": "display_data"
    },
    {
     "data": {
      "application/vnd.jupyter.widget-view+json": {
       "model_id": "62645c21b45c463bb20d3713977232fd",
       "version_major": 2,
       "version_minor": 0
      },
      "text/plain": [
       "Button(description='Apply Slider Weights', style=ButtonStyle())"
      ]
     },
     "metadata": {},
     "output_type": "display_data"
    },
    {
     "data": {
      "application/vnd.jupyter.widget-view+json": {
       "model_id": "ba67442e1be04e0883222b6c6a8be5f5",
       "version_major": 2,
       "version_minor": 0
      },
      "text/plain": [
       "Button(description='Reset Plot', style=ButtonStyle())"
      ]
     },
     "metadata": {},
     "output_type": "display_data"
    }
   ],
   "source": [
    "sliders = create_sliders(weights)"
   ]
  },
  {
   "cell_type": "markdown",
   "metadata": {},
   "source": [
    "## Dimension Reduction Plot\n",
    "This shows the HD data in 2D form, such that **proximity == similarity**, based on the current slider weights.  Distances between points in the plot approximately reflect their distances in the weighted HD data.  Thus points near each other have similar HD data values in the up-weighted dimensions, and points far away have very different HD data values in those dimensions.\n",
    "\n",
    "The color represents the **relevance** of each point to the current slider weights. Yellower points have larger values in up-weighted dimensions.\n",
    "\n",
    "Points can be **selected** to highlight in Green and view their details below.  Points can be **dragged** to specify a new projection for learning weights, see below. To reset the plot and clear the selections, click the **Reset** button above."
   ]
  },
  {
   "cell_type": "code",
   "execution_count": null,
   "metadata": {},
   "outputs": [],
   "source": []
  },
  {
   "cell_type": "code",
   "execution_count": 18,
   "metadata": {
    "scrolled": false
   },
   "outputs": [
    {
     "data": {
      "application/javascript": [
       "/* Put everything inside the global mpl namespace */\n",
       "/* global mpl */\n",
       "window.mpl = {};\n",
       "\n",
       "mpl.get_websocket_type = function () {\n",
       "    if (typeof WebSocket !== 'undefined') {\n",
       "        return WebSocket;\n",
       "    } else if (typeof MozWebSocket !== 'undefined') {\n",
       "        return MozWebSocket;\n",
       "    } else {\n",
       "        alert(\n",
       "            'Your browser does not have WebSocket support. ' +\n",
       "                'Please try Chrome, Safari or Firefox ≥ 6. ' +\n",
       "                'Firefox 4 and 5 are also supported but you ' +\n",
       "                'have to enable WebSockets in about:config.'\n",
       "        );\n",
       "    }\n",
       "};\n",
       "\n",
       "mpl.figure = function (figure_id, websocket, ondownload, parent_element) {\n",
       "    this.id = figure_id;\n",
       "\n",
       "    this.ws = websocket;\n",
       "\n",
       "    this.supports_binary = this.ws.binaryType !== undefined;\n",
       "\n",
       "    if (!this.supports_binary) {\n",
       "        var warnings = document.getElementById('mpl-warnings');\n",
       "        if (warnings) {\n",
       "            warnings.style.display = 'block';\n",
       "            warnings.textContent =\n",
       "                'This browser does not support binary websocket messages. ' +\n",
       "                'Performance may be slow.';\n",
       "        }\n",
       "    }\n",
       "\n",
       "    this.imageObj = new Image();\n",
       "\n",
       "    this.context = undefined;\n",
       "    this.message = undefined;\n",
       "    this.canvas = undefined;\n",
       "    this.rubberband_canvas = undefined;\n",
       "    this.rubberband_context = undefined;\n",
       "    this.format_dropdown = undefined;\n",
       "\n",
       "    this.image_mode = 'full';\n",
       "\n",
       "    this.root = document.createElement('div');\n",
       "    this.root.setAttribute('style', 'display: inline-block');\n",
       "    this._root_extra_style(this.root);\n",
       "\n",
       "    parent_element.appendChild(this.root);\n",
       "\n",
       "    this._init_header(this);\n",
       "    this._init_canvas(this);\n",
       "    this._init_toolbar(this);\n",
       "\n",
       "    var fig = this;\n",
       "\n",
       "    this.waiting = false;\n",
       "\n",
       "    this.ws.onopen = function () {\n",
       "        fig.send_message('supports_binary', { value: fig.supports_binary });\n",
       "        fig.send_message('send_image_mode', {});\n",
       "        if (fig.ratio !== 1) {\n",
       "            fig.send_message('set_dpi_ratio', { dpi_ratio: fig.ratio });\n",
       "        }\n",
       "        fig.send_message('refresh', {});\n",
       "    };\n",
       "\n",
       "    this.imageObj.onload = function () {\n",
       "        if (fig.image_mode === 'full') {\n",
       "            // Full images could contain transparency (where diff images\n",
       "            // almost always do), so we need to clear the canvas so that\n",
       "            // there is no ghosting.\n",
       "            fig.context.clearRect(0, 0, fig.canvas.width, fig.canvas.height);\n",
       "        }\n",
       "        fig.context.drawImage(fig.imageObj, 0, 0);\n",
       "    };\n",
       "\n",
       "    this.imageObj.onunload = function () {\n",
       "        fig.ws.close();\n",
       "    };\n",
       "\n",
       "    this.ws.onmessage = this._make_on_message_function(this);\n",
       "\n",
       "    this.ondownload = ondownload;\n",
       "};\n",
       "\n",
       "mpl.figure.prototype._init_header = function () {\n",
       "    var titlebar = document.createElement('div');\n",
       "    titlebar.classList =\n",
       "        'ui-dialog-titlebar ui-widget-header ui-corner-all ui-helper-clearfix';\n",
       "    var titletext = document.createElement('div');\n",
       "    titletext.classList = 'ui-dialog-title';\n",
       "    titletext.setAttribute(\n",
       "        'style',\n",
       "        'width: 100%; text-align: center; padding: 3px;'\n",
       "    );\n",
       "    titlebar.appendChild(titletext);\n",
       "    this.root.appendChild(titlebar);\n",
       "    this.header = titletext;\n",
       "};\n",
       "\n",
       "mpl.figure.prototype._canvas_extra_style = function (_canvas_div) {};\n",
       "\n",
       "mpl.figure.prototype._root_extra_style = function (_canvas_div) {};\n",
       "\n",
       "mpl.figure.prototype._init_canvas = function () {\n",
       "    var fig = this;\n",
       "\n",
       "    var canvas_div = (this.canvas_div = document.createElement('div'));\n",
       "    canvas_div.setAttribute(\n",
       "        'style',\n",
       "        'border: 1px solid #ddd;' +\n",
       "            'box-sizing: content-box;' +\n",
       "            'clear: both;' +\n",
       "            'min-height: 1px;' +\n",
       "            'min-width: 1px;' +\n",
       "            'outline: 0;' +\n",
       "            'overflow: hidden;' +\n",
       "            'position: relative;' +\n",
       "            'resize: both;'\n",
       "    );\n",
       "\n",
       "    function on_keyboard_event_closure(name) {\n",
       "        return function (event) {\n",
       "            return fig.key_event(event, name);\n",
       "        };\n",
       "    }\n",
       "\n",
       "    canvas_div.addEventListener(\n",
       "        'keydown',\n",
       "        on_keyboard_event_closure('key_press')\n",
       "    );\n",
       "    canvas_div.addEventListener(\n",
       "        'keyup',\n",
       "        on_keyboard_event_closure('key_release')\n",
       "    );\n",
       "\n",
       "    this._canvas_extra_style(canvas_div);\n",
       "    this.root.appendChild(canvas_div);\n",
       "\n",
       "    var canvas = (this.canvas = document.createElement('canvas'));\n",
       "    canvas.classList.add('mpl-canvas');\n",
       "    canvas.setAttribute('style', 'box-sizing: content-box;');\n",
       "\n",
       "    this.context = canvas.getContext('2d');\n",
       "\n",
       "    var backingStore =\n",
       "        this.context.backingStorePixelRatio ||\n",
       "        this.context.webkitBackingStorePixelRatio ||\n",
       "        this.context.mozBackingStorePixelRatio ||\n",
       "        this.context.msBackingStorePixelRatio ||\n",
       "        this.context.oBackingStorePixelRatio ||\n",
       "        this.context.backingStorePixelRatio ||\n",
       "        1;\n",
       "\n",
       "    this.ratio = (window.devicePixelRatio || 1) / backingStore;\n",
       "    if (this.ratio !== 1) {\n",
       "        fig.send_message('set_dpi_ratio', { dpi_ratio: this.ratio });\n",
       "    }\n",
       "\n",
       "    var rubberband_canvas = (this.rubberband_canvas = document.createElement(\n",
       "        'canvas'\n",
       "    ));\n",
       "    rubberband_canvas.setAttribute(\n",
       "        'style',\n",
       "        'box-sizing: content-box; position: absolute; left: 0; top: 0; z-index: 1;'\n",
       "    );\n",
       "\n",
       "    var resizeObserver = new ResizeObserver(function (entries) {\n",
       "        var nentries = entries.length;\n",
       "        for (var i = 0; i < nentries; i++) {\n",
       "            var entry = entries[i];\n",
       "            var width, height;\n",
       "            if (entry.contentBoxSize) {\n",
       "                if (entry.contentBoxSize instanceof Array) {\n",
       "                    // Chrome 84 implements new version of spec.\n",
       "                    width = entry.contentBoxSize[0].inlineSize;\n",
       "                    height = entry.contentBoxSize[0].blockSize;\n",
       "                } else {\n",
       "                    // Firefox implements old version of spec.\n",
       "                    width = entry.contentBoxSize.inlineSize;\n",
       "                    height = entry.contentBoxSize.blockSize;\n",
       "                }\n",
       "            } else {\n",
       "                // Chrome <84 implements even older version of spec.\n",
       "                width = entry.contentRect.width;\n",
       "                height = entry.contentRect.height;\n",
       "            }\n",
       "\n",
       "            // Keep the size of the canvas and rubber band canvas in sync with\n",
       "            // the canvas container.\n",
       "            if (entry.devicePixelContentBoxSize) {\n",
       "                // Chrome 84 implements new version of spec.\n",
       "                canvas.setAttribute(\n",
       "                    'width',\n",
       "                    entry.devicePixelContentBoxSize[0].inlineSize\n",
       "                );\n",
       "                canvas.setAttribute(\n",
       "                    'height',\n",
       "                    entry.devicePixelContentBoxSize[0].blockSize\n",
       "                );\n",
       "            } else {\n",
       "                canvas.setAttribute('width', width * fig.ratio);\n",
       "                canvas.setAttribute('height', height * fig.ratio);\n",
       "            }\n",
       "            canvas.setAttribute(\n",
       "                'style',\n",
       "                'width: ' + width + 'px; height: ' + height + 'px;'\n",
       "            );\n",
       "\n",
       "            rubberband_canvas.setAttribute('width', width);\n",
       "            rubberband_canvas.setAttribute('height', height);\n",
       "\n",
       "            // And update the size in Python. We ignore the initial 0/0 size\n",
       "            // that occurs as the element is placed into the DOM, which should\n",
       "            // otherwise not happen due to the minimum size styling.\n",
       "            if (width != 0 && height != 0) {\n",
       "                fig.request_resize(width, height);\n",
       "            }\n",
       "        }\n",
       "    });\n",
       "    resizeObserver.observe(canvas_div);\n",
       "\n",
       "    function on_mouse_event_closure(name) {\n",
       "        return function (event) {\n",
       "            return fig.mouse_event(event, name);\n",
       "        };\n",
       "    }\n",
       "\n",
       "    rubberband_canvas.addEventListener(\n",
       "        'mousedown',\n",
       "        on_mouse_event_closure('button_press')\n",
       "    );\n",
       "    rubberband_canvas.addEventListener(\n",
       "        'mouseup',\n",
       "        on_mouse_event_closure('button_release')\n",
       "    );\n",
       "    // Throttle sequential mouse events to 1 every 20ms.\n",
       "    rubberband_canvas.addEventListener(\n",
       "        'mousemove',\n",
       "        on_mouse_event_closure('motion_notify')\n",
       "    );\n",
       "\n",
       "    rubberband_canvas.addEventListener(\n",
       "        'mouseenter',\n",
       "        on_mouse_event_closure('figure_enter')\n",
       "    );\n",
       "    rubberband_canvas.addEventListener(\n",
       "        'mouseleave',\n",
       "        on_mouse_event_closure('figure_leave')\n",
       "    );\n",
       "\n",
       "    canvas_div.addEventListener('wheel', function (event) {\n",
       "        if (event.deltaY < 0) {\n",
       "            event.step = 1;\n",
       "        } else {\n",
       "            event.step = -1;\n",
       "        }\n",
       "        on_mouse_event_closure('scroll')(event);\n",
       "    });\n",
       "\n",
       "    canvas_div.appendChild(canvas);\n",
       "    canvas_div.appendChild(rubberband_canvas);\n",
       "\n",
       "    this.rubberband_context = rubberband_canvas.getContext('2d');\n",
       "    this.rubberband_context.strokeStyle = '#000000';\n",
       "\n",
       "    this._resize_canvas = function (width, height, forward) {\n",
       "        if (forward) {\n",
       "            canvas_div.style.width = width + 'px';\n",
       "            canvas_div.style.height = height + 'px';\n",
       "        }\n",
       "    };\n",
       "\n",
       "    // Disable right mouse context menu.\n",
       "    this.rubberband_canvas.addEventListener('contextmenu', function (_e) {\n",
       "        event.preventDefault();\n",
       "        return false;\n",
       "    });\n",
       "\n",
       "    function set_focus() {\n",
       "        canvas.focus();\n",
       "        canvas_div.focus();\n",
       "    }\n",
       "\n",
       "    window.setTimeout(set_focus, 100);\n",
       "};\n",
       "\n",
       "mpl.figure.prototype._init_toolbar = function () {\n",
       "    var fig = this;\n",
       "\n",
       "    var toolbar = document.createElement('div');\n",
       "    toolbar.classList = 'mpl-toolbar';\n",
       "    this.root.appendChild(toolbar);\n",
       "\n",
       "    function on_click_closure(name) {\n",
       "        return function (_event) {\n",
       "            return fig.toolbar_button_onclick(name);\n",
       "        };\n",
       "    }\n",
       "\n",
       "    function on_mouseover_closure(tooltip) {\n",
       "        return function (event) {\n",
       "            if (!event.currentTarget.disabled) {\n",
       "                return fig.toolbar_button_onmouseover(tooltip);\n",
       "            }\n",
       "        };\n",
       "    }\n",
       "\n",
       "    fig.buttons = {};\n",
       "    var buttonGroup = document.createElement('div');\n",
       "    buttonGroup.classList = 'mpl-button-group';\n",
       "    for (var toolbar_ind in mpl.toolbar_items) {\n",
       "        var name = mpl.toolbar_items[toolbar_ind][0];\n",
       "        var tooltip = mpl.toolbar_items[toolbar_ind][1];\n",
       "        var image = mpl.toolbar_items[toolbar_ind][2];\n",
       "        var method_name = mpl.toolbar_items[toolbar_ind][3];\n",
       "\n",
       "        if (!name) {\n",
       "            /* Instead of a spacer, we start a new button group. */\n",
       "            if (buttonGroup.hasChildNodes()) {\n",
       "                toolbar.appendChild(buttonGroup);\n",
       "            }\n",
       "            buttonGroup = document.createElement('div');\n",
       "            buttonGroup.classList = 'mpl-button-group';\n",
       "            continue;\n",
       "        }\n",
       "\n",
       "        var button = (fig.buttons[name] = document.createElement('button'));\n",
       "        button.classList = 'mpl-widget';\n",
       "        button.setAttribute('role', 'button');\n",
       "        button.setAttribute('aria-disabled', 'false');\n",
       "        button.addEventListener('click', on_click_closure(method_name));\n",
       "        button.addEventListener('mouseover', on_mouseover_closure(tooltip));\n",
       "\n",
       "        var icon_img = document.createElement('img');\n",
       "        icon_img.src = '_images/' + image + '.png';\n",
       "        icon_img.srcset = '_images/' + image + '_large.png 2x';\n",
       "        icon_img.alt = tooltip;\n",
       "        button.appendChild(icon_img);\n",
       "\n",
       "        buttonGroup.appendChild(button);\n",
       "    }\n",
       "\n",
       "    if (buttonGroup.hasChildNodes()) {\n",
       "        toolbar.appendChild(buttonGroup);\n",
       "    }\n",
       "\n",
       "    var fmt_picker = document.createElement('select');\n",
       "    fmt_picker.classList = 'mpl-widget';\n",
       "    toolbar.appendChild(fmt_picker);\n",
       "    this.format_dropdown = fmt_picker;\n",
       "\n",
       "    for (var ind in mpl.extensions) {\n",
       "        var fmt = mpl.extensions[ind];\n",
       "        var option = document.createElement('option');\n",
       "        option.selected = fmt === mpl.default_extension;\n",
       "        option.innerHTML = fmt;\n",
       "        fmt_picker.appendChild(option);\n",
       "    }\n",
       "\n",
       "    var status_bar = document.createElement('span');\n",
       "    status_bar.classList = 'mpl-message';\n",
       "    toolbar.appendChild(status_bar);\n",
       "    this.message = status_bar;\n",
       "};\n",
       "\n",
       "mpl.figure.prototype.request_resize = function (x_pixels, y_pixels) {\n",
       "    // Request matplotlib to resize the figure. Matplotlib will then trigger a resize in the client,\n",
       "    // which will in turn request a refresh of the image.\n",
       "    this.send_message('resize', { width: x_pixels, height: y_pixels });\n",
       "};\n",
       "\n",
       "mpl.figure.prototype.send_message = function (type, properties) {\n",
       "    properties['type'] = type;\n",
       "    properties['figure_id'] = this.id;\n",
       "    this.ws.send(JSON.stringify(properties));\n",
       "};\n",
       "\n",
       "mpl.figure.prototype.send_draw_message = function () {\n",
       "    if (!this.waiting) {\n",
       "        this.waiting = true;\n",
       "        this.ws.send(JSON.stringify({ type: 'draw', figure_id: this.id }));\n",
       "    }\n",
       "};\n",
       "\n",
       "mpl.figure.prototype.handle_save = function (fig, _msg) {\n",
       "    var format_dropdown = fig.format_dropdown;\n",
       "    var format = format_dropdown.options[format_dropdown.selectedIndex].value;\n",
       "    fig.ondownload(fig, format);\n",
       "};\n",
       "\n",
       "mpl.figure.prototype.handle_resize = function (fig, msg) {\n",
       "    var size = msg['size'];\n",
       "    if (size[0] !== fig.canvas.width || size[1] !== fig.canvas.height) {\n",
       "        fig._resize_canvas(size[0], size[1], msg['forward']);\n",
       "        fig.send_message('refresh', {});\n",
       "    }\n",
       "};\n",
       "\n",
       "mpl.figure.prototype.handle_rubberband = function (fig, msg) {\n",
       "    var x0 = msg['x0'] / fig.ratio;\n",
       "    var y0 = (fig.canvas.height - msg['y0']) / fig.ratio;\n",
       "    var x1 = msg['x1'] / fig.ratio;\n",
       "    var y1 = (fig.canvas.height - msg['y1']) / fig.ratio;\n",
       "    x0 = Math.floor(x0) + 0.5;\n",
       "    y0 = Math.floor(y0) + 0.5;\n",
       "    x1 = Math.floor(x1) + 0.5;\n",
       "    y1 = Math.floor(y1) + 0.5;\n",
       "    var min_x = Math.min(x0, x1);\n",
       "    var min_y = Math.min(y0, y1);\n",
       "    var width = Math.abs(x1 - x0);\n",
       "    var height = Math.abs(y1 - y0);\n",
       "\n",
       "    fig.rubberband_context.clearRect(\n",
       "        0,\n",
       "        0,\n",
       "        fig.canvas.width / fig.ratio,\n",
       "        fig.canvas.height / fig.ratio\n",
       "    );\n",
       "\n",
       "    fig.rubberband_context.strokeRect(min_x, min_y, width, height);\n",
       "};\n",
       "\n",
       "mpl.figure.prototype.handle_figure_label = function (fig, msg) {\n",
       "    // Updates the figure title.\n",
       "    fig.header.textContent = msg['label'];\n",
       "};\n",
       "\n",
       "mpl.figure.prototype.handle_cursor = function (fig, msg) {\n",
       "    var cursor = msg['cursor'];\n",
       "    switch (cursor) {\n",
       "        case 0:\n",
       "            cursor = 'pointer';\n",
       "            break;\n",
       "        case 1:\n",
       "            cursor = 'default';\n",
       "            break;\n",
       "        case 2:\n",
       "            cursor = 'crosshair';\n",
       "            break;\n",
       "        case 3:\n",
       "            cursor = 'move';\n",
       "            break;\n",
       "    }\n",
       "    fig.rubberband_canvas.style.cursor = cursor;\n",
       "};\n",
       "\n",
       "mpl.figure.prototype.handle_message = function (fig, msg) {\n",
       "    fig.message.textContent = msg['message'];\n",
       "};\n",
       "\n",
       "mpl.figure.prototype.handle_draw = function (fig, _msg) {\n",
       "    // Request the server to send over a new figure.\n",
       "    fig.send_draw_message();\n",
       "};\n",
       "\n",
       "mpl.figure.prototype.handle_image_mode = function (fig, msg) {\n",
       "    fig.image_mode = msg['mode'];\n",
       "};\n",
       "\n",
       "mpl.figure.prototype.handle_history_buttons = function (fig, msg) {\n",
       "    for (var key in msg) {\n",
       "        if (!(key in fig.buttons)) {\n",
       "            continue;\n",
       "        }\n",
       "        fig.buttons[key].disabled = !msg[key];\n",
       "        fig.buttons[key].setAttribute('aria-disabled', !msg[key]);\n",
       "    }\n",
       "};\n",
       "\n",
       "mpl.figure.prototype.handle_navigate_mode = function (fig, msg) {\n",
       "    if (msg['mode'] === 'PAN') {\n",
       "        fig.buttons['Pan'].classList.add('active');\n",
       "        fig.buttons['Zoom'].classList.remove('active');\n",
       "    } else if (msg['mode'] === 'ZOOM') {\n",
       "        fig.buttons['Pan'].classList.remove('active');\n",
       "        fig.buttons['Zoom'].classList.add('active');\n",
       "    } else {\n",
       "        fig.buttons['Pan'].classList.remove('active');\n",
       "        fig.buttons['Zoom'].classList.remove('active');\n",
       "    }\n",
       "};\n",
       "\n",
       "mpl.figure.prototype.updated_canvas_event = function () {\n",
       "    // Called whenever the canvas gets updated.\n",
       "    this.send_message('ack', {});\n",
       "};\n",
       "\n",
       "// A function to construct a web socket function for onmessage handling.\n",
       "// Called in the figure constructor.\n",
       "mpl.figure.prototype._make_on_message_function = function (fig) {\n",
       "    return function socket_on_message(evt) {\n",
       "        if (evt.data instanceof Blob) {\n",
       "            /* FIXME: We get \"Resource interpreted as Image but\n",
       "             * transferred with MIME type text/plain:\" errors on\n",
       "             * Chrome.  But how to set the MIME type?  It doesn't seem\n",
       "             * to be part of the websocket stream */\n",
       "            evt.data.type = 'image/png';\n",
       "\n",
       "            /* Free the memory for the previous frames */\n",
       "            if (fig.imageObj.src) {\n",
       "                (window.URL || window.webkitURL).revokeObjectURL(\n",
       "                    fig.imageObj.src\n",
       "                );\n",
       "            }\n",
       "\n",
       "            fig.imageObj.src = (window.URL || window.webkitURL).createObjectURL(\n",
       "                evt.data\n",
       "            );\n",
       "            fig.updated_canvas_event();\n",
       "            fig.waiting = false;\n",
       "            return;\n",
       "        } else if (\n",
       "            typeof evt.data === 'string' &&\n",
       "            evt.data.slice(0, 21) === 'data:image/png;base64'\n",
       "        ) {\n",
       "            fig.imageObj.src = evt.data;\n",
       "            fig.updated_canvas_event();\n",
       "            fig.waiting = false;\n",
       "            return;\n",
       "        }\n",
       "\n",
       "        var msg = JSON.parse(evt.data);\n",
       "        var msg_type = msg['type'];\n",
       "\n",
       "        // Call the  \"handle_{type}\" callback, which takes\n",
       "        // the figure and JSON message as its only arguments.\n",
       "        try {\n",
       "            var callback = fig['handle_' + msg_type];\n",
       "        } catch (e) {\n",
       "            console.log(\n",
       "                \"No handler for the '\" + msg_type + \"' message type: \",\n",
       "                msg\n",
       "            );\n",
       "            return;\n",
       "        }\n",
       "\n",
       "        if (callback) {\n",
       "            try {\n",
       "                // console.log(\"Handling '\" + msg_type + \"' message: \", msg);\n",
       "                callback(fig, msg);\n",
       "            } catch (e) {\n",
       "                console.log(\n",
       "                    \"Exception inside the 'handler_\" + msg_type + \"' callback:\",\n",
       "                    e,\n",
       "                    e.stack,\n",
       "                    msg\n",
       "                );\n",
       "            }\n",
       "        }\n",
       "    };\n",
       "};\n",
       "\n",
       "// from http://stackoverflow.com/questions/1114465/getting-mouse-location-in-canvas\n",
       "mpl.findpos = function (e) {\n",
       "    //this section is from http://www.quirksmode.org/js/events_properties.html\n",
       "    var targ;\n",
       "    if (!e) {\n",
       "        e = window.event;\n",
       "    }\n",
       "    if (e.target) {\n",
       "        targ = e.target;\n",
       "    } else if (e.srcElement) {\n",
       "        targ = e.srcElement;\n",
       "    }\n",
       "    if (targ.nodeType === 3) {\n",
       "        // defeat Safari bug\n",
       "        targ = targ.parentNode;\n",
       "    }\n",
       "\n",
       "    // pageX,Y are the mouse positions relative to the document\n",
       "    var boundingRect = targ.getBoundingClientRect();\n",
       "    var x = e.pageX - (boundingRect.left + document.body.scrollLeft);\n",
       "    var y = e.pageY - (boundingRect.top + document.body.scrollTop);\n",
       "\n",
       "    return { x: x, y: y };\n",
       "};\n",
       "\n",
       "/*\n",
       " * return a copy of an object with only non-object keys\n",
       " * we need this to avoid circular references\n",
       " * http://stackoverflow.com/a/24161582/3208463\n",
       " */\n",
       "function simpleKeys(original) {\n",
       "    return Object.keys(original).reduce(function (obj, key) {\n",
       "        if (typeof original[key] !== 'object') {\n",
       "            obj[key] = original[key];\n",
       "        }\n",
       "        return obj;\n",
       "    }, {});\n",
       "}\n",
       "\n",
       "mpl.figure.prototype.mouse_event = function (event, name) {\n",
       "    var canvas_pos = mpl.findpos(event);\n",
       "\n",
       "    if (name === 'button_press') {\n",
       "        this.canvas.focus();\n",
       "        this.canvas_div.focus();\n",
       "    }\n",
       "\n",
       "    var x = canvas_pos.x * this.ratio;\n",
       "    var y = canvas_pos.y * this.ratio;\n",
       "\n",
       "    this.send_message(name, {\n",
       "        x: x,\n",
       "        y: y,\n",
       "        button: event.button,\n",
       "        step: event.step,\n",
       "        guiEvent: simpleKeys(event),\n",
       "    });\n",
       "\n",
       "    /* This prevents the web browser from automatically changing to\n",
       "     * the text insertion cursor when the button is pressed.  We want\n",
       "     * to control all of the cursor setting manually through the\n",
       "     * 'cursor' event from matplotlib */\n",
       "    event.preventDefault();\n",
       "    return false;\n",
       "};\n",
       "\n",
       "mpl.figure.prototype._key_event_extra = function (_event, _name) {\n",
       "    // Handle any extra behaviour associated with a key event\n",
       "};\n",
       "\n",
       "mpl.figure.prototype.key_event = function (event, name) {\n",
       "    // Prevent repeat events\n",
       "    if (name === 'key_press') {\n",
       "        if (event.which === this._key) {\n",
       "            return;\n",
       "        } else {\n",
       "            this._key = event.which;\n",
       "        }\n",
       "    }\n",
       "    if (name === 'key_release') {\n",
       "        this._key = null;\n",
       "    }\n",
       "\n",
       "    var value = '';\n",
       "    if (event.ctrlKey && event.which !== 17) {\n",
       "        value += 'ctrl+';\n",
       "    }\n",
       "    if (event.altKey && event.which !== 18) {\n",
       "        value += 'alt+';\n",
       "    }\n",
       "    if (event.shiftKey && event.which !== 16) {\n",
       "        value += 'shift+';\n",
       "    }\n",
       "\n",
       "    value += 'k';\n",
       "    value += event.which.toString();\n",
       "\n",
       "    this._key_event_extra(event, name);\n",
       "\n",
       "    this.send_message(name, { key: value, guiEvent: simpleKeys(event) });\n",
       "    return false;\n",
       "};\n",
       "\n",
       "mpl.figure.prototype.toolbar_button_onclick = function (name) {\n",
       "    if (name === 'download') {\n",
       "        this.handle_save(this, null);\n",
       "    } else {\n",
       "        this.send_message('toolbar_button', { name: name });\n",
       "    }\n",
       "};\n",
       "\n",
       "mpl.figure.prototype.toolbar_button_onmouseover = function (tooltip) {\n",
       "    this.message.textContent = tooltip;\n",
       "};\n",
       "mpl.toolbar_items = [[\"Home\", \"Reset original view\", \"fa fa-home icon-home\", \"home\"], [\"Back\", \"Back to previous view\", \"fa fa-arrow-left icon-arrow-left\", \"back\"], [\"Forward\", \"Forward to next view\", \"fa fa-arrow-right icon-arrow-right\", \"forward\"], [\"\", \"\", \"\", \"\"], [\"Pan\", \"Left button pans, Right button zooms\\nx/y fixes axis, CTRL fixes aspect\", \"fa fa-arrows icon-move\", \"pan\"], [\"Zoom\", \"Zoom to rectangle\\nx/y fixes axis, CTRL fixes aspect\", \"fa fa-square-o icon-check-empty\", \"zoom\"], [\"\", \"\", \"\", \"\"], [\"Download\", \"Download plot\", \"fa fa-floppy-o icon-save\", \"download\"]];\n",
       "\n",
       "mpl.extensions = [\"eps\", \"jpeg\", \"pdf\", \"png\", \"ps\", \"raw\", \"svg\", \"tif\"];\n",
       "\n",
       "mpl.default_extension = \"png\";/* global mpl */\n",
       "\n",
       "var comm_websocket_adapter = function (comm) {\n",
       "    // Create a \"websocket\"-like object which calls the given IPython comm\n",
       "    // object with the appropriate methods. Currently this is a non binary\n",
       "    // socket, so there is still some room for performance tuning.\n",
       "    var ws = {};\n",
       "\n",
       "    ws.close = function () {\n",
       "        comm.close();\n",
       "    };\n",
       "    ws.send = function (m) {\n",
       "        //console.log('sending', m);\n",
       "        comm.send(m);\n",
       "    };\n",
       "    // Register the callback with on_msg.\n",
       "    comm.on_msg(function (msg) {\n",
       "        //console.log('receiving', msg['content']['data'], msg);\n",
       "        // Pass the mpl event to the overridden (by mpl) onmessage function.\n",
       "        ws.onmessage(msg['content']['data']);\n",
       "    });\n",
       "    return ws;\n",
       "};\n",
       "\n",
       "mpl.mpl_figure_comm = function (comm, msg) {\n",
       "    // This is the function which gets called when the mpl process\n",
       "    // starts-up an IPython Comm through the \"matplotlib\" channel.\n",
       "\n",
       "    var id = msg.content.data.id;\n",
       "    // Get hold of the div created by the display call when the Comm\n",
       "    // socket was opened in Python.\n",
       "    var element = document.getElementById(id);\n",
       "    var ws_proxy = comm_websocket_adapter(comm);\n",
       "\n",
       "    function ondownload(figure, _format) {\n",
       "        window.open(figure.canvas.toDataURL());\n",
       "    }\n",
       "\n",
       "    var fig = new mpl.figure(id, ws_proxy, ondownload, element);\n",
       "\n",
       "    // Call onopen now - mpl needs it, as it is assuming we've passed it a real\n",
       "    // web socket which is closed, not our websocket->open comm proxy.\n",
       "    ws_proxy.onopen();\n",
       "\n",
       "    fig.parent_element = element;\n",
       "    fig.cell_info = mpl.find_output_cell(\"<div id='\" + id + \"'></div>\");\n",
       "    if (!fig.cell_info) {\n",
       "        console.error('Failed to find cell for figure', id, fig);\n",
       "        return;\n",
       "    }\n",
       "    fig.cell_info[0].output_area.element.one(\n",
       "        'cleared',\n",
       "        { fig: fig },\n",
       "        fig._remove_fig_handler\n",
       "    );\n",
       "};\n",
       "\n",
       "mpl.figure.prototype.handle_close = function (fig, msg) {\n",
       "    var width = fig.canvas.width / fig.ratio;\n",
       "    fig.cell_info[0].output_area.element.off(\n",
       "        'cleared',\n",
       "        fig._remove_fig_handler\n",
       "    );\n",
       "\n",
       "    // Update the output cell to use the data from the current canvas.\n",
       "    fig.push_to_output();\n",
       "    var dataURL = fig.canvas.toDataURL();\n",
       "    // Re-enable the keyboard manager in IPython - without this line, in FF,\n",
       "    // the notebook keyboard shortcuts fail.\n",
       "    IPython.keyboard_manager.enable();\n",
       "    fig.parent_element.innerHTML =\n",
       "        '<img src=\"' + dataURL + '\" width=\"' + width + '\">';\n",
       "    fig.close_ws(fig, msg);\n",
       "};\n",
       "\n",
       "mpl.figure.prototype.close_ws = function (fig, msg) {\n",
       "    fig.send_message('closing', msg);\n",
       "    // fig.ws.close()\n",
       "};\n",
       "\n",
       "mpl.figure.prototype.push_to_output = function (_remove_interactive) {\n",
       "    // Turn the data on the canvas into data in the output cell.\n",
       "    var width = this.canvas.width / this.ratio;\n",
       "    var dataURL = this.canvas.toDataURL();\n",
       "    this.cell_info[1]['text/html'] =\n",
       "        '<img src=\"' + dataURL + '\" width=\"' + width + '\">';\n",
       "};\n",
       "\n",
       "mpl.figure.prototype.updated_canvas_event = function () {\n",
       "    // Tell IPython that the notebook contents must change.\n",
       "    IPython.notebook.set_dirty(true);\n",
       "    this.send_message('ack', {});\n",
       "    var fig = this;\n",
       "    // Wait a second, then push the new image to the DOM so\n",
       "    // that it is saved nicely (might be nice to debounce this).\n",
       "    setTimeout(function () {\n",
       "        fig.push_to_output();\n",
       "    }, 1000);\n",
       "};\n",
       "\n",
       "mpl.figure.prototype._init_toolbar = function () {\n",
       "    var fig = this;\n",
       "\n",
       "    var toolbar = document.createElement('div');\n",
       "    toolbar.classList = 'btn-toolbar';\n",
       "    this.root.appendChild(toolbar);\n",
       "\n",
       "    function on_click_closure(name) {\n",
       "        return function (_event) {\n",
       "            return fig.toolbar_button_onclick(name);\n",
       "        };\n",
       "    }\n",
       "\n",
       "    function on_mouseover_closure(tooltip) {\n",
       "        return function (event) {\n",
       "            if (!event.currentTarget.disabled) {\n",
       "                return fig.toolbar_button_onmouseover(tooltip);\n",
       "            }\n",
       "        };\n",
       "    }\n",
       "\n",
       "    fig.buttons = {};\n",
       "    var buttonGroup = document.createElement('div');\n",
       "    buttonGroup.classList = 'btn-group';\n",
       "    var button;\n",
       "    for (var toolbar_ind in mpl.toolbar_items) {\n",
       "        var name = mpl.toolbar_items[toolbar_ind][0];\n",
       "        var tooltip = mpl.toolbar_items[toolbar_ind][1];\n",
       "        var image = mpl.toolbar_items[toolbar_ind][2];\n",
       "        var method_name = mpl.toolbar_items[toolbar_ind][3];\n",
       "\n",
       "        if (!name) {\n",
       "            /* Instead of a spacer, we start a new button group. */\n",
       "            if (buttonGroup.hasChildNodes()) {\n",
       "                toolbar.appendChild(buttonGroup);\n",
       "            }\n",
       "            buttonGroup = document.createElement('div');\n",
       "            buttonGroup.classList = 'btn-group';\n",
       "            continue;\n",
       "        }\n",
       "\n",
       "        button = fig.buttons[name] = document.createElement('button');\n",
       "        button.classList = 'btn btn-default';\n",
       "        button.href = '#';\n",
       "        button.title = name;\n",
       "        button.innerHTML = '<i class=\"fa ' + image + ' fa-lg\"></i>';\n",
       "        button.addEventListener('click', on_click_closure(method_name));\n",
       "        button.addEventListener('mouseover', on_mouseover_closure(tooltip));\n",
       "        buttonGroup.appendChild(button);\n",
       "    }\n",
       "\n",
       "    if (buttonGroup.hasChildNodes()) {\n",
       "        toolbar.appendChild(buttonGroup);\n",
       "    }\n",
       "\n",
       "    // Add the status bar.\n",
       "    var status_bar = document.createElement('span');\n",
       "    status_bar.classList = 'mpl-message pull-right';\n",
       "    toolbar.appendChild(status_bar);\n",
       "    this.message = status_bar;\n",
       "\n",
       "    // Add the close button to the window.\n",
       "    var buttongrp = document.createElement('div');\n",
       "    buttongrp.classList = 'btn-group inline pull-right';\n",
       "    button = document.createElement('button');\n",
       "    button.classList = 'btn btn-mini btn-primary';\n",
       "    button.href = '#';\n",
       "    button.title = 'Stop Interaction';\n",
       "    button.innerHTML = '<i class=\"fa fa-power-off icon-remove icon-large\"></i>';\n",
       "    button.addEventListener('click', function (_evt) {\n",
       "        fig.handle_close(fig, {});\n",
       "    });\n",
       "    button.addEventListener(\n",
       "        'mouseover',\n",
       "        on_mouseover_closure('Stop Interaction')\n",
       "    );\n",
       "    buttongrp.appendChild(button);\n",
       "    var titlebar = this.root.querySelector('.ui-dialog-titlebar');\n",
       "    titlebar.insertBefore(buttongrp, titlebar.firstChild);\n",
       "};\n",
       "\n",
       "mpl.figure.prototype._remove_fig_handler = function (event) {\n",
       "    var fig = event.data.fig;\n",
       "    fig.close_ws(fig, {});\n",
       "};\n",
       "\n",
       "mpl.figure.prototype._root_extra_style = function (el) {\n",
       "    el.style.boxSizing = 'content-box'; // override notebook setting of border-box.\n",
       "};\n",
       "\n",
       "mpl.figure.prototype._canvas_extra_style = function (el) {\n",
       "    // this is important to make the div 'focusable\n",
       "    el.setAttribute('tabindex', 0);\n",
       "    // reach out to IPython and tell the keyboard manager to turn it's self\n",
       "    // off when our div gets focus\n",
       "\n",
       "    // location in version 3\n",
       "    if (IPython.notebook.keyboard_manager) {\n",
       "        IPython.notebook.keyboard_manager.register_events(el);\n",
       "    } else {\n",
       "        // location in version 2\n",
       "        IPython.keyboard_manager.register_events(el);\n",
       "    }\n",
       "};\n",
       "\n",
       "mpl.figure.prototype._key_event_extra = function (event, _name) {\n",
       "    var manager = IPython.notebook.keyboard_manager;\n",
       "    if (!manager) {\n",
       "        manager = IPython.keyboard_manager;\n",
       "    }\n",
       "\n",
       "    // Check for shift+enter\n",
       "    if (event.shiftKey && event.which === 13) {\n",
       "        this.canvas_div.blur();\n",
       "        // select the cell after this one\n",
       "        var index = IPython.notebook.find_cell_index(this.cell_info[0]);\n",
       "        IPython.notebook.select(index + 1);\n",
       "    }\n",
       "};\n",
       "\n",
       "mpl.figure.prototype.handle_save = function (fig, _msg) {\n",
       "    fig.ondownload(fig, null);\n",
       "};\n",
       "\n",
       "mpl.find_output_cell = function (html_output) {\n",
       "    // Return the cell and output element which can be found *uniquely* in the notebook.\n",
       "    // Note - this is a bit hacky, but it is done because the \"notebook_saving.Notebook\"\n",
       "    // IPython event is triggered only after the cells have been serialised, which for\n",
       "    // our purposes (turning an active figure into a static one), is too late.\n",
       "    var cells = IPython.notebook.get_cells();\n",
       "    var ncells = cells.length;\n",
       "    for (var i = 0; i < ncells; i++) {\n",
       "        var cell = cells[i];\n",
       "        if (cell.cell_type === 'code') {\n",
       "            for (var j = 0; j < cell.output_area.outputs.length; j++) {\n",
       "                var data = cell.output_area.outputs[j];\n",
       "                if (data.data) {\n",
       "                    // IPython >= 3 moved mimebundle to data attribute of output\n",
       "                    data = data.data;\n",
       "                }\n",
       "                if (data['text/html'] === html_output) {\n",
       "                    return [cell, data, j];\n",
       "                }\n",
       "            }\n",
       "        }\n",
       "    }\n",
       "};\n",
       "\n",
       "// Register the function which deals with the matplotlib target/channel.\n",
       "// The kernel may be null if the page has been refreshed.\n",
       "if (IPython.notebook.kernel !== null) {\n",
       "    IPython.notebook.kernel.comm_manager.register_target(\n",
       "        'matplotlib',\n",
       "        mpl.mpl_figure_comm\n",
       "    );\n",
       "}\n"
      ],
      "text/plain": [
       "<IPython.core.display.Javascript object>"
      ]
     },
     "metadata": {},
     "output_type": "display_data"
    },
    {
     "data": {
      "text/html": [
       "<img src=\"data:image/png;base64,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\" width=\"800\">"
      ],
      "text/plain": [
       "<IPython.core.display.HTML object>"
      ]
     },
     "metadata": {},
     "output_type": "display_data"
    }
   ],
   "source": [
    "plot_ax = create_plot(df_2D)"
   ]
  },
  {
   "cell_type": "markdown",
   "metadata": {},
   "source": [
    "##  Selected Points Details\n",
    "Click the **Print** button below to display detailed data values of the points selected in the DR plot.  The selected points are Green."
   ]
  },
  {
   "cell_type": "code",
   "execution_count": 19,
   "metadata": {
    "scrolled": false
   },
   "outputs": [
    {
     "data": {
      "application/vnd.jupyter.widget-view+json": {
       "model_id": "6cd296a306d640fa9ccf3b186c69f433",
       "version_major": 2,
       "version_minor": 0
      },
      "text/plain": [
       "Button(description='Print selected points', style=ButtonStyle())"
      ]
     },
     "metadata": {},
     "output_type": "display_data"
    },
    {
     "data": {
      "application/vnd.jupyter.widget-view+json": {
       "model_id": "301e9cea031b41ddb9fbdbc1a9eae535",
       "version_major": 2,
       "version_minor": 0
      },
      "text/plain": [
       "Output()"
      ]
     },
     "metadata": {},
     "output_type": "display_data"
    }
   ],
   "source": [
    "dod = create_detail_display()"
   ]
  },
  {
   "cell_type": "markdown",
   "metadata": {},
   "source": [
    "## Inverse Dimension Reduction\n",
    "After selecting and/or dragging some points in the DR plot, click the **Learn** button to machine learn new dimension weights that would produce a plot with similar pairwise distances as your plot.  **Only the Green selected points** in the plot are considered when learning new weights. You must select or move at least two points to specify new desired distances. Use this to create your own clusters, and find out what makes some data points similar to or different from others.  The **learned weights** are shown in a bar chart below.\n",
    "\n",
    "To see the effects of the learned weights, click the **Copy** button to apply the learned weights to the sliders and  make a new DR plot above."
   ]
  },
  {
   "cell_type": "code",
   "execution_count": 20,
   "metadata": {
    "scrolled": false
   },
   "outputs": [
    {
     "data": {
      "application/vnd.jupyter.widget-view+json": {
       "model_id": "e9392ababaee4109a137d0587781df11",
       "version_major": 2,
       "version_minor": 0
      },
      "text/plain": [
       "Button(description='Learn New Weights', style=ButtonStyle())"
      ]
     },
     "metadata": {},
     "output_type": "display_data"
    },
    {
     "data": {
      "application/vnd.jupyter.widget-view+json": {
       "model_id": "905b609afaf84ad1ae5682dcd9161060",
       "version_major": 2,
       "version_minor": 0
      },
      "text/plain": [
       "Button(description='Copy to Sliders', style=ButtonStyle())"
      ]
     },
     "metadata": {},
     "output_type": "display_data"
    },
    {
     "data": {
      "application/javascript": [
       "/* Put everything inside the global mpl namespace */\n",
       "/* global mpl */\n",
       "window.mpl = {};\n",
       "\n",
       "mpl.get_websocket_type = function () {\n",
       "    if (typeof WebSocket !== 'undefined') {\n",
       "        return WebSocket;\n",
       "    } else if (typeof MozWebSocket !== 'undefined') {\n",
       "        return MozWebSocket;\n",
       "    } else {\n",
       "        alert(\n",
       "            'Your browser does not have WebSocket support. ' +\n",
       "                'Please try Chrome, Safari or Firefox ≥ 6. ' +\n",
       "                'Firefox 4 and 5 are also supported but you ' +\n",
       "                'have to enable WebSockets in about:config.'\n",
       "        );\n",
       "    }\n",
       "};\n",
       "\n",
       "mpl.figure = function (figure_id, websocket, ondownload, parent_element) {\n",
       "    this.id = figure_id;\n",
       "\n",
       "    this.ws = websocket;\n",
       "\n",
       "    this.supports_binary = this.ws.binaryType !== undefined;\n",
       "\n",
       "    if (!this.supports_binary) {\n",
       "        var warnings = document.getElementById('mpl-warnings');\n",
       "        if (warnings) {\n",
       "            warnings.style.display = 'block';\n",
       "            warnings.textContent =\n",
       "                'This browser does not support binary websocket messages. ' +\n",
       "                'Performance may be slow.';\n",
       "        }\n",
       "    }\n",
       "\n",
       "    this.imageObj = new Image();\n",
       "\n",
       "    this.context = undefined;\n",
       "    this.message = undefined;\n",
       "    this.canvas = undefined;\n",
       "    this.rubberband_canvas = undefined;\n",
       "    this.rubberband_context = undefined;\n",
       "    this.format_dropdown = undefined;\n",
       "\n",
       "    this.image_mode = 'full';\n",
       "\n",
       "    this.root = document.createElement('div');\n",
       "    this.root.setAttribute('style', 'display: inline-block');\n",
       "    this._root_extra_style(this.root);\n",
       "\n",
       "    parent_element.appendChild(this.root);\n",
       "\n",
       "    this._init_header(this);\n",
       "    this._init_canvas(this);\n",
       "    this._init_toolbar(this);\n",
       "\n",
       "    var fig = this;\n",
       "\n",
       "    this.waiting = false;\n",
       "\n",
       "    this.ws.onopen = function () {\n",
       "        fig.send_message('supports_binary', { value: fig.supports_binary });\n",
       "        fig.send_message('send_image_mode', {});\n",
       "        if (fig.ratio !== 1) {\n",
       "            fig.send_message('set_dpi_ratio', { dpi_ratio: fig.ratio });\n",
       "        }\n",
       "        fig.send_message('refresh', {});\n",
       "    };\n",
       "\n",
       "    this.imageObj.onload = function () {\n",
       "        if (fig.image_mode === 'full') {\n",
       "            // Full images could contain transparency (where diff images\n",
       "            // almost always do), so we need to clear the canvas so that\n",
       "            // there is no ghosting.\n",
       "            fig.context.clearRect(0, 0, fig.canvas.width, fig.canvas.height);\n",
       "        }\n",
       "        fig.context.drawImage(fig.imageObj, 0, 0);\n",
       "    };\n",
       "\n",
       "    this.imageObj.onunload = function () {\n",
       "        fig.ws.close();\n",
       "    };\n",
       "\n",
       "    this.ws.onmessage = this._make_on_message_function(this);\n",
       "\n",
       "    this.ondownload = ondownload;\n",
       "};\n",
       "\n",
       "mpl.figure.prototype._init_header = function () {\n",
       "    var titlebar = document.createElement('div');\n",
       "    titlebar.classList =\n",
       "        'ui-dialog-titlebar ui-widget-header ui-corner-all ui-helper-clearfix';\n",
       "    var titletext = document.createElement('div');\n",
       "    titletext.classList = 'ui-dialog-title';\n",
       "    titletext.setAttribute(\n",
       "        'style',\n",
       "        'width: 100%; text-align: center; padding: 3px;'\n",
       "    );\n",
       "    titlebar.appendChild(titletext);\n",
       "    this.root.appendChild(titlebar);\n",
       "    this.header = titletext;\n",
       "};\n",
       "\n",
       "mpl.figure.prototype._canvas_extra_style = function (_canvas_div) {};\n",
       "\n",
       "mpl.figure.prototype._root_extra_style = function (_canvas_div) {};\n",
       "\n",
       "mpl.figure.prototype._init_canvas = function () {\n",
       "    var fig = this;\n",
       "\n",
       "    var canvas_div = (this.canvas_div = document.createElement('div'));\n",
       "    canvas_div.setAttribute(\n",
       "        'style',\n",
       "        'border: 1px solid #ddd;' +\n",
       "            'box-sizing: content-box;' +\n",
       "            'clear: both;' +\n",
       "            'min-height: 1px;' +\n",
       "            'min-width: 1px;' +\n",
       "            'outline: 0;' +\n",
       "            'overflow: hidden;' +\n",
       "            'position: relative;' +\n",
       "            'resize: both;'\n",
       "    );\n",
       "\n",
       "    function on_keyboard_event_closure(name) {\n",
       "        return function (event) {\n",
       "            return fig.key_event(event, name);\n",
       "        };\n",
       "    }\n",
       "\n",
       "    canvas_div.addEventListener(\n",
       "        'keydown',\n",
       "        on_keyboard_event_closure('key_press')\n",
       "    );\n",
       "    canvas_div.addEventListener(\n",
       "        'keyup',\n",
       "        on_keyboard_event_closure('key_release')\n",
       "    );\n",
       "\n",
       "    this._canvas_extra_style(canvas_div);\n",
       "    this.root.appendChild(canvas_div);\n",
       "\n",
       "    var canvas = (this.canvas = document.createElement('canvas'));\n",
       "    canvas.classList.add('mpl-canvas');\n",
       "    canvas.setAttribute('style', 'box-sizing: content-box;');\n",
       "\n",
       "    this.context = canvas.getContext('2d');\n",
       "\n",
       "    var backingStore =\n",
       "        this.context.backingStorePixelRatio ||\n",
       "        this.context.webkitBackingStorePixelRatio ||\n",
       "        this.context.mozBackingStorePixelRatio ||\n",
       "        this.context.msBackingStorePixelRatio ||\n",
       "        this.context.oBackingStorePixelRatio ||\n",
       "        this.context.backingStorePixelRatio ||\n",
       "        1;\n",
       "\n",
       "    this.ratio = (window.devicePixelRatio || 1) / backingStore;\n",
       "    if (this.ratio !== 1) {\n",
       "        fig.send_message('set_dpi_ratio', { dpi_ratio: this.ratio });\n",
       "    }\n",
       "\n",
       "    var rubberband_canvas = (this.rubberband_canvas = document.createElement(\n",
       "        'canvas'\n",
       "    ));\n",
       "    rubberband_canvas.setAttribute(\n",
       "        'style',\n",
       "        'box-sizing: content-box; position: absolute; left: 0; top: 0; z-index: 1;'\n",
       "    );\n",
       "\n",
       "    var resizeObserver = new ResizeObserver(function (entries) {\n",
       "        var nentries = entries.length;\n",
       "        for (var i = 0; i < nentries; i++) {\n",
       "            var entry = entries[i];\n",
       "            var width, height;\n",
       "            if (entry.contentBoxSize) {\n",
       "                if (entry.contentBoxSize instanceof Array) {\n",
       "                    // Chrome 84 implements new version of spec.\n",
       "                    width = entry.contentBoxSize[0].inlineSize;\n",
       "                    height = entry.contentBoxSize[0].blockSize;\n",
       "                } else {\n",
       "                    // Firefox implements old version of spec.\n",
       "                    width = entry.contentBoxSize.inlineSize;\n",
       "                    height = entry.contentBoxSize.blockSize;\n",
       "                }\n",
       "            } else {\n",
       "                // Chrome <84 implements even older version of spec.\n",
       "                width = entry.contentRect.width;\n",
       "                height = entry.contentRect.height;\n",
       "            }\n",
       "\n",
       "            // Keep the size of the canvas and rubber band canvas in sync with\n",
       "            // the canvas container.\n",
       "            if (entry.devicePixelContentBoxSize) {\n",
       "                // Chrome 84 implements new version of spec.\n",
       "                canvas.setAttribute(\n",
       "                    'width',\n",
       "                    entry.devicePixelContentBoxSize[0].inlineSize\n",
       "                );\n",
       "                canvas.setAttribute(\n",
       "                    'height',\n",
       "                    entry.devicePixelContentBoxSize[0].blockSize\n",
       "                );\n",
       "            } else {\n",
       "                canvas.setAttribute('width', width * fig.ratio);\n",
       "                canvas.setAttribute('height', height * fig.ratio);\n",
       "            }\n",
       "            canvas.setAttribute(\n",
       "                'style',\n",
       "                'width: ' + width + 'px; height: ' + height + 'px;'\n",
       "            );\n",
       "\n",
       "            rubberband_canvas.setAttribute('width', width);\n",
       "            rubberband_canvas.setAttribute('height', height);\n",
       "\n",
       "            // And update the size in Python. We ignore the initial 0/0 size\n",
       "            // that occurs as the element is placed into the DOM, which should\n",
       "            // otherwise not happen due to the minimum size styling.\n",
       "            if (width != 0 && height != 0) {\n",
       "                fig.request_resize(width, height);\n",
       "            }\n",
       "        }\n",
       "    });\n",
       "    resizeObserver.observe(canvas_div);\n",
       "\n",
       "    function on_mouse_event_closure(name) {\n",
       "        return function (event) {\n",
       "            return fig.mouse_event(event, name);\n",
       "        };\n",
       "    }\n",
       "\n",
       "    rubberband_canvas.addEventListener(\n",
       "        'mousedown',\n",
       "        on_mouse_event_closure('button_press')\n",
       "    );\n",
       "    rubberband_canvas.addEventListener(\n",
       "        'mouseup',\n",
       "        on_mouse_event_closure('button_release')\n",
       "    );\n",
       "    // Throttle sequential mouse events to 1 every 20ms.\n",
       "    rubberband_canvas.addEventListener(\n",
       "        'mousemove',\n",
       "        on_mouse_event_closure('motion_notify')\n",
       "    );\n",
       "\n",
       "    rubberband_canvas.addEventListener(\n",
       "        'mouseenter',\n",
       "        on_mouse_event_closure('figure_enter')\n",
       "    );\n",
       "    rubberband_canvas.addEventListener(\n",
       "        'mouseleave',\n",
       "        on_mouse_event_closure('figure_leave')\n",
       "    );\n",
       "\n",
       "    canvas_div.addEventListener('wheel', function (event) {\n",
       "        if (event.deltaY < 0) {\n",
       "            event.step = 1;\n",
       "        } else {\n",
       "            event.step = -1;\n",
       "        }\n",
       "        on_mouse_event_closure('scroll')(event);\n",
       "    });\n",
       "\n",
       "    canvas_div.appendChild(canvas);\n",
       "    canvas_div.appendChild(rubberband_canvas);\n",
       "\n",
       "    this.rubberband_context = rubberband_canvas.getContext('2d');\n",
       "    this.rubberband_context.strokeStyle = '#000000';\n",
       "\n",
       "    this._resize_canvas = function (width, height, forward) {\n",
       "        if (forward) {\n",
       "            canvas_div.style.width = width + 'px';\n",
       "            canvas_div.style.height = height + 'px';\n",
       "        }\n",
       "    };\n",
       "\n",
       "    // Disable right mouse context menu.\n",
       "    this.rubberband_canvas.addEventListener('contextmenu', function (_e) {\n",
       "        event.preventDefault();\n",
       "        return false;\n",
       "    });\n",
       "\n",
       "    function set_focus() {\n",
       "        canvas.focus();\n",
       "        canvas_div.focus();\n",
       "    }\n",
       "\n",
       "    window.setTimeout(set_focus, 100);\n",
       "};\n",
       "\n",
       "mpl.figure.prototype._init_toolbar = function () {\n",
       "    var fig = this;\n",
       "\n",
       "    var toolbar = document.createElement('div');\n",
       "    toolbar.classList = 'mpl-toolbar';\n",
       "    this.root.appendChild(toolbar);\n",
       "\n",
       "    function on_click_closure(name) {\n",
       "        return function (_event) {\n",
       "            return fig.toolbar_button_onclick(name);\n",
       "        };\n",
       "    }\n",
       "\n",
       "    function on_mouseover_closure(tooltip) {\n",
       "        return function (event) {\n",
       "            if (!event.currentTarget.disabled) {\n",
       "                return fig.toolbar_button_onmouseover(tooltip);\n",
       "            }\n",
       "        };\n",
       "    }\n",
       "\n",
       "    fig.buttons = {};\n",
       "    var buttonGroup = document.createElement('div');\n",
       "    buttonGroup.classList = 'mpl-button-group';\n",
       "    for (var toolbar_ind in mpl.toolbar_items) {\n",
       "        var name = mpl.toolbar_items[toolbar_ind][0];\n",
       "        var tooltip = mpl.toolbar_items[toolbar_ind][1];\n",
       "        var image = mpl.toolbar_items[toolbar_ind][2];\n",
       "        var method_name = mpl.toolbar_items[toolbar_ind][3];\n",
       "\n",
       "        if (!name) {\n",
       "            /* Instead of a spacer, we start a new button group. */\n",
       "            if (buttonGroup.hasChildNodes()) {\n",
       "                toolbar.appendChild(buttonGroup);\n",
       "            }\n",
       "            buttonGroup = document.createElement('div');\n",
       "            buttonGroup.classList = 'mpl-button-group';\n",
       "            continue;\n",
       "        }\n",
       "\n",
       "        var button = (fig.buttons[name] = document.createElement('button'));\n",
       "        button.classList = 'mpl-widget';\n",
       "        button.setAttribute('role', 'button');\n",
       "        button.setAttribute('aria-disabled', 'false');\n",
       "        button.addEventListener('click', on_click_closure(method_name));\n",
       "        button.addEventListener('mouseover', on_mouseover_closure(tooltip));\n",
       "\n",
       "        var icon_img = document.createElement('img');\n",
       "        icon_img.src = '_images/' + image + '.png';\n",
       "        icon_img.srcset = '_images/' + image + '_large.png 2x';\n",
       "        icon_img.alt = tooltip;\n",
       "        button.appendChild(icon_img);\n",
       "\n",
       "        buttonGroup.appendChild(button);\n",
       "    }\n",
       "\n",
       "    if (buttonGroup.hasChildNodes()) {\n",
       "        toolbar.appendChild(buttonGroup);\n",
       "    }\n",
       "\n",
       "    var fmt_picker = document.createElement('select');\n",
       "    fmt_picker.classList = 'mpl-widget';\n",
       "    toolbar.appendChild(fmt_picker);\n",
       "    this.format_dropdown = fmt_picker;\n",
       "\n",
       "    for (var ind in mpl.extensions) {\n",
       "        var fmt = mpl.extensions[ind];\n",
       "        var option = document.createElement('option');\n",
       "        option.selected = fmt === mpl.default_extension;\n",
       "        option.innerHTML = fmt;\n",
       "        fmt_picker.appendChild(option);\n",
       "    }\n",
       "\n",
       "    var status_bar = document.createElement('span');\n",
       "    status_bar.classList = 'mpl-message';\n",
       "    toolbar.appendChild(status_bar);\n",
       "    this.message = status_bar;\n",
       "};\n",
       "\n",
       "mpl.figure.prototype.request_resize = function (x_pixels, y_pixels) {\n",
       "    // Request matplotlib to resize the figure. Matplotlib will then trigger a resize in the client,\n",
       "    // which will in turn request a refresh of the image.\n",
       "    this.send_message('resize', { width: x_pixels, height: y_pixels });\n",
       "};\n",
       "\n",
       "mpl.figure.prototype.send_message = function (type, properties) {\n",
       "    properties['type'] = type;\n",
       "    properties['figure_id'] = this.id;\n",
       "    this.ws.send(JSON.stringify(properties));\n",
       "};\n",
       "\n",
       "mpl.figure.prototype.send_draw_message = function () {\n",
       "    if (!this.waiting) {\n",
       "        this.waiting = true;\n",
       "        this.ws.send(JSON.stringify({ type: 'draw', figure_id: this.id }));\n",
       "    }\n",
       "};\n",
       "\n",
       "mpl.figure.prototype.handle_save = function (fig, _msg) {\n",
       "    var format_dropdown = fig.format_dropdown;\n",
       "    var format = format_dropdown.options[format_dropdown.selectedIndex].value;\n",
       "    fig.ondownload(fig, format);\n",
       "};\n",
       "\n",
       "mpl.figure.prototype.handle_resize = function (fig, msg) {\n",
       "    var size = msg['size'];\n",
       "    if (size[0] !== fig.canvas.width || size[1] !== fig.canvas.height) {\n",
       "        fig._resize_canvas(size[0], size[1], msg['forward']);\n",
       "        fig.send_message('refresh', {});\n",
       "    }\n",
       "};\n",
       "\n",
       "mpl.figure.prototype.handle_rubberband = function (fig, msg) {\n",
       "    var x0 = msg['x0'] / fig.ratio;\n",
       "    var y0 = (fig.canvas.height - msg['y0']) / fig.ratio;\n",
       "    var x1 = msg['x1'] / fig.ratio;\n",
       "    var y1 = (fig.canvas.height - msg['y1']) / fig.ratio;\n",
       "    x0 = Math.floor(x0) + 0.5;\n",
       "    y0 = Math.floor(y0) + 0.5;\n",
       "    x1 = Math.floor(x1) + 0.5;\n",
       "    y1 = Math.floor(y1) + 0.5;\n",
       "    var min_x = Math.min(x0, x1);\n",
       "    var min_y = Math.min(y0, y1);\n",
       "    var width = Math.abs(x1 - x0);\n",
       "    var height = Math.abs(y1 - y0);\n",
       "\n",
       "    fig.rubberband_context.clearRect(\n",
       "        0,\n",
       "        0,\n",
       "        fig.canvas.width / fig.ratio,\n",
       "        fig.canvas.height / fig.ratio\n",
       "    );\n",
       "\n",
       "    fig.rubberband_context.strokeRect(min_x, min_y, width, height);\n",
       "};\n",
       "\n",
       "mpl.figure.prototype.handle_figure_label = function (fig, msg) {\n",
       "    // Updates the figure title.\n",
       "    fig.header.textContent = msg['label'];\n",
       "};\n",
       "\n",
       "mpl.figure.prototype.handle_cursor = function (fig, msg) {\n",
       "    var cursor = msg['cursor'];\n",
       "    switch (cursor) {\n",
       "        case 0:\n",
       "            cursor = 'pointer';\n",
       "            break;\n",
       "        case 1:\n",
       "            cursor = 'default';\n",
       "            break;\n",
       "        case 2:\n",
       "            cursor = 'crosshair';\n",
       "            break;\n",
       "        case 3:\n",
       "            cursor = 'move';\n",
       "            break;\n",
       "    }\n",
       "    fig.rubberband_canvas.style.cursor = cursor;\n",
       "};\n",
       "\n",
       "mpl.figure.prototype.handle_message = function (fig, msg) {\n",
       "    fig.message.textContent = msg['message'];\n",
       "};\n",
       "\n",
       "mpl.figure.prototype.handle_draw = function (fig, _msg) {\n",
       "    // Request the server to send over a new figure.\n",
       "    fig.send_draw_message();\n",
       "};\n",
       "\n",
       "mpl.figure.prototype.handle_image_mode = function (fig, msg) {\n",
       "    fig.image_mode = msg['mode'];\n",
       "};\n",
       "\n",
       "mpl.figure.prototype.handle_history_buttons = function (fig, msg) {\n",
       "    for (var key in msg) {\n",
       "        if (!(key in fig.buttons)) {\n",
       "            continue;\n",
       "        }\n",
       "        fig.buttons[key].disabled = !msg[key];\n",
       "        fig.buttons[key].setAttribute('aria-disabled', !msg[key]);\n",
       "    }\n",
       "};\n",
       "\n",
       "mpl.figure.prototype.handle_navigate_mode = function (fig, msg) {\n",
       "    if (msg['mode'] === 'PAN') {\n",
       "        fig.buttons['Pan'].classList.add('active');\n",
       "        fig.buttons['Zoom'].classList.remove('active');\n",
       "    } else if (msg['mode'] === 'ZOOM') {\n",
       "        fig.buttons['Pan'].classList.remove('active');\n",
       "        fig.buttons['Zoom'].classList.add('active');\n",
       "    } else {\n",
       "        fig.buttons['Pan'].classList.remove('active');\n",
       "        fig.buttons['Zoom'].classList.remove('active');\n",
       "    }\n",
       "};\n",
       "\n",
       "mpl.figure.prototype.updated_canvas_event = function () {\n",
       "    // Called whenever the canvas gets updated.\n",
       "    this.send_message('ack', {});\n",
       "};\n",
       "\n",
       "// A function to construct a web socket function for onmessage handling.\n",
       "// Called in the figure constructor.\n",
       "mpl.figure.prototype._make_on_message_function = function (fig) {\n",
       "    return function socket_on_message(evt) {\n",
       "        if (evt.data instanceof Blob) {\n",
       "            /* FIXME: We get \"Resource interpreted as Image but\n",
       "             * transferred with MIME type text/plain:\" errors on\n",
       "             * Chrome.  But how to set the MIME type?  It doesn't seem\n",
       "             * to be part of the websocket stream */\n",
       "            evt.data.type = 'image/png';\n",
       "\n",
       "            /* Free the memory for the previous frames */\n",
       "            if (fig.imageObj.src) {\n",
       "                (window.URL || window.webkitURL).revokeObjectURL(\n",
       "                    fig.imageObj.src\n",
       "                );\n",
       "            }\n",
       "\n",
       "            fig.imageObj.src = (window.URL || window.webkitURL).createObjectURL(\n",
       "                evt.data\n",
       "            );\n",
       "            fig.updated_canvas_event();\n",
       "            fig.waiting = false;\n",
       "            return;\n",
       "        } else if (\n",
       "            typeof evt.data === 'string' &&\n",
       "            evt.data.slice(0, 21) === 'data:image/png;base64'\n",
       "        ) {\n",
       "            fig.imageObj.src = evt.data;\n",
       "            fig.updated_canvas_event();\n",
       "            fig.waiting = false;\n",
       "            return;\n",
       "        }\n",
       "\n",
       "        var msg = JSON.parse(evt.data);\n",
       "        var msg_type = msg['type'];\n",
       "\n",
       "        // Call the  \"handle_{type}\" callback, which takes\n",
       "        // the figure and JSON message as its only arguments.\n",
       "        try {\n",
       "            var callback = fig['handle_' + msg_type];\n",
       "        } catch (e) {\n",
       "            console.log(\n",
       "                \"No handler for the '\" + msg_type + \"' message type: \",\n",
       "                msg\n",
       "            );\n",
       "            return;\n",
       "        }\n",
       "\n",
       "        if (callback) {\n",
       "            try {\n",
       "                // console.log(\"Handling '\" + msg_type + \"' message: \", msg);\n",
       "                callback(fig, msg);\n",
       "            } catch (e) {\n",
       "                console.log(\n",
       "                    \"Exception inside the 'handler_\" + msg_type + \"' callback:\",\n",
       "                    e,\n",
       "                    e.stack,\n",
       "                    msg\n",
       "                );\n",
       "            }\n",
       "        }\n",
       "    };\n",
       "};\n",
       "\n",
       "// from http://stackoverflow.com/questions/1114465/getting-mouse-location-in-canvas\n",
       "mpl.findpos = function (e) {\n",
       "    //this section is from http://www.quirksmode.org/js/events_properties.html\n",
       "    var targ;\n",
       "    if (!e) {\n",
       "        e = window.event;\n",
       "    }\n",
       "    if (e.target) {\n",
       "        targ = e.target;\n",
       "    } else if (e.srcElement) {\n",
       "        targ = e.srcElement;\n",
       "    }\n",
       "    if (targ.nodeType === 3) {\n",
       "        // defeat Safari bug\n",
       "        targ = targ.parentNode;\n",
       "    }\n",
       "\n",
       "    // pageX,Y are the mouse positions relative to the document\n",
       "    var boundingRect = targ.getBoundingClientRect();\n",
       "    var x = e.pageX - (boundingRect.left + document.body.scrollLeft);\n",
       "    var y = e.pageY - (boundingRect.top + document.body.scrollTop);\n",
       "\n",
       "    return { x: x, y: y };\n",
       "};\n",
       "\n",
       "/*\n",
       " * return a copy of an object with only non-object keys\n",
       " * we need this to avoid circular references\n",
       " * http://stackoverflow.com/a/24161582/3208463\n",
       " */\n",
       "function simpleKeys(original) {\n",
       "    return Object.keys(original).reduce(function (obj, key) {\n",
       "        if (typeof original[key] !== 'object') {\n",
       "            obj[key] = original[key];\n",
       "        }\n",
       "        return obj;\n",
       "    }, {});\n",
       "}\n",
       "\n",
       "mpl.figure.prototype.mouse_event = function (event, name) {\n",
       "    var canvas_pos = mpl.findpos(event);\n",
       "\n",
       "    if (name === 'button_press') {\n",
       "        this.canvas.focus();\n",
       "        this.canvas_div.focus();\n",
       "    }\n",
       "\n",
       "    var x = canvas_pos.x * this.ratio;\n",
       "    var y = canvas_pos.y * this.ratio;\n",
       "\n",
       "    this.send_message(name, {\n",
       "        x: x,\n",
       "        y: y,\n",
       "        button: event.button,\n",
       "        step: event.step,\n",
       "        guiEvent: simpleKeys(event),\n",
       "    });\n",
       "\n",
       "    /* This prevents the web browser from automatically changing to\n",
       "     * the text insertion cursor when the button is pressed.  We want\n",
       "     * to control all of the cursor setting manually through the\n",
       "     * 'cursor' event from matplotlib */\n",
       "    event.preventDefault();\n",
       "    return false;\n",
       "};\n",
       "\n",
       "mpl.figure.prototype._key_event_extra = function (_event, _name) {\n",
       "    // Handle any extra behaviour associated with a key event\n",
       "};\n",
       "\n",
       "mpl.figure.prototype.key_event = function (event, name) {\n",
       "    // Prevent repeat events\n",
       "    if (name === 'key_press') {\n",
       "        if (event.which === this._key) {\n",
       "            return;\n",
       "        } else {\n",
       "            this._key = event.which;\n",
       "        }\n",
       "    }\n",
       "    if (name === 'key_release') {\n",
       "        this._key = null;\n",
       "    }\n",
       "\n",
       "    var value = '';\n",
       "    if (event.ctrlKey && event.which !== 17) {\n",
       "        value += 'ctrl+';\n",
       "    }\n",
       "    if (event.altKey && event.which !== 18) {\n",
       "        value += 'alt+';\n",
       "    }\n",
       "    if (event.shiftKey && event.which !== 16) {\n",
       "        value += 'shift+';\n",
       "    }\n",
       "\n",
       "    value += 'k';\n",
       "    value += event.which.toString();\n",
       "\n",
       "    this._key_event_extra(event, name);\n",
       "\n",
       "    this.send_message(name, { key: value, guiEvent: simpleKeys(event) });\n",
       "    return false;\n",
       "};\n",
       "\n",
       "mpl.figure.prototype.toolbar_button_onclick = function (name) {\n",
       "    if (name === 'download') {\n",
       "        this.handle_save(this, null);\n",
       "    } else {\n",
       "        this.send_message('toolbar_button', { name: name });\n",
       "    }\n",
       "};\n",
       "\n",
       "mpl.figure.prototype.toolbar_button_onmouseover = function (tooltip) {\n",
       "    this.message.textContent = tooltip;\n",
       "};\n",
       "mpl.toolbar_items = [[\"Home\", \"Reset original view\", \"fa fa-home icon-home\", \"home\"], [\"Back\", \"Back to previous view\", \"fa fa-arrow-left icon-arrow-left\", \"back\"], [\"Forward\", \"Forward to next view\", \"fa fa-arrow-right icon-arrow-right\", \"forward\"], [\"\", \"\", \"\", \"\"], [\"Pan\", \"Left button pans, Right button zooms\\nx/y fixes axis, CTRL fixes aspect\", \"fa fa-arrows icon-move\", \"pan\"], [\"Zoom\", \"Zoom to rectangle\\nx/y fixes axis, CTRL fixes aspect\", \"fa fa-square-o icon-check-empty\", \"zoom\"], [\"\", \"\", \"\", \"\"], [\"Download\", \"Download plot\", \"fa fa-floppy-o icon-save\", \"download\"]];\n",
       "\n",
       "mpl.extensions = [\"eps\", \"jpeg\", \"pdf\", \"png\", \"ps\", \"raw\", \"svg\", \"tif\"];\n",
       "\n",
       "mpl.default_extension = \"png\";/* global mpl */\n",
       "\n",
       "var comm_websocket_adapter = function (comm) {\n",
       "    // Create a \"websocket\"-like object which calls the given IPython comm\n",
       "    // object with the appropriate methods. Currently this is a non binary\n",
       "    // socket, so there is still some room for performance tuning.\n",
       "    var ws = {};\n",
       "\n",
       "    ws.close = function () {\n",
       "        comm.close();\n",
       "    };\n",
       "    ws.send = function (m) {\n",
       "        //console.log('sending', m);\n",
       "        comm.send(m);\n",
       "    };\n",
       "    // Register the callback with on_msg.\n",
       "    comm.on_msg(function (msg) {\n",
       "        //console.log('receiving', msg['content']['data'], msg);\n",
       "        // Pass the mpl event to the overridden (by mpl) onmessage function.\n",
       "        ws.onmessage(msg['content']['data']);\n",
       "    });\n",
       "    return ws;\n",
       "};\n",
       "\n",
       "mpl.mpl_figure_comm = function (comm, msg) {\n",
       "    // This is the function which gets called when the mpl process\n",
       "    // starts-up an IPython Comm through the \"matplotlib\" channel.\n",
       "\n",
       "    var id = msg.content.data.id;\n",
       "    // Get hold of the div created by the display call when the Comm\n",
       "    // socket was opened in Python.\n",
       "    var element = document.getElementById(id);\n",
       "    var ws_proxy = comm_websocket_adapter(comm);\n",
       "\n",
       "    function ondownload(figure, _format) {\n",
       "        window.open(figure.canvas.toDataURL());\n",
       "    }\n",
       "\n",
       "    var fig = new mpl.figure(id, ws_proxy, ondownload, element);\n",
       "\n",
       "    // Call onopen now - mpl needs it, as it is assuming we've passed it a real\n",
       "    // web socket which is closed, not our websocket->open comm proxy.\n",
       "    ws_proxy.onopen();\n",
       "\n",
       "    fig.parent_element = element;\n",
       "    fig.cell_info = mpl.find_output_cell(\"<div id='\" + id + \"'></div>\");\n",
       "    if (!fig.cell_info) {\n",
       "        console.error('Failed to find cell for figure', id, fig);\n",
       "        return;\n",
       "    }\n",
       "    fig.cell_info[0].output_area.element.one(\n",
       "        'cleared',\n",
       "        { fig: fig },\n",
       "        fig._remove_fig_handler\n",
       "    );\n",
       "};\n",
       "\n",
       "mpl.figure.prototype.handle_close = function (fig, msg) {\n",
       "    var width = fig.canvas.width / fig.ratio;\n",
       "    fig.cell_info[0].output_area.element.off(\n",
       "        'cleared',\n",
       "        fig._remove_fig_handler\n",
       "    );\n",
       "\n",
       "    // Update the output cell to use the data from the current canvas.\n",
       "    fig.push_to_output();\n",
       "    var dataURL = fig.canvas.toDataURL();\n",
       "    // Re-enable the keyboard manager in IPython - without this line, in FF,\n",
       "    // the notebook keyboard shortcuts fail.\n",
       "    IPython.keyboard_manager.enable();\n",
       "    fig.parent_element.innerHTML =\n",
       "        '<img src=\"' + dataURL + '\" width=\"' + width + '\">';\n",
       "    fig.close_ws(fig, msg);\n",
       "};\n",
       "\n",
       "mpl.figure.prototype.close_ws = function (fig, msg) {\n",
       "    fig.send_message('closing', msg);\n",
       "    // fig.ws.close()\n",
       "};\n",
       "\n",
       "mpl.figure.prototype.push_to_output = function (_remove_interactive) {\n",
       "    // Turn the data on the canvas into data in the output cell.\n",
       "    var width = this.canvas.width / this.ratio;\n",
       "    var dataURL = this.canvas.toDataURL();\n",
       "    this.cell_info[1]['text/html'] =\n",
       "        '<img src=\"' + dataURL + '\" width=\"' + width + '\">';\n",
       "};\n",
       "\n",
       "mpl.figure.prototype.updated_canvas_event = function () {\n",
       "    // Tell IPython that the notebook contents must change.\n",
       "    IPython.notebook.set_dirty(true);\n",
       "    this.send_message('ack', {});\n",
       "    var fig = this;\n",
       "    // Wait a second, then push the new image to the DOM so\n",
       "    // that it is saved nicely (might be nice to debounce this).\n",
       "    setTimeout(function () {\n",
       "        fig.push_to_output();\n",
       "    }, 1000);\n",
       "};\n",
       "\n",
       "mpl.figure.prototype._init_toolbar = function () {\n",
       "    var fig = this;\n",
       "\n",
       "    var toolbar = document.createElement('div');\n",
       "    toolbar.classList = 'btn-toolbar';\n",
       "    this.root.appendChild(toolbar);\n",
       "\n",
       "    function on_click_closure(name) {\n",
       "        return function (_event) {\n",
       "            return fig.toolbar_button_onclick(name);\n",
       "        };\n",
       "    }\n",
       "\n",
       "    function on_mouseover_closure(tooltip) {\n",
       "        return function (event) {\n",
       "            if (!event.currentTarget.disabled) {\n",
       "                return fig.toolbar_button_onmouseover(tooltip);\n",
       "            }\n",
       "        };\n",
       "    }\n",
       "\n",
       "    fig.buttons = {};\n",
       "    var buttonGroup = document.createElement('div');\n",
       "    buttonGroup.classList = 'btn-group';\n",
       "    var button;\n",
       "    for (var toolbar_ind in mpl.toolbar_items) {\n",
       "        var name = mpl.toolbar_items[toolbar_ind][0];\n",
       "        var tooltip = mpl.toolbar_items[toolbar_ind][1];\n",
       "        var image = mpl.toolbar_items[toolbar_ind][2];\n",
       "        var method_name = mpl.toolbar_items[toolbar_ind][3];\n",
       "\n",
       "        if (!name) {\n",
       "            /* Instead of a spacer, we start a new button group. */\n",
       "            if (buttonGroup.hasChildNodes()) {\n",
       "                toolbar.appendChild(buttonGroup);\n",
       "            }\n",
       "            buttonGroup = document.createElement('div');\n",
       "            buttonGroup.classList = 'btn-group';\n",
       "            continue;\n",
       "        }\n",
       "\n",
       "        button = fig.buttons[name] = document.createElement('button');\n",
       "        button.classList = 'btn btn-default';\n",
       "        button.href = '#';\n",
       "        button.title = name;\n",
       "        button.innerHTML = '<i class=\"fa ' + image + ' fa-lg\"></i>';\n",
       "        button.addEventListener('click', on_click_closure(method_name));\n",
       "        button.addEventListener('mouseover', on_mouseover_closure(tooltip));\n",
       "        buttonGroup.appendChild(button);\n",
       "    }\n",
       "\n",
       "    if (buttonGroup.hasChildNodes()) {\n",
       "        toolbar.appendChild(buttonGroup);\n",
       "    }\n",
       "\n",
       "    // Add the status bar.\n",
       "    var status_bar = document.createElement('span');\n",
       "    status_bar.classList = 'mpl-message pull-right';\n",
       "    toolbar.appendChild(status_bar);\n",
       "    this.message = status_bar;\n",
       "\n",
       "    // Add the close button to the window.\n",
       "    var buttongrp = document.createElement('div');\n",
       "    buttongrp.classList = 'btn-group inline pull-right';\n",
       "    button = document.createElement('button');\n",
       "    button.classList = 'btn btn-mini btn-primary';\n",
       "    button.href = '#';\n",
       "    button.title = 'Stop Interaction';\n",
       "    button.innerHTML = '<i class=\"fa fa-power-off icon-remove icon-large\"></i>';\n",
       "    button.addEventListener('click', function (_evt) {\n",
       "        fig.handle_close(fig, {});\n",
       "    });\n",
       "    button.addEventListener(\n",
       "        'mouseover',\n",
       "        on_mouseover_closure('Stop Interaction')\n",
       "    );\n",
       "    buttongrp.appendChild(button);\n",
       "    var titlebar = this.root.querySelector('.ui-dialog-titlebar');\n",
       "    titlebar.insertBefore(buttongrp, titlebar.firstChild);\n",
       "};\n",
       "\n",
       "mpl.figure.prototype._remove_fig_handler = function (event) {\n",
       "    var fig = event.data.fig;\n",
       "    fig.close_ws(fig, {});\n",
       "};\n",
       "\n",
       "mpl.figure.prototype._root_extra_style = function (el) {\n",
       "    el.style.boxSizing = 'content-box'; // override notebook setting of border-box.\n",
       "};\n",
       "\n",
       "mpl.figure.prototype._canvas_extra_style = function (el) {\n",
       "    // this is important to make the div 'focusable\n",
       "    el.setAttribute('tabindex', 0);\n",
       "    // reach out to IPython and tell the keyboard manager to turn it's self\n",
       "    // off when our div gets focus\n",
       "\n",
       "    // location in version 3\n",
       "    if (IPython.notebook.keyboard_manager) {\n",
       "        IPython.notebook.keyboard_manager.register_events(el);\n",
       "    } else {\n",
       "        // location in version 2\n",
       "        IPython.keyboard_manager.register_events(el);\n",
       "    }\n",
       "};\n",
       "\n",
       "mpl.figure.prototype._key_event_extra = function (event, _name) {\n",
       "    var manager = IPython.notebook.keyboard_manager;\n",
       "    if (!manager) {\n",
       "        manager = IPython.keyboard_manager;\n",
       "    }\n",
       "\n",
       "    // Check for shift+enter\n",
       "    if (event.shiftKey && event.which === 13) {\n",
       "        this.canvas_div.blur();\n",
       "        // select the cell after this one\n",
       "        var index = IPython.notebook.find_cell_index(this.cell_info[0]);\n",
       "        IPython.notebook.select(index + 1);\n",
       "    }\n",
       "};\n",
       "\n",
       "mpl.figure.prototype.handle_save = function (fig, _msg) {\n",
       "    fig.ondownload(fig, null);\n",
       "};\n",
       "\n",
       "mpl.find_output_cell = function (html_output) {\n",
       "    // Return the cell and output element which can be found *uniquely* in the notebook.\n",
       "    // Note - this is a bit hacky, but it is done because the \"notebook_saving.Notebook\"\n",
       "    // IPython event is triggered only after the cells have been serialised, which for\n",
       "    // our purposes (turning an active figure into a static one), is too late.\n",
       "    var cells = IPython.notebook.get_cells();\n",
       "    var ncells = cells.length;\n",
       "    for (var i = 0; i < ncells; i++) {\n",
       "        var cell = cells[i];\n",
       "        if (cell.cell_type === 'code') {\n",
       "            for (var j = 0; j < cell.output_area.outputs.length; j++) {\n",
       "                var data = cell.output_area.outputs[j];\n",
       "                if (data.data) {\n",
       "                    // IPython >= 3 moved mimebundle to data attribute of output\n",
       "                    data = data.data;\n",
       "                }\n",
       "                if (data['text/html'] === html_output) {\n",
       "                    return [cell, data, j];\n",
       "                }\n",
       "            }\n",
       "        }\n",
       "    }\n",
       "};\n",
       "\n",
       "// Register the function which deals with the matplotlib target/channel.\n",
       "// The kernel may be null if the page has been refreshed.\n",
       "if (IPython.notebook.kernel !== null) {\n",
       "    IPython.notebook.kernel.comm_manager.register_target(\n",
       "        'matplotlib',\n",
       "        mpl.mpl_figure_comm\n",
       "    );\n",
       "}\n"
      ],
      "text/plain": [
       "<IPython.core.display.Javascript object>"
      ]
     },
     "metadata": {},
     "output_type": "display_data"
    },
    {
     "data": {
      "text/html": [
       "<img src=\"data:image/png;base64,iVBORw0KGgoAAAANSUhEUgAAAnEAAANrCAYAAAApt85xAAAgAElEQVR4Xuy9CZBV1bX/vxKBZh4EmmYSmVGE2EwSMIKI+ARBtAGJyqCPQUCU+GJeHsRfQIEMDqARwhhBUSJpwJCIiYiAMgo8HzIEB2iCTSODMjUzmn+tXf/ddfr2GS7QN/cc+rOrLJt7hnvPZ+9T9a313Wut7/3rX//6lzAgAAEIQAACEIAABCJF4HuIuEjNFz8WAhCAAAQgAAEIGAKIOBYCBCAAAQhAAAIQiCABRFwEJ42fDAEIQAACEIAABBBxrAEIQAACEIAABCAQQQKIuAhOGj8ZAhCAAAQgAAEIIOJYAxCAAAQgAAEIQCCCBBBxEZw0fjIEIAABCEAAAhBAxLEGIAABCEAAAhCAQAQJIOIiOGn8ZAhAAAIQgAAEIICIYw1AAAIQgAAEIACBCBJAxEVw0vjJEIAABCAAAQhAABHHGoAABCAAAQhAAAIRJICIi+Ck8ZMhAAEIQAACEIAAIo41AAEIQAACEIAABCJIABEXwUnjJ0MAAhCAAAQgAAFEHGsAAhCAAAQgAAEIRJAAIi6Ck8ZPhgAEIAABCEAAAog41gAEIAABCEAAAhCIIAFEXAQnjZ8MAQhAAAIQgAAEIiXicnNz5bnnnpPNmzfLpk2b5KuvvpIBAwbInDlzmEkIQAACEIAABCBQpAgkXcRdjDDbtWuXNGjQQK666ir57rvv5F//+pe0aNFCPvroI/MZAwIQgAAEIAABCBQVAkkXcXv27JG6detK9erVpWXLlvLXv/7VM7o2dOhQmTFjhjz00ENy0003ySOPPGLmafjw4TJlypSiMmc8JwQgAAEIQAACEJCEiLiLia6dOnVKnnnmGfnTn/4ke/fulfPnz7tG17Zu3So/+MEP5Ic//KEcOHAg79yqVavK4cOHZcuWLdKsWTOmFAIQgAAEIAABCBQJAgkRcdu3b5cbbrhBUlJSDMSzZ89K/fr15YsvvigAddiwYTJt2jQpV66cnDx50tikOvTzqVOn5p3/5JNPmv1wOkqVKiWnT5/Od6/Ro0fLhAkTLmrSVPz9/e9/l2uvvdbckwEBCEAAAhCAAAQSRUC1izqQd9xxh1SpUuWyvyYhIu7TTz+VJk2aGIs0PT1dli5d6iriNLrWvHlz8xCxFql+9sknn+RF19Rq/d///V8pXbq0dOrUydiuOq677jr5xz/+Ie3atZM1a9Z4Atm/f7/of86hv+upp566bIjcAAIQgAAEIAABCMRLYN68efLAAw/Ee7rneQkRcV9//bWJin3++ecm6eDgwYMm0nb8+PF8P2Tw4MEya9YsY58eO3YszyK9+uqr5ZtvvpFBgwbJzJkzzTWVKlWSo0ePSuPGjSU7O9tE7XTcfPPNsnr1alFbVb/Ha/zXf/2XvPDCC66HFaaKQQYEIAABCEAAAhBIFAENOj344INGt7Rv3/6yvyYhIs5pp6o9qvvcihUrZv7vHPXq1ZOsrCzzUaydqp/pcc1I1WEzUsuXL2+sVOe9vv/97xvrVvfXXYqI05IlKiQZEIAABCAAAQhAIFEE1FFUZ7GwdEdCRJzTTtVkg3fffddVxJUpUyZPeLnZqWqd2ohb8eLFzX453fumNu2IESPyMVYRd+bMGU/u//d//ycqLp1DBaTaqYUFM1GTzn0hAAEIQAACEIg+gUiIOKedun79epM9+r3vfS8vacFOg42uedmpGmH79ttvzekq6C5cuCDnzp0z/1dR5xxBIs7PTkXERf/F4AkgAAEIQAACYScQCRHntFNVcFkhpsV5nUOFnR1udqoes9dUrlzZ7JPzGhUqVDB75rwGIi7sS5vfBwEIQAACELiyCURCxDntVE0YeP/9982s+Ik4NzvVeY1G6z7++GPRpAdNYtDvcI5atWrJ22+/nZftGrsMsFOv7BeDp4MABCAAAQiEnUAkRJzTTl27dm1eBM1LxKWlpRmbVDNUNWpXsmTJvP1tWsRXy5DoHjhn3Ti3iXrllVdk4MCBrnNIJC7sS5vfBwEIQAACELiyCURCxDntVBVnVrz5ReK8ps0Ks86dO8vy5cs9Z1frrWipEK+BiLuyXwyeDgIQgAAEIBB2ApEQcdZOLVu2rKlIrNWJdWh7LR09evQw0TXnnriGDRuallrr1q0z9eXssMJv4cKF0qtXL8/5yczMlIyMDM/j2KlhX9r8PghAAAIQgMCVTSASIk7tVN2j5lXy4+mnnzalPZwiTv9WwWb/Hyvi5s6da6zS2OP2PGdhYLclQCTuyn4xeDoIQAACEIBA2AlEQsRp5K1u3bqeLK1F6hRxGrXTIr7awzQ3N7dAJK5Vq1amnpvX0PZeCsdrIOLCvrT5fRCAAAQgAIErm0AkRJxG4nr37i05OTmmlZZtVu9np2qJEe24oPXgTpw4kU/E6X1q1qyZ95mtL6cfWLtVRePu3bs9Zx879cp+MXg6CEAAAhCAQNgJRELEBUXi/OzU2AlQkaYCTCNtQSM2ccJ5PpG4IHochwAEIAABCEAgkQQiIeLOnj0rDRo0MI3q3YabnWqjayrEtPuC3sNG2rT0iLbashE9t3vSsSGRy457QwACEIAABCBwuQQiIeJ0T1ufPn2MvRmvnap74dxEmo2uVaxY0dSRcwo8J0y3tl7O49ipl7v0uB4CEIAABCAAgcshEAkRZ+vEeT2om53qda4VcVoA2Ebn3DJUgyJxY8eOlXHjxrl+Db1TL2dJci0EIAABCEAAAvEQiISIs3XivB7I2qna4F5FWrFixUxDexuJ09Za2idVj9u+q6mpqXLo0KF8t1ThVr58efN5kIgjEhfP8uIcCEAAAhCAAAQSRSASIi7e7FQVXtrRQYez1ZaF5xRmlSpVKtDg3hmRUyF4/vx5T+4kNiRqSXJfCEAAAhCAAATiIRAJERevnaoRtyNHjng+tza6P3jwoDnuLCvidoEev3DhAiIunlXEORCAAAQgAAEI/NsJRELExWunatkQtTnVStVImrVTVbypRdquXTtZs2ZNXqRO98RpJ4h9+/YZG1ZrymltOR0lSpTI2zPnNivYqf/2tcoXQgACEIAABCDgIBAJERevnfqTn/xEJk+ebB7PLet09OjRMmHCBHNci/3u379fypQpI0OGDJEXXngh38LQvXGaveo1sFN5jyAAAQhAAAIQSCaBSIi4IDvVJjbYpvax2aY2ErdlyxZp3ry54d2kSRPRCJ/XqFOnjmiRYURcMpcn3w0BCEAAAhCAgBeBSIg4a6dqP1QVZFlZWeZ5YttuOW1XLearkTY7hg4dKtOmTcv7d9u2bWXDhg3SsGFDkwSxdevWfIw6d+4sy5Yt81w52Km8VBCAAAQgAAEIJJNAJESc2qn16tWT48ePu7KykTg9T4Xd/PnzzR44WxNOBZ2KOE1W6NGjh4nGqYU6c+ZMU3bku+++K3Df+++/X15//XUicclcnXw3BCAAAQhAAAKeBCIh4qydakuIWHEW29s0yHZVClbwaaRt+fLlnmA0Urdu3TpEHC8PBCAAAQhAAAKhJBAJEee0U6tUqZK3V83LTlXb1e88nQm7f85rVjIzMyUjI8Nz0rBTQ7me+VEQgAAEIACBIkMgEiJObVItBXLmzBnXibFtt+I9T28yd+5cGThwoLi13NLjgwYNMnar1yA7tci8IzwoBCAAAQhAIJQEIiHigmxSa5HGe57ORKtWrUR7nHoNrTmncC5FxKUNmCwpaQ3yLt3z626hnHx+FAQgAAEIQAAC0SUQCRFX2HZqTk6OqRNnh1qvmjihos72Vq1bt67s3r3bc2axU6O76PnlEIAABCAAgSuBQCREnHZWSEtLK9Dr1E6AtVP1vGrVqnkW6bXnqQDTSFvQiE2ccJ6PnRpEj+MQgAAEIAABCCSSQCREXG5urtkT59VBwdqpmzZtkltvvVX0fLdhz9P7VKpUKa8Eidu52rbr/PnznuwRcYlcltwbAhCAAAQgAIEgApEQcdo5Qe3NoGK/vXr1knfeeccU8E1NTc1XrLd79+4yfvz4vI4Neq+TJ0/68vGLxGGnBi0tjkMAAhCAAAQgkEgCkRBx8Wadzp49W0aMGOHZuP6Xv/yljB071vAsV66cidhpdmrx4sXl3Llz+ThrYeALFy4QiUvk6uPeEIAABCAAAQhcMoFIiLh4s05vu+02WbFihadN+vzzz8sTTzxhYOkeuwMHDuQD5+zegIi75DXFhRCAAAQgAAEI/BsIRELExds7tWPHjrJx40Zp2rSpVK5cWf72t7/lQ7h69Wpp3769+axEiRK+e95U0NlMVbd5wE79N6xOvgICEIAABCAAAU8CkRBxhWWnjho1SiZNmmRgqIWqPVN1b5xbT1Yicbw1EIAABCAAAQiEmUAkRFxh2akTJ06U//mf/zHzUbJkSbN3rnbt2pKdnV3Agi1VqpScOnXKc+7ITg3zsua3QQACEIAABK58ApEQcYmwU+vXry9ZWVlSpkwZY73+85//zDfb11xzTYHPnCdgp175LwdPCAEIQAACEAgzgUiIuETYqW3btpUNGzZ4zo0eX7duHZG4MK9efhsEIAABCECgCBOIhIi7GDv1/fff95xOp506ePBgmTVrlue5w4cPlylTpiDiivDLwaNDAAIQgAAEwkwgEiLO2qnVq1eXxo0by8qVKw3T2GK8HTp0kPXr15uab5qwENu5YcyYMdKnTx9T8Peee+6Rt956y3Nu5s6dK/379/c8jp0a5mXNb4MABCAAAQhc+QQiIeLUTu3du7do4/q9e/fK6dOnzcw888wz5v89evQwwqxLly75ujS4TZ9tvVW1alU5fPiw5ww//PDDosWDvQaJDVf+y8ETQgACEIAABMJMIBIiLl47VfuhHj16NK7omkbl1F71GpmZmZKRkYGIC/Pq5bdBAAIQgAAEijCBSIg4Z3ZqlSpVRHupukXiatWqJfv27TPHKlSoINro3jk+++wz01dVR7NmzWTbtm3mb60ZF9vsvm/fvjJ//nzPpYGdWoTfGh4dAhCAAAQgEAICkRBx8WanXn311XLkyBFPrFOnTpVhw4YZW7ZmzZq++LXsiJ/dip0agtXLT4AABCAAAQgUYQKREHEaeatbt67nNMW7z80mK2gULT09PXDaYxMnnBcg4gLxcQIEIAABCEAAAgkkEAkRp50Vnn32WYNBW2TZv2MTG+677z5ZsGCBOe973/tegexVa6eqzaqRNu2Nqu21tNfqhQsXZMeOHXmo1WLVLFevgZ2awFXJrSEAAQhAAAIQCCQQCRGnpUJSU1PzslJjn+rpp5+Wp556StLS0uTAgQOeDz19+nQZMmSIOa4lSE6ePOl5ropA7a3qNYjEBa4tToAABCAAAQhAIIEEIiHi4s1O1RpyGm3zGkuXLpU777zTHHaWGClWrJiJxDmHfhab7OA8johL4Krk1hCAAAQgAAEIBBKIhIiLt3fqvffeK4sXLzYP7Zadunr1amnfvn2BSNy1115rMl7VWlWLVUdKSoqcOXPGEyB2auDa4gQIQAACEIAABBJIIBIiLt7s1CA79YknnpDnn3/e4CxdurSnPavHicQlcNVxawhAAAIQgAAELptAJERcYdmpkyZNklGjRhloGnXz2/Omx2MtVidt7NTLXnvcAAIQgAAEIACByyAQCRF3KXaqG5Ply5dLp06dzKGSJUuKZr1qv9VVq1aZz6655hrT1ksH2amXsaq4FAIQgAAEIACBhBOIhIhLhJ2qxX73798v3//+901ELrYmXIkSJYzI8xpE4hK+NvkCCEAAAhCAAAR8CERCxBWWnfrzn/9cfvWrXxkcTZo0EY3weQ0tQXLixAlEHK8PBCAAAQhAAAKhJBAJERevnaoN6xctWiTly5c3RYFjR7du3eSvf/2r+bhFixby8ccfm16qpUqVkk8++SRfgeDrr79eVDx6DbJTQ7me+VEQgAAEIACBIkMgEiJO7dR69eq5CjOdKdt2q02bNrJx40bPyStTpoysXbtWmjdvLlpW5J///GeenRp70ciRI+Wll14iEldkXgUeFAIQgAAEIBAtApEQcbZ3avXq1UUL+q5cudJQjt3Hpi23Zs2aJevWrRPt8uA2rOBTa/U3v/mN52wtWbJEunfvjoiL1nrm10IAAhCAAASKDIFIiDiNxPXu3VtycnJM9ujp06fNBMX2Tr3llltk586dJmLnlpTQsmVL2bRpk7nWWq9eM/3YY4/Jiy++6LkQsFOLzDvCg0IAAhCAAARCSSASIi4oscH2TlWLVEVebITOkm/UqFFeMsMvfvELmTBhguek9OzZM6/7g9tJZKeGcj3zoyAAAQhAAAJFhkAkRJxNbPCaFWuRaiHfefPmmUidtszS8iE6bNHeG264QbZu3Wo+a9WqlWzevNlzotPT00XheA1EXJF5R3hQCEAAAhCAQCgJRELEXaydqqVB3PqeXnfddbJjxw5jy2qdODts9wYVfbZ3at26dWX37t2ek4adGsr1zI+CAAQgAAEIFBkCkRBxNrHBa1asnapJDyq8tHivW0stLSfy2WefiQowjbQFDS9bVq8bO3asjBs3zvUWGuHTEiYMCEAAAhCAAAQgkCgCkRBxmqTQoEEDyc7OduVg7dQZM2bIG2+8kddGK/Zka6ceO3ZMatSoIadOnTK14fQ/FWxO0ZaSkuIazbP3JBKXqCXJfSEAAQhAAAIQiIdAJESclgvp06ePibL5Zad27drVZKbq+Vu2bCnw/O3atZM1a9aYzytVqiRHjx4VFWtumawq7Nyiefam7ImLZ3lxDgQgAAEIQAACiSIQCREXb3Zq69atZdeuXUaU6Z64WBGmZUUyMzMNy5IlS/r2Rg2KxCHiErUkuS8EIAABCEAAAvEQiISIizc7Ve3UxYsXm2ibW9/Tjh07yooVKwyX1NRUOXToUD5GxYoVy8tkDRJx2KnxLC/OgQAEIAABCEAgUQQiIeLizU695557xLboevXVV81eN2c0zlk2xNqpTrB2b5x+poLu/PnzntyJxCVqSXJfCEAAAhCAAATiIRAJERdkpzoTGzQSp9E2t31uN910k6xfv95wsWVFvCDpcVtfzu0cRFw8y4tzIAABCEAAAhBIFIFIiDhrp5YtW1aqVq0qWVlZhkds2y1NbNDEBxV95cqVK2Cp6vG3337bXKuRNq0Jp8kOa9euNZ+VL1/eJEboKFGihO+eOezURC1J7gsBCEAAAhCAQDwEIiHi1CKtVauWZ8kPWydOe6N+/PHHnm23hg4dKtOmTctX7NdG5GJrwpUpU8ZkuXoNInHxLC/OgQAEIAABCEAgUQQiIeLitVPvuOMOeffdd027LbfyIHPmzJEBAwYUSrFfRFyiliT3hQAEIAABCEAgHgKREHHx2KlVqlQxrbRscoJG0k6ePJnHQI9r1mqjRo1Ei/1q79QvvvhC0tLSjHWqNqxzNG/e3LXWnD0HOzWe5cU5EIAABCAAAQgkikAkRJzNOLX71WJhaGKDdmDQSJzfKF68uGzatElUoA0ZMkRmzpxp9sa5JTA8/vjjMnnyZM/bEYlL1JLkvhCAAAQgAAEIxEMgEiLO2qlau+3cuXN5e96c+9g+/PBDueWWWwKf2Waydu7cWZYvX+55/gMPPCDz5s1DxAUS5QQIQAACEIAABJJBIBIizmmnqi26Z88ew8qZnaqWaNOmTY2dqlmnmsnqTEy4/vrrZeTIkfLII4+YaxcuXCi9evXyZK6dHbTDg9fATk3GcuU7IQABCEAAAhCwBCIh4uLJTtUacEF2aunSpfP2yc2dO1cGDhyYt4cudkkMGjTI2K1eAzuVlwgCEIAABCAAgWQSiISIiyc7tX79+oF2qrOVliY2bN682ZO9s7uD20mIuGQuW74bAhCAAAQgAIFIiLjCtlNzcnJMJqsdatHWq1fPiDq1YnXUrVtXdu/e7blCsFN5eSAAAQhAAAIQSCaBSIg4baGlpUCOHj3qykqL/V6MnaoCTCNtQSO2ALDzfCJxQfQ4DgEIQAACEIBAIglEQsRpgoJ2bND6bm5DM04vxk7V+1SuXDkv6uZ2Ty09cv78eU/2iLhELkvuDQEIQAACEIBAEIFIiDjNRlV70693qs1OtZ0aKlasKN26dZPXX3/dMGjWrJkMHz48LztVe6v6tdXSa/wicdipQUuL4xCAAAQgAAEIJJJAJERcIrJTtaPDqVOnDFstAhwbddOeqm5FgO1kEIlL5LLk3hCAAAQgAAEIBBGIhIhLRHZq1apV5fDhwwX42LZdiLigpcNxCEAAAhCAAASSSSASIi6e3qlqp2pBXy8L9Ec/+pHcf//9eXaqRt/8Im3f//73fffMYacmc9ny3RCAAAQgAAEIRELEJcJOVRGn++d0n52zJyuROF4KCEAAAhCAAASiQCASIq6w7FSN1mm5Eh0lS5Y0f9euXVuys7MLRPBU5GmfVq/BnrgoLG9+IwQgAAEIQODKJRAJERePnVqnTh356U9/KrNmzfKcrWHDhsnUqVPNcS1JkpWVJZrgMHjwYJk0aVK+FlwVKlTwrEun12OnXrkvBU8GAQhAAAIQiAKBSIi4eOzUp556Sn7/+9+bMiJe44knnpDnn3/eHG7btq1s2LDB81zt4LBr1y4icVFYxfxGCEAAAhCAQBEkEAkRF4+dqs3sp0yZIo8++qjnNPbs2VMWL15sjvfv319ee+011/Iierxfv37y6quvIuKK4EvBI0MAAhCAAASiQCASIs7aqdWrV5fGjRvLypUrDdvYTNTnnntOnnzySU/uDRo0kIULF0rz5s2lXbt2sm7dOs9zlyxZIt27d/c8jp0aheXNb4QABCAAAQhcuQQiIeLUTu3du7do4/q9e/fK6dOnzYw888wz5v89evQwwuzGG2+ULVu2+M6WtujSqF3Lli1FH95rjB8/XsaMGUMk7spd+zwZBCAAAQhAINIEIiHi4rVTe/XqZSJtXqNLly7y97//3RxWgTZx4kTPczMzMyUjIwMRF+nlzY+HAAQgAAEIXLkEIiHinNmpVapUEe2l6haJ0/6o27Zti0vEOc91a7vVt29fmT9/vue9sFOv3JeCJ4MABCAAAQhEgUAkRFy82am25psX+Ntvv13effddY8vWrFnTd34qV67s2pbLXkSduCgsb34jBCAAAQhA4MolEAkRp5G3unXres6C3ef20EMPyZw5cwIjcRpFS09PD5xVrxZeeiEiLhAfJ0AAAhCAAAQgkEACkRBx2lnh2WefNRi0RZb9OzaxIShZwe6JO3bsmFStWlXOnz9v7lmqVCkTmfviiy/yUF911VW+vVWxUxO4Krk1BCAAAQhAAAKBBCIh4nJzcyU1NTUvKzX2qZ5++mnRYr+NGjWSzz//XLR5vfZFjR0dOnTIK0+iPVNPnjzpCUh7qLrdw15AJC5wbXECBCAAAQhAAAIJJBAJERdvduovf/lLUUHnNdq0aZPXpaFixYqiETkdxYoVKxB1c/ZZdbsfIi6Bq5JbQwACEIAABCAQSCASIi6e3qlaJ+62226TVatWybfffisaaatRo4Z89tlneRDat28vq1evNv/WjNQLFy6Yv1NSUkQtW+fQz86cOeMJEDs1cG1xAgQgAAEIQAACCSQQCREXb3Zqw4YNzb42tUJ1xCYmOO1Ujb6p2PMaQXviiMQlcFVyawhAAAIQgAAEAglEQsTFa6dqxqlGyLyGU8RZoed1LnviAtcOJ0AAAhCAAAQgkEQCkRBx8dqpZcqUkVOnThmcKsJiI3H33ntvXkcHjbRp4oL2YtX767jmmmtMWy87/EqMYKcmcdXy1RCAAAQgAAEImPahWplj8+bN0qJFi8sm8r1/+SmfS7x9vHaqFWZeX6PZq1awWcGnmaz6k91+NnXiLnHCuAwCEIAABCAAgYQTiISIi9dODdrnpsdtbbi0tDQ5cOCAJ2AVd3575tgTl/C1yRdAAAIQgAAEIOBDIBIiLl471UbV9Hnd7FT93EbXbGFgzULVCN3WrVvzXaOZrfv27fNEh53KewUBCEAAAhCAQDIJRELEqZ1ar149063Bbdi2W04R5wV1y5YtouVIhgwZIjNnzvRk//DDD8vs2bM9jxOJS+ay5bshAAEIQAACEIiEiLO9U6tXr24SEVauXGlmLnbPWtCeOL3GCr6lS5dKt27dPFfAkiVLpHv37og43hEIQAACEIAABEJJIBIiTiNxvXv3lpycHJM9evr0aQMztneqc09ckJ2akZEhixYt8pyUxx57TF588UXP49ipoVzP/CgIQAACEIBAkSEQCREXlNhge6cGJTY4o3e/+MUvZMKECZ4T3bNnT1m8eDGRuCLzKvCgEIAABCAAgWgRiISIs4kNXmitReoVidMWWzYr1VqwrVq1MnVVvIYWDlY4XoM9cdFa6PxaCEAAAhCAwJVGIBIiLl47VZvWW7GmWae6R84W/7UTpyJObdmaNWvmzaXdS+csK1K3bl3ZvXu353xjp15prwLPAwEIQAACEIgWgUiIOJvY4IXW2qnOpvZe56qIUwGmkbag4Vfsd+zYsTJu3DjXWxRW5eSg38dxCEAAAhCAAASKLoFIiLizZ89KgwYNJDs723WmrJ3qjMT5ibhjx45JtWrVRO9re6jGNrxXQXju3DkicUX33eDJIQABCEAAAqEmEAkRl5ubK3369DH2pl92ajx14mx0rVKlSnL06FFR21XFXOxQcae9Vb0Ge+JCva75cRCAAAQgAIErnkAkRFy82akXI+JKliyZJ970uljBpuLuzJkziLgr/hXgASEAAQhAAALRJBAJERdvdqoKL2uBlipVyvwd2//URuJSU1Pl0KFDZtZsTTmnmAsScSQ2RHPB86shAAEIQAACVwqBSIi4eLNTnSLOa4Ji7VSv87Rcic10dTsHO/VKeQV4DghAAAIQgEA0CURCxAXZqTaxoWzZsnLy5EnfmbAiLqhFV2yiQ+xNEXHRXPD8aghAAAIQgMCVQiASIs7aqSrSqlatKllZWYZ/bNutrl27yjpR8LkAACAASURBVDvvvGOONWrUSJo2bVqg64IVcXZPXIcOHWTVqlXmGmerLs10dUt4sBOPnXqlvAI8BwQgAAEIQCCaBCIh4tROrVWrlmeiga0T1759e1m7dq3nTKgIPHHihDmuxX73798vdh9cbE248uXLi5Yi8RpE4qK54PnVEIAABCAAgSuFQCREXLx2aufOnWX58uWec3PdddfJjh07zPEmTZqIRvi8Rp06dUSLDCPirpSlznNAAAIQgAAEriwCkRBx8dqp69atk6lTp8q8efNERdg///nPfLP19ttvi1quOtq2bSsbNmwwRYTVntUsVqedqoJw2bJlnrONnXplvQg8DQQgAAEIQCBqBCIh4tROrVevnhw/ftyVr01sGDhwoMydO9dzDm677TZ54YUXpHnz5jJkyBCZOXOm6a8aW4ZEb/D444/L5MmTicRFbUXzeyEAAQhAAAJFhEAkRJy1U20JEbt/LXYfmzOxwWv+rOALsl4feOABE9HzGuyJKyJvCI8JAQhAAAIQCCmBSIg4p51apUqVvL1qsdmpaqfu2rVL1q9fL1OmTCmA3NmYfuHChdKrVy/PacnMzJSMjAzP49ipIV3R/CwIQAACEIBAESEQCREXb3ZqkJ06fvx4GTNmjJlatV31fOc+OOecDxo0yNitROKKyJvAY0IAAhCAAAQiRiASIi7e7NQgO3X48OF5EbpWrVqJRua8Rnp6uiicSxFxaQMmS0pag4gtBX4uBCAQdQJ7ft0t6o/A74cABC6CQCREXGHbqTk5OaZOnB1q0WrihIo6m+RQt25d2b17tydK7NSLWGWcCgEIQAACEIBAoROIhIjTzglpaWly9OhRVwC22K8ezM3NlcaNG4sKNefQ67W4rw4VYBppCxqxiRPO80lsCKLHcQhAAAIQgAAEEkkgEiJOhZl2bPDqoGAzThWUdmzQzg2x49FHH5Xf/e535mO9T+XKlV1Li9jr6J2ayGXHvSEAAQhAAAIQuFwCkRBx2jlB7c2g3qmaAKH9UrW11qlTp/Kx0TZaurdOxaCOUqVKebbxshf6ReKwUy936XE9BCAAAQhAAAKXQyASIi7e7FTt1jBixAhRweYsDFysWDG5cOGCTJo0SUaNGmV42Zpzmp1avHhxOXfuXD6O2lPVrQiwPQk79XKWHddCAAIQgAAEIHC5BCIh4uLNTv1//+//idaO8yob8utf/1r++7//2zC7+uqr5ciRIwWE23fffWc+w0693KXF9RCAAAQgAAEIJJJAJERcvL1TH3vssbx9b27Qfv7zn8uvfvUrc6hEiRJy/vx5T7ZBkTjs1EQuS+4NAQhAAAIQgEAQgUiIuHjt1J49e8qf//znAs9s7dTevXvLggULzHG1UNUu9RJrROKClg7HIQABCEAAAhBIJoFIiLh47VTtsjB79mxPnqNHj5YJEybkiTjdJ6elRw4cOCCxSQwq/PwideyJS+ay5bshAAEIQAACEIiEiIvXTg3q2NCxY0dZsWKFmfWSJUuK1p/TjNfBgwebpAfnXjo9fvr0ac8Vgp3KywMBCEAAAhCAQDIJRELExWunaucFPddrVKtWTb766itzOKjESIUKFTyLC+v1ROKSuWz5bghAAAIQgAAEIiHi4rVTy5QpU6A+nHOKNSPVirw6derI3r17xe6Xi10KLVu2lE2bNnmuEEQcLw8EIAABCEAAAskkEAkRZ+3U6tWrm5ZaK1euNMxi97EFZZyqYNP+qM2bN5fnnntOnnzySU/2c+fOlf79+3sex05N5rLluyEAAQhAAAIQiISI0+iZZpZqP1SNntm9aloTTkePHj2MMNNMU78uC3qubdGVkZEhixYt8lwB48ePlzFjxhCJ4x2BAAQgAAEIQCCUBCIh4uK1UzXS5tdlwZmsoAJt4sSJnpOSmZkpKvS8BnZqKNczPwoCEIAABCBQZAhEQsQ5s1M1eUF7qeqIjcQFiThttXXmzBlzbbNmzWTbtm3mb60ZF1tOpG/fvjJ//nzPhYCdWmTeER4UAhCAAAQgEEoCkRBx8WanBtmptkeq2rI1a9b0nZDKlSvL4cOHicSFctnyoyAAAQhAAAIQiISI08hb3bp1PWfL7nNzRuLc+qdaO1WjaOnp6YGz77e/Djs1EB8nQAACEIAABCCQQAKREHFalPfZZ581GI4fP57398XaqVob7tSpU3Ls2DFRW1Y7Nuho2LCh6aWqe+/ssFE7L/bYqQlcldwaAhCAAAQgAIFAApEQcbm5uZKamurZQeHpp5+Wp556ytR880tsKF26tJw8edJAUZFmRZwbJY3kfffdd54AicQFri1OgAAEIAABCEAggQQiIeLizU4NqhNXsWJFOXLkiMGpDe6tSHMr+Kv76/wEoZ+ISxswWVLSGrhO255fd0vgdHJrCEAAAhCAAASKCoFIiLh4e6cGReLKly9vrFQdziSI+vXry65du/JlqQZF4rBTi8orwnNCAAIQgAAEwkkgEiIu3uxUFV5+w1lixE3wxSZDkNgQzkXLr4IABCAAAQhAQCQSIi5eO9Up4tyyU50WqdNO9VoIiDheEQhAAAIQgAAEwkogEiIuXjvVKeLatm0r1157rfzxj3/Mx94KMy03olmvbvvh7AV+Ig47NaxLmt8FAQhAAAIQKBoEIiHiCstO1Sm1wkyL/e7fv9/sjdMEh1jBppE6v+xVslOLxgvCU0IAAhCAAATCSiASIi7eYr9BHRucIk7bbqlIa9q0qWzcuFH27t2bb47o2BDWJcvvggAEIAABCEBACURCxGkkrnfv3qLtslRsnT592szexRb7dYo4tVs3bNjguQpuvfVWef/99z2PY6fyAkEAAhCAAAQgkEwCkRBx8SY2aEcG2+DeC+qWLVukefPm8uCDD8rrr78ubgkQeu3jjz8ukydP9pwb7NRkLlu+GwIQgAAEIACBSIg4m9hQvXp1ady4saxcudLMXOw+trJly+Z1ZPCaWttndeHChdKrVy/PFbBkyRLp3r37JYk4v2K/LDkIXA4BikVfDj2uhQAEIHBlEYiEiIvXTrWttLyia07hl5GRIYsWLfKczccee0xefPFFz+PYqVfWi8DTQAACEIAABKJGIBIiLshOtb1TL6b225gxY2TixIme89WzZ09ZvHix5/GxY8fKuHHjXI9v3rxZWrRoEbW1wO+FAAQgAAEIQCBCBCIh4qyd6sXVWqRBbbeckTjNTt22bZvnVLVr107WrFlDJC5Ci5mfCgEIQAACEChKBCIh4uK1U20kTm1VLTdy7tw5k7hgG91bEadZrlonzg57nbOjQ3p6uknd9RokNhSl14RnhQAEIAABCISPQCREXFCduIu1U3U/m4q0oEHbrSBCHIcABCAAAQhAIFkEIiHitD1WgwYNJDs725WTtVPdEhs0uqbRuG+//dZcq8Ls2LFjosV87Wd63BmF0/NKlChh2nJ5DRIbkrVk+V4IQAACEIAABJRAJESc/tCXX35Zjh49Krm5ufKb3/zGzF5ssV/bD1XtURVm+n8Vas72WTa6Vr58eTlx4oRnnbhYGzZ2uWCn8gJBAAIQgAAEIJBMAqEXcZs2bZJ58+bJ1KlT5fz5876ROCvi/IBaEWcLA6tYs8Npn2pUT/fUeQ1EXDKXLd8NAQhAAAIQgEDoRZwW5F21apUp8qsWqEbPVqxYYWZOi/G2adNGevToYbowVKtWTQ4ePJjX1D52em10bevWreZ8HSkpKdKpUyd555138p2ugtC293JbJtipvDwQgAAEIAABCCSTQOhF3OzZs+Xjjz+WadOm5e1hiwWmiQ1a180KM3vcRtlshM3ucxs4cKDMnTu3AHctUWKt1yARRyQumcuW74YABCAAAQhAIPQi7rbbbpN169aZJANnqRDn1Gliw+eff+5bvFfP17IimhyRlpYmBw4c8J39cuXKyfHjxz3PQcTx8kAAAhCAAAQgkEwCoRdxHTt2NEV5mzRpYuzUU6dOyXvvvZfHTDsv9OnTR4YNGyZr1641n2tErnbt2kbYffbZZ3nnaqutzMxMcRYFvuuuu+Svf/1rgQSH66+/XrRThNfATk3msuW7IQABCEAAAhAIvYiL106dNGmSHDlyxOyHU/tU/4vtoers7KDHYyN7msxgkycmT54sjz/+OJE43hEIQAACEIAABEJJIPQiLl47dfDgwXn72WLFmyWvUTzNSlWxpgLu4Ycflj/96U+mblzssOd6zRp2aijXMz8KAhCAAAQgUGQIhF7EOe3UihUrGstUI252WDv1xhtvNNE3HWqnHj58WPbv35/3mX5uj+t+NxVpWitOa8/p0AiejcxpxuqZM2d8FwF2apF5R3hQCEAAAhCAQCgJhF7EWTt1xowZvnXiHnroIQNYhZ5G1lSwqTDTf3/zzTfmmBVx11xzjXz55ZeeE6LX7Ny505QsIRIXynXLj4IABCAAAQgUeQKhF3Fqp2r0TTsv6H61WKtUxZbWkHMW7dVZ1X+XLVvW1JWzw4q4++67TxYsWOA7+VqLTqOAiLgi/44AAAIQgAAEIBBKAqEXcR06dJD169eb7glaGuSrr77KB1Lt0AoVKuQTcXpet27dTHbqBx98kHe+XqvRtaVLl5rjXmPJkiWmkLDfwE4N5XrmR0EAAhCAAASKDIHQi7guXbrIsmXL8vqg6szYnqj694YNG0zXhthInNsM2uialhpZtGiR5ySPHz9edK+d3yCxoci8IzwoBCAAAQhAIJQEQi/iKlWqlJd84EZQOy/0798/n4izlmus9WrtVBVoEydO9JwQrSWnQg8RF8o1y4+CAAQgAAEIQEBEQi/iatWqJfv27TOTpbZpbDkQLebbsGHDfCJO//3DH/7QdHpQS9UOK+KaNWtmCgjrcNaGs+f17dtX5s+f77tAsFN5fyAAAQhAAAIQSCaB0Iu4q6++Ol9JkVhYU6dONd0anHaqXyQuJyfHtN/yG9oZQkuUEIlL5tLkuyEAAQhAAAIQ8CMQehFXtWpVX0HlZqfamm9udqpG0NLT0wNXhY3aeZ3InrhAhJwAAQhAAAIQgEACCYRexDnLgdSoUUM0kuYszOtmp2rJEU120PIjGzduzMOnwkzt2CpVquR1d0hNTZWDBw/mQ6wWq2bD+g3s1ASuSm4NAQhAAAIQgEAggdCLOC0JEiuynE81ffp0GTJkiKudqo3uL1y4kHe61pnTz7R+3MmTJz3haAQvtq9q7MlE4gLXFidAAAIQgAAEIJBAAqEXcUHZqVrz7c4778wTcU4LVQWbtuDSh9Sxd+9eqV27tjgt2lihp+eVKFFCzp4964sdEZfAVcmtIQABCEAAAhAIJBB6EeeXnaqCTdtnaaKCM7FBr8nOzhbtkers2JCbmytlypTJF4mrV6+e7N69O18nCHqnBq4bToAABCAAAQhAIMkEQi/i4s1O1YiatubSEZvQYD+zFmnp0qXl9OnTnuj1Xmq9+g0icUleuXw9BCAAAQhAoIgTCL2IC7JTbXZq+fLlTdQtVsBpVE2tUT1ua8xpxwe/PW963LmXzm2NIOKK+JvD40MAAhCAAASSTCD0Ii7WTj1+/Hg+QWazU7VsiGaM6rBZrE627dq1kzVr1piPSpYsaYSd9mVdtWqV+Uyjc6dOnTJ/x7MnjuzUJK9cvh4CEIAABCBQxAmEXsTFa6f+5Cc/kcmTJ3tO5+jRo2XChAnmuO6h279/f16pktiacM6ondcNicQV8TeHx4cABCAAAQgkmUDoRVy8durChQulV69eBexU235ry5YtJlNVR5MmTeTTTz/1RF+nTh3Zs2eP79Qg4pK8cvl6CEAAAhCAQBEnEHoRZ+3UtLQ0EznTYr/OYe1UFWUqztzG0KFDZdq0aXmH2rZtKxs2bDA9V9Va3bp1a77LOnfuLMuWLfNdGtipRfzN4fEhAAEIQAACSSYQehGn3RdUqHmNN954Q3784x/L119/Lbfffrt8/PHH+U7t3bu3dOvWTTRZQY9r8WAtDjxz5sx8nR+cF91///3y+uuvE4lL8uLk6yEAAQhAAAIQ8CYQehHXqVMnk3xgs0ljs0+1tZYKve3bt8sNN9zgO9crVqyQjh07ikbali9f7nmuRurWrVuHiOPNgQAEIAABCEAgtARCL+L8iv0q1Vg7VVtqaW9Uu6ftmWeeMfB79OiRtyfO7p/zmpXMzEzJyMjwnTTs1NCuaX4YBCAAAQhAoEgQCL2Iizc7Ve1UFXxnzpxxnbinn35annrqKXNMa8sNHDjQtSiwHh80aJCxW/0GiQ1F4v3gISEAAQhAAAKhJRB6ERdvdmqQnfrKK68Y4aajVatWsnnzZs9J0Zpztt+q10mIuNCuaX4YBCAAAQhAoEgQCL2IK2w7VbNbtU6cHWq9av9UFXW2bVfdunVNP1W/gZ1aJN4PHhICEIAABCAQWgKhF3Gpqaly6NAhT4BTp06VYcOGmQ4MKsi0yb3bsHaqii+NtAWN2ALAsecTiQsiyHEIQAACEIAABBJJIPQirmXLlr7Wpu2dumnTJtHCvl49T/v16yevvvqq6Z+qFq2fSCtWrJicP3/elzsiLpHLkntDAAIQgAAEIBBEIPQiTgvyfvHFF+Y5KlSokNfE3j7Yrl27jB2q3Rrefvttadq0qWgyhLNYb5kyZUxNuG+++UZUoGkG68mTJ33ZBEXisFODlhbHIQABCEAAAhBIJIHQi7ig7NQFCxaIFvSdPXu2jBgxwtiqXmPv3r1Su3ZtKVeunLFdteZc8eLF5dy5c/ku0cLAXhE9eyKRuEQuS+4NAQhAAAIQgEAQgdCLuKpVq8rhw4c9n+PNN9+UPn36mEjc4sWL84oCx16gkbjjx4+LRuVUyGVnZ+c7RT+30TlEXNCy4TgEIAABCEAAAskmEHoRp62y3nvvvQKcVGhpNqkt9quRON0fp//WmnE2kmbP69Chg6xcudLcp3z58nLixAlP9ir4bKaq10nYqcleunw/BCAAAQhAoGgTCL2I0wb1fhbp9OnTTS/U2267Td5//33P2Rw8eLDMmDHDHFeRpnve1Ep1S2AgsaFovxQ8PQQgAAEIQCAKBEIv4ipWrFggmcEJ9i9/+Yvcddddpifqhx9+6GmnTpkyRYYPH24uLVGihBFv1lZVQefsyVq6dOnAxAf2xEVhefMbIQABCEAAAlcugdCLOKedqtaoDqfVuWHDBmnTpo1JbHCzU+3UaeZq165dzT/r168vWVlZZn+cs8+qPVcLDH/55Ze+s46deuW+FDwZBCAAAQhAIAoEQi/iguzUl156SUaOHBlopz722GPy4osvmjlp27atqPjzGq1bt5aPPvrId/7Gjh0r48aNcz1Huz+0aNEiCvPPb4QABCAAAQhAIKIEQi/iEmGn6v64WbNmmSmzNqpzf9yTTz4pv/3tb4nERXRR87MhAAEIQAACRYFA6EXczJkzjaDSgr9ugkt7nGqvUz1PxZd2ZLDDZqbqv1944QW5//77pVq1anLPPffIW2+9ZQr/utWDy8zMlIyMDN/5Z09cUXg9eEYIQAACEIBAeAmEXsRdc801Zn+aM/HAiXP16tXSvn17sef5oV6xYoVJgAiqPacCToWc30DEhXdR88sgAAEIQAACRYFA6EVcvHZqvOfppC5cuNAUB/Ya8UTiSGwoCq8HzwgBCEAAAhAIL4HQi7guXbqYPqhOa9T5t81Ojfc8nQrNYh04cKCpF/fdd98VmJ1BgwYZe5ZIXHgXLr8MAhCAAAQgUNQJhF7EVapUSY4ePeo5TyrI+vfvL/Gepzdq1aqVaAap10hPTxcFg4gr6q8Hzw8BCEAAAhAIL4HQizit2bZv3z5DsEKFCgUK/9q2W/Gel5OTIzVr1sybEa0TV69ePSPqbP05TZTQhAm/gZ0a3kXNL4MABCAAAQgUBQKhF3Gpqaly6NAhz7mYOnWqDBs2TOI9T8WXRtqChnZxIBIXRInjEIAABCAAAQgki0DoRVzLli19rU1rp2qB3k2bNnlyVMtVz9USJFdffbVney69Ab1Tk7Uc+V4IQAACEIAABOIlEHoR17BhQ1MjToebnbpr1y5jh957772yePFiz/PKly8vX3/9tRFo+veJEyd8GQVF4rBT411inAcBCEAAAhCAQCIIhF7EadTsyJEjns++YMEC6d27t6SlpcmBAwd8Ge3du9c0vS9Xrpzk5uaa2nPaqeHcuXP5rtOsVWd/VrebUicuEcuRe0IAAhCAAAQgEC+B0Iu4oKzTN998U/r06SONGzcWTXLwGirMjh8/bpreuwk+ZzFhLWHi1snBeW9EXLxLjPMgAAEIQAACEEgEgdCLuHizTp12qtqlKtic4+abb5YPP/zQfFSiRAk5f/68r+ALisRhpyZiOXJPCEAAAhCAAATiJRB6ERdkp9rs1CA7VZvez5gxw3BRC1WL/JYuXdrYqrGDSFy8y4fzIAABCEAAAhBIFoHQi7ggO9VmpwbZqZMmTZJRo0YZziVLlpSzZ8+a/XHZ2dkSm8SQkpIiZ86c8Z0T7NRkLVm+FwIQgAAEIAABJRB6Eee0U9u2bSuajeqsG2eL/TrtVLep/cMf/iAPPfSQOVS/fn3Jysoy++M0QqcCz7knTu1YLUXiN7BTeYEgAAEIQAACEEgmgdCLuMKyU9u0aSPaZ1WHikH7txv8atWqyVdffUUkLpkrk++GAAQgAAEIQMCXQOhFXGHZqc5+qA8++KC8/vrrZm+cW4JDp06dZPny5Yg4Xh4IQAACEIAABEJLIPQirkOHDrJ+/XpTy02TF2IjZEePHjVFgLVe3JNPPilaC85taD/UdevWiUbZ2rVrZ/72Glo0uGfPnr6Thp0a2jXND4MABCAAAQgUCQKhF3FdunSRZcuWiWaM2rIfzr/VFlWrtHPnzvLBBx/4lg5ZsWKFdOzYUW666Sb56KOPPCd4/PjxMmbMGCJxReIV4CEhAAEIQAAC0SQQehEXr53ar18/E41Te9StZdZ1110nO3bsMLOkAm3ixImeM5aZmSkZGRmIuGiuaX41BCAAAQhAoEgQCL2Ii7fYr0bjPv/8cylbtqwpGxI7WrZsKZs2bTIfN2vWTLZt22b+dtsX17dvX5k/f77vAsBOLRLvBw8JAQhAAAIQCC2B0Iu4eLNTVZh9+umnnnbqtddea8qK5OTkSM2aNX0npHLlynL48GEicaFdtvwwCEAAAhCAAARCL+KqVq3qK6hssV8t5Dtnzhw5efKka99Ta6dqBE0zVYOGmyXrvIZiv0EEOQ4BCEAAAhCAQCIJhF7E3XfffWavm44aNWqYSJo2s9e2WTpssd+uXbvKxo0bRbNV3ZrXa3cGzVzVIr4qDHXvnHZuuP322005kVOnTuVxVotVs2H9BnZqIpcl94YABCAAAQhAIIhA6EWclgQ5ePCg53NMnz5dhgwZIq1btzZ2qrbLcqv9ph0ZVJgVK1bM7JvTiJ3X0HOtSPQ6h0hc0NLiOAQgAAEIQAACiSQQehEXlJ26dOlSufPOO01ze63vpg/09ddf55UjccLTSJxG5IIs2hIlSpjeqn4DEZfIZcm9IQABCEAAAhAIIhB6EeeXnaoRsy+//NIkKqidmpuba3qgar04t6HHtV+qMxKngk0jdE6LNiUlxUT0/AZ2atDS4jgEIAABCEAAAokkEHoRF292qtqpu3btMuLr9OnTBZhpVwfdL6ejdOnSrufYi9RydbNknTclEpfIZcm9IQABCEAAAhAIIhB6ERdkp9rsVGunalcGNyv0xhtvlI8//tjw0I4Pfnve9LhbcgQiLmg5cRwCEIAABCAAgX8XgdCLuFg79fjx41K+fHmTZarDmZ2qe962b98u5cqVkxMnTuRjqHbr22+/bT7TSJu28NIeqmvXrjWf6T313jri2ROHnfrvWqJ8DwQgAAEIQAACbgRCL+LitVO1I4NG2rzquw0dOlSmTZuWr9ivjcjFXqP75nT/nN/ATuWFggAEIAABCEAgmQRCL+LitVPvuOMOeffdd/MlKDjBaiHgAQMGCMV+k7nc+G4IQAACEIAABAqLQOhFnLVT09LSjEDTYr/OoXaqRs78WmlVqVJF1qxZI40aNTI2bKtWreSLL74Qvadap2rDOkfz5s1ly5YtvoyxUwtrCXIfCEAAAhCAAAQuhUDoRVzjxo3Nvjev8cYbb4j2OtVInN+wYk2LB2tx4JkzZ5q9cW4JDI8//rhMnjzZ937YqZey3LgGAhCAAAQgAIHCIhB6EdepUydZtWpVXjap1oFz7mHbuXOn6ehwyy23BDLRzNWOHTtK586dTastr/HAAw/IvHnzEHGBRDkBAhCAAAQgAIFkEQi9iPMr9qvQNEqnmaZNmzY1hX71by3m60xMuP7662XkyJHyyCOPGM4LFy6UXr16eTLPzMyUjIwM3znBTk3WkuV7IQABCEAAAhBQAqEXcfFkp9avXz/QTtUCv7ZfqtaWGzhwoBF9btmsgwYNMnar38BO5QWCAAQgAAEIQCCZBEIv4uLJTq1bt26gnepspaWJDZs3b/bknp6ebtQtIi6ZS5PvhgAEIAABCEDAj0DoRVxh26ma3erMZNXM1Xr16hlRp1asDhWFu3fv9l052Km8WBCAAAQgAAEIJJNA6EVcamqqHDp0yJPR1KlT5WLsVOrEJXO58d0QgAAEIAABCBQWgdCLOO3E4Gdt6v62eOxU29Re68RpSRIbdXMDac/FTi2sZcZ9IAABCEAAAhAobAKhF3ENGzY0hXl1VKhQIa9nqgWxa9cuOXfunMlOtU3tK1asKN27d5fXXnvNnKY14rTFlvZGVYGmvVWD2mp5te+y34udWthLkftBAAIQgAAEIHAxBEIv4oKyUxcsWGDEXVCxX4WinRlq165tOjycOnXKcCpevLicP38+HzMVfG5FgJ0nkZ16McuMcyEAAQhAAAIQKGwCoRdxVatWlcOHD3s+95tvvinVq1cPzE7VG2j0TQVcjRo1ZP/+/fnuqeVG9D+NZCx0wQAAIABJREFU5iHiCnuZcT8IQAACEIAABAqbQOhF3O233y7vvfdegedWoaX72myxXy3o62eB3njjjfLxxx+b+2gxYFszzg2o9mj12zOn12CnFvZS5H4QgAAEIAABCFwMgdCLuJIlS8rZs2c9n2n69Oly7bXXBtqppUqVyrNQVaSp4HOzUvWLiMRdzBLiXAhAAAIQgAAEkkEg9CJOkxQ0o9Rr/OUvfzF74oJ6p2pygxWD+rfug9P9cdnZ2UbQqRDcs2eP+RrnuV7fy564ZCxXvhMCEIAABCAAAUsg9CLOaadqhEyH0+rcsGGDNG7cWH7605/KrFmzPGd22LBhojXldGhduaysLLM/TvupPvfcc/muK1++vK9w1JOxU3mJIAABCEAAAhBIJoHQi7ggO/Wll14yze2nTJkijz76qCfLJ554Qp5//nlzvG3btqLiz2toVE5Fnt8YO3asjBs3zvUU7f7QokWLZM4r3w0BCEAAAhCAwBVOIPQiLh479a677pLf//73Mnz48HzT5Wxw369fP3n11VfN8f79+5sactpPVWvMqZ2q9eNsWZGhQ4fKtGnTfKfeLxKXNmCypKQ18L1+z6+7XeFLi8eDAAQgAAEIQCCRBEIv4mbOnCm//e1vTcFfK8qcCQna41Q7Nqgl+uSTT3qy6tixo/zxj3+UatWqSbt27WTdunWiyQ6nT58ucM37778vt956qy939sQlcllybwhAAAIQgAAEggiEXsRdc8018uWXX+YJuNgHWr16tbRv3160hMiWLVt8n3fFihWiYi6oldeoUaNk0qRJiLig1cNxCEAAAhCAAASSRiD0Ii5eO7VPnz7ypz/9yRNkly5d5O9//7s5vnDhQunVq5fnuZmZmZKRkeE7KSQ2JG3N8sUQgAAEIAABCIiY3vIamCqsvfjf+1dQ09GLxK7ia9myZaZ2m81Kdf6tCQpt2rQJjMRpluu7775rvn3u3LkycOBA0Xpxtt+q82cNGjRI1Mb1G9ipFzmRnA4BCEAAAhCAQKESCL2Iq1Spkhw9etTzoVWQaaKCRtY0wuY1nJG4Vq1aGdXqNdLT0426RcQV6lrjZhCAAAQgAAEIFCKB0Iu4WrVqyb59+8wja1Hf2MK/2narYcOG0qxZM9m2bVugiMvJyZGaNWvmnVelShWpV6+eEXU20qeJEpow4TewUwtxFXIrCEAAAhCAAAQumkDoRVxqaqocOnTI88G0gK8W8lUh5lfbzdqpKr400hY0glxh7NQgghyHAAQgAAEIQCCRBEIv4oIySa2d+vjjj4sW/vUaGq3TqJ1G8ipXruzb4J7eqYlcctwbAhCAAAQgAIHCIBB6EafiS2vE6XCzU3ft2mWicFpmZO3atZ5MVJidOXPGFPXVtlonTpzw5RcUicNOLYzlxz0gAAEIQAACELhUAqEXcVdffbUcOXLE8/kWLFggvXv3lhtuuEG2b9/uWU9Ob7B3717T9F6L/Kqg0+LBWjhYuzY4B5G4S11OXAcBCEAAAhCAwL+LQOhFXFB26ptvvilaI077pmr/VGerrViIubm5pum9/nfq1CnfqJ1tweV1Envi/l1LlO+BAAQgAAEIQMCNQOhFXLzZqfXr1zcZpSri3CJpGtH7+uuvDQOtD+dnl+pxm6nqtWywU3mhIAABCEAAAhBIJoHQi7ggO9Vmp5YtW1ZOnjzpybJ169by0Ucf5RNxzqLBTvGnf7sVAXbenEhcMpct3w0BCEAAAhCAQOhFXJCdarNTy5UrJ2qXeg2N1NkECRVvKtKsQHSLygUlNiDieHkgAAEIQAACEEgmgdCLOKed2rZtW9FsVGfdOFvs1wozL5iakWoLBdvsVE1weOSRR0yz+9i9dEEiDjs1mcuW74YABCAAAQhAIPQiLl47VUWY33BapEGFgUuUKCFnz571vR+ROF4eCEAAAhCAAASSSSD0Ii5eOzUoWUEh2+hav379ZN68eZ6ZrNddd53s2LEDEZfMlcl3QwACEIAABCDgSyD0Iq5Dhw6yfv16U8stLS1Nvvrqq3wPdPToUVMEWIv4BmWU6rXVqlWTpUuXSrdu3TzBzJ49Wx5++GFfcNipvFkQgAAEIAABCCSTQOhFXJcuXWTZsmWmbIgVac6/N2zYIG3atIlLxK1YsUI6duwoGRkZsmjRIk/u48ePlzFjxhCJS+bK5LshAAEIQAACEIh2JC5eOzUosUEpWDtVBdrEiRM9wWRmZhqh5zfYE8ebBQEIQAACEIBAMgmEPhIXb7HfeOxUK+KaNWsm27ZtM9y17db58+fzzUHfvn1l/vz5vvOCnZrMZct3QwACEIAABCAQehEXb3aqU8R5td5SEZeTkyM1a9b0nfnKlSvL4cOHicTxfkAAAhCAAAQgEFoCoRdxVatW9RVUttivl53qFHQq4jSClp6eHjghQXXisFMDEXICBCAAAQhAAAIJJBB6EXfffffJggULDIIaNWqYSJqWE7FtsWyx33gjcVrwVyNtmiSh1zRv3ly02f0nn3ySh9mt92rsHGCnJnBVcmsIQAACEIAABAIJhF7EaUmQgwcPej7I9OnTZciQIYFN7fUGuvdNhVtQn1V6pwauG06AAAQgAAEIQCDJBEIv4oKyU7Xm25133mkK9waNvXv3Su3atcVp0aqo00icc9CxIYgkxyEAAQhAAAIQSDaB0Is4v+xUFW5ffvmlSVRISUkxBYF1aKStRYsWpsfqP/7xjzzGubm5UqZMmXyRuPr165t+rM69c3qvM2fO+M4Ndmqyly7fDwEIQAACECjaBEIv4uLNTnWKOK8ptckKpUuXltOnT3vOvEbnYsuOxJ5MYkPRfnF4eghAAAIQgECyCYRexAXZqTY7NWifm4K2Ii6oMHA8iQ2IuGQvXb4fAhCAAAQgULQJhF7Exdqpx48fl/Lly4tmmeqw2aldu3aVd955x3zWqFEjuf766+Wtt97KN7tWxJUsWVLOnj0r2pd11apV5hynnRrPnjjs1KL94vD0EIAABCAAgWQTCL2Ii9dObd++vaxdu9aTp0bqTpw4YY7rHrr9+/fnlSqJrQnnFIleNyQSl+yly/dDAAIQgAAEijaB0Iu4eO3Uzp07y/Llyz1n87rrrpMdO3aY402aNJFPP/3U89w6derInj17fFcGIq5ovzg8PQQgAAEIQCDZBEIv4qydmpaWZiJnWuzXOaydum7dOpkyZYq8/vrrrkzffvttUctVR9u2bWXDhg3SoEEDycrKMoV/nXaqCsJly5b5zg12arKXLt8PAQhAAAIQKNoEQi/iGjdubPa9eY033nhDfvzjH8vAgQNFkxy8Rq9eveTll18WLR6sxYFnzpwpmsCgAi52PP744zJ58mQicUX73eDpIQABCEAAAqEmEHoR16lTJ5N8YNtsxTa337lzp6jQcyY2eBFfsWKFdOzYUYKs1wceeEDmzZuHiAv10uXHQQACEIAABIo2gdCLOL9ivzp1TjtVi/auX7/e2KqxY/PmzaYAsI6FCxeKRua8RmZmpmRkZPiuDOzUov3i8PQQgAAEIACBZBMIvYiLNzs1yE4dP368jBkzxvBW21XPj43q2ckYNGiQsVv9BokNyV66fD8EIAABCECgaBMIvYiLNzs1yE4dPnx4XoSuVatWopE5r5Geni4KBhFXtF8Onh4CEIAABCAQZgKhF3GFbadqdqvWibOjSpUqUq9ePSPqbJJD3bp1Zffu3b7zhp0a5mXNb4MABCAAAQhc+QRCL+JSU1NNI3uvMXXqVBk2bJg5vGnTJrnrrrvkwIED+U5XS/brr782n6n40khb0IgtABx7PnZqEEGOQwACEIAABCCQSAKhF3GaTWpbY7mBsL1T9ZgmKyxZssS1eb0Ve9quq3LlynlRN90Xp//Z7Fe9D71TE7nkuDcEIAABCEAAAoVBIPQi7v7775f58+d7PqtmpKodqmPRokXy0ksvFRB9tWvXltzcXDl48KAUK1ZMSpUqJWfOnJHixYu7Cj69V1AkDju1MJYf94AABCAAAQhA4FIJhF7E2Wb1Xg+o5ULuvfdeY5dqa63Dhw8XEGDa0P7cuXOyd+9eUUHnvKdbhqp2hnArAuz8Ddipl7rkuA4CEIAABCAAgcIgEHoRV7FiRVEL1Gu89957ctttt8mzzz4rP/vZzwp0YbDRNhVmx48flzJlyrj2TlVhp9E5HXqNij6/gYgrjOXHPSAAAQhAAAIQuFQCoRdxt99+u6hQix1WnGkP1DZt2kjPnj3lz3/+s9SvX1/UYrWjUaNGpiCwZqRmZ2ebj7UPa2zyg/P+8Yg47NRLXXJcBwEIQAACEIBAYRAIvYgLslN1D9zIkSNFC/TOnj07HxONvtmEhVGjRsmkSZPMcU1ccCYyxIJU+/Xs2bO+fMeOHSvjxo1zPcfZHaIwJol7QAACEIAABCAAgVgCoRdxQXbqX/7yF1NW5LHHHpPf/e53njP885//XH71q1+Z4xppu3DhQl5ETpMYrr32WtmzZ485Ho+IIxLHywQBCEAAAhCAQDIJhF7EOe1UZ2bp+fPnDbdYO9UL5j333GOyV3WkpKSYPW9ly5aVRx55RJ577rl8l8Vjp7InLpnLlu+GAAQgAAEIQCD0Ii5eO7Vz586yfPnyfDOqtqnNMr311lvl/fffzxeJ85p+LUFy6tQp39WBiOPlgQAEIAABCEAgmQRCL+LitVO1K8ORI0c8WTq7Nthz1TbViJ7aqc6acWqtZmVl+c4Ldmoyly3fDQEIQAACEIBA6EWcJitoosC8efPkxIkTeZE0a6dqj1PtdRqUrKDH9+3bJ9WqVTN15RYvXizOxAfnUtAkiZkzZxKJ4/2AAAQgAAEIQCC0BEIv4jp16mQ6MNhs0tjivDt37pTGjRubTgxBBXpXrFgh2sbLzXp1ztADDzxgRKPfwE4N7Zrmh0EAAhCAAASKBIHQi7hatWqZCJqOChUqFCj8qzXgGjZsGCjiNJnBFvPVLg/aZ9VrZGZmSkZGhu8CwE4tEu8HDwkBCEAAAhAILYHQi7igvW62sb1ao379Tp0Zp3PnzpWBAweaxvdu12Cnhna98sMgAAEIQAACEPj/CYRexFWqVEmOHj3qOWEqyPr37x8YidMs19OnT5v7tGrVyuyz8xrp6emiYPwGdirvEAQgAAEIQAACySQQehFX2HZqTk6OacFlR5UqVaRevXpG1Nk9dZoooQkTfgM7NZnLlu+GAAQgAAEIQCD0Ii41NVUOHTrkOVMXa6eq+NJIW9Dws2b1WiJxQQQ5DgEIQAACEIBAIgmEXsS1bNnS19qM1061e+KOHTsmlStX9s1k1UxXW8LECz4iLpHLkntDAAIQgAAEIBBEIPQiTjNPv/jiC/Mcbtmpu3btMnaobaXl98AqzFSg2SK/fucGReKwU4OWFschAAEIQAACEEgkgdCLuKDs1AULFkjv3r0Di/0qxL1790rt2rVNkV8VaZqd6tYnVT+3demIxCVy+XFvCEAAAhCAAAQulUDoRVxQduqbb74pffr0yRNmfiByc3OlTJkyrpmsKux0WPEWFInDTr3UJcd1EIAABCAAAQgUBoHQi7h4s1M1emZH27ZtjcW6YcMGUbvVDivMgmrK6flBIg47tTCWH/eAAAQgAAEIQOBSCYRexAXZqTY71SnibBHf2GK+VpjZFl1evVPjEXFE4i51yXEdBCAAAQhAAAKFQSD0Ii7ITrXZqU4R5wXGijgt/Hv27FnPjg3siSuMpcU9IAABCEAAAhBIJIHQizinnao2qdqjzrpxtnfqxYi4+vXrS1ZWltkf16NHD3njjTfyMS5VqpScOnXKl7ufnZo2YLKkpDWIa972/LpbXOdxEgQgAAEIQAACEHASCL2Ii9dOveqqqwIzSm0kTsWg7pfzGrqfzrmXzu087FReJAhAAAIQgAAEkkkg9CIuXjtVS4VcuHDBl6UVcUOGDJGZM2ea8iJuRX31+PTp033vhYhL5rLluyEAAQhAAAIQCL2I69Chg6xfv17OnTsnaWlp8tVXX+WbtaNHj5oiwPGIOL22WrVqMm/ePOnXr5/n7C9ZskS6d+/uuzrITuXlgQAEIAABCEAgmQRCL+K6dOkiy5YtM8V8bYN6599qi7Zp0yauYr8rVqyQjh07yt133y0q1LzG+PHjZcyYMUTikrky+W4IQAACEIAABHwJhF7ExWun2rIhfk9r7VQVaBMnTvQ8NTMzUzIyMhBxvDwQgAAEIAABCISWQOhFXLzFfi9GxDVr1ky2bdtmJsVtX1zfvn1l/vz5vpOGnRraNc0PgwAEIAABCBQJAqEXcfFmp8bbhSEnJ0dq1qzpO7mVK1eWw4cPE4krEq8ADwkBCEAAAhCIJoHQi7iqVav6Cipb7DfeSJxG0NLT0wNnK6jtFtmpgQg5AQIQgAAEIACBBBIIvYi77777ZMGCBQZBjRo1RCNpznZZttivzU71Khui16swO3bsmKgw1NIiWiC4YcOGxlLdvn17PsxBIg47NYGrkltDAAIQgAAEIBBIIPQirnbt2pKdne35IFrPTeu6aZeFM2fO+D6wFWZly5aVkydP+p67c+dOady4sec5ROIC1xYnQAACEIAABCCQQAKhF3GtW7eWTZs2eSJYunSp3HnnnWafm0bp/IYVcampqXmtu1JSUkwf1dihteluuukmRFwCFx+3hgAEIAABCEDg0gmEXsTde++9snjxYvOEWtRX7VA79N+ffvqpKeCrQu5vf/tbXNG1cuXKSW5urjm3adOmxkrVPXXOjg/aO1Wje14DO/XSFx1XQgACEIAABCBw+QRCL+K0S8OBAwc8n/Sll16SkSNHmrpvQQV6bXRNG9/7NbjXPXe2sLDXF2OnXv7i4w4QgAAEIAABCFw6gdCLON2XpskLXmPKlCkyfPhwefLJJ+W5557zJWGja16ZrLpXTiN0mvDw3Xff+d4LEXfpi44rIQABCEAAAhC4fAKhF3FOO7V8+fJy4sQJqV69et7+t+XLl0unTp3EuXdO7dXY6J1ar9pnVYeKNB2tWrXK228Xa9Xu2LFDrrvuOk/C2KmXv/i4AwQgAAEIQAACl04g9CIuyE594okn5Pnnnzf75Y4fP56v/IgTiyYw2OxV7b0aG2krUaKEnDt3Lu+S0aNHy4QJEzzJEom79EXHlRCAAAQgAAEIXD6B0Iu4IDt10qRJMmrUKJOYELuPLTZZwUbXtC6cnqv3PnjwoHzzzTcFSA4bNkymTp16SSIubcBkSUlrcPmzwx2KHIE9v+5W5J6ZB4YABCAAgUsjEHoRp43oFy1aJGqlaqQtdvzhD3+Qhx56KM8i1ePt27eXKlWqiFqtNgtVP7fRNZvY8Mtf/tJktuqeutgxZ84cGTBggCdV7NRLW3BcBQEIQAACEIBA4RAIvYhr06aNbNy40fNpb775Zvnwww/zRJyzY4MmKlxzzTWiETgdNrpWq1Yt2bdvn+c91VrVYsAayfMa2KmFswC5CwQgAAEIQAACl0Yg9CJu1qxZ8otf/MKUBLFlQTQxwdZ006QGjbjZZAXFoHXg9NzSpUubRAg7bHTNtvKK3Qdnz9PoX2Zmpi9RRNylLTiuggAEIAABCECgcAiEXsRp31QVcirK1qxZU+CpNcNUI3VOEfeDH/xAmjdvLv/4xz/ydXvQfqkaXdMuD926ee89WrJkiXTv3t2XMHZq4SxA7gIBCEAAAhCAwKURCL2I69y5s3zyySemU4Mze9Q+7rXXXitZWVn5RJwKOrcG9vYzu8/OC9n48eMDCwcTibu0BcdVEIAABCAAAQgUDoHQizjNPJ03b56cPn3alAjRbgo6rJ2qtdx0z5szEqd74fR8bZvlTGywIk47O2iHB6+hVqoKPb+BiCucBchdIAABCEAAAhC4NAKhF3G33HKL7Ny502SmujWqb9mypbFM49kTZ0Vcenq6qB2qwy1qN2jQIJk5c6YvUezUS1twXAUBCEAAAhCAQOEQCL2IU7t07969rvaoImjUqJF8+umn+UScFxoVcTk5OVKzZk1fenXq1JE9e/YQiSucNcZdIAABCEAAAhBIAIHQi7ggO/WGG26QrVu3xm2nagRNI3FBw21PnfMa7NQgghyHAAQgAAEIQCCRBEIv4rp27ZrXlP6DDz4owMJtT5yWGFHrVVtr2b1zeqEKM02QqFy5sunYULJkSSP+dP+cc+i+u9juD7FfjJ2ayGXJvSEAAQhAAAIQCCIQehHXrFkzY5eqGHOLjjVs2FA+++wzVztVxZizR6q9XsWb2/46C0uFXWxv1ViQY8eOlXHjxrny3bx5s7Ro0SKIPcchAAEIQAACEIDAJRMIvYizdqoW7XUrMdK6dWv56KOP8kSc1oHTIr5aV06zVHXPnD6kDk2Q0H6pqampcujQIU9oer2fyNMLicRd8prjQghAAAIQgAAECoFA6EWczU71qhOnx1etWpUvEqeRNi1Horaqs2PD+vXr5aabbjJ2qm16r6LPabkqU73OrU+rkzd74gph9XELCEAAAhCAAAQumUDoRVxQdqptu6XWaVAygkbntHZcjRo1ZP/+/Z7QUlJSjAj0G4i4S15zXAgBCEAAAhCAQCEQCL2Is3aq2puagHDVVVcZu9QW8bVtt1ScqfAqXry4EXOx0TWNztkEBr1eW3DpvdwSGPTz2OtjWWOnFsLq4xYQgAAEIAABCFwygdCLONt2S21Rt+iYbbultd20npwOt8b21atXNzXidKjQ08SFqlWryoEDB8xnaqtWqFBBvv76ayPugkQckbhLXnNcCAEIQAACEIBAIRAIvYjr16+fLFiwwETO3OxSrfmmD3HvvffK4sWLC3Rg0CxRPa4Zp9u3bxctSWKzU2vXri3Z2dkF7qtRPbVe/QYirhBWH7eAAAQgAAEIQOCSCYRexLVp00Y+//xzk2mqgit2jBgxQl5++WX585//LD179jSHNermtudt9OjRMmHCBKlfv75kZWVJmTJl5D//8z/lxRdfzHfba665Rv75z3/6QsVOveQ1x4UQgAAEIAABCBQCgdCLOFsnTiNxbuPuu++Wt956y9igHTt2lG3bthU4rW/fvvLHP/5Rhg0bJlOnTpW2bdvKhg0bPPHp8XXr1hGJK4QFxi0gAAEIQAACEEgMgdCLuKFDh8qcOXM87VSbnapWqbbgik1W0MiblhN5/vnnzX0GDBggQ4YMMQ3udW+cmzgcPny4TJkyBRGXmDXHXSEAAQhAAAIQKAQCoRdxuh9u1qxZZo/amjVrCjyyzU7Vrg5NmjQxSQ1qp1o79LbbbpPly5fLzTffLCtWrDAJDEuXLpVu3bp54lN79bHHHvPFi51aCKuPW0AAAhCAAAQgcMkEQi/ibHaqV7Ffm52qdqoW/lXxdvLkyTwgNWvWNBG68ePHiwo+HRkZGbJo0SJPaJoksXDhQiJxl7ysuBACEIAABCAAgUQTCL2IC8pO1WzTHTt2mMxTFWte45VXXpGBAweaw2PGjJGJEyd6npuZmWmEnt8gOzXRS5P7QwACEIAABCDgRyD0Ii4oO7Vly5ayadMmsXaqZrFWqVJF9uzZY577mWeeMf/v0aOHNG/e3PytyRI2AcJtX5wmQsyfP9935WCn8mJBAAIQgAAEIJBMAqEXcUHZqU47tVatWp7tsp5++ml56qmnTMFftVj9hvZWPXz4MJG4ZK5MvhsCEIAABCAAAV8CoRdxtu2WtszSjg3aI1WH7ahg7VSNvNWtW9fzYWfMmCGDBw8WjaBpgeCgEdSHFTs1iCDHIQABCEAAAhBIJIHQi7iuXbuaPqnaJsstO9XaqdpbVcuRrF692rTTWr9+veGmFuonn3xikh5WrVolmiBRqVIl06VBBaFG+vTanTt35nFWi/XcuXO+3LFTE7ksuTcEIAABCEAAAkEEQi/iguzURo0amf1wui9Oy4ioIPMaKtQaN24spUuXFo3seQ1t0aWi0W8QiQtaWhyHAAQgAAEIQCCRBEIv4oKyU1u3bi0fffSRaD04rQPnZ4NqdO6mm24ykTq7503rxsU2u48nEucn4tIGTJaUtAaJnLd/y733/Nq7lt6/5QfwJRCAAAQgAAEIeBIIvYiz2anlypWTL7/8ssCDWBGnLbc2btwoTZs2lQoVKsh7772X71wVblpDTpvbawarrSWnfVR37dqVr3tDSkqKZ4KEvSl2Km8VBCAAAQhAAALJJBB6EWftVI2WuUXZbHbq7NmzZcSIEZ526oMPPiivvfaaYe1mp6qFau+v0TmvXq12srBTk7ls+W4IQAACEIAABEIv4tzsVE1IsHvWbHZqkJ06aNAg0y9Vh/ZX9dvzpsdjLdbYpYKI4+WBAAQgAAEIQCCZBEIv4oKK/f7oRz+SDz74QJx2qlqn2h/VOTS6plmqKvpKlixpInYdOnQwGauxQ/uv+iVI6PnYqclctnw3BCAAAQhAAAKhF3FB2akagdP9b0F2qk716NGjZcKECabY7/79+02JkW+//bbAKihfvrwpReI3iMTx8kAAAhCAAAQgkEwCoRdxQdmpWsBXC/kG2akKediwYTJ16lRp0qSJKUviNerUqZPXtsvrHERcMpct3w0BCEAAAhCAQOhFXPv27U2De80ozc7OLjBj99xzjyxatMjYqVpq5PrrrzdZqG5ts+bMmSMDBgwwZUb0XB0aldu3b584Exs6d+4sy5Yt810d2Km8PBCAAAQgAAEIJJNA6EXcCy+8IM8++6wcOHDANTtVW23t3r3b2KmPPPKIZ0KCZrF+/vnnonvj1KLdtm1bPuHmnARnEgSRuGQuT74bAhCAAAQgAAEvApEQcb/97W/l1KlT5j8dGjWL7Z3aqVMnWblypWexX01qUPGmQ9tuHT161HNVxBOJw07lpYIABCAAAQhAIJkEQi/igrJTbe/UWrVqGVtUhxb7jU1M+Oyzz6Rhw4bm+MKFC6VXr16e3DMzMyUjI8N3Xvzs1CulY0MyF2bYvpvuFWGbEX4FCpAkAAAgAElEQVQPBCAAAQiEXsQFZafaYr9XX321HDlyxHNGNaFBExt0zJ07VwYOHIidyvqHAAQgAAEIQCCyBEIv4oKyU22x3yCLVIVb//79zUS1atVKNm/e7Dlp6enpomD8BnZqZNc8PxwCEIAABCBwRRAIvYgrbDs1JyfHZKTaUaVKFalXr54RdbZmnE2W8JthslOviPXPQ0AAAhCAAAQiSyD0Ik4b3GuD+tzcXNd+ptZOTU1NlUOHDnlOxEsvvSQjR440nRY00hY03Pq0Oq8hEhdEkOMQgAAEIAABCCSSQOhF3Lhx42TatGlGoNlImVvvVBV7mzZt8mT1gx/8wAg4TXjQ/XN+vVO1DMn58+d9uSPiErksuTcEIAABCEAAAkEEQi/iguzUm2++WT788EO59957ZfHixeZ53bJT9fOdO3dK48aNRdtqnThxwpdNUCQOOzVoaXEcAhCAAAQgAIFEEgi9iAvKTrWJDWlpaaYgsN9Yv3696dZQrlw5Y89qvbnixYvLuXPn8l3m1VPVeRKRuEQuS+4NAQhAAAIQgEAQgdCLOLfsVGeLLG2ztX37dhNh01pwXkOjc9r0vlSpUuIm+Jz3vOqqqzw7P9j7I+KClhbHIQABCEAAAhBIJIHQizhrp6pYq1Gjhhw/flw2bNiQV8zXFvt12qklSpQoEF2bMWOGDB482LDU43573uKJxGGnJnJZcm8IQAACEIAABIIIhF7EBdmpNjs1yE7t3bu3LFiwwPBQC1UTG0qXLm1s1dhBJC5o2XAcAhCAAAQgAIFkEwi9iAsq9msL8wbZqRpd06b3uoeuZMmScvbsWaldu7ZkZ2cX6LeakpIiZ86c8Z0b7NRkL12+HwIQgAAEIFC0CYRexAVlp44YMUJefvnlfNmpXlM6evRomTBhgtSvX1+ysrKkTJkyxmKdNGlSvhZcmr0a23s19p7YqUX7xeHpIQABCEAAAskmEHoRF2Sn3n333fLWW2+5JivEwtXeqdpDtW3btmZfndeoVq2afPXVV0Tikr06+X4IQAACEIAABDwJhF7EDR06VObMmWMSEdxqt3Xq1EmWL18emJ2qBPQ+AwYMkAcffFBef/11szfOLcHB3tNv3WCn8lZBAAIQgAAEIJBMAqEXcZqMMGvWLDl16pSsWbOmACttZr9x40aTtPDoo4+avW6awRo7ypYtK0eOHBHtxtCuXTtZt26dJ3ctGtyzZ0/fecFOTeay5bshAAEIQAACEAi9iOvcubN88sknZo9abFFenT6bnarnffTRRybb1C1iV6dOHdmzZ4+ZcS34q+d6jfHjx8uYMWN8VweROF4eCEAAAhCAAASSSSD0Im7UqFEyb948OX36tMkY1SxTHRcuXDD/tx0b4j1Pr1GBNnHiRE/umZmZkpGRgYhL5srkuyEAAQhAAAIQ8CUQehF3yy23mJ6napGqVRo7bLHfeM/T67UsidqhOpydGuy9Bw0aJDNnzvQFh53KmwUBCEAAAhCAQDIJhF7EqV26d+9eV4tUwTVq1Eg+/fRTY6vGc15OTo7UrFnTl7nTevU6ETs1mcuW74YABCAAAQhAIPQiLsgmveGGG2Tr1q0S73kaQdNIXNBw21fnvAYRF0SQ4xCAAAQgAAEIJJJA6EVc165dTbKC2p4ffPBBARZ2T5yed/DgQRONO3ToUIHztKOD2rKaIFG5cmX59ttvRSNu//Ef/yHbt2+X1atX511D79RELjnuDQEIQAACEIBAYRAIvYizxX41kcEtOtawYUP57LPPpHXr1kakaSkSe57z/FKlSpljOrRnqiZKqFjTHqqxQwWj2+fO88aOHSvjxo1znYPNmzdLixYtCmN+uAcEIAABCEAAAhBwJRB6EWdt0hMnTriWGFHxpuVCZsyYIVrfTSNqbk3t9elV5GlELjU11TVaZwmVKFHCNYnCSZDEBt4oCEAAAhCAAASSSSD0Is5mnXrVidPjq1atEmu7agarVw249evXmxpxaqd+8803+bg7s1TLlSvnWjDYeQF74pK5bPluCEAAAhCAAARCL+KCsk5tiyyNyO3atcvUklOrNHakpKSYjg1qq9aoUUP279/vOft6rt7HbyDieHkgAAEIQAACEEgmgdCLOGunaoRNxdlVV10landay9S23bJ26sqVK10FmD1PYev1bj1T7UTod9hiwl6Tg52azGXLd0MAAhCAAAQgEHoRZ9tu6Z44t+iYbbt1zz33yOeff24yTdUajc0wbdCggTmuQxvfq0grWbJk3j1V2Nm2XvGIOCJxvDwQgAAEIAABCCSTQOhFXL9+/Uxze42cuWWnas03fYiXX35Zfvazn5mEBK+MUxV4WpKkWLFipsSIFv3V4r+x93VmsnpNDiIumcuW74YABCAAAQhAIPQirk2bNiaCVrZsWcnOzi4wYyNGjDACTiNtWVlZRsBpYoLarbHibPTo0aLn244NZcqUkT59+sgrr7yS7766Z27fvn2+qwM7lZcHAhCAAAQgAIFkEgi9iLN14rz2sN19990ydepUqVWrlmdrrkqVKpmkhmHDhsmQIUMCOzbEU+yXSFwyly3fDQEIQAACEIBA6EXc0KFDZc6cOZ52qmanPv/884HCTKda79OzZ0/JyMiQ5cuXmyQJtVVjh3ZxeOedd3xXByKOlwcCEIAABCAAgWQSCL2I0/1ws2bNMt0W1qxZU4CVZp2+9tpr0rRp07y9cJq4EBu5q1+/vin2q/vhli5dKt26dfPkvmTJEunevTt2ajJXJt8NAQhAAAIQgIAvgdCLOJud6lXsV7NTp0+fLnfccYfvgzqTFTQSt2jRIs/zx48fL2PGjCESx8sDAQhAAAIQgEBoCYRexAVlp2q2qYo47dzgN5wFfFWgTZw40fP0zMxMY7n6DezU0K5pfhgEIAABCECgSBAIvYgLyk5t2bKlzJs3z9ipWh9O97hpJquzf+r1118vI0eOlEceecRMqiZLbNu2zfztZr327dtX5s+f77sAyE4tEu8HDwkBCEAAAhAILYHQi7ig7NR47dTSpUvLyZMnTV04W2LEa1a0t+rhw4eJxIV22fLDIAABCEAAAhAIvYizbbe05ZZ2bNDyHzpsW6yLtVM1gqYFgoOGW2Fh5zXYqUEEOQ4BCEAAAhCAQCIJhF7Ede3a1VijWsTXLTvVaacqKD1PW2jpsG209O8bbrhBtm7dKpogUaVKFSMCVRDeeOON5u9PPvkkj7NarM5r3SYAOzWRy5J7QwACEIAABCAQRCD0Iu7/Y+9d4G0qt///0Sn3OzuJKHcpXZBEHRTVIezaSienSEik2zfVoQuFLkqdREWKjpNytks6R0elu1vy9cutJERyJ7mTnP9rPK//s75zr73mmmvtbe31rLXfz+vVa+/WeuZcc76fMZfPHuMZYwSFU+vVqyejR48OzE5VEFpipH79+qKhVfXs+Q3dWxepdReeuCBz4n0IQAACEIAABAqKgPMiLig79aKLLjLFfoOyUxXowoUL5eKLLxbd87Z7927DWOvG2dCsha6ePO3BGm0QTi0oE+VzIAABCEAAAhCIRMB5EWezU7Uf6k8//ZTrHlTEvfnmm6IZqHYfm9aMK1u2rEybNs141LQzg2asbtmyRbReXJAnzluOxM9sCKfyQEEAAhCAAAQgkEwCzos4G05Vb1mkZINYs1OLFy8eCqGqkNMkCb+h3jm/Xq32GDxxyTRbPhsCEIAABCAAAedFXKRwqiYk2D1rsWanepMV1DMXbc+bvh8eYg03FUQcDw8EIAABCEAAAskk4LyICyr2e9lll8m4ceNy9E4NB1qxYkXZs2ePKfCrok+9crrnrVWrVvLZZ5+Z6TVq1JCNGzea32MRcYRTk2m2fDYEIAABCEAAAs6LuKDs1CuuuEKeffbZmGq/DRo0SIYPH26K/er+OOvRCw/TxrInDk8cDw8EIAABCEAAAskk4LyIC8pO7d27t4wcOVJUVE2YMCEqyzvuuEPGjh0rDRo0kNWrV/vOpWNDMk2Sz4YABCAAAQhAIBYCzou4li1byqpVq0x26aZNm3Ld07XXXivTp0+Xl19+Wfr165fjfa335vWyTZw4Ubp37y5aIFhvvG7duiZbVQv9eudeeuml8sUXX0TlRzg1FvNiDgQgAAEIQAACiSLgvIgbNWqU8bRt27YtYnZqzZo1Zd26dRFFnBda+fLlZceOHaYunGa0btiwIRRODYd79913ywsvvBCVOeHURJkk54UABCAAAQhAIBYCKSHinnnmGTl48KD5T4d6zby9U9VTp3MefPBB33tu27atfPjhh+Z9rSn37bff+s7t1q2bTJ48GREXiwUxBwIQgAAEIACBpBBwXsQFZadqaPTrr78WTYDQ7FO/ceWVV8qcOXPM21oEuEuXLr5zs7OzJSsrK+qCEE5Nir3yoRCAAAQgAAEI/P8EnBdxQdmpGhpdv369VK9ePeKeObvS7dq1kw8++MD876RJk6RHjx459sF5LaJXr14yfvx4PHE8JhCAAAQgAAEIOEvAeREXlJ2qdd80nKqeNfWwxeKJa9q0qSxZssR37oUXXmgSH6IN9sQ5a9NcGAQgAAEIQKBQEHBexJ3ocOrmzZtNnTg7MjIypFatWkbU/f777+ZlmywRzQIIpxaK54ObhAAEIAABCDhLwHkRpw3u165dK/v374/Yz9SGU1WIaVjVb2hR4I8++khUfKmnLWhE6tPqPQZPXBBB3ocABCAAAQhAIJEEnBdxQ4cOlVdeecWUB7GesvDeqRpO1bIgL774oi8rbb21a9cu+fXXX0WL+dpzRToglrZbiLhEmiXnhgAEIAABCEAgiIDzIi4onGoL82pR4Pnz50e93++++07q168vZcuWlX379kWdG+SJI5waZFq8DwEIQAACEIBAIgk4L+KCslNtYsO5554rK1eu9M04VYgLFy6Uiy++2HRpOHz4sJlbpEgROXr0aA7GeOISaXKcGwIQgAAEIACBE0HAeREXKTvV2yJLC/eqeLvzzjtlzJgxviJOxZqGUlXAlSpVKlQ4mHDqiTAjzgEBCEAAAhCAQEETcF7E2XCqirWqVavK3r17ZdGiRUaQ6bDFfmvXrm3ab6nA0xEeDr3gggtk6dKl5j3dUxctXKrvR9szp+cgnFrQpsrnQQACEIAABCDgJeC8iAsKp9rs1NKlS8uBAwd8V1fPo43uvSJOw6ZWrKn4s2FU/f348eNRLYXEBh4kCEAAAhCAAASSScB5ERdU7NcW5i1TpowpQxJtaBar7qFTsaYiTTNWf/nll4heuaDEBkRcMs2Wz4YABCAAAQhAwHkRF5Sd2r9/f3nppZdCwkyX1LtnzrvEgwYNkuHDh4eyU3V/XN++feX555/PdUyQiCOcysMDAQhAAAIQgEAyCTgv4oLCqZ07d5aZM2eG9sJFg3nHHXfI2LFjTYeGaIWBixYtKkeOHCGcmkzL5LMhAAEIQAACEIhKwHkRp96zcePGyaFDh0xZEE060HHs2DHz8/LLL5e5c+f6JiuUK1culAQxceJE6d69u2iIdvLkyb4eO+/+OT96hFN5siAAAQhAAAIQSCYB50Xcl19+acKlc+bMkT179uRipc3sFy9eLKecckrEjg7eA3777Tczb/bs2dKhQwdf7m+//bZ07do16roQTk2m2fLZEIAABCAAAQg4L+I0cUHrwGkWaaSM0Xr16snq1atziDi/ZbX73Lp06SLTpk3zXf177rnH7JOLNvDE8fBAAAIQgAAEIJBMAs6LOBVUGvr0C6dqp4bly5fnEHHexAYt8qseOB1WxL311lvSrVs3X+7Z2dmSlZWFiEumZfLZEIAABCAAAQhEJeC8iPvjH/8o2vNUe53qnrjwYdtuaTKCFWvFihUz2aoHDx7MMd2KuMzMTHn33XfNe3pceNutXr16yfjx46OCI5zKkwUBCEAAAhCAQDIJOC/itJjvxo0bfTss1K1bV77//nvTA9UmO/gBVRG3efNmOeOMM6J2bLAh2mgLM2TIEBk6dGjEKUuWLJHGjRsnc135bAhAAAIQgAAE0pyA8yLOhlPVExfuMdO1seFUrycumohTD5ruswsa1IkLIsT7EIAABCAAAQgkk4DzIq59+/amE4PWbfvqq69ysbIdG7wiTsuQ2H1x3mQIFWbac7V8+fJRmVMnLpkmyWdDAAIQgAAEIBALAedFnC32q6HSSN6x1q1byyeffBLY1F5h2OOt4PPr7KBlSOz+Oj+IZKfGYl7MgQAEIAABCEAgUQScF3FB4dTLLrtMPv/885jabmmCRP369UNtt6JBJZyaKJPjvBCAAAQgAAEInAgCzou4tm3byrJly0wYNNKeOJudqiHUIOG1cOFCufjii6VMmTImRKueOE2I0PN6vXKa2RqUJIEn7kSYH+eAAAQgAAEIQCCvBJwXcdoia+rUqSa8aUWaV3A1bNjQFANW4RWpGLAXjJYc0ab3VapUkW3btvkyQ8Tl1Zw4DgIQgAAEIACBgiLgvIhr1qyZrFmzRlSsVa1aVfbu3SuLFi0K9UNt0qSJfP3111K5cmXZsWOH4VapUiXZtWtXLobhe+L8IKtXTztERBvUiSsoE+VzIAABCEAAAhCIRMB5EWcTG/wSDbSO3Pr16wO9a3rzVsRpCFW9dqVLlzai0A5NaNAwKp44HhYIQAACEIAABFwn4LyIixRO9UK1JUZ0b5wmLkQbq1atEp1XvHhxU7KkevXqsmnTplx76TTkGt7tIfy87Ilz3bS5PghAAAIQgEB6E3BexNlwqnrNVHCFj/79+8tLL70k77//vnTs2NGEQbXjwpYtW0yrLu8YNGiQDB8+XGrXrm28d6VKlTLHTJkyJce8GjVqyIYNG6KuPOHU9H4wuDsIQAACEICA6wScF3FB4dTOnTvLzJkzpUePHjJp0qSovO+44w4ZO3asNG/e3Oyr8xv6/oIFC6KeC0+c66bN9UEAAhCAAATSm4DzIu7222+XiRMn5shO9S7J5ZdfLnPnzhXt7KDeuGhDz9O9e3fp06ePaXCve+Mi7bXr16+fjBkzBhGX3rbP3UEAAhCAAARSmoDzIk7Li7z22mtmj9q8efNywW7atKksXrzYeM4GDBhgQqjr1q3LVeftggsuMPM0eWH27NnSoUMH34WbNWuWCbNGG4RTU9ruuXgIQAACEIBAyhNwXsQFFfu12alB4dQhQ4bIY489ZhYsKytLpk+f7rt4w4YNk8GDB+OJS3nz5gYgAAEIQAAC6UvAeREXlJ1qOzYEhVO9IVIVaCNGjPBd1ezsbCP0og32xKXvQ8GdQQACEIAABFKBgPMiLig71Rb71XDq2rVrRVtrRdrPtmTJEmncuLFZE02WWLFihfk90r64G2+8MVfGavhiEk5NBfPmGiEAAQhAAALpS8B5EReUnRprONWGSDdv3izVqlWLuqLa8WHnzp144tLX7rkzCEAAAhCAQMoTcF7E3XPPPTJ58mQ5dOiQHD58WLQllg7boN6GU9UT9/nnn8tTTz0le/bsybUw+r6WDlEPmhYIDhq2u4PfPMKpQQR5HwIQgAAEIACBRBJwXsTpXrf9+/ebNlmRslNtOFUhffDBB3L//ffL8uXLczG75ppr5L333jM9VzMyMkIiUAsDFy1aNBRe1QM1g9WvzZc9cbRwapXuL0ixKnVC1/DjU/6ZsIlcXM4NAQhAAAIQgED6EnBexAWFU1WErV692qzQTz/9ZPa9hYdC9TW9UW3LVb9+fSlWrJgcPXo06qriiUtfo+fOIAABCEAAAulAwHkRF5SdetFFF8lXX30lu3btMn1RVcCFCzD1tKlo06SHiy++2LTbsr1RbdN772KefPLJuerMhS824dR0MH/uAQIQgAAEIJC6BJwXcTY7tUyZMsbTFj6siBs5cqQ88MADxsumze3Dhx6/bds20eb2+p/ur9NRtWpV0WQHFW7ad1WHnsO+77e0ZKemrtFz5RCAAAQgAIF0IOC8iLPhVE1kiBTitNmpmZmZ8u677xov24EDB3KtTbt27cyeOR0lS5Y0iRJ+I5Y9cXji0sH8uQcIQAACEIBA6hJwXsRFCqdqhqomOuiw2am9evWSCRMm+K6E9kzV3qk61Otmj490AOHU1DVorhwCEIAABCBQWAg4L+KCiv1edtllprTIXXfdJaNHj/ZdNxV+WuBXRZ8W+FXPnma2ahFgHTVq1JCNGzeGRJ4tYeJ3QsKpheUR4T4hAAEIQAACbhJwXsQFZadeccUV8tFHH4kNp0bDPGjQIBk+fHgoO9V65MLDtHji3DRWrgoCEIAABCAAgf8j4LyIC8pO7d27t4wbN07atm0rc+fOzbG24S217rjjDhk7dqypCxetDlzx4sWj7pnTD2FPHI8RBCAAAQhAAALJJOC8iGvZsqWsWrVKSpcuLZs2bcrF6tprr5Xp06dLxYoV5ZdffonKUvfE6d64ChUqmK4OZ5xxhjlu2bJlctJJJ4USJ2yyRLSTEU5Nptny2RCAAAQgAAEIOC/iRo0aJVo+RMuDRMpOrVmzpqxbty4wWUFFmtaK08zTTp06me4NfkOTJMaPHx/VOvDE8fBAAAIQgAAEIJBMAikh4p555hlTnNcW6FVBFt47VcWZrfMWCai39luk0Kv3mG7dupl+rdEGIi6ZZstnQwACEIAABCDgvIgLyk61vVPjEXHTpk2TLl26+K5+dna2ZGVlRbUOwqk8PBCAAAQgAAEIJJOA8yIuKDvV7l/TEiLR+p1qkoPtlzpp0iTp0aNHjn1w3kUgnJpMk+SzIQABCEAAAhCIhYDzIi4oO9UW+w3yxHkzTps2bRqqDxcJ0oUXXigKhnBqLCbEHAhAAAIQgAAEkkHAeRF3osOp2ie1WrVqIdYZGRlSq1YtI+rsnjqbLBFtQQinJsNc+UwIQAACEIAABCwB50WcNrhfu3at7N+/P2Jtt3jDqSq+1NMWNKKFZvVYEhuCCPI+BCAAAQhAAAKJJOC8iBs6dKi88sorsmPHjpCnLFLv1KBwqh6jnrZff/1VKlWqFDWTVc8VrRgwIi6RJsm5IQABCEAAAhCIhYDzIi4onHrppZfKF198EWqlFe2mv/vuO6lfv35gxwY9R5AnjnBqLObFHAhAAAIQgAAEEkXAeREXlJ1qExtsH9RooBYuXCgXX3yx2ExWrTfnzVq1x+rrx48fj8qccGqiTJLzQgACEIAABCAQCwHnRVyk7FRvi6yGDRvKypUrQ8Is2k1rseASJUqYrg3hhYFV2Omw4i3IE4eIi8W8mAMBCEAAAhCAQKIIOC/ibDhVxVrVqlVl7969smjRIrO3TYct9qvCzg7NPv35559zMLN74vTFoJpyOidIxBFOTZRJcl4IQAACEIAABGIh4LyICwqn2uxUr4izN+712HmFmfXEeRMkwmEFiTg8cbGYF3MgAAEIQAACEEgUAedFXFCxX1uYN5KIC4e2atUq0T10Wvj3yJEjvh0b2BOXKHPjvBCAAAQgAAEInCgCzou4oOzU/v37y0svvWQEWfgI98QNGjRIhg8fLrVr15b169dLqVKlpFOnTvLWW2/lOFT3zen+uWiDcOqJMkHOAwEIQAACEIBAXgg4L+KCwqmdO3eWmTNnSizZqXfccYeMHTtWmjdvbvbV+Q3t4KAFhqMNwql5MTeOgQAEIAABCEDgRBFwXsSp92zcuHFy6NAhOXz4sElK0HHs2DHz8/LLL5e5c+eaUiH2NT84EydOlO7du0ufPn1k/Pjxpl7c0aNHc02/55575Pnnn8+ziKvS/QUpVqXOiVojzgMBCEAAAilI4MenOqTgVXPJqUTAeRH35ZdfmnDpnDlzZM+ePbnYajP7xYsXx1TAV7swaFLD5MmTRffa+SU2fPzxx9KmTZuo60g4NZXMnGuFAAQgAAEIpB8B50WcJi5oHTit6xapAG+9evVk9erVoWSFaEtkM04zMzPl3Xff9Z2aX0/ckiVLpHHjxulnLdwRBCAAAQhAAALOEHBexKmgUs+ZXzj13HPPleXLl5skhaBkBCviNJGhW7duvouQnZ0tWVlZUReJPXHO2DAXAgEIQAACECiUBJwXcX/84x9Fe57u27fP7IkLH7btlt0TF56R6p0fyRMXaV9cr169zJ65aINwaqF8XrhpCEAAAhCAgDMEnBdxWsx348aNvh0U6tatK99//31M2akq4jZv3ixnnHFG1I4MNkQbbZWGDBkiQ4cOjTiFcKoz9s2FQAACEIAABNKWgPMizoZT1RMXKZPUhlMj9UMNXzUVcepB0312QSOoYwOeuCCCvA8BCEAAAhCAQCIJOC/i2rdvL/v37zcdFr766qtcLGzHBlsnrkKFCtKxY0cj+DSj9Zdffgkdo8JMe65WqlTJJEqUKVNGbrrpJtmxY4dMnz49x7nXrFkjder4lwlhT1wizZJzQwACEIAABCAQRMB5EXfRRReZwrsq4nRPnO3MoCJMR+vWreWTTz4xpUPsa343bYVZsWLFjMhT4afCLlLWKyIuyHR4HwIQgAAEIACBZBJwXsRpod8ZM2aI1otTj1z4uOyyy+Tzzz+X0qVLy4EDB3L0Qw2vA2eFWdmyZU2ihCZDaO24SCNIxBFOTabZ8tkQgAAEIAABCDgv4q699lrZtWuXbzi1YcOGpo6c9ljVor+VK1c2iQtaO05FnXdYYVa+fHkTVtVRrly50O/euf/617+kQwf/atuEU3l4IAABCEAAAhBIJgHnRZz1xC1dutSIOQ2baijUhkAbNGgg3377rfz73/+Wa665JipLK+Kuvvpqs18u2ujbt6+8/PLLvlMQcck0Wz4bAhCAAAQgAAHnRZxNbNC9b9WrV5dp06blEGDnnXeefPPNN7J161aTdao//Yb1rrVq1cqEZ8P3wnnDrzZhwu9c0cKp6dQ7ld5/fElAAAIQgAAE3CTgvIiziQ3a3F47MoQnL9SoUUM2bNhgkh+08K/fHjfFf/3118vUqVOlfv368n+AQfwAACAASURBVMMPP+QScZrwoAkUOipWrGg8f34DT5ybBs1VQQACEIAABAoLAedFnA2nLlu2TLZs2WKySTWr1Iq52rVrG0GmSQ+nnXZa1NZb6snTwsGdO3eWWbNmhdbYez77ogq6SB0i7PuIuMLyiHCfEIAABCAAATcJOC/ibDi1atWq8s4775gsVG+WapcuXeSf//ynCaPqHFukt1GjRvLzzz/L7t27Q+SLFy9uerDOnz9fWrZsaV7XY7RZvYZavUMzV7XdV61atSKuHNmpbho0VwUBCEAAAhAoLAScF3EaTlVPm2aTRuqicP/998vIkSNNONVbnNfbQ1WzUffs2WPKj+i5SpYsKaeffnrgGpcqVSpiWRM9EE9cID4mQAACEIAABCCQQALOizj1vv31r3+V9evXhzB4w5+9e/cWDbmqd047MAQNFWbqtdM9b9H2z6nXbsqUKZKZmRnxlIi4INK8DwEIQAACEIBAIgk4L+K0Yb0mL2jmqIoubZmlIVLrlevatauMGDHChD1tNwcF1qZNG5PAoPXitKODHVo4WIWZhlC1bMlZZ50l2n9Vw6laBHjv3r1m6vnnn2/6rPoNwqmJNEvODQEIQAACEIBAEAHnRdwHH3wgV111VdT70PCo7dagE8855xyTlPDTTz+ZsiQqzLQ/qg4r/vr37y9jx471PW/37t1l4sSJvu/jiQsyLd6HAAQgAAEIQCCRBJwXcV988YX88Y9/jMrAZpJ6PXEaWtWSJCrwtMWWHVbEtW3bVubOnet73m7dusnkyZPzJOLSqU5cIo2Pc+ckQE0+LAICEIAABOIh4LyI0wxR9aypQNOyIuHZqdp2a8CAAaIdFrwirm7dunLJJZfIggULRDs1hIs4LRqsma1+Izs7W7KysnzfJ5waj5kxFwIQgAAEIACBE03AeRGXl3CqQrLZqd4sVX3deuImTZokPXr0CM0LB9urVy8ZP358njxxS5YsMXvuGBCAAAQgAAEIQCBRBJwXcXkNpwaJuKZNm4qKLb8R1HaLPXGJMknOCwEIQAACEIBALAScF3GJCKdqxmu1atVCfDIyMkx2q4o62wmiZs2asm7dOl+GhaV3aixGxJz0IcC+vPRZS+4EAhBIfwLOi7i8hlN175x2ZyhatKj5aYeGU1WAqactaEQqLmyPwRMXRI/3IQABCEAAAhBIJAHnRVxewqlWwKlXzSY7WEGmP7X7g9abs163SIBPOeWUqMWAo4k4F7JT8agk8rHh3BCAAAQgAIHkE3BexIWHU6tUqSLHjx+X7du3G3rqUevTp0+u7FStD6d14sKb21sxp4V9vaVHIi1FNE8c2anJN16uAAIQgAAEIFCYCTgv4vIaTrWL6pedqnXktFWXvh/J66bi79ixY762QTi1MD823DsEIAABCEAg+QScF3F5Cad6hZv+ftppp5l+qfq7evF0qEdv27ZtuVZA23vpHERc8o2TK4AABCAAAQhAwJ+A8yLOhlNVXNWpU8eIsT179oTuyBtOLVGihGm35R3qZbMeNW1qb5McNOFBe7H6Df28aHvmCKfyWEEAAhCAAAQgkEwCzou4eMKpZ555pmzcuNGXp+6Ts+8XKVLEeNw0CcI2vdcDVdwdPXoUT1wyrZLPhgAEIAABCEAgkIDzIi6ecOp1110nM2bMyHXTGjpVD94NN9wg77zzjnlfvXJHjhwRFXabNm0KdXKwB6tXT3uv+g32xAXaFhMgAAEIQAACEEggAedFnJYD6dmzp8yePduESsuVK2c8ZzZztEWLFjJw4EDJzMyU119/XW677TaDq3LlyqEMVstv3LhxcsUVV5jCvrVr15b169dLqVKlzDF/+9vfcmCuUaOGbNiwwRc94dQEWiWnhgAEIAABCEAgkIDzIk67K6jo0kQD9YzpT93npl40Ha1atTLiTed8+umn0qZNm6g3raJNs1KbN28uixYt8p2r7y9YsABPXKAJMQECEIAABCAAgWQQcF7ExdJdwQqzhQsXyiWXXCI2w9QCPffcc2XFihUyevRoOeOMM4zXTmvLaYN73RsXKcGhX79+MmbMmDyJOBeK/SbDmE7UZ1Ko+ESR5DwQgAAEIJDOBJwXcUG9Uxs3biy9e/c2xX5Xr14tDRo0kNNPP13q169vPHM6HnvsMRk6dKisWbPGZLjq0PBshw4dfNdWw6t33XWX7/v0Tk3nx4J7gwAEIAABCOSPQEE4JJwXcfFkp+7atUuuv/560RCsZqHaciIaYv3kk0/kvffek2uuucasSlZWlkyfPt13hTRJYtq0aXnyxC1ZskRUXDIgAAEIQAACEIBAogg4L+LiyU5duXKlaOjUb7zxxhvSo0cP8/bgwYNlxIgRvnOzs7ON0PMbZKcmyiQ5LwQgAAEIQAACsRBwXsQFhVMbNmwoAwYMyBFO1dpvGRkZ8uOPPxoGTzzxhPnZqVMnOe+888zvjRo1MvvkdETaF3fjjTfKlClTfBmSnRqLeTEHAhCAAAQgAIFEEXBexMUbTtXEhfCuDRbe448/Lo888ogJt1arVi0q00qVKsnOnTvxxCXK8jgvBCAAAQhAAAL5IuC8iIsnnKqet5o1a/oCeeqpp+TBBx+UWDJe9SS2Fl2kExJOzZfdcTAEIAABCEAAAvkk4LyIixRO1XvWWm86vL1TtXbcyJEjzetaENj+bsOlNrFBCwhXqFDBiDQtR6KhVT1WP8sOPUbbb/kNwqn5tDwOhwAEIAABCEAgXwScF3HxhFO//vprufTSS0OFgMPJ3H333fLCCy+Yl0uWLBnKXo1E8KSTTjK9Vf0Gnrh82R0HQwACEIAABCCQTwLOi7h4wqnaUktLifiFQW04VZmdeuqpoT1v2gHi2LFjOVAGeeIQcfm0PA6HAAQgAAEIQCBfBJwXceHh1JYtW8r8+fNDQs0bTm3durUsXrxYzjnnHJOZumPHjhxwZs6cKZ07dzavaQbrgQMHzO/aR3Xt2rU5slSLFSvmmyChxxBOzZfdcTAEIAABCEAAAvkk4LyIiyecOmHCBOnfv79vOFVrxGmtOB2RwqkaQrVePPXORWrHZXnjicun5XE4BCAAAQhAAAL5IuC8iIsnnNqlSxeZMWOG7142FV7PPvusAaYi7ffff5eTTz7Z/Awf+np4iNU7BxGXL7vjYAhAAAIQgAAE8knAeRGn4VTNHm3SpIksWrTIhEFVXNlacN5wqnritEfqpk2bjDjTeV7v2ttvvy1du3Y1yEqUKGHOUbFiRdm9e3cIo76u7bqKFi3q69HTyYRT82l5HA4BCEAAAhCAQL4IOC/iYqnpVqpUKVNyRDNT582b5wtEPXVPP/201KpVy3R00F6rXpHnPVBLkHjFXfhJ8cTly+44GAIQgAAEIACBfBJwXsRpTbfu3bvLrFmzTG03FV0qruzetRYtWsjAgQMlMzNTmjZtKtp8Ptqwgk+9e+qp0/Nv2bIl1yEq9DTZwW8g4vJpeRwOAQhAAAIQgEC+CDgv4rRFVo0aNUxRXk000DCp7mfT4rw62rdvL6NHjzbeNf05duxY01Zr3759uUqN9O3bV6666ioj+C6++GL56quvfOE1b95cFixY4Ps+4dR82R0HQwACEIAABCCQTwLOi7h4slO1TtzHH38c1XtmExvUE7dixQrfcKo3kzXSCYcMGWL230Ua6g1s3LhxPpeGwyEAAQhAAAIQgIA/AedFXDzZqa1atZKFCxeG2mVVrlzZ1IqzoVe9WU2E0HHeeefJ8uXLfckMHz5cBg0ahCeOpwcCEIAABCAAAScJOC/ibHaqhlO1l6n+1P9s+Y+GDRvKgAEDREOl7dq1k48++igHaG8JEc1ubdasmXk/KytLpk+f7rsow4YNk8GDB0f16o0aNQpPnJNmzUVBAAIQgAAE0p+A8yIunuzU4sWLRy0L8uKLLxrBp0MF2ogRI3xXWMOumrzgN0hsSP+HgzuEAAQgAAEIuEzAeREX3nZL68RpORE7vJ648uXLm2xTv/Hee+/JNddcY962e+L85ur+unCvnncuiQ0umzXXBgEIQAACEEh/As6LuHgSG6688kr58MMPc3RhiBRO1ezVatWqhVZX5xw/ftyEaW33hjPPPNP0X8UTl/4PAXcIAQhAAAIQSEUCzou4eBIbTj31VNm5c6fvOjzzzDOmplwsIVo9iU2IiHRCwqmpaO5cMwQgAAEIQCB9CDgv4iKFUxW/Dal6225pS62pU6ea1alataqpF+cd6tXT5AcNuVaqVCnUO/Wcc84xiRKrVq0KTS9SpEgoyzXSchNOTZ+HgDuBAAQgAAEIpCIB50VcPOHUKlWqyLZt23zX4YknnpCHH37YvK976w4cOOA7VztDaIjVb+CJS0Vz55ohAAEIQAAC6UPAeREXTzi1fv368v333/uuzmuvvSa33Xabed8betUOELZkiT1YX9MOEYi49DF27gQCEIAABCCQTgScF3Hh4dSWLVvK/PnzQ/vVvOHU6667TmbMmGHWJ5Iwe/vtt0VDruGeuLPOOsskMXiTIIoVKyaHDx/2XWvCqen0GHAvEIAABCAAgdQj4LyIO5Hh1J49e8qECRPMKpUsWVIOHTrku2J44lLPmLliCEAAAhCAQGEi4LyIO5HhVG2jpe20dNiyIn6Lre+Hh1i9c9kTV5geE+4VAhCAAAQg4B4B50WcbbvVpEkT0bZZ4cV+/cKpkVBPmjRJbrnlFvOW7e6g/VY/++wz81qNGjVk48aN5neyU90zVq4IAhCAAAQgAIH/I+C8iIulplupUqVMyRHb8N5vgbt06SJPP/201KpVyxT73bJliynwq1mo4TXhihYtGrWFF544HiMIQAACEIAABJJJwHkRpzXdunfvLrNmzZJy5cqZGm+6n82WB1FP3KOPPiqZmZmiXRasJ80PqhV8DRo0kNWrV/uyV4/fvn37fN9HxCXTbPlsCEAAAhCAAAScF3FasFfDnOox05IfWqR39+7dIc9Z+/btZfTo0ca71qlTJ9H+qCVKlIiYtKB9VnVPnAq+xo0by9KlS6Vu3bpm/rJly0Rrw1mPnM5duXKlr4WQncrDAwEIQAACEIBAMgk4L+LiyU5t1qyZLF682JdnRkaG7Nixw7yvZUU2bNgQCqeGHzRgwAB58cUX8cQl0zr5bAhAAAIQgAAEfAk4L+LiyU4dNWqUaH/UgwcPmv90qHfNZpnWrl1bfvjhB/N6o0aNZMWKFb5gunXrJpMnT86TiKvS/QUpVqVOoTe7H5/qUOgZAAACEIAABCCQKALOi7hIvVNt31SFomFP9Zr17dtX1BO3Zs0ak8G6adOmXMw0w/Xrr782r0+bNk000cFvZGdnS1ZWlu/7hFMTZZKcFwIQgAAEIACBWAg4L+LiCaeqd02TFfzaZWkIdf369YaLlhvp0aNHjn1wXmC9evWS8ePH58kTt2TJErPnjgEBCEAAAhCAAAQSRcB5ERdPOPXmm2+WqVOnGhEXXjJEAZ599tmyatUqw7Jp06aiYstvaNarwvEbZKcmyiQ5LwQgAAEIQAACsRBwXsQlIpyqGa9aJ84OTXjQ7FYVdb///rt5uWbNmrJu3TpfhoRTYzEv5kAAAhCAAAQgkCgCzou4eMKpF110kaxdu9YU/o0UUlXhpnvlYikgrMAjefPsQuCJS5RJcl4IQAACEIAABGIh4LyIiyecOm7cOJkxY4YJg2otOc1M9Yo5m52qBYO13px63by14bzATjnlFN+9dToPEReLeTEHAhCAAAQgAIFEEXBexIWHU6tUqWLaZG3fvt0w8fZO1cK/6oXT9+fNm5eLmTc7tWzZslE7MgR54ginJsokOS8EIAABCEAAArEQcF7EnchwqrcLQ5kyZYzg8/PEnXzyyaH6cpFA4omLxbyYAwEIQAACEIBAogg4L+LyEk7VWnA7d+7Mxez88883++F0qEdv27ZtOeZ4BR0iLlEmx3khAAEIQAACEDgRBJwXcTacqr1T69SpI1u3bpU9e/aE7j1SOFWTGzQDNXxo4sNXX31lXi5atGjUPW/6eTZTNRJowqknwvw4BwQgAAEIQAACeSXgvIiLN5z67bffyoEDByLy8IZTixQpYsKl+jNSJiueuLyaFMdBAAIQgAAEIFAQBJwXcfGEU1966SW59957ffeyNW/eXBYsWGC4avapetq07Ih67cLLiZQoUSLUfzXSQrAnriDMk8+AAAQgAAEIQMCPgPMiTsuB9OzZU2bPni2HDx+WcuXKyd69e0Oiq0WLFjJw4EDJzMwUbau1YcMGc6+lSpXK5ZG7//775Y477pDixYuHiv3qvBtuuEHeeOONHIyqVq0qP//8s6/lEE7loYIABCAAAQhAIJkEnBdx6iXTbgoa3jx48KD5qV60I0eOGG6tWrWS119/PYcwiwZURduXX35pSpNEG0F74vDEJdNs+WwIQAACEIAABJwXcbF0V4hVmGkywzvvvCNt2rSRrKwsmTt3rhGFkRIYrr76ann//fd9LQQRx8MDAQhAAAIQgEAyCTgv4oJ6pzZu3Fh69+4trVu3lnPOOcfUfVNRVrp0aVMHzjuGDh0qjz76qHlJw7MdOnTwZT9r1izp2LGj7/uEU5Nptnw2BCAAAQhAAALOi7hYs1O13dZVV10VdUV1L9yhQ4fMHPXETZ8+3Xf+sGHDZPDgwXjieEYgAAEIQAACEHCSgPMiLtbs1A8//FD++Mc/RoVcrFgxkxyhQwXaiBEjfOdnZ2cboec3CKc6ac9cFAQgAAEIQKDQEHBexAWFU7X224ABAwLDqXZe3759zeI2atRIVqxYYX6PVCvuxhtvlClTpvgaAuHUQvOMcKMQgAAEIAABJwk4L+JOZDi1ZMmSpuyIZrxqfbhoo1KlShFbd9lj8MQ5ac9cFAQgAAEIQKDQEHBexJ3IcKpmp2ppklgyXtUCwgsAe60CEVdonhFuFAIQgAAEIOAkAedFXKRwqpK0mae2d2qk7FTvPP3dZqdqAeGMjAzT2UHrwV1wwQXm92XLloUWSUOsR48e9V00wqlO2jMXBQEIQAACECg0BJwXcScynOrNTtXQqs1UjbTaWqrk+PHjvoaAJ67QPCPcKAQgAAEIQMBJAs6LuESEU3UldM/b7t27zaI0adJE1q5dK3v27Aktkg29+q0aIs5Je+aiIAABCEAAAoWGgPMiLjycetlll8nixYtDpUK84VTNQI22j81b7Fe7PGgbL7/hLUcSaQ7h1ELzjHCjEIAABCAAAScJOC/iEhVO1dCq7b8aaWW0P+tvv/3mu2h44py0Zy4KAhCAAAQgUGgIOC/iEhVOVZGm7bn8eqfq65rsQDi10DwL3CgEIAABCEAgpQg4L+I0nKqFeXXf2qJFi0w2qf5nBVZ4dmq0ZARvOLVEiRImJFuxYsXQ3rhy5coZ75y+HiTiCKemlJ1zsRCAAAQgAIG0I+C8iIulppvub/vyyy9FBV20ofvcVq1aJbVq1TIlRnbt2iWahRppH503kzXSOYcMGWJKlkQaS5YskcaNG6edsXBDEIAABCAAAQi4Q8B5Eac13Xr27CmzZ882HjL1lu3duzckvFq0aCEDBw6UNm3ayK233iozZsyISlcFn9aYU++eevPOOecckyixcePGHMedeuqpsn37dt9z4Ylzx4i5EghAAAIQgEBhJOC8iNMWWeo50/CmZpPqT93PZpMS2rdvL6NHjzZzRo0aJZpw4DdU6N11112SmZlpwrN6835DvXrR3iexoTA+LtwzBCAAAQhAwB0Czou4WMOp6l0bM2aM3Hnnnb5027ZtKx9++KF5/6yzzpINGzaY/XWR9tH169fPnM9vIOLcMWKuBAIQgAAEIFAYCTgv4iK13bItt3TBdO9Z7969pW/fvvLss8+a0Kp3eLNPL730UtFsVx133323vPjii75rPmvWLOnYsaPv+4RTC+Pjwj1DAAIQgAAE3CHgvIiLtU7cgQMHTA/Ub775xpduu3btRM+nIysrS6ZPn+47d9iwYTJ48GA8ce7YKlcCAQhAAAIQgICHgPMiLtY6cZr00KVLF5k2bZrvAl955ZUyZ84c874KtBEjRvjOzc7ONkLPbxBO5TmCAAQgAAEIQCCZBJwXcUHhVG21NWDAABNO1YzTFStWxCTivHOLFCmSqzvDjTfeKFOmTPE9F+HUZJotnw0BCEAAAhCAgPMiLp5wavXq1WXTpk2+q2rDqZrxWq1atairX6lSJdm5cyeeOJ4RCEAAAhCAAAScJOC8iIsnnKp14iZOnJgDdKTEhlgyXvUkkYoA25MTTnXSnrkoCEAAAhCAQKEh4LyIixRO1dWxGaq27ZaGU23tN78uDDY7VQsIazFf2+BeW3CpZ+6HH34ILTxttwrNM8CNQgACEIAABFKSgPMiLp5war169WTNmjW+td+aNWtm+q/qKF26tGhGq99QIRitDyueuJS0dy4aAhCAAAQgkDYEnBdx8YRTH3vsMXn88cd9F+e8884LlSApX768qEdOh3aA0BZc3lG0aNFQV4hIJ0TEpc0zwI1AAAIQgAAEUpKA8yIuPJzasmVLmT9/fmi/mjecesUVV8hnn30mv//+u2nPpVmnKs6sQNNw69dff20Wyr6nvxcrViyXYNPXtGyJ3yA7NSXtnYuGAAQgAAEIpA0B50VcPOHUunXr5tjXFr5K3nCqet9U7PmNoD1xeOLS5hngRiAAAQhAAAIpScB5ERdPOFW9cuoh8xteEad73qIN9sSlpD1z0RCAAAQgAIFCQ8B5EafhVC3Mq6FQTUrQhARv71RvOLVUqVJy8OBB38XzdmxQT5smLtSvX19Wr15tjqlRo4Zs3LgxdHy0EiOEUwvNM8KNQgACEIAABJwk4LyIi6Wmm4o3FXZWmPmRPuOMM8yeuVq1aokVfH/4wx/M/rpIgo06cU7aLBcFAQhAAAIQgICIOC/iNIO0e/fuMmvWLClXrpzJKC1ZsmSoPIh64h599FHJzMw0pUWiCS9dcSv4qlSpItu2bfM1Aj1XtD1z7Inj+YEABCAAAQhAIJkEnBdx2iJLw5wqqrQ4r7bD2r17d0istW/fXkaPHm28a0H73BT0jBkzjOCzhYE1C1Xryy1fvtwcb0Vg1apV5eeff/ZdG8KpyTRbPhsCEIAABCAAAedFXDzZqeGeuEidG6xI69Onj4wfP97XAnr27CkTJkzwfR9PHA8PBCAAAQhAAALJJOC8iIsnO9W7J86v9ZYVcW3btpW5c+f6su/WrZtMnjwZEZdM6+SzIQABCEAAAhDwJeC8iIvUO9WbndqwYUMZMGCAaO/UoNpvSsGKuGnTpkmXLl18wWRnZ0tWVhbhVB4eCEAAAhCAAAScJOC8iIsnnOoVcUGeuEmTJkmPHj1y7IPzrlCvXr2ihlsJpzppz1wUBCAAAQhAoNAQcF7E5TWc6reC1hPXtGlTWbJkie9Ca9arwvEbiLhC84xwoxCAAAQgAAEnCTgv4hIRTtWM12rVqoUWJCMjw2S3qqizZUVq1qwp69atI5zqpNlyURCAAAQgAAEIOC/i8hpO1SQH9bppWNVb701fi6WAsJoGxX55QCAAAQhAAAIQcJWA8yIunnBqLHXiVJhpwWCtNxetmC/Ffl01Wa4LAhCAAAQgAAEl4LyICw+naqcF7Xm6fft2s4Le3qneEiMqwnRe+LDetbJly8q+ffuiWgG9U3lIIAABCEAAAhBwlYDzIi6ecGosbbesMCtTpozpt6reuyJFisjRo0dzrJEKwmPHjvmuG4kNrpo01wUBCEAAAhAoHAScF3HxhFO9nji/5bMiLqh3KiKucDwA3CUEIAABCEAgVQk4L+JsOFW9bHXq1JGtW7fKnj17Qry94dTKlSvLjh07Qu916NBBFi5cKLt27Qq9ZkVc0aJFTS9WvxG0J47eqalq8lw3BCAAAQhAID0IOC/i4gmnBnnXdMmsiNMQqu6ZK126tOzduze0mlowWMOoeOLSw8C5CwhAAAIQgEC6EnBexMUTTj377LNFPXd+wyvMihcvLkeOHJHq1avLpk2bcpUTKVGihBw8eND3XOyJS9dHgvuCAAQgAAEIpAYB50WclgPp2bOnzJ49Ww4fPizlypUznjPrUWvRooUMHDhQMjMzTcP6m2++2ZDXYr3btm3LIcSaNGkiU6dONYV9a9euLevXr5dSpUpJx44dZcqUKTlWrEaNGrJhwwbfVSScmhoGzlVCAAIQgAAE0pWA8yJOuyuo6FIvmnrG9KeGPNWLpqNVq1by+uuvmzmdOnWS9957L+paqWjTrNTmzZvLokWLfOfq+wsWLMATl66Wz31BAAIQgAAEUpyA8yIulu4KVpi1a9dOPvroI98lueyyy+S+++4zXrs+ffqYBve6Ny5SgkO/fv1kzJgxiLgUN3AuHwIQgAAEIJCuBJwXcUG9Uxs3biy9e/eWvn37Gs/Z2rVrTWJC//79c+1pmzlzpnTu3NmspYZnNXvVb8yaNcuEWf0G4dR0fSS4LwhAAAIQgEBqEHBexMWTndqjRw+ZNGmSL/l7771XRo0aZd7PysqS6dOn+84dNmyYDB48GE9catgxVwkBCEAAAhAodAScF3HxZKe2b99e3n//fd9F9IZIVaCNGDHCd252drYRen6D7NRC96xwwxCAAAQgAAGnCDgv4oLCqQ0bNpQBAwbkCKdqgd9I+9mWLFkiGn7V0ahRI1mxYoX5PdK+uBtvvDFXxqp35QinOmXHXAwEIAABCECg0BFwXsSdyHCqDZFqxmu1atWiLnalSpVk586deOIK3SPBDUMAAhCAAARSg4DzIi6ecKpNbHjuuedEPWXhwyY2xJLxqsfaWnSRlpJwamoYOFcJAQhAAAIQSFcCzou4SOFUXQyt9abD2zvVLpIW9O3atWuuNVuzZo3pv6oFhDMyMkwWq4569eqJ9lK14VV9TWvRReutSjg1XR8J7gsCEIAABCCQGgScF3HxhFMV+U8//WT2vUUKhVoRp/OKnYFQtgAAIABJREFUFSsmR48ejbpKeOJSw4i5SghAAAIQgEBhJOC8iIsnnLpr1y4599xzRX9G8qJ9/vnnogV/dWjj+wMHDpjfL7roIvnhhx/kl19+CdmAt89qJMMgnFoYHxfuGQIQgAAEIOAOAedFXHg4VUXY4sWLTR9VHd5w6tixY02RX808Xb58eYiyNrvX+YMGDZLhw4eb10uWLCmHDh0yv6tXTtt4qXD7/fffQ6/Zz4i0XIRT3TFirgQCEIAABCBQGAk4L+LiCac++uij8sQTT/iu4/333y8jR47MJeIiHRC0Jw5PXGF8XLhnCEAAAhCAgDsEnBdx8YRT77rrLhk9enQOuirGbALD7bffLq+88op5X1+3XrdIy0E41R0j5UogAAEIQAACEMhNwHkRp+FUDY82adJEFi1aJH/4wx/Mf1aYecOp2tj+3XffzXWXtpjvn/70J9MzVYdmo+q+ubJly8revXvNa+XKlTPJDhpmDRJxhFN5nCAAAQhAAAIQSCYB50VcLDXdSpUqZUqO/PnPf5a33347B0/vPrebbrrJhFtr1aplujSoEDzppJMi1oMLCqcOGTJEhg4dGnHtvJ0hkrm4fDYEIAABCEAAAulLwHkRpzXdevbsaTxommig3jL1nNnyHy1atJCBAweKeuEuvfRSmTdvXtTVsoJPkxn0HJ06dTKJEhs3bsxxXIkSJeTgwYO+58ITl74PBXcGAQhAAAIQSAUCzos4bZGlnjP1qKmo0p/qJdNsUh3a9F73wemcihUr5igTEr4AZcqUkTfffNMIvgoVKsiePXt810jbcm3atMn3fRIbUsG8uUYIQAACEIBA+hJwXsTFE05VL5vXe6ahUm9YVL14VripB+69997zXdkePXrIG2+8gYhLX9vnziAAAQhAAAIpTcB5ERep7ZZtuaXktTtD7969pW/fvqFkBb8V0WQG68HT8GyHDh18F2/WrFnSsWNH3/cJp6a03XPxEIAABCAAgZQn4LyIi6dOnGatRmuVpckMttVWVlaWTJ8+3XcBhw0bJoMHD8YTl/Imzg1AAAIQgAAE0pOA8yIunjpxQbXftHOD7dKgAm3EiBG+q5qdnS0q9PwGe+LS84HgriAAAQhAAAKpQsB5ERcUTm3YsKEMGDDAhFODRJxmpNpWWlp7bsWKFWadbB0576LdeOONMmXKFN91JJyaKibOdUIAAhCAAATSk4DzIi4R4VTNeNXs02ijUqVKsnPnTjxx6Wn33BUEIAABCEAg5Qk4L+LyGk7VJAZbzDe8qX0sGa+6stH21xFOTXnb5wYgAAEIQAACKU3AeREXKZyqxG2GqrftVqzhVC0gnJGREWrdVbduXZPZunLlytBiepMgIq0w4dSUtnsuHgIQgAAEIJDyBJwXcfGEU4NEnLcLg2275beCWmPu+PHjhFNT3sS5AQhAAAIQgEB6EnBexMUTTrVN7f2WSpvdqxdOh3Z+sCJNxZ+GXr1Dy5XYMGyk8xFOTc8HgruCAAQgAAEIpAoB50VceDi1ZcuWMn/+/NB+tXjCqaVLl5Z9+/aZtfHWlKtdu7asXbs2R5ZqkCeOcGqqmDjXCQEIQAACEEhPAs6LuHjCqSq8og1vx4ZIoVc93pvMQGJDeho9dwUBCEAAAhBIBwLOi7h4wqmRRJxXmHm9a95wqt9CIuLSwcS5BwhAAAIQgEB6EnBexGk4VQvzNmnSRBYtWiQaEvX2TvWGU70iTufXr1/fHKOhUjusMNPuDdpHNdJ+uPC5kZaecGp6PhDcFQQgAAEIQCBVCDgv4mKp6VaqVCkj7ILCqbooKuhq1apliv1u2bLF7I3TBIdwr5t66sKTHbyLSmJDqpg41wkBCEAAAhBITwLOizjNJu3evbvMmjVLypUrZ7JLS5YsKQcOHDArop64Rx99VDIzM2MScVbwNWjQQFavXu27qnRsSE+D564gAAEIQAAC6ULAeRGnLbJq1KhhPGa//fabqLjavXt3yHPWvn17GT16tPGuxbLPbcaMGUbwNW/e3IRatdCv1o9btmyZEYHWI9emTRv5+OOPfdeZcGq6PALcBwQgAAEIQCA1CTgv4uLJTrUZp1bMqSCz4VK7PFak/eUvf5F//OMfud638+6++2554YUXfFeVcGpqGjxXDQEIQAACEEgXAs6LuHiyU4O6MOiiWRHXunVr+eyzz3zXsVu3bjJ58mREXLpYOvcBAQhAAAIQSDMCzou4SL1TvdmpDRs2lAEDBkjfvn1Npmm0LgteETdt2jTp0qWL73JmZ2dLVlaW7/uEU9PsSeB2IAABCEAAAilGwHkRF0841duFwW8drCdu0qRJ0qNHjxz74LzH9OrVS8aPH48nLsUMmsuFAAQgAAEIFBYCzou4eMKp8XjimjZtKkuWLPFdZ816VTh+gz1xheUR4T4hAAEIQAACbhJwXsQlIpyqGa9aJ86OjIwMk92qos6GY2vWrCnr1q3zXTXCqW4aNFcFAQhAAAIQKCwEnBdxeQmnaqkQ/U97pWoh36NHj4bWU8OpsRQQ1gNou1VYHgPuEwIQgAAEIJB6BJwXcYkIp2rBYK03Fy0JQkOzWpeOcGrqGTVXDAEIQAACECgMBJwXceHh1CpVqsigQYNE67ipp6xFixZy8803m+xU7eRw6NAh32QFr3fNliMJryPnXfRonjjCqYXh8eAeIQABCEAAAu4ScF7E/f3vf5dbbrklKkHbhuvcc8+VlStXhuZqSFVFmvW46f9reHX58uVy3nnnRT0nnjh3jZYrgwAEIAABCEBATAJmkyZNzJ7+xo0b5xvJSf+N5r7Kw+nHjBkjd955Z9QjixUrJocPH5ZWrVrJ559/7jvXCrqBAwfKs88+G9M5/SaRnZqHxeQQCEAAAhCAAAROGAHnRZy2xtIWWTquv/56KV68uPn97bffNnvWOnfuLFdffbW0bNky0LtWrlw52bNnj1Gt0cqH6PlLly4t+/bt8wVNOPWE2SAnggAEIAABCEAgDwScF3EPP/ywDB8+POqtaTj1pptuktdee83M8zay9x7YrFkz0/S+QoUKRszpvjgNr9pwq57n4MGD5pBTTz1Vtm/f7vu5eOLyYG0cAgEIQAACEIDACSPgvIi79957ozaiVxIaTq1ataqsX78+h4gLF3PDhg2TwYMHy8knn2zEm3eEz23UqJEsW7YsTyKuSvcXpFiVOidskThR4SLw41MdCtcNc7cQgAAEIJAnAs6LuFGjRol6vbzDm1H66KOPinZX0Ib11ot2wQUXmNCqJjAsXbo0dOjo0aPN/jr1wKn3TYWb/n7kyBFTcmTXrl2hufqZ0fbNEU7Nk71xEAQgAAEIQAACJ4iA8yLu5Zdfln79+vnervZA1exV612z/VM1v8IW/bVeNw3LankSDZvqfjrt0qDztYxJ+NDQ7G233ZYnT9yJyhI5QWvMaSAAAQhAAAIQSEMCzou4oOxUDbeqt04Fmx02NBoeIrXCTL1uu3fvjrqcGzdulOrVqyPi0tDouSUIQAACEIBAOhBwXsRF8sRpDbdjx44Z/pqdOnPmzBwi7tZbbzVFgOfPny9vvPFGaJ2sMNNaKhpm1UxXFWpr1qwx++o0rKpDX9O50Qbh1HQwf+4BAhCAAAQgkLoEUlLEeXG3a9dOtL+q9cRpaRDd57Z3714pW7as7N+/P9Q+y5aw69+/v4wdO9Z31bQbxAsvvBB1VclOTV2j58ohAAEIQAAC6UDAeRH3zDPPyIMPPujL+sorr5Q5c+ZEDKeGH2RFXNu2bWXu3Lm+59QkicmTJyPi0sHCuQcIQAACEIBAmhJwXsRpqY8VK1bEJeLq1q0rl1xyiSxYsMCESu2wIm7atGnSpUsX33NmZ2dLVlZW1CUnnJqmTwS3BQEIQAACEEgRAs6LON2ftmnTJl+c4eFUneiX2GBFnGa09ujRw7cocK9evWT8+PF44lLEiLlMCEAAAhCAQGEk4LyI0ySFiRMn5lgb3fOmJUJ0RAqn6r64Q4cOSYkSJcyeuHBPXNOmTU2zWL+hdeeC2nKxJ64wPi7cMwQgAAEIQMAdAs6LuLyEU8uUKWMK/2o9OG//U/XEbd68WapVqxZaAW/3Buupq1mzpqxbty7qKhFOdceIuRIIQAACEIBAYSTgvIjTgrzedlq2W4MVXJHCqX4Lqceo+FJPW9Cw5/ebhycuiCDvQwACEIAABCCQSALOizgt9/Hiiy/mYKD13Y4ePWr6n0YKp6oHTmu+VaxYUQ4fPhzyxqkw+/XXX+X000834Va/oTXj9LhoAxGXSLPk3BCAAAQgAAEIBBFwXsQ1adIk6v60SCLOFgOuU6eO/PDDDyEG1rtWvnx5I+a8BX69oDQxwrbq8gNIODXItHgfAhCAAAQgAIFEEnBexHnDqZFARAunhrfdsiJOPXm2O0P4HP2MWDxxQ4YMkaFDh0ZcG3qnJtJkOTcEIAABCEAAAkrAeRHXs2dP0zrLNrNXL5vui7Phzuuuu0607pttfB++rEWLFjWhV33/999/N29XrlxZduzYkWOqCjft8KCvxyLi8MTxAEEAAhCAAAQgkEwCzou4oHBq7969Zdy4cUZ4qVjTYcOpNglCX9MsVNtvtUKFCrJnz54c3L0eOT3eljDxWxz2xCXTbPlsCEAAAhCAAAScF3FB4dSbb75Z3nzzTalUqZLs3r076orq/rjatWsbQRdtz5tX8CHieEggAAEIQAACEHCRgPMizoZTvfC8XrOBAweK9ldt3ry5LFq0yEzTIr+afarzVLTZ5IZXX31V+vTpYzx1Glo97bTTZPv27aJ75az3To/XEKzdM+e3aIRTXTRnrgkCEIAABCBQeAg4L+JatWoln3/+uahHTjNRN2zYYJrX29DpiBEj5K9//asMGjRInnzyyagrN3z4cDNPS4/88ssvRuRZr5s39Krh1iCvHuHUwvOQcKcQgAAEIAABFwk4L+Iee+wxefzxx3P0OfXWibv//vtl5MiR8s0338gFF1wQlfFrr70mt912m2hHBvXA1ahRw/wMF2xe7x3hVBfNlmuCAAQgAAEIQMB5EXf11VfL4sWL5eKLLzahUfXEffDBB6FwZ+fOnWXmzJlmJdu0aSOffvpprlXVpAcNn2orrerVq0vr1q1l3rx5MnjwYMnIyJABAwbkOOaSSy6R+fPnR7UOwqk8PBCAAAQgAAEIJJOA8yJuwoQJMmnSJFm9erXxmGlze22btXLlSuNFs3XiFOL5558vy5Yti8hT979t3brVvKf74saPH+/LvWPHjjJr1qyo60I4NZlmy2dDAAIQgAAEIOC8iFPhpnvYvEOTFjQkum3bNrF14vT9bt26yVtvveW7qjY7dfbs2dKhQwffeffee6+MGjUKEcfzAQEIQAACEICAswScF3HXXHONqe+m2adnnHGGbN68WSZOnCjr1683UG12qv7etWtXmTp1ag7Y3oQFm536448/GhEYaZx66qkm1Fq3bt2oi0Y41Vmb5sIgAAEIQAAChYKA8yKucePGoqJLs1G1S0ORIkXMwtiODTZZQV8rVaqUHDx40Hfh7rvvPnnuueckKytLpk+f7jvvzjvvlNGjR+OJKxSPADcJAQhAAAIQSE0Czou4F198UbKzs3PsidMs1I0bN8pPP/0ka9euNckKOoIK/mZmZsqMGTMCy5H0799fXnrpJURcato0Vw0BCEAAAhAoFAScF3G65029a95wqiY6aKap1oV76KGHQgt17bXXhjJV7YvewsBaZ27OnDkmI3XXrl1mimauhhf21QLDmlARbRBOLRTPBzcJAQhAAAIQcJaA8yIuUnaqhljvvvtu6dSpUw6w2mkhWs9TzWTV/XTVqlWLuiDeTFa/iWSnOmvTXBgEIAABCECgUBBwXsTFswq33nqrEWneoXvorLBTT9zTTz9tSpQEDS1HomIOERdEivchAAEIQAACEEgGgbQScU2aNBG9IW8I1QtVRZxmr2oGqgo7DaXq0Pk2UcLO//7776NmqBJOTYa58pkQgAAEIAABCFgCaSXi6tWrJ2vWrBFvWRHvUmsfVu3ooAWDDxw44GsFKuqOHz8e1UoIp/IQQQACEIAABCCQTAJpJeJsn1U/oM2aNZNFixYZT9zOnTvNtJNPPtm05PIO3VsXnuwQfk5EXDLNls+GAAQgAAEIQCCtRNwVV1whn332mRFl6m2rWrWqyWLVYsE6WrZsKV9++WUOT5zO0QLC3qH76LQuXbRBOJWHBwIQgAAEIACBZBJIKxGnXRa0tZaGQ3X897//zcHWhlNLliwp2ror2tAerI0aNfKdgicumWbLZ0MAAhCAAAQgkFYiTrNO1UPmN6yI0xBq0J6366+/PlcLL+95EXE8PBCAAAQgAAEIJJNAWok4b9utSBmqWjh42rRpUrx48Vx73mrUqGG6QNhRuXJl2bZtm+/aEE5Nptny2RCAAAQgAAEIpJWIC/Kwafbq6tWrTbHf8H1wXlPQ7FY9V7R9cXjieHggAAEIQAACEEgmgbQScaecckquTFMvXH1f68M1aNDAiDm/oSLu9NNPl02bNvnOQcQl02z5bAhAAAIQgAAE0krEqfiyyQx+BX/1fe3DqqVGdI6GVjXJIXz+bbfdJq+99hrhVJ4RCEAAAhCAAAScJJC2Ik5pRxJyKuL69Okj48eP9y0KXKJECeOpq169Op44J82Wi4IABCAAAQhAIK1EnHdPXDRPXNu2bWXu3Lm+q9+pUyd59913o1oH4VQeHghAAAIQgAAEkkkgrURc0J44Ba2eOM1Q7dKliy/37OxsycrKirouZKcm02z5bAhAAAIQgAAE0lbERfPETZo0SXr06BEx3Kom0atXLxNujTbwxPHwQAACEIAABCCQTAJpJeKCSoxYT1zTpk1lyZIlvty1aLCCQcQl0zT5bAhAAAIQgAAEohFIKxEXSzj1559/NnXi7MjIyJBatWoZUac9V3XUrFnT9FyNNgin8mBBAAIQgAAEIJBMAmkr4tQrp/vftOzIsWPHQoyXLl0q6mkLGsOGDZPBgwf7TiOcGkSQ9yEAAQhAAAIQSCSBtBJxtvF9NGB79uyRSpUqRS0KrMerZ65x48aIuERaH+eGAAQgAAEIQCDPBNJKxHn3xKkHLlKTe/XOlS1bVvbt2xcVmi0a7DeJcGqebY4DIQABCEAAAhA4AQTSSsR5Ozb4sVFxVqZMGdm/f7/JTi1SpEiuHql6Hrs/zu88hFNPgPVxCghAAAIQgAAE8kwgrURcrNmpVapUkW3btuWA5vXc6Xm8++gi0UXE5dnmOBACEIAABCAAgRNAIK1EXOXKlWXHjh0GS7169UyP1H//+9+ya9euECr1xBUtWlR+++03X3yxeOIIp54A6+MUEIAABCAAAQjkmUBaibhIHrZwMiriNISq++VKly4te/fuzQUPT1ye7YkDIQABCEAAAhAoIAJpJeLOPvts+e6773zRaR059cAVL15cjhw5Yhrcb9q0yZQi8Y4SJUrIwYMHoy4B4dQCslA+BgIQgAAEIACBiATSSsS9//770rFjR5OUoOHULVu25MhCvfLKK2XOnDlSu3ZtWb9+vZQqVUp69+4tzz//fA44NWrUkA0bNkQ1GcKpPFEQgAAEIAABCCSTQFqJOO2Hqn1R/cb9998vI0eONHvlFi1a5DtP31+wYAGeuGRaJp8NAQhAAAIQgEBUAmkl4lR4rV27VubNmyf/+Mc/ctWCswV8+/TpYxrca4LD0aNHcwEaOHCgPPPMM4g4Hh4IQAACEIAABJwlkFYiLsgTZ1tpzZ49Wzp06OAr4j7++GNp06YN4VRnzZYLgwAEIAABCEAgrURc+/btRffF+Y1+/frJmDFjpEuXLjJt2jTfeffcc0+ufXLhk0ls4OGBAAQgAAEIQCCZBNJKxNlw6nPPPSeaeBA+bDj1rbfekm7duvlyz87OlqysrKjrEk3EVen+ghSrUiff6/rjUx3yfQ5OAAEIQAACEIBAehJIKxEXazg1MzNT3n33XbOikfbF9erVy+yZizbITk3PB4K7ggAEIAABCKQKgbQScbGEUwcPHixnnHFGrtpw3gXT8iSrV6+OuoZDhgyRoUOHRpxjPX6pYgRcJwQgAAEIQAACqUcgrURcLOFUbal14YUXBq5UeAHg8APwxAUiZAIEIAABCEAAAgkkkFYiznKaOnWqdO3aNQc2bcmlxX9//fVXqVSpkikIrMV+tWvDxo0bc3Ro0Nf3798fFTuJDQm0Sk4NAQhAAAIQgEAggbQTcT/99JM0btxYdu7cmePm77zzThk9erR5rVixYhHrw3kP0PNo2NVvIOICbYsJEIAABCAAAQgkkEBaibhdu3bJueeeK/pTe6R6R9myZWXlypVGmOnv+/bti4pVW3FpqRG/QTg1gVbJqSEAAQhAAAIQCCSQViJu7Nix0r9/fznvvPNk2bJloZsvXbq0CY9aYVamTJlQuPSUU06RY8eOie6VO378eOiYV199VbSzA564QBtiAgQgAAEIQAACSSCQViLu0UcflSeeeEJOOumkHNmn9v+feuopefDBB0X3x23bti0HbhVxOqyQ071z6rFDxCXBKvlICEAAAhCAAAQCCaSViLvrrrtC+97snXs9bA899JA8+eSTpjZceLjVS0qP0cSHaINwaqBtMQECEIAABCAAgQQSSCsR5y3i62Wm2aYHDhyQ66+/XjRztUiRIsbjpgkOhw4dCk31Cj4Nv+pxeOISaH2cGgIQgAAEIACBPBNIKxGnnRYmTJiQA8bJJ58c8qoNGjRIhg8fLsWLF5cjR46YeeGhV3vw008/LQ888AAiLs+mxYEQgAAEIAABCCSSQFqJuKCODa1bt5ZPPvlEateuLevWrTPJDHfffbdJeAgXcx06dJB//etfvuwJpybSLDk3BCAAAQhAAAJBBNJKxGVkZJjyIn7jtNNOk61bt0rz5s1l0aJFvvNU3LVr107+85//4IkLsiDehwAEIAABCEAgKQTSSsTpHraDBw+GQKp3TUuI2CSGihUrGpGnpUOCGtxrj9Vhw4Yh4pJilnwoBCAAAQhAAAJBBNJKxAVlnepeOE1kmD17tmi41G9UqFBBVq1aZUqR+A3CqUGmxfsQgAAEIAABCCSSQFqJOA2DRmtcr1mpR48elaysLJk+fXpUL9uzzz4blTtttxJplpwbAhCAAAQgAIEgAmkl4jR0Gq2+m/XEaah0xIgRvmyys7ON0Is2EHFBpsX7EIAABCAAAQgkkkChEnFaF+7w4cPSqFEjWbFiheGq3rnwwr833nijTJkyJSp3wqmJNEvODQEIQAACEIBAEIG0EnGxhFN//PFHqVatWlQulSpVkp07d+KJC7Ie3ocABCAAAQhAIGkE0krEecOpmuRgG9vrTx0aTl2wYIFceOGFgcCj7a3TgwmnBiJkAgQgAAEIQAACCSSQtiIuErMSJUrIli1b5NRTTw2FULWjw5lnnmmK/9qhpUm0LVe0QTg1gVbJqSEAAQhAAAIQCCRQqERcyZIlTQ/V0qVLm5/RhpYYOfvss32n4IkLtC0mQAACEIAABCCQQAJpJeKC6sSVL19efvnlF+OJs3veNARrw61ezo888og8/vjjiLgEGh+nhgAEIAABCEAg7wTSSsQFlRgpW7as/Prrrzk8cdpHde3atbmyVK+++mp5//33fckSTs270XEkBCAAAQhAAAL5J5BWIk73skUbtsSIhlW1c4N36LHeZAYtQ7Js2TI8cfm3Mc4AAQhAAAIQgEACCKStiLOizCvOtASJFgPWZIagxAX10P3www+IuAQYHaeEAAQgAAEIQCD/BNJWxDVv3lxq1aolixYtMuFSO9TbpqVGjhw5IvXr15fVq1dHpHjBBRfI0qVLfQkTTs2/8XEGCEAAAhCAAATyTiBtRZwfEhVxWuxXS42oZ049cpFqwnXt2lXefvttPHF5ty2OhAAEIAABCEAggQTSSsQFdWxQjirYGjRo4OuBs6zfeOMN6dGjByIugcbHqSEAAQhAAAIQyDuBtBJxQdmpVsRpqFXDrHXr1hUtAKwJDN69cxpu3b17t3nPbxBOzbvRcSQEIAABCEAAAvknkJYiziYuqNfNhkwtKn2tT58+Mn78eF96QaFUPZBiv/k3Ps4AAQhAAAIQgEDeCaSViCtSpEjEwr1ePCri2rZtK3PnzvWl1q1bN5k8eXJUqoi4vBsdR0IAAhCAAAQgkH8CaSXiYg2nTps2Tbp06eJLLzs7W7KysqLSJZyaf+PjDBCAAAQgAAEI5J1AWom4WBMbJk2aZJIWwgv8Woy9evWKGm7VeXji8m50HAkBCEAAAhCAQP4JpJWIi9UT17RpU1myZIkvvQsvvFAUTLSBiMu/8XEGCEAAAhCAAATyTqDQibiff/7Z1ImzIyMjwxQFVlGn3Rx01KxZU9atWxeVKuHUvBsdR0IAAhCAAAQgkH8CaSXibDhVw6T6X9GiRU0x36NHj4ZIaRcG9bQFjUgFgL3H4IkLIsj7EIAABCAAAQgkkkBaibhI2anh+9727NkjlSpVMl43FX1W8B07dizEWcOyv/32W1TuiLhEmiXnhgAEIAABCEAgiEBaibhSpUrJwYMHpVixYqY3aqShHrayZcvKvn37pEyZMuan37xo8AinBpkW70MAAhCAAAQgkEgCaSXimjRpYhIS1MOmIzycql43Da+WL19efv31V6lYsaIJrWrNOC0QbPfE4YlLpMlxbghAAAIQgAAETgSBtBJx//73v+Waa67JwcUbTlVxp0Lt6quvljlz5ph59v2zzjpLNm3aZIoFqyfv8OHDUflGC6dqoeCzzz77RKwP54AABCAAAQhAAAIRCXz77bfyl7/8Rb788ktp2bJlvimd9N+gjIB8f4T/CbZu3SrNmjWTHTt25BBhVqiVK1dOdE9cq1atRMOhe/fuDZ1MvW8q8jQJonTp0r5hVnvAli1bRP/zjnfeeUeeeeaZBN4hp4bffWRIAAAUOklEQVQABCAAAQhAAAI5CajzSLtN5XckVcStXbtWNKSqIdMDBw4Yj5oKOPW+6R45FXja+L5+/frmPq+88kp56aWXTChV98ddfvnlMn36dKlSpUougRYLGA3LakuvCRMmyAUXXBDLIYVujv2rAW+l/9LDKPixgBGMggnENgNbCuYEI3cZHTp0SH788Ue56qqrREum5XckVcTt37/fdGJQobZt2zaz5029bp9//rmol+7VV1+VPn36SOfOneW9994zrsf58+fLTz/9JFWrVpUHHnhARo4caUKy+n6840THpuP9/FSYD6PgVYIRjIIJBM/AjoIZ6Qw4BXOCUeFhlFQRp0JN97tlZmZK9erVjTdt3LhxogV+TzvtNFFPXYkSJYxwa926tfHU9evXT2rXri1ff/21vPbaayakumbNGlPwN96BoQcTgxGMggkEz8COYBRMILYZ2FIwJxgVHkZJFXE2nKrb8jScqoLNbtHTUOfFF19sVkLFnnroNIy6fft2s09O56mA++c//2lEYF4Ghh5MDUYwCiYQPAM7glEwgdhmYEvBnGBUeBglVcRFCqe2a9dOHnvsMalTp05oFWKdF7xsOWdg6MHEYASjYALBM7AjGAUTiG0GthTMCUaFh1FSRVww5sTO0PCt7ru7/fbb5fTTT0/sh6Xo2WEUvHAwglEwgeAZ2FEwI50Bp2BOMCo8jAq1iAteZmZAAAIQgAAEIAABNwkg4txcF64KAhCAAAQgAAEIRCWAiMNAIAABCEAAAhCAQAoSQMSl4KJxyRCAAAQgAAEIQAARhw1AAAIQgAAEIACBFCSAiEvBReOSIQABCEAAAhCAQEqIOO2lqu21tEODttzS7g69evWSgQMHmgLAQWPFihWmRdeXX35ppl566aWm8f25556b69BEzQ26xvy+XxCMDh48KG+++abMmjVLli9fLrt27ZKzzjrLtD0bNGiQlC9fPsdtaEu1SZMmRbw1Xcczzjgjv7cd9/EFwUkvKt57j8fu4r7pOA8oCEbaOzBal5VTTjlFfvvtt9CVx8szzluOe3p+GH3wwQeSnZ0tS5YsMc+R3uf69evNsxRpxGMb8cyN+6bjPKAgGKX6d1JBMCrM30exPmup/H2UEiJOW229/PLLcuutt0qLFi1MG6433njDtOAaM2ZM1K8Wbcl10UUXmb6sAwYMMHNffPFF0/Xhq6++krp164aOT9TcOL/78jS9IBjpPxDnnXeeXHbZZaZ5b+XKlc0/RCqu9R8g/b1s2bK5/uFVIafdNbzjuuuuk5IlS+bpXvNzUEFw8n5pxnLv8dhdfu491mMLgpF2aJkxY0auS1Jxr38QdOzY0fyxYIcVcbHwjPU+8zMvP4z0XqZMmSKNGjWSI0eOiD5XfiIuHtuIZ25+7j3WYwuCUap/JxUEo8L8fRTrs5bK30fOizj9S/X88883Auxvf/tb6Pvj7rvvltGjR8s333xjvgz9RpcuXeQ///mPfPvtt8aDp0P/oTj77LPlT3/6k2nbZUei5sb6pZfXeQXFaOfOnbJ582Yj5Lzj9ddfl9tuu02ee+45ue+++3L9w6ueBvWsJHsUFCfvl2Ys9x6P3SWaYUEyinQvw4YNk0ceeUSmTZsmKvTDRVwsPF1npL2hMzIyTC/ohx9+WIYPH+4r4uKxjXjmpgujVP5Oyu+zFo8d2T+CYnl+CqMd+T0PqfB95LyIGzx4sIwYMULWrVuXI/yif7nWqlXL/NWuX4KRhrbrqlSpktx44425wnrdu3eXd955R/RLoHTp0pKouYn+stTzFxQjv3vZu3evlCtXTnr27CkTJkzI9Q/v0aNH5dChQ4ZzuEeuIPjYzyhITvZLM+je47G7gmBVkIwi3U+9evVk9+7d5o+FokWLOmlL+WEUfs/RRFw8thHPXNftKB5GqfydVFB25P2jsjB9H50IO0qF7yPnRZyG7dTbtnXr1lzP62mnnSYXXnih8bRFGgsWLDDhVw3F9u3bN8cUfU1d2TqnefPm5mci5hbEF2ZBMfK7l9WrV0uDBg3koYcekieffDLXP7xlypSRffv2SYkSJYz3U/cj1q5duyDQ5PiMguRkRVzQvcdjdwUBrCAZhd+PbpNo2bKl3HnnncbL7h2x8nSdUTz/sMRjG/HMTSdGqfydlJ9nLR478oq4wvR9FC+jVP0+cl7EaahU/yLX/Vbho3HjxmZTsLqlIw0NyahrWPfW6B4b79DXOnfubDYYZ2VlmfBNIuYWxBdmQTHyu5dbbrlFJk+eLEuXLjWhbztU1On6NGnSxISOFi5caP5x1i+Sr7/+Ws4888yCwBP6jILkFOu9x2N3BQGrIBmF34/2MB43bpwsXrxYmjZtmuPtWHm6ziief1jisY145qYTo1T+TsrPsxaPHencWJ8f7Oj/yKbK95HzIk49Nupx07/Sw4d6zrZv3y4//PBDxGf573//u6jAmDNnjlx55ZU55mjWiv4lpHP+8pe/mJ+JmFsQX5gFxSjSveg/umrsuhdO98QFjQ8//NCshYazJ06cGDT9hL6fTE56I5HuPR67O6EwfE6WLEa6wb9KlSpSrVo1s9E/lpEsW8oPo3j+8Y3HNuKZGwvb/M4pKEap/J2UTEaF4fsonmctfG4qfR85L+Ly89dKPH9VJGpufr8MYzm+oBiFX8vMmTON97J9+/Yyffr0mJMX1DO3ZcsWs++pIEeyOHnvMfze47G7gmCVLEZTp06Vrl27mlC7lg6KdSTDlvLDKJ5/WOKxjXjmxso2P/MKilEqfycli1Fh+T6K51kLn5tK30fOi7j87BuIZ59Ioubm54sw1mMLipH3etST2alTJ7OPcPbs2VK8ePFYL9dkHf7rX/8S3WRbkCMZnMLvL/ze47G7gmCVLEYdOnQwHnPNHD/99NNjvtVk2FJ+GMXzD0s8thHP3Jjh5mNiQTFK5e+kZDAqTN9H8Txr4XNT6fvIeRGn2ae6WT4R2alvv/22KVgbS3ZqXufm43sw5kMLipG9oM8++8wkKOhfknPnzjX84hlaouSXX34x/2AX5ChoTpHuLfzeg7IKvXZXEKySwUiTlrTws4bZ9Q+CeEYybCk/jOL5hyUe24hnbjx88zq3oBil8ndSQTMqbN9H8Txr3rmp9n3kvIjTzFTNQPWrE/f//t//M3XLdAP92rVrTakL71/ymrSgf+F/9913oQ4Btk6c/iWkYQg7EjU3r1+EsR5XkIwWLVokbdu2NeVeVMxVqFAh4mVq8UStDacJDd6hZV205Ivuo3vllVdivcUTMq+gOMV77/HY3QkBEeUkBcXIewm6l/L+++83JX9uuOGGXFcXL0/XGXmvL6hOXDy2Ec/cdGKUqt9J+X3WYrWjeJ+fwmpHlmeqfR85L+IUrJYHefXVV03HBi1BMG/ePNOxwSsEbNuM8A3zWv6iWbNmpl7cXXfdZdZJOzaoB047NtSvXz/0LCRqbqK/MAuK0YYNG4yg1nIhTz31lEk48Q79/3bt2pmXVFyrSzozM9N0xdAMYw35vPXWW6bosn7xhh+fLpzivfd47C5dGHnvQ/8I0z+s9C/gcNHvqi3l5ztp2bJloW4UH330kflj6H/+539M2zr9T0us2BGPbcQz13U7ipVRqn8nFYQdFebvo1jtKJW/j1JCxB07dsxseNb2Tps2bTIeNe2dqv1QbScAPxGni6MLqXNV/OnQ3qlPP/10rs4DiZyb6C/NgmD06aefSps2bXxvpVWrVqJzdOg/yPoPk5aL0AQG9ZSqeNNSL1rkUivWJ2MUBKe83Hs8NppobgXByN6DlqXRUkH6j5nWbow08sLTZUaala1/kEYaWnZHv8u8Ix7biGduOjBK9e+k/DxrsdpRXp6fwmZHqfx9lBIiLtFfNpwfAhCAAAQgAAEIpBoBRFyqrRjXCwEIQAACEIAABEQEEYcZQAACEIAABCAAgRQkgIhLwUXjkiEAAQhAAAIQgAAiDhuAAAQgAAEIQAACKUgAEZeCi8YlQwACEIAABCAAAUQcNgABCEAAAhCAAARSkAAiLgUXjUuGAAQgAAEIQAACiDhsAAIQgAAEIAABCKQgAURcCi4alwwBCEAAAhCAAAQQcdgABCAAAQhAAAIQSEECiLgUXDQuGQIQSA4B269y/fr1ctZZZ8V9EUOGDJGhQ4fKmjVrpE6dOnEfzwEQgAAEvAQQcdgDBCCQ0gTee+896dSpk/ztb3+Tu+66K8e9qGBS4XT99dfL1KlTc7w3d+5cadu2rTz55JPy0EMPxcSgIEXcxx9/LJ9//rncc889Ur58+Ziuj0kQgEDhIoCIK1zrzd1CIO0I7NmzRypVqiTXXnutZGdn57i/K664wgihjIwM2bJlS473HnvsMXn88cdl3rx50qJFi5i4HDt2TA4fPiylSpWSk046KaZjvJPi8cQ9/PDDMnz4cMmr1y/ui+MACEAg5Qgg4lJuybhgCEAgnMAFF1xgRNq2bdtCb/3222/Gg6VeuEmTJsnq1aulXr16offbtGkjX331lagILFKkSIFARcQVCGY+BAKFhgAirtAsNTcKgfQloGHU0aNHy7fffisNGjQwN7pgwQLjYVu6dKn5+eKLL0qvXr3Me0ePHjUC75JLLhENq/7+++/m/TfeeEO+//57KVGihLRu3VpGjBghZ599dgicXzj1ww8/lEGDBsny5cuNV/CWW26Ryy+/XK688kr55JNPzLl0WBG3bNkyef311+Uf//iH7N+/X1q1aiWvvPKKnHnmmWZejx49jPAMH95zpe9qcmcQgECsBBBxsZJiHgQg4CyBadOmSZcuXeTVV1+VPn36mOt8+umnZeTIkbJjxw5Rr1uNGjXkzTffNO9pCPXSSy81SQaPPvqo8dbNnDlTbr75ZmnWrJns2rVLxo4dKwcOHJDFixdL3bp1zXGRRNxnn31m9tZVq1ZNevfuLcWKFZO///3vcvLJJxsBGUnENW3aVMqVKyeZmZmydetWGTVqlDRp0kS++OKLkADV63/33Xfl+eefN+FgHe3atZPTTjvN2XXgwiAAgYIlgIgrWN58GgQgkAACKtQqV64s3bp1k8mTJ5tP6NChgwmTqjh75JFHjLD68ccfzXuazKCeMxVYeuwNN9wg//znP40QtOPnn3+Whg0bSvv27WXKlCm+Iu6iiy4yoVr14FWpUsXMU/F3/vnny9q1ayOKuI4dOxqBZvfVvfDCC3LvvffKypUrzWfqYE9cAgyFU0IgzQgg4tJsQbkdCBRWAip+NDS5ceNGOX78uFSsWNGIt//5n/+RDz74QK666irZsGGD8cj96U9/Es3+/PXXX+Wmm26ShQsXioY4w4eKwv/93/81Qk9HuCdOvWinn3668f6pF9A71Av4wAMPRBRx//nPf8z12KEeu8aNG8usWbNEBR4irrBaMfcNgfgIIOLi48VsCEDAUQJ9+/Y1QkqzOX/55RcjihYtWmTCo/v27ZMKFSoYEfbnP//ZCLzzzjvPhC9V/OleumhD98z94Q9/yCXiVPzpvrrnnntO7rvvvhynUE+bhksjhVO/++47qV+/fmi+eghr1qxpzt+9e3dEnKM2xmVBwDUCiDjXVoTrgQAE8kRAQ57qVdOEABVxGi5VT9spp5xizqd7zvS/22+/XXRP2uDBg2XYsGEmEUITHcaNG+f7uVqqREOf4Z44mzwRr4gLL/ZrRZwmVmhSA564PJkAB0Gg0BFAxBW6JeeGIZCeBDZv3mySC2677TYj4lTAffTRR6Gb1aK5GsZUEadeszlz5pjsUQ1ffvrpp7J79+7AUiMnKpwai4jTULCKTOrEpae9clcQOBEEEHEngiLngAAEnCCgraw07KkCrl+/fqIFfe3QQsCaharlRrQ+nAq90qVLm6QF9eDpXC0BEj62b99ukiZ0RMpOVa+eJjWEJzZo7boffvghYjg1FhH31FNPyV//+lezJ+/CCy90gi8XAQEIuEUAEefWenA1EIBAPgj07NnT1HrTofXftFabHVoI2GaP6j453S+n47///a/ZJ/fOO+8Yz5yW8ShTpoxJglDPne6ZsxmvkUSc7nnT49QLqAkOWmJES5loZuySJUuMl0/rwOnwK/YbKZyqXkS9lquvvtpcX9GiRc39WEGZD0wcCgEIpAkBRFyaLCS3AQEIiNkPp3vKdB+ceuNKliyZA4t2bFAv2P33329qyNmhQk73xGkBXi3zof9ftWpVU0tOa7/Ztlx+xX41NKt77LTY76mnnmquQfffXXfddaHkinhFnM7XkKqKUu1GoRm3FPvFyiEAAS8BRBz2AAEIQCABBDTZQcWi7tXTMiQMCEAAAieaACLuRBPlfBCAQKEioOVH9D8Nd9qh9eq0hEnx4sVl1apVhYoHNwsBCBQcAURcwbHmkyAAgTQksHPnTtOdQQsDa2KFFgDWsK5mlWo7sGuvvTYN75pbggAEXCCAiHNhFbgGCEAgZQkcOnTIJDRo4WBNntCeqZpNqpml2rKLAQEIQCBRBBBxiSLLeSEAAQhAAAIQgEACCSDiEgiXU0MAAhCAAAQgAIFEEUDEJYos54UABCAAAQhAAAIJJICISyBcTg0BCEAAAhCAAAQSRQARlyiynBcCEIAABCAAAQgkkAAiLoFwOTUEIAABCEAAAhBIFAFEXKLIcl4IQAACEIAABCCQQAKIuATC5dQQgAAEIAABCEAgUQQQcYkiy3khAAEIQAACEIBAAgkg4hIIl1ND4P9rtw4JAAAAAAT9f+0KGwcMJAkQIECAAIFLwMRdsroECBAgQIAAgVHAxI240gQIECBAgACBS8DEXbK6BAgQIECAAIFRwMSNuNIECBAgQIAAgUvAxF2yugQIECBAgACBUcDEjbjSBAgQIECAAIFLwMRdsroECBAgQIAAgVHAxI240gQIECBAgACBS8DEXbK6BAgQIECAAIFRIAKISLeqDQM2AAAAAElFTkSuQmCC\" width=\"500\">"
      ],
      "text/plain": [
       "<IPython.core.display.HTML object>"
      ]
     },
     "metadata": {},
     "output_type": "display_data"
    },
    {
     "name": "stdout",
     "output_type": "stream",
     "text": [
      "Starting stress = 0.7091591679600476 Processing...\n",
      "Solution stress = 0.29536904311208934 Done.\n"
     ]
    }
   ],
   "source": [
    "inverse = create_inverse_button()"
   ]
  },
  {
   "cell_type": "code",
   "execution_count": 21,
   "metadata": {},
   "outputs": [
    {
     "name": "stdout",
     "output_type": "stream",
     "text": [
      "rm: ./testTrainingData/.DS_Store: No such file or directory\r\n"
     ]
    }
   ],
   "source": [
    "! rm ./testTrainingData/.DS_Store"
   ]
  },
  {
   "cell_type": "code",
   "execution_count": null,
   "metadata": {},
   "outputs": [],
   "source": []
  },
  {
   "cell_type": "code",
   "execution_count": null,
   "metadata": {},
   "outputs": [],
   "source": []
  }
 ],
 "metadata": {
  "kernelspec": {
   "display_name": "Python 3",
   "language": "python",
   "name": "python3"
  },
  "language_info": {
   "codemirror_mode": {
    "name": "ipython",
    "version": 3
   },
   "file_extension": ".py",
   "mimetype": "text/x-python",
   "name": "python",
   "nbconvert_exporter": "python",
   "pygments_lexer": "ipython3",
   "version": "3.7.9"
  }
 },
 "nbformat": 4,
 "nbformat_minor": 1
}
