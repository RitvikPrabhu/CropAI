{
 "cells": [
  {
   "cell_type": "markdown",
   "metadata": {},
   "source": [
    "# Andromeda in Jupyter\n",
    "\n",
    "### Interactive Inverse Dimension Reduction \n",
    "\n",
    "This notebook implements interactive dimension reduction (DR) for exploratory analysis of high-dimensional data.\n",
    "It uses a Multi-Dimensional Scaling (MDS) algorithm with a weighted distance metric. It enables both forward and inverse DR interaction. \n",
    "\n",
    "**MDS** projects high-dimensional data to a 2D scatterplot. A **weighted distance function** with user-specified weights on each dimension enables alternative projections that emphasize different dimensions. An **Inverse-DR** algorithm learns distance function weights for  user-constructed layouts of the data points.\n",
    "\n",
    "### Instructions:\n",
    "\n",
    "1. Run All\n",
    "1. Proceed to the interactive plots near the bottom\n",
    "1. There are three kinds of interactions:\n",
    "    1. Select points in the DR plot and click Details to see data values.\n",
    "    1. **Parametric interaction:** Adjust the weight sliders and click Apply to alter the projection plot.\n",
    "    1. **Projection interaction:** Drag points in the projection plot, then click Learn to see learned weights, and click Copy to see the updated projection plot.\n",
    "1. Be patient, its interactive matplotlib in python and Jupyter!\n",
    "\n",
    "### Credits:\n",
    "\n",
    "Authors: Han Liu and Chris North, Dept of Computer Science, Virginia Tech.\n",
    "\n",
    "Based on: *Self JZ, Dowling M, Wenskovitch J, Crandell I, Wang M, House L, Leman S, North C. Observation-Level and Parametric Interaction for High-Dimensional Data Analysis. ACM Transactions on Interactive Intelligent Systems.  8(2), 2018.* https://infovis.cs.vt.edu/sites/default/files/observation-level-parametric_first_look_version.pdf\n"
   ]
  },
  {
   "cell_type": "code",
   "execution_count": 1,
   "metadata": {},
   "outputs": [],
   "source": [
    "%matplotlib notebook\n",
    "# interactive notebook format is required for the interactive plot\n",
    "\n",
    "import numpy as np\n",
    "import pandas as pd\n",
    "import math\n",
    "import random\n",
    "\n",
    "from sklearn.decomposition import PCA\n",
    "from sklearn.manifold import MDS\n",
    "import sklearn.metrics.pairwise\n",
    "\n",
    "import matplotlib\n",
    "import matplotlib.pyplot as plt\n",
    "import ipywidgets as widgets\n",
    "from IPython.display import display"
   ]
  },
  {
   "cell_type": "markdown",
   "metadata": {},
   "source": [
    "# Load and Pre-process Data\n",
    "\n",
    "Change the **filename** to load a dataset.  CSV data file is expected to have a first column 'Name' that is used as the index, and header row of column names.  Numeric columns are used for projection."
   ]
  },
  {
   "cell_type": "code",
   "execution_count": 2,
   "metadata": {},
   "outputs": [
    {
     "name": "stdout",
     "output_type": "stream",
     "text": [
      "ColorHist_Andromeda.ipynb DNN_Andromeda.ipynb       Sift_Andromeda.ipynb\r\n",
      "DNN_Andromeda-Copy1.ipynb OppSift_Andromeda.ipynb\r\n"
     ]
    }
   ],
   "source": [
    "! ls "
   ]
  },
  {
   "cell_type": "code",
   "execution_count": 3,
   "metadata": {},
   "outputs": [],
   "source": [
    "# filename = 'Animal_Data_Andromeda.csv'\n",
    "#filename = 'InfoVis_Fall_2015_Survey.csv'\n",
    "filename = '../csvFiles/DNNFeaturesLayer2.csv'\n",
    "df = pd.read_csv(filename)\n",
    "\n",
    "# df['Image'] = df['Image'].apply(lambda x: x.split('_')[2]+ x.split('_')[-2]+x.split('_')[-1])"
   ]
  },
  {
   "cell_type": "code",
   "execution_count": 4,
   "metadata": {},
   "outputs": [
    {
     "data": {
      "text/plain": [
       "(67, 129)"
      ]
     },
     "metadata": {},
     "output_type": "display_data"
    },
    {
     "data": {
      "text/html": [
       "<div>\n",
       "<style scoped>\n",
       "    .dataframe tbody tr th:only-of-type {\n",
       "        vertical-align: middle;\n",
       "    }\n",
       "\n",
       "    .dataframe tbody tr th {\n",
       "        vertical-align: top;\n",
       "    }\n",
       "\n",
       "    .dataframe thead th {\n",
       "        text-align: right;\n",
       "    }\n",
       "</style>\n",
       "<table border=\"1\" class=\"dataframe\">\n",
       "  <thead>\n",
       "    <tr style=\"text-align: right;\">\n",
       "      <th></th>\n",
       "      <th>Image</th>\n",
       "      <th>1</th>\n",
       "      <th>2</th>\n",
       "      <th>3</th>\n",
       "      <th>4</th>\n",
       "      <th>5</th>\n",
       "      <th>6</th>\n",
       "      <th>7</th>\n",
       "      <th>8</th>\n",
       "      <th>9</th>\n",
       "      <th>...</th>\n",
       "      <th>119</th>\n",
       "      <th>120</th>\n",
       "      <th>121</th>\n",
       "      <th>122</th>\n",
       "      <th>123</th>\n",
       "      <th>124</th>\n",
       "      <th>125</th>\n",
       "      <th>126</th>\n",
       "      <th>127</th>\n",
       "      <th>128</th>\n",
       "    </tr>\n",
       "  </thead>\n",
       "  <tbody>\n",
       "    <tr>\n",
       "      <th>0</th>\n",
       "      <td>1802late79</td>\n",
       "      <td>0.068275</td>\n",
       "      <td>0.157592</td>\n",
       "      <td>0.082554</td>\n",
       "      <td>0.064972</td>\n",
       "      <td>0.120839</td>\n",
       "      <td>0.090099</td>\n",
       "      <td>0.026834</td>\n",
       "      <td>0.171146</td>\n",
       "      <td>0.034943</td>\n",
       "      <td>...</td>\n",
       "      <td>0.053138</td>\n",
       "      <td>0.180098</td>\n",
       "      <td>0.093527</td>\n",
       "      <td>0.189275</td>\n",
       "      <td>0.105053</td>\n",
       "      <td>0.173725</td>\n",
       "      <td>0.043706</td>\n",
       "      <td>0.054691</td>\n",
       "      <td>0.308349</td>\n",
       "      <td>0.070121</td>\n",
       "    </tr>\n",
       "    <tr>\n",
       "      <th>1</th>\n",
       "      <td>1802late92</td>\n",
       "      <td>0.049229</td>\n",
       "      <td>0.156108</td>\n",
       "      <td>0.081191</td>\n",
       "      <td>0.055901</td>\n",
       "      <td>0.119174</td>\n",
       "      <td>0.091269</td>\n",
       "      <td>0.021899</td>\n",
       "      <td>0.161272</td>\n",
       "      <td>0.026484</td>\n",
       "      <td>...</td>\n",
       "      <td>0.047123</td>\n",
       "      <td>0.170871</td>\n",
       "      <td>0.095923</td>\n",
       "      <td>0.187704</td>\n",
       "      <td>0.101171</td>\n",
       "      <td>0.174721</td>\n",
       "      <td>0.034620</td>\n",
       "      <td>0.047797</td>\n",
       "      <td>0.303087</td>\n",
       "      <td>0.067094</td>\n",
       "    </tr>\n",
       "    <tr>\n",
       "      <th>2</th>\n",
       "      <td>1802late86</td>\n",
       "      <td>0.048557</td>\n",
       "      <td>0.160526</td>\n",
       "      <td>0.085549</td>\n",
       "      <td>0.061356</td>\n",
       "      <td>0.122491</td>\n",
       "      <td>0.088698</td>\n",
       "      <td>0.026238</td>\n",
       "      <td>0.155925</td>\n",
       "      <td>0.029371</td>\n",
       "      <td>...</td>\n",
       "      <td>0.050919</td>\n",
       "      <td>0.181880</td>\n",
       "      <td>0.092090</td>\n",
       "      <td>0.188571</td>\n",
       "      <td>0.108156</td>\n",
       "      <td>0.173544</td>\n",
       "      <td>0.038042</td>\n",
       "      <td>0.048806</td>\n",
       "      <td>0.307608</td>\n",
       "      <td>0.072931</td>\n",
       "    </tr>\n",
       "    <tr>\n",
       "      <th>3</th>\n",
       "      <td>1802late87</td>\n",
       "      <td>0.055396</td>\n",
       "      <td>0.158305</td>\n",
       "      <td>0.085610</td>\n",
       "      <td>0.059512</td>\n",
       "      <td>0.131009</td>\n",
       "      <td>0.095288</td>\n",
       "      <td>0.025966</td>\n",
       "      <td>0.154091</td>\n",
       "      <td>0.034035</td>\n",
       "      <td>...</td>\n",
       "      <td>0.054305</td>\n",
       "      <td>0.182068</td>\n",
       "      <td>0.101867</td>\n",
       "      <td>0.188572</td>\n",
       "      <td>0.110286</td>\n",
       "      <td>0.174302</td>\n",
       "      <td>0.039759</td>\n",
       "      <td>0.051314</td>\n",
       "      <td>0.311195</td>\n",
       "      <td>0.074897</td>\n",
       "    </tr>\n",
       "    <tr>\n",
       "      <th>4</th>\n",
       "      <td>1802late93</td>\n",
       "      <td>0.061678</td>\n",
       "      <td>0.156793</td>\n",
       "      <td>0.084858</td>\n",
       "      <td>0.061389</td>\n",
       "      <td>0.126731</td>\n",
       "      <td>0.091486</td>\n",
       "      <td>0.025799</td>\n",
       "      <td>0.169657</td>\n",
       "      <td>0.031777</td>\n",
       "      <td>...</td>\n",
       "      <td>0.054623</td>\n",
       "      <td>0.178723</td>\n",
       "      <td>0.099569</td>\n",
       "      <td>0.189647</td>\n",
       "      <td>0.107624</td>\n",
       "      <td>0.173605</td>\n",
       "      <td>0.041325</td>\n",
       "      <td>0.050713</td>\n",
       "      <td>0.314434</td>\n",
       "      <td>0.068230</td>\n",
       "    </tr>\n",
       "  </tbody>\n",
       "</table>\n",
       "<p>5 rows × 129 columns</p>\n",
       "</div>"
      ],
      "text/plain": [
       "        Image         1         2         3         4         5         6  \\\n",
       "0  1802late79  0.068275  0.157592  0.082554  0.064972  0.120839  0.090099   \n",
       "1  1802late92  0.049229  0.156108  0.081191  0.055901  0.119174  0.091269   \n",
       "2  1802late86  0.048557  0.160526  0.085549  0.061356  0.122491  0.088698   \n",
       "3  1802late87  0.055396  0.158305  0.085610  0.059512  0.131009  0.095288   \n",
       "4  1802late93  0.061678  0.156793  0.084858  0.061389  0.126731  0.091486   \n",
       "\n",
       "          7         8         9  ...       119       120       121       122  \\\n",
       "0  0.026834  0.171146  0.034943  ...  0.053138  0.180098  0.093527  0.189275   \n",
       "1  0.021899  0.161272  0.026484  ...  0.047123  0.170871  0.095923  0.187704   \n",
       "2  0.026238  0.155925  0.029371  ...  0.050919  0.181880  0.092090  0.188571   \n",
       "3  0.025966  0.154091  0.034035  ...  0.054305  0.182068  0.101867  0.188572   \n",
       "4  0.025799  0.169657  0.031777  ...  0.054623  0.178723  0.099569  0.189647   \n",
       "\n",
       "        123       124       125       126       127       128  \n",
       "0  0.105053  0.173725  0.043706  0.054691  0.308349  0.070121  \n",
       "1  0.101171  0.174721  0.034620  0.047797  0.303087  0.067094  \n",
       "2  0.108156  0.173544  0.038042  0.048806  0.307608  0.072931  \n",
       "3  0.110286  0.174302  0.039759  0.051314  0.311195  0.074897  \n",
       "4  0.107624  0.173605  0.041325  0.050713  0.314434  0.068230  \n",
       "\n",
       "[5 rows x 129 columns]"
      ]
     },
     "execution_count": 4,
     "metadata": {},
     "output_type": "execute_result"
    }
   ],
   "source": [
    "display(df.shape)\n",
    "df.head(5)"
   ]
  },
  {
   "cell_type": "code",
   "execution_count": 5,
   "metadata": {},
   "outputs": [
    {
     "name": "stdout",
     "output_type": "stream",
     "text": [
      "Data size (r,c) = (67, 128)\n"
     ]
    },
    {
     "data": {
      "text/html": [
       "<div>\n",
       "<style scoped>\n",
       "    .dataframe tbody tr th:only-of-type {\n",
       "        vertical-align: middle;\n",
       "    }\n",
       "\n",
       "    .dataframe tbody tr th {\n",
       "        vertical-align: top;\n",
       "    }\n",
       "\n",
       "    .dataframe thead th {\n",
       "        text-align: right;\n",
       "    }\n",
       "</style>\n",
       "<table border=\"1\" class=\"dataframe\">\n",
       "  <thead>\n",
       "    <tr style=\"text-align: right;\">\n",
       "      <th></th>\n",
       "      <th>1</th>\n",
       "      <th>2</th>\n",
       "      <th>3</th>\n",
       "      <th>4</th>\n",
       "      <th>5</th>\n",
       "      <th>6</th>\n",
       "      <th>7</th>\n",
       "      <th>8</th>\n",
       "      <th>9</th>\n",
       "      <th>10</th>\n",
       "      <th>...</th>\n",
       "      <th>119</th>\n",
       "      <th>120</th>\n",
       "      <th>121</th>\n",
       "      <th>122</th>\n",
       "      <th>123</th>\n",
       "      <th>124</th>\n",
       "      <th>125</th>\n",
       "      <th>126</th>\n",
       "      <th>127</th>\n",
       "      <th>128</th>\n",
       "    </tr>\n",
       "    <tr>\n",
       "      <th>Image</th>\n",
       "      <th></th>\n",
       "      <th></th>\n",
       "      <th></th>\n",
       "      <th></th>\n",
       "      <th></th>\n",
       "      <th></th>\n",
       "      <th></th>\n",
       "      <th></th>\n",
       "      <th></th>\n",
       "      <th></th>\n",
       "      <th></th>\n",
       "      <th></th>\n",
       "      <th></th>\n",
       "      <th></th>\n",
       "      <th></th>\n",
       "      <th></th>\n",
       "      <th></th>\n",
       "      <th></th>\n",
       "      <th></th>\n",
       "      <th></th>\n",
       "      <th></th>\n",
       "    </tr>\n",
       "  </thead>\n",
       "  <tbody>\n",
       "    <tr>\n",
       "      <th>1793ready73</th>\n",
       "      <td>0.055965</td>\n",
       "      <td>0.167902</td>\n",
       "      <td>0.081489</td>\n",
       "      <td>0.055452</td>\n",
       "      <td>0.126133</td>\n",
       "      <td>0.087354</td>\n",
       "      <td>0.023680</td>\n",
       "      <td>0.163683</td>\n",
       "      <td>0.032830</td>\n",
       "      <td>0.297115</td>\n",
       "      <td>...</td>\n",
       "      <td>0.056302</td>\n",
       "      <td>0.172341</td>\n",
       "      <td>0.100577</td>\n",
       "      <td>0.187738</td>\n",
       "      <td>0.110944</td>\n",
       "      <td>0.161266</td>\n",
       "      <td>0.048347</td>\n",
       "      <td>0.055950</td>\n",
       "      <td>0.301119</td>\n",
       "      <td>0.071750</td>\n",
       "    </tr>\n",
       "    <tr>\n",
       "      <th>1793ready74</th>\n",
       "      <td>0.059150</td>\n",
       "      <td>0.168314</td>\n",
       "      <td>0.080772</td>\n",
       "      <td>0.051795</td>\n",
       "      <td>0.130392</td>\n",
       "      <td>0.093909</td>\n",
       "      <td>0.023834</td>\n",
       "      <td>0.165169</td>\n",
       "      <td>0.032559</td>\n",
       "      <td>0.298672</td>\n",
       "      <td>...</td>\n",
       "      <td>0.057915</td>\n",
       "      <td>0.173019</td>\n",
       "      <td>0.100754</td>\n",
       "      <td>0.189541</td>\n",
       "      <td>0.113338</td>\n",
       "      <td>0.168697</td>\n",
       "      <td>0.041676</td>\n",
       "      <td>0.058595</td>\n",
       "      <td>0.306763</td>\n",
       "      <td>0.072741</td>\n",
       "    </tr>\n",
       "    <tr>\n",
       "      <th>1793ready75</th>\n",
       "      <td>0.063940</td>\n",
       "      <td>0.167771</td>\n",
       "      <td>0.084106</td>\n",
       "      <td>0.065108</td>\n",
       "      <td>0.127765</td>\n",
       "      <td>0.087153</td>\n",
       "      <td>0.026984</td>\n",
       "      <td>0.173542</td>\n",
       "      <td>0.039482</td>\n",
       "      <td>0.300659</td>\n",
       "      <td>...</td>\n",
       "      <td>0.056664</td>\n",
       "      <td>0.171838</td>\n",
       "      <td>0.102857</td>\n",
       "      <td>0.189396</td>\n",
       "      <td>0.112245</td>\n",
       "      <td>0.165072</td>\n",
       "      <td>0.046100</td>\n",
       "      <td>0.055882</td>\n",
       "      <td>0.314828</td>\n",
       "      <td>0.067931</td>\n",
       "    </tr>\n",
       "    <tr>\n",
       "      <th>1793ready76</th>\n",
       "      <td>0.058782</td>\n",
       "      <td>0.168896</td>\n",
       "      <td>0.082089</td>\n",
       "      <td>0.051422</td>\n",
       "      <td>0.131545</td>\n",
       "      <td>0.092058</td>\n",
       "      <td>0.021598</td>\n",
       "      <td>0.163690</td>\n",
       "      <td>0.032915</td>\n",
       "      <td>0.300387</td>\n",
       "      <td>...</td>\n",
       "      <td>0.057929</td>\n",
       "      <td>0.172377</td>\n",
       "      <td>0.104372</td>\n",
       "      <td>0.189018</td>\n",
       "      <td>0.113043</td>\n",
       "      <td>0.167692</td>\n",
       "      <td>0.042648</td>\n",
       "      <td>0.057378</td>\n",
       "      <td>0.303701</td>\n",
       "      <td>0.068746</td>\n",
       "    </tr>\n",
       "    <tr>\n",
       "      <th>1793ready77</th>\n",
       "      <td>0.067556</td>\n",
       "      <td>0.167239</td>\n",
       "      <td>0.087494</td>\n",
       "      <td>0.060726</td>\n",
       "      <td>0.130719</td>\n",
       "      <td>0.088041</td>\n",
       "      <td>0.026429</td>\n",
       "      <td>0.170784</td>\n",
       "      <td>0.038147</td>\n",
       "      <td>0.303425</td>\n",
       "      <td>...</td>\n",
       "      <td>0.057660</td>\n",
       "      <td>0.173856</td>\n",
       "      <td>0.102264</td>\n",
       "      <td>0.190925</td>\n",
       "      <td>0.114854</td>\n",
       "      <td>0.176321</td>\n",
       "      <td>0.041078</td>\n",
       "      <td>0.058308</td>\n",
       "      <td>0.320287</td>\n",
       "      <td>0.071322</td>\n",
       "    </tr>\n",
       "  </tbody>\n",
       "</table>\n",
       "<p>5 rows × 128 columns</p>\n",
       "</div>"
      ],
      "text/plain": [
       "                    1         2         3         4         5         6  \\\n",
       "Image                                                                     \n",
       "1793ready73  0.055965  0.167902  0.081489  0.055452  0.126133  0.087354   \n",
       "1793ready74  0.059150  0.168314  0.080772  0.051795  0.130392  0.093909   \n",
       "1793ready75  0.063940  0.167771  0.084106  0.065108  0.127765  0.087153   \n",
       "1793ready76  0.058782  0.168896  0.082089  0.051422  0.131545  0.092058   \n",
       "1793ready77  0.067556  0.167239  0.087494  0.060726  0.130719  0.088041   \n",
       "\n",
       "                    7         8         9        10  ...       119       120  \\\n",
       "Image                                                ...                       \n",
       "1793ready73  0.023680  0.163683  0.032830  0.297115  ...  0.056302  0.172341   \n",
       "1793ready74  0.023834  0.165169  0.032559  0.298672  ...  0.057915  0.173019   \n",
       "1793ready75  0.026984  0.173542  0.039482  0.300659  ...  0.056664  0.171838   \n",
       "1793ready76  0.021598  0.163690  0.032915  0.300387  ...  0.057929  0.172377   \n",
       "1793ready77  0.026429  0.170784  0.038147  0.303425  ...  0.057660  0.173856   \n",
       "\n",
       "                  121       122       123       124       125       126  \\\n",
       "Image                                                                     \n",
       "1793ready73  0.100577  0.187738  0.110944  0.161266  0.048347  0.055950   \n",
       "1793ready74  0.100754  0.189541  0.113338  0.168697  0.041676  0.058595   \n",
       "1793ready75  0.102857  0.189396  0.112245  0.165072  0.046100  0.055882   \n",
       "1793ready76  0.104372  0.189018  0.113043  0.167692  0.042648  0.057378   \n",
       "1793ready77  0.102264  0.190925  0.114854  0.176321  0.041078  0.058308   \n",
       "\n",
       "                  127       128  \n",
       "Image                            \n",
       "1793ready73  0.301119  0.071750  \n",
       "1793ready74  0.306763  0.072741  \n",
       "1793ready75  0.314828  0.067931  \n",
       "1793ready76  0.303701  0.068746  \n",
       "1793ready77  0.320287  0.071322  \n",
       "\n",
       "[5 rows x 128 columns]"
      ]
     },
     "execution_count": 5,
     "metadata": {},
     "output_type": "execute_result"
    }
   ],
   "source": [
    "# Use 'Name' column as index\n",
    "#df.rename(columns={df.columns[0]:'Name'}, inplace=True)\n",
    "df.set_index('Image', inplace=True)\n",
    "\n",
    "# Sort rows and columns\n",
    "# df.sort_index(axis=1, inplace=True)\n",
    "df.sort_index(inplace=True)\n",
    "\n",
    "df_numeric = df.select_dtypes(include='number')  #'int32' or 'int64' or 'float32' or 'float64'\n",
    "df_category = df.select_dtypes(exclude='number') #'object'\n",
    "\n",
    "# Z-score normalization\n",
    "# normalized_df = (df_numeric - df_numeric.mean()) / df_numeric.std()\n",
    "normalized_df = df_numeric  # do not normalize animal dataset, all columns are 0-100 scale\n",
    "\n",
    "print('Data size (r,c) =', df_numeric.shape)\n",
    "df_numeric.head(5)"
   ]
  },
  {
   "cell_type": "markdown",
   "metadata": {},
   "source": [
    "#  Dimension Reduction Model:  Weighted MDS\n",
    "\n",
    "For DR, we use the Multi-Dimensional Scaling (MDS) algorithm on a weighted data space. **Dimension weights** are applied to the high-dimensional (HD) data.  Weights are normalized to sum to 1, so as to normalize the HD distances to roughly constant size space independent of p.\n",
    "\n",
    "The **distance function for the high-dimensional (HD) data** is L1 manhattan distance. L1 is good for general purpose use with multi-dimensional quantitative datasets. \n",
    "\n",
    "The **distance function for the 2D projected points** is L2 Euclidean distance, which makes sense for human percpetion in the plot."
   ]
  },
  {
   "cell_type": "code",
   "execution_count": 6,
   "metadata": {},
   "outputs": [],
   "source": [
    "# Compute the distance matrix for the weighted high-dimensional data using L1 distance function.\n",
    "#  Input HD data should already be weighted.\n",
    "def distance_matrix_HD(dataHDw):  # dataHDw (pandas or numpy) -> distance matrix (numpy)\n",
    "    dist_matrix = sklearn.metrics.pairwise.manhattan_distances(dataHDw)\n",
    "    #m = pd.DataFrame(m, columns=dataHD.index, index=dataHD.index)  # keep as np array for performance\n",
    "    return dist_matrix\n",
    "\n",
    "# Compute the distance matrix for 2D projected data using L2 distance function.\n",
    "def distance_matrix_2D(data2D):  # data2d (pandas or numpy) -> distance matrix (numpy)\n",
    "    dist_matrix = sklearn.metrics.pairwise.euclidean_distances(data2D) \n",
    "    #m = pd.DataFrame(m, columns=data2D.index, index=data2D.index) # keep as np array for performance\n",
    "    return dist_matrix\n",
    "\n",
    "#def dist(x,y):\n",
    "#    return np.linalg.norm(x-y, ord=2)"
   ]
  },
  {
   "cell_type": "markdown",
   "metadata": {},
   "source": [
    "**MDS** projects the weighted high-dimensional data to 2D. Tune the algorithm's parameters for performance."
   ]
  },
  {
   "cell_type": "code",
   "execution_count": 7,
   "metadata": {},
   "outputs": [],
   "source": [
    "# Calculate the MDS stress metric between HD and 2D distances.  Uses numpy for efficiency.\n",
    "def stress(distHD, dist2D):  #  distHD, dist2D (numpy) -> stress (float)\n",
    "    #s = np.sqrt((distHD-dist2D).pow(2).sum().sum() / distHD.pow(2).sum().sum())  # pandas\n",
    "    #s = np.sqrt(((distHD-dist2D)**2).sum() / (distHD**2).sum())   # numpy\n",
    "    s = ((distHD-dist2D)**2).sum() / (distHD**2).sum()   # numpy, eliminate sqrt for efficiency\n",
    "    return s\n",
    "\n",
    "def compute_mds(dataHDw):  # dataHDw -> data2D (pandas)\n",
    "    distHD = distance_matrix_HD(dataHDw)\n",
    "    # Adjust these parameters for performance/accuracy tradeoff\n",
    "    mds = sklearn.manifold.MDS(n_components=2, dissimilarity='precomputed', n_init=10, max_iter=1000)\n",
    "    # Reduction algorithm happens here:  data2D is nx2 matrix\n",
    "    data2D = mds.fit_transform(distHD)\n",
    "    \n",
    "    # Rotate the resulting 2D projection to make it more consistent across multiple runs.\n",
    "    # Set the 1st PC to the y axis, plot looks better to spread data vertically with horizontal text labels\n",
    "    pca = sklearn.decomposition.PCA(n_components=2)\n",
    "    data2D = pca.fit_transform(data2D)\n",
    "    data2D = pd.DataFrame(data2D, columns=['y','x'], index=dataHDw.index)\n",
    "    \n",
    "    data2D.stress_value = stress(distHD, distance_matrix_2D(data2D))\n",
    "    return data2D\n",
    "\n",
    "def dimension_reduction(dataHD, wts): # dataHD, wts -> data2D (pandas)\n",
    "    # Normalize the weights to sum to 1\n",
    "    wts = wts/wts.sum()\n",
    "    \n",
    "    # Apply weights to the HD data \n",
    "    dataHDw = dataHD * wts\n",
    "    \n",
    "    # DR algorithm\n",
    "    data2D = compute_mds(dataHDw)\n",
    "\n",
    "    # Compute row relevances as:  data dot weights\n",
    "    # High relevance means large values in upweighted dimensions\n",
    "    data2D['relevance'] = dataHDw.sum(axis=1)\n",
    "    return data2D\n",
    "\n",
    "\n",
    "min_weight, max_weight = 0.00001, 0.9999\n",
    "init_weight = min_weight  # 1.0/len(normalized_df.columns) # initialize to min to make the sliders easier to use.\n",
    "weights = pd.Series(init_weight, index=normalized_df.columns, name=\"Weight\")  # the current weight list\n",
    "\n",
    "df_2D = dimension_reduction(normalized_df, weights)   # the current projected data"
   ]
  },
  {
   "cell_type": "code",
   "execution_count": 8,
   "metadata": {},
   "outputs": [
    {
     "data": {
      "text/plain": [
       "1    0.00001\n",
       "2    0.00001\n",
       "Name: Weight, dtype: float64"
      ]
     },
     "execution_count": 8,
     "metadata": {},
     "output_type": "execute_result"
    }
   ],
   "source": [
    "weights.head(2)"
   ]
  },
  {
   "cell_type": "code",
   "execution_count": 9,
   "metadata": {},
   "outputs": [
    {
     "data": {
      "text/html": [
       "<div>\n",
       "<style scoped>\n",
       "    .dataframe tbody tr th:only-of-type {\n",
       "        vertical-align: middle;\n",
       "    }\n",
       "\n",
       "    .dataframe tbody tr th {\n",
       "        vertical-align: top;\n",
       "    }\n",
       "\n",
       "    .dataframe thead th {\n",
       "        text-align: right;\n",
       "    }\n",
       "</style>\n",
       "<table border=\"1\" class=\"dataframe\">\n",
       "  <thead>\n",
       "    <tr style=\"text-align: right;\">\n",
       "      <th>Image</th>\n",
       "      <th>1793ready73</th>\n",
       "      <th>1793ready74</th>\n",
       "      <th>1793ready75</th>\n",
       "      <th>1793ready76</th>\n",
       "      <th>1793ready77</th>\n",
       "      <th>1793ready78</th>\n",
       "      <th>1793ready80</th>\n",
       "      <th>1793ready81</th>\n",
       "      <th>1793ready82</th>\n",
       "      <th>1793ready83</th>\n",
       "      <th>...</th>\n",
       "      <th>1804lateDisease9</th>\n",
       "      <th>1808readyDisease1</th>\n",
       "      <th>1808readyDisease2</th>\n",
       "      <th>1808readyDisease3</th>\n",
       "      <th>1808readyDisease4</th>\n",
       "      <th>1808readyDisease5</th>\n",
       "      <th>1808readyDisease6</th>\n",
       "      <th>1808readyDisease7</th>\n",
       "      <th>1808readyDisease8</th>\n",
       "      <th>1808readyDisease9</th>\n",
       "    </tr>\n",
       "    <tr>\n",
       "      <th>Image</th>\n",
       "      <th></th>\n",
       "      <th></th>\n",
       "      <th></th>\n",
       "      <th></th>\n",
       "      <th></th>\n",
       "      <th></th>\n",
       "      <th></th>\n",
       "      <th></th>\n",
       "      <th></th>\n",
       "      <th></th>\n",
       "      <th></th>\n",
       "      <th></th>\n",
       "      <th></th>\n",
       "      <th></th>\n",
       "      <th></th>\n",
       "      <th></th>\n",
       "      <th></th>\n",
       "      <th></th>\n",
       "      <th></th>\n",
       "      <th></th>\n",
       "      <th></th>\n",
       "    </tr>\n",
       "  </thead>\n",
       "  <tbody>\n",
       "    <tr>\n",
       "      <th>1793ready73</th>\n",
       "      <td>0.000000</td>\n",
       "      <td>0.003371</td>\n",
       "      <td>0.004513</td>\n",
       "      <td>0.002764</td>\n",
       "      <td>0.006456</td>\n",
       "      <td>0.005451</td>\n",
       "      <td>0.003267</td>\n",
       "      <td>0.003889</td>\n",
       "      <td>0.003237</td>\n",
       "      <td>0.003021</td>\n",
       "      <td>...</td>\n",
       "      <td>0.009118</td>\n",
       "      <td>0.010070</td>\n",
       "      <td>0.009234</td>\n",
       "      <td>0.011999</td>\n",
       "      <td>0.009969</td>\n",
       "      <td>0.010757</td>\n",
       "      <td>0.011810</td>\n",
       "      <td>0.009523</td>\n",
       "      <td>0.013598</td>\n",
       "      <td>0.009790</td>\n",
       "    </tr>\n",
       "    <tr>\n",
       "      <th>1793ready74</th>\n",
       "      <td>0.003371</td>\n",
       "      <td>0.000000</td>\n",
       "      <td>0.004188</td>\n",
       "      <td>0.002054</td>\n",
       "      <td>0.005523</td>\n",
       "      <td>0.004157</td>\n",
       "      <td>0.002801</td>\n",
       "      <td>0.004069</td>\n",
       "      <td>0.002158</td>\n",
       "      <td>0.004083</td>\n",
       "      <td>...</td>\n",
       "      <td>0.008129</td>\n",
       "      <td>0.008385</td>\n",
       "      <td>0.008204</td>\n",
       "      <td>0.010148</td>\n",
       "      <td>0.008728</td>\n",
       "      <td>0.008837</td>\n",
       "      <td>0.010052</td>\n",
       "      <td>0.008312</td>\n",
       "      <td>0.011682</td>\n",
       "      <td>0.008539</td>\n",
       "    </tr>\n",
       "  </tbody>\n",
       "</table>\n",
       "<p>2 rows × 67 columns</p>\n",
       "</div>"
      ],
      "text/plain": [
       "Image        1793ready73  1793ready74  1793ready75  1793ready76  1793ready77  \\\n",
       "Image                                                                          \n",
       "1793ready73     0.000000     0.003371     0.004513     0.002764     0.006456   \n",
       "1793ready74     0.003371     0.000000     0.004188     0.002054     0.005523   \n",
       "\n",
       "Image        1793ready78  1793ready80  1793ready81  1793ready82  1793ready83  \\\n",
       "Image                                                                          \n",
       "1793ready73     0.005451     0.003267     0.003889     0.003237     0.003021   \n",
       "1793ready74     0.004157     0.002801     0.004069     0.002158     0.004083   \n",
       "\n",
       "Image        ...  1804lateDisease9  1808readyDisease1  1808readyDisease2  \\\n",
       "Image        ...                                                           \n",
       "1793ready73  ...          0.009118           0.010070           0.009234   \n",
       "1793ready74  ...          0.008129           0.008385           0.008204   \n",
       "\n",
       "Image        1808readyDisease3  1808readyDisease4  1808readyDisease5  \\\n",
       "Image                                                                  \n",
       "1793ready73           0.011999           0.009969           0.010757   \n",
       "1793ready74           0.010148           0.008728           0.008837   \n",
       "\n",
       "Image        1808readyDisease6  1808readyDisease7  1808readyDisease8  \\\n",
       "Image                                                                  \n",
       "1793ready73           0.011810           0.009523           0.013598   \n",
       "1793ready74           0.010052           0.008312           0.011682   \n",
       "\n",
       "Image        1808readyDisease9  \n",
       "Image                           \n",
       "1793ready73           0.009790  \n",
       "1793ready74           0.008539  \n",
       "\n",
       "[2 rows x 67 columns]"
      ]
     },
     "execution_count": 9,
     "metadata": {},
     "output_type": "execute_result"
    }
   ],
   "source": [
    "pd.DataFrame(distance_matrix_HD(normalized_df * (weights/weights.sum())), \n",
    "             columns=normalized_df.index, index=normalized_df.index).head(2)"
   ]
  },
  {
   "cell_type": "code",
   "execution_count": 10,
   "metadata": {},
   "outputs": [
    {
     "name": "stdout",
     "output_type": "stream",
     "text": [
      "0.03349200098607487\n"
     ]
    },
    {
     "data": {
      "text/html": [
       "<div>\n",
       "<style scoped>\n",
       "    .dataframe tbody tr th:only-of-type {\n",
       "        vertical-align: middle;\n",
       "    }\n",
       "\n",
       "    .dataframe tbody tr th {\n",
       "        vertical-align: top;\n",
       "    }\n",
       "\n",
       "    .dataframe thead th {\n",
       "        text-align: right;\n",
       "    }\n",
       "</style>\n",
       "<table border=\"1\" class=\"dataframe\">\n",
       "  <thead>\n",
       "    <tr style=\"text-align: right;\">\n",
       "      <th></th>\n",
       "      <th>y</th>\n",
       "      <th>x</th>\n",
       "      <th>relevance</th>\n",
       "    </tr>\n",
       "    <tr>\n",
       "      <th>Image</th>\n",
       "      <th></th>\n",
       "      <th></th>\n",
       "      <th></th>\n",
       "    </tr>\n",
       "  </thead>\n",
       "  <tbody>\n",
       "    <tr>\n",
       "      <th>1793ready73</th>\n",
       "      <td>-0.004180</td>\n",
       "      <td>-0.002355</td>\n",
       "      <td>0.124917</td>\n",
       "    </tr>\n",
       "    <tr>\n",
       "      <th>1793ready74</th>\n",
       "      <td>-0.001951</td>\n",
       "      <td>-0.000084</td>\n",
       "      <td>0.126965</td>\n",
       "    </tr>\n",
       "  </tbody>\n",
       "</table>\n",
       "</div>"
      ],
      "text/plain": [
       "                    y         x  relevance\n",
       "Image                                     \n",
       "1793ready73 -0.004180 -0.002355   0.124917\n",
       "1793ready74 -0.001951 -0.000084   0.126965"
      ]
     },
     "execution_count": 10,
     "metadata": {},
     "output_type": "execute_result"
    }
   ],
   "source": [
    "print(df_2D.stress_value)\n",
    "df_2D.head(2)"
   ]
  },
  {
   "cell_type": "markdown",
   "metadata": {},
   "source": [
    "# Inverse Dimension-Reduction Learning Algorithm\n",
    "\n",
    "Computes the inverse-Dimension-Reduction: given input 2D points, compute new weights.\n",
    "Optimizes the MDS stress function that compares 2D pairwise distances (||$x_i-x_j||$) to weighted HD pairwise distances ($d_{ij}$):\n",
    "![Stress](https://wikimedia.org/api/rest_v1/media/math/render/svg/7989b3afc0d8795a78c1631c7e807f260d9cfe68)\n",
    "\n",
    "Technically, we compute the inverse weighted distance function. We shortcut the optimization by eliminating MDS from the process, and assume that the user input 2D distances are actually the desired HD distances, not the 2D distances after re-projection. Thus, given the input (HD) distances, we find weights that would produce these distances in the HD space."
   ]
  },
  {
   "cell_type": "code",
   "execution_count": 11,
   "metadata": {},
   "outputs": [],
   "source": [
    "# This method is used to propose a new weight for current column in a smart fashion\n",
    "def new_proposal(current, step, direction):\n",
    "    return np.clip(current + direction*step*random.random(), 0.00001, 0.9999)\n",
    "\n",
    "# Repeatedly tries to modify each dim weight to see if it improves the stress, thus\n",
    "# getting the weighted high-dim distances to more closely match the input 2D distances.\n",
    "#   dataHD = high-dim data, as pandas\n",
    "#   data2D = 2D data input, as pandas\n",
    "#   weights = as pandas series, or None for weights[i]=1/p\n",
    "def inverse_DR(dataHD, data2D, curWeights=None):  # -> new weights, as Series\n",
    "    dist2D = distance_matrix_2D(data2D)  # compute 2D distances only once\n",
    "    col_names = dataHD.columns\n",
    "    dataHD = dataHD.to_numpy()  # use numpy for efficiency\n",
    "    row, col = dataHD.shape\n",
    "    \n",
    "    if curWeights==None:\n",
    "        curWeights = np.array([1.0/col]*col)  # default weights = 1/p\n",
    "    else:\n",
    "        curWeights = curWeights.to_numpy()\n",
    "        curWeights = curWeights / curWeights.sum()  # Normalize weights to sum to 1\n",
    "    newWeights = curWeights.copy()  # re-use this array for efficiency\n",
    "    \n",
    "    # Initialize state\n",
    "    flag = [0]*col         # degree of success of a weight change\n",
    "    direction = [1]*col  # direction to move a weight, pos or neg\n",
    "    step = [1.0/col]*col   # how much to change each weight\n",
    "    \n",
    "    dataHDw = dataHD * curWeights   # weighted space, re-use this array for efficiency\n",
    "    distHD = distance_matrix_HD(dataHDw)\n",
    "    curStress = stress(distHD, dist2D)\n",
    "    print('Starting stress =', curStress, 'Processing...')\n",
    "\n",
    "    MAX = 500   # default setting of the number of iterations\n",
    "\n",
    "    # Try to minorly adjust each weight to see if it reduces stress\n",
    "    for i in range(MAX):\n",
    "        for dim in range(col):            \n",
    "            # Get a new weight for current column\n",
    "            nw = new_proposal(curWeights[dim], step[dim], direction[dim])\n",
    "            \n",
    "            # Scale the weight list such that it sums to 1\n",
    "            #newWeights = curWeights.copy()  # avoid extra copy op using math below\n",
    "            #newWeights[dim] = nw\n",
    "            #newWeights = newWeights / s\n",
    "            s = 1.0  + nw - curWeights[dim]   # 1.0 == curWeights.sum()\n",
    "            np.true_divide(curWeights, s, out=newWeights)  # transfers to other array, while doing /\n",
    "            newWeights[dim] = nw / s\n",
    "            \n",
    "            # Apply new weights to HD data\n",
    "            np.multiply(dataHD, newWeights, out=dataHDw)  # dataHDw = dataHD * newWeights; efficiently reuses dataHDw array\n",
    "            distHD = distance_matrix_HD(dataHDw)\n",
    "\n",
    "            # Get the new stress\n",
    "            newStress = stress(distHD, dist2D)\n",
    "            \n",
    "            # If new stress is lower, then update weights and flag this success\n",
    "            if newStress < curStress:\n",
    "                temp = curWeights\n",
    "                curWeights = newWeights\n",
    "                newWeights = temp   # reuse the old array next iteration\n",
    "                curStress = newStress\n",
    "                flag[dim] = flag[dim] + 1\n",
    "            else:\n",
    "                flag[dim] = flag[dim] - 1\n",
    "                direction[dim] = -direction[dim]  # Reverse course\n",
    "    \n",
    "            # If recent success, then speed up the step rate\n",
    "            if flag[dim] >= 5:\n",
    "                step[dim] = step[dim] * 2\n",
    "                flag[dim] = 0\n",
    "            elif flag[dim] <= -5:\n",
    "                step[dim] = step[dim] / 2\n",
    "                flag[dim] = 0\n",
    "                \n",
    "    print('Solution stress =', curStress, 'Done.')\n",
    "    #print(\"weight\", curWeights)\n",
    "    #print(\"flag\", flag)\n",
    "    #print(\"dir\", direction)\n",
    "    #print(\"step\", step)\n",
    "    return pd.Series(curWeights, index=col_names, name=\"Weight\")\n"
   ]
  },
  {
   "cell_type": "markdown",
   "metadata": {},
   "source": [
    "# Visualization and UI code\n",
    "\n",
    "Use these functions to create the GUI components in any cell."
   ]
  },
  {
   "cell_type": "markdown",
   "metadata": {},
   "source": [
    "## Sliders"
   ]
  },
  {
   "cell_type": "code",
   "execution_count": 12,
   "metadata": {},
   "outputs": [],
   "source": [
    "def create_sliders(wts):\n",
    "    # Create sliders, one for each dimension weight\n",
    "    sliders = [widgets.FloatSlider(min=min_weight, max=max_weight, step=0.01, value=value, \n",
    "                                       description=label, continuous_update=False, readout_format='.5f')\n",
    "                   for (label, value) in wts.iteritems()]\n",
    "    # Display sliders\n",
    "    for s in sliders:\n",
    "        #s.observe(sliderchange, names='value')\n",
    "        display(s)\n",
    "        \n",
    "    create_slider_buttons(sliders)\n",
    "    return sliders\n",
    "\n",
    "def create_slider_buttons(sliders):    \n",
    "    apply_button = widgets.Button(description='Apply Slider Weights')\n",
    "    reset_button = widgets.Button(description='Reset Plot')\n",
    "\n",
    "    # Callback functions\n",
    "    def apply_button_clicked(change):\n",
    "        # Use the slider values to re compute the DR and redraw the plot\n",
    "        global weights, df_2D   # Update weights and df_2D globals\n",
    "        weights = pd.Series([s.value for s in sliders], index=normalized_df.columns, name='Weight')\n",
    "        df_2D = dimension_reduction(normalized_df, weights)   \n",
    "        \n",
    "        # Re-draw the plot\n",
    "        draw_plot(plot_ax, df_2D)\n",
    "    apply_button.on_click(apply_button_clicked)\n",
    "\n",
    "    def reset_button_clicked(change):\n",
    "        # Reset all sliders to initial value and re-compute DR and re-draw the plot\n",
    "        for s in sliders:\n",
    "            s.value = init_weight\n",
    "        apply_button_clicked(change)\n",
    "    reset_button.on_click(reset_button_clicked)\n",
    "    \n",
    "    # Display buttons\n",
    "    display(apply_button)\n",
    "    display(reset_button)\n",
    "    return apply_button, reset_button\n"
   ]
  },
  {
   "cell_type": "markdown",
   "metadata": {},
   "source": [
    "## Print Details Button"
   ]
  },
  {
   "cell_type": "code",
   "execution_count": 13,
   "metadata": {},
   "outputs": [],
   "source": [
    "def create_detail_display():\n",
    "    # Print selected points\n",
    "    print_button = widgets.Button(description='Print selected points')\n",
    "    print_output = widgets.Output()\n",
    "\n",
    "    def print_button_clicked(change):\n",
    "        print_output.clear_output()\n",
    "        # Get list of selected points and print their source data values\n",
    "        selset = [c.index for c in plot_ax.circles if c.selected]\n",
    "        with print_output:\n",
    "            if len(selset) > 0:\n",
    "                print(df.iloc[selset, :].transpose())\n",
    "            else:\n",
    "                print('Select points in the plot to see details here')\n",
    "    print_button.on_click(print_button_clicked)\n",
    "\n",
    "    display(print_button)\n",
    "    display(print_output)\n",
    "    return print_button, print_output\n"
   ]
  },
  {
   "cell_type": "markdown",
   "metadata": {},
   "source": [
    "## Inverse DR Button and Plot"
   ]
  },
  {
   "cell_type": "code",
   "execution_count": 14,
   "metadata": {},
   "outputs": [],
   "source": [
    "def create_inverse_button():\n",
    "    inverse_button = widgets.Button(description='Learn New Weights')\n",
    "    copy_button = widgets.Button(description='Copy to Sliders')\n",
    "\n",
    "    def inverse_button_clicked(change):\n",
    "        ax.clear()\n",
    "\n",
    "        # Check minimum number of points moved\n",
    "        n = len([1 for c in plot_ax.circles if c.selected])\n",
    "        if n < 2:\n",
    "            print('Need to select or move at least 2 points in the plot first.')\n",
    "            return\n",
    "\n",
    "        # Get selected data points\n",
    "        data2Dnew = pd.DataFrame([c.center for c in plot_ax.circles if c.selected], columns=['x','y'], \n",
    "                                index=[c.label for c in plot_ax.circles if c.selected])\n",
    "        dataHDpart = normalized_df.loc[data2Dnew.index]\n",
    "\n",
    "        # Learn new weights\n",
    "        global weights\n",
    "        weights = inverse_DR(dataHDpart, data2Dnew)\n",
    "        \n",
    "        # Display new weights as a bar chart\n",
    "        weights.sort_index(ascending=False).plot.barh(ax=ax)\n",
    "        ax.set_xlabel(\"Weight\")\n",
    "        fig.tight_layout()\n",
    "    inverse_button.on_click(inverse_button_clicked)\n",
    "\n",
    "    def copy_button_clicked(change):\n",
    "        # Set sliders to reflect the learned weights and update the DR and plot accordingly\n",
    "        global df_2D\n",
    "        for i,s in enumerate(sliders):\n",
    "            s.value = weights[i]\n",
    "        df_2D = dimension_reduction(normalized_df, weights)   \n",
    "        draw_plot(plot_ax, df_2D)\n",
    "    copy_button.on_click(copy_button_clicked)\n",
    "    display(inverse_button)\n",
    "    display(copy_button)\n",
    "    fig, ax = plt.subplots(figsize=(5,7))   # reserve a fig for the weights bar chart\n",
    "    return inverse_button, copy_button, ax\n"
   ]
  },
  {
   "cell_type": "markdown",
   "metadata": {},
   "source": [
    "## Draggable Dimension-Reduction 2D Plot"
   ]
  },
  {
   "cell_type": "code",
   "execution_count": 15,
   "metadata": {},
   "outputs": [],
   "source": [
    "# Handles mouse drag interaction events in the plot, users can select and drag points.\n",
    "class DraggablePoints(object):\n",
    "    def __init__(self, ax, artists):\n",
    "        self.ax = ax\n",
    "        self.artists = artists\n",
    "        self.current_artist = None\n",
    "        self.last_selected = None\n",
    "        ax.selected_text.set_text('Selected: none')\n",
    "        self.offset = (0, 0)\n",
    "        # Set up mouse listeners\n",
    "        ax.figure.canvas.mpl_connect('pick_event', self.on_pick)\n",
    "        ax.figure.canvas.mpl_connect('motion_notify_event', self.on_motion)\n",
    "        ax.figure.canvas.mpl_connect('button_release_event', self.on_release)\n",
    "\n",
    "    def on_pick(self, event):\n",
    "        # When point is clicked on (mouse down), select it and start the drag\n",
    "        if self.current_artist is None:  # clicking on overlapped points sends multiple events\n",
    "            self.last_selected = event.artist.index  # event.ind\n",
    "            self.current_artist = event.artist\n",
    "            event.artist.selected = True\n",
    "            event.artist.savecolor = event.artist.get_facecolor()\n",
    "            event.artist.set_facecolor('green')\n",
    "            #event.artist.set_alpha(1.0)\n",
    "            self.ax.selected_text.set_text(\"Selected: \" + event.artist.label)\n",
    "            x0, y0 = event.artist.center\n",
    "            self.offset = (x0 - event.mouseevent.xdata), (y0 - event.mouseevent.ydata)\n",
    "\n",
    "    def on_motion(self, event):\n",
    "        # When dragging, check if point is selected and valid mouse coordinates\n",
    "        if (self.current_artist is not None) and (event.xdata is not None) and (event.ydata is not None):\n",
    "            # Drag the point and its text label\n",
    "            dx, dy = self.offset\n",
    "            self.current_artist.center = x0, y0 = event.xdata + dx, event.ydata + dy\n",
    "            self.current_artist.text.set_position((x0 - self.current_artist.radius/2, \n",
    "                                                   y0 - self.current_artist.radius/2))\n",
    "            #self.ax.figure.canvas.draw()  # slow\n",
    "        \n",
    "    def on_release(self, event):\n",
    "        # When mouse is released, stop the drag\n",
    "        self.current_artist = None\n",
    "        #self.ax.figure.canvas.draw()"
   ]
  },
  {
   "cell_type": "code",
   "execution_count": 16,
   "metadata": {
    "scrolled": false
   },
   "outputs": [],
   "source": [
    "def create_plot(data2D):\n",
    "    # Initialize DR plot figure\n",
    "    fig, ax = plt.subplots(figsize= (8,7))\n",
    "    ax.selected_text = ax.figure.text(0,0.005, 'Selected: none', wrap=True, color='green')\n",
    "    fig.colorbar(plt.cm.ScalarMappable(norm=matplotlib.colors.Normalize(), cmap=plt.cm.plasma), ax=ax, label=\"Relevance\", ticks=[], shrink=0.5, aspect=40, fraction=0.05)\n",
    "    # ax = data2D.plot.scatter(x=\"x\", y=\"y\", alpha=0.5, c=\"relevance\", s=75, ax=ax\n",
    "    #                   colormap=plt.cm.plasma, sharex=False, figsize=(8, 6), picker=True)\n",
    "    # ax.collections[0].get_offsets());   set_offsets(data2D[['y','x']]);   .get_facecolors()\n",
    "    \n",
    "    # Clean up the plot\n",
    "    ax.set_xticks([])\n",
    "    ax.set_yticks([])\n",
    "    ax.figure.tight_layout()\n",
    "    #plt.show()\n",
    "    \n",
    "    # Store state data:\n",
    "    ax.circles = None\n",
    "    ax.dragpoint = None\n",
    "    \n",
    "    draw_plot(ax, data2D)\n",
    "    return ax\n",
    "\n",
    "def draw_plot(ax, data2D):\n",
    "    # Re-draws the DR plot in the axes with the updated data2D\n",
    "    ax.clear()\n",
    "    # Map data to circles, with x, y, and relevance->color\n",
    "    wid = max(data2D.x.max() - data2D.x.min(), data2D.y.max() - data2D.y.min())  # max range of x,y axes\n",
    "    cnorm = matplotlib.colors.Normalize(vmin=data2D.relevance.min(), vmax=data2D.relevance.max())\n",
    "    ax.circles = data2D.apply(axis=1, func=lambda row: \n",
    "        matplotlib.patches.Circle(xy=(row.x, row.y), radius=wid/70, alpha=0.5, \n",
    "                                  color=plt.cm.plasma(cnorm(row.relevance)), picker=True))\n",
    "    for i,c in enumerate(ax.circles):\n",
    "        # Store state data:\n",
    "        c.index, c.label, c.selected = i, data2D.index[i], False\n",
    "        # Draw circles and text labels in plot\n",
    "        ax.add_patch(c)\n",
    "        c.text = ax.text(c.center[0]-c.radius/2, c.center[1]-c.radius/2, c.label)\n",
    "    # Make plot circles draggable\n",
    "    ax.dragpoint = DraggablePoints(ax, ax.circles)\n",
    "    \n",
    "    # Clean up the plot\n",
    "    ax.set_xticks([])\n",
    "    ax.set_yticks([])\n",
    "    ax.axis('equal')\n",
    "    #plt.show()\n"
   ]
  },
  {
   "cell_type": "markdown",
   "metadata": {},
   "source": [
    "# Interactive Visualization"
   ]
  },
  {
   "cell_type": "markdown",
   "metadata": {},
   "source": [
    "## Sliders\n",
    "Use the sliders to control the **dimension weights** for the input HD data. The weights indicate which dimensions are given more emphasis in the DR plot distances.  For computational reasons, weights cannot go to absolute zero. When used in DR, the weights are first normalized such that they sum to 1.\n",
    "\n",
    "After adjusting the sliders, click the **Apply** button to show the results in the DR plot.\n",
    "\n",
    "To reset the sliders to their default values, click the **Reset** button."
   ]
  },
  {
   "cell_type": "code",
   "execution_count": 17,
   "metadata": {
    "scrolled": true
   },
   "outputs": [
    {
     "data": {
      "application/vnd.jupyter.widget-view+json": {
       "model_id": "af1688e427bf4b2ebadec67df7ccd0e1",
       "version_major": 2,
       "version_minor": 0
      },
      "text/plain": [
       "FloatSlider(value=1e-05, continuous_update=False, description='1', max=0.9999, min=1e-05, readout_format='.5f'…"
      ]
     },
     "metadata": {},
     "output_type": "display_data"
    },
    {
     "data": {
      "application/vnd.jupyter.widget-view+json": {
       "model_id": "2a48f0036e1e45ddbd5ada10c80b0925",
       "version_major": 2,
       "version_minor": 0
      },
      "text/plain": [
       "FloatSlider(value=1e-05, continuous_update=False, description='2', max=0.9999, min=1e-05, readout_format='.5f'…"
      ]
     },
     "metadata": {},
     "output_type": "display_data"
    },
    {
     "data": {
      "application/vnd.jupyter.widget-view+json": {
       "model_id": "438b9faa9a66464692b90b35ba3c0308",
       "version_major": 2,
       "version_minor": 0
      },
      "text/plain": [
       "FloatSlider(value=1e-05, continuous_update=False, description='3', max=0.9999, min=1e-05, readout_format='.5f'…"
      ]
     },
     "metadata": {},
     "output_type": "display_data"
    },
    {
     "data": {
      "application/vnd.jupyter.widget-view+json": {
       "model_id": "230f04b25faa480d950869ebc9f8023e",
       "version_major": 2,
       "version_minor": 0
      },
      "text/plain": [
       "FloatSlider(value=1e-05, continuous_update=False, description='4', max=0.9999, min=1e-05, readout_format='.5f'…"
      ]
     },
     "metadata": {},
     "output_type": "display_data"
    },
    {
     "data": {
      "application/vnd.jupyter.widget-view+json": {
       "model_id": "2c035d42ab1449199fdae6b0fd1dcbd1",
       "version_major": 2,
       "version_minor": 0
      },
      "text/plain": [
       "FloatSlider(value=1e-05, continuous_update=False, description='5', max=0.9999, min=1e-05, readout_format='.5f'…"
      ]
     },
     "metadata": {},
     "output_type": "display_data"
    },
    {
     "data": {
      "application/vnd.jupyter.widget-view+json": {
       "model_id": "0b962f9bdd2b460eb01211c67f713258",
       "version_major": 2,
       "version_minor": 0
      },
      "text/plain": [
       "FloatSlider(value=1e-05, continuous_update=False, description='6', max=0.9999, min=1e-05, readout_format='.5f'…"
      ]
     },
     "metadata": {},
     "output_type": "display_data"
    },
    {
     "data": {
      "application/vnd.jupyter.widget-view+json": {
       "model_id": "4642dc56494440eca36f3bc40557e7b5",
       "version_major": 2,
       "version_minor": 0
      },
      "text/plain": [
       "FloatSlider(value=1e-05, continuous_update=False, description='7', max=0.9999, min=1e-05, readout_format='.5f'…"
      ]
     },
     "metadata": {},
     "output_type": "display_data"
    },
    {
     "data": {
      "application/vnd.jupyter.widget-view+json": {
       "model_id": "ec84059b66b44f2f8edf32ac26722740",
       "version_major": 2,
       "version_minor": 0
      },
      "text/plain": [
       "FloatSlider(value=1e-05, continuous_update=False, description='8', max=0.9999, min=1e-05, readout_format='.5f'…"
      ]
     },
     "metadata": {},
     "output_type": "display_data"
    },
    {
     "data": {
      "application/vnd.jupyter.widget-view+json": {
       "model_id": "9e6b6b2a1dc140cc95e72d0fb42c33e7",
       "version_major": 2,
       "version_minor": 0
      },
      "text/plain": [
       "FloatSlider(value=1e-05, continuous_update=False, description='9', max=0.9999, min=1e-05, readout_format='.5f'…"
      ]
     },
     "metadata": {},
     "output_type": "display_data"
    },
    {
     "data": {
      "application/vnd.jupyter.widget-view+json": {
       "model_id": "576dbf985e0b41188ae4f84da6394fc8",
       "version_major": 2,
       "version_minor": 0
      },
      "text/plain": [
       "FloatSlider(value=1e-05, continuous_update=False, description='10', max=0.9999, min=1e-05, readout_format='.5f…"
      ]
     },
     "metadata": {},
     "output_type": "display_data"
    },
    {
     "data": {
      "application/vnd.jupyter.widget-view+json": {
       "model_id": "c3127f90e40a4cbb89d5322950ef87cd",
       "version_major": 2,
       "version_minor": 0
      },
      "text/plain": [
       "FloatSlider(value=1e-05, continuous_update=False, description='11', max=0.9999, min=1e-05, readout_format='.5f…"
      ]
     },
     "metadata": {},
     "output_type": "display_data"
    },
    {
     "data": {
      "application/vnd.jupyter.widget-view+json": {
       "model_id": "bd6536cfdaea4e4aa08415a1bc286f53",
       "version_major": 2,
       "version_minor": 0
      },
      "text/plain": [
       "FloatSlider(value=1e-05, continuous_update=False, description='12', max=0.9999, min=1e-05, readout_format='.5f…"
      ]
     },
     "metadata": {},
     "output_type": "display_data"
    },
    {
     "data": {
      "application/vnd.jupyter.widget-view+json": {
       "model_id": "f0ce254001044648b3bdb3ded82cd712",
       "version_major": 2,
       "version_minor": 0
      },
      "text/plain": [
       "FloatSlider(value=1e-05, continuous_update=False, description='13', max=0.9999, min=1e-05, readout_format='.5f…"
      ]
     },
     "metadata": {},
     "output_type": "display_data"
    },
    {
     "data": {
      "application/vnd.jupyter.widget-view+json": {
       "model_id": "09056ddcb1d24abfb9472d9a2505dcf8",
       "version_major": 2,
       "version_minor": 0
      },
      "text/plain": [
       "FloatSlider(value=1e-05, continuous_update=False, description='14', max=0.9999, min=1e-05, readout_format='.5f…"
      ]
     },
     "metadata": {},
     "output_type": "display_data"
    },
    {
     "data": {
      "application/vnd.jupyter.widget-view+json": {
       "model_id": "15c9b30e6d48434fa6bc8d0fd96d0cf3",
       "version_major": 2,
       "version_minor": 0
      },
      "text/plain": [
       "FloatSlider(value=1e-05, continuous_update=False, description='15', max=0.9999, min=1e-05, readout_format='.5f…"
      ]
     },
     "metadata": {},
     "output_type": "display_data"
    },
    {
     "data": {
      "application/vnd.jupyter.widget-view+json": {
       "model_id": "36e95b9d453f41718b54cfbe9f9707bd",
       "version_major": 2,
       "version_minor": 0
      },
      "text/plain": [
       "FloatSlider(value=1e-05, continuous_update=False, description='16', max=0.9999, min=1e-05, readout_format='.5f…"
      ]
     },
     "metadata": {},
     "output_type": "display_data"
    },
    {
     "data": {
      "application/vnd.jupyter.widget-view+json": {
       "model_id": "e275f3b3f90f40e1950c8705f0d23fae",
       "version_major": 2,
       "version_minor": 0
      },
      "text/plain": [
       "FloatSlider(value=1e-05, continuous_update=False, description='17', max=0.9999, min=1e-05, readout_format='.5f…"
      ]
     },
     "metadata": {},
     "output_type": "display_data"
    },
    {
     "data": {
      "application/vnd.jupyter.widget-view+json": {
       "model_id": "9d7b0585b8ae41ccbe09a0901deb59a6",
       "version_major": 2,
       "version_minor": 0
      },
      "text/plain": [
       "FloatSlider(value=1e-05, continuous_update=False, description='18', max=0.9999, min=1e-05, readout_format='.5f…"
      ]
     },
     "metadata": {},
     "output_type": "display_data"
    },
    {
     "data": {
      "application/vnd.jupyter.widget-view+json": {
       "model_id": "16f07aa0e11b49378a5b4580cf9f3ebe",
       "version_major": 2,
       "version_minor": 0
      },
      "text/plain": [
       "FloatSlider(value=1e-05, continuous_update=False, description='19', max=0.9999, min=1e-05, readout_format='.5f…"
      ]
     },
     "metadata": {},
     "output_type": "display_data"
    },
    {
     "data": {
      "application/vnd.jupyter.widget-view+json": {
       "model_id": "044a15c3a5544661b1ab79358abe9b4d",
       "version_major": 2,
       "version_minor": 0
      },
      "text/plain": [
       "FloatSlider(value=1e-05, continuous_update=False, description='20', max=0.9999, min=1e-05, readout_format='.5f…"
      ]
     },
     "metadata": {},
     "output_type": "display_data"
    },
    {
     "data": {
      "application/vnd.jupyter.widget-view+json": {
       "model_id": "fc2d683b223e4fe89a9b67b5a997a4de",
       "version_major": 2,
       "version_minor": 0
      },
      "text/plain": [
       "FloatSlider(value=1e-05, continuous_update=False, description='21', max=0.9999, min=1e-05, readout_format='.5f…"
      ]
     },
     "metadata": {},
     "output_type": "display_data"
    },
    {
     "data": {
      "application/vnd.jupyter.widget-view+json": {
       "model_id": "47043ac26040412c9f68ae797cfcb233",
       "version_major": 2,
       "version_minor": 0
      },
      "text/plain": [
       "FloatSlider(value=1e-05, continuous_update=False, description='22', max=0.9999, min=1e-05, readout_format='.5f…"
      ]
     },
     "metadata": {},
     "output_type": "display_data"
    },
    {
     "data": {
      "application/vnd.jupyter.widget-view+json": {
       "model_id": "c0058a8447114600832e4e448a606f70",
       "version_major": 2,
       "version_minor": 0
      },
      "text/plain": [
       "FloatSlider(value=1e-05, continuous_update=False, description='23', max=0.9999, min=1e-05, readout_format='.5f…"
      ]
     },
     "metadata": {},
     "output_type": "display_data"
    },
    {
     "data": {
      "application/vnd.jupyter.widget-view+json": {
       "model_id": "b763f212444643d78312719c2226f8dd",
       "version_major": 2,
       "version_minor": 0
      },
      "text/plain": [
       "FloatSlider(value=1e-05, continuous_update=False, description='24', max=0.9999, min=1e-05, readout_format='.5f…"
      ]
     },
     "metadata": {},
     "output_type": "display_data"
    },
    {
     "data": {
      "application/vnd.jupyter.widget-view+json": {
       "model_id": "5ae7a6f771354ca49472b25a1eb6699f",
       "version_major": 2,
       "version_minor": 0
      },
      "text/plain": [
       "FloatSlider(value=1e-05, continuous_update=False, description='25', max=0.9999, min=1e-05, readout_format='.5f…"
      ]
     },
     "metadata": {},
     "output_type": "display_data"
    },
    {
     "data": {
      "application/vnd.jupyter.widget-view+json": {
       "model_id": "f1a23057dcda46ca8f86541f060a13df",
       "version_major": 2,
       "version_minor": 0
      },
      "text/plain": [
       "FloatSlider(value=1e-05, continuous_update=False, description='26', max=0.9999, min=1e-05, readout_format='.5f…"
      ]
     },
     "metadata": {},
     "output_type": "display_data"
    },
    {
     "data": {
      "application/vnd.jupyter.widget-view+json": {
       "model_id": "d6b251a2a1b34f079597c1ff32705aec",
       "version_major": 2,
       "version_minor": 0
      },
      "text/plain": [
       "FloatSlider(value=1e-05, continuous_update=False, description='27', max=0.9999, min=1e-05, readout_format='.5f…"
      ]
     },
     "metadata": {},
     "output_type": "display_data"
    },
    {
     "data": {
      "application/vnd.jupyter.widget-view+json": {
       "model_id": "d939643788974c9d8f29a3a4ce71f97e",
       "version_major": 2,
       "version_minor": 0
      },
      "text/plain": [
       "FloatSlider(value=1e-05, continuous_update=False, description='28', max=0.9999, min=1e-05, readout_format='.5f…"
      ]
     },
     "metadata": {},
     "output_type": "display_data"
    },
    {
     "data": {
      "application/vnd.jupyter.widget-view+json": {
       "model_id": "15c796f7c78f4e338e1bb0c6e1559938",
       "version_major": 2,
       "version_minor": 0
      },
      "text/plain": [
       "FloatSlider(value=1e-05, continuous_update=False, description='29', max=0.9999, min=1e-05, readout_format='.5f…"
      ]
     },
     "metadata": {},
     "output_type": "display_data"
    },
    {
     "data": {
      "application/vnd.jupyter.widget-view+json": {
       "model_id": "83e95a353bdc4d528307a8ce39f60244",
       "version_major": 2,
       "version_minor": 0
      },
      "text/plain": [
       "FloatSlider(value=1e-05, continuous_update=False, description='30', max=0.9999, min=1e-05, readout_format='.5f…"
      ]
     },
     "metadata": {},
     "output_type": "display_data"
    },
    {
     "data": {
      "application/vnd.jupyter.widget-view+json": {
       "model_id": "c6af1e61b86b4d69a08e8b3287e46b67",
       "version_major": 2,
       "version_minor": 0
      },
      "text/plain": [
       "FloatSlider(value=1e-05, continuous_update=False, description='31', max=0.9999, min=1e-05, readout_format='.5f…"
      ]
     },
     "metadata": {},
     "output_type": "display_data"
    },
    {
     "data": {
      "application/vnd.jupyter.widget-view+json": {
       "model_id": "b2de13fbf57145e794eb708f726b91bf",
       "version_major": 2,
       "version_minor": 0
      },
      "text/plain": [
       "FloatSlider(value=1e-05, continuous_update=False, description='32', max=0.9999, min=1e-05, readout_format='.5f…"
      ]
     },
     "metadata": {},
     "output_type": "display_data"
    },
    {
     "data": {
      "application/vnd.jupyter.widget-view+json": {
       "model_id": "708aba139c934befbd890b038dee8953",
       "version_major": 2,
       "version_minor": 0
      },
      "text/plain": [
       "FloatSlider(value=1e-05, continuous_update=False, description='33', max=0.9999, min=1e-05, readout_format='.5f…"
      ]
     },
     "metadata": {},
     "output_type": "display_data"
    },
    {
     "data": {
      "application/vnd.jupyter.widget-view+json": {
       "model_id": "2ebc2875b9e24a99907b624327220e65",
       "version_major": 2,
       "version_minor": 0
      },
      "text/plain": [
       "FloatSlider(value=1e-05, continuous_update=False, description='34', max=0.9999, min=1e-05, readout_format='.5f…"
      ]
     },
     "metadata": {},
     "output_type": "display_data"
    },
    {
     "data": {
      "application/vnd.jupyter.widget-view+json": {
       "model_id": "a6181424bd0c4dbdbd398cfb0394dd0d",
       "version_major": 2,
       "version_minor": 0
      },
      "text/plain": [
       "FloatSlider(value=1e-05, continuous_update=False, description='35', max=0.9999, min=1e-05, readout_format='.5f…"
      ]
     },
     "metadata": {},
     "output_type": "display_data"
    },
    {
     "data": {
      "application/vnd.jupyter.widget-view+json": {
       "model_id": "47ef27c0563b486fabbec4f297a5b270",
       "version_major": 2,
       "version_minor": 0
      },
      "text/plain": [
       "FloatSlider(value=1e-05, continuous_update=False, description='36', max=0.9999, min=1e-05, readout_format='.5f…"
      ]
     },
     "metadata": {},
     "output_type": "display_data"
    },
    {
     "data": {
      "application/vnd.jupyter.widget-view+json": {
       "model_id": "4a24f6f2400342e4bc6b21a6380740f8",
       "version_major": 2,
       "version_minor": 0
      },
      "text/plain": [
       "FloatSlider(value=1e-05, continuous_update=False, description='37', max=0.9999, min=1e-05, readout_format='.5f…"
      ]
     },
     "metadata": {},
     "output_type": "display_data"
    },
    {
     "data": {
      "application/vnd.jupyter.widget-view+json": {
       "model_id": "34675098bd7247c8aefe03a2fb88f371",
       "version_major": 2,
       "version_minor": 0
      },
      "text/plain": [
       "FloatSlider(value=1e-05, continuous_update=False, description='38', max=0.9999, min=1e-05, readout_format='.5f…"
      ]
     },
     "metadata": {},
     "output_type": "display_data"
    },
    {
     "data": {
      "application/vnd.jupyter.widget-view+json": {
       "model_id": "468bfd80e87b4139be4c5be8c9539d4c",
       "version_major": 2,
       "version_minor": 0
      },
      "text/plain": [
       "FloatSlider(value=1e-05, continuous_update=False, description='39', max=0.9999, min=1e-05, readout_format='.5f…"
      ]
     },
     "metadata": {},
     "output_type": "display_data"
    },
    {
     "data": {
      "application/vnd.jupyter.widget-view+json": {
       "model_id": "38da4e3c88dc454a907b5b6f46185b52",
       "version_major": 2,
       "version_minor": 0
      },
      "text/plain": [
       "FloatSlider(value=1e-05, continuous_update=False, description='40', max=0.9999, min=1e-05, readout_format='.5f…"
      ]
     },
     "metadata": {},
     "output_type": "display_data"
    },
    {
     "data": {
      "application/vnd.jupyter.widget-view+json": {
       "model_id": "924b64bd2ad6446da58d2f8b24c21ec3",
       "version_major": 2,
       "version_minor": 0
      },
      "text/plain": [
       "FloatSlider(value=1e-05, continuous_update=False, description='41', max=0.9999, min=1e-05, readout_format='.5f…"
      ]
     },
     "metadata": {},
     "output_type": "display_data"
    },
    {
     "data": {
      "application/vnd.jupyter.widget-view+json": {
       "model_id": "a9d673b670a243029b8cec9a25fb9257",
       "version_major": 2,
       "version_minor": 0
      },
      "text/plain": [
       "FloatSlider(value=1e-05, continuous_update=False, description='42', max=0.9999, min=1e-05, readout_format='.5f…"
      ]
     },
     "metadata": {},
     "output_type": "display_data"
    },
    {
     "data": {
      "application/vnd.jupyter.widget-view+json": {
       "model_id": "1d7a9f9d47224462b58ec6a4394794ee",
       "version_major": 2,
       "version_minor": 0
      },
      "text/plain": [
       "FloatSlider(value=1e-05, continuous_update=False, description='43', max=0.9999, min=1e-05, readout_format='.5f…"
      ]
     },
     "metadata": {},
     "output_type": "display_data"
    },
    {
     "data": {
      "application/vnd.jupyter.widget-view+json": {
       "model_id": "6a7847e8e46d4f29899d6c14c793d89c",
       "version_major": 2,
       "version_minor": 0
      },
      "text/plain": [
       "FloatSlider(value=1e-05, continuous_update=False, description='44', max=0.9999, min=1e-05, readout_format='.5f…"
      ]
     },
     "metadata": {},
     "output_type": "display_data"
    },
    {
     "data": {
      "application/vnd.jupyter.widget-view+json": {
       "model_id": "0fb1b55d60694452aeaa4bf3e17776d3",
       "version_major": 2,
       "version_minor": 0
      },
      "text/plain": [
       "FloatSlider(value=1e-05, continuous_update=False, description='45', max=0.9999, min=1e-05, readout_format='.5f…"
      ]
     },
     "metadata": {},
     "output_type": "display_data"
    },
    {
     "data": {
      "application/vnd.jupyter.widget-view+json": {
       "model_id": "731610192c8142d49a3fef1ef078387d",
       "version_major": 2,
       "version_minor": 0
      },
      "text/plain": [
       "FloatSlider(value=1e-05, continuous_update=False, description='46', max=0.9999, min=1e-05, readout_format='.5f…"
      ]
     },
     "metadata": {},
     "output_type": "display_data"
    },
    {
     "data": {
      "application/vnd.jupyter.widget-view+json": {
       "model_id": "e6e46fde1e3d41398c8d5d2ab87cbec7",
       "version_major": 2,
       "version_minor": 0
      },
      "text/plain": [
       "FloatSlider(value=1e-05, continuous_update=False, description='47', max=0.9999, min=1e-05, readout_format='.5f…"
      ]
     },
     "metadata": {},
     "output_type": "display_data"
    },
    {
     "data": {
      "application/vnd.jupyter.widget-view+json": {
       "model_id": "c56443a406314170b5e09ca83c51ce50",
       "version_major": 2,
       "version_minor": 0
      },
      "text/plain": [
       "FloatSlider(value=1e-05, continuous_update=False, description='48', max=0.9999, min=1e-05, readout_format='.5f…"
      ]
     },
     "metadata": {},
     "output_type": "display_data"
    },
    {
     "data": {
      "application/vnd.jupyter.widget-view+json": {
       "model_id": "17de2dd52251458994ac56d8f8572f2e",
       "version_major": 2,
       "version_minor": 0
      },
      "text/plain": [
       "FloatSlider(value=1e-05, continuous_update=False, description='49', max=0.9999, min=1e-05, readout_format='.5f…"
      ]
     },
     "metadata": {},
     "output_type": "display_data"
    },
    {
     "data": {
      "application/vnd.jupyter.widget-view+json": {
       "model_id": "c352ba6df5fd4190bf0af8ab7775222e",
       "version_major": 2,
       "version_minor": 0
      },
      "text/plain": [
       "FloatSlider(value=1e-05, continuous_update=False, description='50', max=0.9999, min=1e-05, readout_format='.5f…"
      ]
     },
     "metadata": {},
     "output_type": "display_data"
    },
    {
     "data": {
      "application/vnd.jupyter.widget-view+json": {
       "model_id": "562ffb8398a34b339b9320ae2f4c7a73",
       "version_major": 2,
       "version_minor": 0
      },
      "text/plain": [
       "FloatSlider(value=1e-05, continuous_update=False, description='51', max=0.9999, min=1e-05, readout_format='.5f…"
      ]
     },
     "metadata": {},
     "output_type": "display_data"
    },
    {
     "data": {
      "application/vnd.jupyter.widget-view+json": {
       "model_id": "357dc3bef9584ff9bdaaa60b3950d7be",
       "version_major": 2,
       "version_minor": 0
      },
      "text/plain": [
       "FloatSlider(value=1e-05, continuous_update=False, description='52', max=0.9999, min=1e-05, readout_format='.5f…"
      ]
     },
     "metadata": {},
     "output_type": "display_data"
    },
    {
     "data": {
      "application/vnd.jupyter.widget-view+json": {
       "model_id": "5bc7ba7abcff4a7286da540c0ea0e994",
       "version_major": 2,
       "version_minor": 0
      },
      "text/plain": [
       "FloatSlider(value=1e-05, continuous_update=False, description='53', max=0.9999, min=1e-05, readout_format='.5f…"
      ]
     },
     "metadata": {},
     "output_type": "display_data"
    },
    {
     "data": {
      "application/vnd.jupyter.widget-view+json": {
       "model_id": "20fff4094cc84955b952c07d08a276fc",
       "version_major": 2,
       "version_minor": 0
      },
      "text/plain": [
       "FloatSlider(value=1e-05, continuous_update=False, description='54', max=0.9999, min=1e-05, readout_format='.5f…"
      ]
     },
     "metadata": {},
     "output_type": "display_data"
    },
    {
     "data": {
      "application/vnd.jupyter.widget-view+json": {
       "model_id": "4f672614fb4d461494f9374db6d4d2c3",
       "version_major": 2,
       "version_minor": 0
      },
      "text/plain": [
       "FloatSlider(value=1e-05, continuous_update=False, description='55', max=0.9999, min=1e-05, readout_format='.5f…"
      ]
     },
     "metadata": {},
     "output_type": "display_data"
    },
    {
     "data": {
      "application/vnd.jupyter.widget-view+json": {
       "model_id": "c198a1bc3f3a4e27945796bc8c7d6427",
       "version_major": 2,
       "version_minor": 0
      },
      "text/plain": [
       "FloatSlider(value=1e-05, continuous_update=False, description='56', max=0.9999, min=1e-05, readout_format='.5f…"
      ]
     },
     "metadata": {},
     "output_type": "display_data"
    },
    {
     "data": {
      "application/vnd.jupyter.widget-view+json": {
       "model_id": "b44bb2e6fd374edd8802f6362247700c",
       "version_major": 2,
       "version_minor": 0
      },
      "text/plain": [
       "FloatSlider(value=1e-05, continuous_update=False, description='57', max=0.9999, min=1e-05, readout_format='.5f…"
      ]
     },
     "metadata": {},
     "output_type": "display_data"
    },
    {
     "data": {
      "application/vnd.jupyter.widget-view+json": {
       "model_id": "dba5bd827df14c168c54a7ea4b3e912c",
       "version_major": 2,
       "version_minor": 0
      },
      "text/plain": [
       "FloatSlider(value=1e-05, continuous_update=False, description='58', max=0.9999, min=1e-05, readout_format='.5f…"
      ]
     },
     "metadata": {},
     "output_type": "display_data"
    },
    {
     "data": {
      "application/vnd.jupyter.widget-view+json": {
       "model_id": "fb6c3b60468a4ebab7408ea78198c176",
       "version_major": 2,
       "version_minor": 0
      },
      "text/plain": [
       "FloatSlider(value=1e-05, continuous_update=False, description='59', max=0.9999, min=1e-05, readout_format='.5f…"
      ]
     },
     "metadata": {},
     "output_type": "display_data"
    },
    {
     "data": {
      "application/vnd.jupyter.widget-view+json": {
       "model_id": "770b5d9156ec44e1a3d3e2f666e4b0c9",
       "version_major": 2,
       "version_minor": 0
      },
      "text/plain": [
       "FloatSlider(value=1e-05, continuous_update=False, description='60', max=0.9999, min=1e-05, readout_format='.5f…"
      ]
     },
     "metadata": {},
     "output_type": "display_data"
    },
    {
     "data": {
      "application/vnd.jupyter.widget-view+json": {
       "model_id": "f6a1bd0fb7c8495c9e7fe30341e271a5",
       "version_major": 2,
       "version_minor": 0
      },
      "text/plain": [
       "FloatSlider(value=1e-05, continuous_update=False, description='61', max=0.9999, min=1e-05, readout_format='.5f…"
      ]
     },
     "metadata": {},
     "output_type": "display_data"
    },
    {
     "data": {
      "application/vnd.jupyter.widget-view+json": {
       "model_id": "b12eb35178e7492ba0d74d0b196f4a48",
       "version_major": 2,
       "version_minor": 0
      },
      "text/plain": [
       "FloatSlider(value=1e-05, continuous_update=False, description='62', max=0.9999, min=1e-05, readout_format='.5f…"
      ]
     },
     "metadata": {},
     "output_type": "display_data"
    },
    {
     "data": {
      "application/vnd.jupyter.widget-view+json": {
       "model_id": "7cee58ae5958492f9d0da4400f3b7a24",
       "version_major": 2,
       "version_minor": 0
      },
      "text/plain": [
       "FloatSlider(value=1e-05, continuous_update=False, description='63', max=0.9999, min=1e-05, readout_format='.5f…"
      ]
     },
     "metadata": {},
     "output_type": "display_data"
    },
    {
     "data": {
      "application/vnd.jupyter.widget-view+json": {
       "model_id": "455e14694b054b008f25ac683b958ce2",
       "version_major": 2,
       "version_minor": 0
      },
      "text/plain": [
       "FloatSlider(value=1e-05, continuous_update=False, description='64', max=0.9999, min=1e-05, readout_format='.5f…"
      ]
     },
     "metadata": {},
     "output_type": "display_data"
    },
    {
     "data": {
      "application/vnd.jupyter.widget-view+json": {
       "model_id": "3e1c699a4c514433b56b630bb2ff17a2",
       "version_major": 2,
       "version_minor": 0
      },
      "text/plain": [
       "FloatSlider(value=1e-05, continuous_update=False, description='65', max=0.9999, min=1e-05, readout_format='.5f…"
      ]
     },
     "metadata": {},
     "output_type": "display_data"
    },
    {
     "data": {
      "application/vnd.jupyter.widget-view+json": {
       "model_id": "d501e92fae5241e787313eca6a127b7c",
       "version_major": 2,
       "version_minor": 0
      },
      "text/plain": [
       "FloatSlider(value=1e-05, continuous_update=False, description='66', max=0.9999, min=1e-05, readout_format='.5f…"
      ]
     },
     "metadata": {},
     "output_type": "display_data"
    },
    {
     "data": {
      "application/vnd.jupyter.widget-view+json": {
       "model_id": "0674653b2d9b4b72b9bce1ebec4176a7",
       "version_major": 2,
       "version_minor": 0
      },
      "text/plain": [
       "FloatSlider(value=1e-05, continuous_update=False, description='67', max=0.9999, min=1e-05, readout_format='.5f…"
      ]
     },
     "metadata": {},
     "output_type": "display_data"
    },
    {
     "data": {
      "application/vnd.jupyter.widget-view+json": {
       "model_id": "9c5b2fd5ea6340faabbeb5bf788c1277",
       "version_major": 2,
       "version_minor": 0
      },
      "text/plain": [
       "FloatSlider(value=1e-05, continuous_update=False, description='68', max=0.9999, min=1e-05, readout_format='.5f…"
      ]
     },
     "metadata": {},
     "output_type": "display_data"
    },
    {
     "data": {
      "application/vnd.jupyter.widget-view+json": {
       "model_id": "ce7e62c3d7054d7f99d2ca0a906b58c2",
       "version_major": 2,
       "version_minor": 0
      },
      "text/plain": [
       "FloatSlider(value=1e-05, continuous_update=False, description='69', max=0.9999, min=1e-05, readout_format='.5f…"
      ]
     },
     "metadata": {},
     "output_type": "display_data"
    },
    {
     "data": {
      "application/vnd.jupyter.widget-view+json": {
       "model_id": "b32ea8cb1e464b6aac014c64f0b33cce",
       "version_major": 2,
       "version_minor": 0
      },
      "text/plain": [
       "FloatSlider(value=1e-05, continuous_update=False, description='70', max=0.9999, min=1e-05, readout_format='.5f…"
      ]
     },
     "metadata": {},
     "output_type": "display_data"
    },
    {
     "data": {
      "application/vnd.jupyter.widget-view+json": {
       "model_id": "e45dff5ee2fa4bb8adc3d76d4fcc4d24",
       "version_major": 2,
       "version_minor": 0
      },
      "text/plain": [
       "FloatSlider(value=1e-05, continuous_update=False, description='71', max=0.9999, min=1e-05, readout_format='.5f…"
      ]
     },
     "metadata": {},
     "output_type": "display_data"
    },
    {
     "data": {
      "application/vnd.jupyter.widget-view+json": {
       "model_id": "a9ea107d98ba4df4a8284edaeaa54e24",
       "version_major": 2,
       "version_minor": 0
      },
      "text/plain": [
       "FloatSlider(value=1e-05, continuous_update=False, description='72', max=0.9999, min=1e-05, readout_format='.5f…"
      ]
     },
     "metadata": {},
     "output_type": "display_data"
    },
    {
     "data": {
      "application/vnd.jupyter.widget-view+json": {
       "model_id": "06efb4643904473a964f3cb2807c150d",
       "version_major": 2,
       "version_minor": 0
      },
      "text/plain": [
       "FloatSlider(value=1e-05, continuous_update=False, description='73', max=0.9999, min=1e-05, readout_format='.5f…"
      ]
     },
     "metadata": {},
     "output_type": "display_data"
    },
    {
     "data": {
      "application/vnd.jupyter.widget-view+json": {
       "model_id": "42d7006810b448d9888f44697daadf91",
       "version_major": 2,
       "version_minor": 0
      },
      "text/plain": [
       "FloatSlider(value=1e-05, continuous_update=False, description='74', max=0.9999, min=1e-05, readout_format='.5f…"
      ]
     },
     "metadata": {},
     "output_type": "display_data"
    },
    {
     "data": {
      "application/vnd.jupyter.widget-view+json": {
       "model_id": "8a0dd6d0030446e7931a084ffe60f4f1",
       "version_major": 2,
       "version_minor": 0
      },
      "text/plain": [
       "FloatSlider(value=1e-05, continuous_update=False, description='75', max=0.9999, min=1e-05, readout_format='.5f…"
      ]
     },
     "metadata": {},
     "output_type": "display_data"
    },
    {
     "data": {
      "application/vnd.jupyter.widget-view+json": {
       "model_id": "260d3a18a3c04f4c86a648548e25bc15",
       "version_major": 2,
       "version_minor": 0
      },
      "text/plain": [
       "FloatSlider(value=1e-05, continuous_update=False, description='76', max=0.9999, min=1e-05, readout_format='.5f…"
      ]
     },
     "metadata": {},
     "output_type": "display_data"
    },
    {
     "data": {
      "application/vnd.jupyter.widget-view+json": {
       "model_id": "bfaea88f91394613a2126627b64cbb82",
       "version_major": 2,
       "version_minor": 0
      },
      "text/plain": [
       "FloatSlider(value=1e-05, continuous_update=False, description='77', max=0.9999, min=1e-05, readout_format='.5f…"
      ]
     },
     "metadata": {},
     "output_type": "display_data"
    },
    {
     "data": {
      "application/vnd.jupyter.widget-view+json": {
       "model_id": "ad5d01522170499a9921e900ac0281fa",
       "version_major": 2,
       "version_minor": 0
      },
      "text/plain": [
       "FloatSlider(value=1e-05, continuous_update=False, description='78', max=0.9999, min=1e-05, readout_format='.5f…"
      ]
     },
     "metadata": {},
     "output_type": "display_data"
    },
    {
     "data": {
      "application/vnd.jupyter.widget-view+json": {
       "model_id": "ea2dc3df7f1b4cf8bdd80d2f471ca5c7",
       "version_major": 2,
       "version_minor": 0
      },
      "text/plain": [
       "FloatSlider(value=1e-05, continuous_update=False, description='79', max=0.9999, min=1e-05, readout_format='.5f…"
      ]
     },
     "metadata": {},
     "output_type": "display_data"
    },
    {
     "data": {
      "application/vnd.jupyter.widget-view+json": {
       "model_id": "4f938121a8a6410c898883c3983e0187",
       "version_major": 2,
       "version_minor": 0
      },
      "text/plain": [
       "FloatSlider(value=1e-05, continuous_update=False, description='80', max=0.9999, min=1e-05, readout_format='.5f…"
      ]
     },
     "metadata": {},
     "output_type": "display_data"
    },
    {
     "data": {
      "application/vnd.jupyter.widget-view+json": {
       "model_id": "2e6db3f37eac4815bda8366d05c1aba1",
       "version_major": 2,
       "version_minor": 0
      },
      "text/plain": [
       "FloatSlider(value=1e-05, continuous_update=False, description='81', max=0.9999, min=1e-05, readout_format='.5f…"
      ]
     },
     "metadata": {},
     "output_type": "display_data"
    },
    {
     "data": {
      "application/vnd.jupyter.widget-view+json": {
       "model_id": "9cf9a5c1e5284b9196d295347e176824",
       "version_major": 2,
       "version_minor": 0
      },
      "text/plain": [
       "FloatSlider(value=1e-05, continuous_update=False, description='82', max=0.9999, min=1e-05, readout_format='.5f…"
      ]
     },
     "metadata": {},
     "output_type": "display_data"
    },
    {
     "data": {
      "application/vnd.jupyter.widget-view+json": {
       "model_id": "be0623aee52f4cc88573b49f23de5167",
       "version_major": 2,
       "version_minor": 0
      },
      "text/plain": [
       "FloatSlider(value=1e-05, continuous_update=False, description='83', max=0.9999, min=1e-05, readout_format='.5f…"
      ]
     },
     "metadata": {},
     "output_type": "display_data"
    },
    {
     "data": {
      "application/vnd.jupyter.widget-view+json": {
       "model_id": "7f524b99a7ca4092864556eac3c03877",
       "version_major": 2,
       "version_minor": 0
      },
      "text/plain": [
       "FloatSlider(value=1e-05, continuous_update=False, description='84', max=0.9999, min=1e-05, readout_format='.5f…"
      ]
     },
     "metadata": {},
     "output_type": "display_data"
    },
    {
     "data": {
      "application/vnd.jupyter.widget-view+json": {
       "model_id": "7b0260b2d78f4ab8b595b4dc0b2a678b",
       "version_major": 2,
       "version_minor": 0
      },
      "text/plain": [
       "FloatSlider(value=1e-05, continuous_update=False, description='85', max=0.9999, min=1e-05, readout_format='.5f…"
      ]
     },
     "metadata": {},
     "output_type": "display_data"
    },
    {
     "data": {
      "application/vnd.jupyter.widget-view+json": {
       "model_id": "ce971d8614014dc1a17e2e878aa99107",
       "version_major": 2,
       "version_minor": 0
      },
      "text/plain": [
       "FloatSlider(value=1e-05, continuous_update=False, description='86', max=0.9999, min=1e-05, readout_format='.5f…"
      ]
     },
     "metadata": {},
     "output_type": "display_data"
    },
    {
     "data": {
      "application/vnd.jupyter.widget-view+json": {
       "model_id": "4229756e67644dd7b151208fb8f09cad",
       "version_major": 2,
       "version_minor": 0
      },
      "text/plain": [
       "FloatSlider(value=1e-05, continuous_update=False, description='87', max=0.9999, min=1e-05, readout_format='.5f…"
      ]
     },
     "metadata": {},
     "output_type": "display_data"
    },
    {
     "data": {
      "application/vnd.jupyter.widget-view+json": {
       "model_id": "33a8521cbe6847d49921ff77689aec97",
       "version_major": 2,
       "version_minor": 0
      },
      "text/plain": [
       "FloatSlider(value=1e-05, continuous_update=False, description='88', max=0.9999, min=1e-05, readout_format='.5f…"
      ]
     },
     "metadata": {},
     "output_type": "display_data"
    },
    {
     "data": {
      "application/vnd.jupyter.widget-view+json": {
       "model_id": "9f42a8f017b3483fb02bb67bf4ad9302",
       "version_major": 2,
       "version_minor": 0
      },
      "text/plain": [
       "FloatSlider(value=1e-05, continuous_update=False, description='89', max=0.9999, min=1e-05, readout_format='.5f…"
      ]
     },
     "metadata": {},
     "output_type": "display_data"
    },
    {
     "data": {
      "application/vnd.jupyter.widget-view+json": {
       "model_id": "8277d73ed74c4c1db5d7afe38a72211c",
       "version_major": 2,
       "version_minor": 0
      },
      "text/plain": [
       "FloatSlider(value=1e-05, continuous_update=False, description='90', max=0.9999, min=1e-05, readout_format='.5f…"
      ]
     },
     "metadata": {},
     "output_type": "display_data"
    },
    {
     "data": {
      "application/vnd.jupyter.widget-view+json": {
       "model_id": "ea58695d914d4fe8a2d897e10998d95f",
       "version_major": 2,
       "version_minor": 0
      },
      "text/plain": [
       "FloatSlider(value=1e-05, continuous_update=False, description='91', max=0.9999, min=1e-05, readout_format='.5f…"
      ]
     },
     "metadata": {},
     "output_type": "display_data"
    },
    {
     "data": {
      "application/vnd.jupyter.widget-view+json": {
       "model_id": "fbc499296a9943bab294380c3d6150e7",
       "version_major": 2,
       "version_minor": 0
      },
      "text/plain": [
       "FloatSlider(value=1e-05, continuous_update=False, description='92', max=0.9999, min=1e-05, readout_format='.5f…"
      ]
     },
     "metadata": {},
     "output_type": "display_data"
    },
    {
     "data": {
      "application/vnd.jupyter.widget-view+json": {
       "model_id": "432a09d520f648ba9c5bfdaeb094208f",
       "version_major": 2,
       "version_minor": 0
      },
      "text/plain": [
       "FloatSlider(value=1e-05, continuous_update=False, description='93', max=0.9999, min=1e-05, readout_format='.5f…"
      ]
     },
     "metadata": {},
     "output_type": "display_data"
    },
    {
     "data": {
      "application/vnd.jupyter.widget-view+json": {
       "model_id": "fd58c0fb932c4576b4934f611c9f1d6d",
       "version_major": 2,
       "version_minor": 0
      },
      "text/plain": [
       "FloatSlider(value=1e-05, continuous_update=False, description='94', max=0.9999, min=1e-05, readout_format='.5f…"
      ]
     },
     "metadata": {},
     "output_type": "display_data"
    },
    {
     "data": {
      "application/vnd.jupyter.widget-view+json": {
       "model_id": "d6297182c5d44497b7499a5de9f2804f",
       "version_major": 2,
       "version_minor": 0
      },
      "text/plain": [
       "FloatSlider(value=1e-05, continuous_update=False, description='95', max=0.9999, min=1e-05, readout_format='.5f…"
      ]
     },
     "metadata": {},
     "output_type": "display_data"
    },
    {
     "data": {
      "application/vnd.jupyter.widget-view+json": {
       "model_id": "a080d34846654865bb7b6a99c0aafaa7",
       "version_major": 2,
       "version_minor": 0
      },
      "text/plain": [
       "FloatSlider(value=1e-05, continuous_update=False, description='96', max=0.9999, min=1e-05, readout_format='.5f…"
      ]
     },
     "metadata": {},
     "output_type": "display_data"
    },
    {
     "data": {
      "application/vnd.jupyter.widget-view+json": {
       "model_id": "62460ce987aa46b0a18d20e9adb315fc",
       "version_major": 2,
       "version_minor": 0
      },
      "text/plain": [
       "FloatSlider(value=1e-05, continuous_update=False, description='97', max=0.9999, min=1e-05, readout_format='.5f…"
      ]
     },
     "metadata": {},
     "output_type": "display_data"
    },
    {
     "data": {
      "application/vnd.jupyter.widget-view+json": {
       "model_id": "8cbce8de61354e21a79fce305fc2f3d1",
       "version_major": 2,
       "version_minor": 0
      },
      "text/plain": [
       "FloatSlider(value=1e-05, continuous_update=False, description='98', max=0.9999, min=1e-05, readout_format='.5f…"
      ]
     },
     "metadata": {},
     "output_type": "display_data"
    },
    {
     "data": {
      "application/vnd.jupyter.widget-view+json": {
       "model_id": "df4cb0e426994808b32d5b28aea88484",
       "version_major": 2,
       "version_minor": 0
      },
      "text/plain": [
       "FloatSlider(value=1e-05, continuous_update=False, description='99', max=0.9999, min=1e-05, readout_format='.5f…"
      ]
     },
     "metadata": {},
     "output_type": "display_data"
    },
    {
     "data": {
      "application/vnd.jupyter.widget-view+json": {
       "model_id": "867d85b8f0e743509abeae86077fc21d",
       "version_major": 2,
       "version_minor": 0
      },
      "text/plain": [
       "FloatSlider(value=1e-05, continuous_update=False, description='100', max=0.9999, min=1e-05, readout_format='.5…"
      ]
     },
     "metadata": {},
     "output_type": "display_data"
    },
    {
     "data": {
      "application/vnd.jupyter.widget-view+json": {
       "model_id": "7e4b751ea02e436abeb7007151738738",
       "version_major": 2,
       "version_minor": 0
      },
      "text/plain": [
       "FloatSlider(value=1e-05, continuous_update=False, description='101', max=0.9999, min=1e-05, readout_format='.5…"
      ]
     },
     "metadata": {},
     "output_type": "display_data"
    },
    {
     "data": {
      "application/vnd.jupyter.widget-view+json": {
       "model_id": "87255798df364fbe9608de7e8c20fbbd",
       "version_major": 2,
       "version_minor": 0
      },
      "text/plain": [
       "FloatSlider(value=1e-05, continuous_update=False, description='102', max=0.9999, min=1e-05, readout_format='.5…"
      ]
     },
     "metadata": {},
     "output_type": "display_data"
    },
    {
     "data": {
      "application/vnd.jupyter.widget-view+json": {
       "model_id": "fedda6cccfe440e5b6fcb5c5f1225e4d",
       "version_major": 2,
       "version_minor": 0
      },
      "text/plain": [
       "FloatSlider(value=1e-05, continuous_update=False, description='103', max=0.9999, min=1e-05, readout_format='.5…"
      ]
     },
     "metadata": {},
     "output_type": "display_data"
    },
    {
     "data": {
      "application/vnd.jupyter.widget-view+json": {
       "model_id": "78c772d14cae440284d1f62e07331225",
       "version_major": 2,
       "version_minor": 0
      },
      "text/plain": [
       "FloatSlider(value=1e-05, continuous_update=False, description='104', max=0.9999, min=1e-05, readout_format='.5…"
      ]
     },
     "metadata": {},
     "output_type": "display_data"
    },
    {
     "data": {
      "application/vnd.jupyter.widget-view+json": {
       "model_id": "43907058015e4467b83b832cb01e0672",
       "version_major": 2,
       "version_minor": 0
      },
      "text/plain": [
       "FloatSlider(value=1e-05, continuous_update=False, description='105', max=0.9999, min=1e-05, readout_format='.5…"
      ]
     },
     "metadata": {},
     "output_type": "display_data"
    },
    {
     "data": {
      "application/vnd.jupyter.widget-view+json": {
       "model_id": "337b8b2279e94361be6996dbe45a86b7",
       "version_major": 2,
       "version_minor": 0
      },
      "text/plain": [
       "FloatSlider(value=1e-05, continuous_update=False, description='106', max=0.9999, min=1e-05, readout_format='.5…"
      ]
     },
     "metadata": {},
     "output_type": "display_data"
    },
    {
     "data": {
      "application/vnd.jupyter.widget-view+json": {
       "model_id": "6ed152ed6c284723ab8bd7915226333e",
       "version_major": 2,
       "version_minor": 0
      },
      "text/plain": [
       "FloatSlider(value=1e-05, continuous_update=False, description='107', max=0.9999, min=1e-05, readout_format='.5…"
      ]
     },
     "metadata": {},
     "output_type": "display_data"
    },
    {
     "data": {
      "application/vnd.jupyter.widget-view+json": {
       "model_id": "237b5ada538d4fa0a68214e80cd3cb3d",
       "version_major": 2,
       "version_minor": 0
      },
      "text/plain": [
       "FloatSlider(value=1e-05, continuous_update=False, description='108', max=0.9999, min=1e-05, readout_format='.5…"
      ]
     },
     "metadata": {},
     "output_type": "display_data"
    },
    {
     "data": {
      "application/vnd.jupyter.widget-view+json": {
       "model_id": "abb6910278bf4b33bf7e446d84c703e6",
       "version_major": 2,
       "version_minor": 0
      },
      "text/plain": [
       "FloatSlider(value=1e-05, continuous_update=False, description='109', max=0.9999, min=1e-05, readout_format='.5…"
      ]
     },
     "metadata": {},
     "output_type": "display_data"
    },
    {
     "data": {
      "application/vnd.jupyter.widget-view+json": {
       "model_id": "3b47c736ebe84de687f0a4b049ccf528",
       "version_major": 2,
       "version_minor": 0
      },
      "text/plain": [
       "FloatSlider(value=1e-05, continuous_update=False, description='110', max=0.9999, min=1e-05, readout_format='.5…"
      ]
     },
     "metadata": {},
     "output_type": "display_data"
    },
    {
     "data": {
      "application/vnd.jupyter.widget-view+json": {
       "model_id": "a1a42552e0ef4583bc16361103cf66ff",
       "version_major": 2,
       "version_minor": 0
      },
      "text/plain": [
       "FloatSlider(value=1e-05, continuous_update=False, description='111', max=0.9999, min=1e-05, readout_format='.5…"
      ]
     },
     "metadata": {},
     "output_type": "display_data"
    },
    {
     "data": {
      "application/vnd.jupyter.widget-view+json": {
       "model_id": "d15b971e56fd4071a9ebb1f77a2fb0fb",
       "version_major": 2,
       "version_minor": 0
      },
      "text/plain": [
       "FloatSlider(value=1e-05, continuous_update=False, description='112', max=0.9999, min=1e-05, readout_format='.5…"
      ]
     },
     "metadata": {},
     "output_type": "display_data"
    },
    {
     "data": {
      "application/vnd.jupyter.widget-view+json": {
       "model_id": "0680c016140b4f9e9838c09ea8b8643e",
       "version_major": 2,
       "version_minor": 0
      },
      "text/plain": [
       "FloatSlider(value=1e-05, continuous_update=False, description='113', max=0.9999, min=1e-05, readout_format='.5…"
      ]
     },
     "metadata": {},
     "output_type": "display_data"
    },
    {
     "data": {
      "application/vnd.jupyter.widget-view+json": {
       "model_id": "b0a6b0aa87824d7a95fdcf81af256bf8",
       "version_major": 2,
       "version_minor": 0
      },
      "text/plain": [
       "FloatSlider(value=1e-05, continuous_update=False, description='114', max=0.9999, min=1e-05, readout_format='.5…"
      ]
     },
     "metadata": {},
     "output_type": "display_data"
    },
    {
     "data": {
      "application/vnd.jupyter.widget-view+json": {
       "model_id": "61a8e48842ff45cdbfd126885801bf8f",
       "version_major": 2,
       "version_minor": 0
      },
      "text/plain": [
       "FloatSlider(value=1e-05, continuous_update=False, description='115', max=0.9999, min=1e-05, readout_format='.5…"
      ]
     },
     "metadata": {},
     "output_type": "display_data"
    },
    {
     "data": {
      "application/vnd.jupyter.widget-view+json": {
       "model_id": "1372d224fd37490cb9d14d63a16a4196",
       "version_major": 2,
       "version_minor": 0
      },
      "text/plain": [
       "FloatSlider(value=1e-05, continuous_update=False, description='116', max=0.9999, min=1e-05, readout_format='.5…"
      ]
     },
     "metadata": {},
     "output_type": "display_data"
    },
    {
     "data": {
      "application/vnd.jupyter.widget-view+json": {
       "model_id": "d6570165bfdc410ba5c8f1be203ec61d",
       "version_major": 2,
       "version_minor": 0
      },
      "text/plain": [
       "FloatSlider(value=1e-05, continuous_update=False, description='117', max=0.9999, min=1e-05, readout_format='.5…"
      ]
     },
     "metadata": {},
     "output_type": "display_data"
    },
    {
     "data": {
      "application/vnd.jupyter.widget-view+json": {
       "model_id": "531176f4f29e4773a83bfb4ea9f7b296",
       "version_major": 2,
       "version_minor": 0
      },
      "text/plain": [
       "FloatSlider(value=1e-05, continuous_update=False, description='118', max=0.9999, min=1e-05, readout_format='.5…"
      ]
     },
     "metadata": {},
     "output_type": "display_data"
    },
    {
     "data": {
      "application/vnd.jupyter.widget-view+json": {
       "model_id": "2ab674c9c62e45adb0b482c85027fca9",
       "version_major": 2,
       "version_minor": 0
      },
      "text/plain": [
       "FloatSlider(value=1e-05, continuous_update=False, description='119', max=0.9999, min=1e-05, readout_format='.5…"
      ]
     },
     "metadata": {},
     "output_type": "display_data"
    },
    {
     "data": {
      "application/vnd.jupyter.widget-view+json": {
       "model_id": "2f58dda846194fd39eb4c0f4f14077b0",
       "version_major": 2,
       "version_minor": 0
      },
      "text/plain": [
       "FloatSlider(value=1e-05, continuous_update=False, description='120', max=0.9999, min=1e-05, readout_format='.5…"
      ]
     },
     "metadata": {},
     "output_type": "display_data"
    },
    {
     "data": {
      "application/vnd.jupyter.widget-view+json": {
       "model_id": "7684d7dfc96444269f186d2d3663c22b",
       "version_major": 2,
       "version_minor": 0
      },
      "text/plain": [
       "FloatSlider(value=1e-05, continuous_update=False, description='121', max=0.9999, min=1e-05, readout_format='.5…"
      ]
     },
     "metadata": {},
     "output_type": "display_data"
    },
    {
     "data": {
      "application/vnd.jupyter.widget-view+json": {
       "model_id": "1917863dcf644e42bd102268b0fc8fd8",
       "version_major": 2,
       "version_minor": 0
      },
      "text/plain": [
       "FloatSlider(value=1e-05, continuous_update=False, description='122', max=0.9999, min=1e-05, readout_format='.5…"
      ]
     },
     "metadata": {},
     "output_type": "display_data"
    },
    {
     "data": {
      "application/vnd.jupyter.widget-view+json": {
       "model_id": "8e4b920e7f104fe2a502c49726d4c83c",
       "version_major": 2,
       "version_minor": 0
      },
      "text/plain": [
       "FloatSlider(value=1e-05, continuous_update=False, description='123', max=0.9999, min=1e-05, readout_format='.5…"
      ]
     },
     "metadata": {},
     "output_type": "display_data"
    },
    {
     "data": {
      "application/vnd.jupyter.widget-view+json": {
       "model_id": "7ea6a7cb758b4f1d9215dbe2fb2b4861",
       "version_major": 2,
       "version_minor": 0
      },
      "text/plain": [
       "FloatSlider(value=1e-05, continuous_update=False, description='124', max=0.9999, min=1e-05, readout_format='.5…"
      ]
     },
     "metadata": {},
     "output_type": "display_data"
    },
    {
     "data": {
      "application/vnd.jupyter.widget-view+json": {
       "model_id": "06caed84f1ba41a8a12da630f052d1a0",
       "version_major": 2,
       "version_minor": 0
      },
      "text/plain": [
       "FloatSlider(value=1e-05, continuous_update=False, description='125', max=0.9999, min=1e-05, readout_format='.5…"
      ]
     },
     "metadata": {},
     "output_type": "display_data"
    },
    {
     "data": {
      "application/vnd.jupyter.widget-view+json": {
       "model_id": "ad36327cc18c4ddc9666941e7a3e5f8f",
       "version_major": 2,
       "version_minor": 0
      },
      "text/plain": [
       "FloatSlider(value=1e-05, continuous_update=False, description='126', max=0.9999, min=1e-05, readout_format='.5…"
      ]
     },
     "metadata": {},
     "output_type": "display_data"
    },
    {
     "data": {
      "application/vnd.jupyter.widget-view+json": {
       "model_id": "ec2ac1bb8a79415e950922cbc55c6085",
       "version_major": 2,
       "version_minor": 0
      },
      "text/plain": [
       "FloatSlider(value=1e-05, continuous_update=False, description='127', max=0.9999, min=1e-05, readout_format='.5…"
      ]
     },
     "metadata": {},
     "output_type": "display_data"
    },
    {
     "data": {
      "application/vnd.jupyter.widget-view+json": {
       "model_id": "8e69a6d9e3cd4256ba886d775b963074",
       "version_major": 2,
       "version_minor": 0
      },
      "text/plain": [
       "FloatSlider(value=1e-05, continuous_update=False, description='128', max=0.9999, min=1e-05, readout_format='.5…"
      ]
     },
     "metadata": {},
     "output_type": "display_data"
    },
    {
     "data": {
      "application/vnd.jupyter.widget-view+json": {
       "model_id": "01490488defd4eac877067862b9d9cc4",
       "version_major": 2,
       "version_minor": 0
      },
      "text/plain": [
       "Button(description='Apply Slider Weights', style=ButtonStyle())"
      ]
     },
     "metadata": {},
     "output_type": "display_data"
    },
    {
     "data": {
      "application/vnd.jupyter.widget-view+json": {
       "model_id": "0ce3680de3754c969e5bf1d053af8641",
       "version_major": 2,
       "version_minor": 0
      },
      "text/plain": [
       "Button(description='Reset Plot', style=ButtonStyle())"
      ]
     },
     "metadata": {},
     "output_type": "display_data"
    }
   ],
   "source": [
    "sliders = create_sliders(weights)"
   ]
  },
  {
   "cell_type": "markdown",
   "metadata": {},
   "source": [
    "## Dimension Reduction Plot\n",
    "This shows the HD data in 2D form, such that **proximity == similarity**, based on the current slider weights.  Distances between points in the plot approximately reflect their distances in the weighted HD data.  Thus points near each other have similar HD data values in the up-weighted dimensions, and points far away have very different HD data values in those dimensions.\n",
    "\n",
    "The color represents the **relevance** of each point to the current slider weights. Yellower points have larger values in up-weighted dimensions.\n",
    "\n",
    "Points can be **selected** to highlight in Green and view their details below.  Points can be **dragged** to specify a new projection for learning weights, see below. To reset the plot and clear the selections, click the **Reset** button above."
   ]
  },
  {
   "cell_type": "code",
   "execution_count": null,
   "metadata": {},
   "outputs": [],
   "source": []
  },
  {
   "cell_type": "code",
   "execution_count": 18,
   "metadata": {
    "scrolled": false
   },
   "outputs": [
    {
     "data": {
      "application/javascript": [
       "/* Put everything inside the global mpl namespace */\n",
       "/* global mpl */\n",
       "window.mpl = {};\n",
       "\n",
       "mpl.get_websocket_type = function () {\n",
       "    if (typeof WebSocket !== 'undefined') {\n",
       "        return WebSocket;\n",
       "    } else if (typeof MozWebSocket !== 'undefined') {\n",
       "        return MozWebSocket;\n",
       "    } else {\n",
       "        alert(\n",
       "            'Your browser does not have WebSocket support. ' +\n",
       "                'Please try Chrome, Safari or Firefox ≥ 6. ' +\n",
       "                'Firefox 4 and 5 are also supported but you ' +\n",
       "                'have to enable WebSockets in about:config.'\n",
       "        );\n",
       "    }\n",
       "};\n",
       "\n",
       "mpl.figure = function (figure_id, websocket, ondownload, parent_element) {\n",
       "    this.id = figure_id;\n",
       "\n",
       "    this.ws = websocket;\n",
       "\n",
       "    this.supports_binary = this.ws.binaryType !== undefined;\n",
       "\n",
       "    if (!this.supports_binary) {\n",
       "        var warnings = document.getElementById('mpl-warnings');\n",
       "        if (warnings) {\n",
       "            warnings.style.display = 'block';\n",
       "            warnings.textContent =\n",
       "                'This browser does not support binary websocket messages. ' +\n",
       "                'Performance may be slow.';\n",
       "        }\n",
       "    }\n",
       "\n",
       "    this.imageObj = new Image();\n",
       "\n",
       "    this.context = undefined;\n",
       "    this.message = undefined;\n",
       "    this.canvas = undefined;\n",
       "    this.rubberband_canvas = undefined;\n",
       "    this.rubberband_context = undefined;\n",
       "    this.format_dropdown = undefined;\n",
       "\n",
       "    this.image_mode = 'full';\n",
       "\n",
       "    this.root = document.createElement('div');\n",
       "    this.root.setAttribute('style', 'display: inline-block');\n",
       "    this._root_extra_style(this.root);\n",
       "\n",
       "    parent_element.appendChild(this.root);\n",
       "\n",
       "    this._init_header(this);\n",
       "    this._init_canvas(this);\n",
       "    this._init_toolbar(this);\n",
       "\n",
       "    var fig = this;\n",
       "\n",
       "    this.waiting = false;\n",
       "\n",
       "    this.ws.onopen = function () {\n",
       "        fig.send_message('supports_binary', { value: fig.supports_binary });\n",
       "        fig.send_message('send_image_mode', {});\n",
       "        if (fig.ratio !== 1) {\n",
       "            fig.send_message('set_dpi_ratio', { dpi_ratio: fig.ratio });\n",
       "        }\n",
       "        fig.send_message('refresh', {});\n",
       "    };\n",
       "\n",
       "    this.imageObj.onload = function () {\n",
       "        if (fig.image_mode === 'full') {\n",
       "            // Full images could contain transparency (where diff images\n",
       "            // almost always do), so we need to clear the canvas so that\n",
       "            // there is no ghosting.\n",
       "            fig.context.clearRect(0, 0, fig.canvas.width, fig.canvas.height);\n",
       "        }\n",
       "        fig.context.drawImage(fig.imageObj, 0, 0);\n",
       "    };\n",
       "\n",
       "    this.imageObj.onunload = function () {\n",
       "        fig.ws.close();\n",
       "    };\n",
       "\n",
       "    this.ws.onmessage = this._make_on_message_function(this);\n",
       "\n",
       "    this.ondownload = ondownload;\n",
       "};\n",
       "\n",
       "mpl.figure.prototype._init_header = function () {\n",
       "    var titlebar = document.createElement('div');\n",
       "    titlebar.classList =\n",
       "        'ui-dialog-titlebar ui-widget-header ui-corner-all ui-helper-clearfix';\n",
       "    var titletext = document.createElement('div');\n",
       "    titletext.classList = 'ui-dialog-title';\n",
       "    titletext.setAttribute(\n",
       "        'style',\n",
       "        'width: 100%; text-align: center; padding: 3px;'\n",
       "    );\n",
       "    titlebar.appendChild(titletext);\n",
       "    this.root.appendChild(titlebar);\n",
       "    this.header = titletext;\n",
       "};\n",
       "\n",
       "mpl.figure.prototype._canvas_extra_style = function (_canvas_div) {};\n",
       "\n",
       "mpl.figure.prototype._root_extra_style = function (_canvas_div) {};\n",
       "\n",
       "mpl.figure.prototype._init_canvas = function () {\n",
       "    var fig = this;\n",
       "\n",
       "    var canvas_div = (this.canvas_div = document.createElement('div'));\n",
       "    canvas_div.setAttribute(\n",
       "        'style',\n",
       "        'border: 1px solid #ddd;' +\n",
       "            'box-sizing: content-box;' +\n",
       "            'clear: both;' +\n",
       "            'min-height: 1px;' +\n",
       "            'min-width: 1px;' +\n",
       "            'outline: 0;' +\n",
       "            'overflow: hidden;' +\n",
       "            'position: relative;' +\n",
       "            'resize: both;'\n",
       "    );\n",
       "\n",
       "    function on_keyboard_event_closure(name) {\n",
       "        return function (event) {\n",
       "            return fig.key_event(event, name);\n",
       "        };\n",
       "    }\n",
       "\n",
       "    canvas_div.addEventListener(\n",
       "        'keydown',\n",
       "        on_keyboard_event_closure('key_press')\n",
       "    );\n",
       "    canvas_div.addEventListener(\n",
       "        'keyup',\n",
       "        on_keyboard_event_closure('key_release')\n",
       "    );\n",
       "\n",
       "    this._canvas_extra_style(canvas_div);\n",
       "    this.root.appendChild(canvas_div);\n",
       "\n",
       "    var canvas = (this.canvas = document.createElement('canvas'));\n",
       "    canvas.classList.add('mpl-canvas');\n",
       "    canvas.setAttribute('style', 'box-sizing: content-box;');\n",
       "\n",
       "    this.context = canvas.getContext('2d');\n",
       "\n",
       "    var backingStore =\n",
       "        this.context.backingStorePixelRatio ||\n",
       "        this.context.webkitBackingStorePixelRatio ||\n",
       "        this.context.mozBackingStorePixelRatio ||\n",
       "        this.context.msBackingStorePixelRatio ||\n",
       "        this.context.oBackingStorePixelRatio ||\n",
       "        this.context.backingStorePixelRatio ||\n",
       "        1;\n",
       "\n",
       "    this.ratio = (window.devicePixelRatio || 1) / backingStore;\n",
       "    if (this.ratio !== 1) {\n",
       "        fig.send_message('set_dpi_ratio', { dpi_ratio: this.ratio });\n",
       "    }\n",
       "\n",
       "    var rubberband_canvas = (this.rubberband_canvas = document.createElement(\n",
       "        'canvas'\n",
       "    ));\n",
       "    rubberband_canvas.setAttribute(\n",
       "        'style',\n",
       "        'box-sizing: content-box; position: absolute; left: 0; top: 0; z-index: 1;'\n",
       "    );\n",
       "\n",
       "    var resizeObserver = new ResizeObserver(function (entries) {\n",
       "        var nentries = entries.length;\n",
       "        for (var i = 0; i < nentries; i++) {\n",
       "            var entry = entries[i];\n",
       "            var width, height;\n",
       "            if (entry.contentBoxSize) {\n",
       "                if (entry.contentBoxSize instanceof Array) {\n",
       "                    // Chrome 84 implements new version of spec.\n",
       "                    width = entry.contentBoxSize[0].inlineSize;\n",
       "                    height = entry.contentBoxSize[0].blockSize;\n",
       "                } else {\n",
       "                    // Firefox implements old version of spec.\n",
       "                    width = entry.contentBoxSize.inlineSize;\n",
       "                    height = entry.contentBoxSize.blockSize;\n",
       "                }\n",
       "            } else {\n",
       "                // Chrome <84 implements even older version of spec.\n",
       "                width = entry.contentRect.width;\n",
       "                height = entry.contentRect.height;\n",
       "            }\n",
       "\n",
       "            // Keep the size of the canvas and rubber band canvas in sync with\n",
       "            // the canvas container.\n",
       "            if (entry.devicePixelContentBoxSize) {\n",
       "                // Chrome 84 implements new version of spec.\n",
       "                canvas.setAttribute(\n",
       "                    'width',\n",
       "                    entry.devicePixelContentBoxSize[0].inlineSize\n",
       "                );\n",
       "                canvas.setAttribute(\n",
       "                    'height',\n",
       "                    entry.devicePixelContentBoxSize[0].blockSize\n",
       "                );\n",
       "            } else {\n",
       "                canvas.setAttribute('width', width * fig.ratio);\n",
       "                canvas.setAttribute('height', height * fig.ratio);\n",
       "            }\n",
       "            canvas.setAttribute(\n",
       "                'style',\n",
       "                'width: ' + width + 'px; height: ' + height + 'px;'\n",
       "            );\n",
       "\n",
       "            rubberband_canvas.setAttribute('width', width);\n",
       "            rubberband_canvas.setAttribute('height', height);\n",
       "\n",
       "            // And update the size in Python. We ignore the initial 0/0 size\n",
       "            // that occurs as the element is placed into the DOM, which should\n",
       "            // otherwise not happen due to the minimum size styling.\n",
       "            if (width != 0 && height != 0) {\n",
       "                fig.request_resize(width, height);\n",
       "            }\n",
       "        }\n",
       "    });\n",
       "    resizeObserver.observe(canvas_div);\n",
       "\n",
       "    function on_mouse_event_closure(name) {\n",
       "        return function (event) {\n",
       "            return fig.mouse_event(event, name);\n",
       "        };\n",
       "    }\n",
       "\n",
       "    rubberband_canvas.addEventListener(\n",
       "        'mousedown',\n",
       "        on_mouse_event_closure('button_press')\n",
       "    );\n",
       "    rubberband_canvas.addEventListener(\n",
       "        'mouseup',\n",
       "        on_mouse_event_closure('button_release')\n",
       "    );\n",
       "    // Throttle sequential mouse events to 1 every 20ms.\n",
       "    rubberband_canvas.addEventListener(\n",
       "        'mousemove',\n",
       "        on_mouse_event_closure('motion_notify')\n",
       "    );\n",
       "\n",
       "    rubberband_canvas.addEventListener(\n",
       "        'mouseenter',\n",
       "        on_mouse_event_closure('figure_enter')\n",
       "    );\n",
       "    rubberband_canvas.addEventListener(\n",
       "        'mouseleave',\n",
       "        on_mouse_event_closure('figure_leave')\n",
       "    );\n",
       "\n",
       "    canvas_div.addEventListener('wheel', function (event) {\n",
       "        if (event.deltaY < 0) {\n",
       "            event.step = 1;\n",
       "        } else {\n",
       "            event.step = -1;\n",
       "        }\n",
       "        on_mouse_event_closure('scroll')(event);\n",
       "    });\n",
       "\n",
       "    canvas_div.appendChild(canvas);\n",
       "    canvas_div.appendChild(rubberband_canvas);\n",
       "\n",
       "    this.rubberband_context = rubberband_canvas.getContext('2d');\n",
       "    this.rubberband_context.strokeStyle = '#000000';\n",
       "\n",
       "    this._resize_canvas = function (width, height, forward) {\n",
       "        if (forward) {\n",
       "            canvas_div.style.width = width + 'px';\n",
       "            canvas_div.style.height = height + 'px';\n",
       "        }\n",
       "    };\n",
       "\n",
       "    // Disable right mouse context menu.\n",
       "    this.rubberband_canvas.addEventListener('contextmenu', function (_e) {\n",
       "        event.preventDefault();\n",
       "        return false;\n",
       "    });\n",
       "\n",
       "    function set_focus() {\n",
       "        canvas.focus();\n",
       "        canvas_div.focus();\n",
       "    }\n",
       "\n",
       "    window.setTimeout(set_focus, 100);\n",
       "};\n",
       "\n",
       "mpl.figure.prototype._init_toolbar = function () {\n",
       "    var fig = this;\n",
       "\n",
       "    var toolbar = document.createElement('div');\n",
       "    toolbar.classList = 'mpl-toolbar';\n",
       "    this.root.appendChild(toolbar);\n",
       "\n",
       "    function on_click_closure(name) {\n",
       "        return function (_event) {\n",
       "            return fig.toolbar_button_onclick(name);\n",
       "        };\n",
       "    }\n",
       "\n",
       "    function on_mouseover_closure(tooltip) {\n",
       "        return function (event) {\n",
       "            if (!event.currentTarget.disabled) {\n",
       "                return fig.toolbar_button_onmouseover(tooltip);\n",
       "            }\n",
       "        };\n",
       "    }\n",
       "\n",
       "    fig.buttons = {};\n",
       "    var buttonGroup = document.createElement('div');\n",
       "    buttonGroup.classList = 'mpl-button-group';\n",
       "    for (var toolbar_ind in mpl.toolbar_items) {\n",
       "        var name = mpl.toolbar_items[toolbar_ind][0];\n",
       "        var tooltip = mpl.toolbar_items[toolbar_ind][1];\n",
       "        var image = mpl.toolbar_items[toolbar_ind][2];\n",
       "        var method_name = mpl.toolbar_items[toolbar_ind][3];\n",
       "\n",
       "        if (!name) {\n",
       "            /* Instead of a spacer, we start a new button group. */\n",
       "            if (buttonGroup.hasChildNodes()) {\n",
       "                toolbar.appendChild(buttonGroup);\n",
       "            }\n",
       "            buttonGroup = document.createElement('div');\n",
       "            buttonGroup.classList = 'mpl-button-group';\n",
       "            continue;\n",
       "        }\n",
       "\n",
       "        var button = (fig.buttons[name] = document.createElement('button'));\n",
       "        button.classList = 'mpl-widget';\n",
       "        button.setAttribute('role', 'button');\n",
       "        button.setAttribute('aria-disabled', 'false');\n",
       "        button.addEventListener('click', on_click_closure(method_name));\n",
       "        button.addEventListener('mouseover', on_mouseover_closure(tooltip));\n",
       "\n",
       "        var icon_img = document.createElement('img');\n",
       "        icon_img.src = '_images/' + image + '.png';\n",
       "        icon_img.srcset = '_images/' + image + '_large.png 2x';\n",
       "        icon_img.alt = tooltip;\n",
       "        button.appendChild(icon_img);\n",
       "\n",
       "        buttonGroup.appendChild(button);\n",
       "    }\n",
       "\n",
       "    if (buttonGroup.hasChildNodes()) {\n",
       "        toolbar.appendChild(buttonGroup);\n",
       "    }\n",
       "\n",
       "    var fmt_picker = document.createElement('select');\n",
       "    fmt_picker.classList = 'mpl-widget';\n",
       "    toolbar.appendChild(fmt_picker);\n",
       "    this.format_dropdown = fmt_picker;\n",
       "\n",
       "    for (var ind in mpl.extensions) {\n",
       "        var fmt = mpl.extensions[ind];\n",
       "        var option = document.createElement('option');\n",
       "        option.selected = fmt === mpl.default_extension;\n",
       "        option.innerHTML = fmt;\n",
       "        fmt_picker.appendChild(option);\n",
       "    }\n",
       "\n",
       "    var status_bar = document.createElement('span');\n",
       "    status_bar.classList = 'mpl-message';\n",
       "    toolbar.appendChild(status_bar);\n",
       "    this.message = status_bar;\n",
       "};\n",
       "\n",
       "mpl.figure.prototype.request_resize = function (x_pixels, y_pixels) {\n",
       "    // Request matplotlib to resize the figure. Matplotlib will then trigger a resize in the client,\n",
       "    // which will in turn request a refresh of the image.\n",
       "    this.send_message('resize', { width: x_pixels, height: y_pixels });\n",
       "};\n",
       "\n",
       "mpl.figure.prototype.send_message = function (type, properties) {\n",
       "    properties['type'] = type;\n",
       "    properties['figure_id'] = this.id;\n",
       "    this.ws.send(JSON.stringify(properties));\n",
       "};\n",
       "\n",
       "mpl.figure.prototype.send_draw_message = function () {\n",
       "    if (!this.waiting) {\n",
       "        this.waiting = true;\n",
       "        this.ws.send(JSON.stringify({ type: 'draw', figure_id: this.id }));\n",
       "    }\n",
       "};\n",
       "\n",
       "mpl.figure.prototype.handle_save = function (fig, _msg) {\n",
       "    var format_dropdown = fig.format_dropdown;\n",
       "    var format = format_dropdown.options[format_dropdown.selectedIndex].value;\n",
       "    fig.ondownload(fig, format);\n",
       "};\n",
       "\n",
       "mpl.figure.prototype.handle_resize = function (fig, msg) {\n",
       "    var size = msg['size'];\n",
       "    if (size[0] !== fig.canvas.width || size[1] !== fig.canvas.height) {\n",
       "        fig._resize_canvas(size[0], size[1], msg['forward']);\n",
       "        fig.send_message('refresh', {});\n",
       "    }\n",
       "};\n",
       "\n",
       "mpl.figure.prototype.handle_rubberband = function (fig, msg) {\n",
       "    var x0 = msg['x0'] / fig.ratio;\n",
       "    var y0 = (fig.canvas.height - msg['y0']) / fig.ratio;\n",
       "    var x1 = msg['x1'] / fig.ratio;\n",
       "    var y1 = (fig.canvas.height - msg['y1']) / fig.ratio;\n",
       "    x0 = Math.floor(x0) + 0.5;\n",
       "    y0 = Math.floor(y0) + 0.5;\n",
       "    x1 = Math.floor(x1) + 0.5;\n",
       "    y1 = Math.floor(y1) + 0.5;\n",
       "    var min_x = Math.min(x0, x1);\n",
       "    var min_y = Math.min(y0, y1);\n",
       "    var width = Math.abs(x1 - x0);\n",
       "    var height = Math.abs(y1 - y0);\n",
       "\n",
       "    fig.rubberband_context.clearRect(\n",
       "        0,\n",
       "        0,\n",
       "        fig.canvas.width / fig.ratio,\n",
       "        fig.canvas.height / fig.ratio\n",
       "    );\n",
       "\n",
       "    fig.rubberband_context.strokeRect(min_x, min_y, width, height);\n",
       "};\n",
       "\n",
       "mpl.figure.prototype.handle_figure_label = function (fig, msg) {\n",
       "    // Updates the figure title.\n",
       "    fig.header.textContent = msg['label'];\n",
       "};\n",
       "\n",
       "mpl.figure.prototype.handle_cursor = function (fig, msg) {\n",
       "    var cursor = msg['cursor'];\n",
       "    switch (cursor) {\n",
       "        case 0:\n",
       "            cursor = 'pointer';\n",
       "            break;\n",
       "        case 1:\n",
       "            cursor = 'default';\n",
       "            break;\n",
       "        case 2:\n",
       "            cursor = 'crosshair';\n",
       "            break;\n",
       "        case 3:\n",
       "            cursor = 'move';\n",
       "            break;\n",
       "    }\n",
       "    fig.rubberband_canvas.style.cursor = cursor;\n",
       "};\n",
       "\n",
       "mpl.figure.prototype.handle_message = function (fig, msg) {\n",
       "    fig.message.textContent = msg['message'];\n",
       "};\n",
       "\n",
       "mpl.figure.prototype.handle_draw = function (fig, _msg) {\n",
       "    // Request the server to send over a new figure.\n",
       "    fig.send_draw_message();\n",
       "};\n",
       "\n",
       "mpl.figure.prototype.handle_image_mode = function (fig, msg) {\n",
       "    fig.image_mode = msg['mode'];\n",
       "};\n",
       "\n",
       "mpl.figure.prototype.handle_history_buttons = function (fig, msg) {\n",
       "    for (var key in msg) {\n",
       "        if (!(key in fig.buttons)) {\n",
       "            continue;\n",
       "        }\n",
       "        fig.buttons[key].disabled = !msg[key];\n",
       "        fig.buttons[key].setAttribute('aria-disabled', !msg[key]);\n",
       "    }\n",
       "};\n",
       "\n",
       "mpl.figure.prototype.handle_navigate_mode = function (fig, msg) {\n",
       "    if (msg['mode'] === 'PAN') {\n",
       "        fig.buttons['Pan'].classList.add('active');\n",
       "        fig.buttons['Zoom'].classList.remove('active');\n",
       "    } else if (msg['mode'] === 'ZOOM') {\n",
       "        fig.buttons['Pan'].classList.remove('active');\n",
       "        fig.buttons['Zoom'].classList.add('active');\n",
       "    } else {\n",
       "        fig.buttons['Pan'].classList.remove('active');\n",
       "        fig.buttons['Zoom'].classList.remove('active');\n",
       "    }\n",
       "};\n",
       "\n",
       "mpl.figure.prototype.updated_canvas_event = function () {\n",
       "    // Called whenever the canvas gets updated.\n",
       "    this.send_message('ack', {});\n",
       "};\n",
       "\n",
       "// A function to construct a web socket function for onmessage handling.\n",
       "// Called in the figure constructor.\n",
       "mpl.figure.prototype._make_on_message_function = function (fig) {\n",
       "    return function socket_on_message(evt) {\n",
       "        if (evt.data instanceof Blob) {\n",
       "            /* FIXME: We get \"Resource interpreted as Image but\n",
       "             * transferred with MIME type text/plain:\" errors on\n",
       "             * Chrome.  But how to set the MIME type?  It doesn't seem\n",
       "             * to be part of the websocket stream */\n",
       "            evt.data.type = 'image/png';\n",
       "\n",
       "            /* Free the memory for the previous frames */\n",
       "            if (fig.imageObj.src) {\n",
       "                (window.URL || window.webkitURL).revokeObjectURL(\n",
       "                    fig.imageObj.src\n",
       "                );\n",
       "            }\n",
       "\n",
       "            fig.imageObj.src = (window.URL || window.webkitURL).createObjectURL(\n",
       "                evt.data\n",
       "            );\n",
       "            fig.updated_canvas_event();\n",
       "            fig.waiting = false;\n",
       "            return;\n",
       "        } else if (\n",
       "            typeof evt.data === 'string' &&\n",
       "            evt.data.slice(0, 21) === 'data:image/png;base64'\n",
       "        ) {\n",
       "            fig.imageObj.src = evt.data;\n",
       "            fig.updated_canvas_event();\n",
       "            fig.waiting = false;\n",
       "            return;\n",
       "        }\n",
       "\n",
       "        var msg = JSON.parse(evt.data);\n",
       "        var msg_type = msg['type'];\n",
       "\n",
       "        // Call the  \"handle_{type}\" callback, which takes\n",
       "        // the figure and JSON message as its only arguments.\n",
       "        try {\n",
       "            var callback = fig['handle_' + msg_type];\n",
       "        } catch (e) {\n",
       "            console.log(\n",
       "                \"No handler for the '\" + msg_type + \"' message type: \",\n",
       "                msg\n",
       "            );\n",
       "            return;\n",
       "        }\n",
       "\n",
       "        if (callback) {\n",
       "            try {\n",
       "                // console.log(\"Handling '\" + msg_type + \"' message: \", msg);\n",
       "                callback(fig, msg);\n",
       "            } catch (e) {\n",
       "                console.log(\n",
       "                    \"Exception inside the 'handler_\" + msg_type + \"' callback:\",\n",
       "                    e,\n",
       "                    e.stack,\n",
       "                    msg\n",
       "                );\n",
       "            }\n",
       "        }\n",
       "    };\n",
       "};\n",
       "\n",
       "// from http://stackoverflow.com/questions/1114465/getting-mouse-location-in-canvas\n",
       "mpl.findpos = function (e) {\n",
       "    //this section is from http://www.quirksmode.org/js/events_properties.html\n",
       "    var targ;\n",
       "    if (!e) {\n",
       "        e = window.event;\n",
       "    }\n",
       "    if (e.target) {\n",
       "        targ = e.target;\n",
       "    } else if (e.srcElement) {\n",
       "        targ = e.srcElement;\n",
       "    }\n",
       "    if (targ.nodeType === 3) {\n",
       "        // defeat Safari bug\n",
       "        targ = targ.parentNode;\n",
       "    }\n",
       "\n",
       "    // pageX,Y are the mouse positions relative to the document\n",
       "    var boundingRect = targ.getBoundingClientRect();\n",
       "    var x = e.pageX - (boundingRect.left + document.body.scrollLeft);\n",
       "    var y = e.pageY - (boundingRect.top + document.body.scrollTop);\n",
       "\n",
       "    return { x: x, y: y };\n",
       "};\n",
       "\n",
       "/*\n",
       " * return a copy of an object with only non-object keys\n",
       " * we need this to avoid circular references\n",
       " * http://stackoverflow.com/a/24161582/3208463\n",
       " */\n",
       "function simpleKeys(original) {\n",
       "    return Object.keys(original).reduce(function (obj, key) {\n",
       "        if (typeof original[key] !== 'object') {\n",
       "            obj[key] = original[key];\n",
       "        }\n",
       "        return obj;\n",
       "    }, {});\n",
       "}\n",
       "\n",
       "mpl.figure.prototype.mouse_event = function (event, name) {\n",
       "    var canvas_pos = mpl.findpos(event);\n",
       "\n",
       "    if (name === 'button_press') {\n",
       "        this.canvas.focus();\n",
       "        this.canvas_div.focus();\n",
       "    }\n",
       "\n",
       "    var x = canvas_pos.x * this.ratio;\n",
       "    var y = canvas_pos.y * this.ratio;\n",
       "\n",
       "    this.send_message(name, {\n",
       "        x: x,\n",
       "        y: y,\n",
       "        button: event.button,\n",
       "        step: event.step,\n",
       "        guiEvent: simpleKeys(event),\n",
       "    });\n",
       "\n",
       "    /* This prevents the web browser from automatically changing to\n",
       "     * the text insertion cursor when the button is pressed.  We want\n",
       "     * to control all of the cursor setting manually through the\n",
       "     * 'cursor' event from matplotlib */\n",
       "    event.preventDefault();\n",
       "    return false;\n",
       "};\n",
       "\n",
       "mpl.figure.prototype._key_event_extra = function (_event, _name) {\n",
       "    // Handle any extra behaviour associated with a key event\n",
       "};\n",
       "\n",
       "mpl.figure.prototype.key_event = function (event, name) {\n",
       "    // Prevent repeat events\n",
       "    if (name === 'key_press') {\n",
       "        if (event.which === this._key) {\n",
       "            return;\n",
       "        } else {\n",
       "            this._key = event.which;\n",
       "        }\n",
       "    }\n",
       "    if (name === 'key_release') {\n",
       "        this._key = null;\n",
       "    }\n",
       "\n",
       "    var value = '';\n",
       "    if (event.ctrlKey && event.which !== 17) {\n",
       "        value += 'ctrl+';\n",
       "    }\n",
       "    if (event.altKey && event.which !== 18) {\n",
       "        value += 'alt+';\n",
       "    }\n",
       "    if (event.shiftKey && event.which !== 16) {\n",
       "        value += 'shift+';\n",
       "    }\n",
       "\n",
       "    value += 'k';\n",
       "    value += event.which.toString();\n",
       "\n",
       "    this._key_event_extra(event, name);\n",
       "\n",
       "    this.send_message(name, { key: value, guiEvent: simpleKeys(event) });\n",
       "    return false;\n",
       "};\n",
       "\n",
       "mpl.figure.prototype.toolbar_button_onclick = function (name) {\n",
       "    if (name === 'download') {\n",
       "        this.handle_save(this, null);\n",
       "    } else {\n",
       "        this.send_message('toolbar_button', { name: name });\n",
       "    }\n",
       "};\n",
       "\n",
       "mpl.figure.prototype.toolbar_button_onmouseover = function (tooltip) {\n",
       "    this.message.textContent = tooltip;\n",
       "};\n",
       "mpl.toolbar_items = [[\"Home\", \"Reset original view\", \"fa fa-home icon-home\", \"home\"], [\"Back\", \"Back to previous view\", \"fa fa-arrow-left icon-arrow-left\", \"back\"], [\"Forward\", \"Forward to next view\", \"fa fa-arrow-right icon-arrow-right\", \"forward\"], [\"\", \"\", \"\", \"\"], [\"Pan\", \"Left button pans, Right button zooms\\nx/y fixes axis, CTRL fixes aspect\", \"fa fa-arrows icon-move\", \"pan\"], [\"Zoom\", \"Zoom to rectangle\\nx/y fixes axis, CTRL fixes aspect\", \"fa fa-square-o icon-check-empty\", \"zoom\"], [\"\", \"\", \"\", \"\"], [\"Download\", \"Download plot\", \"fa fa-floppy-o icon-save\", \"download\"]];\n",
       "\n",
       "mpl.extensions = [\"eps\", \"jpeg\", \"pdf\", \"png\", \"ps\", \"raw\", \"svg\", \"tif\"];\n",
       "\n",
       "mpl.default_extension = \"png\";/* global mpl */\n",
       "\n",
       "var comm_websocket_adapter = function (comm) {\n",
       "    // Create a \"websocket\"-like object which calls the given IPython comm\n",
       "    // object with the appropriate methods. Currently this is a non binary\n",
       "    // socket, so there is still some room for performance tuning.\n",
       "    var ws = {};\n",
       "\n",
       "    ws.close = function () {\n",
       "        comm.close();\n",
       "    };\n",
       "    ws.send = function (m) {\n",
       "        //console.log('sending', m);\n",
       "        comm.send(m);\n",
       "    };\n",
       "    // Register the callback with on_msg.\n",
       "    comm.on_msg(function (msg) {\n",
       "        //console.log('receiving', msg['content']['data'], msg);\n",
       "        // Pass the mpl event to the overridden (by mpl) onmessage function.\n",
       "        ws.onmessage(msg['content']['data']);\n",
       "    });\n",
       "    return ws;\n",
       "};\n",
       "\n",
       "mpl.mpl_figure_comm = function (comm, msg) {\n",
       "    // This is the function which gets called when the mpl process\n",
       "    // starts-up an IPython Comm through the \"matplotlib\" channel.\n",
       "\n",
       "    var id = msg.content.data.id;\n",
       "    // Get hold of the div created by the display call when the Comm\n",
       "    // socket was opened in Python.\n",
       "    var element = document.getElementById(id);\n",
       "    var ws_proxy = comm_websocket_adapter(comm);\n",
       "\n",
       "    function ondownload(figure, _format) {\n",
       "        window.open(figure.canvas.toDataURL());\n",
       "    }\n",
       "\n",
       "    var fig = new mpl.figure(id, ws_proxy, ondownload, element);\n",
       "\n",
       "    // Call onopen now - mpl needs it, as it is assuming we've passed it a real\n",
       "    // web socket which is closed, not our websocket->open comm proxy.\n",
       "    ws_proxy.onopen();\n",
       "\n",
       "    fig.parent_element = element;\n",
       "    fig.cell_info = mpl.find_output_cell(\"<div id='\" + id + \"'></div>\");\n",
       "    if (!fig.cell_info) {\n",
       "        console.error('Failed to find cell for figure', id, fig);\n",
       "        return;\n",
       "    }\n",
       "    fig.cell_info[0].output_area.element.one(\n",
       "        'cleared',\n",
       "        { fig: fig },\n",
       "        fig._remove_fig_handler\n",
       "    );\n",
       "};\n",
       "\n",
       "mpl.figure.prototype.handle_close = function (fig, msg) {\n",
       "    var width = fig.canvas.width / fig.ratio;\n",
       "    fig.cell_info[0].output_area.element.off(\n",
       "        'cleared',\n",
       "        fig._remove_fig_handler\n",
       "    );\n",
       "\n",
       "    // Update the output cell to use the data from the current canvas.\n",
       "    fig.push_to_output();\n",
       "    var dataURL = fig.canvas.toDataURL();\n",
       "    // Re-enable the keyboard manager in IPython - without this line, in FF,\n",
       "    // the notebook keyboard shortcuts fail.\n",
       "    IPython.keyboard_manager.enable();\n",
       "    fig.parent_element.innerHTML =\n",
       "        '<img src=\"' + dataURL + '\" width=\"' + width + '\">';\n",
       "    fig.close_ws(fig, msg);\n",
       "};\n",
       "\n",
       "mpl.figure.prototype.close_ws = function (fig, msg) {\n",
       "    fig.send_message('closing', msg);\n",
       "    // fig.ws.close()\n",
       "};\n",
       "\n",
       "mpl.figure.prototype.push_to_output = function (_remove_interactive) {\n",
       "    // Turn the data on the canvas into data in the output cell.\n",
       "    var width = this.canvas.width / this.ratio;\n",
       "    var dataURL = this.canvas.toDataURL();\n",
       "    this.cell_info[1]['text/html'] =\n",
       "        '<img src=\"' + dataURL + '\" width=\"' + width + '\">';\n",
       "};\n",
       "\n",
       "mpl.figure.prototype.updated_canvas_event = function () {\n",
       "    // Tell IPython that the notebook contents must change.\n",
       "    IPython.notebook.set_dirty(true);\n",
       "    this.send_message('ack', {});\n",
       "    var fig = this;\n",
       "    // Wait a second, then push the new image to the DOM so\n",
       "    // that it is saved nicely (might be nice to debounce this).\n",
       "    setTimeout(function () {\n",
       "        fig.push_to_output();\n",
       "    }, 1000);\n",
       "};\n",
       "\n",
       "mpl.figure.prototype._init_toolbar = function () {\n",
       "    var fig = this;\n",
       "\n",
       "    var toolbar = document.createElement('div');\n",
       "    toolbar.classList = 'btn-toolbar';\n",
       "    this.root.appendChild(toolbar);\n",
       "\n",
       "    function on_click_closure(name) {\n",
       "        return function (_event) {\n",
       "            return fig.toolbar_button_onclick(name);\n",
       "        };\n",
       "    }\n",
       "\n",
       "    function on_mouseover_closure(tooltip) {\n",
       "        return function (event) {\n",
       "            if (!event.currentTarget.disabled) {\n",
       "                return fig.toolbar_button_onmouseover(tooltip);\n",
       "            }\n",
       "        };\n",
       "    }\n",
       "\n",
       "    fig.buttons = {};\n",
       "    var buttonGroup = document.createElement('div');\n",
       "    buttonGroup.classList = 'btn-group';\n",
       "    var button;\n",
       "    for (var toolbar_ind in mpl.toolbar_items) {\n",
       "        var name = mpl.toolbar_items[toolbar_ind][0];\n",
       "        var tooltip = mpl.toolbar_items[toolbar_ind][1];\n",
       "        var image = mpl.toolbar_items[toolbar_ind][2];\n",
       "        var method_name = mpl.toolbar_items[toolbar_ind][3];\n",
       "\n",
       "        if (!name) {\n",
       "            /* Instead of a spacer, we start a new button group. */\n",
       "            if (buttonGroup.hasChildNodes()) {\n",
       "                toolbar.appendChild(buttonGroup);\n",
       "            }\n",
       "            buttonGroup = document.createElement('div');\n",
       "            buttonGroup.classList = 'btn-group';\n",
       "            continue;\n",
       "        }\n",
       "\n",
       "        button = fig.buttons[name] = document.createElement('button');\n",
       "        button.classList = 'btn btn-default';\n",
       "        button.href = '#';\n",
       "        button.title = name;\n",
       "        button.innerHTML = '<i class=\"fa ' + image + ' fa-lg\"></i>';\n",
       "        button.addEventListener('click', on_click_closure(method_name));\n",
       "        button.addEventListener('mouseover', on_mouseover_closure(tooltip));\n",
       "        buttonGroup.appendChild(button);\n",
       "    }\n",
       "\n",
       "    if (buttonGroup.hasChildNodes()) {\n",
       "        toolbar.appendChild(buttonGroup);\n",
       "    }\n",
       "\n",
       "    // Add the status bar.\n",
       "    var status_bar = document.createElement('span');\n",
       "    status_bar.classList = 'mpl-message pull-right';\n",
       "    toolbar.appendChild(status_bar);\n",
       "    this.message = status_bar;\n",
       "\n",
       "    // Add the close button to the window.\n",
       "    var buttongrp = document.createElement('div');\n",
       "    buttongrp.classList = 'btn-group inline pull-right';\n",
       "    button = document.createElement('button');\n",
       "    button.classList = 'btn btn-mini btn-primary';\n",
       "    button.href = '#';\n",
       "    button.title = 'Stop Interaction';\n",
       "    button.innerHTML = '<i class=\"fa fa-power-off icon-remove icon-large\"></i>';\n",
       "    button.addEventListener('click', function (_evt) {\n",
       "        fig.handle_close(fig, {});\n",
       "    });\n",
       "    button.addEventListener(\n",
       "        'mouseover',\n",
       "        on_mouseover_closure('Stop Interaction')\n",
       "    );\n",
       "    buttongrp.appendChild(button);\n",
       "    var titlebar = this.root.querySelector('.ui-dialog-titlebar');\n",
       "    titlebar.insertBefore(buttongrp, titlebar.firstChild);\n",
       "};\n",
       "\n",
       "mpl.figure.prototype._remove_fig_handler = function (event) {\n",
       "    var fig = event.data.fig;\n",
       "    fig.close_ws(fig, {});\n",
       "};\n",
       "\n",
       "mpl.figure.prototype._root_extra_style = function (el) {\n",
       "    el.style.boxSizing = 'content-box'; // override notebook setting of border-box.\n",
       "};\n",
       "\n",
       "mpl.figure.prototype._canvas_extra_style = function (el) {\n",
       "    // this is important to make the div 'focusable\n",
       "    el.setAttribute('tabindex', 0);\n",
       "    // reach out to IPython and tell the keyboard manager to turn it's self\n",
       "    // off when our div gets focus\n",
       "\n",
       "    // location in version 3\n",
       "    if (IPython.notebook.keyboard_manager) {\n",
       "        IPython.notebook.keyboard_manager.register_events(el);\n",
       "    } else {\n",
       "        // location in version 2\n",
       "        IPython.keyboard_manager.register_events(el);\n",
       "    }\n",
       "};\n",
       "\n",
       "mpl.figure.prototype._key_event_extra = function (event, _name) {\n",
       "    var manager = IPython.notebook.keyboard_manager;\n",
       "    if (!manager) {\n",
       "        manager = IPython.keyboard_manager;\n",
       "    }\n",
       "\n",
       "    // Check for shift+enter\n",
       "    if (event.shiftKey && event.which === 13) {\n",
       "        this.canvas_div.blur();\n",
       "        // select the cell after this one\n",
       "        var index = IPython.notebook.find_cell_index(this.cell_info[0]);\n",
       "        IPython.notebook.select(index + 1);\n",
       "    }\n",
       "};\n",
       "\n",
       "mpl.figure.prototype.handle_save = function (fig, _msg) {\n",
       "    fig.ondownload(fig, null);\n",
       "};\n",
       "\n",
       "mpl.find_output_cell = function (html_output) {\n",
       "    // Return the cell and output element which can be found *uniquely* in the notebook.\n",
       "    // Note - this is a bit hacky, but it is done because the \"notebook_saving.Notebook\"\n",
       "    // IPython event is triggered only after the cells have been serialised, which for\n",
       "    // our purposes (turning an active figure into a static one), is too late.\n",
       "    var cells = IPython.notebook.get_cells();\n",
       "    var ncells = cells.length;\n",
       "    for (var i = 0; i < ncells; i++) {\n",
       "        var cell = cells[i];\n",
       "        if (cell.cell_type === 'code') {\n",
       "            for (var j = 0; j < cell.output_area.outputs.length; j++) {\n",
       "                var data = cell.output_area.outputs[j];\n",
       "                if (data.data) {\n",
       "                    // IPython >= 3 moved mimebundle to data attribute of output\n",
       "                    data = data.data;\n",
       "                }\n",
       "                if (data['text/html'] === html_output) {\n",
       "                    return [cell, data, j];\n",
       "                }\n",
       "            }\n",
       "        }\n",
       "    }\n",
       "};\n",
       "\n",
       "// Register the function which deals with the matplotlib target/channel.\n",
       "// The kernel may be null if the page has been refreshed.\n",
       "if (IPython.notebook.kernel !== null) {\n",
       "    IPython.notebook.kernel.comm_manager.register_target(\n",
       "        'matplotlib',\n",
       "        mpl.mpl_figure_comm\n",
       "    );\n",
       "}\n"
      ],
      "text/plain": [
       "<IPython.core.display.Javascript object>"
      ]
     },
     "metadata": {},
     "output_type": "display_data"
    },
    {
     "data": {
      "text/html": [
       "<img src=\"data:image/png;base64,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\" width=\"800\">"
      ],
      "text/plain": [
       "<IPython.core.display.HTML object>"
      ]
     },
     "metadata": {},
     "output_type": "display_data"
    }
   ],
   "source": [
    "plot_ax = create_plot(df_2D)"
   ]
  },
  {
   "cell_type": "markdown",
   "metadata": {},
   "source": [
    "##  Selected Points Details\n",
    "Click the **Print** button below to display detailed data values of the points selected in the DR plot.  The selected points are Green."
   ]
  },
  {
   "cell_type": "code",
   "execution_count": 19,
   "metadata": {
    "scrolled": false
   },
   "outputs": [
    {
     "data": {
      "application/vnd.jupyter.widget-view+json": {
       "model_id": "077b9441abf14f5ba47ae55ae8b3b150",
       "version_major": 2,
       "version_minor": 0
      },
      "text/plain": [
       "Button(description='Print selected points', style=ButtonStyle())"
      ]
     },
     "metadata": {},
     "output_type": "display_data"
    },
    {
     "data": {
      "application/vnd.jupyter.widget-view+json": {
       "model_id": "1babb1e0f6e844ddb89b2e81ccaff507",
       "version_major": 2,
       "version_minor": 0
      },
      "text/plain": [
       "Output()"
      ]
     },
     "metadata": {},
     "output_type": "display_data"
    }
   ],
   "source": [
    "dod = create_detail_display()"
   ]
  },
  {
   "cell_type": "markdown",
   "metadata": {},
   "source": [
    "## Inverse Dimension Reduction\n",
    "After selecting and/or dragging some points in the DR plot, click the **Learn** button to machine learn new dimension weights that would produce a plot with similar pairwise distances as your plot.  **Only the Green selected points** in the plot are considered when learning new weights. You must select or move at least two points to specify new desired distances. Use this to create your own clusters, and find out what makes some data points similar to or different from others.  The **learned weights** are shown in a bar chart below.\n",
    "\n",
    "To see the effects of the learned weights, click the **Copy** button to apply the learned weights to the sliders and  make a new DR plot above."
   ]
  },
  {
   "cell_type": "code",
   "execution_count": 20,
   "metadata": {
    "scrolled": false
   },
   "outputs": [
    {
     "data": {
      "application/vnd.jupyter.widget-view+json": {
       "model_id": "86dbd8c0f97845ea8eea2c99469dcfa3",
       "version_major": 2,
       "version_minor": 0
      },
      "text/plain": [
       "Button(description='Learn New Weights', style=ButtonStyle())"
      ]
     },
     "metadata": {},
     "output_type": "display_data"
    },
    {
     "data": {
      "application/vnd.jupyter.widget-view+json": {
       "model_id": "dd9cb8dc7cad4e16806000e71385bb34",
       "version_major": 2,
       "version_minor": 0
      },
      "text/plain": [
       "Button(description='Copy to Sliders', style=ButtonStyle())"
      ]
     },
     "metadata": {},
     "output_type": "display_data"
    },
    {
     "data": {
      "application/javascript": [
       "/* Put everything inside the global mpl namespace */\n",
       "/* global mpl */\n",
       "window.mpl = {};\n",
       "\n",
       "mpl.get_websocket_type = function () {\n",
       "    if (typeof WebSocket !== 'undefined') {\n",
       "        return WebSocket;\n",
       "    } else if (typeof MozWebSocket !== 'undefined') {\n",
       "        return MozWebSocket;\n",
       "    } else {\n",
       "        alert(\n",
       "            'Your browser does not have WebSocket support. ' +\n",
       "                'Please try Chrome, Safari or Firefox ≥ 6. ' +\n",
       "                'Firefox 4 and 5 are also supported but you ' +\n",
       "                'have to enable WebSockets in about:config.'\n",
       "        );\n",
       "    }\n",
       "};\n",
       "\n",
       "mpl.figure = function (figure_id, websocket, ondownload, parent_element) {\n",
       "    this.id = figure_id;\n",
       "\n",
       "    this.ws = websocket;\n",
       "\n",
       "    this.supports_binary = this.ws.binaryType !== undefined;\n",
       "\n",
       "    if (!this.supports_binary) {\n",
       "        var warnings = document.getElementById('mpl-warnings');\n",
       "        if (warnings) {\n",
       "            warnings.style.display = 'block';\n",
       "            warnings.textContent =\n",
       "                'This browser does not support binary websocket messages. ' +\n",
       "                'Performance may be slow.';\n",
       "        }\n",
       "    }\n",
       "\n",
       "    this.imageObj = new Image();\n",
       "\n",
       "    this.context = undefined;\n",
       "    this.message = undefined;\n",
       "    this.canvas = undefined;\n",
       "    this.rubberband_canvas = undefined;\n",
       "    this.rubberband_context = undefined;\n",
       "    this.format_dropdown = undefined;\n",
       "\n",
       "    this.image_mode = 'full';\n",
       "\n",
       "    this.root = document.createElement('div');\n",
       "    this.root.setAttribute('style', 'display: inline-block');\n",
       "    this._root_extra_style(this.root);\n",
       "\n",
       "    parent_element.appendChild(this.root);\n",
       "\n",
       "    this._init_header(this);\n",
       "    this._init_canvas(this);\n",
       "    this._init_toolbar(this);\n",
       "\n",
       "    var fig = this;\n",
       "\n",
       "    this.waiting = false;\n",
       "\n",
       "    this.ws.onopen = function () {\n",
       "        fig.send_message('supports_binary', { value: fig.supports_binary });\n",
       "        fig.send_message('send_image_mode', {});\n",
       "        if (fig.ratio !== 1) {\n",
       "            fig.send_message('set_dpi_ratio', { dpi_ratio: fig.ratio });\n",
       "        }\n",
       "        fig.send_message('refresh', {});\n",
       "    };\n",
       "\n",
       "    this.imageObj.onload = function () {\n",
       "        if (fig.image_mode === 'full') {\n",
       "            // Full images could contain transparency (where diff images\n",
       "            // almost always do), so we need to clear the canvas so that\n",
       "            // there is no ghosting.\n",
       "            fig.context.clearRect(0, 0, fig.canvas.width, fig.canvas.height);\n",
       "        }\n",
       "        fig.context.drawImage(fig.imageObj, 0, 0);\n",
       "    };\n",
       "\n",
       "    this.imageObj.onunload = function () {\n",
       "        fig.ws.close();\n",
       "    };\n",
       "\n",
       "    this.ws.onmessage = this._make_on_message_function(this);\n",
       "\n",
       "    this.ondownload = ondownload;\n",
       "};\n",
       "\n",
       "mpl.figure.prototype._init_header = function () {\n",
       "    var titlebar = document.createElement('div');\n",
       "    titlebar.classList =\n",
       "        'ui-dialog-titlebar ui-widget-header ui-corner-all ui-helper-clearfix';\n",
       "    var titletext = document.createElement('div');\n",
       "    titletext.classList = 'ui-dialog-title';\n",
       "    titletext.setAttribute(\n",
       "        'style',\n",
       "        'width: 100%; text-align: center; padding: 3px;'\n",
       "    );\n",
       "    titlebar.appendChild(titletext);\n",
       "    this.root.appendChild(titlebar);\n",
       "    this.header = titletext;\n",
       "};\n",
       "\n",
       "mpl.figure.prototype._canvas_extra_style = function (_canvas_div) {};\n",
       "\n",
       "mpl.figure.prototype._root_extra_style = function (_canvas_div) {};\n",
       "\n",
       "mpl.figure.prototype._init_canvas = function () {\n",
       "    var fig = this;\n",
       "\n",
       "    var canvas_div = (this.canvas_div = document.createElement('div'));\n",
       "    canvas_div.setAttribute(\n",
       "        'style',\n",
       "        'border: 1px solid #ddd;' +\n",
       "            'box-sizing: content-box;' +\n",
       "            'clear: both;' +\n",
       "            'min-height: 1px;' +\n",
       "            'min-width: 1px;' +\n",
       "            'outline: 0;' +\n",
       "            'overflow: hidden;' +\n",
       "            'position: relative;' +\n",
       "            'resize: both;'\n",
       "    );\n",
       "\n",
       "    function on_keyboard_event_closure(name) {\n",
       "        return function (event) {\n",
       "            return fig.key_event(event, name);\n",
       "        };\n",
       "    }\n",
       "\n",
       "    canvas_div.addEventListener(\n",
       "        'keydown',\n",
       "        on_keyboard_event_closure('key_press')\n",
       "    );\n",
       "    canvas_div.addEventListener(\n",
       "        'keyup',\n",
       "        on_keyboard_event_closure('key_release')\n",
       "    );\n",
       "\n",
       "    this._canvas_extra_style(canvas_div);\n",
       "    this.root.appendChild(canvas_div);\n",
       "\n",
       "    var canvas = (this.canvas = document.createElement('canvas'));\n",
       "    canvas.classList.add('mpl-canvas');\n",
       "    canvas.setAttribute('style', 'box-sizing: content-box;');\n",
       "\n",
       "    this.context = canvas.getContext('2d');\n",
       "\n",
       "    var backingStore =\n",
       "        this.context.backingStorePixelRatio ||\n",
       "        this.context.webkitBackingStorePixelRatio ||\n",
       "        this.context.mozBackingStorePixelRatio ||\n",
       "        this.context.msBackingStorePixelRatio ||\n",
       "        this.context.oBackingStorePixelRatio ||\n",
       "        this.context.backingStorePixelRatio ||\n",
       "        1;\n",
       "\n",
       "    this.ratio = (window.devicePixelRatio || 1) / backingStore;\n",
       "    if (this.ratio !== 1) {\n",
       "        fig.send_message('set_dpi_ratio', { dpi_ratio: this.ratio });\n",
       "    }\n",
       "\n",
       "    var rubberband_canvas = (this.rubberband_canvas = document.createElement(\n",
       "        'canvas'\n",
       "    ));\n",
       "    rubberband_canvas.setAttribute(\n",
       "        'style',\n",
       "        'box-sizing: content-box; position: absolute; left: 0; top: 0; z-index: 1;'\n",
       "    );\n",
       "\n",
       "    var resizeObserver = new ResizeObserver(function (entries) {\n",
       "        var nentries = entries.length;\n",
       "        for (var i = 0; i < nentries; i++) {\n",
       "            var entry = entries[i];\n",
       "            var width, height;\n",
       "            if (entry.contentBoxSize) {\n",
       "                if (entry.contentBoxSize instanceof Array) {\n",
       "                    // Chrome 84 implements new version of spec.\n",
       "                    width = entry.contentBoxSize[0].inlineSize;\n",
       "                    height = entry.contentBoxSize[0].blockSize;\n",
       "                } else {\n",
       "                    // Firefox implements old version of spec.\n",
       "                    width = entry.contentBoxSize.inlineSize;\n",
       "                    height = entry.contentBoxSize.blockSize;\n",
       "                }\n",
       "            } else {\n",
       "                // Chrome <84 implements even older version of spec.\n",
       "                width = entry.contentRect.width;\n",
       "                height = entry.contentRect.height;\n",
       "            }\n",
       "\n",
       "            // Keep the size of the canvas and rubber band canvas in sync with\n",
       "            // the canvas container.\n",
       "            if (entry.devicePixelContentBoxSize) {\n",
       "                // Chrome 84 implements new version of spec.\n",
       "                canvas.setAttribute(\n",
       "                    'width',\n",
       "                    entry.devicePixelContentBoxSize[0].inlineSize\n",
       "                );\n",
       "                canvas.setAttribute(\n",
       "                    'height',\n",
       "                    entry.devicePixelContentBoxSize[0].blockSize\n",
       "                );\n",
       "            } else {\n",
       "                canvas.setAttribute('width', width * fig.ratio);\n",
       "                canvas.setAttribute('height', height * fig.ratio);\n",
       "            }\n",
       "            canvas.setAttribute(\n",
       "                'style',\n",
       "                'width: ' + width + 'px; height: ' + height + 'px;'\n",
       "            );\n",
       "\n",
       "            rubberband_canvas.setAttribute('width', width);\n",
       "            rubberband_canvas.setAttribute('height', height);\n",
       "\n",
       "            // And update the size in Python. We ignore the initial 0/0 size\n",
       "            // that occurs as the element is placed into the DOM, which should\n",
       "            // otherwise not happen due to the minimum size styling.\n",
       "            if (width != 0 && height != 0) {\n",
       "                fig.request_resize(width, height);\n",
       "            }\n",
       "        }\n",
       "    });\n",
       "    resizeObserver.observe(canvas_div);\n",
       "\n",
       "    function on_mouse_event_closure(name) {\n",
       "        return function (event) {\n",
       "            return fig.mouse_event(event, name);\n",
       "        };\n",
       "    }\n",
       "\n",
       "    rubberband_canvas.addEventListener(\n",
       "        'mousedown',\n",
       "        on_mouse_event_closure('button_press')\n",
       "    );\n",
       "    rubberband_canvas.addEventListener(\n",
       "        'mouseup',\n",
       "        on_mouse_event_closure('button_release')\n",
       "    );\n",
       "    // Throttle sequential mouse events to 1 every 20ms.\n",
       "    rubberband_canvas.addEventListener(\n",
       "        'mousemove',\n",
       "        on_mouse_event_closure('motion_notify')\n",
       "    );\n",
       "\n",
       "    rubberband_canvas.addEventListener(\n",
       "        'mouseenter',\n",
       "        on_mouse_event_closure('figure_enter')\n",
       "    );\n",
       "    rubberband_canvas.addEventListener(\n",
       "        'mouseleave',\n",
       "        on_mouse_event_closure('figure_leave')\n",
       "    );\n",
       "\n",
       "    canvas_div.addEventListener('wheel', function (event) {\n",
       "        if (event.deltaY < 0) {\n",
       "            event.step = 1;\n",
       "        } else {\n",
       "            event.step = -1;\n",
       "        }\n",
       "        on_mouse_event_closure('scroll')(event);\n",
       "    });\n",
       "\n",
       "    canvas_div.appendChild(canvas);\n",
       "    canvas_div.appendChild(rubberband_canvas);\n",
       "\n",
       "    this.rubberband_context = rubberband_canvas.getContext('2d');\n",
       "    this.rubberband_context.strokeStyle = '#000000';\n",
       "\n",
       "    this._resize_canvas = function (width, height, forward) {\n",
       "        if (forward) {\n",
       "            canvas_div.style.width = width + 'px';\n",
       "            canvas_div.style.height = height + 'px';\n",
       "        }\n",
       "    };\n",
       "\n",
       "    // Disable right mouse context menu.\n",
       "    this.rubberband_canvas.addEventListener('contextmenu', function (_e) {\n",
       "        event.preventDefault();\n",
       "        return false;\n",
       "    });\n",
       "\n",
       "    function set_focus() {\n",
       "        canvas.focus();\n",
       "        canvas_div.focus();\n",
       "    }\n",
       "\n",
       "    window.setTimeout(set_focus, 100);\n",
       "};\n",
       "\n",
       "mpl.figure.prototype._init_toolbar = function () {\n",
       "    var fig = this;\n",
       "\n",
       "    var toolbar = document.createElement('div');\n",
       "    toolbar.classList = 'mpl-toolbar';\n",
       "    this.root.appendChild(toolbar);\n",
       "\n",
       "    function on_click_closure(name) {\n",
       "        return function (_event) {\n",
       "            return fig.toolbar_button_onclick(name);\n",
       "        };\n",
       "    }\n",
       "\n",
       "    function on_mouseover_closure(tooltip) {\n",
       "        return function (event) {\n",
       "            if (!event.currentTarget.disabled) {\n",
       "                return fig.toolbar_button_onmouseover(tooltip);\n",
       "            }\n",
       "        };\n",
       "    }\n",
       "\n",
       "    fig.buttons = {};\n",
       "    var buttonGroup = document.createElement('div');\n",
       "    buttonGroup.classList = 'mpl-button-group';\n",
       "    for (var toolbar_ind in mpl.toolbar_items) {\n",
       "        var name = mpl.toolbar_items[toolbar_ind][0];\n",
       "        var tooltip = mpl.toolbar_items[toolbar_ind][1];\n",
       "        var image = mpl.toolbar_items[toolbar_ind][2];\n",
       "        var method_name = mpl.toolbar_items[toolbar_ind][3];\n",
       "\n",
       "        if (!name) {\n",
       "            /* Instead of a spacer, we start a new button group. */\n",
       "            if (buttonGroup.hasChildNodes()) {\n",
       "                toolbar.appendChild(buttonGroup);\n",
       "            }\n",
       "            buttonGroup = document.createElement('div');\n",
       "            buttonGroup.classList = 'mpl-button-group';\n",
       "            continue;\n",
       "        }\n",
       "\n",
       "        var button = (fig.buttons[name] = document.createElement('button'));\n",
       "        button.classList = 'mpl-widget';\n",
       "        button.setAttribute('role', 'button');\n",
       "        button.setAttribute('aria-disabled', 'false');\n",
       "        button.addEventListener('click', on_click_closure(method_name));\n",
       "        button.addEventListener('mouseover', on_mouseover_closure(tooltip));\n",
       "\n",
       "        var icon_img = document.createElement('img');\n",
       "        icon_img.src = '_images/' + image + '.png';\n",
       "        icon_img.srcset = '_images/' + image + '_large.png 2x';\n",
       "        icon_img.alt = tooltip;\n",
       "        button.appendChild(icon_img);\n",
       "\n",
       "        buttonGroup.appendChild(button);\n",
       "    }\n",
       "\n",
       "    if (buttonGroup.hasChildNodes()) {\n",
       "        toolbar.appendChild(buttonGroup);\n",
       "    }\n",
       "\n",
       "    var fmt_picker = document.createElement('select');\n",
       "    fmt_picker.classList = 'mpl-widget';\n",
       "    toolbar.appendChild(fmt_picker);\n",
       "    this.format_dropdown = fmt_picker;\n",
       "\n",
       "    for (var ind in mpl.extensions) {\n",
       "        var fmt = mpl.extensions[ind];\n",
       "        var option = document.createElement('option');\n",
       "        option.selected = fmt === mpl.default_extension;\n",
       "        option.innerHTML = fmt;\n",
       "        fmt_picker.appendChild(option);\n",
       "    }\n",
       "\n",
       "    var status_bar = document.createElement('span');\n",
       "    status_bar.classList = 'mpl-message';\n",
       "    toolbar.appendChild(status_bar);\n",
       "    this.message = status_bar;\n",
       "};\n",
       "\n",
       "mpl.figure.prototype.request_resize = function (x_pixels, y_pixels) {\n",
       "    // Request matplotlib to resize the figure. Matplotlib will then trigger a resize in the client,\n",
       "    // which will in turn request a refresh of the image.\n",
       "    this.send_message('resize', { width: x_pixels, height: y_pixels });\n",
       "};\n",
       "\n",
       "mpl.figure.prototype.send_message = function (type, properties) {\n",
       "    properties['type'] = type;\n",
       "    properties['figure_id'] = this.id;\n",
       "    this.ws.send(JSON.stringify(properties));\n",
       "};\n",
       "\n",
       "mpl.figure.prototype.send_draw_message = function () {\n",
       "    if (!this.waiting) {\n",
       "        this.waiting = true;\n",
       "        this.ws.send(JSON.stringify({ type: 'draw', figure_id: this.id }));\n",
       "    }\n",
       "};\n",
       "\n",
       "mpl.figure.prototype.handle_save = function (fig, _msg) {\n",
       "    var format_dropdown = fig.format_dropdown;\n",
       "    var format = format_dropdown.options[format_dropdown.selectedIndex].value;\n",
       "    fig.ondownload(fig, format);\n",
       "};\n",
       "\n",
       "mpl.figure.prototype.handle_resize = function (fig, msg) {\n",
       "    var size = msg['size'];\n",
       "    if (size[0] !== fig.canvas.width || size[1] !== fig.canvas.height) {\n",
       "        fig._resize_canvas(size[0], size[1], msg['forward']);\n",
       "        fig.send_message('refresh', {});\n",
       "    }\n",
       "};\n",
       "\n",
       "mpl.figure.prototype.handle_rubberband = function (fig, msg) {\n",
       "    var x0 = msg['x0'] / fig.ratio;\n",
       "    var y0 = (fig.canvas.height - msg['y0']) / fig.ratio;\n",
       "    var x1 = msg['x1'] / fig.ratio;\n",
       "    var y1 = (fig.canvas.height - msg['y1']) / fig.ratio;\n",
       "    x0 = Math.floor(x0) + 0.5;\n",
       "    y0 = Math.floor(y0) + 0.5;\n",
       "    x1 = Math.floor(x1) + 0.5;\n",
       "    y1 = Math.floor(y1) + 0.5;\n",
       "    var min_x = Math.min(x0, x1);\n",
       "    var min_y = Math.min(y0, y1);\n",
       "    var width = Math.abs(x1 - x0);\n",
       "    var height = Math.abs(y1 - y0);\n",
       "\n",
       "    fig.rubberband_context.clearRect(\n",
       "        0,\n",
       "        0,\n",
       "        fig.canvas.width / fig.ratio,\n",
       "        fig.canvas.height / fig.ratio\n",
       "    );\n",
       "\n",
       "    fig.rubberband_context.strokeRect(min_x, min_y, width, height);\n",
       "};\n",
       "\n",
       "mpl.figure.prototype.handle_figure_label = function (fig, msg) {\n",
       "    // Updates the figure title.\n",
       "    fig.header.textContent = msg['label'];\n",
       "};\n",
       "\n",
       "mpl.figure.prototype.handle_cursor = function (fig, msg) {\n",
       "    var cursor = msg['cursor'];\n",
       "    switch (cursor) {\n",
       "        case 0:\n",
       "            cursor = 'pointer';\n",
       "            break;\n",
       "        case 1:\n",
       "            cursor = 'default';\n",
       "            break;\n",
       "        case 2:\n",
       "            cursor = 'crosshair';\n",
       "            break;\n",
       "        case 3:\n",
       "            cursor = 'move';\n",
       "            break;\n",
       "    }\n",
       "    fig.rubberband_canvas.style.cursor = cursor;\n",
       "};\n",
       "\n",
       "mpl.figure.prototype.handle_message = function (fig, msg) {\n",
       "    fig.message.textContent = msg['message'];\n",
       "};\n",
       "\n",
       "mpl.figure.prototype.handle_draw = function (fig, _msg) {\n",
       "    // Request the server to send over a new figure.\n",
       "    fig.send_draw_message();\n",
       "};\n",
       "\n",
       "mpl.figure.prototype.handle_image_mode = function (fig, msg) {\n",
       "    fig.image_mode = msg['mode'];\n",
       "};\n",
       "\n",
       "mpl.figure.prototype.handle_history_buttons = function (fig, msg) {\n",
       "    for (var key in msg) {\n",
       "        if (!(key in fig.buttons)) {\n",
       "            continue;\n",
       "        }\n",
       "        fig.buttons[key].disabled = !msg[key];\n",
       "        fig.buttons[key].setAttribute('aria-disabled', !msg[key]);\n",
       "    }\n",
       "};\n",
       "\n",
       "mpl.figure.prototype.handle_navigate_mode = function (fig, msg) {\n",
       "    if (msg['mode'] === 'PAN') {\n",
       "        fig.buttons['Pan'].classList.add('active');\n",
       "        fig.buttons['Zoom'].classList.remove('active');\n",
       "    } else if (msg['mode'] === 'ZOOM') {\n",
       "        fig.buttons['Pan'].classList.remove('active');\n",
       "        fig.buttons['Zoom'].classList.add('active');\n",
       "    } else {\n",
       "        fig.buttons['Pan'].classList.remove('active');\n",
       "        fig.buttons['Zoom'].classList.remove('active');\n",
       "    }\n",
       "};\n",
       "\n",
       "mpl.figure.prototype.updated_canvas_event = function () {\n",
       "    // Called whenever the canvas gets updated.\n",
       "    this.send_message('ack', {});\n",
       "};\n",
       "\n",
       "// A function to construct a web socket function for onmessage handling.\n",
       "// Called in the figure constructor.\n",
       "mpl.figure.prototype._make_on_message_function = function (fig) {\n",
       "    return function socket_on_message(evt) {\n",
       "        if (evt.data instanceof Blob) {\n",
       "            /* FIXME: We get \"Resource interpreted as Image but\n",
       "             * transferred with MIME type text/plain:\" errors on\n",
       "             * Chrome.  But how to set the MIME type?  It doesn't seem\n",
       "             * to be part of the websocket stream */\n",
       "            evt.data.type = 'image/png';\n",
       "\n",
       "            /* Free the memory for the previous frames */\n",
       "            if (fig.imageObj.src) {\n",
       "                (window.URL || window.webkitURL).revokeObjectURL(\n",
       "                    fig.imageObj.src\n",
       "                );\n",
       "            }\n",
       "\n",
       "            fig.imageObj.src = (window.URL || window.webkitURL).createObjectURL(\n",
       "                evt.data\n",
       "            );\n",
       "            fig.updated_canvas_event();\n",
       "            fig.waiting = false;\n",
       "            return;\n",
       "        } else if (\n",
       "            typeof evt.data === 'string' &&\n",
       "            evt.data.slice(0, 21) === 'data:image/png;base64'\n",
       "        ) {\n",
       "            fig.imageObj.src = evt.data;\n",
       "            fig.updated_canvas_event();\n",
       "            fig.waiting = false;\n",
       "            return;\n",
       "        }\n",
       "\n",
       "        var msg = JSON.parse(evt.data);\n",
       "        var msg_type = msg['type'];\n",
       "\n",
       "        // Call the  \"handle_{type}\" callback, which takes\n",
       "        // the figure and JSON message as its only arguments.\n",
       "        try {\n",
       "            var callback = fig['handle_' + msg_type];\n",
       "        } catch (e) {\n",
       "            console.log(\n",
       "                \"No handler for the '\" + msg_type + \"' message type: \",\n",
       "                msg\n",
       "            );\n",
       "            return;\n",
       "        }\n",
       "\n",
       "        if (callback) {\n",
       "            try {\n",
       "                // console.log(\"Handling '\" + msg_type + \"' message: \", msg);\n",
       "                callback(fig, msg);\n",
       "            } catch (e) {\n",
       "                console.log(\n",
       "                    \"Exception inside the 'handler_\" + msg_type + \"' callback:\",\n",
       "                    e,\n",
       "                    e.stack,\n",
       "                    msg\n",
       "                );\n",
       "            }\n",
       "        }\n",
       "    };\n",
       "};\n",
       "\n",
       "// from http://stackoverflow.com/questions/1114465/getting-mouse-location-in-canvas\n",
       "mpl.findpos = function (e) {\n",
       "    //this section is from http://www.quirksmode.org/js/events_properties.html\n",
       "    var targ;\n",
       "    if (!e) {\n",
       "        e = window.event;\n",
       "    }\n",
       "    if (e.target) {\n",
       "        targ = e.target;\n",
       "    } else if (e.srcElement) {\n",
       "        targ = e.srcElement;\n",
       "    }\n",
       "    if (targ.nodeType === 3) {\n",
       "        // defeat Safari bug\n",
       "        targ = targ.parentNode;\n",
       "    }\n",
       "\n",
       "    // pageX,Y are the mouse positions relative to the document\n",
       "    var boundingRect = targ.getBoundingClientRect();\n",
       "    var x = e.pageX - (boundingRect.left + document.body.scrollLeft);\n",
       "    var y = e.pageY - (boundingRect.top + document.body.scrollTop);\n",
       "\n",
       "    return { x: x, y: y };\n",
       "};\n",
       "\n",
       "/*\n",
       " * return a copy of an object with only non-object keys\n",
       " * we need this to avoid circular references\n",
       " * http://stackoverflow.com/a/24161582/3208463\n",
       " */\n",
       "function simpleKeys(original) {\n",
       "    return Object.keys(original).reduce(function (obj, key) {\n",
       "        if (typeof original[key] !== 'object') {\n",
       "            obj[key] = original[key];\n",
       "        }\n",
       "        return obj;\n",
       "    }, {});\n",
       "}\n",
       "\n",
       "mpl.figure.prototype.mouse_event = function (event, name) {\n",
       "    var canvas_pos = mpl.findpos(event);\n",
       "\n",
       "    if (name === 'button_press') {\n",
       "        this.canvas.focus();\n",
       "        this.canvas_div.focus();\n",
       "    }\n",
       "\n",
       "    var x = canvas_pos.x * this.ratio;\n",
       "    var y = canvas_pos.y * this.ratio;\n",
       "\n",
       "    this.send_message(name, {\n",
       "        x: x,\n",
       "        y: y,\n",
       "        button: event.button,\n",
       "        step: event.step,\n",
       "        guiEvent: simpleKeys(event),\n",
       "    });\n",
       "\n",
       "    /* This prevents the web browser from automatically changing to\n",
       "     * the text insertion cursor when the button is pressed.  We want\n",
       "     * to control all of the cursor setting manually through the\n",
       "     * 'cursor' event from matplotlib */\n",
       "    event.preventDefault();\n",
       "    return false;\n",
       "};\n",
       "\n",
       "mpl.figure.prototype._key_event_extra = function (_event, _name) {\n",
       "    // Handle any extra behaviour associated with a key event\n",
       "};\n",
       "\n",
       "mpl.figure.prototype.key_event = function (event, name) {\n",
       "    // Prevent repeat events\n",
       "    if (name === 'key_press') {\n",
       "        if (event.which === this._key) {\n",
       "            return;\n",
       "        } else {\n",
       "            this._key = event.which;\n",
       "        }\n",
       "    }\n",
       "    if (name === 'key_release') {\n",
       "        this._key = null;\n",
       "    }\n",
       "\n",
       "    var value = '';\n",
       "    if (event.ctrlKey && event.which !== 17) {\n",
       "        value += 'ctrl+';\n",
       "    }\n",
       "    if (event.altKey && event.which !== 18) {\n",
       "        value += 'alt+';\n",
       "    }\n",
       "    if (event.shiftKey && event.which !== 16) {\n",
       "        value += 'shift+';\n",
       "    }\n",
       "\n",
       "    value += 'k';\n",
       "    value += event.which.toString();\n",
       "\n",
       "    this._key_event_extra(event, name);\n",
       "\n",
       "    this.send_message(name, { key: value, guiEvent: simpleKeys(event) });\n",
       "    return false;\n",
       "};\n",
       "\n",
       "mpl.figure.prototype.toolbar_button_onclick = function (name) {\n",
       "    if (name === 'download') {\n",
       "        this.handle_save(this, null);\n",
       "    } else {\n",
       "        this.send_message('toolbar_button', { name: name });\n",
       "    }\n",
       "};\n",
       "\n",
       "mpl.figure.prototype.toolbar_button_onmouseover = function (tooltip) {\n",
       "    this.message.textContent = tooltip;\n",
       "};\n",
       "mpl.toolbar_items = [[\"Home\", \"Reset original view\", \"fa fa-home icon-home\", \"home\"], [\"Back\", \"Back to previous view\", \"fa fa-arrow-left icon-arrow-left\", \"back\"], [\"Forward\", \"Forward to next view\", \"fa fa-arrow-right icon-arrow-right\", \"forward\"], [\"\", \"\", \"\", \"\"], [\"Pan\", \"Left button pans, Right button zooms\\nx/y fixes axis, CTRL fixes aspect\", \"fa fa-arrows icon-move\", \"pan\"], [\"Zoom\", \"Zoom to rectangle\\nx/y fixes axis, CTRL fixes aspect\", \"fa fa-square-o icon-check-empty\", \"zoom\"], [\"\", \"\", \"\", \"\"], [\"Download\", \"Download plot\", \"fa fa-floppy-o icon-save\", \"download\"]];\n",
       "\n",
       "mpl.extensions = [\"eps\", \"jpeg\", \"pdf\", \"png\", \"ps\", \"raw\", \"svg\", \"tif\"];\n",
       "\n",
       "mpl.default_extension = \"png\";/* global mpl */\n",
       "\n",
       "var comm_websocket_adapter = function (comm) {\n",
       "    // Create a \"websocket\"-like object which calls the given IPython comm\n",
       "    // object with the appropriate methods. Currently this is a non binary\n",
       "    // socket, so there is still some room for performance tuning.\n",
       "    var ws = {};\n",
       "\n",
       "    ws.close = function () {\n",
       "        comm.close();\n",
       "    };\n",
       "    ws.send = function (m) {\n",
       "        //console.log('sending', m);\n",
       "        comm.send(m);\n",
       "    };\n",
       "    // Register the callback with on_msg.\n",
       "    comm.on_msg(function (msg) {\n",
       "        //console.log('receiving', msg['content']['data'], msg);\n",
       "        // Pass the mpl event to the overridden (by mpl) onmessage function.\n",
       "        ws.onmessage(msg['content']['data']);\n",
       "    });\n",
       "    return ws;\n",
       "};\n",
       "\n",
       "mpl.mpl_figure_comm = function (comm, msg) {\n",
       "    // This is the function which gets called when the mpl process\n",
       "    // starts-up an IPython Comm through the \"matplotlib\" channel.\n",
       "\n",
       "    var id = msg.content.data.id;\n",
       "    // Get hold of the div created by the display call when the Comm\n",
       "    // socket was opened in Python.\n",
       "    var element = document.getElementById(id);\n",
       "    var ws_proxy = comm_websocket_adapter(comm);\n",
       "\n",
       "    function ondownload(figure, _format) {\n",
       "        window.open(figure.canvas.toDataURL());\n",
       "    }\n",
       "\n",
       "    var fig = new mpl.figure(id, ws_proxy, ondownload, element);\n",
       "\n",
       "    // Call onopen now - mpl needs it, as it is assuming we've passed it a real\n",
       "    // web socket which is closed, not our websocket->open comm proxy.\n",
       "    ws_proxy.onopen();\n",
       "\n",
       "    fig.parent_element = element;\n",
       "    fig.cell_info = mpl.find_output_cell(\"<div id='\" + id + \"'></div>\");\n",
       "    if (!fig.cell_info) {\n",
       "        console.error('Failed to find cell for figure', id, fig);\n",
       "        return;\n",
       "    }\n",
       "    fig.cell_info[0].output_area.element.one(\n",
       "        'cleared',\n",
       "        { fig: fig },\n",
       "        fig._remove_fig_handler\n",
       "    );\n",
       "};\n",
       "\n",
       "mpl.figure.prototype.handle_close = function (fig, msg) {\n",
       "    var width = fig.canvas.width / fig.ratio;\n",
       "    fig.cell_info[0].output_area.element.off(\n",
       "        'cleared',\n",
       "        fig._remove_fig_handler\n",
       "    );\n",
       "\n",
       "    // Update the output cell to use the data from the current canvas.\n",
       "    fig.push_to_output();\n",
       "    var dataURL = fig.canvas.toDataURL();\n",
       "    // Re-enable the keyboard manager in IPython - without this line, in FF,\n",
       "    // the notebook keyboard shortcuts fail.\n",
       "    IPython.keyboard_manager.enable();\n",
       "    fig.parent_element.innerHTML =\n",
       "        '<img src=\"' + dataURL + '\" width=\"' + width + '\">';\n",
       "    fig.close_ws(fig, msg);\n",
       "};\n",
       "\n",
       "mpl.figure.prototype.close_ws = function (fig, msg) {\n",
       "    fig.send_message('closing', msg);\n",
       "    // fig.ws.close()\n",
       "};\n",
       "\n",
       "mpl.figure.prototype.push_to_output = function (_remove_interactive) {\n",
       "    // Turn the data on the canvas into data in the output cell.\n",
       "    var width = this.canvas.width / this.ratio;\n",
       "    var dataURL = this.canvas.toDataURL();\n",
       "    this.cell_info[1]['text/html'] =\n",
       "        '<img src=\"' + dataURL + '\" width=\"' + width + '\">';\n",
       "};\n",
       "\n",
       "mpl.figure.prototype.updated_canvas_event = function () {\n",
       "    // Tell IPython that the notebook contents must change.\n",
       "    IPython.notebook.set_dirty(true);\n",
       "    this.send_message('ack', {});\n",
       "    var fig = this;\n",
       "    // Wait a second, then push the new image to the DOM so\n",
       "    // that it is saved nicely (might be nice to debounce this).\n",
       "    setTimeout(function () {\n",
       "        fig.push_to_output();\n",
       "    }, 1000);\n",
       "};\n",
       "\n",
       "mpl.figure.prototype._init_toolbar = function () {\n",
       "    var fig = this;\n",
       "\n",
       "    var toolbar = document.createElement('div');\n",
       "    toolbar.classList = 'btn-toolbar';\n",
       "    this.root.appendChild(toolbar);\n",
       "\n",
       "    function on_click_closure(name) {\n",
       "        return function (_event) {\n",
       "            return fig.toolbar_button_onclick(name);\n",
       "        };\n",
       "    }\n",
       "\n",
       "    function on_mouseover_closure(tooltip) {\n",
       "        return function (event) {\n",
       "            if (!event.currentTarget.disabled) {\n",
       "                return fig.toolbar_button_onmouseover(tooltip);\n",
       "            }\n",
       "        };\n",
       "    }\n",
       "\n",
       "    fig.buttons = {};\n",
       "    var buttonGroup = document.createElement('div');\n",
       "    buttonGroup.classList = 'btn-group';\n",
       "    var button;\n",
       "    for (var toolbar_ind in mpl.toolbar_items) {\n",
       "        var name = mpl.toolbar_items[toolbar_ind][0];\n",
       "        var tooltip = mpl.toolbar_items[toolbar_ind][1];\n",
       "        var image = mpl.toolbar_items[toolbar_ind][2];\n",
       "        var method_name = mpl.toolbar_items[toolbar_ind][3];\n",
       "\n",
       "        if (!name) {\n",
       "            /* Instead of a spacer, we start a new button group. */\n",
       "            if (buttonGroup.hasChildNodes()) {\n",
       "                toolbar.appendChild(buttonGroup);\n",
       "            }\n",
       "            buttonGroup = document.createElement('div');\n",
       "            buttonGroup.classList = 'btn-group';\n",
       "            continue;\n",
       "        }\n",
       "\n",
       "        button = fig.buttons[name] = document.createElement('button');\n",
       "        button.classList = 'btn btn-default';\n",
       "        button.href = '#';\n",
       "        button.title = name;\n",
       "        button.innerHTML = '<i class=\"fa ' + image + ' fa-lg\"></i>';\n",
       "        button.addEventListener('click', on_click_closure(method_name));\n",
       "        button.addEventListener('mouseover', on_mouseover_closure(tooltip));\n",
       "        buttonGroup.appendChild(button);\n",
       "    }\n",
       "\n",
       "    if (buttonGroup.hasChildNodes()) {\n",
       "        toolbar.appendChild(buttonGroup);\n",
       "    }\n",
       "\n",
       "    // Add the status bar.\n",
       "    var status_bar = document.createElement('span');\n",
       "    status_bar.classList = 'mpl-message pull-right';\n",
       "    toolbar.appendChild(status_bar);\n",
       "    this.message = status_bar;\n",
       "\n",
       "    // Add the close button to the window.\n",
       "    var buttongrp = document.createElement('div');\n",
       "    buttongrp.classList = 'btn-group inline pull-right';\n",
       "    button = document.createElement('button');\n",
       "    button.classList = 'btn btn-mini btn-primary';\n",
       "    button.href = '#';\n",
       "    button.title = 'Stop Interaction';\n",
       "    button.innerHTML = '<i class=\"fa fa-power-off icon-remove icon-large\"></i>';\n",
       "    button.addEventListener('click', function (_evt) {\n",
       "        fig.handle_close(fig, {});\n",
       "    });\n",
       "    button.addEventListener(\n",
       "        'mouseover',\n",
       "        on_mouseover_closure('Stop Interaction')\n",
       "    );\n",
       "    buttongrp.appendChild(button);\n",
       "    var titlebar = this.root.querySelector('.ui-dialog-titlebar');\n",
       "    titlebar.insertBefore(buttongrp, titlebar.firstChild);\n",
       "};\n",
       "\n",
       "mpl.figure.prototype._remove_fig_handler = function (event) {\n",
       "    var fig = event.data.fig;\n",
       "    fig.close_ws(fig, {});\n",
       "};\n",
       "\n",
       "mpl.figure.prototype._root_extra_style = function (el) {\n",
       "    el.style.boxSizing = 'content-box'; // override notebook setting of border-box.\n",
       "};\n",
       "\n",
       "mpl.figure.prototype._canvas_extra_style = function (el) {\n",
       "    // this is important to make the div 'focusable\n",
       "    el.setAttribute('tabindex', 0);\n",
       "    // reach out to IPython and tell the keyboard manager to turn it's self\n",
       "    // off when our div gets focus\n",
       "\n",
       "    // location in version 3\n",
       "    if (IPython.notebook.keyboard_manager) {\n",
       "        IPython.notebook.keyboard_manager.register_events(el);\n",
       "    } else {\n",
       "        // location in version 2\n",
       "        IPython.keyboard_manager.register_events(el);\n",
       "    }\n",
       "};\n",
       "\n",
       "mpl.figure.prototype._key_event_extra = function (event, _name) {\n",
       "    var manager = IPython.notebook.keyboard_manager;\n",
       "    if (!manager) {\n",
       "        manager = IPython.keyboard_manager;\n",
       "    }\n",
       "\n",
       "    // Check for shift+enter\n",
       "    if (event.shiftKey && event.which === 13) {\n",
       "        this.canvas_div.blur();\n",
       "        // select the cell after this one\n",
       "        var index = IPython.notebook.find_cell_index(this.cell_info[0]);\n",
       "        IPython.notebook.select(index + 1);\n",
       "    }\n",
       "};\n",
       "\n",
       "mpl.figure.prototype.handle_save = function (fig, _msg) {\n",
       "    fig.ondownload(fig, null);\n",
       "};\n",
       "\n",
       "mpl.find_output_cell = function (html_output) {\n",
       "    // Return the cell and output element which can be found *uniquely* in the notebook.\n",
       "    // Note - this is a bit hacky, but it is done because the \"notebook_saving.Notebook\"\n",
       "    // IPython event is triggered only after the cells have been serialised, which for\n",
       "    // our purposes (turning an active figure into a static one), is too late.\n",
       "    var cells = IPython.notebook.get_cells();\n",
       "    var ncells = cells.length;\n",
       "    for (var i = 0; i < ncells; i++) {\n",
       "        var cell = cells[i];\n",
       "        if (cell.cell_type === 'code') {\n",
       "            for (var j = 0; j < cell.output_area.outputs.length; j++) {\n",
       "                var data = cell.output_area.outputs[j];\n",
       "                if (data.data) {\n",
       "                    // IPython >= 3 moved mimebundle to data attribute of output\n",
       "                    data = data.data;\n",
       "                }\n",
       "                if (data['text/html'] === html_output) {\n",
       "                    return [cell, data, j];\n",
       "                }\n",
       "            }\n",
       "        }\n",
       "    }\n",
       "};\n",
       "\n",
       "// Register the function which deals with the matplotlib target/channel.\n",
       "// The kernel may be null if the page has been refreshed.\n",
       "if (IPython.notebook.kernel !== null) {\n",
       "    IPython.notebook.kernel.comm_manager.register_target(\n",
       "        'matplotlib',\n",
       "        mpl.mpl_figure_comm\n",
       "    );\n",
       "}\n"
      ],
      "text/plain": [
       "<IPython.core.display.Javascript object>"
      ]
     },
     "metadata": {},
     "output_type": "display_data"
    },
    {
     "data": {
      "text/html": [
       "<img src=\"data:image/png;base64,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\" width=\"500\">"
      ],
      "text/plain": [
       "<IPython.core.display.HTML object>"
      ]
     },
     "metadata": {},
     "output_type": "display_data"
    },
    {
     "name": "stdout",
     "output_type": "stream",
     "text": [
      "Starting stress = 2.9710093947291534 Processing...\n",
      "Solution stress = 0.05905212386041606 Done.\n"
     ]
    }
   ],
   "source": [
    "inverse = create_inverse_button()"
   ]
  },
  {
   "cell_type": "code",
   "execution_count": 21,
   "metadata": {},
   "outputs": [
    {
     "name": "stdout",
     "output_type": "stream",
     "text": [
      "rm: ./testTrainingData/.DS_Store: No such file or directory\r\n"
     ]
    }
   ],
   "source": [
    "! rm ./testTrainingData/.DS_Store"
   ]
  },
  {
   "cell_type": "code",
   "execution_count": null,
   "metadata": {},
   "outputs": [],
   "source": []
  },
  {
   "cell_type": "code",
   "execution_count": null,
   "metadata": {},
   "outputs": [],
   "source": []
  }
 ],
 "metadata": {
  "kernelspec": {
   "display_name": "Python 3",
   "language": "python",
   "name": "python3"
  },
  "language_info": {
   "codemirror_mode": {
    "name": "ipython",
    "version": 3
   },
   "file_extension": ".py",
   "mimetype": "text/x-python",
   "name": "python",
   "nbconvert_exporter": "python",
   "pygments_lexer": "ipython3",
   "version": "3.7.9"
  }
 },
 "nbformat": 4,
 "nbformat_minor": 1
}
